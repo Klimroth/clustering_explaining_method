{
 "cells": [
  {
   "cell_type": "code",
   "execution_count": 1,
   "metadata": {},
   "outputs": [],
   "source": [
    "from data_preparation import DataPreparator\n",
    "from apply_clustering import ClusteringApplier"
   ]
  },
  {
   "cell_type": "code",
   "execution_count": 2,
   "metadata": {},
   "outputs": [],
   "source": [
    "import os.path\n",
    "from itertools import chain, combinations\n",
    "from typing import Dict, List, Tuple, Iterable, Any\n",
    "\n",
    "import numpy as np\n",
    "import pandas as pd\n",
    "from gapstatistics.gapstatistics import GapStatistics\n",
    "from clustering import AgglomerativeClusteringWrapper as AgglomerativeClustering\n",
    "import matplotlib.pyplot as plt\n",
    "import scipy.cluster.hierarchy as sch\n",
    "from scipy.cluster.hierarchy import dendrogram, linkage\n",
    "from scipy.spatial.distance import squareform\n",
    "from scipy.spatial.distance import jensenshannon, correlation, euclidean\n",
    "from tqdm.contrib.concurrent import thread_map\n",
    "import seaborn as sns\n",
    "\n",
    "import config"
   ]
  },
  {
   "cell_type": "code",
   "execution_count": 3,
   "metadata": {},
   "outputs": [],
   "source": [
    "import torch\n",
    "from torch.distributions import kl_divergence\n",
    "from torch.distributions.uniform import Uniform\n",
    "from torch.distributions.beta import Beta\n",
    "from torch.distributions.dirichlet import Dirichlet\n",
    "from ParameterizedModel.parameterized_model import Paremeterized_Model\n",
    "from ParameterizedModel.utils.distribution_helpers import mean_std_to_beta_params\n",
    "\n",
    "from ParameterizedModel.training import Trainer"
   ]
  },
  {
   "cell_type": "code",
   "execution_count": 4,
   "metadata": {},
   "outputs": [],
   "source": [
    "from gradient_solver import construct_distance_matrix"
   ]
  },
  {
   "cell_type": "code",
   "execution_count": 5,
   "metadata": {},
   "outputs": [],
   "source": [
    "import timeit"
   ]
  },
  {
   "cell_type": "code",
   "execution_count": 6,
   "metadata": {},
   "outputs": [],
   "source": [
    "import torch\n",
    "from torch.utils.data import Dataset, DataLoader, TensorDataset"
   ]
  },
  {
   "cell_type": "code",
   "execution_count": 7,
   "metadata": {},
   "outputs": [],
   "source": [
    "from scipy.spatial.distance import correlation"
   ]
  },
  {
   "cell_type": "code",
   "execution_count": 8,
   "metadata": {},
   "outputs": [],
   "source": [
    "from gradient_solver import *"
   ]
  },
  {
   "cell_type": "code",
   "execution_count": 9,
   "metadata": {},
   "outputs": [
    {
     "data": {
      "text/plain": [
       "'df_explainable: pd.DataFrame = ClusteringApplier.read_explaining_features()\\ndf_observable_distances: pd.DataFrame = pd.read_excel(\\n    f\"{config.OUTPUT_FOLDER_BASE}observables/{config.DATASET_NAME}-distance-normalized-matrix-{config.DISTANCE_MEASURE_FINGERPRINT}-{config.NUMBER_OBSERVABLE_PATTERNS}.xlsx\",\\n    index_col=0\\n)\\nfeatures: List[str] = list(config.EXPLAINING_FEATURE_NAMES.keys())\\n\\n# Ensure that both datasets contain the same indices\\nvalid_indices = np.intersect1d(df_explainable.index, df_observable_distances.index)\\ndf_explainable = df_explainable.loc[valid_indices]\\ndf_observable_distances = df_observable_distances.loc[valid_indices]'"
      ]
     },
     "execution_count": 9,
     "metadata": {},
     "output_type": "execute_result"
    }
   ],
   "source": [
    "'''df_explainable: pd.DataFrame = ClusteringApplier.read_explaining_features()\n",
    "df_observable_distances: pd.DataFrame = pd.read_excel(\n",
    "    f\"{config.OUTPUT_FOLDER_BASE}observables/{config.DATASET_NAME}-distance-normalized-matrix-{config.DISTANCE_MEASURE_FINGERPRINT}-{config.NUMBER_OBSERVABLE_PATTERNS}.xlsx\",\n",
    "    index_col=0\n",
    ")\n",
    "features: List[str] = list(config.EXPLAINING_FEATURE_NAMES.keys())\n",
    "\n",
    "# Ensure that both datasets contain the same indices\n",
    "valid_indices = np.intersect1d(df_explainable.index, df_observable_distances.index)\n",
    "df_explainable = df_explainable.loc[valid_indices]\n",
    "df_observable_distances = df_observable_distances.loc[valid_indices]'''"
   ]
  },
  {
   "cell_type": "code",
   "execution_count": 10,
   "metadata": {},
   "outputs": [],
   "source": [
    "##################\n",
    "# Synthetic Data #\n",
    "##################\n",
    "individuals = 100\n",
    "base_size = 10000\n",
    "\n",
    "#observation_data = np.random.normal(loc=0, scale=1, size=(base_size, 6))\n",
    "'''explanation_data = np.random.uniform(0,1, size=(individuals, 11))\n",
    "df_explainable = pd.DataFrame(explanation_data)\n",
    "df_explainable.loc[:, 'Individual'] = [f'Individual_{i}' for i in df_explainable.index]\n",
    "df_explainable.set_index('Individual', inplace=True)'''\n",
    "\n",
    "df_explainable = pd.DataFrame({\n",
    "    'Age': np.random.choice([0., 0.5, 1.], individuals),\n",
    "    'Weight': np.random.uniform(0,1, size=individuals),\n",
    "    'Is_a_Zebra': np.random.choice([0., 1.], individuals),\n",
    "    'Loves_to_sleep': np.random.uniform(0,1, size=individuals),\n",
    "    'Noise_1': np.random.uniform(0,1, size=individuals),\n",
    "    'Noise_2': np.random.uniform(0,1, size=individuals),\n",
    "    'Noise_3': np.random.uniform(0,1, size=individuals),\n",
    "    'Noise_4': np.random.uniform(0,1, size=individuals),\n",
    "    'Noise_5': np.random.uniform(0,1, size=individuals),\n",
    "    'Individual': [f'Individual_{n}' for n in range(individuals)]\n",
    "})\n",
    "df_explainable.set_index('Individual', inplace=True)\n",
    "\n",
    "explaining_features = np.array(list(df_explainable.columns))\n",
    "individual_array = np.random.choice(df_explainable.index.unique(), size=base_size)\n",
    "\n",
    "df_observable = pd.DataFrame({\n",
    "    'Individual': individual_array,\n",
    "})\n",
    "df_observable.loc[:, 'unexplainable_1'] = np.random.uniform(0,1, size=base_size)\n",
    "df_observable.loc[:, 'unexplainable_2'] = np.random.uniform(0,1, size=base_size)\n",
    "df_observable.loc[:, 'unexplainable_3'] = np.random.uniform(0,1, size=base_size)\n",
    "df_observable.loc[:, 'unexplainable_4'] = np.random.normal(0,1, size=base_size)\n",
    "\n",
    "df_observable.loc[:, 'if_zebra_then_age'] = (df_explainable.loc[individual_array, 'Is_a_Zebra'].values > 0.5) * df_explainable.loc[individual_array, 'Age'].values + (df_explainable.loc[individual_array, 'Is_a_Zebra'].values <= 0.5) * np.random.uniform(0,1, size=base_size)\n",
    "df_observable.loc[:, 'explained_by_loves_to_sleep'] = df_explainable.loc[individual_array, 'Loves_to_sleep'].values #df_explainable.loc[individual_array, [1,2,3]].mean(axis=1).values #req_1 * df_explainable.loc[individual_array, 2].values + (1-req_1) * df_explainable.loc[individual_array, 3].values\n",
    "df_observable.loc[:, 'Age_plus_Weight'] = df_explainable.loc[individual_array, 'Age'].values + df_explainable.loc[individual_array, 'Weight'].values\n",
    "\n",
    "df_observable.set_index('Individual', inplace=True)\n",
    "observed_features = list(df_observable.columns)\n",
    "\n",
    "df_observable = df_observable.apply(lambda x: (x - x.min()) / (x.max() - x.min()), axis=0)\n",
    "df_explainable = df_explainable.apply(lambda x: (x - x.min()) / (x.max() - x.min()), axis=0)"
   ]
  },
  {
   "cell_type": "code",
   "execution_count": 11,
   "metadata": {},
   "outputs": [
    {
     "data": {
      "text/html": [
       "<div>\n",
       "<style scoped>\n",
       "    .dataframe tbody tr th:only-of-type {\n",
       "        vertical-align: middle;\n",
       "    }\n",
       "\n",
       "    .dataframe tbody tr th {\n",
       "        vertical-align: top;\n",
       "    }\n",
       "\n",
       "    .dataframe thead th {\n",
       "        text-align: right;\n",
       "    }\n",
       "</style>\n",
       "<table border=\"1\" class=\"dataframe\">\n",
       "  <thead>\n",
       "    <tr style=\"text-align: right;\">\n",
       "      <th></th>\n",
       "      <th>Age</th>\n",
       "      <th>Weight</th>\n",
       "      <th>Is_a_Zebra</th>\n",
       "      <th>Loves_to_sleep</th>\n",
       "      <th>Noise_1</th>\n",
       "      <th>Noise_2</th>\n",
       "      <th>Noise_3</th>\n",
       "      <th>Noise_4</th>\n",
       "      <th>Noise_5</th>\n",
       "    </tr>\n",
       "    <tr>\n",
       "      <th>Individual</th>\n",
       "      <th></th>\n",
       "      <th></th>\n",
       "      <th></th>\n",
       "      <th></th>\n",
       "      <th></th>\n",
       "      <th></th>\n",
       "      <th></th>\n",
       "      <th></th>\n",
       "      <th></th>\n",
       "    </tr>\n",
       "  </thead>\n",
       "  <tbody>\n",
       "    <tr>\n",
       "      <th>Individual_0</th>\n",
       "      <td>0.0</td>\n",
       "      <td>0.862607</td>\n",
       "      <td>1.0</td>\n",
       "      <td>0.309921</td>\n",
       "      <td>0.026879</td>\n",
       "      <td>0.349489</td>\n",
       "      <td>0.377348</td>\n",
       "      <td>0.435037</td>\n",
       "      <td>0.498799</td>\n",
       "    </tr>\n",
       "    <tr>\n",
       "      <th>Individual_1</th>\n",
       "      <td>0.5</td>\n",
       "      <td>0.455901</td>\n",
       "      <td>0.0</td>\n",
       "      <td>0.090293</td>\n",
       "      <td>0.389358</td>\n",
       "      <td>0.967276</td>\n",
       "      <td>0.265912</td>\n",
       "      <td>0.375317</td>\n",
       "      <td>0.619024</td>\n",
       "    </tr>\n",
       "    <tr>\n",
       "      <th>Individual_2</th>\n",
       "      <td>1.0</td>\n",
       "      <td>0.057032</td>\n",
       "      <td>0.0</td>\n",
       "      <td>0.664414</td>\n",
       "      <td>0.073556</td>\n",
       "      <td>0.084301</td>\n",
       "      <td>0.579305</td>\n",
       "      <td>0.256019</td>\n",
       "      <td>0.122493</td>\n",
       "    </tr>\n",
       "    <tr>\n",
       "      <th>Individual_3</th>\n",
       "      <td>1.0</td>\n",
       "      <td>0.240771</td>\n",
       "      <td>1.0</td>\n",
       "      <td>0.211332</td>\n",
       "      <td>0.872154</td>\n",
       "      <td>0.403657</td>\n",
       "      <td>0.678374</td>\n",
       "      <td>0.936378</td>\n",
       "      <td>1.000000</td>\n",
       "    </tr>\n",
       "    <tr>\n",
       "      <th>Individual_4</th>\n",
       "      <td>0.5</td>\n",
       "      <td>0.600955</td>\n",
       "      <td>1.0</td>\n",
       "      <td>0.185572</td>\n",
       "      <td>0.011670</td>\n",
       "      <td>0.220076</td>\n",
       "      <td>0.018904</td>\n",
       "      <td>0.894793</td>\n",
       "      <td>0.914377</td>\n",
       "    </tr>\n",
       "    <tr>\n",
       "      <th>...</th>\n",
       "      <td>...</td>\n",
       "      <td>...</td>\n",
       "      <td>...</td>\n",
       "      <td>...</td>\n",
       "      <td>...</td>\n",
       "      <td>...</td>\n",
       "      <td>...</td>\n",
       "      <td>...</td>\n",
       "      <td>...</td>\n",
       "    </tr>\n",
       "    <tr>\n",
       "      <th>Individual_95</th>\n",
       "      <td>0.5</td>\n",
       "      <td>0.193895</td>\n",
       "      <td>0.0</td>\n",
       "      <td>0.680704</td>\n",
       "      <td>0.849931</td>\n",
       "      <td>0.048811</td>\n",
       "      <td>0.825406</td>\n",
       "      <td>0.667898</td>\n",
       "      <td>0.266083</td>\n",
       "    </tr>\n",
       "    <tr>\n",
       "      <th>Individual_96</th>\n",
       "      <td>0.5</td>\n",
       "      <td>0.602769</td>\n",
       "      <td>1.0</td>\n",
       "      <td>0.973372</td>\n",
       "      <td>0.789262</td>\n",
       "      <td>0.002084</td>\n",
       "      <td>0.275103</td>\n",
       "      <td>0.996021</td>\n",
       "      <td>0.063230</td>\n",
       "    </tr>\n",
       "    <tr>\n",
       "      <th>Individual_97</th>\n",
       "      <td>1.0</td>\n",
       "      <td>0.048520</td>\n",
       "      <td>0.0</td>\n",
       "      <td>0.472297</td>\n",
       "      <td>0.847525</td>\n",
       "      <td>0.747274</td>\n",
       "      <td>1.000000</td>\n",
       "      <td>0.986034</td>\n",
       "      <td>0.350355</td>\n",
       "    </tr>\n",
       "    <tr>\n",
       "      <th>Individual_98</th>\n",
       "      <td>0.5</td>\n",
       "      <td>0.477316</td>\n",
       "      <td>1.0</td>\n",
       "      <td>0.103709</td>\n",
       "      <td>0.462076</td>\n",
       "      <td>0.614475</td>\n",
       "      <td>0.631174</td>\n",
       "      <td>0.721847</td>\n",
       "      <td>0.607577</td>\n",
       "    </tr>\n",
       "    <tr>\n",
       "      <th>Individual_99</th>\n",
       "      <td>1.0</td>\n",
       "      <td>0.550557</td>\n",
       "      <td>1.0</td>\n",
       "      <td>0.336758</td>\n",
       "      <td>0.904165</td>\n",
       "      <td>0.668751</td>\n",
       "      <td>0.745940</td>\n",
       "      <td>0.000000</td>\n",
       "      <td>0.032402</td>\n",
       "    </tr>\n",
       "  </tbody>\n",
       "</table>\n",
       "<p>100 rows × 9 columns</p>\n",
       "</div>"
      ],
      "text/plain": [
       "               Age    Weight  Is_a_Zebra  Loves_to_sleep   Noise_1   Noise_2  \\\n",
       "Individual                                                                     \n",
       "Individual_0   0.0  0.862607         1.0        0.309921  0.026879  0.349489   \n",
       "Individual_1   0.5  0.455901         0.0        0.090293  0.389358  0.967276   \n",
       "Individual_2   1.0  0.057032         0.0        0.664414  0.073556  0.084301   \n",
       "Individual_3   1.0  0.240771         1.0        0.211332  0.872154  0.403657   \n",
       "Individual_4   0.5  0.600955         1.0        0.185572  0.011670  0.220076   \n",
       "...            ...       ...         ...             ...       ...       ...   \n",
       "Individual_95  0.5  0.193895         0.0        0.680704  0.849931  0.048811   \n",
       "Individual_96  0.5  0.602769         1.0        0.973372  0.789262  0.002084   \n",
       "Individual_97  1.0  0.048520         0.0        0.472297  0.847525  0.747274   \n",
       "Individual_98  0.5  0.477316         1.0        0.103709  0.462076  0.614475   \n",
       "Individual_99  1.0  0.550557         1.0        0.336758  0.904165  0.668751   \n",
       "\n",
       "                Noise_3   Noise_4   Noise_5  \n",
       "Individual                                   \n",
       "Individual_0   0.377348  0.435037  0.498799  \n",
       "Individual_1   0.265912  0.375317  0.619024  \n",
       "Individual_2   0.579305  0.256019  0.122493  \n",
       "Individual_3   0.678374  0.936378  1.000000  \n",
       "Individual_4   0.018904  0.894793  0.914377  \n",
       "...                 ...       ...       ...  \n",
       "Individual_95  0.825406  0.667898  0.266083  \n",
       "Individual_96  0.275103  0.996021  0.063230  \n",
       "Individual_97  1.000000  0.986034  0.350355  \n",
       "Individual_98  0.631174  0.721847  0.607577  \n",
       "Individual_99  0.745940  0.000000  0.032402  \n",
       "\n",
       "[100 rows x 9 columns]"
      ]
     },
     "execution_count": 11,
     "metadata": {},
     "output_type": "execute_result"
    }
   ],
   "source": [
    "df_explainable"
   ]
  },
  {
   "cell_type": "code",
   "execution_count": 12,
   "metadata": {},
   "outputs": [
    {
     "data": {
      "text/html": [
       "<div>\n",
       "<style scoped>\n",
       "    .dataframe tbody tr th:only-of-type {\n",
       "        vertical-align: middle;\n",
       "    }\n",
       "\n",
       "    .dataframe tbody tr th {\n",
       "        vertical-align: top;\n",
       "    }\n",
       "\n",
       "    .dataframe thead th {\n",
       "        text-align: right;\n",
       "    }\n",
       "</style>\n",
       "<table border=\"1\" class=\"dataframe\">\n",
       "  <thead>\n",
       "    <tr style=\"text-align: right;\">\n",
       "      <th></th>\n",
       "      <th>unexplainable_1</th>\n",
       "      <th>unexplainable_2</th>\n",
       "      <th>unexplainable_3</th>\n",
       "      <th>unexplainable_4</th>\n",
       "      <th>if_zebra_then_age</th>\n",
       "      <th>explained_by_loves_to_sleep</th>\n",
       "      <th>Age_plus_Weight</th>\n",
       "    </tr>\n",
       "    <tr>\n",
       "      <th>Individual</th>\n",
       "      <th></th>\n",
       "      <th></th>\n",
       "      <th></th>\n",
       "      <th></th>\n",
       "      <th></th>\n",
       "      <th></th>\n",
       "      <th></th>\n",
       "    </tr>\n",
       "  </thead>\n",
       "  <tbody>\n",
       "    <tr>\n",
       "      <th>Individual_24</th>\n",
       "      <td>0.905743</td>\n",
       "      <td>0.657074</td>\n",
       "      <td>0.753884</td>\n",
       "      <td>0.445660</td>\n",
       "      <td>0.408251</td>\n",
       "      <td>0.327895</td>\n",
       "      <td>0.564027</td>\n",
       "    </tr>\n",
       "    <tr>\n",
       "      <th>Individual_79</th>\n",
       "      <td>0.484938</td>\n",
       "      <td>0.363313</td>\n",
       "      <td>0.115095</td>\n",
       "      <td>0.690902</td>\n",
       "      <td>0.825199</td>\n",
       "      <td>0.512086</td>\n",
       "      <td>0.359204</td>\n",
       "    </tr>\n",
       "    <tr>\n",
       "      <th>Individual_89</th>\n",
       "      <td>0.987130</td>\n",
       "      <td>0.236184</td>\n",
       "      <td>0.770778</td>\n",
       "      <td>0.681504</td>\n",
       "      <td>0.000000</td>\n",
       "      <td>0.344103</td>\n",
       "      <td>0.246940</td>\n",
       "    </tr>\n",
       "    <tr>\n",
       "      <th>Individual_95</th>\n",
       "      <td>0.298713</td>\n",
       "      <td>0.375146</td>\n",
       "      <td>0.657943</td>\n",
       "      <td>0.591804</td>\n",
       "      <td>0.480256</td>\n",
       "      <td>0.680704</td>\n",
       "      <td>0.352324</td>\n",
       "    </tr>\n",
       "    <tr>\n",
       "      <th>Individual_36</th>\n",
       "      <td>0.685765</td>\n",
       "      <td>0.392848</td>\n",
       "      <td>0.846071</td>\n",
       "      <td>0.500484</td>\n",
       "      <td>0.027468</td>\n",
       "      <td>0.593610</td>\n",
       "      <td>0.312673</td>\n",
       "    </tr>\n",
       "    <tr>\n",
       "      <th>...</th>\n",
       "      <td>...</td>\n",
       "      <td>...</td>\n",
       "      <td>...</td>\n",
       "      <td>...</td>\n",
       "      <td>...</td>\n",
       "      <td>...</td>\n",
       "      <td>...</td>\n",
       "    </tr>\n",
       "    <tr>\n",
       "      <th>Individual_75</th>\n",
       "      <td>0.032714</td>\n",
       "      <td>0.130879</td>\n",
       "      <td>0.178261</td>\n",
       "      <td>0.432664</td>\n",
       "      <td>0.738440</td>\n",
       "      <td>0.421109</td>\n",
       "      <td>0.833892</td>\n",
       "    </tr>\n",
       "    <tr>\n",
       "      <th>Individual_98</th>\n",
       "      <td>0.119667</td>\n",
       "      <td>0.049858</td>\n",
       "      <td>0.926673</td>\n",
       "      <td>0.302467</td>\n",
       "      <td>0.500000</td>\n",
       "      <td>0.103709</td>\n",
       "      <td>0.496050</td>\n",
       "    </tr>\n",
       "    <tr>\n",
       "      <th>Individual_69</th>\n",
       "      <td>0.062238</td>\n",
       "      <td>0.948845</td>\n",
       "      <td>0.333321</td>\n",
       "      <td>0.284065</td>\n",
       "      <td>0.582519</td>\n",
       "      <td>0.848974</td>\n",
       "      <td>0.145867</td>\n",
       "    </tr>\n",
       "    <tr>\n",
       "      <th>Individual_3</th>\n",
       "      <td>0.798905</td>\n",
       "      <td>0.044488</td>\n",
       "      <td>0.360640</td>\n",
       "      <td>0.355265</td>\n",
       "      <td>1.000000</td>\n",
       "      <td>0.211332</td>\n",
       "      <td>0.636547</td>\n",
       "    </tr>\n",
       "    <tr>\n",
       "      <th>Individual_72</th>\n",
       "      <td>0.852043</td>\n",
       "      <td>0.438133</td>\n",
       "      <td>0.905197</td>\n",
       "      <td>0.530400</td>\n",
       "      <td>0.323393</td>\n",
       "      <td>0.454150</td>\n",
       "      <td>0.329785</td>\n",
       "    </tr>\n",
       "  </tbody>\n",
       "</table>\n",
       "<p>10000 rows × 7 columns</p>\n",
       "</div>"
      ],
      "text/plain": [
       "               unexplainable_1  unexplainable_2  unexplainable_3  \\\n",
       "Individual                                                         \n",
       "Individual_24         0.905743         0.657074         0.753884   \n",
       "Individual_79         0.484938         0.363313         0.115095   \n",
       "Individual_89         0.987130         0.236184         0.770778   \n",
       "Individual_95         0.298713         0.375146         0.657943   \n",
       "Individual_36         0.685765         0.392848         0.846071   \n",
       "...                        ...              ...              ...   \n",
       "Individual_75         0.032714         0.130879         0.178261   \n",
       "Individual_98         0.119667         0.049858         0.926673   \n",
       "Individual_69         0.062238         0.948845         0.333321   \n",
       "Individual_3          0.798905         0.044488         0.360640   \n",
       "Individual_72         0.852043         0.438133         0.905197   \n",
       "\n",
       "               unexplainable_4  if_zebra_then_age  \\\n",
       "Individual                                          \n",
       "Individual_24         0.445660           0.408251   \n",
       "Individual_79         0.690902           0.825199   \n",
       "Individual_89         0.681504           0.000000   \n",
       "Individual_95         0.591804           0.480256   \n",
       "Individual_36         0.500484           0.027468   \n",
       "...                        ...                ...   \n",
       "Individual_75         0.432664           0.738440   \n",
       "Individual_98         0.302467           0.500000   \n",
       "Individual_69         0.284065           0.582519   \n",
       "Individual_3          0.355265           1.000000   \n",
       "Individual_72         0.530400           0.323393   \n",
       "\n",
       "               explained_by_loves_to_sleep  Age_plus_Weight  \n",
       "Individual                                                   \n",
       "Individual_24                     0.327895         0.564027  \n",
       "Individual_79                     0.512086         0.359204  \n",
       "Individual_89                     0.344103         0.246940  \n",
       "Individual_95                     0.680704         0.352324  \n",
       "Individual_36                     0.593610         0.312673  \n",
       "...                                    ...              ...  \n",
       "Individual_75                     0.421109         0.833892  \n",
       "Individual_98                     0.103709         0.496050  \n",
       "Individual_69                     0.848974         0.145867  \n",
       "Individual_3                      0.211332         0.636547  \n",
       "Individual_72                     0.454150         0.329785  \n",
       "\n",
       "[10000 rows x 7 columns]"
      ]
     },
     "execution_count": 12,
     "metadata": {},
     "output_type": "execute_result"
    }
   ],
   "source": [
    "df_observable"
   ]
  },
  {
   "cell_type": "code",
   "execution_count": 13,
   "metadata": {},
   "outputs": [
    {
     "data": {
      "text/html": [
       "<div>\n",
       "<style scoped>\n",
       "    .dataframe tbody tr th:only-of-type {\n",
       "        vertical-align: middle;\n",
       "    }\n",
       "\n",
       "    .dataframe tbody tr th {\n",
       "        vertical-align: top;\n",
       "    }\n",
       "\n",
       "    .dataframe thead th {\n",
       "        text-align: right;\n",
       "    }\n",
       "</style>\n",
       "<table border=\"1\" class=\"dataframe\">\n",
       "  <thead>\n",
       "    <tr style=\"text-align: right;\">\n",
       "      <th></th>\n",
       "      <th>unexplainable_1</th>\n",
       "      <th>unexplainable_2</th>\n",
       "      <th>unexplainable_3</th>\n",
       "      <th>unexplainable_4</th>\n",
       "      <th>if_zebra_then_age</th>\n",
       "      <th>explained_by_loves_to_sleep</th>\n",
       "      <th>Age_plus_Weight</th>\n",
       "    </tr>\n",
       "    <tr>\n",
       "      <th>Individual</th>\n",
       "      <th></th>\n",
       "      <th></th>\n",
       "      <th></th>\n",
       "      <th></th>\n",
       "      <th></th>\n",
       "      <th></th>\n",
       "      <th></th>\n",
       "    </tr>\n",
       "  </thead>\n",
       "  <tbody>\n",
       "    <tr>\n",
       "      <th>Individual_9</th>\n",
       "      <td>0.812640</td>\n",
       "      <td>0.011013</td>\n",
       "      <td>0.604288</td>\n",
       "      <td>0.264128</td>\n",
       "      <td>0.5</td>\n",
       "      <td>0.465601</td>\n",
       "      <td>0.424097</td>\n",
       "    </tr>\n",
       "    <tr>\n",
       "      <th>Individual_9</th>\n",
       "      <td>0.682398</td>\n",
       "      <td>0.412899</td>\n",
       "      <td>0.002423</td>\n",
       "      <td>0.376622</td>\n",
       "      <td>0.5</td>\n",
       "      <td>0.465601</td>\n",
       "      <td>0.424097</td>\n",
       "    </tr>\n",
       "    <tr>\n",
       "      <th>Individual_9</th>\n",
       "      <td>0.196872</td>\n",
       "      <td>0.738803</td>\n",
       "      <td>0.616555</td>\n",
       "      <td>0.314762</td>\n",
       "      <td>0.5</td>\n",
       "      <td>0.465601</td>\n",
       "      <td>0.424097</td>\n",
       "    </tr>\n",
       "    <tr>\n",
       "      <th>Individual_9</th>\n",
       "      <td>0.947657</td>\n",
       "      <td>0.676614</td>\n",
       "      <td>0.872144</td>\n",
       "      <td>0.305630</td>\n",
       "      <td>0.5</td>\n",
       "      <td>0.465601</td>\n",
       "      <td>0.424097</td>\n",
       "    </tr>\n",
       "    <tr>\n",
       "      <th>Individual_9</th>\n",
       "      <td>0.618143</td>\n",
       "      <td>0.841346</td>\n",
       "      <td>0.962200</td>\n",
       "      <td>0.235698</td>\n",
       "      <td>0.5</td>\n",
       "      <td>0.465601</td>\n",
       "      <td>0.424097</td>\n",
       "    </tr>\n",
       "    <tr>\n",
       "      <th>...</th>\n",
       "      <td>...</td>\n",
       "      <td>...</td>\n",
       "      <td>...</td>\n",
       "      <td>...</td>\n",
       "      <td>...</td>\n",
       "      <td>...</td>\n",
       "      <td>...</td>\n",
       "    </tr>\n",
       "    <tr>\n",
       "      <th>Individual_9</th>\n",
       "      <td>0.140753</td>\n",
       "      <td>0.131309</td>\n",
       "      <td>0.985368</td>\n",
       "      <td>0.036189</td>\n",
       "      <td>0.5</td>\n",
       "      <td>0.465601</td>\n",
       "      <td>0.424097</td>\n",
       "    </tr>\n",
       "    <tr>\n",
       "      <th>Individual_9</th>\n",
       "      <td>0.748467</td>\n",
       "      <td>0.831615</td>\n",
       "      <td>0.782525</td>\n",
       "      <td>0.247722</td>\n",
       "      <td>0.5</td>\n",
       "      <td>0.465601</td>\n",
       "      <td>0.424097</td>\n",
       "    </tr>\n",
       "    <tr>\n",
       "      <th>Individual_9</th>\n",
       "      <td>0.576423</td>\n",
       "      <td>0.544382</td>\n",
       "      <td>0.839148</td>\n",
       "      <td>0.234014</td>\n",
       "      <td>0.5</td>\n",
       "      <td>0.465601</td>\n",
       "      <td>0.424097</td>\n",
       "    </tr>\n",
       "    <tr>\n",
       "      <th>Individual_9</th>\n",
       "      <td>0.646758</td>\n",
       "      <td>0.804629</td>\n",
       "      <td>0.655599</td>\n",
       "      <td>0.604397</td>\n",
       "      <td>0.5</td>\n",
       "      <td>0.465601</td>\n",
       "      <td>0.424097</td>\n",
       "    </tr>\n",
       "    <tr>\n",
       "      <th>Individual_9</th>\n",
       "      <td>0.262017</td>\n",
       "      <td>0.735008</td>\n",
       "      <td>0.423928</td>\n",
       "      <td>0.244770</td>\n",
       "      <td>0.5</td>\n",
       "      <td>0.465601</td>\n",
       "      <td>0.424097</td>\n",
       "    </tr>\n",
       "  </tbody>\n",
       "</table>\n",
       "<p>98 rows × 7 columns</p>\n",
       "</div>"
      ],
      "text/plain": [
       "              unexplainable_1  unexplainable_2  unexplainable_3  \\\n",
       "Individual                                                        \n",
       "Individual_9         0.812640         0.011013         0.604288   \n",
       "Individual_9         0.682398         0.412899         0.002423   \n",
       "Individual_9         0.196872         0.738803         0.616555   \n",
       "Individual_9         0.947657         0.676614         0.872144   \n",
       "Individual_9         0.618143         0.841346         0.962200   \n",
       "...                       ...              ...              ...   \n",
       "Individual_9         0.140753         0.131309         0.985368   \n",
       "Individual_9         0.748467         0.831615         0.782525   \n",
       "Individual_9         0.576423         0.544382         0.839148   \n",
       "Individual_9         0.646758         0.804629         0.655599   \n",
       "Individual_9         0.262017         0.735008         0.423928   \n",
       "\n",
       "              unexplainable_4  if_zebra_then_age  explained_by_loves_to_sleep  \\\n",
       "Individual                                                                      \n",
       "Individual_9         0.264128                0.5                     0.465601   \n",
       "Individual_9         0.376622                0.5                     0.465601   \n",
       "Individual_9         0.314762                0.5                     0.465601   \n",
       "Individual_9         0.305630                0.5                     0.465601   \n",
       "Individual_9         0.235698                0.5                     0.465601   \n",
       "...                       ...                ...                          ...   \n",
       "Individual_9         0.036189                0.5                     0.465601   \n",
       "Individual_9         0.247722                0.5                     0.465601   \n",
       "Individual_9         0.234014                0.5                     0.465601   \n",
       "Individual_9         0.604397                0.5                     0.465601   \n",
       "Individual_9         0.244770                0.5                     0.465601   \n",
       "\n",
       "              Age_plus_Weight  \n",
       "Individual                     \n",
       "Individual_9         0.424097  \n",
       "Individual_9         0.424097  \n",
       "Individual_9         0.424097  \n",
       "Individual_9         0.424097  \n",
       "Individual_9         0.424097  \n",
       "...                       ...  \n",
       "Individual_9         0.424097  \n",
       "Individual_9         0.424097  \n",
       "Individual_9         0.424097  \n",
       "Individual_9         0.424097  \n",
       "Individual_9         0.424097  \n",
       "\n",
       "[98 rows x 7 columns]"
      ]
     },
     "execution_count": 13,
     "metadata": {},
     "output_type": "execute_result"
    }
   ],
   "source": [
    "df_observable.loc['Individual_9']"
   ]
  },
  {
   "cell_type": "code",
   "execution_count": 14,
   "metadata": {},
   "outputs": [
    {
     "data": {
      "image/png": "[encoded data removed]",
      "text/plain": [
       "<Figure size 3000x700 with 2 Axes>"
      ]
     },
     "metadata": {},
     "output_type": "display_data"
    },
    {
     "data": {
      "image/png": "[encoded data removed]",
      "text/plain": [
       "<Figure size 2000x1000 with 1 Axes>"
      ]
     },
     "metadata": {},
     "output_type": "display_data"
    },
    {
     "data": {
      "image/png": "[encoded data removed]",
      "text/plain": [
       "<Figure size 2000x1000 with 1 Axes>"
      ]
     },
     "metadata": {},
     "output_type": "display_data"
    }
   ],
   "source": [
    "index_name = 'Individual'\n",
    "my_linkage = 'ward' #'single'\n",
    "\n",
    "from data_preparation import DataPreparator\n",
    "from apply_clustering import ClusteringApplier\n",
    "\n",
    "preparation_result = DataPreparator.prepare_data(\n",
    "    use_config=False,\n",
    "    df_observable=df_observable.reset_index(),\n",
    "    df_explainable=df_explainable.reset_index(),\n",
    "    distortion_mean=0.,\n",
    "    distortion_std=0.001,\n",
    "    observed_features=observed_features,\n",
    "    explaining_features=explaining_features,\n",
    "    nn_imputation_k=10,\n",
    "    group_name=index_name,\n",
    ")\n",
    "optimal_number_of_clusters = ClusteringApplier.draw_gap_statistic_plot(\n",
    "    use_config=False, df_observable=preparation_result['observable_df'],\n",
    "    observed_features=observed_features,\n",
    "    gap_statistic_cluster_range=15,\n",
    "    linkage='ward'\n",
    ")\n",
    "observable_patterns_result = ClusteringApplier.calculate_observable_patterns(\n",
    "    use_config=False,\n",
    "    df_observable_data=preparation_result['observable_df'],\n",
    "    _n_clusters=optimal_number_of_clusters['n_clusters'],\n",
    "    observable_name='observable_name',\n",
    "    observable_feature_names=observed_features,\n",
    "    plot_title='Name of the fingerprint plot',\n",
    "    number_observable_patterns='auto',\n",
    "    distance_measure_fingerprint='jensenshannon',\n",
    "    group_name=index_name, \n",
    "    spiderplot_scaling='minmax',\n",
    "    linkage=my_linkage\n",
    ")"
   ]
  },
  {
   "cell_type": "code",
   "execution_count": 15,
   "metadata": {},
   "outputs": [
    {
     "data": {
      "application/vnd.plotly.v1+json": {
       "config": {
        "plotlyServerURL": "https://plot.ly"
       },
       "data": [
        {
         "fill": "toself",
         "r": [
          0.22742050152264495,
          0.25949759489215984,
          0.17363944572933696,
          0.14152314466249832,
          0.157138603278061,
          0.0535276171966435,
          0.12517839279324594
         ],
         "subplot": "polar",
         "theta": [
          "unexplainable_1",
          "unexplainable_2",
          "unexplainable_3",
          "unexplainable_4",
          "if_zebra_then_age",
          "explained_by_loves_to_sleep",
          "Age_plus_Weight"
         ],
         "type": "scatterpolar"
        },
        {
         "fill": "toself",
         "r": [
          0.2926358122644554,
          0.21930940282172764,
          0.2670684389902567,
          0.15953169764291375,
          0.003584636503348719,
          0.16261228806419536,
          0.06446455623060232
         ],
         "subplot": "polar2",
         "theta": [
          "unexplainable_1",
          "unexplainable_2",
          "unexplainable_3",
          "unexplainable_4",
          "if_zebra_then_age",
          "explained_by_loves_to_sleep",
          "Age_plus_Weight"
         ],
         "type": "scatterpolar"
        },
        {
         "fill": "toself",
         "r": [
          0.2438269394560774,
          0.055853273245882185,
          0.19262772172248593,
          0.09350122955025682,
          0.1307749457052236,
          0.20839583111549737,
          0.11939251711751656
         ],
         "subplot": "polar3",
         "theta": [
          "unexplainable_1",
          "unexplainable_2",
          "unexplainable_3",
          "unexplainable_4",
          "if_zebra_then_age",
          "explained_by_loves_to_sleep",
          "Age_plus_Weight"
         ],
         "type": "scatterpolar"
        },
        {
         "fill": "toself",
         "r": [
          0,
          0.28751295389147186,
          0.18898115427202106,
          0,
          0.20423465334813065,
          0.013234476105908149,
          0.1683908970740701
         ],
         "subplot": "polar4",
         "theta": [
          "unexplainable_1",
          "unexplainable_2",
          "unexplainable_3",
          "unexplainable_4",
          "if_zebra_then_age",
          "explained_by_loves_to_sleep",
          "Age_plus_Weight"
         ],
         "type": "scatterpolar"
        },
        {
         "fill": "toself",
         "r": [
          0.049546659504517296,
          0.18483030290330724,
          0.3648166442656883,
          0.11897161643030676,
          0,
          0.21299757893122206,
          0
         ],
         "subplot": "polar5",
         "theta": [
          "unexplainable_1",
          "unexplainable_2",
          "unexplainable_3",
          "unexplainable_4",
          "if_zebra_then_age",
          "explained_by_loves_to_sleep",
          "Age_plus_Weight"
         ],
         "type": "scatterpolar"
        },
        {
         "fill": "toself",
         "r": [
          0.03207531368871911,
          0.04181609878034134,
          0.25632555293579856,
          0.008672831655888967,
          0.20362929272884336,
          0.25632555293579856,
          0.11713777063675267
         ],
         "subplot": "polar6",
         "theta": [
          "unexplainable_1",
          "unexplainable_2",
          "unexplainable_3",
          "unexplainable_4",
          "if_zebra_then_age",
          "explained_by_loves_to_sleep",
          "Age_plus_Weight"
         ],
         "type": "scatterpolar"
        },
        {
         "fill": "toself",
         "r": [
          0.09164316246062323,
          0.36147893083113886,
          0.024173263605097837,
          0.14530566290830235,
          0.0004901873908247408,
          0.23288384952864863,
          0.07726908848559648
         ],
         "subplot": "polar7",
         "theta": [
          "unexplainable_1",
          "unexplainable_2",
          "unexplainable_3",
          "unexplainable_4",
          "if_zebra_then_age",
          "explained_by_loves_to_sleep",
          "Age_plus_Weight"
         ],
         "type": "scatterpolar"
        },
        {
         "fill": "toself",
         "r": [
          0.20140840529000476,
          0.035350687466001875,
          0,
          0.22691389665807382,
          0.17704452446768654,
          0.15492627080687843,
          0.14196153328832276
         ],
         "subplot": "polar8",
         "theta": [
          "unexplainable_1",
          "unexplainable_2",
          "unexplainable_3",
          "unexplainable_4",
          "if_zebra_then_age",
          "explained_by_loves_to_sleep",
          "Age_plus_Weight"
         ],
         "type": "scatterpolar"
        },
        {
         "fill": "toself",
         "r": [
          0.12235600024569498,
          0.12541413963193443,
          0.00486803691688283,
          0.17239087070159043,
          0.2008611389887992,
          0.2635725430716339,
          0.1498871846036532
         ],
         "subplot": "polar9",
         "theta": [
          "unexplainable_1",
          "unexplainable_2",
          "unexplainable_3",
          "unexplainable_4",
          "if_zebra_then_age",
          "explained_by_loves_to_sleep",
          "Age_plus_Weight"
         ],
         "type": "scatterpolar"
        },
        {
         "fill": "toself",
         "r": [
          0.2503374127179034,
          0.014537497019628216,
          0.30533699209994974,
          0.0509579144126844,
          0.15743332181829583,
          0,
          0.14405274524881995
         ],
         "subplot": "polar10",
         "theta": [
          "unexplainable_1",
          "unexplainable_2",
          "unexplainable_3",
          "unexplainable_4",
          "if_zebra_then_age",
          "explained_by_loves_to_sleep",
          "Age_plus_Weight"
         ],
         "type": "scatterpolar"
        },
        {
         "fill": "toself",
         "r": [
          0.13184767234431743,
          0.01889051117719153,
          0.08442471946588609,
          0.10219294987156036,
          0.2756055780918627,
          0.05461602149198069,
          0.2615310748920319
         ],
         "subplot": "polar11",
         "theta": [
          "unexplainable_1",
          "unexplainable_2",
          "unexplainable_3",
          "unexplainable_4",
          "if_zebra_then_age",
          "explained_by_loves_to_sleep",
          "Age_plus_Weight"
         ],
         "type": "scatterpolar"
        },
        {
         "fill": "toself",
         "r": [
          0.2879848843529645,
          0,
          0.01693345434603877,
          0.20555220515524347,
          0.0003023186432966839,
          0.2089296239271251,
          0.05791811797527414
         ],
         "subplot": "polar12",
         "theta": [
          "unexplainable_1",
          "unexplainable_2",
          "unexplainable_3",
          "unexplainable_4",
          "if_zebra_then_age",
          "explained_by_loves_to_sleep",
          "Age_plus_Weight"
         ],
         "type": "scatterpolar"
        },
        {
         "fill": "toself",
         "r": [
          0.03551819728895202,
          0.26107153759134033,
          0.24083257471999603,
          0.2614209889881471,
          0.13055282131183407,
          0.19789507325716454,
          0.10624764565282184
         ],
         "subplot": "polar13",
         "theta": [
          "unexplainable_1",
          "unexplainable_2",
          "unexplainable_3",
          "unexplainable_4",
          "if_zebra_then_age",
          "explained_by_loves_to_sleep",
          "Age_plus_Weight"
         ],
         "type": "scatterpolar"
        },
        {
         "fill": "toself",
         "r": [
          0.10314172723484104,
          0.1555293671515472,
          0.13375660402610617,
          0.2058669048645425,
          0.09282657389526598,
          0.02861518580440446,
          0.3280373765258831
         ],
         "subplot": "polar14",
         "theta": [
          "unexplainable_1",
          "unexplainable_2",
          "unexplainable_3",
          "unexplainable_4",
          "if_zebra_then_age",
          "explained_by_loves_to_sleep",
          "Age_plus_Weight"
         ],
         "type": "scatterpolar"
        }
       ],
       "layout": {
        "annotations": [
         {
          "font": {
           "size": 16
          },
          "showarrow": false,
          "text": "Fingerprint 1 (homogeneity: 0.02)",
          "x": 0.175,
          "xanchor": "center",
          "xref": "paper",
          "y": 1,
          "yanchor": "bottom",
          "yref": "paper"
         },
         {
          "font": {
           "size": 16
          },
          "showarrow": false,
          "text": "Fingerprint 2 (homogeneity: 0.09)",
          "x": 0.825,
          "xanchor": "center",
          "xref": "paper",
          "y": 1,
          "yanchor": "bottom",
          "yref": "paper"
         },
         {
          "font": {
           "size": 16
          },
          "showarrow": false,
          "text": "Fingerprint 3 (homogeneity: 0.02)",
          "x": 0.175,
          "xanchor": "center",
          "xref": "paper",
          "y": 0.85,
          "yanchor": "bottom",
          "yref": "paper"
         },
         {
          "font": {
           "size": 16
          },
          "showarrow": false,
          "text": "Fingerprint 4 (homogeneity: 0.06)",
          "x": 0.825,
          "xanchor": "center",
          "xref": "paper",
          "y": 0.85,
          "yanchor": "bottom",
          "yref": "paper"
         },
         {
          "font": {
           "size": 16
          },
          "showarrow": false,
          "text": "Fingerprint 5 (homogeneity: 0.13)",
          "x": 0.175,
          "xanchor": "center",
          "xref": "paper",
          "y": 0.7,
          "yanchor": "bottom",
          "yref": "paper"
         },
         {
          "font": {
           "size": 16
          },
          "showarrow": false,
          "text": "Fingerprint 6 (homogeneity: 0.04)",
          "x": 0.825,
          "xanchor": "center",
          "xref": "paper",
          "y": 0.7,
          "yanchor": "bottom",
          "yref": "paper"
         },
         {
          "font": {
           "size": 16
          },
          "showarrow": false,
          "text": "Fingerprint 7 (homogeneity: 0.11)",
          "x": 0.175,
          "xanchor": "center",
          "xref": "paper",
          "y": 0.55,
          "yanchor": "bottom",
          "yref": "paper"
         },
         {
          "font": {
           "size": 16
          },
          "showarrow": false,
          "text": "Fingerprint 8 (homogeneity: 0.02)",
          "x": 0.825,
          "xanchor": "center",
          "xref": "paper",
          "y": 0.55,
          "yanchor": "bottom",
          "yref": "paper"
         },
         {
          "font": {
           "size": 16
          },
          "showarrow": false,
          "text": "Fingerprint 9 (homogeneity: 0.04)",
          "x": 0.175,
          "xanchor": "center",
          "xref": "paper",
          "y": 0.39999999999999997,
          "yanchor": "bottom",
          "yref": "paper"
         },
         {
          "font": {
           "size": 16
          },
          "showarrow": false,
          "text": "Fingerprint 10 (homogeneity: 0.07)",
          "x": 0.825,
          "xanchor": "center",
          "xref": "paper",
          "y": 0.39999999999999997,
          "yanchor": "bottom",
          "yref": "paper"
         },
         {
          "font": {
           "size": 16
          },
          "showarrow": false,
          "text": "Fingerprint 11 (homogeneity: 0.07)",
          "x": 0.175,
          "xanchor": "center",
          "xref": "paper",
          "y": 0.25,
          "yanchor": "bottom",
          "yref": "paper"
         },
         {
          "font": {
           "size": 16
          },
          "showarrow": false,
          "text": "Fingerprint 12 (homogeneity: 0.11)",
          "x": 0.825,
          "xanchor": "center",
          "xref": "paper",
          "y": 0.25,
          "yanchor": "bottom",
          "yref": "paper"
         },
         {
          "font": {
           "size": 16
          },
          "showarrow": false,
          "text": "Fingerprint 13 (homogeneity: 0.02)",
          "x": 0.175,
          "xanchor": "center",
          "xref": "paper",
          "y": 0.09999999999999999,
          "yanchor": "bottom",
          "yref": "paper"
         },
         {
          "font": {
           "size": 16
          },
          "showarrow": false,
          "text": "Fingerprint 14 (homogeneity: 0.05)",
          "x": 0.825,
          "xanchor": "center",
          "xref": "paper",
          "y": 0.09999999999999999,
          "yanchor": "bottom",
          "yref": "paper"
         }
        ],
        "height": 3500,
        "paper_bgcolor": "rgba(0, 0, 0, 0)",
        "plot_bgcolor": "rgba(0, 0, 0, 0)",
        "polar": {
         "domain": {
          "x": [
           0,
           0.35
          ],
          "y": [
           0.9,
           1
          ]
         },
         "radialaxis": {
          "range": [
           0,
           1
          ],
          "showticklabels": false,
          "visible": true
         }
        },
        "polar10": {
         "domain": {
          "x": [
           0.6499999999999999,
           0.9999999999999999
          ],
          "y": [
           0.3,
           0.39999999999999997
          ]
         },
         "radialaxis": {
          "range": [
           0,
           1
          ],
          "showticklabels": false,
          "visible": true
         }
        },
        "polar11": {
         "domain": {
          "x": [
           0,
           0.35
          ],
          "y": [
           0.15,
           0.25
          ]
         },
         "radialaxis": {
          "range": [
           0,
           1
          ],
          "showticklabels": false,
          "visible": true
         }
        },
        "polar12": {
         "domain": {
          "x": [
           0.6499999999999999,
           0.9999999999999999
          ],
          "y": [
           0.15,
           0.25
          ]
         },
         "radialaxis": {
          "range": [
           0,
           1
          ],
          "showticklabels": false,
          "visible": true
         }
        },
        "polar13": {
         "domain": {
          "x": [
           0,
           0.35
          ],
          "y": [
           0,
           0.09999999999999999
          ]
         },
         "radialaxis": {
          "range": [
           0,
           1
          ],
          "showticklabels": false,
          "visible": true
         }
        },
        "polar14": {
         "domain": {
          "x": [
           0.6499999999999999,
           0.9999999999999999
          ],
          "y": [
           0,
           0.09999999999999999
          ]
         },
         "radialaxis": {
          "range": [
           0,
           1
          ],
          "showticklabels": false,
          "visible": true
         }
        },
        "polar2": {
         "domain": {
          "x": [
           0.6499999999999999,
           0.9999999999999999
          ],
          "y": [
           0.9,
           1
          ]
         },
         "radialaxis": {
          "range": [
           0,
           1
          ],
          "showticklabels": false,
          "visible": true
         }
        },
        "polar3": {
         "domain": {
          "x": [
           0,
           0.35
          ],
          "y": [
           0.75,
           0.85
          ]
         },
         "radialaxis": {
          "range": [
           0,
           1
          ],
          "showticklabels": false,
          "visible": true
         }
        },
        "polar4": {
         "domain": {
          "x": [
           0.6499999999999999,
           0.9999999999999999
          ],
          "y": [
           0.75,
           0.85
          ]
         },
         "radialaxis": {
          "range": [
           0,
           1
          ],
          "showticklabels": false,
          "visible": true
         }
        },
        "polar5": {
         "domain": {
          "x": [
           0,
           0.35
          ],
          "y": [
           0.6,
           0.7
          ]
         },
         "radialaxis": {
          "range": [
           0,
           1
          ],
          "showticklabels": false,
          "visible": true
         }
        },
        "polar6": {
         "domain": {
          "x": [
           0.6499999999999999,
           0.9999999999999999
          ],
          "y": [
           0.6,
           0.7
          ]
         },
         "radialaxis": {
          "range": [
           0,
           1
          ],
          "showticklabels": false,
          "visible": true
         }
        },
        "polar7": {
         "domain": {
          "x": [
           0,
           0.35
          ],
          "y": [
           0.45,
           0.55
          ]
         },
         "radialaxis": {
          "range": [
           0,
           1
          ],
          "showticklabels": false,
          "visible": true
         }
        },
        "polar8": {
         "domain": {
          "x": [
           0.6499999999999999,
           0.9999999999999999
          ],
          "y": [
           0.45,
           0.55
          ]
         },
         "radialaxis": {
          "range": [
           0,
           1
          ],
          "showticklabels": false,
          "visible": true
         }
        },
        "polar9": {
         "domain": {
          "x": [
           0,
           0.35
          ],
          "y": [
           0.3,
           0.39999999999999997
          ]
         },
         "radialaxis": {
          "range": [
           0,
           1
          ],
          "showticklabels": false,
          "visible": true
         }
        },
        "showlegend": false,
        "template": {
         "data": {
          "bar": [
           {
            "error_x": {
             "color": "#2a3f5f"
            },
            "error_y": {
             "color": "#2a3f5f"
            },
            "marker": {
             "line": {
              "color": "#E5ECF6",
              "width": 0.5
             },
             "pattern": {
              "fillmode": "overlay",
              "size": 10,
              "solidity": 0.2
             }
            },
            "type": "bar"
           }
          ],
          "barpolar": [
           {
            "marker": {
             "line": {
              "color": "#E5ECF6",
              "width": 0.5
             },
             "pattern": {
              "fillmode": "overlay",
              "size": 10,
              "solidity": 0.2
             }
            },
            "type": "barpolar"
           }
          ],
          "carpet": [
           {
            "aaxis": {
             "endlinecolor": "#2a3f5f",
             "gridcolor": "white",
             "linecolor": "white",
             "minorgridcolor": "white",
             "startlinecolor": "#2a3f5f"
            },
            "baxis": {
             "endlinecolor": "#2a3f5f",
             "gridcolor": "white",
             "linecolor": "white",
             "minorgridcolor": "white",
             "startlinecolor": "#2a3f5f"
            },
            "type": "carpet"
           }
          ],
          "choropleth": [
           {
            "colorbar": {
             "outlinewidth": 0,
             "ticks": ""
            },
            "type": "choropleth"
           }
          ],
          "contour": [
           {
            "colorbar": {
             "outlinewidth": 0,
             "ticks": ""
            },
            "colorscale": [
             [
              0,
              "#0d0887"
             ],
             [
              0.1111111111111111,
              "#46039f"
             ],
             [
              0.2222222222222222,
              "#7201a8"
             ],
             [
              0.3333333333333333,
              "#9c179e"
             ],
             [
              0.4444444444444444,
              "#bd3786"
             ],
             [
              0.5555555555555556,
              "#d8576b"
             ],
             [
              0.6666666666666666,
              "#ed7953"
             ],
             [
              0.7777777777777778,
              "#fb9f3a"
             ],
             [
              0.8888888888888888,
              "#fdca26"
             ],
             [
              1,
              "#f0f921"
             ]
            ],
            "type": "contour"
           }
          ],
          "contourcarpet": [
           {
            "colorbar": {
             "outlinewidth": 0,
             "ticks": ""
            },
            "type": "contourcarpet"
           }
          ],
          "heatmap": [
           {
            "colorbar": {
             "outlinewidth": 0,
             "ticks": ""
            },
            "colorscale": [
             [
              0,
              "#0d0887"
             ],
             [
              0.1111111111111111,
              "#46039f"
             ],
             [
              0.2222222222222222,
              "#7201a8"
             ],
             [
              0.3333333333333333,
              "#9c179e"
             ],
             [
              0.4444444444444444,
              "#bd3786"
             ],
             [
              0.5555555555555556,
              "#d8576b"
             ],
             [
              0.6666666666666666,
              "#ed7953"
             ],
             [
              0.7777777777777778,
              "#fb9f3a"
             ],
             [
              0.8888888888888888,
              "#fdca26"
             ],
             [
              1,
              "#f0f921"
             ]
            ],
            "type": "heatmap"
           }
          ],
          "heatmapgl": [
           {
            "colorbar": {
             "outlinewidth": 0,
             "ticks": ""
            },
            "colorscale": [
             [
              0,
              "#0d0887"
             ],
             [
              0.1111111111111111,
              "#46039f"
             ],
             [
              0.2222222222222222,
              "#7201a8"
             ],
             [
              0.3333333333333333,
              "#9c179e"
             ],
             [
              0.4444444444444444,
              "#bd3786"
             ],
             [
              0.5555555555555556,
              "#d8576b"
             ],
             [
              0.6666666666666666,
              "#ed7953"
             ],
             [
              0.7777777777777778,
              "#fb9f3a"
             ],
             [
              0.8888888888888888,
              "#fdca26"
             ],
             [
              1,
              "#f0f921"
             ]
            ],
            "type": "heatmapgl"
           }
          ],
          "histogram": [
           {
            "marker": {
             "pattern": {
              "fillmode": "overlay",
              "size": 10,
              "solidity": 0.2
             }
            },
            "type": "histogram"
           }
          ],
          "histogram2d": [
           {
            "colorbar": {
             "outlinewidth": 0,
             "ticks": ""
            },
            "colorscale": [
             [
              0,
              "#0d0887"
             ],
             [
              0.1111111111111111,
              "#46039f"
             ],
             [
              0.2222222222222222,
              "#7201a8"
             ],
             [
              0.3333333333333333,
              "#9c179e"
             ],
             [
              0.4444444444444444,
              "#bd3786"
             ],
             [
              0.5555555555555556,
              "#d8576b"
             ],
             [
              0.6666666666666666,
              "#ed7953"
             ],
             [
              0.7777777777777778,
              "#fb9f3a"
             ],
             [
              0.8888888888888888,
              "#fdca26"
             ],
             [
              1,
              "#f0f921"
             ]
            ],
            "type": "histogram2d"
           }
          ],
          "histogram2dcontour": [
           {
            "colorbar": {
             "outlinewidth": 0,
             "ticks": ""
            },
            "colorscale": [
             [
              0,
              "#0d0887"
             ],
             [
              0.1111111111111111,
              "#46039f"
             ],
             [
              0.2222222222222222,
              "#7201a8"
             ],
             [
              0.3333333333333333,
              "#9c179e"
             ],
             [
              0.4444444444444444,
              "#bd3786"
             ],
             [
              0.5555555555555556,
              "#d8576b"
             ],
             [
              0.6666666666666666,
              "#ed7953"
             ],
             [
              0.7777777777777778,
              "#fb9f3a"
             ],
             [
              0.8888888888888888,
              "#fdca26"
             ],
             [
              1,
              "#f0f921"
             ]
            ],
            "type": "histogram2dcontour"
           }
          ],
          "mesh3d": [
           {
            "colorbar": {
             "outlinewidth": 0,
             "ticks": ""
            },
            "type": "mesh3d"
           }
          ],
          "parcoords": [
           {
            "line": {
             "colorbar": {
              "outlinewidth": 0,
              "ticks": ""
             }
            },
            "type": "parcoords"
           }
          ],
          "pie": [
           {
            "automargin": true,
            "type": "pie"
           }
          ],
          "scatter": [
           {
            "fillpattern": {
             "fillmode": "overlay",
             "size": 10,
             "solidity": 0.2
            },
            "type": "scatter"
           }
          ],
          "scatter3d": [
           {
            "line": {
             "colorbar": {
              "outlinewidth": 0,
              "ticks": ""
             }
            },
            "marker": {
             "colorbar": {
              "outlinewidth": 0,
              "ticks": ""
             }
            },
            "type": "scatter3d"
           }
          ],
          "scattercarpet": [
           {
            "marker": {
             "colorbar": {
              "outlinewidth": 0,
              "ticks": ""
             }
            },
            "type": "scattercarpet"
           }
          ],
          "scattergeo": [
           {
            "marker": {
             "colorbar": {
              "outlinewidth": 0,
              "ticks": ""
             }
            },
            "type": "scattergeo"
           }
          ],
          "scattergl": [
           {
            "marker": {
             "colorbar": {
              "outlinewidth": 0,
              "ticks": ""
             }
            },
            "type": "scattergl"
           }
          ],
          "scattermapbox": [
           {
            "marker": {
             "colorbar": {
              "outlinewidth": 0,
              "ticks": ""
             }
            },
            "type": "scattermapbox"
           }
          ],
          "scatterpolar": [
           {
            "marker": {
             "colorbar": {
              "outlinewidth": 0,
              "ticks": ""
             }
            },
            "type": "scatterpolar"
           }
          ],
          "scatterpolargl": [
           {
            "marker": {
             "colorbar": {
              "outlinewidth": 0,
              "ticks": ""
             }
            },
            "type": "scatterpolargl"
           }
          ],
          "scatterternary": [
           {
            "marker": {
             "colorbar": {
              "outlinewidth": 0,
              "ticks": ""
             }
            },
            "type": "scatterternary"
           }
          ],
          "surface": [
           {
            "colorbar": {
             "outlinewidth": 0,
             "ticks": ""
            },
            "colorscale": [
             [
              0,
              "#0d0887"
             ],
             [
              0.1111111111111111,
              "#46039f"
             ],
             [
              0.2222222222222222,
              "#7201a8"
             ],
             [
              0.3333333333333333,
              "#9c179e"
             ],
             [
              0.4444444444444444,
              "#bd3786"
             ],
             [
              0.5555555555555556,
              "#d8576b"
             ],
             [
              0.6666666666666666,
              "#ed7953"
             ],
             [
              0.7777777777777778,
              "#fb9f3a"
             ],
             [
              0.8888888888888888,
              "#fdca26"
             ],
             [
              1,
              "#f0f921"
             ]
            ],
            "type": "surface"
           }
          ],
          "table": [
           {
            "cells": {
             "fill": {
              "color": "#EBF0F8"
             },
             "line": {
              "color": "white"
             }
            },
            "header": {
             "fill": {
              "color": "#C8D4E3"
             },
             "line": {
              "color": "white"
             }
            },
            "type": "table"
           }
          ]
         },
         "layout": {
          "annotationdefaults": {
           "arrowcolor": "#2a3f5f",
           "arrowhead": 0,
           "arrowwidth": 1
          },
          "autotypenumbers": "strict",
          "coloraxis": {
           "colorbar": {
            "outlinewidth": 0,
            "ticks": ""
           }
          },
          "colorscale": {
           "diverging": [
            [
             0,
             "#8e0152"
            ],
            [
             0.1,
             "#c51b7d"
            ],
            [
             0.2,
             "#de77ae"
            ],
            [
             0.3,
             "#f1b6da"
            ],
            [
             0.4,
             "#fde0ef"
            ],
            [
             0.5,
             "#f7f7f7"
            ],
            [
             0.6,
             "#e6f5d0"
            ],
            [
             0.7,
             "#b8e186"
            ],
            [
             0.8,
             "#7fbc41"
            ],
            [
             0.9,
             "#4d9221"
            ],
            [
             1,
             "#276419"
            ]
           ],
           "sequential": [
            [
             0,
             "#0d0887"
            ],
            [
             0.1111111111111111,
             "#46039f"
            ],
            [
             0.2222222222222222,
             "#7201a8"
            ],
            [
             0.3333333333333333,
             "#9c179e"
            ],
            [
             0.4444444444444444,
             "#bd3786"
            ],
            [
             0.5555555555555556,
             "#d8576b"
            ],
            [
             0.6666666666666666,
             "#ed7953"
            ],
            [
             0.7777777777777778,
             "#fb9f3a"
            ],
            [
             0.8888888888888888,
             "#fdca26"
            ],
            [
             1,
             "#f0f921"
            ]
           ],
           "sequentialminus": [
            [
             0,
             "#0d0887"
            ],
            [
             0.1111111111111111,
             "#46039f"
            ],
            [
             0.2222222222222222,
             "#7201a8"
            ],
            [
             0.3333333333333333,
             "#9c179e"
            ],
            [
             0.4444444444444444,
             "#bd3786"
            ],
            [
             0.5555555555555556,
             "#d8576b"
            ],
            [
             0.6666666666666666,
             "#ed7953"
            ],
            [
             0.7777777777777778,
             "#fb9f3a"
            ],
            [
             0.8888888888888888,
             "#fdca26"
            ],
            [
             1,
             "#f0f921"
            ]
           ]
          },
          "colorway": [
           "#636efa",
           "#EF553B",
           "#00cc96",
           "#ab63fa",
           "#FFA15A",
           "#19d3f3",
           "#FF6692",
           "#B6E880",
           "#FF97FF",
           "#FECB52"
          ],
          "font": {
           "color": "#2a3f5f"
          },
          "geo": {
           "bgcolor": "white",
           "lakecolor": "white",
           "landcolor": "#E5ECF6",
           "showlakes": true,
           "showland": true,
           "subunitcolor": "white"
          },
          "hoverlabel": {
           "align": "left"
          },
          "hovermode": "closest",
          "mapbox": {
           "style": "light"
          },
          "paper_bgcolor": "white",
          "plot_bgcolor": "#E5ECF6",
          "polar": {
           "angularaxis": {
            "gridcolor": "white",
            "linecolor": "white",
            "ticks": ""
           },
           "bgcolor": "#E5ECF6",
           "radialaxis": {
            "gridcolor": "white",
            "linecolor": "white",
            "ticks": ""
           }
          },
          "scene": {
           "xaxis": {
            "backgroundcolor": "#E5ECF6",
            "gridcolor": "white",
            "gridwidth": 2,
            "linecolor": "white",
            "showbackground": true,
            "ticks": "",
            "zerolinecolor": "white"
           },
           "yaxis": {
            "backgroundcolor": "#E5ECF6",
            "gridcolor": "white",
            "gridwidth": 2,
            "linecolor": "white",
            "showbackground": true,
            "ticks": "",
            "zerolinecolor": "white"
           },
           "zaxis": {
            "backgroundcolor": "#E5ECF6",
            "gridcolor": "white",
            "gridwidth": 2,
            "linecolor": "white",
            "showbackground": true,
            "ticks": "",
            "zerolinecolor": "white"
           }
          },
          "shapedefaults": {
           "line": {
            "color": "#2a3f5f"
           }
          },
          "ternary": {
           "aaxis": {
            "gridcolor": "white",
            "linecolor": "white",
            "ticks": ""
           },
           "baxis": {
            "gridcolor": "white",
            "linecolor": "white",
            "ticks": ""
           },
           "bgcolor": "#E5ECF6",
           "caxis": {
            "gridcolor": "white",
            "linecolor": "white",
            "ticks": ""
           }
          },
          "title": {
           "x": 0.05
          },
          "xaxis": {
           "automargin": true,
           "gridcolor": "white",
           "linecolor": "white",
           "ticks": "",
           "title": {
            "standoff": 15
           },
           "zerolinecolor": "white",
           "zerolinewidth": 2
          },
          "yaxis": {
           "automargin": true,
           "gridcolor": "white",
           "linecolor": "white",
           "ticks": "",
           "title": {
            "standoff": 15
           },
           "zerolinecolor": "white",
           "zerolinewidth": 2
          }
         }
        },
        "title": {
         "text": "Name of the fingerprint plot"
        },
        "width": 1000
       }
      }
     },
     "metadata": {},
     "output_type": "display_data"
    }
   ],
   "source": [
    "observable_patterns_result['spider_plots']"
   ]
  },
  {
   "cell_type": "code",
   "execution_count": 16,
   "metadata": {},
   "outputs": [
    {
     "data": {
      "application/vnd.jupyter.widget-view+json": {
       "model_id": "4258add33b254a209aafbd9abc69c86f",
       "version_major": 2,
       "version_minor": 0
      },
      "text/plain": [
       "  0%|          | 0/502 [00:00<?, ?it/s]"
      ]
     },
     "metadata": {},
     "output_type": "display_data"
    },
    {
     "data": {
      "image/png": "[encoded data removed]",
      "text/plain": [
       "<Figure size 2000x1000 with 1 Axes>"
      ]
     },
     "metadata": {},
     "output_type": "display_data"
    }
   ],
   "source": [
    "calculate_explainable_distances_result = ClusteringApplier.calculate_explainable_distances(\n",
    "    use_config=False,\n",
    "    df_explainable=preparation_result['explainable_df'].copy(),\n",
    "    df_observable_distances=observable_patterns_result['pw_norm_dist'].copy(),\n",
    "    explaining_features=explaining_features,\n",
    "    method='exact',\n",
    "    distance_measure='correlation',\n",
    "    sparsity_parameter=0.01,\n",
    "    max_num_threads=12,\n",
    "    group_name=index_name\n",
    ")"
   ]
  },
  {
   "cell_type": "code",
   "execution_count": 17,
   "metadata": {},
   "outputs": [
    {
     "data": {
      "text/html": [
       "<div>\n",
       "<style scoped>\n",
       "    .dataframe tbody tr th:only-of-type {\n",
       "        vertical-align: middle;\n",
       "    }\n",
       "\n",
       "    .dataframe tbody tr th {\n",
       "        vertical-align: top;\n",
       "    }\n",
       "\n",
       "    .dataframe thead th {\n",
       "        text-align: right;\n",
       "    }\n",
       "</style>\n",
       "<table border=\"1\" class=\"dataframe\">\n",
       "  <thead>\n",
       "    <tr style=\"text-align: right;\">\n",
       "      <th></th>\n",
       "      <th>correlation</th>\n",
       "      <th>Age</th>\n",
       "      <th>Weight</th>\n",
       "      <th>Is_a_Zebra</th>\n",
       "      <th>Loves_to_sleep</th>\n",
       "      <th>Noise_1</th>\n",
       "      <th>Noise_2</th>\n",
       "      <th>Noise_3</th>\n",
       "      <th>Noise_4</th>\n",
       "      <th>Noise_5</th>\n",
       "    </tr>\n",
       "  </thead>\n",
       "  <tbody>\n",
       "    <tr>\n",
       "      <th>0</th>\n",
       "      <td>0.37703</td>\n",
       "      <td>1</td>\n",
       "      <td>0</td>\n",
       "      <td>0</td>\n",
       "      <td>1</td>\n",
       "      <td>0</td>\n",
       "      <td>0</td>\n",
       "      <td>0</td>\n",
       "      <td>0</td>\n",
       "      <td>1</td>\n",
       "    </tr>\n",
       "  </tbody>\n",
       "</table>\n",
       "</div>"
      ],
      "text/plain": [
       "   correlation  Age  Weight  Is_a_Zebra  Loves_to_sleep  Noise_1  Noise_2  \\\n",
       "0      0.37703    1       0           0               1        0        0   \n",
       "\n",
       "   Noise_3  Noise_4  Noise_5  \n",
       "0        0        0        1  "
      ]
     },
     "execution_count": 17,
     "metadata": {},
     "output_type": "execute_result"
    }
   ],
   "source": [
    "calculate_explainable_distances_result['overview_df']"
   ]
  },
  {
   "cell_type": "code",
   "execution_count": 18,
   "metadata": {},
   "outputs": [],
   "source": [
    "def ward_distance(x, y):\n",
    "    # Compute the centroids of the two clusters\n",
    "    centroid_x = torch.mean(x, dim=0)\n",
    "    centroid_y = torch.mean(y, dim=0)\n",
    "\n",
    "    # Compute the variance within each cluster\n",
    "    var_x = torch.sum((x - centroid_x) ** 2) / (x.shape[0] - 1)\n",
    "    var_y = torch.sum((y - centroid_y) ** 2) / (y.shape[0] - 1)\n",
    "\n",
    "    # Compute the variance between the two clusters\n",
    "    var_between = torch.sum((centroid_x - centroid_y) ** 2)\n",
    "\n",
    "    # Compute the Ward distance\n",
    "    return var_between + var_x + var_y"
   ]
  },
  {
   "cell_type": "code",
   "execution_count": 19,
   "metadata": {},
   "outputs": [
    {
     "name": "stdout",
     "output_type": "stream",
     "text": [
      "0       False\n",
      "1        True\n",
      "2        True\n",
      "3        True\n",
      "4       False\n",
      "        ...  \n",
      "9995     True\n",
      "9996     True\n",
      "9997     True\n",
      "9998     True\n",
      "9999    False\n",
      "Name: pattern_type, Length: 10000, dtype: bool\n",
      "0.6737\n",
      "[ 0  7  1 12  1  4  6  2  0  6  4  4  0  3  0  4  7 10 11 10 12  0  8]\n",
      "[ 1  7  1 12  4  4  6  2  7  6  4  4  0  3  0  4  7 10 11 10  7 13  8]\n"
     ]
    }
   ],
   "source": [
    "keystr = 'df_observable_data'\n",
    "\n",
    "x = torch.tensor(observable_patterns_result[keystr].loc[:, observed_features].to_numpy())\n",
    "y = torch.tensor(observable_patterns_result['df_cluster_median'].to_numpy())\n",
    "\n",
    "alternative = ((x.unsqueeze(1) - y.unsqueeze(0)).pow(2).clamp(min=1e-20)).sum(2).sqrt()\n",
    "\n",
    "vergleich = observable_patterns_result['df_observable_data'].pattern_type == alternative.argmin(dim=1).numpy() #torch.cdist(x, y).argmin(dim=1).numpy()\n",
    "print(vergleich)\n",
    "print(vergleich.sum() / observable_patterns_result[keystr].shape[0])\n",
    "\n",
    "print(alternative.argmin(dim=1).numpy()[:23])\n",
    "print(observable_patterns_result['df_observable_data'].pattern_type[:23].to_numpy())"
   ]
  },
  {
   "cell_type": "code",
   "execution_count": 20,
   "metadata": {},
   "outputs": [],
   "source": [
    "my_df = observable_patterns_result[keystr].copy()\n",
    "my_df = my_df[my_df[\"oversampled\"] == False]"
   ]
  },
  {
   "cell_type": "code",
   "execution_count": 21,
   "metadata": {},
   "outputs": [
    {
     "data": {
      "text/html": [
       "<div>\n",
       "<style scoped>\n",
       "    .dataframe tbody tr th:only-of-type {\n",
       "        vertical-align: middle;\n",
       "    }\n",
       "\n",
       "    .dataframe tbody tr th {\n",
       "        vertical-align: top;\n",
       "    }\n",
       "\n",
       "    .dataframe thead th {\n",
       "        text-align: right;\n",
       "    }\n",
       "</style>\n",
       "<table border=\"1\" class=\"dataframe\">\n",
       "  <thead>\n",
       "    <tr style=\"text-align: right;\">\n",
       "      <th></th>\n",
       "      <th>Individual</th>\n",
       "      <th>unexplainable_1</th>\n",
       "      <th>unexplainable_2</th>\n",
       "      <th>unexplainable_3</th>\n",
       "      <th>unexplainable_4</th>\n",
       "      <th>if_zebra_then_age</th>\n",
       "      <th>explained_by_loves_to_sleep</th>\n",
       "      <th>Age_plus_Weight</th>\n",
       "    </tr>\n",
       "  </thead>\n",
       "  <tbody>\n",
       "    <tr>\n",
       "      <th>0</th>\n",
       "      <td>Individual_24</td>\n",
       "      <td>0.906811</td>\n",
       "      <td>0.658156</td>\n",
       "      <td>0.755023</td>\n",
       "      <td>0.446024</td>\n",
       "      <td>0.408604</td>\n",
       "      <td>0.327839</td>\n",
       "      <td>0.562937</td>\n",
       "    </tr>\n",
       "    <tr>\n",
       "      <th>1</th>\n",
       "      <td>Individual_79</td>\n",
       "      <td>0.487641</td>\n",
       "      <td>0.362848</td>\n",
       "      <td>0.114911</td>\n",
       "      <td>0.691515</td>\n",
       "      <td>0.826284</td>\n",
       "      <td>0.512344</td>\n",
       "      <td>0.358182</td>\n",
       "    </tr>\n",
       "    <tr>\n",
       "      <th>2</th>\n",
       "      <td>Individual_89</td>\n",
       "      <td>0.986186</td>\n",
       "      <td>0.236145</td>\n",
       "      <td>0.769923</td>\n",
       "      <td>0.681268</td>\n",
       "      <td>0.001332</td>\n",
       "      <td>0.343666</td>\n",
       "      <td>0.246934</td>\n",
       "    </tr>\n",
       "    <tr>\n",
       "      <th>3</th>\n",
       "      <td>Individual_95</td>\n",
       "      <td>0.299610</td>\n",
       "      <td>0.376260</td>\n",
       "      <td>0.659446</td>\n",
       "      <td>0.591719</td>\n",
       "      <td>0.479411</td>\n",
       "      <td>0.680489</td>\n",
       "      <td>0.352414</td>\n",
       "    </tr>\n",
       "    <tr>\n",
       "      <th>4</th>\n",
       "      <td>Individual_36</td>\n",
       "      <td>0.685159</td>\n",
       "      <td>0.393973</td>\n",
       "      <td>0.846925</td>\n",
       "      <td>0.500149</td>\n",
       "      <td>0.026949</td>\n",
       "      <td>0.592482</td>\n",
       "      <td>0.313793</td>\n",
       "    </tr>\n",
       "    <tr>\n",
       "      <th>...</th>\n",
       "      <td>...</td>\n",
       "      <td>...</td>\n",
       "      <td>...</td>\n",
       "      <td>...</td>\n",
       "      <td>...</td>\n",
       "      <td>...</td>\n",
       "      <td>...</td>\n",
       "      <td>...</td>\n",
       "    </tr>\n",
       "    <tr>\n",
       "      <th>9995</th>\n",
       "      <td>Individual_75</td>\n",
       "      <td>0.034201</td>\n",
       "      <td>0.130378</td>\n",
       "      <td>0.178789</td>\n",
       "      <td>0.432733</td>\n",
       "      <td>0.738998</td>\n",
       "      <td>0.421231</td>\n",
       "      <td>0.834372</td>\n",
       "    </tr>\n",
       "    <tr>\n",
       "      <th>9996</th>\n",
       "      <td>Individual_98</td>\n",
       "      <td>0.120471</td>\n",
       "      <td>0.048668</td>\n",
       "      <td>0.927541</td>\n",
       "      <td>0.303808</td>\n",
       "      <td>0.498304</td>\n",
       "      <td>0.103011</td>\n",
       "      <td>0.495450</td>\n",
       "    </tr>\n",
       "    <tr>\n",
       "      <th>9997</th>\n",
       "      <td>Individual_69</td>\n",
       "      <td>0.062367</td>\n",
       "      <td>0.948376</td>\n",
       "      <td>0.333125</td>\n",
       "      <td>0.281963</td>\n",
       "      <td>0.582049</td>\n",
       "      <td>0.847271</td>\n",
       "      <td>0.146321</td>\n",
       "    </tr>\n",
       "    <tr>\n",
       "      <th>9998</th>\n",
       "      <td>Individual_3</td>\n",
       "      <td>0.797594</td>\n",
       "      <td>0.043427</td>\n",
       "      <td>0.361309</td>\n",
       "      <td>0.355779</td>\n",
       "      <td>1.000855</td>\n",
       "      <td>0.211437</td>\n",
       "      <td>0.637916</td>\n",
       "    </tr>\n",
       "    <tr>\n",
       "      <th>9999</th>\n",
       "      <td>Individual_72</td>\n",
       "      <td>0.850305</td>\n",
       "      <td>0.439504</td>\n",
       "      <td>0.907380</td>\n",
       "      <td>0.528750</td>\n",
       "      <td>0.323344</td>\n",
       "      <td>0.453846</td>\n",
       "      <td>0.330855</td>\n",
       "    </tr>\n",
       "  </tbody>\n",
       "</table>\n",
       "<p>10000 rows × 8 columns</p>\n",
       "</div>"
      ],
      "text/plain": [
       "         Individual  unexplainable_1  unexplainable_2  unexplainable_3  \\\n",
       "0     Individual_24         0.906811         0.658156         0.755023   \n",
       "1     Individual_79         0.487641         0.362848         0.114911   \n",
       "2     Individual_89         0.986186         0.236145         0.769923   \n",
       "3     Individual_95         0.299610         0.376260         0.659446   \n",
       "4     Individual_36         0.685159         0.393973         0.846925   \n",
       "...             ...              ...              ...              ...   \n",
       "9995  Individual_75         0.034201         0.130378         0.178789   \n",
       "9996  Individual_98         0.120471         0.048668         0.927541   \n",
       "9997  Individual_69         0.062367         0.948376         0.333125   \n",
       "9998   Individual_3         0.797594         0.043427         0.361309   \n",
       "9999  Individual_72         0.850305         0.439504         0.907380   \n",
       "\n",
       "      unexplainable_4  if_zebra_then_age  explained_by_loves_to_sleep  \\\n",
       "0            0.446024           0.408604                     0.327839   \n",
       "1            0.691515           0.826284                     0.512344   \n",
       "2            0.681268           0.001332                     0.343666   \n",
       "3            0.591719           0.479411                     0.680489   \n",
       "4            0.500149           0.026949                     0.592482   \n",
       "...               ...                ...                          ...   \n",
       "9995         0.432733           0.738998                     0.421231   \n",
       "9996         0.303808           0.498304                     0.103011   \n",
       "9997         0.281963           0.582049                     0.847271   \n",
       "9998         0.355779           1.000855                     0.211437   \n",
       "9999         0.528750           0.323344                     0.453846   \n",
       "\n",
       "      Age_plus_Weight  \n",
       "0            0.562937  \n",
       "1            0.358182  \n",
       "2            0.246934  \n",
       "3            0.352414  \n",
       "4            0.313793  \n",
       "...               ...  \n",
       "9995         0.834372  \n",
       "9996         0.495450  \n",
       "9997         0.146321  \n",
       "9998         0.637916  \n",
       "9999         0.330855  \n",
       "\n",
       "[10000 rows x 8 columns]"
      ]
     },
     "execution_count": 21,
     "metadata": {},
     "output_type": "execute_result"
    }
   ],
   "source": [
    "my_df.loc[:, [index_name] + observed_features]"
   ]
  },
  {
   "cell_type": "code",
   "execution_count": 22,
   "metadata": {},
   "outputs": [
    {
     "data": {
      "text/html": [
       "<div>\n",
       "<style scoped>\n",
       "    .dataframe tbody tr th:only-of-type {\n",
       "        vertical-align: middle;\n",
       "    }\n",
       "\n",
       "    .dataframe tbody tr th {\n",
       "        vertical-align: top;\n",
       "    }\n",
       "\n",
       "    .dataframe thead th {\n",
       "        text-align: right;\n",
       "    }\n",
       "</style>\n",
       "<table border=\"1\" class=\"dataframe\">\n",
       "  <thead>\n",
       "    <tr style=\"text-align: right;\">\n",
       "      <th>Individual</th>\n",
       "      <th>Individual_0</th>\n",
       "      <th>Individual_1</th>\n",
       "      <th>Individual_10</th>\n",
       "      <th>Individual_11</th>\n",
       "      <th>Individual_12</th>\n",
       "      <th>Individual_13</th>\n",
       "      <th>Individual_14</th>\n",
       "      <th>Individual_15</th>\n",
       "      <th>Individual_16</th>\n",
       "      <th>Individual_17</th>\n",
       "      <th>...</th>\n",
       "      <th>Individual_90</th>\n",
       "      <th>Individual_91</th>\n",
       "      <th>Individual_92</th>\n",
       "      <th>Individual_93</th>\n",
       "      <th>Individual_94</th>\n",
       "      <th>Individual_95</th>\n",
       "      <th>Individual_96</th>\n",
       "      <th>Individual_97</th>\n",
       "      <th>Individual_98</th>\n",
       "      <th>Individual_99</th>\n",
       "    </tr>\n",
       "    <tr>\n",
       "      <th>Individual</th>\n",
       "      <th></th>\n",
       "      <th></th>\n",
       "      <th></th>\n",
       "      <th></th>\n",
       "      <th></th>\n",
       "      <th></th>\n",
       "      <th></th>\n",
       "      <th></th>\n",
       "      <th></th>\n",
       "      <th></th>\n",
       "      <th></th>\n",
       "      <th></th>\n",
       "      <th></th>\n",
       "      <th></th>\n",
       "      <th></th>\n",
       "      <th></th>\n",
       "      <th></th>\n",
       "      <th></th>\n",
       "      <th></th>\n",
       "      <th></th>\n",
       "      <th></th>\n",
       "    </tr>\n",
       "  </thead>\n",
       "  <tbody>\n",
       "    <tr>\n",
       "      <th>Individual_0</th>\n",
       "      <td>0.000000</td>\n",
       "      <td>0.000114</td>\n",
       "      <td>0.000110</td>\n",
       "      <td>0.000042</td>\n",
       "      <td>0.000143</td>\n",
       "      <td>0.000102</td>\n",
       "      <td>0.000119</td>\n",
       "      <td>0.000104</td>\n",
       "      <td>0.000084</td>\n",
       "      <td>0.000141</td>\n",
       "      <td>...</td>\n",
       "      <td>0.000117</td>\n",
       "      <td>0.000029</td>\n",
       "      <td>0.000108</td>\n",
       "      <td>0.000100</td>\n",
       "      <td>0.000141</td>\n",
       "      <td>0.000105</td>\n",
       "      <td>0.000139</td>\n",
       "      <td>0.000094</td>\n",
       "      <td>0.000139</td>\n",
       "      <td>0.000145</td>\n",
       "    </tr>\n",
       "    <tr>\n",
       "      <th>Individual_1</th>\n",
       "      <td>0.000114</td>\n",
       "      <td>0.000000</td>\n",
       "      <td>0.000021</td>\n",
       "      <td>0.000118</td>\n",
       "      <td>0.000102</td>\n",
       "      <td>0.000087</td>\n",
       "      <td>0.000104</td>\n",
       "      <td>0.000026</td>\n",
       "      <td>0.000090</td>\n",
       "      <td>0.000093</td>\n",
       "      <td>...</td>\n",
       "      <td>0.000124</td>\n",
       "      <td>0.000120</td>\n",
       "      <td>0.000023</td>\n",
       "      <td>0.000094</td>\n",
       "      <td>0.000097</td>\n",
       "      <td>0.000094</td>\n",
       "      <td>0.000142</td>\n",
       "      <td>0.000077</td>\n",
       "      <td>0.000049</td>\n",
       "      <td>0.000102</td>\n",
       "    </tr>\n",
       "    <tr>\n",
       "      <th>Individual_10</th>\n",
       "      <td>0.000110</td>\n",
       "      <td>0.000021</td>\n",
       "      <td>0.000000</td>\n",
       "      <td>0.000116</td>\n",
       "      <td>0.000105</td>\n",
       "      <td>0.000088</td>\n",
       "      <td>0.000106</td>\n",
       "      <td>0.000026</td>\n",
       "      <td>0.000090</td>\n",
       "      <td>0.000095</td>\n",
       "      <td>...</td>\n",
       "      <td>0.000124</td>\n",
       "      <td>0.000117</td>\n",
       "      <td>0.000023</td>\n",
       "      <td>0.000094</td>\n",
       "      <td>0.000099</td>\n",
       "      <td>0.000094</td>\n",
       "      <td>0.000142</td>\n",
       "      <td>0.000078</td>\n",
       "      <td>0.000055</td>\n",
       "      <td>0.000107</td>\n",
       "    </tr>\n",
       "    <tr>\n",
       "      <th>Individual_11</th>\n",
       "      <td>0.000042</td>\n",
       "      <td>0.000118</td>\n",
       "      <td>0.000116</td>\n",
       "      <td>0.000000</td>\n",
       "      <td>0.000145</td>\n",
       "      <td>0.000104</td>\n",
       "      <td>0.000115</td>\n",
       "      <td>0.000112</td>\n",
       "      <td>0.000085</td>\n",
       "      <td>0.000145</td>\n",
       "      <td>...</td>\n",
       "      <td>0.000120</td>\n",
       "      <td>0.000041</td>\n",
       "      <td>0.000114</td>\n",
       "      <td>0.000099</td>\n",
       "      <td>0.000145</td>\n",
       "      <td>0.000106</td>\n",
       "      <td>0.000141</td>\n",
       "      <td>0.000099</td>\n",
       "      <td>0.000145</td>\n",
       "      <td>0.000145</td>\n",
       "    </tr>\n",
       "    <tr>\n",
       "      <th>Individual_12</th>\n",
       "      <td>0.000143</td>\n",
       "      <td>0.000102</td>\n",
       "      <td>0.000105</td>\n",
       "      <td>0.000145</td>\n",
       "      <td>0.000000</td>\n",
       "      <td>0.000108</td>\n",
       "      <td>0.000118</td>\n",
       "      <td>0.000103</td>\n",
       "      <td>0.000114</td>\n",
       "      <td>0.000024</td>\n",
       "      <td>...</td>\n",
       "      <td>0.000132</td>\n",
       "      <td>0.000145</td>\n",
       "      <td>0.000104</td>\n",
       "      <td>0.000115</td>\n",
       "      <td>0.000013</td>\n",
       "      <td>0.000112</td>\n",
       "      <td>0.000138</td>\n",
       "      <td>0.000105</td>\n",
       "      <td>0.000095</td>\n",
       "      <td>0.000089</td>\n",
       "    </tr>\n",
       "  </tbody>\n",
       "</table>\n",
       "<p>5 rows × 100 columns</p>\n",
       "</div>"
      ],
      "text/plain": [
       "Individual     Individual_0  Individual_1  Individual_10  Individual_11  \\\n",
       "Individual                                                                \n",
       "Individual_0       0.000000      0.000114       0.000110       0.000042   \n",
       "Individual_1       0.000114      0.000000       0.000021       0.000118   \n",
       "Individual_10      0.000110      0.000021       0.000000       0.000116   \n",
       "Individual_11      0.000042      0.000118       0.000116       0.000000   \n",
       "Individual_12      0.000143      0.000102       0.000105       0.000145   \n",
       "\n",
       "Individual     Individual_12  Individual_13  Individual_14  Individual_15  \\\n",
       "Individual                                                                  \n",
       "Individual_0        0.000143       0.000102       0.000119       0.000104   \n",
       "Individual_1        0.000102       0.000087       0.000104       0.000026   \n",
       "Individual_10       0.000105       0.000088       0.000106       0.000026   \n",
       "Individual_11       0.000145       0.000104       0.000115       0.000112   \n",
       "Individual_12       0.000000       0.000108       0.000118       0.000103   \n",
       "\n",
       "Individual     Individual_16  Individual_17  ...  Individual_90  \\\n",
       "Individual                                   ...                  \n",
       "Individual_0        0.000084       0.000141  ...       0.000117   \n",
       "Individual_1        0.000090       0.000093  ...       0.000124   \n",
       "Individual_10       0.000090       0.000095  ...       0.000124   \n",
       "Individual_11       0.000085       0.000145  ...       0.000120   \n",
       "Individual_12       0.000114       0.000024  ...       0.000132   \n",
       "\n",
       "Individual     Individual_91  Individual_92  Individual_93  Individual_94  \\\n",
       "Individual                                                                  \n",
       "Individual_0        0.000029       0.000108       0.000100       0.000141   \n",
       "Individual_1        0.000120       0.000023       0.000094       0.000097   \n",
       "Individual_10       0.000117       0.000023       0.000094       0.000099   \n",
       "Individual_11       0.000041       0.000114       0.000099       0.000145   \n",
       "Individual_12       0.000145       0.000104       0.000115       0.000013   \n",
       "\n",
       "Individual     Individual_95  Individual_96  Individual_97  Individual_98  \\\n",
       "Individual                                                                  \n",
       "Individual_0        0.000105       0.000139       0.000094       0.000139   \n",
       "Individual_1        0.000094       0.000142       0.000077       0.000049   \n",
       "Individual_10       0.000094       0.000142       0.000078       0.000055   \n",
       "Individual_11       0.000106       0.000141       0.000099       0.000145   \n",
       "Individual_12       0.000112       0.000138       0.000105       0.000095   \n",
       "\n",
       "Individual     Individual_99  \n",
       "Individual                    \n",
       "Individual_0        0.000145  \n",
       "Individual_1        0.000102  \n",
       "Individual_10       0.000107  \n",
       "Individual_11       0.000145  \n",
       "Individual_12       0.000089  \n",
       "\n",
       "[5 rows x 100 columns]"
      ]
     },
     "execution_count": 22,
     "metadata": {},
     "output_type": "execute_result"
    }
   ],
   "source": [
    "df_observable_distances = observable_patterns_result['pw_norm_dist']\n",
    "df_observable_distances.head()"
   ]
  },
  {
   "cell_type": "code",
   "execution_count": 23,
   "metadata": {},
   "outputs": [],
   "source": [
    "fingerprint_df = ClusteringApplier._calculate_fingerprints(\n",
    "    df = my_df,\n",
    "    group_name = index_name,\n",
    "    use_config=False,\n",
    ")"
   ]
  },
  {
   "cell_type": "code",
   "execution_count": 24,
   "metadata": {},
   "outputs": [],
   "source": [
    "fingerprint_distanzen, normierte_fingerprint_distanzen = ClusteringApplier.calculate_pairwise_fingerprint_distances(\n",
    "    df = fingerprint_df,\n",
    "    distance = 'jensenshannon'\n",
    ")"
   ]
  },
  {
   "cell_type": "code",
   "execution_count": 25,
   "metadata": {},
   "outputs": [],
   "source": [
    "@torch.jit.script\n",
    "def torch_relative_entropy(x:torch.Tensor, y:torch.Tensor) -> torch.Tensor:\n",
    "    return (x * torch.log(x/y))"
   ]
  },
  {
   "cell_type": "code",
   "execution_count": 26,
   "metadata": {},
   "outputs": [],
   "source": [
    "@torch.jit.script\n",
    "def new_torch_matrix_jensenshannon(A:torch.Tensor) -> torch.Tensor:\n",
    "\n",
    "    ########################################################################################\n",
    "    ### Conversion of the jensenshannon distance from scipy.spatial.distance to pytorch. ###\n",
    "    ########################################################################################\n",
    "\n",
    "    \"\"\"\n",
    "    Compute the pairwise Jensen-Shannon distance (metric) between\n",
    "    all entries in a matrix. This is the square root\n",
    "    of the Jensen-Shannon divergence.\n",
    "\n",
    "    The Jensen-Shannon distance between two probability\n",
    "    vectors `p` and `q` is defined as,\n",
    "\n",
    "    .. math::\n",
    "\n",
    "       \\\\sqrt{\\\\frac{D(p \\\\parallel m) + D(q \\\\parallel m)}{2}}\n",
    "\n",
    "    where :math:`m` is the pointwise mean of :math:`p` and :math:`q`\n",
    "    and :math:`D` is the Kullback-Leibler divergence.\n",
    "\n",
    "    This routine will normalize `p` and `q` if they don't sum to 1.0.\n",
    "\n",
    "    Parameters\n",
    "    ----------\n",
    "    A : (N,M) array_like\n",
    "        matrix of probability vectors\n",
    "    \n",
    "    Returns\n",
    "    -------\n",
    "    js : double or ndarray\n",
    "        The Jensen-Shannon distances along the `axis`.\n",
    "\n",
    "    \"\"\"\n",
    "    \n",
    "    clamped_A = A.clamp(min = 1e-20)\n",
    "    normalized_A = clamped_A / torch.sum(clamped_A, dim=1).unsqueeze(-1)\n",
    "    m_A = (normalized_A.unsqueeze(-1) + normalized_A.T).permute(2,0,1) / 2.0\n",
    "    relative_entropies = torch_relative_entropy(normalized_A, m_A) + 1e-10\n",
    "    js = (relative_entropies.sum(dim = 2) + relative_entropies.sum(dim = 2).T).clamp(min = 0.)\n",
    "    return (js / 2.0).sqrt()"
   ]
  },
  {
   "cell_type": "code",
   "execution_count": null,
   "metadata": {},
   "outputs": [],
   "source": [
    "class FeatureSelectionModel(Paremeterized_Model):\n",
    "    def __init__(self, df_explainable:pd.DataFrame, df_observable:pd.DataFrame, df_cluster:pd.DataFrame|torch.Tensor, num_virtual_features:int, index_name:str, num_samples:int=1, power:int=4, penalty=0., device='cpu', clip_value=0, dtype=torch.float64):\n",
    "        super().__init__(device, dtype)\n",
    "\n",
    "        self.df_explainable = df_explainable.copy()\n",
    "        self.df_explainable.sort_index(inplace=True)\n",
    "\n",
    "        self.df_observable = df_observable.copy()\n",
    "        self.df_observable.sort_values(index_name, inplace=True)\n",
    "        self.df_observable.reset_index(inplace=True, drop=True)\n",
    "\n",
    "        self.tensor_explainable = torch.tensor(self.df_explainable.to_numpy(), dtype=self.dtype, device=self.device).clamp(min=1e-20, max=1.)\n",
    "        self.tensor_observable  = torch.tensor(self.df_observable.set_index(index_name).to_numpy(), dtype=self.dtype, device=self.device).clamp(min=1e-20, max=1.)\n",
    "\n",
    "        if isinstance(df_cluster, pd.DataFrame):\n",
    "            self.cluster_positions  = torch.tensor(df_cluster.to_numpy(), dtype=self.dtype, device=self.device).clamp(min=1e-20)\n",
    "        else:\n",
    "            self.cluster_positions = df_cluster.to(self.dtype).to(self.device)\n",
    "\n",
    "        self.unique_groups = sorted(self.df_observable.loc[:, index_name].unique())\n",
    "        self.number_of_groups = len(self.unique_groups)\n",
    "        self.number_of_observations = self.df_observable.shape[0]\n",
    "        self.mask_tensor = torch.zeros((self.number_of_observations, self.number_of_groups), device=self.device, dtype=self.dtype)\n",
    "\n",
    "        for name, i in zip(self.unique_groups, np.arange(len(self.unique_groups))):\n",
    "            _masking_list = (list(self.df_observable.query(f'{index_name} == \"{name}\"').index))\n",
    "            self.mask_tensor[_masking_list, i] = 1.\n",
    "            if name == 'Individual_0':\n",
    "                self.masking_1 = _masking_list\n",
    "\n",
    "        # Some sanity check\n",
    "        for name, i in zip(self.unique_groups, np.arange(len(self.unique_groups))):\n",
    "            lis = (self.mask_tensor.unsqueeze(2) * self.tensor_observable.unsqueeze(1))[:, i, :].nonzero()[:, 0].unique().numpy()\n",
    "            a = self.df_observable.iloc[lis].loc[:, index_name]\n",
    "            assert (a == name).all(), f'Failed sanity check for \"{name}\": {a}'\n",
    "\n",
    "        self.power = power\n",
    "\n",
    "        self.feature_names = list(self.df_explainable.columns)\n",
    "        self.num_features = len(self.feature_names)\n",
    "\n",
    "        self.observation_names = list(df_observable.set_index(index_name).columns)\n",
    "\n",
    "        self.penalty = torch.tensor(penalty, device=self.device, dtype=self.dtype)\n",
    "        self.num_samples = num_samples\n",
    "\n",
    "        ###\n",
    "        self.virtual_features = []\n",
    "        self.num_virtual_features = num_virtual_features\n",
    "        for v_i in range(self.num_virtual_features):\n",
    "\n",
    "            epsilon = 1e-4\n",
    "\n",
    "            z0 = torch.zeros([len(self.feature_names)]) + epsilon\n",
    "            z1 = torch.zeros([len(self.feature_names)]) + epsilon\n",
    "            z1[v_i] = 1. - epsilon\n",
    "            z2 = torch.ones([len(self.feature_names)]) - epsilon\n",
    "            \n",
    "\n",
    "            self.add_param(f'antecedens_positions_{v_i}', z0.logit(), lambda x: x.sigmoid())\n",
    "            self.add_param(f'consequent_positions_{v_i}', z0.logit(), lambda x: x.sigmoid())\n",
    "            self.add_param(f'antecedens_weights_{v_i}', z1.logit(), lambda x: x.sigmoid())\n",
    "            self.add_param(f'consequent_weights_{v_i}', z2.logit(), lambda x: x.sigmoid())\n",
    "\n",
    "            self.virtual_features.append(v_i)\n",
    "        ###\n",
    "        \n",
    "        self._add_sigmoid_param('feature_weights', N=len(self.feature_names) + self.num_virtual_features, value=0.500, noise=0.100)\n",
    "        self._add_sigmoid_param('observation_weights', N=len(self.observation_names), value=0.500, noise=0.250)\n",
    "\n",
    "        self.add_param('cluster_positions', self.cluster_positions.logit(), lambda x: x.sigmoid())\n",
    "        \n",
    "        self.best_loss = None \n",
    "        self.best_feature_weights = None\n",
    "        self.best_observation_weights = None\n",
    "\n",
    "        self.feature_names = np.array(self.feature_names)\n",
    "\n",
    "        self.U = lambda shape: Uniform(0, 1).sample(shape)\n",
    "\n",
    "        if clip_value > 0:\n",
    "            for p in self.parameters.parameters():\n",
    "                print(p)\n",
    "                p.register_hook(lambda grad: torch.clamp(grad, -clip_value, clip_value))\n",
    "\n",
    "    def logic_string_helper(self, _weights, positions, thresh):\n",
    "        _features_indices = (_weights > thresh).nonzero()[0]\n",
    "        if len(_features_indices) > 0:\n",
    "            _features = self.feature_names[_features_indices]\n",
    "            _position = positions[_features_indices]\n",
    "            _string = ''\n",
    "            i = 0\n",
    "            for symbol, pos in zip(_features, _position):\n",
    "                if pos < 0.5:\n",
    "                    addendum = 'Higher('\n",
    "                else:\n",
    "                    addendum = 'Lower('\n",
    "                if i == len(_features) - 1:\n",
    "                    _string += f'{addendum}{symbol})'\n",
    "                else:\n",
    "                    _string += f'{addendum}{symbol}) ∧ '\n",
    "                i += 1\n",
    "        else:\n",
    "            _string = 'Falsum'\n",
    "        return _string\n",
    "\n",
    "    def interpretation(self, v_i, thresh = 0.05):\n",
    "            antecedens_positions = self.constrained(f'antecedens_positions_{v_i}').clone().detach().numpy()\n",
    "            consequent_positions = self.constrained(f'consequent_positions_{v_i}').clone().detach().numpy()\n",
    "            antecedens_weights   =  self.constrained(f'antecedens_weights_{v_i}').clone().detach().numpy()\n",
    "            consequent_weights   = self.constrained(f'consequent_weights_{v_i}').clone().detach().numpy()\n",
    "\n",
    "            antecedens_weights = antecedens_weights/antecedens_weights.sum()\n",
    "            consequent_weights = consequent_weights/consequent_weights.sum()\n",
    "\n",
    "            antecedens_string = self.logic_string_helper(antecedens_weights, antecedens_positions, thresh)\n",
    "            consequent_string = self.logic_string_helper(consequent_weights, consequent_positions, thresh)\n",
    "            interpretation_string = f'{antecedens_string} ⇒ {consequent_string}'\n",
    "\n",
    "            return interpretation_string\n",
    "    \n",
    "    def try_interpretation(self, v_i, thresh):\n",
    "        if type(v_i) == int:\n",
    "            return self.interpretation(v_i, thresh)\n",
    "        else:\n",
    "            return v_i\n",
    "\n",
    "    def _add_param_from_mean_std(self, param_name='', N=1, mean=0.5, std=0.05, noise=0.1):\n",
    "        alpha, beta = mean_std_to_beta_params(mean, std)\n",
    "        \n",
    "        noise_1 = torch.rand(N)\n",
    "        noise_2 = torch.rand(N)\n",
    "\n",
    "        feature_alpha_init = alpha * torch.ones(N) * (1.-noise) + noise_1 * noise\n",
    "        feature_beta_init  = beta  * torch.ones(N) * (1.-noise) + noise_2 * noise\n",
    "\n",
    "        self.add_param(f'{param_name}_alpha', torch.log(feature_alpha_init), lambda x: x.exp())\n",
    "        self.add_param(f'{param_name}_beta',  torch.log(feature_beta_init),  lambda x: x.exp())\n",
    "\n",
    "    def _add_sigmoid_param(self, param_name='', N=1, value=None, noise=0.1):\n",
    "\n",
    "        noise_1 = torch.rand(N)\n",
    "        noisy_value = value * torch.ones(N) * (1.-noise) + noise_1 * noise\n",
    "        init_value = torch.logit(noisy_value)\n",
    "\n",
    "        self.add_param(param_name, init_value, lambda x: x.sigmoid()) # [-1., 1.] --> [0, 2]\n",
    "        #foo = lambda x: x/(1+x.abs())\n",
    "        #self.add_param(param_name, init_value, lambda x: (foo(x) + 1.)/2.)\n",
    "\n",
    "    def get_weights(self) -> dict:\n",
    "        w = self.best_feature_weights\n",
    "        feature_dict = {\n",
    "            feature_name:float(weight) for feature_name, weight in zip(self.feature_names, w)\n",
    "        }\n",
    "        v = self.best_observation_weights\n",
    "        observation_dict = {\n",
    "            feature_name:float(weight) for feature_name, weight in zip(self.observation_names, v)\n",
    "        }\n",
    "        return feature_dict, observation_dict\n",
    "        \n",
    "    def save_if_best_loss(self, loss, feature_weights, observation_weights, cluster_positions):\n",
    "        if self.best_loss is None:\n",
    "            self.best_loss = loss.clone().detach()\n",
    "            self.best_feature_weights = feature_weights.clone().detach()\n",
    "            self.best_observation_weights = 1.00 + 1e-6 - observation_weights.clone().detach()\n",
    "            self.best_cluster_positions = cluster_positions.clone().detach()\n",
    "        elif loss < self.best_loss:\n",
    "            self.best_loss = loss.clone().detach()\n",
    "            self.best_feature_weights = feature_weights.clone().detach()\n",
    "            self.best_observation_weights = 1.00 + 1e-6 - observation_weights.clone().detach()\n",
    "            self.best_cluster_positions = cluster_positions.clone().detach()\n",
    "    \n",
    "    def plot(self, thresh=0.05):\n",
    "\n",
    "        feature_weights = self.constrained('feature_weights').clone().detach().unsqueeze(0).numpy()\n",
    "        observation_weights = self.constrained('observation_weights').clone().detach().unsqueeze(0).numpy()\n",
    "        inv_observation_weights = 1.00 + 1e-6 - observation_weights \n",
    "\n",
    "        f = {self.feature_names[i]:feature_weights[:, i] for i in range(len(self.feature_names))}\n",
    "        for v_i in self.virtual_features:\n",
    "            interpretation = self.interpretation(v_i, thresh=thresh)\n",
    "            feature_weight = feature_weights[:, v_i + len(self.feature_names)]\n",
    "            f[interpretation] = feature_weight\n",
    "\n",
    "        feature_weight_df = pd.DataFrame(f)\n",
    "        observation_weight_df = pd.DataFrame({self.observation_names[i]:inv_observation_weights[:, i] for i in range(len(self.observation_names))})\n",
    "\n",
    "        plt.figure(figsize=(10, 5))\n",
    "        ax1 = sns.barplot(feature_weight_df)\n",
    "        ax1.axes.xaxis.set_tick_params(rotation=90)\n",
    "        ax1.set_title('Feature Weights')\n",
    "        plt.figure(figsize=(10, 5))\n",
    "        ax2 = sns.barplot(observation_weight_df)\n",
    "        ax2.axes.xaxis.set_tick_params(rotation=90)\n",
    "        ax2.set_title('Observation Weights') \n",
    "\n",
    "    def sample_fingerprints(self, inv_observation_weights, cluster_positions):\n",
    "        epsilon = 1e-20\n",
    "        _dist = ((self.tensor_observable.unsqueeze(1) - cluster_positions.unsqueeze(0)).pow(2).clamp(min=epsilon) * inv_observation_weights).sum(2).sqrt()\n",
    "        norm_dist = (_dist / _dist.sum(dim=1).unsqueeze(-1))\n",
    "        masked_norm_dist = (self.mask_tensor.unsqueeze(2) * norm_dist.unsqueeze(1))\n",
    "        accumulated_norm_dist = masked_norm_dist.sum(dim=0)\n",
    "        fingerprint_distances = accumulated_norm_dist / accumulated_norm_dist.sum(dim=1).unsqueeze(-1)\n",
    "        pow_fingerprints = ((fingerprint_distances.clamp(min=epsilon))**-1).pow(self.power) \n",
    "        sampled_fingerprints = Dirichlet(pow_fingerprints).rsample([self.num_samples]).mean(dim=0)\n",
    "        return sampled_fingerprints\n",
    "    \n",
    "    def conditional(self, v_i):\n",
    "        antecedens_positions = self.constrained(f'antecedens_positions_{v_i}')\n",
    "        consequent_positions = self.constrained(f'consequent_positions_{v_i}')\n",
    "        antecedens_weights   =  self.constrained(f'antecedens_weights_{v_i}')\n",
    "        consequent_weights   = self.constrained(f'consequent_weights_{v_i}')\n",
    "\n",
    "        antecedens = (self.tensor_explainable - antecedens_positions).abs().pow(antecedens_weights).prod(dim=1)\n",
    "        consequent = (self.tensor_explainable - consequent_positions).abs().pow(consequent_weights).prod(dim=1)\n",
    "\n",
    "        return antecedens, consequent\n",
    "\n",
    "    def loss(self, data:torch.Tensor|None=None) -> torch.tensor:\n",
    "\n",
    "        # feature_weights\n",
    "        feature_weights = self.constrained('feature_weights')\n",
    "\n",
    "        # observation_weights\n",
    "        observation_weights = self.constrained('observation_weights')\n",
    "        inv_observation_weights = 1.00 + 1e-6 - observation_weights \n",
    "\n",
    "        # cluster positions\n",
    "        cluster_positions = self.constrained('cluster_positions').clamp(min = 1e-10, max=1e10)\n",
    "\n",
    "        # fingerprints\n",
    "        sampled_fingerprints = self.sample_fingerprints(inv_observation_weights, cluster_positions)\n",
    "\n",
    "        # Construct the distance matrix for the fingerprints\n",
    "        fingerprint_distances = new_torch_matrix_jensenshannon(sampled_fingerprints)\n",
    "\n",
    "        # Construct the distance matrix for the features\n",
    "        feature_weights = (feature_weights / feature_weights.sum())\n",
    "        feature_weights = feature_weights.repeat(self.tensor_explainable.shape[0],1)\n",
    "        explainables = self.tensor_explainable.clone()\n",
    "        for v_i in range(self.num_virtual_features):\n",
    "            antecedens, consequent = self.conditional(v_i)\n",
    "            feature_weights[:, self.num_features + v_i] *= antecedens\n",
    "            explainables = torch.hstack((explainables, consequent.unsqueeze(-1)))\n",
    "\n",
    "        feature_weights = (feature_weights / feature_weights.sum())\n",
    "        feature_distances = construct_distance_matrix(\n",
    "            A=explainables, feature_weights=feature_weights, normalize=False\n",
    "        )\n",
    "\n",
    "        # Calculate the correlation between the distance matrix and the observable distances\n",
    "        coef = pearson_corrcoef(feature_distances, fingerprint_distances)\n",
    "\n",
    "        #k_penalty = (feature_weights.sum() * self.penalty)\n",
    "\n",
    "        # Loss\n",
    "        loss = -coef #+ k_penalty\n",
    "\n",
    "        self.save_if_best_loss(loss, feature_weights, observation_weights, cluster_positions)\n",
    "\n",
    "        return loss\n"
   ]
  },
  {
   "cell_type": "code",
   "execution_count": 380,
   "metadata": {},
   "outputs": [
    {
     "data": {
      "text/plain": [
       "'\\nHaben:\\nKonjunktion, Negation\\n\\nDe Morgansche Gesetze:\\n~(a and b) = ~a or ~b\\na or b = ~((~a) and (~b))\\n\\n'"
      ]
     },
     "execution_count": 380,
     "metadata": {},
     "output_type": "execute_result"
    }
   ],
   "source": [
    "'''\n",
    "Haben:\n",
    "Konjunktion, Negation\n",
    "\n",
    "De Morgansche Gesetze:\n",
    "~(a and b) = ~a or ~b\n",
    "a or b = ~((~a) and (~b))\n",
    "\n",
    "'''"
   ]
  },
  {
   "cell_type": "code",
   "execution_count": 32,
   "metadata": {},
   "outputs": [],
   "source": [
    "from gradient_solver import _construct_distance_matrix"
   ]
  },
  {
   "cell_type": "code",
   "execution_count": 46,
   "metadata": {},
   "outputs": [],
   "source": [
    "df_explainable = preparation_result['explainable_df'].copy().set_index(index_name)\n",
    "df_observable = observable_patterns_result['df_observable_data'].copy().set_index(index_name).loc[:, observed_features].reset_index()"
   ]
  },
  {
   "cell_type": "code",
   "execution_count": 47,
   "metadata": {},
   "outputs": [
    {
     "name": "stdout",
     "output_type": "stream",
     "text": [
      "Loss before training: -0.20854697116129295\n",
      "1/10 --- Mean Loss : -0.632786742326209\n",
      "2/10 --- Mean Loss : -0.8903973260872043\n",
      "3/10 --- Mean Loss : -0.9844382857842321\n",
      "4/10 --- Mean Loss : -0.9844536937981154\n",
      "5/10 --- Mean Loss : -0.9864934682317958\n",
      "6/10 --- Mean Loss : -0.9577848081706961\n",
      "7/10 --- Mean Loss : -0.9891447520256214\n",
      "8/10 --- Mean Loss : -0.9931961498635231\n",
      "9/10 --- Mean Loss : -0.9933119183127501\n",
      "10/10 --- Mean Loss : -0.9931665996805149\n"
     ]
    }
   ],
   "source": [
    "model = FeatureSelectionModel(\n",
    "    df_explainable,\n",
    "    df_observable.loc[:, ['Individual', 'if_zebra_then_age', 'unexplainable_1']],\n",
    "    #df_observable,\n",
    "    #observable_patterns_result['df_cluster_median'],\n",
    "    observable_patterns_result['df_cluster_median'].loc[:, ['if_zebra_then_age', 'unexplainable_1']],\n",
    "    num_virtual_features=1,\n",
    "    power = 2,\n",
    "    index_name = 'Individual',\n",
    "    num_samples = 4,\n",
    "    dtype = torch.float64,\n",
    "    device = 'cpu',\n",
    "    penalty=0\n",
    ")\n",
    "\n",
    "# After this many steps, the learning rate is halved\n",
    "HALFLIFE = 30\n",
    "\n",
    "'''optimizer = torch.optim.RMSprop(\n",
    "    params = [\n",
    "        {'params': model.parameters['feature_weights'], 'lr': 0.1, 'momentum': 0.50},\n",
    "        {'params': model.parameters['observation_weights'], 'lr': 0.1, 'momentum': 0.50},\n",
    "        {'params': model.parameters['cluster_positions'], 'lr': 0.1, 'momentum': 0.50},\n",
    "    ],\n",
    "\n",
    ")'''\n",
    "optimizer = torch.optim.RMSprop(lr=0.1, momentum=0.50, params=model.parameters.parameters())\n",
    "\n",
    "lr_halflife = lambda epochs: 0.5**(1/epochs)\n",
    "scheduler = torch.optim.lr_scheduler.LambdaLR(optimizer, lr_lambda = lambda epoch: lr_halflife(HALFLIFE)**epoch)\n",
    "trainer = Trainer(model = model, optimizer = optimizer, scheduler = scheduler, dataloader = range(100))\n",
    "print(f'Loss before training: {model.loss().clone().detach()}')\n",
    "trainer.train(epochs = 10, timeout=60000)"
   ]
  },
  {
   "cell_type": "code",
   "execution_count": 53,
   "metadata": {},
   "outputs": [
    {
     "data": {
      "text/plain": [
       "'Higher(Is_a_Zebra) ∧ Higher(Noise_5) ⇒ Higher(Age)'"
      ]
     },
     "execution_count": 53,
     "metadata": {},
     "output_type": "execute_result"
    }
   ],
   "source": [
    "model.interpretation(0, 0.05)"
   ]
  },
  {
   "cell_type": "code",
   "execution_count": null,
   "metadata": {},
   "outputs": [],
   "source": [
    "IF(Is_a_Zebra > 0.5) "
   ]
  },
  {
   "cell_type": "code",
   "execution_count": 54,
   "metadata": {},
   "outputs": [
    {
     "data": {
      "image/png": "[encoded data removed]",
      "text/plain": [
       "<Figure size 1000x500 with 1 Axes>"
      ]
     },
     "metadata": {},
     "output_type": "display_data"
    },
    {
     "data": {
      "image/png": "[encoded data removed]",
      "text/plain": [
       "<Figure size 1000x500 with 1 Axes>"
      ]
     },
     "metadata": {},
     "output_type": "display_data"
    }
   ],
   "source": [
    "model.plot()"
   ]
  },
  {
   "cell_type": "code",
   "execution_count": 188,
   "metadata": {},
   "outputs": [],
   "source": [
    "feature_dict, observation_dict = model.get_weights()\n",
    "\n",
    "remaining_features = []\n",
    "for k,v in feature_dict.items():\n",
    "    if True: #v < 0.500:\n",
    "        remaining_features.append(k)\n",
    "\n",
    "i = 0\n",
    "remaining_observations = [index_name]\n",
    "remaining_observation_indices = []\n",
    "for k,v in observation_dict.items():\n",
    "    if v < 0.500:\n",
    "        remaining_observations.append(k)\n",
    "        remaining_observation_indices.append(i)\n",
    "    i += 1"
   ]
  },
  {
   "cell_type": "code",
   "execution_count": 189,
   "metadata": {},
   "outputs": [
    {
     "data": {
      "text/plain": [
       "(['Age',\n",
       "  'Weight',\n",
       "  'Is_a_Zebra',\n",
       "  'Loves_to_sleep',\n",
       "  'Noise_1',\n",
       "  'Noise_2',\n",
       "  'Noise_3',\n",
       "  'Noise_4',\n",
       "  'Noise_5',\n",
       "  'Virtual_Feature_0'],\n",
       " ['Individual',\n",
       "  'unexplainable_1',\n",
       "  'unexplainable_2',\n",
       "  'unexplainable_3',\n",
       "  'unexplainable_4',\n",
       "  'if_zebra_then_age',\n",
       "  'Age_plus_Weight'])"
      ]
     },
     "execution_count": 189,
     "metadata": {},
     "output_type": "execute_result"
    }
   ],
   "source": [
    "remaining_features, remaining_observations"
   ]
  },
  {
   "cell_type": "code",
   "execution_count": 227,
   "metadata": {},
   "outputs": [
    {
     "name": "stdout",
     "output_type": "stream",
     "text": [
      "Loss before training: -0.22132440031087497\n",
      "1/10 --- Mean Loss : -0.7786275364099853\n",
      "2/10 --- Mean Loss : -0.8167321350660051\n",
      "3/10 --- Mean Loss : -0.8337096013460394\n",
      "4/10 --- Mean Loss : -0.8407994198783739\n",
      "5/10 --- Mean Loss : -0.8429273909684857\n",
      "6/10 --- Mean Loss : -0.8444040318485582\n",
      "7/10 --- Mean Loss : -0.8474241615683251\n",
      "8/10 --- Mean Loss : -0.8551229162383259\n",
      "9/10 --- Mean Loss : -0.8992524892342992\n",
      "10/10 --- Mean Loss : -0.9581734163180101\n"
     ]
    }
   ],
   "source": [
    "next_model = FeatureSelectionModel(\n",
    "    df_explainable,\n",
    "    df_observable.loc[:, remaining_observations],\n",
    "    model.best_cluster_positions[:, remaining_observation_indices],\n",
    "    num_virtual_features=1,\n",
    "    power = 4,\n",
    "    index_name = 'Individual',\n",
    "    num_samples = 4,\n",
    "    dtype = torch.float64,\n",
    "    device = 'cpu',\n",
    "    penalty=0\n",
    ")\n",
    "\n",
    "# After this many steps, the learning rate is halved\n",
    "HALFLIFE = 50\n",
    "\n",
    "optimizer = torch.optim.RMSprop(lr=0.1, momentum=0.50, params=next_model.parameters.parameters())\n",
    "\n",
    "lr_halflife = lambda epochs: 0.5**(1/epochs)\n",
    "scheduler = torch.optim.lr_scheduler.LambdaLR(optimizer, lr_lambda = lambda epoch: lr_halflife(HALFLIFE)**epoch)\n",
    "trainer = Trainer(model = next_model, optimizer = optimizer, scheduler = scheduler, dataloader = range(100))\n",
    "print(f'Loss before training: {next_model.loss().clone().detach()}')\n",
    "trainer.train(epochs = 10, timeout=60000)"
   ]
  },
  {
   "cell_type": "code",
   "execution_count": 364,
   "metadata": {},
   "outputs": [],
   "source": [
    "def logic_string_helper(self, _weights, positions, thresh):\n",
    "    _features_indices = (_weights > thresh).nonzero()[0]\n",
    "    if len(_features_indices) > 0:\n",
    "        _features = self.feature_names[_features_indices]\n",
    "        _position = positions[_features_indices]\n",
    "        _string = ''\n",
    "        i = 0\n",
    "        for symbol, pos in zip(_features, _position):\n",
    "            if pos < 0.5:\n",
    "                addendum = 'Higher('\n",
    "            else:\n",
    "                addendum = 'Lower('\n",
    "            if i == len(_features) - 1:\n",
    "                _string += f'{addendum}{symbol})'\n",
    "            else:\n",
    "                _string += f'{addendum}{symbol}) ∧ '\n",
    "            i += 1\n",
    "    else:\n",
    "        _string = 'Falsum'\n",
    "    return _string\n",
    "\n",
    "def interpretation(self, v_i, thresh = 0.05):\n",
    "        antecedens_positions = self.constrained(f'antecedens_positions_{v_i}').clone().detach().numpy()\n",
    "        consequent_positions = self.constrained(f'consequent_positions_{v_i}').clone().detach().numpy()\n",
    "        antecedens_weights   =  self.constrained(f'antecedens_weights_{v_i}').clone().detach().numpy()\n",
    "        consequent_weights   = self.constrained(f'consequent_weights_{v_i}').clone().detach().numpy()\n",
    "\n",
    "        antecedens_weights = antecedens_weights/antecedens_weights.sum()\n",
    "        consequent_weights = consequent_weights/consequent_weights.sum()\n",
    "\n",
    "        antecedens_string = logic_string_helper(self, antecedens_weights, antecedens_positions, thresh)\n",
    "        consequent_string = logic_string_helper(self, consequent_weights, consequent_positions, thresh)\n",
    "        interpretation_string = f'{antecedens_string} ⇒ {consequent_string}'\n",
    "\n",
    "        return interpretation_string"
   ]
  },
  {
   "cell_type": "code",
   "execution_count": 232,
   "metadata": {},
   "outputs": [],
   "source": [
    "self = next_model"
   ]
  },
  {
   "cell_type": "code",
   "execution_count": 367,
   "metadata": {},
   "outputs": [
    {
     "data": {
      "text/plain": [
       "'Higher(Age) ∧ Higher(Weight) ⇒ Lower(Age)'"
      ]
     },
     "execution_count": 367,
     "metadata": {},
     "output_type": "execute_result"
    }
   ],
   "source": [
    "interpretation(self, 0)"
   ]
  },
  {
   "cell_type": "code",
   "execution_count": 292,
   "metadata": {},
   "outputs": [],
   "source": [
    "thresh = 0.05"
   ]
  },
  {
   "cell_type": "code",
   "execution_count": 305,
   "metadata": {},
   "outputs": [],
   "source": [
    "antecedens_positions = self.constrained(f'antecedens_positions_{v_i}').clone().detach().numpy()\n",
    "consequent_positions = self.constrained(f'consequent_positions_{v_i}').clone().detach().numpy()\n",
    "antecedens_weights   =  self.constrained(f'antecedens_weights_{v_i}').clone().detach().numpy()\n",
    "consequent_weights   = self.constrained(f'consequent_weights_{v_i}').clone().detach().numpy()"
   ]
  },
  {
   "cell_type": "code",
   "execution_count": 306,
   "metadata": {},
   "outputs": [],
   "source": [
    "antecedens_weights = antecedens_weights/antecedens_weights.sum()\n",
    "consequent_weights = consequent_weights/consequent_weights.sum()"
   ]
  },
  {
   "cell_type": "code",
   "execution_count": 318,
   "metadata": {},
   "outputs": [],
   "source": [
    "antecedens_features_indices = (antecedens_weights > thresh).nonzero()[0]\n",
    "if len(antecedens_features_indices) > 0:\n",
    "    antecedens_features = self.feature_names[antecedens_features_indices]\n",
    "    antecedens_position = antecedens_positions[antecedens_features_indices]\n",
    "    antecedens_string = ''\n",
    "    i = 0\n",
    "    for symbol, pos in zip(antecedens_features, antecedens_position):\n",
    "        if pos < 0.5:\n",
    "            addendum = 'Higher('\n",
    "        else:\n",
    "            addendum = 'Lower('\n",
    "        if i == len(antecedens_features) - 1:\n",
    "            antecedens_string += f'{addendum}{symbol})'\n",
    "        else:\n",
    "            antecedens_string += f'{addendum}{symbol}) ∧ '\n",
    "        i += 1\n",
    "else:\n",
    "    antecedens_string = 'Falsum'"
   ]
  },
  {
   "cell_type": "code",
   "execution_count": null,
   "metadata": {},
   "outputs": [],
   "source": []
  },
  {
   "cell_type": "code",
   "execution_count": null,
   "metadata": {},
   "outputs": [
    {
     "data": {
      "text/plain": [
       "'Higher(Age) ∧ Higher(Weight) ⇒ Lower(Age)'"
      ]
     },
     "execution_count": 362,
     "metadata": {},
     "output_type": "execute_result"
    }
   ],
   "source": []
  },
  {
   "cell_type": "code",
   "execution_count": 319,
   "metadata": {},
   "outputs": [],
   "source": [
    "consequent_features_indices = (consequent_weights > thresh).nonzero()[0]\n",
    "if len(consequent_features_indices) > 0:\n",
    "    consequent_features = self.feature_names[consequent_features_indices]\n",
    "    consequent_position = consequent_positions[consequent_features_indices]\n",
    "    consequent_string = ''\n",
    "    i = 0\n",
    "    for symbol, pos in zip(consequent_features, consequent_position):\n",
    "        if pos < 0.5:\n",
    "            addendum = 'Higher('\n",
    "        else:\n",
    "            addendum = 'Lower('\n",
    "        if i == len(consequent_features) - 1:\n",
    "            consequent_string += f'{addendum}{symbol})'\n",
    "        else:\n",
    "            consequent_string += f'{addendum}{symbol}) ∧ '\n",
    "        i += 1\n",
    "else:\n",
    "    consequent_string = 'Falsum'"
   ]
  },
  {
   "cell_type": "code",
   "execution_count": 320,
   "metadata": {},
   "outputs": [
    {
     "data": {
      "text/plain": [
       "'Higher(Age) ∧ Higher(Weight) ⇒ Lower(Age)'"
      ]
     },
     "execution_count": 320,
     "metadata": {},
     "output_type": "execute_result"
    }
   ],
   "source": [
    "f'{antecedens_string} ⇒ {consequent_string}'"
   ]
  },
  {
   "cell_type": "code",
   "execution_count": 298,
   "metadata": {},
   "outputs": [],
   "source": [
    "antecedens_string = [antecedens_features]"
   ]
  },
  {
   "cell_type": "code",
   "execution_count": 321,
   "metadata": {},
   "outputs": [
    {
     "data": {
      "text/plain": [
       "<Axes: >"
      ]
     },
     "execution_count": 321,
     "metadata": {},
     "output_type": "execute_result"
    },
    {
     "data": {
      "image/png": "[encoded data removed]",
      "text/plain": [
       "<Figure size 640x480 with 1 Axes>"
      ]
     },
     "metadata": {},
     "output_type": "display_data"
    }
   ],
   "source": [
    "sns.barplot(antecedens_positions)"
   ]
  },
  {
   "cell_type": "code",
   "execution_count": 299,
   "metadata": {},
   "outputs": [
    {
     "data": {
      "text/plain": [
       "<Axes: >"
      ]
     },
     "execution_count": 299,
     "metadata": {},
     "output_type": "execute_result"
    },
    {
     "data": {
      "image/png": "[encoded data removed]",
      "text/plain": [
       "<Figure size 640x480 with 1 Axes>"
      ]
     },
     "metadata": {},
     "output_type": "display_data"
    }
   ],
   "source": [
    "sns.barplot(antecedens_weights)"
   ]
  },
  {
   "cell_type": "code",
   "execution_count": 322,
   "metadata": {},
   "outputs": [
    {
     "data": {
      "text/plain": [
       "<Axes: >"
      ]
     },
     "execution_count": 322,
     "metadata": {},
     "output_type": "execute_result"
    },
    {
     "data": {
      "image/png": "[encoded data removed]",
      "text/plain": [
       "<Figure size 640x480 with 1 Axes>"
      ]
     },
     "metadata": {},
     "output_type": "display_data"
    }
   ],
   "source": [
    "sns.barplot(consequent_positions)"
   ]
  },
  {
   "cell_type": "code",
   "execution_count": 300,
   "metadata": {},
   "outputs": [
    {
     "data": {
      "text/plain": [
       "<Axes: >"
      ]
     },
     "execution_count": 300,
     "metadata": {},
     "output_type": "execute_result"
    },
    {
     "data": {
      "image/png": "[encoded data removed]",
      "text/plain": [
       "<Figure size 640x480 with 1 Axes>"
      ]
     },
     "metadata": {},
     "output_type": "display_data"
    }
   ],
   "source": [
    "sns.barplot(consequent_weights)"
   ]
  },
  {
   "cell_type": "code",
   "execution_count": 229,
   "metadata": {},
   "outputs": [
    {
     "data": {
      "text/plain": [
       "tensor([0.3314, 0.3386, 0.1217, 0.1240, 0.1264, 0.1257, 0.1244, 0.3349, 0.1200,\n",
       "        0.1316, 0.8054, 0.3299, 0.3508, 0.3533, 0.7970, 0.7859, 0.1164, 0.3341,\n",
       "        0.3135, 0.3190, 0.1251, 0.3170, 0.7688, 0.3360, 0.3530, 0.7950, 0.1239,\n",
       "        0.8033, 0.1255, 0.7773, 0.7606, 0.3521, 0.3211, 0.8216, 0.1292, 0.1266,\n",
       "        0.8442, 0.1313, 0.3127, 0.3228, 0.1230, 0.3376, 0.1219, 0.3153, 0.1212,\n",
       "        0.1229, 0.1303, 0.3442, 0.1158, 0.3305, 0.3416, 0.3241, 0.1249, 0.3116,\n",
       "        0.3297, 0.7792, 0.8019, 0.1255, 0.3110, 0.3502, 0.7531, 0.1248, 0.1272,\n",
       "        0.7864, 0.3478, 0.1321, 0.7973, 0.7610, 0.3514, 0.1295, 0.1264, 0.3181,\n",
       "        0.7739, 0.7898, 0.8269, 0.7448, 0.7647, 0.3492, 0.7193, 0.7708, 0.7506,\n",
       "        0.3321, 0.8020, 0.8005, 0.8089, 0.3476, 0.3351, 0.7994, 0.7976, 0.1253,\n",
       "        0.7895, 0.3009, 0.3527, 0.3131, 0.1136, 0.3477, 0.1177, 0.7882, 0.1202,\n",
       "        0.3444], dtype=torch.float64, grad_fn=<AddBackward0>)"
      ]
     },
     "execution_count": 229,
     "metadata": {},
     "output_type": "execute_result"
    }
   ],
   "source": [
    "next_model.conditional(0)"
   ]
  },
  {
   "cell_type": "code",
   "execution_count": 230,
   "metadata": {},
   "outputs": [
    {
     "data": {
      "image/png": "[encoded data removed]",
      "text/plain": [
       "<Figure size 1000x500 with 1 Axes>"
      ]
     },
     "metadata": {},
     "output_type": "display_data"
    },
    {
     "data": {
      "image/png": "[encoded data removed]",
      "text/plain": [
       "<Figure size 1000x500 with 1 Axes>"
      ]
     },
     "metadata": {},
     "output_type": "display_data"
    }
   ],
   "source": [
    "next_model.plot()"
   ]
  },
  {
   "cell_type": "code",
   "execution_count": 352,
   "metadata": {},
   "outputs": [
    {
     "data": {
      "text/plain": [
       "([np.str_('Age'),\n",
       "  np.str_('Weight'),\n",
       "  np.str_('Is_a_Zebra'),\n",
       "  np.str_('Loves_to_sleep'),\n",
       "  np.str_('Noise_1'),\n",
       "  np.str_('Noise_2'),\n",
       "  np.str_('Noise_3'),\n",
       "  np.str_('Noise_4'),\n",
       "  np.str_('Noise_5'),\n",
       "  np.str_('Virtual_Feature_0')],\n",
       " ['Individual',\n",
       "  'unexplainable_1',\n",
       "  'unexplainable_2',\n",
       "  'unexplainable_3',\n",
       "  'if_zebra_then_age'])"
      ]
     },
     "execution_count": 352,
     "metadata": {},
     "output_type": "execute_result"
    }
   ],
   "source": [
    "feature_dict, observation_dict = next_model.get_weights()\n",
    "\n",
    "remaining_features = []\n",
    "for k,v in feature_dict.items():\n",
    "    #if v < 0.500:\n",
    "    if True:\n",
    "        remaining_features.append(k)\n",
    "\n",
    "i = 0\n",
    "remaining_observations = [index_name]\n",
    "remaining_observation_indices = []\n",
    "for k,v in observation_dict.items():\n",
    "    if v < 0.500:\n",
    "        remaining_observations.append(k)\n",
    "        remaining_observation_indices.append(i)\n",
    "    i += 1\n",
    "\n",
    "remaining_features, remaining_observations"
   ]
  },
  {
   "cell_type": "code",
   "execution_count": 356,
   "metadata": {},
   "outputs": [
    {
     "name": "stdout",
     "output_type": "stream",
     "text": [
      "Loss before training: -0.1090892073069371\n",
      "1/100 --- Mean Loss : -0.5975592896614522\n",
      "2/100 --- Mean Loss : -0.7664176425589853\n",
      "3/100 --- Mean Loss : -0.7788403117963661\n",
      "4/100 --- Mean Loss : -0.7833420734613211\n",
      "5/100 --- Mean Loss : -0.7832376891659737\n",
      "6/100 --- Mean Loss : -0.7848664044161366\n",
      "7/100 --- Mean Loss : -0.783408441154676\n",
      "8/100 --- Mean Loss : -0.7844340693051818\n",
      "9/100 --- Mean Loss : -0.7844247977343811\n",
      "10/100 --- Mean Loss : -0.7845412895712753\n",
      "11/100 --- Mean Loss : -0.7843191084652573\n",
      "12/100 --- Mean Loss : -0.7856057407115206\n",
      "13/100 --- Mean Loss : -0.7835103453799879\n",
      "14/100 --- Mean Loss : -0.7834800619313186\n",
      "15/100 --- Mean Loss : -0.7837854920513194\n",
      "16/100 --- Mean Loss : -0.7819477453052598\n",
      "17/100 --- Mean Loss : -0.7848131839704617\n",
      "18/100 --- Mean Loss : -0.7827219973471466\n",
      "19/100 --- Mean Loss : -0.7827651385753343\n",
      "20/100 --- Mean Loss : -0.7853058384695372\n",
      "21/100 --- Mean Loss : -0.7834442366774876\n",
      "22/100 --- Mean Loss : -0.7799575526173148\n",
      "23/100 --- Mean Loss : -0.7793287347866961\n",
      "24/100 --- Mean Loss : -0.780388057889716\n",
      "25/100 --- Mean Loss : -0.7666969961417804\n",
      "26/100 --- Mean Loss : -0.7619028051424258\n",
      "27/100 --- Mean Loss : -0.7797196307448887\n",
      "28/100 --- Mean Loss : -0.7741158834823609\n",
      "29/100 --- Mean Loss : -0.7825619729289472\n",
      "30/100 --- Mean Loss : -0.7866921267119299\n",
      "31/100 --- Mean Loss : -0.7825046604980982\n",
      "32/100 --- Mean Loss : -0.7857894261911833\n",
      "33/100 --- Mean Loss : -0.7800438049388473\n",
      "34/100 --- Mean Loss : -0.7897390563078703\n",
      "35/100 --- Mean Loss : -0.7968040933127837\n",
      "36/100 --- Mean Loss : -0.7933914241352422\n",
      "37/100 --- Mean Loss : -0.8005468113648092\n",
      "38/100 --- Mean Loss : -0.801658264301066\n",
      "39/100 --- Mean Loss : -0.8007932319216381\n",
      "40/100 --- Mean Loss : -0.8043489665561577\n",
      "41/100 --- Mean Loss : -0.8049506586429556\n",
      "42/100 --- Mean Loss : -0.8075784955790678\n",
      "43/100 --- Mean Loss : -0.8076744679890243\n",
      "44/100 --- Mean Loss : -0.80526772168126\n",
      "45/100 --- Mean Loss : -0.8084487643184698\n"
     ]
    },
    {
     "ename": "KeyboardInterrupt",
     "evalue": "",
     "output_type": "error",
     "traceback": [
      "\u001b[1;31m---------------------------------------------------------------------------\u001b[0m",
      "\u001b[1;31mKeyboardInterrupt\u001b[0m                         Traceback (most recent call last)",
      "Cell \u001b[1;32mIn[356], line 32\u001b[0m\n\u001b[0;32m     30\u001b[0m trainer \u001b[38;5;241m=\u001b[39m Trainer(model \u001b[38;5;241m=\u001b[39m my_model, optimizer \u001b[38;5;241m=\u001b[39m optimizer, scheduler \u001b[38;5;241m=\u001b[39m scheduler, dataloader \u001b[38;5;241m=\u001b[39m \u001b[38;5;28mrange\u001b[39m(\u001b[38;5;241m100\u001b[39m))\n\u001b[0;32m     31\u001b[0m \u001b[38;5;28mprint\u001b[39m(\u001b[38;5;124mf\u001b[39m\u001b[38;5;124m'\u001b[39m\u001b[38;5;124mLoss before training: \u001b[39m\u001b[38;5;132;01m{\u001b[39;00mmy_model\u001b[38;5;241m.\u001b[39mloss()\u001b[38;5;241m.\u001b[39mclone()\u001b[38;5;241m.\u001b[39mdetach()\u001b[38;5;132;01m}\u001b[39;00m\u001b[38;5;124m'\u001b[39m)\n\u001b[1;32m---> 32\u001b[0m \u001b[43mtrainer\u001b[49m\u001b[38;5;241;43m.\u001b[39;49m\u001b[43mtrain\u001b[49m\u001b[43m(\u001b[49m\u001b[43mepochs\u001b[49m\u001b[43m \u001b[49m\u001b[38;5;241;43m=\u001b[39;49m\u001b[43m \u001b[49m\u001b[38;5;241;43m100\u001b[39;49m\u001b[43m,\u001b[49m\u001b[43m \u001b[49m\u001b[43mtimeout\u001b[49m\u001b[38;5;241;43m=\u001b[39;49m\u001b[38;5;241;43m60000\u001b[39;49m\u001b[43m)\u001b[49m\n",
      "File \u001b[1;32mc:\\Projekte\\clustering_explaining_method\\src\\ParameterizedModel\\training.py:41\u001b[0m, in \u001b[0;36mTrainer.train\u001b[1;34m(self, epochs, feedback_every_epoch, timeout)\u001b[0m\n\u001b[0;32m     39\u001b[0m epoch \u001b[38;5;241m=\u001b[39m epoch \u001b[38;5;241m+\u001b[39m \u001b[38;5;241m1\u001b[39m\n\u001b[0;32m     40\u001b[0m \u001b[38;5;28mself\u001b[39m\u001b[38;5;241m.\u001b[39mepochs \u001b[38;5;241m=\u001b[39m epoch\n\u001b[1;32m---> 41\u001b[0m loss \u001b[38;5;241m=\u001b[39m \u001b[38;5;28;43mself\u001b[39;49m\u001b[38;5;241;43m.\u001b[39;49m\u001b[43mtrain_epoch\u001b[49m\u001b[43m(\u001b[49m\u001b[43m)\u001b[49m\n\u001b[0;32m     42\u001b[0m \u001b[38;5;28mself\u001b[39m\u001b[38;5;241m.\u001b[39mloss_list\u001b[38;5;241m.\u001b[39mappend(loss)\n\u001b[0;32m     43\u001b[0m \u001b[38;5;28;01mif\u001b[39;00m np\u001b[38;5;241m.\u001b[39misnan(loss):\n",
      "File \u001b[1;32mc:\\Projekte\\clustering_explaining_method\\src\\ParameterizedModel\\training.py:74\u001b[0m, in \u001b[0;36mTrainer.train_epoch\u001b[1;34m(self)\u001b[0m\n\u001b[0;32m     72\u001b[0m N \u001b[38;5;241m=\u001b[39m \u001b[38;5;28mlen\u001b[39m(\u001b[38;5;28mself\u001b[39m\u001b[38;5;241m.\u001b[39mdataloader)\n\u001b[0;32m     73\u001b[0m \u001b[38;5;28;01mfor\u001b[39;00m data \u001b[38;5;129;01min\u001b[39;00m \u001b[38;5;28mself\u001b[39m\u001b[38;5;241m.\u001b[39mdataloader:\n\u001b[1;32m---> 74\u001b[0m     loss \u001b[38;5;241m=\u001b[39m \u001b[38;5;28;43mself\u001b[39;49m\u001b[38;5;241;43m.\u001b[39;49m\u001b[43mmodel\u001b[49m\u001b[38;5;241;43m.\u001b[39;49m\u001b[43mloss\u001b[49m\u001b[43m(\u001b[49m\u001b[43mdata\u001b[49m\u001b[43m)\u001b[49m\n\u001b[0;32m     76\u001b[0m     \u001b[38;5;28;01mif\u001b[39;00m \u001b[38;5;28mself\u001b[39m\u001b[38;5;241m.\u001b[39maccumulate:\n\u001b[0;32m     77\u001b[0m         \u001b[38;5;28;01mif\u001b[39;00m accumulated_loss \u001b[38;5;129;01mis\u001b[39;00m \u001b[38;5;28;01mNone\u001b[39;00m:\n",
      "Cell \u001b[1;32mIn[223], line 184\u001b[0m, in \u001b[0;36mFeatureSelectionModel.loss\u001b[1;34m(self, data)\u001b[0m\n\u001b[0;32m    181\u001b[0m cluster_positions \u001b[38;5;241m=\u001b[39m \u001b[38;5;28mself\u001b[39m\u001b[38;5;241m.\u001b[39mconstrained(\u001b[38;5;124m'\u001b[39m\u001b[38;5;124mcluster_positions\u001b[39m\u001b[38;5;124m'\u001b[39m)\u001b[38;5;241m.\u001b[39mclamp(\u001b[38;5;28mmin\u001b[39m \u001b[38;5;241m=\u001b[39m \u001b[38;5;241m1e-10\u001b[39m, \u001b[38;5;28mmax\u001b[39m\u001b[38;5;241m=\u001b[39m\u001b[38;5;241m1e10\u001b[39m)\n\u001b[0;32m    183\u001b[0m \u001b[38;5;66;03m# fingerprints\u001b[39;00m\n\u001b[1;32m--> 184\u001b[0m sampled_fingerprints \u001b[38;5;241m=\u001b[39m \u001b[38;5;28;43mself\u001b[39;49m\u001b[38;5;241;43m.\u001b[39;49m\u001b[43msample_fingerprints\u001b[49m\u001b[43m(\u001b[49m\u001b[43minv_observation_weights\u001b[49m\u001b[43m,\u001b[49m\u001b[43m \u001b[49m\u001b[43mcluster_positions\u001b[49m\u001b[43m)\u001b[49m\n\u001b[0;32m    186\u001b[0m \u001b[38;5;66;03m# Construct the distance matrix for the fingerprints\u001b[39;00m\n\u001b[0;32m    187\u001b[0m fingerprint_distances \u001b[38;5;241m=\u001b[39m new_torch_matrix_jensenshannon(sampled_fingerprints)\n",
      "Cell \u001b[1;32mIn[223], line 150\u001b[0m, in \u001b[0;36mFeatureSelectionModel.sample_fingerprints\u001b[1;34m(self, inv_observation_weights, cluster_positions)\u001b[0m\n\u001b[0;32m    148\u001b[0m \u001b[38;5;28;01mdef\u001b[39;00m \u001b[38;5;21msample_fingerprints\u001b[39m(\u001b[38;5;28mself\u001b[39m, inv_observation_weights, cluster_positions):\n\u001b[0;32m    149\u001b[0m     epsilon \u001b[38;5;241m=\u001b[39m \u001b[38;5;241m1e-20\u001b[39m\n\u001b[1;32m--> 150\u001b[0m     _dist \u001b[38;5;241m=\u001b[39m \u001b[43m(\u001b[49m\u001b[43m(\u001b[49m\u001b[38;5;28;43mself\u001b[39;49m\u001b[38;5;241;43m.\u001b[39;49m\u001b[43mtensor_observable\u001b[49m\u001b[38;5;241;43m.\u001b[39;49m\u001b[43munsqueeze\u001b[49m\u001b[43m(\u001b[49m\u001b[38;5;241;43m1\u001b[39;49m\u001b[43m)\u001b[49m\u001b[43m \u001b[49m\u001b[38;5;241;43m-\u001b[39;49m\u001b[43m \u001b[49m\u001b[43mcluster_positions\u001b[49m\u001b[38;5;241;43m.\u001b[39;49m\u001b[43munsqueeze\u001b[49m\u001b[43m(\u001b[49m\u001b[38;5;241;43m0\u001b[39;49m\u001b[43m)\u001b[49m\u001b[43m)\u001b[49m\u001b[38;5;241;43m.\u001b[39;49m\u001b[43mpow\u001b[49m\u001b[43m(\u001b[49m\u001b[38;5;241;43m2\u001b[39;49m\u001b[43m)\u001b[49m\u001b[38;5;241;43m.\u001b[39;49m\u001b[43mclamp\u001b[49m\u001b[43m(\u001b[49m\u001b[38;5;28;43mmin\u001b[39;49m\u001b[38;5;241;43m=\u001b[39;49m\u001b[43mepsilon\u001b[49m\u001b[43m)\u001b[49m\u001b[43m \u001b[49m\u001b[38;5;241;43m*\u001b[39;49m\u001b[43m \u001b[49m\u001b[43minv_observation_weights\u001b[49m\u001b[43m)\u001b[49m\u001b[38;5;241;43m.\u001b[39;49m\u001b[43msum\u001b[49m\u001b[43m(\u001b[49m\u001b[38;5;241;43m2\u001b[39;49m\u001b[43m)\u001b[49m\u001b[38;5;241m.\u001b[39msqrt()\n\u001b[0;32m    151\u001b[0m     norm_dist \u001b[38;5;241m=\u001b[39m (_dist \u001b[38;5;241m/\u001b[39m _dist\u001b[38;5;241m.\u001b[39msum(dim\u001b[38;5;241m=\u001b[39m\u001b[38;5;241m1\u001b[39m)\u001b[38;5;241m.\u001b[39munsqueeze(\u001b[38;5;241m-\u001b[39m\u001b[38;5;241m1\u001b[39m))\n\u001b[0;32m    152\u001b[0m     masked_norm_dist \u001b[38;5;241m=\u001b[39m (\u001b[38;5;28mself\u001b[39m\u001b[38;5;241m.\u001b[39mmask_tensor\u001b[38;5;241m.\u001b[39munsqueeze(\u001b[38;5;241m2\u001b[39m) \u001b[38;5;241m*\u001b[39m norm_dist\u001b[38;5;241m.\u001b[39munsqueeze(\u001b[38;5;241m1\u001b[39m))\n",
      "\u001b[1;31mKeyboardInterrupt\u001b[0m: "
     ]
    }
   ],
   "source": [
    "next2_model = FeatureSelectionModel(\n",
    "    df_explainable,#.loc[:, remaining_features],\n",
    "    df_observable.loc[:, remaining_observations],\n",
    "    model.best_cluster_positions[:, remaining_observation_indices],\n",
    "    num_virtual_features=1,\n",
    "    power = 4,\n",
    "    index_name = 'Individual',\n",
    "    num_samples = 4,\n",
    "    dtype = torch.float64,\n",
    "    device = 'cpu',\n",
    "    penalty=0\n",
    ")\n",
    "\n",
    "my_model = next2_model\n",
    "\n",
    "# After this many steps, the learning rate is halved\n",
    "HALFLIFE = 30\n",
    "\n",
    "optimizer = torch.optim.RMSprop(\n",
    "    params = [\n",
    "        {'params': my_model.parameters['feature_weights'], 'lr': 0.1, 'momentum': 0.50},\n",
    "        {'params': my_model.parameters['observation_weights'], 'lr': 0.1, 'momentum': 0.50},\n",
    "        {'params': my_model.parameters['cluster_positions'], 'lr': 0.1, 'momentum': 0.50},\n",
    "    ],\n",
    "\n",
    ")\n",
    "\n",
    "lr_halflife = lambda epochs: 0.5**(1/epochs)\n",
    "scheduler = torch.optim.lr_scheduler.LambdaLR(optimizer, lr_lambda = lambda epoch: lr_halflife(HALFLIFE)**epoch)\n",
    "trainer = Trainer(model = my_model, optimizer = optimizer, scheduler = scheduler, dataloader = range(100))\n",
    "print(f'Loss before training: {my_model.loss().clone().detach()}')\n",
    "trainer.train(epochs = 100, timeout=60000)"
   ]
  },
  {
   "cell_type": "code",
   "execution_count": 357,
   "metadata": {},
   "outputs": [
    {
     "data": {
      "image/png": "[encoded data removed]",
      "text/plain": [
       "<Figure size 1000x500 with 1 Axes>"
      ]
     },
     "metadata": {},
     "output_type": "display_data"
    },
    {
     "data": {
      "image/png": "[encoded data removed]",
      "text/plain": [
       "<Figure size 1000x500 with 1 Axes>"
      ]
     },
     "metadata": {},
     "output_type": "display_data"
    }
   ],
   "source": [
    "next2_model.plot()"
   ]
  },
  {
   "cell_type": "code",
   "execution_count": 40,
   "metadata": {},
   "outputs": [
    {
     "data": {
      "text/plain": [
       "(['Is_a_Zebra', 'Noise_1', 'Noise_2', 'Noise_3', 'Noise_4', 'Noise_5'],\n",
       " ['Individual',\n",
       "  'unexplainable_1',\n",
       "  'unexplainable_3',\n",
       "  'unexplainable_4',\n",
       "  'Age_plus_Weight'])"
      ]
     },
     "execution_count": 40,
     "metadata": {},
     "output_type": "execute_result"
    }
   ],
   "source": [
    "feature_dict, observation_dict = next2_model.get_weights()\n",
    "\n",
    "remaining_features = []\n",
    "for k,v in feature_dict.items():\n",
    "    if v < 0.500:\n",
    "        remaining_features.append(k)\n",
    "\n",
    "i = 0\n",
    "remaining_observations = [index_name]\n",
    "remaining_observation_indices = []\n",
    "for k,v in observation_dict.items():\n",
    "    if v < 0.500:\n",
    "        remaining_observations.append(k)\n",
    "        remaining_observation_indices.append(i)\n",
    "    i += 1\n",
    "\n",
    "remaining_features, remaining_observations"
   ]
  },
  {
   "cell_type": "code",
   "execution_count": 41,
   "metadata": {},
   "outputs": [
    {
     "name": "stdout",
     "output_type": "stream",
     "text": [
      "Loss before training: -0.025800811961319656\n",
      "1/10 --- Mean Loss : -0.19489734858538463\n",
      "2/10 --- Mean Loss : -0.3039297338324828\n",
      "3/10 --- Mean Loss : -0.31474773742549716\n",
      "4/10 --- Mean Loss : -0.32010635955589734\n",
      "5/10 --- Mean Loss : -0.32072339910619063\n",
      "6/10 --- Mean Loss : -0.32084315020486687\n",
      "7/10 --- Mean Loss : -0.3208739004679591\n",
      "8/10 --- Mean Loss : -0.3206689445387365\n",
      "9/10 --- Mean Loss : -0.32218971938639224\n",
      "10/10 --- Mean Loss : -0.32267942453654425\n"
     ]
    }
   ],
   "source": [
    "next3_model = FeatureSelectionModel(\n",
    "    df_explainable.loc[:, remaining_features],\n",
    "    df_observable.loc[:, remaining_observations],\n",
    "    model.best_cluster_positions[:, remaining_observation_indices],\n",
    "    power = 4,\n",
    "    index_name = 'Individual',\n",
    "    num_samples = 4,\n",
    "    dtype = torch.float64,\n",
    "    device = 'cpu',\n",
    "    penalty=0\n",
    ")\n",
    "\n",
    "my_model = next3_model\n",
    "\n",
    "# After this many steps, the learning rate is halved\n",
    "HALFLIFE = 30\n",
    "\n",
    "optimizer = torch.optim.RMSprop(\n",
    "    params = [\n",
    "        {'params': my_model.parameters['feature_weights'], 'lr': 0.1, 'momentum': 0.50},\n",
    "        {'params': my_model.parameters['observation_weights'], 'lr': 0.1, 'momentum': 0.50},\n",
    "        {'params': my_model.parameters['cluster_positions'], 'lr': 0.1, 'momentum': 0.50},\n",
    "    ],\n",
    "\n",
    ")\n",
    "\n",
    "lr_halflife = lambda epochs: 0.5**(1/epochs)\n",
    "scheduler = torch.optim.lr_scheduler.LambdaLR(optimizer, lr_lambda = lambda epoch: lr_halflife(HALFLIFE)**epoch)\n",
    "trainer = Trainer(model = my_model, optimizer = optimizer, scheduler = scheduler, dataloader = range(100))\n",
    "print(f'Loss before training: {my_model.loss().clone().detach()}')\n",
    "trainer.train(epochs = 10, timeout=60000)"
   ]
  },
  {
   "cell_type": "code",
   "execution_count": 42,
   "metadata": {},
   "outputs": [
    {
     "data": {
      "image/png": "[encoded data removed]",
      "text/plain": [
       "<Figure size 1000x500 with 1 Axes>"
      ]
     },
     "metadata": {},
     "output_type": "display_data"
    },
    {
     "data": {
      "image/png": "[encoded data removed]",
      "text/plain": [
       "<Figure size 1000x500 with 1 Axes>"
      ]
     },
     "metadata": {},
     "output_type": "display_data"
    }
   ],
   "source": [
    "next3_model.plot()"
   ]
  },
  {
   "cell_type": "code",
   "execution_count": 43,
   "metadata": {},
   "outputs": [
    {
     "data": {
      "text/plain": [
       "Ellipsis"
      ]
     },
     "execution_count": 43,
     "metadata": {},
     "output_type": "execute_result"
    }
   ],
   "source": [
    "..."
   ]
  },
  {
   "cell_type": "code",
   "execution_count": null,
   "metadata": {},
   "outputs": [],
   "source": []
  }
 ],
 "metadata": {
  "kernelspec": {
   "display_name": "Python 3",
   "language": "python",
   "name": "python3"
  },
  "language_info": {
   "codemirror_mode": {
    "name": "ipython",
    "version": 3
   },
   "file_extension": ".py",
   "mimetype": "text/x-python",
   "name": "python",
   "nbconvert_exporter": "python",
   "pygments_lexer": "ipython3",
   "version": "3.12.3"
  }
 },
 "nbformat": 4,
 "nbformat_minor": 2
}
