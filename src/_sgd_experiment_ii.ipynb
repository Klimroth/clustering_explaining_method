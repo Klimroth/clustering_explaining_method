{
 "cells": [
  {
   "cell_type": "code",
   "execution_count": 1,
   "metadata": {},
   "outputs": [],
   "source": [
    "from data_preparation import DataPreparator\n",
    "from apply_clustering import ClusteringApplier"
   ]
  },
  {
   "cell_type": "code",
   "execution_count": 3,
   "metadata": {},
   "outputs": [],
   "source": [
    "import os.path\n",
    "from itertools import chain, combinations\n",
    "from typing import Dict, List, Tuple, Iterable, Any\n",
    "\n",
    "import numpy as np\n",
    "import pandas as pd\n",
    "from gapstatistics.gapstatistics import GapStatistics\n",
    "from clustering import AgglomerativeClusteringWrapper as AgglomerativeClustering\n",
    "import matplotlib.pyplot as plt\n",
    "import scipy.cluster.hierarchy as sch\n",
    "from scipy.cluster.hierarchy import dendrogram, linkage\n",
    "from scipy.spatial.distance import squareform\n",
    "from scipy.spatial.distance import jensenshannon, correlation, euclidean\n",
    "from tqdm.contrib.concurrent import thread_map\n",
    "import seaborn as sns\n",
    "\n",
    "import config"
   ]
  },
  {
   "cell_type": "code",
   "execution_count": 4,
   "metadata": {},
   "outputs": [],
   "source": [
    "import torch\n",
    "from torch.distributions import kl_divergence\n",
    "from torch.distributions.beta import Beta\n",
    "from torch.distributions.dirichlet import Dirichlet\n",
    "from ParameterizedModel.parameterized_model import Paremeterized_Model\n",
    "from ParameterizedModel.utils.distribution_helpers import mean_std_to_beta_params\n",
    "\n",
    "from ParameterizedModel.training import Trainer"
   ]
  },
  {
   "cell_type": "code",
   "execution_count": 5,
   "metadata": {},
   "outputs": [],
   "source": [
    "from gradient_solver import construct_distance_matrix"
   ]
  },
  {
   "cell_type": "code",
   "execution_count": 6,
   "metadata": {},
   "outputs": [],
   "source": [
    "import timeit"
   ]
  },
  {
   "cell_type": "code",
   "execution_count": 7,
   "metadata": {},
   "outputs": [],
   "source": [
    "import torch\n",
    "from torch.utils.data import Dataset, DataLoader, TensorDataset"
   ]
  },
  {
   "cell_type": "code",
   "execution_count": 8,
   "metadata": {},
   "outputs": [],
   "source": [
    "from scipy.spatial.distance import correlation"
   ]
  },
  {
   "cell_type": "code",
   "execution_count": 9,
   "metadata": {},
   "outputs": [],
   "source": [
    "from gradient_solver import *"
   ]
  },
  {
   "cell_type": "code",
   "execution_count": 10,
   "metadata": {},
   "outputs": [
    {
     "data": {
      "text/plain": [
       "'df_explainable: pd.DataFrame = ClusteringApplier.read_explaining_features()\\ndf_observable_distances: pd.DataFrame = pd.read_excel(\\n    f\"{config.OUTPUT_FOLDER_BASE}observables/{config.DATASET_NAME}-distance-normalized-matrix-{config.DISTANCE_MEASURE_FINGERPRINT}-{config.NUMBER_OBSERVABLE_PATTERNS}.xlsx\",\\n    index_col=0\\n)\\nfeatures: List[str] = list(config.EXPLAINING_FEATURE_NAMES.keys())\\n\\n# Ensure that both datasets contain the same indices\\nvalid_indices = np.intersect1d(df_explainable.index, df_observable_distances.index)\\ndf_explainable = df_explainable.loc[valid_indices]\\ndf_observable_distances = df_observable_distances.loc[valid_indices]'"
      ]
     },
     "execution_count": 10,
     "metadata": {},
     "output_type": "execute_result"
    }
   ],
   "source": [
    "'''df_explainable: pd.DataFrame = ClusteringApplier.read_explaining_features()\n",
    "df_observable_distances: pd.DataFrame = pd.read_excel(\n",
    "    f\"{config.OUTPUT_FOLDER_BASE}observables/{config.DATASET_NAME}-distance-normalized-matrix-{config.DISTANCE_MEASURE_FINGERPRINT}-{config.NUMBER_OBSERVABLE_PATTERNS}.xlsx\",\n",
    "    index_col=0\n",
    ")\n",
    "features: List[str] = list(config.EXPLAINING_FEATURE_NAMES.keys())\n",
    "\n",
    "# Ensure that both datasets contain the same indices\n",
    "valid_indices = np.intersect1d(df_explainable.index, df_observable_distances.index)\n",
    "df_explainable = df_explainable.loc[valid_indices]\n",
    "df_observable_distances = df_observable_distances.loc[valid_indices]'''"
   ]
  },
  {
   "cell_type": "code",
   "execution_count": 12,
   "metadata": {},
   "outputs": [],
   "source": [
    "##################\n",
    "# Synthetic Data #\n",
    "##################\n",
    "individuals = 100\n",
    "base_size = 10000\n",
    "\n",
    "#observation_data = np.random.normal(loc=0, scale=1, size=(base_size, 6))\n",
    "'''explanation_data = np.random.uniform(0,1, size=(individuals, 11))\n",
    "df_explainable = pd.DataFrame(explanation_data)\n",
    "df_explainable.loc[:, 'Individual'] = [f'Individual_{i}' for i in df_explainable.index]\n",
    "df_explainable.set_index('Individual', inplace=True)'''\n",
    "\n",
    "df_explainable = pd.DataFrame({\n",
    "    'Age': np.random.choice([0., 0.5, 1.], individuals),\n",
    "    'Weight': np.random.uniform(0,1, size=individuals),\n",
    "    'Is_a_Zebra': np.random.choice([0., 1.], individuals),\n",
    "    'Loves_to_sleep': np.random.uniform(0,1, size=individuals),\n",
    "    'Noise_1': np.random.uniform(0,1, size=individuals),\n",
    "    'Noise_2': np.random.uniform(0,1, size=individuals),\n",
    "    'Noise_3': np.random.uniform(0,1, size=individuals),\n",
    "    'Noise_4': np.random.uniform(0,1, size=individuals),\n",
    "    'Noise_5': np.random.uniform(0,1, size=individuals),\n",
    "    'Individual': [f'Individual_{n}' for n in range(individuals)]\n",
    "})\n",
    "df_explainable.set_index('Individual', inplace=True)\n",
    "\n",
    "explaining_features = np.array(list(df_explainable.columns))\n",
    "individual_array = np.random.choice(df_explainable.index.unique(), size=base_size)\n",
    "\n",
    "df_observable = pd.DataFrame({\n",
    "    'Individual': individual_array,\n",
    "})\n",
    "df_observable.loc[:, 'unexplainable_1'] = np.random.uniform(0,1, size=base_size)\n",
    "df_observable.loc[:, 'unexplainable_2'] = np.random.uniform(0,1, size=base_size)\n",
    "df_observable.loc[:, 'unexplainable_3'] = np.random.uniform(0,1, size=base_size)\n",
    "df_observable.loc[:, 'unexplainable_4'] = np.random.normal(0,1, size=base_size)\n",
    "\n",
    "df_observable.loc[:, 'if_zebra_then_age'] = (df_explainable.loc[individual_array, 'Is_a_Zebra'].values > 0.5) * df_explainable.loc[individual_array, 'Age'].values + (df_explainable.loc[individual_array, 'Is_a_Zebra'].values <= 0.5) * np.random.uniform(0,1, size=base_size)\n",
    "df_observable.loc[:, 'explained_by_loves_to_sleep'] = df_explainable.loc[individual_array, 'Loves_to_sleep'].values #df_explainable.loc[individual_array, [1,2,3]].mean(axis=1).values #req_1 * df_explainable.loc[individual_array, 2].values + (1-req_1) * df_explainable.loc[individual_array, 3].values\n",
    "df_observable.loc[:, 'Age_plus_Weight'] = df_explainable.loc[individual_array, 'Age'].values + df_explainable.loc[individual_array, 'Weight'].values\n",
    "\n",
    "df_observable.set_index('Individual', inplace=True)\n",
    "observed_features = list(df_observable.columns)\n",
    "\n",
    "df_observable = df_observable.apply(lambda x: (x - x.min()) / (x.max() - x.min()), axis=0)\n",
    "df_explainable = df_explainable.apply(lambda x: (x - x.min()) / (x.max() - x.min()), axis=0)"
   ]
  },
  {
   "cell_type": "code",
   "execution_count": 13,
   "metadata": {},
   "outputs": [
    {
     "data": {
      "text/html": [
       "<div>\n",
       "<style scoped>\n",
       "    .dataframe tbody tr th:only-of-type {\n",
       "        vertical-align: middle;\n",
       "    }\n",
       "\n",
       "    .dataframe tbody tr th {\n",
       "        vertical-align: top;\n",
       "    }\n",
       "\n",
       "    .dataframe thead th {\n",
       "        text-align: right;\n",
       "    }\n",
       "</style>\n",
       "<table border=\"1\" class=\"dataframe\">\n",
       "  <thead>\n",
       "    <tr style=\"text-align: right;\">\n",
       "      <th></th>\n",
       "      <th>Age</th>\n",
       "      <th>Weight</th>\n",
       "      <th>Is_a_Zebra</th>\n",
       "      <th>Loves_to_sleep</th>\n",
       "      <th>Noise_1</th>\n",
       "      <th>Noise_2</th>\n",
       "      <th>Noise_3</th>\n",
       "      <th>Noise_4</th>\n",
       "      <th>Noise_5</th>\n",
       "    </tr>\n",
       "    <tr>\n",
       "      <th>Individual</th>\n",
       "      <th></th>\n",
       "      <th></th>\n",
       "      <th></th>\n",
       "      <th></th>\n",
       "      <th></th>\n",
       "      <th></th>\n",
       "      <th></th>\n",
       "      <th></th>\n",
       "      <th></th>\n",
       "    </tr>\n",
       "  </thead>\n",
       "  <tbody>\n",
       "    <tr>\n",
       "      <th>Individual_0</th>\n",
       "      <td>0.0</td>\n",
       "      <td>0.111674</td>\n",
       "      <td>0.0</td>\n",
       "      <td>0.226126</td>\n",
       "      <td>0.347093</td>\n",
       "      <td>0.160748</td>\n",
       "      <td>0.491325</td>\n",
       "      <td>0.858456</td>\n",
       "      <td>0.630862</td>\n",
       "    </tr>\n",
       "    <tr>\n",
       "      <th>Individual_1</th>\n",
       "      <td>0.0</td>\n",
       "      <td>0.319661</td>\n",
       "      <td>1.0</td>\n",
       "      <td>0.685952</td>\n",
       "      <td>0.313577</td>\n",
       "      <td>0.738221</td>\n",
       "      <td>0.853726</td>\n",
       "      <td>0.925392</td>\n",
       "      <td>0.747621</td>\n",
       "    </tr>\n",
       "    <tr>\n",
       "      <th>Individual_2</th>\n",
       "      <td>0.5</td>\n",
       "      <td>0.893268</td>\n",
       "      <td>0.0</td>\n",
       "      <td>0.402523</td>\n",
       "      <td>0.556098</td>\n",
       "      <td>0.446302</td>\n",
       "      <td>0.562057</td>\n",
       "      <td>0.785011</td>\n",
       "      <td>0.738354</td>\n",
       "    </tr>\n",
       "    <tr>\n",
       "      <th>Individual_3</th>\n",
       "      <td>1.0</td>\n",
       "      <td>0.639209</td>\n",
       "      <td>0.0</td>\n",
       "      <td>0.275085</td>\n",
       "      <td>0.091438</td>\n",
       "      <td>0.509739</td>\n",
       "      <td>0.520906</td>\n",
       "      <td>0.719282</td>\n",
       "      <td>0.501041</td>\n",
       "    </tr>\n",
       "    <tr>\n",
       "      <th>Individual_4</th>\n",
       "      <td>0.5</td>\n",
       "      <td>0.687991</td>\n",
       "      <td>0.0</td>\n",
       "      <td>0.352305</td>\n",
       "      <td>0.995335</td>\n",
       "      <td>0.592904</td>\n",
       "      <td>0.421574</td>\n",
       "      <td>0.822669</td>\n",
       "      <td>0.194850</td>\n",
       "    </tr>\n",
       "    <tr>\n",
       "      <th>...</th>\n",
       "      <td>...</td>\n",
       "      <td>...</td>\n",
       "      <td>...</td>\n",
       "      <td>...</td>\n",
       "      <td>...</td>\n",
       "      <td>...</td>\n",
       "      <td>...</td>\n",
       "      <td>...</td>\n",
       "      <td>...</td>\n",
       "    </tr>\n",
       "    <tr>\n",
       "      <th>Individual_95</th>\n",
       "      <td>0.5</td>\n",
       "      <td>0.401608</td>\n",
       "      <td>0.0</td>\n",
       "      <td>0.282105</td>\n",
       "      <td>0.619973</td>\n",
       "      <td>0.559480</td>\n",
       "      <td>0.975086</td>\n",
       "      <td>0.660618</td>\n",
       "      <td>0.173793</td>\n",
       "    </tr>\n",
       "    <tr>\n",
       "      <th>Individual_96</th>\n",
       "      <td>1.0</td>\n",
       "      <td>0.734407</td>\n",
       "      <td>0.0</td>\n",
       "      <td>0.822878</td>\n",
       "      <td>0.593086</td>\n",
       "      <td>0.795012</td>\n",
       "      <td>0.265074</td>\n",
       "      <td>0.086430</td>\n",
       "      <td>0.340426</td>\n",
       "    </tr>\n",
       "    <tr>\n",
       "      <th>Individual_97</th>\n",
       "      <td>1.0</td>\n",
       "      <td>0.381635</td>\n",
       "      <td>1.0</td>\n",
       "      <td>0.811430</td>\n",
       "      <td>0.873558</td>\n",
       "      <td>0.216582</td>\n",
       "      <td>0.819695</td>\n",
       "      <td>0.596113</td>\n",
       "      <td>0.628320</td>\n",
       "    </tr>\n",
       "    <tr>\n",
       "      <th>Individual_98</th>\n",
       "      <td>0.5</td>\n",
       "      <td>0.803073</td>\n",
       "      <td>1.0</td>\n",
       "      <td>0.873037</td>\n",
       "      <td>0.187662</td>\n",
       "      <td>0.739623</td>\n",
       "      <td>0.270221</td>\n",
       "      <td>0.382600</td>\n",
       "      <td>0.996176</td>\n",
       "    </tr>\n",
       "    <tr>\n",
       "      <th>Individual_99</th>\n",
       "      <td>1.0</td>\n",
       "      <td>0.892898</td>\n",
       "      <td>1.0</td>\n",
       "      <td>0.220754</td>\n",
       "      <td>0.538809</td>\n",
       "      <td>0.337236</td>\n",
       "      <td>0.000000</td>\n",
       "      <td>0.851483</td>\n",
       "      <td>0.212717</td>\n",
       "    </tr>\n",
       "  </tbody>\n",
       "</table>\n",
       "<p>100 rows × 9 columns</p>\n",
       "</div>"
      ],
      "text/plain": [
       "               Age    Weight  Is_a_Zebra  Loves_to_sleep   Noise_1   Noise_2  \\\n",
       "Individual                                                                     \n",
       "Individual_0   0.0  0.111674         0.0        0.226126  0.347093  0.160748   \n",
       "Individual_1   0.0  0.319661         1.0        0.685952  0.313577  0.738221   \n",
       "Individual_2   0.5  0.893268         0.0        0.402523  0.556098  0.446302   \n",
       "Individual_3   1.0  0.639209         0.0        0.275085  0.091438  0.509739   \n",
       "Individual_4   0.5  0.687991         0.0        0.352305  0.995335  0.592904   \n",
       "...            ...       ...         ...             ...       ...       ...   \n",
       "Individual_95  0.5  0.401608         0.0        0.282105  0.619973  0.559480   \n",
       "Individual_96  1.0  0.734407         0.0        0.822878  0.593086  0.795012   \n",
       "Individual_97  1.0  0.381635         1.0        0.811430  0.873558  0.216582   \n",
       "Individual_98  0.5  0.803073         1.0        0.873037  0.187662  0.739623   \n",
       "Individual_99  1.0  0.892898         1.0        0.220754  0.538809  0.337236   \n",
       "\n",
       "                Noise_3   Noise_4   Noise_5  \n",
       "Individual                                   \n",
       "Individual_0   0.491325  0.858456  0.630862  \n",
       "Individual_1   0.853726  0.925392  0.747621  \n",
       "Individual_2   0.562057  0.785011  0.738354  \n",
       "Individual_3   0.520906  0.719282  0.501041  \n",
       "Individual_4   0.421574  0.822669  0.194850  \n",
       "...                 ...       ...       ...  \n",
       "Individual_95  0.975086  0.660618  0.173793  \n",
       "Individual_96  0.265074  0.086430  0.340426  \n",
       "Individual_97  0.819695  0.596113  0.628320  \n",
       "Individual_98  0.270221  0.382600  0.996176  \n",
       "Individual_99  0.000000  0.851483  0.212717  \n",
       "\n",
       "[100 rows x 9 columns]"
      ]
     },
     "execution_count": 13,
     "metadata": {},
     "output_type": "execute_result"
    }
   ],
   "source": [
    "df_explainable"
   ]
  },
  {
   "cell_type": "code",
   "execution_count": 14,
   "metadata": {},
   "outputs": [
    {
     "data": {
      "text/html": [
       "<div>\n",
       "<style scoped>\n",
       "    .dataframe tbody tr th:only-of-type {\n",
       "        vertical-align: middle;\n",
       "    }\n",
       "\n",
       "    .dataframe tbody tr th {\n",
       "        vertical-align: top;\n",
       "    }\n",
       "\n",
       "    .dataframe thead th {\n",
       "        text-align: right;\n",
       "    }\n",
       "</style>\n",
       "<table border=\"1\" class=\"dataframe\">\n",
       "  <thead>\n",
       "    <tr style=\"text-align: right;\">\n",
       "      <th></th>\n",
       "      <th>unexplainable_1</th>\n",
       "      <th>unexplainable_2</th>\n",
       "      <th>unexplainable_3</th>\n",
       "      <th>unexplainable_4</th>\n",
       "      <th>if_zebra_then_age</th>\n",
       "      <th>explained_by_loves_to_sleep</th>\n",
       "      <th>Age_plus_Weight</th>\n",
       "    </tr>\n",
       "    <tr>\n",
       "      <th>Individual</th>\n",
       "      <th></th>\n",
       "      <th></th>\n",
       "      <th></th>\n",
       "      <th></th>\n",
       "      <th></th>\n",
       "      <th></th>\n",
       "      <th></th>\n",
       "    </tr>\n",
       "  </thead>\n",
       "  <tbody>\n",
       "    <tr>\n",
       "      <th>Individual_48</th>\n",
       "      <td>0.245029</td>\n",
       "      <td>0.597298</td>\n",
       "      <td>0.166455</td>\n",
       "      <td>0.544668</td>\n",
       "      <td>0.000000</td>\n",
       "      <td>0.677234</td>\n",
       "      <td>0.340029</td>\n",
       "    </tr>\n",
       "    <tr>\n",
       "      <th>Individual_16</th>\n",
       "      <td>0.510750</td>\n",
       "      <td>0.930841</td>\n",
       "      <td>0.057806</td>\n",
       "      <td>0.460765</td>\n",
       "      <td>0.536132</td>\n",
       "      <td>0.732871</td>\n",
       "      <td>0.473300</td>\n",
       "    </tr>\n",
       "    <tr>\n",
       "      <th>Individual_64</th>\n",
       "      <td>0.244136</td>\n",
       "      <td>0.960293</td>\n",
       "      <td>0.939299</td>\n",
       "      <td>0.497671</td>\n",
       "      <td>0.500000</td>\n",
       "      <td>0.990863</td>\n",
       "      <td>0.405809</td>\n",
       "    </tr>\n",
       "    <tr>\n",
       "      <th>Individual_11</th>\n",
       "      <td>0.892990</td>\n",
       "      <td>0.518555</td>\n",
       "      <td>0.869844</td>\n",
       "      <td>0.544642</td>\n",
       "      <td>1.000000</td>\n",
       "      <td>0.433053</td>\n",
       "      <td>0.645376</td>\n",
       "    </tr>\n",
       "    <tr>\n",
       "      <th>Individual_83</th>\n",
       "      <td>0.065547</td>\n",
       "      <td>0.422110</td>\n",
       "      <td>0.053548</td>\n",
       "      <td>0.377533</td>\n",
       "      <td>0.240759</td>\n",
       "      <td>0.354640</td>\n",
       "      <td>0.569593</td>\n",
       "    </tr>\n",
       "    <tr>\n",
       "      <th>...</th>\n",
       "      <td>...</td>\n",
       "      <td>...</td>\n",
       "      <td>...</td>\n",
       "      <td>...</td>\n",
       "      <td>...</td>\n",
       "      <td>...</td>\n",
       "      <td>...</td>\n",
       "    </tr>\n",
       "    <tr>\n",
       "      <th>Individual_86</th>\n",
       "      <td>0.981351</td>\n",
       "      <td>0.624350</td>\n",
       "      <td>0.369896</td>\n",
       "      <td>0.449867</td>\n",
       "      <td>1.000000</td>\n",
       "      <td>0.587660</td>\n",
       "      <td>0.837781</td>\n",
       "    </tr>\n",
       "    <tr>\n",
       "      <th>Individual_21</th>\n",
       "      <td>0.540272</td>\n",
       "      <td>0.230328</td>\n",
       "      <td>0.691153</td>\n",
       "      <td>0.388533</td>\n",
       "      <td>0.836041</td>\n",
       "      <td>0.153219</td>\n",
       "      <td>0.246360</td>\n",
       "    </tr>\n",
       "    <tr>\n",
       "      <th>Individual_41</th>\n",
       "      <td>0.794883</td>\n",
       "      <td>0.731588</td>\n",
       "      <td>0.508563</td>\n",
       "      <td>0.375140</td>\n",
       "      <td>0.580045</td>\n",
       "      <td>0.354774</td>\n",
       "      <td>0.605468</td>\n",
       "    </tr>\n",
       "    <tr>\n",
       "      <th>Individual_4</th>\n",
       "      <td>0.194956</td>\n",
       "      <td>0.439861</td>\n",
       "      <td>0.172976</td>\n",
       "      <td>0.497562</td>\n",
       "      <td>0.665503</td>\n",
       "      <td>0.352305</td>\n",
       "      <td>0.583422</td>\n",
       "    </tr>\n",
       "    <tr>\n",
       "      <th>Individual_62</th>\n",
       "      <td>0.012327</td>\n",
       "      <td>0.380867</td>\n",
       "      <td>0.581958</td>\n",
       "      <td>0.545660</td>\n",
       "      <td>0.171602</td>\n",
       "      <td>0.968235</td>\n",
       "      <td>0.649187</td>\n",
       "    </tr>\n",
       "  </tbody>\n",
       "</table>\n",
       "<p>10000 rows × 7 columns</p>\n",
       "</div>"
      ],
      "text/plain": [
       "               unexplainable_1  unexplainable_2  unexplainable_3  \\\n",
       "Individual                                                         \n",
       "Individual_48         0.245029         0.597298         0.166455   \n",
       "Individual_16         0.510750         0.930841         0.057806   \n",
       "Individual_64         0.244136         0.960293         0.939299   \n",
       "Individual_11         0.892990         0.518555         0.869844   \n",
       "Individual_83         0.065547         0.422110         0.053548   \n",
       "...                        ...              ...              ...   \n",
       "Individual_86         0.981351         0.624350         0.369896   \n",
       "Individual_21         0.540272         0.230328         0.691153   \n",
       "Individual_41         0.794883         0.731588         0.508563   \n",
       "Individual_4          0.194956         0.439861         0.172976   \n",
       "Individual_62         0.012327         0.380867         0.581958   \n",
       "\n",
       "               unexplainable_4  if_zebra_then_age  \\\n",
       "Individual                                          \n",
       "Individual_48         0.544668           0.000000   \n",
       "Individual_16         0.460765           0.536132   \n",
       "Individual_64         0.497671           0.500000   \n",
       "Individual_11         0.544642           1.000000   \n",
       "Individual_83         0.377533           0.240759   \n",
       "...                        ...                ...   \n",
       "Individual_86         0.449867           1.000000   \n",
       "Individual_21         0.388533           0.836041   \n",
       "Individual_41         0.375140           0.580045   \n",
       "Individual_4          0.497562           0.665503   \n",
       "Individual_62         0.545660           0.171602   \n",
       "\n",
       "               explained_by_loves_to_sleep  Age_plus_Weight  \n",
       "Individual                                                   \n",
       "Individual_48                     0.677234         0.340029  \n",
       "Individual_16                     0.732871         0.473300  \n",
       "Individual_64                     0.990863         0.405809  \n",
       "Individual_11                     0.433053         0.645376  \n",
       "Individual_83                     0.354640         0.569593  \n",
       "...                                    ...              ...  \n",
       "Individual_86                     0.587660         0.837781  \n",
       "Individual_21                     0.153219         0.246360  \n",
       "Individual_41                     0.354774         0.605468  \n",
       "Individual_4                      0.352305         0.583422  \n",
       "Individual_62                     0.968235         0.649187  \n",
       "\n",
       "[10000 rows x 7 columns]"
      ]
     },
     "execution_count": 14,
     "metadata": {},
     "output_type": "execute_result"
    }
   ],
   "source": [
    "df_observable"
   ]
  },
  {
   "cell_type": "code",
   "execution_count": 15,
   "metadata": {},
   "outputs": [
    {
     "data": {
      "text/html": [
       "<div>\n",
       "<style scoped>\n",
       "    .dataframe tbody tr th:only-of-type {\n",
       "        vertical-align: middle;\n",
       "    }\n",
       "\n",
       "    .dataframe tbody tr th {\n",
       "        vertical-align: top;\n",
       "    }\n",
       "\n",
       "    .dataframe thead th {\n",
       "        text-align: right;\n",
       "    }\n",
       "</style>\n",
       "<table border=\"1\" class=\"dataframe\">\n",
       "  <thead>\n",
       "    <tr style=\"text-align: right;\">\n",
       "      <th></th>\n",
       "      <th>unexplainable_1</th>\n",
       "      <th>unexplainable_2</th>\n",
       "      <th>unexplainable_3</th>\n",
       "      <th>unexplainable_4</th>\n",
       "      <th>if_zebra_then_age</th>\n",
       "      <th>explained_by_loves_to_sleep</th>\n",
       "      <th>Age_plus_Weight</th>\n",
       "    </tr>\n",
       "    <tr>\n",
       "      <th>Individual</th>\n",
       "      <th></th>\n",
       "      <th></th>\n",
       "      <th></th>\n",
       "      <th></th>\n",
       "      <th></th>\n",
       "      <th></th>\n",
       "      <th></th>\n",
       "    </tr>\n",
       "  </thead>\n",
       "  <tbody>\n",
       "    <tr>\n",
       "      <th>Individual_9</th>\n",
       "      <td>0.462250</td>\n",
       "      <td>0.539279</td>\n",
       "      <td>0.172716</td>\n",
       "      <td>0.292403</td>\n",
       "      <td>1.0</td>\n",
       "      <td>0.421375</td>\n",
       "      <td>0.544278</td>\n",
       "    </tr>\n",
       "    <tr>\n",
       "      <th>Individual_9</th>\n",
       "      <td>0.384260</td>\n",
       "      <td>0.043680</td>\n",
       "      <td>0.065578</td>\n",
       "      <td>0.416872</td>\n",
       "      <td>1.0</td>\n",
       "      <td>0.421375</td>\n",
       "      <td>0.544278</td>\n",
       "    </tr>\n",
       "    <tr>\n",
       "      <th>Individual_9</th>\n",
       "      <td>0.043175</td>\n",
       "      <td>0.092937</td>\n",
       "      <td>0.440499</td>\n",
       "      <td>0.631004</td>\n",
       "      <td>1.0</td>\n",
       "      <td>0.421375</td>\n",
       "      <td>0.544278</td>\n",
       "    </tr>\n",
       "    <tr>\n",
       "      <th>Individual_9</th>\n",
       "      <td>0.487238</td>\n",
       "      <td>0.836756</td>\n",
       "      <td>0.257882</td>\n",
       "      <td>0.336656</td>\n",
       "      <td>1.0</td>\n",
       "      <td>0.421375</td>\n",
       "      <td>0.544278</td>\n",
       "    </tr>\n",
       "    <tr>\n",
       "      <th>Individual_9</th>\n",
       "      <td>0.006593</td>\n",
       "      <td>0.327805</td>\n",
       "      <td>0.186952</td>\n",
       "      <td>0.549149</td>\n",
       "      <td>1.0</td>\n",
       "      <td>0.421375</td>\n",
       "      <td>0.544278</td>\n",
       "    </tr>\n",
       "    <tr>\n",
       "      <th>...</th>\n",
       "      <td>...</td>\n",
       "      <td>...</td>\n",
       "      <td>...</td>\n",
       "      <td>...</td>\n",
       "      <td>...</td>\n",
       "      <td>...</td>\n",
       "      <td>...</td>\n",
       "    </tr>\n",
       "    <tr>\n",
       "      <th>Individual_9</th>\n",
       "      <td>0.805246</td>\n",
       "      <td>0.459899</td>\n",
       "      <td>0.545669</td>\n",
       "      <td>0.482776</td>\n",
       "      <td>1.0</td>\n",
       "      <td>0.421375</td>\n",
       "      <td>0.544278</td>\n",
       "    </tr>\n",
       "    <tr>\n",
       "      <th>Individual_9</th>\n",
       "      <td>0.177549</td>\n",
       "      <td>0.435216</td>\n",
       "      <td>0.660642</td>\n",
       "      <td>0.343047</td>\n",
       "      <td>1.0</td>\n",
       "      <td>0.421375</td>\n",
       "      <td>0.544278</td>\n",
       "    </tr>\n",
       "    <tr>\n",
       "      <th>Individual_9</th>\n",
       "      <td>0.784456</td>\n",
       "      <td>0.924062</td>\n",
       "      <td>0.988043</td>\n",
       "      <td>0.471649</td>\n",
       "      <td>1.0</td>\n",
       "      <td>0.421375</td>\n",
       "      <td>0.544278</td>\n",
       "    </tr>\n",
       "    <tr>\n",
       "      <th>Individual_9</th>\n",
       "      <td>0.559484</td>\n",
       "      <td>0.392540</td>\n",
       "      <td>0.483084</td>\n",
       "      <td>0.619800</td>\n",
       "      <td>1.0</td>\n",
       "      <td>0.421375</td>\n",
       "      <td>0.544278</td>\n",
       "    </tr>\n",
       "    <tr>\n",
       "      <th>Individual_9</th>\n",
       "      <td>0.770042</td>\n",
       "      <td>0.638596</td>\n",
       "      <td>0.812806</td>\n",
       "      <td>0.229275</td>\n",
       "      <td>1.0</td>\n",
       "      <td>0.421375</td>\n",
       "      <td>0.544278</td>\n",
       "    </tr>\n",
       "  </tbody>\n",
       "</table>\n",
       "<p>97 rows × 7 columns</p>\n",
       "</div>"
      ],
      "text/plain": [
       "              unexplainable_1  unexplainable_2  unexplainable_3  \\\n",
       "Individual                                                        \n",
       "Individual_9         0.462250         0.539279         0.172716   \n",
       "Individual_9         0.384260         0.043680         0.065578   \n",
       "Individual_9         0.043175         0.092937         0.440499   \n",
       "Individual_9         0.487238         0.836756         0.257882   \n",
       "Individual_9         0.006593         0.327805         0.186952   \n",
       "...                       ...              ...              ...   \n",
       "Individual_9         0.805246         0.459899         0.545669   \n",
       "Individual_9         0.177549         0.435216         0.660642   \n",
       "Individual_9         0.784456         0.924062         0.988043   \n",
       "Individual_9         0.559484         0.392540         0.483084   \n",
       "Individual_9         0.770042         0.638596         0.812806   \n",
       "\n",
       "              unexplainable_4  if_zebra_then_age  explained_by_loves_to_sleep  \\\n",
       "Individual                                                                      \n",
       "Individual_9         0.292403                1.0                     0.421375   \n",
       "Individual_9         0.416872                1.0                     0.421375   \n",
       "Individual_9         0.631004                1.0                     0.421375   \n",
       "Individual_9         0.336656                1.0                     0.421375   \n",
       "Individual_9         0.549149                1.0                     0.421375   \n",
       "...                       ...                ...                          ...   \n",
       "Individual_9         0.482776                1.0                     0.421375   \n",
       "Individual_9         0.343047                1.0                     0.421375   \n",
       "Individual_9         0.471649                1.0                     0.421375   \n",
       "Individual_9         0.619800                1.0                     0.421375   \n",
       "Individual_9         0.229275                1.0                     0.421375   \n",
       "\n",
       "              Age_plus_Weight  \n",
       "Individual                     \n",
       "Individual_9         0.544278  \n",
       "Individual_9         0.544278  \n",
       "Individual_9         0.544278  \n",
       "Individual_9         0.544278  \n",
       "Individual_9         0.544278  \n",
       "...                       ...  \n",
       "Individual_9         0.544278  \n",
       "Individual_9         0.544278  \n",
       "Individual_9         0.544278  \n",
       "Individual_9         0.544278  \n",
       "Individual_9         0.544278  \n",
       "\n",
       "[97 rows x 7 columns]"
      ]
     },
     "execution_count": 15,
     "metadata": {},
     "output_type": "execute_result"
    }
   ],
   "source": [
    "df_observable.loc['Individual_9']"
   ]
  },
  {
   "cell_type": "code",
   "execution_count": 16,
   "metadata": {},
   "outputs": [
    {
     "data": {
      "image/png": "[encoded data removed]",
      "text/plain": [
       "<Figure size 3000x700 with 2 Axes>"
      ]
     },
     "metadata": {},
     "output_type": "display_data"
    },
    {
     "data": {
      "image/png": "[encoded data removed]",
      "text/plain": [
       "<Figure size 2000x1000 with 1 Axes>"
      ]
     },
     "metadata": {},
     "output_type": "display_data"
    },
    {
     "data": {
      "image/png": "[encoded data removed]",
      "text/plain": [
       "<Figure size 2000x1000 with 1 Axes>"
      ]
     },
     "metadata": {},
     "output_type": "display_data"
    }
   ],
   "source": [
    "index_name = 'Individual'\n",
    "my_linkage = 'ward' #'single'\n",
    "\n",
    "from data_preparation import DataPreparator\n",
    "from apply_clustering import ClusteringApplier\n",
    "\n",
    "preparation_result = DataPreparator.prepare_data(\n",
    "    use_config=False,\n",
    "    df_observable=df_observable.reset_index(),\n",
    "    df_explainable=df_explainable.reset_index(),\n",
    "    distortion_mean=0.,\n",
    "    distortion_std=0.001,\n",
    "    observed_features=observed_features,\n",
    "    explaining_features=explaining_features,\n",
    "    nn_imputation_k=10,\n",
    "    group_name=index_name,\n",
    ")\n",
    "optimal_number_of_clusters = ClusteringApplier.draw_gap_statistic_plot(\n",
    "    use_config=False, df_observable=preparation_result['observable_df'],\n",
    "    observed_features=observed_features,\n",
    "    gap_statistic_cluster_range=15,\n",
    "    linkage='ward'\n",
    ")\n",
    "observable_patterns_result = ClusteringApplier.calculate_observable_patterns(\n",
    "    use_config=False,\n",
    "    df_observable_data=preparation_result['observable_df'],\n",
    "    _n_clusters=optimal_number_of_clusters['n_clusters'],\n",
    "    observable_name='observable_name',\n",
    "    observable_feature_names=observed_features,\n",
    "    plot_title='Name of the fingerprint plot',\n",
    "    number_observable_patterns='auto',\n",
    "    distance_measure_fingerprint='jensenshannon',\n",
    "    group_name=index_name, \n",
    "    spiderplot_scaling='minmax',\n",
    "    linkage=my_linkage\n",
    ")"
   ]
  },
  {
   "cell_type": "code",
   "execution_count": 17,
   "metadata": {},
   "outputs": [
    {
     "data": {
      "application/vnd.plotly.v1+json": {
       "config": {
        "plotlyServerURL": "https://plot.ly"
       },
       "data": [
        {
         "fill": "toself",
         "r": [
          0.22460209589930927,
          0.2446914336312325,
          0.010259969007752424,
          0,
          0.09666782326314265,
          0.03028953040055351,
          0.16152371608268604
         ],
         "subplot": "polar",
         "theta": [
          "unexplainable_1",
          "unexplainable_2",
          "unexplainable_3",
          "unexplainable_4",
          "if_zebra_then_age",
          "explained_by_loves_to_sleep",
          "Age_plus_Weight"
         ],
         "type": "scatterpolar"
        },
        {
         "fill": "toself",
         "r": [
          0.24022096362239362,
          0.13118916030764524,
          0.2235391563058124,
          0.27206718416184655,
          0.10694675306862886,
          0.03507228271470751,
          0.13696743142134254
         ],
         "subplot": "polar2",
         "theta": [
          "unexplainable_1",
          "unexplainable_2",
          "unexplainable_3",
          "unexplainable_4",
          "if_zebra_then_age",
          "explained_by_loves_to_sleep",
          "Age_plus_Weight"
         ],
         "type": "scatterpolar"
        },
        {
         "fill": "toself",
         "r": [
          0.2183430620331217,
          0.05215372439086665,
          0.1760267637808246,
          0.11080931524201765,
          0.00011451599788817094,
          0.2829542714069577,
          0.022474336268844
         ],
         "subplot": "polar3",
         "theta": [
          "unexplainable_1",
          "unexplainable_2",
          "unexplainable_3",
          "unexplainable_4",
          "if_zebra_then_age",
          "explained_by_loves_to_sleep",
          "Age_plus_Weight"
         ],
         "type": "scatterpolar"
        },
        {
         "fill": "toself",
         "r": [
          0.11881297226717234,
          0.005282724632057725,
          0.18750383509244747,
          0.09015616815860368,
          0.00002582440824746363,
          0.056185694130558364,
          0.010611802463063527
         ],
         "subplot": "polar4",
         "theta": [
          "unexplainable_1",
          "unexplainable_2",
          "unexplainable_3",
          "unexplainable_4",
          "if_zebra_then_age",
          "explained_by_loves_to_sleep",
          "Age_plus_Weight"
         ],
         "type": "scatterpolar"
        },
        {
         "fill": "toself",
         "r": [
          0.0496961431210948,
          0.14221651362750362,
          0.17366825634498412,
          0.10686788708742061,
          0.20829137553549126,
          0.1973710642673918,
          0.20838682396460032
         ],
         "subplot": "polar5",
         "theta": [
          "unexplainable_1",
          "unexplainable_2",
          "unexplainable_3",
          "unexplainable_4",
          "if_zebra_then_age",
          "explained_by_loves_to_sleep",
          "Age_plus_Weight"
         ],
         "type": "scatterpolar"
        },
        {
         "fill": "toself",
         "r": [
          0.25986365623897256,
          0.001920230326791449,
          0.08469845752761952,
          0.14127334456769308,
          0.13780160349220666,
          0.2751008022064965,
          0.04968181251405627
         ],
         "subplot": "polar6",
         "theta": [
          "unexplainable_1",
          "unexplainable_2",
          "unexplainable_3",
          "unexplainable_4",
          "if_zebra_then_age",
          "explained_by_loves_to_sleep",
          "Age_plus_Weight"
         ],
         "type": "scatterpolar"
        },
        {
         "fill": "toself",
         "r": [
          0.1230435191712798,
          0.2718914610537055,
          0,
          0.19802226902477854,
          0.13588793835323745,
          0.262687975281816,
          0.05328282493356484
         ],
         "subplot": "polar7",
         "theta": [
          "unexplainable_1",
          "unexplainable_2",
          "unexplainable_3",
          "unexplainable_4",
          "if_zebra_then_age",
          "explained_by_loves_to_sleep",
          "Age_plus_Weight"
         ],
         "type": "scatterpolar"
        },
        {
         "fill": "toself",
         "r": [
          0.07592242399896681,
          0.12119479237904934,
          0.267368242717926,
          0.003985735103976714,
          0.23103498474561515,
          0,
          0.12220181201599092
         ],
         "subplot": "polar8",
         "theta": [
          "unexplainable_1",
          "unexplainable_2",
          "unexplainable_3",
          "unexplainable_4",
          "if_zebra_then_age",
          "explained_by_loves_to_sleep",
          "Age_plus_Weight"
         ],
         "type": "scatterpolar"
        },
        {
         "fill": "toself",
         "r": [
          0.2062694616948494,
          0.048326107272099586,
          0.007656041429588527,
          0.08868565146530832,
          0.252969456874023,
          0.1297465652813774,
          0.1858649109275614
         ],
         "subplot": "polar9",
         "theta": [
          "unexplainable_1",
          "unexplainable_2",
          "unexplainable_3",
          "unexplainable_4",
          "if_zebra_then_age",
          "explained_by_loves_to_sleep",
          "Age_plus_Weight"
         ],
         "type": "scatterpolar"
        },
        {
         "fill": "toself",
         "r": [
          0.09883882994054911,
          0.21569634884415068,
          0.22587744843424248,
          0.024075033583556248,
          0.11910087003452963,
          0.21738181585277427,
          0.08083587849225228
         ],
         "subplot": "polar10",
         "theta": [
          "unexplainable_1",
          "unexplainable_2",
          "unexplainable_3",
          "unexplainable_4",
          "if_zebra_then_age",
          "explained_by_loves_to_sleep",
          "Age_plus_Weight"
         ],
         "type": "scatterpolar"
        },
        {
         "fill": "toself",
         "r": [
          0,
          0.33429395353251856,
          0.16354289696734192,
          0.22690383038692113,
          0,
          0.2519995771496447,
          0
         ],
         "subplot": "polar11",
         "theta": [
          "unexplainable_1",
          "unexplainable_2",
          "unexplainable_3",
          "unexplainable_4",
          "if_zebra_then_age",
          "explained_by_loves_to_sleep",
          "Age_plus_Weight"
         ],
         "type": "scatterpolar"
        },
        {
         "fill": "toself",
         "r": [
          0.2157051693953618,
          0.21093904468265212,
          0.12313258569415451,
          0.1182784948795669,
          0.2157051693953618,
          0.05324499941222944,
          0.15849326156641919
         ],
         "subplot": "polar12",
         "theta": [
          "unexplainable_1",
          "unexplainable_2",
          "unexplainable_3",
          "unexplainable_4",
          "if_zebra_then_age",
          "explained_by_loves_to_sleep",
          "Age_plus_Weight"
         ],
         "type": "scatterpolar"
        },
        {
         "fill": "toself",
         "r": [
          0.01347197482088317,
          0.15307374830630638,
          0.08410923039078592,
          0.10768307194718148,
          0.28145736783730974,
          0.02650721542277641,
          0.18887244145512033
         ],
         "subplot": "polar13",
         "theta": [
          "unexplainable_1",
          "unexplainable_2",
          "unexplainable_3",
          "unexplainable_4",
          "if_zebra_then_age",
          "explained_by_loves_to_sleep",
          "Age_plus_Weight"
         ],
         "type": "scatterpolar"
        },
        {
         "fill": "toself",
         "r": [
          0.03208618623997874,
          0,
          0.15944652761693345,
          0.07193361981639916,
          0.14917908057619508,
          0.2983277616164572,
          0.09895072871249665
         ],
         "subplot": "polar14",
         "theta": [
          "unexplainable_1",
          "unexplainable_2",
          "unexplainable_3",
          "unexplainable_4",
          "if_zebra_then_age",
          "explained_by_loves_to_sleep",
          "Age_plus_Weight"
         ],
         "type": "scatterpolar"
        }
       ],
       "layout": {
        "annotations": [
         {
          "font": {
           "size": 16
          },
          "showarrow": false,
          "text": "Fingerprint 1 (homogeneity: 0.04)",
          "x": 0.175,
          "xanchor": "center",
          "xref": "paper",
          "y": 1,
          "yanchor": "bottom",
          "yref": "paper"
         },
         {
          "font": {
           "size": 16
          },
          "showarrow": false,
          "text": "Fingerprint 2 (homogeneity: 0.02)",
          "x": 0.825,
          "xanchor": "center",
          "xref": "paper",
          "y": 1,
          "yanchor": "bottom",
          "yref": "paper"
         },
         {
          "font": {
           "size": 16
          },
          "showarrow": false,
          "text": "Fingerprint 3 (homogeneity: 0.10)",
          "x": 0.175,
          "xanchor": "center",
          "xref": "paper",
          "y": 0.85,
          "yanchor": "bottom",
          "yref": "paper"
         },
         {
          "font": {
           "size": 16
          },
          "showarrow": false,
          "text": "Fingerprint 4 (homogeneity: 0.09)",
          "x": 0.825,
          "xanchor": "center",
          "xref": "paper",
          "y": 0.85,
          "yanchor": "bottom",
          "yref": "paper"
         },
         {
          "font": {
           "size": 16
          },
          "showarrow": false,
          "text": "Fingerprint 5 (homogeneity: 0.02)",
          "x": 0.175,
          "xanchor": "center",
          "xref": "paper",
          "y": 0.7,
          "yanchor": "bottom",
          "yref": "paper"
         },
         {
          "font": {
           "size": 16
          },
          "showarrow": false,
          "text": "Fingerprint 6 (homogeneity: 0.04)",
          "x": 0.825,
          "xanchor": "center",
          "xref": "paper",
          "y": 0.7,
          "yanchor": "bottom",
          "yref": "paper"
         },
         {
          "font": {
           "size": 16
          },
          "showarrow": false,
          "text": "Fingerprint 7 (homogeneity: 0.04)",
          "x": 0.175,
          "xanchor": "center",
          "xref": "paper",
          "y": 0.55,
          "yanchor": "bottom",
          "yref": "paper"
         },
         {
          "font": {
           "size": 16
          },
          "showarrow": false,
          "text": "Fingerprint 8 (homogeneity: 0.05)",
          "x": 0.825,
          "xanchor": "center",
          "xref": "paper",
          "y": 0.55,
          "yanchor": "bottom",
          "yref": "paper"
         },
         {
          "font": {
           "size": 16
          },
          "showarrow": false,
          "text": "Fingerprint 9 (homogeneity: 0.05)",
          "x": 0.175,
          "xanchor": "center",
          "xref": "paper",
          "y": 0.39999999999999997,
          "yanchor": "bottom",
          "yref": "paper"
         },
         {
          "font": {
           "size": 16
          },
          "showarrow": false,
          "text": "Fingerprint 10 (homogeneity: 0.02)",
          "x": 0.825,
          "xanchor": "center",
          "xref": "paper",
          "y": 0.39999999999999997,
          "yanchor": "bottom",
          "yref": "paper"
         },
         {
          "font": {
           "size": 16
          },
          "showarrow": false,
          "text": "Fingerprint 11 (homogeneity: 0.12)",
          "x": 0.175,
          "xanchor": "center",
          "xref": "paper",
          "y": 0.25,
          "yanchor": "bottom",
          "yref": "paper"
         },
         {
          "font": {
           "size": 16
          },
          "showarrow": false,
          "text": "Fingerprint 12 (homogeneity: 0.02)",
          "x": 0.825,
          "xanchor": "center",
          "xref": "paper",
          "y": 0.25,
          "yanchor": "bottom",
          "yref": "paper"
         },
         {
          "font": {
           "size": 16
          },
          "showarrow": false,
          "text": "Fingerprint 13 (homogeneity: 0.06)",
          "x": 0.175,
          "xanchor": "center",
          "xref": "paper",
          "y": 0.09999999999999999,
          "yanchor": "bottom",
          "yref": "paper"
         },
         {
          "font": {
           "size": 16
          },
          "showarrow": false,
          "text": "Fingerprint 14 (homogeneity: 0.04)",
          "x": 0.825,
          "xanchor": "center",
          "xref": "paper",
          "y": 0.09999999999999999,
          "yanchor": "bottom",
          "yref": "paper"
         }
        ],
        "height": 3500,
        "paper_bgcolor": "rgba(0, 0, 0, 0)",
        "plot_bgcolor": "rgba(0, 0, 0, 0)",
        "polar": {
         "domain": {
          "x": [
           0,
           0.35
          ],
          "y": [
           0.9,
           1
          ]
         },
         "radialaxis": {
          "range": [
           0,
           1
          ],
          "showticklabels": false,
          "visible": true
         }
        },
        "polar10": {
         "domain": {
          "x": [
           0.6499999999999999,
           0.9999999999999999
          ],
          "y": [
           0.3,
           0.39999999999999997
          ]
         },
         "radialaxis": {
          "range": [
           0,
           1
          ],
          "showticklabels": false,
          "visible": true
         }
        },
        "polar11": {
         "domain": {
          "x": [
           0,
           0.35
          ],
          "y": [
           0.15,
           0.25
          ]
         },
         "radialaxis": {
          "range": [
           0,
           1
          ],
          "showticklabels": false,
          "visible": true
         }
        },
        "polar12": {
         "domain": {
          "x": [
           0.6499999999999999,
           0.9999999999999999
          ],
          "y": [
           0.15,
           0.25
          ]
         },
         "radialaxis": {
          "range": [
           0,
           1
          ],
          "showticklabels": false,
          "visible": true
         }
        },
        "polar13": {
         "domain": {
          "x": [
           0,
           0.35
          ],
          "y": [
           0,
           0.09999999999999999
          ]
         },
         "radialaxis": {
          "range": [
           0,
           1
          ],
          "showticklabels": false,
          "visible": true
         }
        },
        "polar14": {
         "domain": {
          "x": [
           0.6499999999999999,
           0.9999999999999999
          ],
          "y": [
           0,
           0.09999999999999999
          ]
         },
         "radialaxis": {
          "range": [
           0,
           1
          ],
          "showticklabels": false,
          "visible": true
         }
        },
        "polar2": {
         "domain": {
          "x": [
           0.6499999999999999,
           0.9999999999999999
          ],
          "y": [
           0.9,
           1
          ]
         },
         "radialaxis": {
          "range": [
           0,
           1
          ],
          "showticklabels": false,
          "visible": true
         }
        },
        "polar3": {
         "domain": {
          "x": [
           0,
           0.35
          ],
          "y": [
           0.75,
           0.85
          ]
         },
         "radialaxis": {
          "range": [
           0,
           1
          ],
          "showticklabels": false,
          "visible": true
         }
        },
        "polar4": {
         "domain": {
          "x": [
           0.6499999999999999,
           0.9999999999999999
          ],
          "y": [
           0.75,
           0.85
          ]
         },
         "radialaxis": {
          "range": [
           0,
           1
          ],
          "showticklabels": false,
          "visible": true
         }
        },
        "polar5": {
         "domain": {
          "x": [
           0,
           0.35
          ],
          "y": [
           0.6,
           0.7
          ]
         },
         "radialaxis": {
          "range": [
           0,
           1
          ],
          "showticklabels": false,
          "visible": true
         }
        },
        "polar6": {
         "domain": {
          "x": [
           0.6499999999999999,
           0.9999999999999999
          ],
          "y": [
           0.6,
           0.7
          ]
         },
         "radialaxis": {
          "range": [
           0,
           1
          ],
          "showticklabels": false,
          "visible": true
         }
        },
        "polar7": {
         "domain": {
          "x": [
           0,
           0.35
          ],
          "y": [
           0.45,
           0.55
          ]
         },
         "radialaxis": {
          "range": [
           0,
           1
          ],
          "showticklabels": false,
          "visible": true
         }
        },
        "polar8": {
         "domain": {
          "x": [
           0.6499999999999999,
           0.9999999999999999
          ],
          "y": [
           0.45,
           0.55
          ]
         },
         "radialaxis": {
          "range": [
           0,
           1
          ],
          "showticklabels": false,
          "visible": true
         }
        },
        "polar9": {
         "domain": {
          "x": [
           0,
           0.35
          ],
          "y": [
           0.3,
           0.39999999999999997
          ]
         },
         "radialaxis": {
          "range": [
           0,
           1
          ],
          "showticklabels": false,
          "visible": true
         }
        },
        "showlegend": false,
        "template": {
         "data": {
          "bar": [
           {
            "error_x": {
             "color": "#2a3f5f"
            },
            "error_y": {
             "color": "#2a3f5f"
            },
            "marker": {
             "line": {
              "color": "#E5ECF6",
              "width": 0.5
             },
             "pattern": {
              "fillmode": "overlay",
              "size": 10,
              "solidity": 0.2
             }
            },
            "type": "bar"
           }
          ],
          "barpolar": [
           {
            "marker": {
             "line": {
              "color": "#E5ECF6",
              "width": 0.5
             },
             "pattern": {
              "fillmode": "overlay",
              "size": 10,
              "solidity": 0.2
             }
            },
            "type": "barpolar"
           }
          ],
          "carpet": [
           {
            "aaxis": {
             "endlinecolor": "#2a3f5f",
             "gridcolor": "white",
             "linecolor": "white",
             "minorgridcolor": "white",
             "startlinecolor": "#2a3f5f"
            },
            "baxis": {
             "endlinecolor": "#2a3f5f",
             "gridcolor": "white",
             "linecolor": "white",
             "minorgridcolor": "white",
             "startlinecolor": "#2a3f5f"
            },
            "type": "carpet"
           }
          ],
          "choropleth": [
           {
            "colorbar": {
             "outlinewidth": 0,
             "ticks": ""
            },
            "type": "choropleth"
           }
          ],
          "contour": [
           {
            "colorbar": {
             "outlinewidth": 0,
             "ticks": ""
            },
            "colorscale": [
             [
              0,
              "#0d0887"
             ],
             [
              0.1111111111111111,
              "#46039f"
             ],
             [
              0.2222222222222222,
              "#7201a8"
             ],
             [
              0.3333333333333333,
              "#9c179e"
             ],
             [
              0.4444444444444444,
              "#bd3786"
             ],
             [
              0.5555555555555556,
              "#d8576b"
             ],
             [
              0.6666666666666666,
              "#ed7953"
             ],
             [
              0.7777777777777778,
              "#fb9f3a"
             ],
             [
              0.8888888888888888,
              "#fdca26"
             ],
             [
              1,
              "#f0f921"
             ]
            ],
            "type": "contour"
           }
          ],
          "contourcarpet": [
           {
            "colorbar": {
             "outlinewidth": 0,
             "ticks": ""
            },
            "type": "contourcarpet"
           }
          ],
          "heatmap": [
           {
            "colorbar": {
             "outlinewidth": 0,
             "ticks": ""
            },
            "colorscale": [
             [
              0,
              "#0d0887"
             ],
             [
              0.1111111111111111,
              "#46039f"
             ],
             [
              0.2222222222222222,
              "#7201a8"
             ],
             [
              0.3333333333333333,
              "#9c179e"
             ],
             [
              0.4444444444444444,
              "#bd3786"
             ],
             [
              0.5555555555555556,
              "#d8576b"
             ],
             [
              0.6666666666666666,
              "#ed7953"
             ],
             [
              0.7777777777777778,
              "#fb9f3a"
             ],
             [
              0.8888888888888888,
              "#fdca26"
             ],
             [
              1,
              "#f0f921"
             ]
            ],
            "type": "heatmap"
           }
          ],
          "heatmapgl": [
           {
            "colorbar": {
             "outlinewidth": 0,
             "ticks": ""
            },
            "colorscale": [
             [
              0,
              "#0d0887"
             ],
             [
              0.1111111111111111,
              "#46039f"
             ],
             [
              0.2222222222222222,
              "#7201a8"
             ],
             [
              0.3333333333333333,
              "#9c179e"
             ],
             [
              0.4444444444444444,
              "#bd3786"
             ],
             [
              0.5555555555555556,
              "#d8576b"
             ],
             [
              0.6666666666666666,
              "#ed7953"
             ],
             [
              0.7777777777777778,
              "#fb9f3a"
             ],
             [
              0.8888888888888888,
              "#fdca26"
             ],
             [
              1,
              "#f0f921"
             ]
            ],
            "type": "heatmapgl"
           }
          ],
          "histogram": [
           {
            "marker": {
             "pattern": {
              "fillmode": "overlay",
              "size": 10,
              "solidity": 0.2
             }
            },
            "type": "histogram"
           }
          ],
          "histogram2d": [
           {
            "colorbar": {
             "outlinewidth": 0,
             "ticks": ""
            },
            "colorscale": [
             [
              0,
              "#0d0887"
             ],
             [
              0.1111111111111111,
              "#46039f"
             ],
             [
              0.2222222222222222,
              "#7201a8"
             ],
             [
              0.3333333333333333,
              "#9c179e"
             ],
             [
              0.4444444444444444,
              "#bd3786"
             ],
             [
              0.5555555555555556,
              "#d8576b"
             ],
             [
              0.6666666666666666,
              "#ed7953"
             ],
             [
              0.7777777777777778,
              "#fb9f3a"
             ],
             [
              0.8888888888888888,
              "#fdca26"
             ],
             [
              1,
              "#f0f921"
             ]
            ],
            "type": "histogram2d"
           }
          ],
          "histogram2dcontour": [
           {
            "colorbar": {
             "outlinewidth": 0,
             "ticks": ""
            },
            "colorscale": [
             [
              0,
              "#0d0887"
             ],
             [
              0.1111111111111111,
              "#46039f"
             ],
             [
              0.2222222222222222,
              "#7201a8"
             ],
             [
              0.3333333333333333,
              "#9c179e"
             ],
             [
              0.4444444444444444,
              "#bd3786"
             ],
             [
              0.5555555555555556,
              "#d8576b"
             ],
             [
              0.6666666666666666,
              "#ed7953"
             ],
             [
              0.7777777777777778,
              "#fb9f3a"
             ],
             [
              0.8888888888888888,
              "#fdca26"
             ],
             [
              1,
              "#f0f921"
             ]
            ],
            "type": "histogram2dcontour"
           }
          ],
          "mesh3d": [
           {
            "colorbar": {
             "outlinewidth": 0,
             "ticks": ""
            },
            "type": "mesh3d"
           }
          ],
          "parcoords": [
           {
            "line": {
             "colorbar": {
              "outlinewidth": 0,
              "ticks": ""
             }
            },
            "type": "parcoords"
           }
          ],
          "pie": [
           {
            "automargin": true,
            "type": "pie"
           }
          ],
          "scatter": [
           {
            "fillpattern": {
             "fillmode": "overlay",
             "size": 10,
             "solidity": 0.2
            },
            "type": "scatter"
           }
          ],
          "scatter3d": [
           {
            "line": {
             "colorbar": {
              "outlinewidth": 0,
              "ticks": ""
             }
            },
            "marker": {
             "colorbar": {
              "outlinewidth": 0,
              "ticks": ""
             }
            },
            "type": "scatter3d"
           }
          ],
          "scattercarpet": [
           {
            "marker": {
             "colorbar": {
              "outlinewidth": 0,
              "ticks": ""
             }
            },
            "type": "scattercarpet"
           }
          ],
          "scattergeo": [
           {
            "marker": {
             "colorbar": {
              "outlinewidth": 0,
              "ticks": ""
             }
            },
            "type": "scattergeo"
           }
          ],
          "scattergl": [
           {
            "marker": {
             "colorbar": {
              "outlinewidth": 0,
              "ticks": ""
             }
            },
            "type": "scattergl"
           }
          ],
          "scattermapbox": [
           {
            "marker": {
             "colorbar": {
              "outlinewidth": 0,
              "ticks": ""
             }
            },
            "type": "scattermapbox"
           }
          ],
          "scatterpolar": [
           {
            "marker": {
             "colorbar": {
              "outlinewidth": 0,
              "ticks": ""
             }
            },
            "type": "scatterpolar"
           }
          ],
          "scatterpolargl": [
           {
            "marker": {
             "colorbar": {
              "outlinewidth": 0,
              "ticks": ""
             }
            },
            "type": "scatterpolargl"
           }
          ],
          "scatterternary": [
           {
            "marker": {
             "colorbar": {
              "outlinewidth": 0,
              "ticks": ""
             }
            },
            "type": "scatterternary"
           }
          ],
          "surface": [
           {
            "colorbar": {
             "outlinewidth": 0,
             "ticks": ""
            },
            "colorscale": [
             [
              0,
              "#0d0887"
             ],
             [
              0.1111111111111111,
              "#46039f"
             ],
             [
              0.2222222222222222,
              "#7201a8"
             ],
             [
              0.3333333333333333,
              "#9c179e"
             ],
             [
              0.4444444444444444,
              "#bd3786"
             ],
             [
              0.5555555555555556,
              "#d8576b"
             ],
             [
              0.6666666666666666,
              "#ed7953"
             ],
             [
              0.7777777777777778,
              "#fb9f3a"
             ],
             [
              0.8888888888888888,
              "#fdca26"
             ],
             [
              1,
              "#f0f921"
             ]
            ],
            "type": "surface"
           }
          ],
          "table": [
           {
            "cells": {
             "fill": {
              "color": "#EBF0F8"
             },
             "line": {
              "color": "white"
             }
            },
            "header": {
             "fill": {
              "color": "#C8D4E3"
             },
             "line": {
              "color": "white"
             }
            },
            "type": "table"
           }
          ]
         },
         "layout": {
          "annotationdefaults": {
           "arrowcolor": "#2a3f5f",
           "arrowhead": 0,
           "arrowwidth": 1
          },
          "autotypenumbers": "strict",
          "coloraxis": {
           "colorbar": {
            "outlinewidth": 0,
            "ticks": ""
           }
          },
          "colorscale": {
           "diverging": [
            [
             0,
             "#8e0152"
            ],
            [
             0.1,
             "#c51b7d"
            ],
            [
             0.2,
             "#de77ae"
            ],
            [
             0.3,
             "#f1b6da"
            ],
            [
             0.4,
             "#fde0ef"
            ],
            [
             0.5,
             "#f7f7f7"
            ],
            [
             0.6,
             "#e6f5d0"
            ],
            [
             0.7,
             "#b8e186"
            ],
            [
             0.8,
             "#7fbc41"
            ],
            [
             0.9,
             "#4d9221"
            ],
            [
             1,
             "#276419"
            ]
           ],
           "sequential": [
            [
             0,
             "#0d0887"
            ],
            [
             0.1111111111111111,
             "#46039f"
            ],
            [
             0.2222222222222222,
             "#7201a8"
            ],
            [
             0.3333333333333333,
             "#9c179e"
            ],
            [
             0.4444444444444444,
             "#bd3786"
            ],
            [
             0.5555555555555556,
             "#d8576b"
            ],
            [
             0.6666666666666666,
             "#ed7953"
            ],
            [
             0.7777777777777778,
             "#fb9f3a"
            ],
            [
             0.8888888888888888,
             "#fdca26"
            ],
            [
             1,
             "#f0f921"
            ]
           ],
           "sequentialminus": [
            [
             0,
             "#0d0887"
            ],
            [
             0.1111111111111111,
             "#46039f"
            ],
            [
             0.2222222222222222,
             "#7201a8"
            ],
            [
             0.3333333333333333,
             "#9c179e"
            ],
            [
             0.4444444444444444,
             "#bd3786"
            ],
            [
             0.5555555555555556,
             "#d8576b"
            ],
            [
             0.6666666666666666,
             "#ed7953"
            ],
            [
             0.7777777777777778,
             "#fb9f3a"
            ],
            [
             0.8888888888888888,
             "#fdca26"
            ],
            [
             1,
             "#f0f921"
            ]
           ]
          },
          "colorway": [
           "#636efa",
           "#EF553B",
           "#00cc96",
           "#ab63fa",
           "#FFA15A",
           "#19d3f3",
           "#FF6692",
           "#B6E880",
           "#FF97FF",
           "#FECB52"
          ],
          "font": {
           "color": "#2a3f5f"
          },
          "geo": {
           "bgcolor": "white",
           "lakecolor": "white",
           "landcolor": "#E5ECF6",
           "showlakes": true,
           "showland": true,
           "subunitcolor": "white"
          },
          "hoverlabel": {
           "align": "left"
          },
          "hovermode": "closest",
          "mapbox": {
           "style": "light"
          },
          "paper_bgcolor": "white",
          "plot_bgcolor": "#E5ECF6",
          "polar": {
           "angularaxis": {
            "gridcolor": "white",
            "linecolor": "white",
            "ticks": ""
           },
           "bgcolor": "#E5ECF6",
           "radialaxis": {
            "gridcolor": "white",
            "linecolor": "white",
            "ticks": ""
           }
          },
          "scene": {
           "xaxis": {
            "backgroundcolor": "#E5ECF6",
            "gridcolor": "white",
            "gridwidth": 2,
            "linecolor": "white",
            "showbackground": true,
            "ticks": "",
            "zerolinecolor": "white"
           },
           "yaxis": {
            "backgroundcolor": "#E5ECF6",
            "gridcolor": "white",
            "gridwidth": 2,
            "linecolor": "white",
            "showbackground": true,
            "ticks": "",
            "zerolinecolor": "white"
           },
           "zaxis": {
            "backgroundcolor": "#E5ECF6",
            "gridcolor": "white",
            "gridwidth": 2,
            "linecolor": "white",
            "showbackground": true,
            "ticks": "",
            "zerolinecolor": "white"
           }
          },
          "shapedefaults": {
           "line": {
            "color": "#2a3f5f"
           }
          },
          "ternary": {
           "aaxis": {
            "gridcolor": "white",
            "linecolor": "white",
            "ticks": ""
           },
           "baxis": {
            "gridcolor": "white",
            "linecolor": "white",
            "ticks": ""
           },
           "bgcolor": "#E5ECF6",
           "caxis": {
            "gridcolor": "white",
            "linecolor": "white",
            "ticks": ""
           }
          },
          "title": {
           "x": 0.05
          },
          "xaxis": {
           "automargin": true,
           "gridcolor": "white",
           "linecolor": "white",
           "ticks": "",
           "title": {
            "standoff": 15
           },
           "zerolinecolor": "white",
           "zerolinewidth": 2
          },
          "yaxis": {
           "automargin": true,
           "gridcolor": "white",
           "linecolor": "white",
           "ticks": "",
           "title": {
            "standoff": 15
           },
           "zerolinecolor": "white",
           "zerolinewidth": 2
          }
         }
        },
        "title": {
         "text": "Name of the fingerprint plot"
        },
        "width": 1000
       }
      }
     },
     "metadata": {},
     "output_type": "display_data"
    }
   ],
   "source": [
    "observable_patterns_result['spider_plots']"
   ]
  },
  {
   "cell_type": "code",
   "execution_count": 18,
   "metadata": {},
   "outputs": [
    {
     "data": {
      "application/vnd.jupyter.widget-view+json": {
       "model_id": "6fc68e3169de40e696e2e53c3357a3fc",
       "version_major": 2,
       "version_minor": 0
      },
      "text/plain": [
       "  0%|          | 0/502 [00:00<?, ?it/s]"
      ]
     },
     "metadata": {},
     "output_type": "display_data"
    },
    {
     "data": {
      "image/png": "[encoded data removed]",
      "text/plain": [
       "<Figure size 2000x1000 with 1 Axes>"
      ]
     },
     "metadata": {},
     "output_type": "display_data"
    }
   ],
   "source": [
    "calculate_explainable_distances_result = ClusteringApplier.calculate_explainable_distances(\n",
    "    use_config=False,\n",
    "    df_explainable=preparation_result['explainable_df'].copy(),\n",
    "    df_observable_distances=observable_patterns_result['pw_norm_dist'].copy(),\n",
    "    explaining_features=explaining_features,\n",
    "    method='exact',\n",
    "    distance_measure='correlation',\n",
    "    sparsity_parameter=0.01,\n",
    "    max_num_threads=12,\n",
    "    group_name=index_name\n",
    ")"
   ]
  },
  {
   "cell_type": "code",
   "execution_count": 19,
   "metadata": {},
   "outputs": [
    {
     "data": {
      "text/html": [
       "<div>\n",
       "<style scoped>\n",
       "    .dataframe tbody tr th:only-of-type {\n",
       "        vertical-align: middle;\n",
       "    }\n",
       "\n",
       "    .dataframe tbody tr th {\n",
       "        vertical-align: top;\n",
       "    }\n",
       "\n",
       "    .dataframe thead th {\n",
       "        text-align: right;\n",
       "    }\n",
       "</style>\n",
       "<table border=\"1\" class=\"dataframe\">\n",
       "  <thead>\n",
       "    <tr style=\"text-align: right;\">\n",
       "      <th></th>\n",
       "      <th>correlation</th>\n",
       "      <th>Age</th>\n",
       "      <th>Weight</th>\n",
       "      <th>Is_a_Zebra</th>\n",
       "      <th>Loves_to_sleep</th>\n",
       "      <th>Noise_1</th>\n",
       "      <th>Noise_2</th>\n",
       "      <th>Noise_3</th>\n",
       "      <th>Noise_4</th>\n",
       "      <th>Noise_5</th>\n",
       "    </tr>\n",
       "  </thead>\n",
       "  <tbody>\n",
       "    <tr>\n",
       "      <th>0</th>\n",
       "      <td>0.382831</td>\n",
       "      <td>1</td>\n",
       "      <td>0</td>\n",
       "      <td>0</td>\n",
       "      <td>1</td>\n",
       "      <td>0</td>\n",
       "      <td>0</td>\n",
       "      <td>0</td>\n",
       "      <td>1</td>\n",
       "      <td>0</td>\n",
       "    </tr>\n",
       "  </tbody>\n",
       "</table>\n",
       "</div>"
      ],
      "text/plain": [
       "   correlation  Age  Weight  Is_a_Zebra  Loves_to_sleep  Noise_1  Noise_2  \\\n",
       "0     0.382831    1       0           0               1        0        0   \n",
       "\n",
       "   Noise_3  Noise_4  Noise_5  \n",
       "0        0        1        0  "
      ]
     },
     "execution_count": 19,
     "metadata": {},
     "output_type": "execute_result"
    }
   ],
   "source": [
    "calculate_explainable_distances_result['overview_df']"
   ]
  },
  {
   "cell_type": "code",
   "execution_count": 20,
   "metadata": {},
   "outputs": [],
   "source": [
    "def ward_distance(x, y):\n",
    "    # Compute the centroids of the two clusters\n",
    "    centroid_x = torch.mean(x, dim=0)\n",
    "    centroid_y = torch.mean(y, dim=0)\n",
    "\n",
    "    # Compute the variance within each cluster\n",
    "    var_x = torch.sum((x - centroid_x) ** 2) / (x.shape[0] - 1)\n",
    "    var_y = torch.sum((y - centroid_y) ** 2) / (y.shape[0] - 1)\n",
    "\n",
    "    # Compute the variance between the two clusters\n",
    "    var_between = torch.sum((centroid_x - centroid_y) ** 2)\n",
    "\n",
    "    # Compute the Ward distance\n",
    "    return var_between + var_x + var_y"
   ]
  },
  {
   "cell_type": "code",
   "execution_count": 21,
   "metadata": {},
   "outputs": [
    {
     "name": "stdout",
     "output_type": "stream",
     "text": [
      "0       False\n",
      "1        True\n",
      "2        True\n",
      "3        True\n",
      "4        True\n",
      "        ...  \n",
      "9995    False\n",
      "9996     True\n",
      "9997     True\n",
      "9998     True\n",
      "9999     True\n",
      "Name: pattern_type, Length: 10000, dtype: bool\n",
      "0.6991\n",
      "[10  6  9 11  0  2  2 11  0  9  1 10  0  0  0  0  6  7  0 11  2  2  3]\n",
      "[ 2  6  9 11  0  6  2 11 11  9  1 10  0  0  3  0  6  7  6  8  2  2  3]\n"
     ]
    }
   ],
   "source": [
    "keystr = 'df_observable_data'\n",
    "\n",
    "x = torch.tensor(observable_patterns_result[keystr].loc[:, observed_features].to_numpy())\n",
    "y = torch.tensor(observable_patterns_result['df_cluster_median'].to_numpy())\n",
    "\n",
    "alternative = ((x.unsqueeze(1) - y.unsqueeze(0)).pow(2).clamp(min=1e-20)).sum(2).sqrt()\n",
    "\n",
    "vergleich = observable_patterns_result['df_observable_data'].pattern_type == alternative.argmin(dim=1).numpy() #torch.cdist(x, y).argmin(dim=1).numpy()\n",
    "print(vergleich)\n",
    "print(vergleich.sum() / observable_patterns_result[keystr].shape[0])\n",
    "\n",
    "print(alternative.argmin(dim=1).numpy()[:23])\n",
    "print(observable_patterns_result['df_observable_data'].pattern_type[:23].to_numpy())"
   ]
  },
  {
   "cell_type": "code",
   "execution_count": 22,
   "metadata": {},
   "outputs": [],
   "source": [
    "my_df = observable_patterns_result[keystr].copy()\n",
    "my_df = my_df[my_df[\"oversampled\"] == False]"
   ]
  },
  {
   "cell_type": "code",
   "execution_count": 23,
   "metadata": {},
   "outputs": [
    {
     "data": {
      "text/html": [
       "<div>\n",
       "<style scoped>\n",
       "    .dataframe tbody tr th:only-of-type {\n",
       "        vertical-align: middle;\n",
       "    }\n",
       "\n",
       "    .dataframe tbody tr th {\n",
       "        vertical-align: top;\n",
       "    }\n",
       "\n",
       "    .dataframe thead th {\n",
       "        text-align: right;\n",
       "    }\n",
       "</style>\n",
       "<table border=\"1\" class=\"dataframe\">\n",
       "  <thead>\n",
       "    <tr style=\"text-align: right;\">\n",
       "      <th></th>\n",
       "      <th>Individual</th>\n",
       "      <th>unexplainable_1</th>\n",
       "      <th>unexplainable_2</th>\n",
       "      <th>unexplainable_3</th>\n",
       "      <th>unexplainable_4</th>\n",
       "      <th>if_zebra_then_age</th>\n",
       "      <th>explained_by_loves_to_sleep</th>\n",
       "      <th>Age_plus_Weight</th>\n",
       "    </tr>\n",
       "  </thead>\n",
       "  <tbody>\n",
       "    <tr>\n",
       "      <th>0</th>\n",
       "      <td>Individual_48</td>\n",
       "      <td>0.245886</td>\n",
       "      <td>0.596221</td>\n",
       "      <td>0.167480</td>\n",
       "      <td>0.545504</td>\n",
       "      <td>0.000131</td>\n",
       "      <td>0.675897</td>\n",
       "      <td>0.339577</td>\n",
       "    </tr>\n",
       "    <tr>\n",
       "      <th>1</th>\n",
       "      <td>Individual_16</td>\n",
       "      <td>0.512164</td>\n",
       "      <td>0.931185</td>\n",
       "      <td>0.056575</td>\n",
       "      <td>0.459983</td>\n",
       "      <td>0.534706</td>\n",
       "      <td>0.734283</td>\n",
       "      <td>0.474673</td>\n",
       "    </tr>\n",
       "    <tr>\n",
       "      <th>2</th>\n",
       "      <td>Individual_64</td>\n",
       "      <td>0.243505</td>\n",
       "      <td>0.959498</td>\n",
       "      <td>0.939264</td>\n",
       "      <td>0.497317</td>\n",
       "      <td>0.500320</td>\n",
       "      <td>0.990679</td>\n",
       "      <td>0.404674</td>\n",
       "    </tr>\n",
       "    <tr>\n",
       "      <th>3</th>\n",
       "      <td>Individual_11</td>\n",
       "      <td>0.893507</td>\n",
       "      <td>0.519169</td>\n",
       "      <td>0.869034</td>\n",
       "      <td>0.545158</td>\n",
       "      <td>0.999967</td>\n",
       "      <td>0.433537</td>\n",
       "      <td>0.645425</td>\n",
       "    </tr>\n",
       "    <tr>\n",
       "      <th>4</th>\n",
       "      <td>Individual_83</td>\n",
       "      <td>0.066081</td>\n",
       "      <td>0.421099</td>\n",
       "      <td>0.052157</td>\n",
       "      <td>0.377676</td>\n",
       "      <td>0.242066</td>\n",
       "      <td>0.355262</td>\n",
       "      <td>0.569548</td>\n",
       "    </tr>\n",
       "    <tr>\n",
       "      <th>...</th>\n",
       "      <td>...</td>\n",
       "      <td>...</td>\n",
       "      <td>...</td>\n",
       "      <td>...</td>\n",
       "      <td>...</td>\n",
       "      <td>...</td>\n",
       "      <td>...</td>\n",
       "      <td>...</td>\n",
       "    </tr>\n",
       "    <tr>\n",
       "      <th>9995</th>\n",
       "      <td>Individual_86</td>\n",
       "      <td>0.981441</td>\n",
       "      <td>0.623335</td>\n",
       "      <td>0.367967</td>\n",
       "      <td>0.449134</td>\n",
       "      <td>1.001612</td>\n",
       "      <td>0.587518</td>\n",
       "      <td>0.838130</td>\n",
       "    </tr>\n",
       "    <tr>\n",
       "      <th>9996</th>\n",
       "      <td>Individual_21</td>\n",
       "      <td>0.541452</td>\n",
       "      <td>0.229736</td>\n",
       "      <td>0.692420</td>\n",
       "      <td>0.388839</td>\n",
       "      <td>0.836193</td>\n",
       "      <td>0.154494</td>\n",
       "      <td>0.247944</td>\n",
       "    </tr>\n",
       "    <tr>\n",
       "      <th>9997</th>\n",
       "      <td>Individual_41</td>\n",
       "      <td>0.794477</td>\n",
       "      <td>0.732119</td>\n",
       "      <td>0.509228</td>\n",
       "      <td>0.372998</td>\n",
       "      <td>0.578976</td>\n",
       "      <td>0.353071</td>\n",
       "      <td>0.606270</td>\n",
       "    </tr>\n",
       "    <tr>\n",
       "      <th>9998</th>\n",
       "      <td>Individual_4</td>\n",
       "      <td>0.195530</td>\n",
       "      <td>0.441048</td>\n",
       "      <td>0.171140</td>\n",
       "      <td>0.497623</td>\n",
       "      <td>0.665711</td>\n",
       "      <td>0.351300</td>\n",
       "      <td>0.584949</td>\n",
       "    </tr>\n",
       "    <tr>\n",
       "      <th>9999</th>\n",
       "      <td>Individual_62</td>\n",
       "      <td>0.011457</td>\n",
       "      <td>0.380332</td>\n",
       "      <td>0.582511</td>\n",
       "      <td>0.544101</td>\n",
       "      <td>0.171864</td>\n",
       "      <td>0.969265</td>\n",
       "      <td>0.649363</td>\n",
       "    </tr>\n",
       "  </tbody>\n",
       "</table>\n",
       "<p>10000 rows × 8 columns</p>\n",
       "</div>"
      ],
      "text/plain": [
       "         Individual  unexplainable_1  unexplainable_2  unexplainable_3  \\\n",
       "0     Individual_48         0.245886         0.596221         0.167480   \n",
       "1     Individual_16         0.512164         0.931185         0.056575   \n",
       "2     Individual_64         0.243505         0.959498         0.939264   \n",
       "3     Individual_11         0.893507         0.519169         0.869034   \n",
       "4     Individual_83         0.066081         0.421099         0.052157   \n",
       "...             ...              ...              ...              ...   \n",
       "9995  Individual_86         0.981441         0.623335         0.367967   \n",
       "9996  Individual_21         0.541452         0.229736         0.692420   \n",
       "9997  Individual_41         0.794477         0.732119         0.509228   \n",
       "9998   Individual_4         0.195530         0.441048         0.171140   \n",
       "9999  Individual_62         0.011457         0.380332         0.582511   \n",
       "\n",
       "      unexplainable_4  if_zebra_then_age  explained_by_loves_to_sleep  \\\n",
       "0            0.545504           0.000131                     0.675897   \n",
       "1            0.459983           0.534706                     0.734283   \n",
       "2            0.497317           0.500320                     0.990679   \n",
       "3            0.545158           0.999967                     0.433537   \n",
       "4            0.377676           0.242066                     0.355262   \n",
       "...               ...                ...                          ...   \n",
       "9995         0.449134           1.001612                     0.587518   \n",
       "9996         0.388839           0.836193                     0.154494   \n",
       "9997         0.372998           0.578976                     0.353071   \n",
       "9998         0.497623           0.665711                     0.351300   \n",
       "9999         0.544101           0.171864                     0.969265   \n",
       "\n",
       "      Age_plus_Weight  \n",
       "0            0.339577  \n",
       "1            0.474673  \n",
       "2            0.404674  \n",
       "3            0.645425  \n",
       "4            0.569548  \n",
       "...               ...  \n",
       "9995         0.838130  \n",
       "9996         0.247944  \n",
       "9997         0.606270  \n",
       "9998         0.584949  \n",
       "9999         0.649363  \n",
       "\n",
       "[10000 rows x 8 columns]"
      ]
     },
     "execution_count": 23,
     "metadata": {},
     "output_type": "execute_result"
    }
   ],
   "source": [
    "my_df.loc[:, [index_name] + observed_features]"
   ]
  },
  {
   "cell_type": "code",
   "execution_count": 24,
   "metadata": {},
   "outputs": [
    {
     "data": {
      "text/html": [
       "<div>\n",
       "<style scoped>\n",
       "    .dataframe tbody tr th:only-of-type {\n",
       "        vertical-align: middle;\n",
       "    }\n",
       "\n",
       "    .dataframe tbody tr th {\n",
       "        vertical-align: top;\n",
       "    }\n",
       "\n",
       "    .dataframe thead th {\n",
       "        text-align: right;\n",
       "    }\n",
       "</style>\n",
       "<table border=\"1\" class=\"dataframe\">\n",
       "  <thead>\n",
       "    <tr style=\"text-align: right;\">\n",
       "      <th>Individual</th>\n",
       "      <th>Individual_0</th>\n",
       "      <th>Individual_1</th>\n",
       "      <th>Individual_10</th>\n",
       "      <th>Individual_11</th>\n",
       "      <th>Individual_12</th>\n",
       "      <th>Individual_13</th>\n",
       "      <th>Individual_14</th>\n",
       "      <th>Individual_15</th>\n",
       "      <th>Individual_16</th>\n",
       "      <th>Individual_17</th>\n",
       "      <th>...</th>\n",
       "      <th>Individual_90</th>\n",
       "      <th>Individual_91</th>\n",
       "      <th>Individual_92</th>\n",
       "      <th>Individual_93</th>\n",
       "      <th>Individual_94</th>\n",
       "      <th>Individual_95</th>\n",
       "      <th>Individual_96</th>\n",
       "      <th>Individual_97</th>\n",
       "      <th>Individual_98</th>\n",
       "      <th>Individual_99</th>\n",
       "    </tr>\n",
       "    <tr>\n",
       "      <th>Individual</th>\n",
       "      <th></th>\n",
       "      <th></th>\n",
       "      <th></th>\n",
       "      <th></th>\n",
       "      <th></th>\n",
       "      <th></th>\n",
       "      <th></th>\n",
       "      <th></th>\n",
       "      <th></th>\n",
       "      <th></th>\n",
       "      <th></th>\n",
       "      <th></th>\n",
       "      <th></th>\n",
       "      <th></th>\n",
       "      <th></th>\n",
       "      <th></th>\n",
       "      <th></th>\n",
       "      <th></th>\n",
       "      <th></th>\n",
       "      <th></th>\n",
       "      <th></th>\n",
       "    </tr>\n",
       "  </thead>\n",
       "  <tbody>\n",
       "    <tr>\n",
       "      <th>Individual_0</th>\n",
       "      <td>0.000000</td>\n",
       "      <td>0.000120</td>\n",
       "      <td>0.000066</td>\n",
       "      <td>0.000106</td>\n",
       "      <td>0.000133</td>\n",
       "      <td>0.000114</td>\n",
       "      <td>0.000100</td>\n",
       "      <td>0.000133</td>\n",
       "      <td>0.000129</td>\n",
       "      <td>0.000126</td>\n",
       "      <td>...</td>\n",
       "      <td>0.000125</td>\n",
       "      <td>0.000126</td>\n",
       "      <td>0.000123</td>\n",
       "      <td>0.000061</td>\n",
       "      <td>0.000053</td>\n",
       "      <td>0.000061</td>\n",
       "      <td>0.000133</td>\n",
       "      <td>0.000133</td>\n",
       "      <td>0.000133</td>\n",
       "      <td>0.000118</td>\n",
       "    </tr>\n",
       "    <tr>\n",
       "      <th>Individual_1</th>\n",
       "      <td>0.000120</td>\n",
       "      <td>0.000000</td>\n",
       "      <td>0.000123</td>\n",
       "      <td>0.000133</td>\n",
       "      <td>0.000133</td>\n",
       "      <td>0.000130</td>\n",
       "      <td>0.000133</td>\n",
       "      <td>0.000130</td>\n",
       "      <td>0.000104</td>\n",
       "      <td>0.000095</td>\n",
       "      <td>...</td>\n",
       "      <td>0.000098</td>\n",
       "      <td>0.000090</td>\n",
       "      <td>0.000103</td>\n",
       "      <td>0.000119</td>\n",
       "      <td>0.000129</td>\n",
       "      <td>0.000130</td>\n",
       "      <td>0.000122</td>\n",
       "      <td>0.000131</td>\n",
       "      <td>0.000129</td>\n",
       "      <td>0.000133</td>\n",
       "    </tr>\n",
       "    <tr>\n",
       "      <th>Individual_10</th>\n",
       "      <td>0.000066</td>\n",
       "      <td>0.000123</td>\n",
       "      <td>0.000000</td>\n",
       "      <td>0.000133</td>\n",
       "      <td>0.000133</td>\n",
       "      <td>0.000118</td>\n",
       "      <td>0.000133</td>\n",
       "      <td>0.000133</td>\n",
       "      <td>0.000130</td>\n",
       "      <td>0.000127</td>\n",
       "      <td>...</td>\n",
       "      <td>0.000126</td>\n",
       "      <td>0.000127</td>\n",
       "      <td>0.000127</td>\n",
       "      <td>0.000018</td>\n",
       "      <td>0.000085</td>\n",
       "      <td>0.000084</td>\n",
       "      <td>0.000133</td>\n",
       "      <td>0.000133</td>\n",
       "      <td>0.000133</td>\n",
       "      <td>0.000133</td>\n",
       "    </tr>\n",
       "    <tr>\n",
       "      <th>Individual_11</th>\n",
       "      <td>0.000106</td>\n",
       "      <td>0.000133</td>\n",
       "      <td>0.000133</td>\n",
       "      <td>0.000000</td>\n",
       "      <td>0.000098</td>\n",
       "      <td>0.000132</td>\n",
       "      <td>0.000021</td>\n",
       "      <td>0.000111</td>\n",
       "      <td>0.000126</td>\n",
       "      <td>0.000126</td>\n",
       "      <td>...</td>\n",
       "      <td>0.000133</td>\n",
       "      <td>0.000125</td>\n",
       "      <td>0.000122</td>\n",
       "      <td>0.000133</td>\n",
       "      <td>0.000094</td>\n",
       "      <td>0.000099</td>\n",
       "      <td>0.000120</td>\n",
       "      <td>0.000109</td>\n",
       "      <td>0.000133</td>\n",
       "      <td>0.000033</td>\n",
       "    </tr>\n",
       "    <tr>\n",
       "      <th>Individual_12</th>\n",
       "      <td>0.000133</td>\n",
       "      <td>0.000133</td>\n",
       "      <td>0.000133</td>\n",
       "      <td>0.000098</td>\n",
       "      <td>0.000000</td>\n",
       "      <td>0.000133</td>\n",
       "      <td>0.000103</td>\n",
       "      <td>0.000057</td>\n",
       "      <td>0.000102</td>\n",
       "      <td>0.000108</td>\n",
       "      <td>...</td>\n",
       "      <td>0.000122</td>\n",
       "      <td>0.000099</td>\n",
       "      <td>0.000113</td>\n",
       "      <td>0.000133</td>\n",
       "      <td>0.000123</td>\n",
       "      <td>0.000123</td>\n",
       "      <td>0.000094</td>\n",
       "      <td>0.000047</td>\n",
       "      <td>0.000133</td>\n",
       "      <td>0.000090</td>\n",
       "    </tr>\n",
       "  </tbody>\n",
       "</table>\n",
       "<p>5 rows × 100 columns</p>\n",
       "</div>"
      ],
      "text/plain": [
       "Individual     Individual_0  Individual_1  Individual_10  Individual_11  \\\n",
       "Individual                                                                \n",
       "Individual_0       0.000000      0.000120       0.000066       0.000106   \n",
       "Individual_1       0.000120      0.000000       0.000123       0.000133   \n",
       "Individual_10      0.000066      0.000123       0.000000       0.000133   \n",
       "Individual_11      0.000106      0.000133       0.000133       0.000000   \n",
       "Individual_12      0.000133      0.000133       0.000133       0.000098   \n",
       "\n",
       "Individual     Individual_12  Individual_13  Individual_14  Individual_15  \\\n",
       "Individual                                                                  \n",
       "Individual_0        0.000133       0.000114       0.000100       0.000133   \n",
       "Individual_1        0.000133       0.000130       0.000133       0.000130   \n",
       "Individual_10       0.000133       0.000118       0.000133       0.000133   \n",
       "Individual_11       0.000098       0.000132       0.000021       0.000111   \n",
       "Individual_12       0.000000       0.000133       0.000103       0.000057   \n",
       "\n",
       "Individual     Individual_16  Individual_17  ...  Individual_90  \\\n",
       "Individual                                   ...                  \n",
       "Individual_0        0.000129       0.000126  ...       0.000125   \n",
       "Individual_1        0.000104       0.000095  ...       0.000098   \n",
       "Individual_10       0.000130       0.000127  ...       0.000126   \n",
       "Individual_11       0.000126       0.000126  ...       0.000133   \n",
       "Individual_12       0.000102       0.000108  ...       0.000122   \n",
       "\n",
       "Individual     Individual_91  Individual_92  Individual_93  Individual_94  \\\n",
       "Individual                                                                  \n",
       "Individual_0        0.000126       0.000123       0.000061       0.000053   \n",
       "Individual_1        0.000090       0.000103       0.000119       0.000129   \n",
       "Individual_10       0.000127       0.000127       0.000018       0.000085   \n",
       "Individual_11       0.000125       0.000122       0.000133       0.000094   \n",
       "Individual_12       0.000099       0.000113       0.000133       0.000123   \n",
       "\n",
       "Individual     Individual_95  Individual_96  Individual_97  Individual_98  \\\n",
       "Individual                                                                  \n",
       "Individual_0        0.000061       0.000133       0.000133       0.000133   \n",
       "Individual_1        0.000130       0.000122       0.000131       0.000129   \n",
       "Individual_10       0.000084       0.000133       0.000133       0.000133   \n",
       "Individual_11       0.000099       0.000120       0.000109       0.000133   \n",
       "Individual_12       0.000123       0.000094       0.000047       0.000133   \n",
       "\n",
       "Individual     Individual_99  \n",
       "Individual                    \n",
       "Individual_0        0.000118  \n",
       "Individual_1        0.000133  \n",
       "Individual_10       0.000133  \n",
       "Individual_11       0.000033  \n",
       "Individual_12       0.000090  \n",
       "\n",
       "[5 rows x 100 columns]"
      ]
     },
     "execution_count": 24,
     "metadata": {},
     "output_type": "execute_result"
    }
   ],
   "source": [
    "df_observable_distances = observable_patterns_result['pw_norm_dist']\n",
    "df_observable_distances.head()"
   ]
  },
  {
   "cell_type": "code",
   "execution_count": 25,
   "metadata": {},
   "outputs": [],
   "source": [
    "fingerprint_df = ClusteringApplier._calculate_fingerprints(\n",
    "    df = my_df,\n",
    "    group_name = index_name,\n",
    "    use_config=False,\n",
    ")"
   ]
  },
  {
   "cell_type": "code",
   "execution_count": 26,
   "metadata": {},
   "outputs": [],
   "source": [
    "fingerprint_distanzen, normierte_fingerprint_distanzen = ClusteringApplier.calculate_pairwise_fingerprint_distances(\n",
    "    df = fingerprint_df,\n",
    "    distance = 'jensenshannon'\n",
    ")"
   ]
  },
  {
   "cell_type": "code",
   "execution_count": 27,
   "metadata": {},
   "outputs": [],
   "source": [
    "@torch.jit.script\n",
    "def torch_relative_entropy(x:torch.Tensor, y:torch.Tensor) -> torch.Tensor:\n",
    "    return (x * torch.log(x/y))"
   ]
  },
  {
   "cell_type": "code",
   "execution_count": 28,
   "metadata": {},
   "outputs": [],
   "source": [
    "@torch.jit.script\n",
    "def new_torch_matrix_jensenshannon(A:torch.Tensor) -> torch.Tensor:\n",
    "\n",
    "    ########################################################################################\n",
    "    ### Conversion of the jensenshannon distance from scipy.spatial.distance to pytorch. ###\n",
    "    ########################################################################################\n",
    "\n",
    "    \"\"\"\n",
    "    Compute the pairwise Jensen-Shannon distance (metric) between\n",
    "    all entries in a matrix. This is the square root\n",
    "    of the Jensen-Shannon divergence.\n",
    "\n",
    "    The Jensen-Shannon distance between two probability\n",
    "    vectors `p` and `q` is defined as,\n",
    "\n",
    "    .. math::\n",
    "\n",
    "       \\\\sqrt{\\\\frac{D(p \\\\parallel m) + D(q \\\\parallel m)}{2}}\n",
    "\n",
    "    where :math:`m` is the pointwise mean of :math:`p` and :math:`q`\n",
    "    and :math:`D` is the Kullback-Leibler divergence.\n",
    "\n",
    "    This routine will normalize `p` and `q` if they don't sum to 1.0.\n",
    "\n",
    "    Parameters\n",
    "    ----------\n",
    "    A : (N,M) array_like\n",
    "        matrix of probability vectors\n",
    "    \n",
    "    Returns\n",
    "    -------\n",
    "    js : double or ndarray\n",
    "        The Jensen-Shannon distances along the `axis`.\n",
    "\n",
    "    \"\"\"\n",
    "    \n",
    "    clamped_A = A.clamp(min = 1e-20)\n",
    "    normalized_A = clamped_A / torch.sum(clamped_A, dim=1).unsqueeze(-1)\n",
    "    m_A = (normalized_A.unsqueeze(-1) + normalized_A.T).permute(2,0,1) / 2.0\n",
    "    relative_entropies = torch_relative_entropy(normalized_A, m_A) + 1e-10\n",
    "    js = (relative_entropies.sum(dim = 2) + relative_entropies.sum(dim = 2).T).clamp(min = 0.)\n",
    "    return (js / 2.0).sqrt()"
   ]
  },
  {
   "cell_type": "code",
   "execution_count": 251,
   "metadata": {},
   "outputs": [],
   "source": [
    "class FeatureSelectionModel(Paremeterized_Model):\n",
    "    def __init__(self, df_explainable:pd.DataFrame, df_observable:pd.DataFrame, df_cluster:pd.DataFrame|torch.Tensor, index_name:str, num_samples:int=1, power:int=4, penalty=0., device='cpu', dtype=torch.float64):\n",
    "        super().__init__(device, dtype)\n",
    "\n",
    "        self.df_explainable = df_explainable.copy()\n",
    "        self.df_explainable.sort_index(inplace=True)\n",
    "\n",
    "        self.df_observable = df_observable.copy()\n",
    "        self.df_observable.sort_values(index_name, inplace=True)\n",
    "        self.df_observable.reset_index(inplace=True, drop=True)\n",
    "\n",
    "        self.tensor_explainable = torch.tensor(self.df_explainable.to_numpy(), dtype=self.dtype, device=self.device).clamp(min=1e-10)\n",
    "        self.tensor_observable  = torch.tensor(self.df_observable.set_index(index_name).to_numpy(), dtype=self.dtype, device=self.device).clamp(min=1e-10)\n",
    "\n",
    "        if isinstance(df_cluster, pd.DataFrame):\n",
    "            self.cluster_positions  = torch.tensor(df_cluster.to_numpy(), dtype=self.dtype, device=self.device).clamp(min=1e-10)\n",
    "        else:\n",
    "            self.cluster_positions = df_cluster.to(self.dtype).to(self.device)\n",
    "\n",
    "        #self.fingerprint_tensor = torch.tensor(fingerprint_df.to_numpy(), dtype=self.dtype, device=self.device) + 1e-6\n",
    "        #self.fingerprint_tensor = self.fingerprint_tensor / self.fingerprint_tensor.sum(dim=1).unsqueeze(-1)\n",
    "\n",
    "        #\n",
    "        self.unique_groups = sorted(self.df_observable.loc[:, index_name].unique())\n",
    "        self.number_of_groups = len(self.unique_groups)\n",
    "        self.number_of_observations = self.df_observable.shape[0]\n",
    "        self.mask_tensor = torch.zeros((self.number_of_observations, self.number_of_groups), device=self.device, dtype=self.dtype)\n",
    "\n",
    "        for name, i in zip(self.unique_groups, np.arange(len(self.unique_groups))):\n",
    "            _masking_list = (list(self.df_observable.query(f'{index_name} == \"{name}\"').index))\n",
    "            self.mask_tensor[_masking_list, i] = 1.\n",
    "            if name == 'Individual_0':\n",
    "                self.masking_1 = _masking_list\n",
    "\n",
    "        # Some sanity check\n",
    "        for name, i in zip(self.unique_groups, np.arange(len(self.unique_groups))):\n",
    "            lis = (self.mask_tensor.unsqueeze(2) * self.tensor_observable.unsqueeze(1))[:, i, :].nonzero()[:, 0].unique().numpy()\n",
    "            a = self.df_observable.iloc[lis].loc[:, index_name]\n",
    "            assert (a == name).all(), f'Failed sanity check for \"{name}\": {a}'\n",
    "\n",
    "        self.power = power\n",
    "        #\n",
    "\n",
    "        self.feature_names = list(self.df_explainable.columns)\n",
    "        self.observation_names = list(df_observable.set_index(index_name).columns)\n",
    "        #self.fingerprint_names = list(fingerprint_df.columns)\n",
    "\n",
    "        self.penalty = torch.tensor(penalty, device=self.device, dtype=self.dtype)\n",
    "        self.num_samples = num_samples\n",
    "        \n",
    "        #self._add_param_from_mean_std(param_name='feature', N=len(self.feature_names), mean=0.5, std=0.05, noise=0.1)\n",
    "        #self._add_param_from_mean_std(param_name='fingerprint', N=len(self.fingerprint_names), mean=0.5, std=0.05, noise=0.1)\n",
    "\n",
    "        self._add_sigmoid_param('feature_weights', N=len(self.feature_names), value=0.500, noise=0.100)\n",
    "        self._add_sigmoid_param('observation_weights', N=len(self.observation_names), value=0.500, noise=0.250)\n",
    "        #self._add_sigmoid_param('fingerprint_weights', N=len(self.fingerprint_names), value=0.0, noise=0.05)\n",
    "\n",
    "        self.add_param('cluster_positions', self.cluster_positions.logit(), lambda x: x.sigmoid())\n",
    "        \n",
    "        self.best_loss = None \n",
    "        self.best_feature_weights = None\n",
    "        self.best_observation_weights = None\n",
    "\n",
    "        '''clip_value = 0.1\n",
    "        for p in self.parameters.parameters():\n",
    "            print(p)\n",
    "            p.register_hook(lambda grad: torch.clamp(grad, -clip_value, clip_value))'''\n",
    " \n",
    "\n",
    "    def _add_param_from_mean_std(self, param_name='', N=1, mean=0.5, std=0.05, noise=0.1):\n",
    "        alpha, beta = mean_std_to_beta_params(mean, std)\n",
    "        \n",
    "        noise_1 = torch.rand(N)\n",
    "        noise_2 = torch.rand(N)\n",
    "\n",
    "        feature_alpha_init = alpha * torch.ones(N) * (1.-noise) + noise_1 * noise\n",
    "        feature_beta_init  = beta  * torch.ones(N) * (1.-noise) + noise_2 * noise\n",
    "\n",
    "        self.add_param(f'{param_name}_alpha', torch.log(feature_alpha_init), lambda x: x.exp())\n",
    "        self.add_param(f'{param_name}_beta',  torch.log(feature_beta_init),  lambda x: x.exp())\n",
    "\n",
    "    def _add_sigmoid_param(self, param_name='', N=1, value=None, noise=0.1):\n",
    "\n",
    "        noise_1 = torch.rand(N)\n",
    "        noisy_value = value * torch.ones(N) * (1.-noise) + noise_1 * noise\n",
    "        init_value = torch.logit(noisy_value)\n",
    "\n",
    "        self.add_param(param_name, init_value, lambda x: x.sigmoid()) # [-1., 1.] --> [0, 2]\n",
    "        #foo = lambda x: x/(1+x.abs())\n",
    "        #self.add_param(param_name, init_value, lambda x: (foo(x) + 1.)/2.)\n",
    "\n",
    "    def get_weights(self) -> dict:\n",
    "        w = self.best_feature_weights\n",
    "        feature_dict = {\n",
    "            feature_name:float(weight) for feature_name, weight in zip(self.feature_names, w)\n",
    "        }\n",
    "        v = self.best_observation_weights\n",
    "        observation_dict = {\n",
    "            feature_name:float(weight) for feature_name, weight in zip(self.observation_names, v)\n",
    "        }\n",
    "        return feature_dict, observation_dict\n",
    "        \n",
    "    def save_if_best_loss(self, loss, feature_weights, observation_weights, cluster_positions):\n",
    "        if self.best_loss is None:\n",
    "            self.best_loss = loss.clone().detach()\n",
    "            self.best_feature_weights = feature_weights.clone().detach()\n",
    "            self.best_observation_weights = 1.01 - observation_weights.clone().detach()\n",
    "            self.best_cluster_positions = cluster_positions.clone().detach()\n",
    "        elif loss < self.best_loss:\n",
    "            self.best_loss = loss.clone().detach()\n",
    "            self.best_feature_weights = feature_weights.clone().detach()\n",
    "            self.best_observation_weights = 1.01 - observation_weights.clone().detach()\n",
    "            self.best_cluster_positions = cluster_positions.clone().detach()\n",
    "    \n",
    "    def plot(self):\n",
    "\n",
    "        feature_weights = self.constrained('feature_weights').clone().detach().unsqueeze(0).numpy()\n",
    "        observation_weights = self.constrained('observation_weights').clone().detach().unsqueeze(0).numpy()\n",
    "        inv_observation_weights = 1.01 - observation_weights\n",
    "\n",
    "        feature_weight_df = pd.DataFrame({self.feature_names[i]:feature_weights[:, i] for i in range(len(self.feature_names))})\n",
    "        observation_weight_df = pd.DataFrame({self.observation_names[i]:inv_observation_weights[:, i] for i in range(len(self.observation_names))})\n",
    "\n",
    "        plt.figure(figsize=(10, 5))\n",
    "        ax1 = sns.barplot(feature_weight_df)\n",
    "        ax1.axes.xaxis.set_tick_params(rotation=90)\n",
    "        plt.figure(figsize=(10, 5))\n",
    "        ax2 = sns.barplot(observation_weight_df)\n",
    "        ax2.axes.xaxis.set_tick_params(rotation=90)\n",
    "\n",
    "    def sample_fingerprints(self, observation_weights, cluster_positions):\n",
    "        epsilon = 1e-20\n",
    "        inv_observation_weights = 1.01 - observation_weights \n",
    "        _dist = ((self.tensor_observable.unsqueeze(1) - cluster_positions.unsqueeze(0)).pow(2).clamp(min=epsilon) * inv_observation_weights).sum(2).sqrt()\n",
    "        norm_dist = (_dist / _dist.sum(dim=1).unsqueeze(-1))\n",
    "        masked_norm_dist = (self.mask_tensor.unsqueeze(2) * norm_dist.unsqueeze(1))\n",
    "        accumulated_norm_dist = masked_norm_dist.sum(dim=0)\n",
    "        fingerprint_distances = accumulated_norm_dist / accumulated_norm_dist.sum(dim=1).unsqueeze(-1)\n",
    "        pow_fingerprints = ((fingerprint_distances.clamp(min=epsilon))**-1).pow(self.power) \n",
    "        sampled_fingerprints = Dirichlet(pow_fingerprints).rsample([self.num_samples]).mean(dim=0)\n",
    "        return sampled_fingerprints\n",
    "\n",
    "    def loss(self, data:torch.Tensor|None=None) -> torch.tensor:\n",
    "\n",
    "        # feature_weights\n",
    "        feature_weights = self.constrained('feature_weights')\n",
    "\n",
    "        # observation_weights\n",
    "        observation_weights = self.constrained('observation_weights')\n",
    "\n",
    "        # cluster positions\n",
    "        cluster_positions = self.constrained('cluster_positions').clamp(min = 1e-10, max=1e10)\n",
    "\n",
    "        # fingerprints\n",
    "        sampled_fingerprints = self.sample_fingerprints(observation_weights, cluster_positions)\n",
    "\n",
    "        # Construct the distance matrix for the fingerprints\n",
    "        fingerprint_distances = new_torch_matrix_jensenshannon(sampled_fingerprints)\n",
    "        #fingerprint_distances = fingerprint_distances / fingerprint_distances.sum()\n",
    "\n",
    "        # Construct the distance matrix for the features\n",
    "        feature_distances = construct_distance_matrix(A=self.tensor_explainable, feature_weights=feature_weights)\n",
    "\n",
    "        # Calculate the correlation between the distance matrix and the observable distances\n",
    "        coef = pearson_corrcoef(feature_distances, fingerprint_distances)\n",
    "\n",
    "        #k_penalty = (feature_weights.sum() * self.penalty)\n",
    "\n",
    "        # Loss\n",
    "        loss = -coef #+ k_penalty\n",
    "\n",
    "        self.save_if_best_loss(loss, feature_weights, observation_weights, cluster_positions)\n",
    "\n",
    "        return loss\n"
   ]
  },
  {
   "cell_type": "code",
   "execution_count": 252,
   "metadata": {},
   "outputs": [],
   "source": [
    "from gradient_solver import _construct_distance_matrix"
   ]
  },
  {
   "cell_type": "code",
   "execution_count": 253,
   "metadata": {},
   "outputs": [],
   "source": [
    "df_explainable = preparation_result['explainable_df'].copy().set_index(index_name)\n",
    "df_observable = observable_patterns_result['df_observable_data'].copy().set_index(index_name).loc[:, observed_features].reset_index()"
   ]
  },
  {
   "cell_type": "code",
   "execution_count": 254,
   "metadata": {},
   "outputs": [
    {
     "name": "stdout",
     "output_type": "stream",
     "text": [
      "Loss before training: -0.26034029922221935\n",
      "1/10 --- Mean Loss : -0.9259034134406673\n",
      "2/10 --- Mean Loss : -0.9875841097360974\n",
      "3/10 --- Mean Loss : -0.9887143844055066\n",
      "4/10 --- Mean Loss : -0.9889669313520548\n",
      "5/10 --- Mean Loss : -0.9891591209340161\n",
      "6/10 --- Mean Loss : -0.9892782658505906\n",
      "7/10 --- Mean Loss : -0.9894442412523802\n",
      "8/10 --- Mean Loss : -0.9893129774175999\n",
      "9/10 --- Mean Loss : -0.9894144070297187\n",
      "10/10 --- Mean Loss : -0.9894291302702011\n"
     ]
    }
   ],
   "source": [
    "model = FeatureSelectionModel(\n",
    "    df_explainable,\n",
    "    df_observable,\n",
    "    observable_patterns_result['df_cluster_median'],\n",
    "    power = 2,\n",
    "    index_name = 'Individual',\n",
    "    num_samples = 4,\n",
    "    dtype = torch.float64,\n",
    "    device = 'cpu',\n",
    "    penalty=0\n",
    ")\n",
    "\n",
    "# After this many steps, the learning rate is halved\n",
    "HALFLIFE = 30\n",
    "\n",
    "optimizer = torch.optim.RMSprop(\n",
    "    params = [\n",
    "        {'params': model.parameters['feature_weights'], 'lr': 0.1, 'momentum': 0.50},\n",
    "        {'params': model.parameters['observation_weights'], 'lr': 0.1, 'momentum': 0.50},\n",
    "        {'params': model.parameters['cluster_positions'], 'lr': 0.1, 'momentum': 0.50},\n",
    "    ],\n",
    "\n",
    ")\n",
    "\n",
    "lr_halflife = lambda epochs: 0.5**(1/epochs)\n",
    "scheduler = torch.optim.lr_scheduler.LambdaLR(optimizer, lr_lambda = lambda epoch: lr_halflife(HALFLIFE)**epoch)\n",
    "trainer = Trainer(model = model, optimizer = optimizer, scheduler = scheduler, dataloader = range(100))\n",
    "print(f'Loss before training: {model.loss().clone().detach()}')\n",
    "trainer.train(epochs = 10, timeout=60000)"
   ]
  },
  {
   "cell_type": "code",
   "execution_count": 255,
   "metadata": {},
   "outputs": [
    {
     "data": {
      "image/png": "[encoded data removed]",
      "text/plain": [
       "<Figure size 1000x500 with 1 Axes>"
      ]
     },
     "metadata": {},
     "output_type": "display_data"
    },
    {
     "data": {
      "image/png": "[encoded data removed]",
      "text/plain": [
       "<Figure size 1000x500 with 1 Axes>"
      ]
     },
     "metadata": {},
     "output_type": "display_data"
    }
   ],
   "source": [
    "model.plot()"
   ]
  },
  {
   "cell_type": "code",
   "execution_count": 256,
   "metadata": {},
   "outputs": [],
   "source": [
    "feature_dict, observation_dict = model.get_weights()\n",
    "\n",
    "remaining_features = []\n",
    "for k,v in feature_dict.items():\n",
    "    if v < 0.500:\n",
    "        remaining_features.append(k)\n",
    "\n",
    "i = 0\n",
    "remaining_observations = [index_name]\n",
    "remaining_observation_indices = []\n",
    "for k,v in observation_dict.items():\n",
    "    if v < 0.500:\n",
    "        remaining_observations.append(k)\n",
    "        remaining_observation_indices.append(i)\n",
    "    i += 1"
   ]
  },
  {
   "cell_type": "code",
   "execution_count": 257,
   "metadata": {},
   "outputs": [
    {
     "data": {
      "text/plain": [
       "(['Age',\n",
       "  'Weight',\n",
       "  'Is_a_Zebra',\n",
       "  'Noise_1',\n",
       "  'Noise_2',\n",
       "  'Noise_3',\n",
       "  'Noise_4',\n",
       "  'Noise_5'],\n",
       " ['Individual',\n",
       "  'unexplainable_1',\n",
       "  'unexplainable_2',\n",
       "  'unexplainable_3',\n",
       "  'unexplainable_4',\n",
       "  'if_zebra_then_age',\n",
       "  'Age_plus_Weight'])"
      ]
     },
     "execution_count": 257,
     "metadata": {},
     "output_type": "execute_result"
    }
   ],
   "source": [
    "remaining_features, remaining_observations"
   ]
  },
  {
   "cell_type": "code",
   "execution_count": 258,
   "metadata": {},
   "outputs": [
    {
     "name": "stdout",
     "output_type": "stream",
     "text": [
      "Loss before training: -0.10853532687690333\n",
      "1/10 --- Mean Loss : -0.7605651044572095\n",
      "2/10 --- Mean Loss : -0.8410781154970599\n",
      "3/10 --- Mean Loss : -0.8541243323525615\n",
      "4/10 --- Mean Loss : -0.8569426186727331\n",
      "5/10 --- Mean Loss : -0.860174109933883\n",
      "6/10 --- Mean Loss : -0.861632022569635\n",
      "7/10 --- Mean Loss : -0.8613275457329628\n",
      "8/10 --- Mean Loss : -0.8605482882676597\n",
      "9/10 --- Mean Loss : -0.8615118367159481\n",
      "10/10 --- Mean Loss : -0.8608675481389526\n"
     ]
    }
   ],
   "source": [
    "next_model = FeatureSelectionModel(\n",
    "    df_explainable.loc[:, remaining_features],\n",
    "    df_observable.loc[:, remaining_observations],\n",
    "    model.best_cluster_positions[:, remaining_observation_indices],\n",
    "    power = 4,\n",
    "    index_name = 'Individual',\n",
    "    num_samples = 4,\n",
    "    dtype = torch.float64,\n",
    "    device = 'cpu',\n",
    "    penalty=0\n",
    ")\n",
    "\n",
    "# After this many steps, the learning rate is halved\n",
    "HALFLIFE = 50\n",
    "\n",
    "optimizer = torch.optim.RMSprop(\n",
    "    params = [\n",
    "        {'params': next_model.parameters['feature_weights'], 'lr': 0.1, 'momentum': 0.50},\n",
    "        {'params': next_model.parameters['observation_weights'], 'lr': 0.1, 'momentum': 0.50},\n",
    "        {'params': next_model.parameters['cluster_positions'], 'lr': 0.1, 'momentum': 0.50},\n",
    "    ],\n",
    "\n",
    ")\n",
    "\n",
    "lr_halflife = lambda epochs: 0.5**(1/epochs)\n",
    "scheduler = torch.optim.lr_scheduler.LambdaLR(optimizer, lr_lambda = lambda epoch: lr_halflife(HALFLIFE)**epoch)\n",
    "trainer = Trainer(model = next_model, optimizer = optimizer, scheduler = scheduler, dataloader = range(100))\n",
    "print(f'Loss before training: {next_model.loss().clone().detach()}')\n",
    "trainer.train(epochs = 10, timeout=60000)"
   ]
  },
  {
   "cell_type": "code",
   "execution_count": 259,
   "metadata": {},
   "outputs": [
    {
     "data": {
      "image/png": "[encoded data removed]",
      "text/plain": [
       "<Figure size 1000x500 with 1 Axes>"
      ]
     },
     "metadata": {},
     "output_type": "display_data"
    },
    {
     "data": {
      "image/png": "[encoded data removed]",
      "text/plain": [
       "<Figure size 1000x500 with 1 Axes>"
      ]
     },
     "metadata": {},
     "output_type": "display_data"
    }
   ],
   "source": [
    "next_model.plot()"
   ]
  },
  {
   "cell_type": "code",
   "execution_count": 260,
   "metadata": {},
   "outputs": [
    {
     "data": {
      "text/plain": [
       "(['Weight',\n",
       "  'Is_a_Zebra',\n",
       "  'Noise_1',\n",
       "  'Noise_2',\n",
       "  'Noise_3',\n",
       "  'Noise_4',\n",
       "  'Noise_5'],\n",
       " ['Individual', 'unexplainable_1', 'unexplainable_2', 'unexplainable_4'])"
      ]
     },
     "execution_count": 260,
     "metadata": {},
     "output_type": "execute_result"
    }
   ],
   "source": [
    "feature_dict, observation_dict = next_model.get_weights()\n",
    "\n",
    "remaining_features = []\n",
    "for k,v in feature_dict.items():\n",
    "    if v < 0.500:\n",
    "        remaining_features.append(k)\n",
    "\n",
    "i = 0\n",
    "remaining_observations = [index_name]\n",
    "remaining_observation_indices = []\n",
    "for k,v in observation_dict.items():\n",
    "    if v < 0.500:\n",
    "        remaining_observations.append(k)\n",
    "        remaining_observation_indices.append(i)\n",
    "    i += 1\n",
    "\n",
    "remaining_features, remaining_observations"
   ]
  },
  {
   "cell_type": "code",
   "execution_count": 261,
   "metadata": {},
   "outputs": [
    {
     "name": "stdout",
     "output_type": "stream",
     "text": [
      "Loss before training: -0.025809228164522878\n",
      "1/10 --- Mean Loss : -0.20352576580524273\n",
      "2/10 --- Mean Loss : -0.31230133340198407\n",
      "3/10 --- Mean Loss : -0.3244765300435824\n",
      "4/10 --- Mean Loss : -0.32689836565853597\n",
      "5/10 --- Mean Loss : -0.3272700116588542\n",
      "6/10 --- Mean Loss : -0.3274396110127537\n",
      "7/10 --- Mean Loss : -0.3277750399339126\n",
      "8/10 --- Mean Loss : -0.32780205731989953\n",
      "9/10 --- Mean Loss : -0.3281729753534406\n",
      "10/10 --- Mean Loss : -0.3381821407964593\n"
     ]
    }
   ],
   "source": [
    "next2_model = FeatureSelectionModel(\n",
    "    df_explainable.loc[:, remaining_features],\n",
    "    df_observable.loc[:, remaining_observations],\n",
    "    model.best_cluster_positions[:, remaining_observation_indices],\n",
    "    power = 4,\n",
    "    index_name = 'Individual',\n",
    "    num_samples = 4,\n",
    "    dtype = torch.float64,\n",
    "    device = 'cpu',\n",
    "    penalty=0\n",
    ")\n",
    "\n",
    "my_model = next2_model\n",
    "\n",
    "# After this many steps, the learning rate is halved\n",
    "HALFLIFE = 30\n",
    "\n",
    "optimizer = torch.optim.RMSprop(\n",
    "    params = [\n",
    "        {'params': my_model.parameters['feature_weights'], 'lr': 0.1, 'momentum': 0.50},\n",
    "        {'params': my_model.parameters['observation_weights'], 'lr': 0.1, 'momentum': 0.50},\n",
    "        {'params': my_model.parameters['cluster_positions'], 'lr': 0.1, 'momentum': 0.50},\n",
    "    ],\n",
    "\n",
    ")\n",
    "\n",
    "lr_halflife = lambda epochs: 0.5**(1/epochs)\n",
    "scheduler = torch.optim.lr_scheduler.LambdaLR(optimizer, lr_lambda = lambda epoch: lr_halflife(HALFLIFE)**epoch)\n",
    "trainer = Trainer(model = my_model, optimizer = optimizer, scheduler = scheduler, dataloader = range(100))\n",
    "print(f'Loss before training: {my_model.loss().clone().detach()}')\n",
    "trainer.train(epochs = 10, timeout=60000)"
   ]
  },
  {
   "cell_type": "code",
   "execution_count": 262,
   "metadata": {},
   "outputs": [
    {
     "data": {
      "image/png": "[encoded data removed]",
      "text/plain": [
       "<Figure size 1000x500 with 1 Axes>"
      ]
     },
     "metadata": {},
     "output_type": "display_data"
    },
    {
     "data": {
      "image/png": "[encoded data removed]",
      "text/plain": [
       "<Figure size 1000x500 with 1 Axes>"
      ]
     },
     "metadata": {},
     "output_type": "display_data"
    }
   ],
   "source": [
    "next2_model.plot()"
   ]
  },
  {
   "cell_type": "code",
   "execution_count": 264,
   "metadata": {},
   "outputs": [
    {
     "data": {
      "text/plain": [
       "(['Weight', 'Is_a_Zebra', 'Noise_1', 'Noise_2', 'Noise_4', 'Noise_5'],\n",
       " ['Individual', 'unexplainable_2'])"
      ]
     },
     "execution_count": 264,
     "metadata": {},
     "output_type": "execute_result"
    }
   ],
   "source": [
    "feature_dict, observation_dict = next2_model.get_weights()\n",
    "\n",
    "remaining_features = []\n",
    "for k,v in feature_dict.items():\n",
    "    if v < 0.500:\n",
    "        remaining_features.append(k)\n",
    "\n",
    "i = 0\n",
    "remaining_observations = [index_name]\n",
    "remaining_observation_indices = []\n",
    "for k,v in observation_dict.items():\n",
    "    if v < 0.500:\n",
    "        remaining_observations.append(k)\n",
    "        remaining_observation_indices.append(i)\n",
    "    i += 1\n",
    "\n",
    "remaining_features, remaining_observations"
   ]
  },
  {
   "cell_type": "code",
   "execution_count": 265,
   "metadata": {},
   "outputs": [
    {
     "name": "stdout",
     "output_type": "stream",
     "text": [
      "Loss before training: -0.0017970740976259144\n",
      "1/10 --- Mean Loss : -0.07043708047671106\n",
      "2/10 --- Mean Loss : -0.0793538766788347\n",
      "3/10 --- Mean Loss : -0.08018910991761304\n",
      "4/10 --- Mean Loss : -0.0803970303678301\n",
      "5/10 --- Mean Loss : -0.08079856936851301\n",
      "6/10 --- Mean Loss : -0.08135705752311058\n",
      "7/10 --- Mean Loss : -0.08143264940231669\n",
      "8/10 --- Mean Loss : -0.08155948697982407\n",
      "9/10 --- Mean Loss : -0.08142149477249236\n",
      "10/10 --- Mean Loss : -0.08156384877897484\n"
     ]
    }
   ],
   "source": [
    "next3_model = FeatureSelectionModel(\n",
    "    df_explainable.loc[:, remaining_features],\n",
    "    df_observable.loc[:, remaining_observations],\n",
    "    model.best_cluster_positions[:, remaining_observation_indices],\n",
    "    power = 4,\n",
    "    index_name = 'Individual',\n",
    "    num_samples = 4,\n",
    "    dtype = torch.float64,\n",
    "    device = 'cpu',\n",
    "    penalty=0\n",
    ")\n",
    "\n",
    "my_model = next3_model\n",
    "\n",
    "# After this many steps, the learning rate is halved\n",
    "HALFLIFE = 30\n",
    "\n",
    "optimizer = torch.optim.RMSprop(\n",
    "    params = [\n",
    "        {'params': my_model.parameters['feature_weights'], 'lr': 0.1, 'momentum': 0.50},\n",
    "        {'params': my_model.parameters['observation_weights'], 'lr': 0.1, 'momentum': 0.50},\n",
    "        {'params': my_model.parameters['cluster_positions'], 'lr': 0.1, 'momentum': 0.50},\n",
    "    ],\n",
    "\n",
    ")\n",
    "\n",
    "lr_halflife = lambda epochs: 0.5**(1/epochs)\n",
    "scheduler = torch.optim.lr_scheduler.LambdaLR(optimizer, lr_lambda = lambda epoch: lr_halflife(HALFLIFE)**epoch)\n",
    "trainer = Trainer(model = my_model, optimizer = optimizer, scheduler = scheduler, dataloader = range(100))\n",
    "print(f'Loss before training: {my_model.loss().clone().detach()}')\n",
    "trainer.train(epochs = 10, timeout=60000)"
   ]
  },
  {
   "cell_type": "code",
   "execution_count": 266,
   "metadata": {},
   "outputs": [
    {
     "data": {
      "image/png": "[encoded data removed]",
      "text/plain": [
       "<Figure size 1000x500 with 1 Axes>"
      ]
     },
     "metadata": {},
     "output_type": "display_data"
    },
    {
     "data": {
      "image/png": "[encoded data removed]",
      "text/plain": [
       "<Figure size 1000x500 with 1 Axes>"
      ]
     },
     "metadata": {},
     "output_type": "display_data"
    }
   ],
   "source": [
    "next3_model.plot()"
   ]
  },
  {
   "cell_type": "code",
   "execution_count": 263,
   "metadata": {},
   "outputs": [
    {
     "data": {
      "text/plain": [
       "Ellipsis"
      ]
     },
     "execution_count": 263,
     "metadata": {},
     "output_type": "execute_result"
    }
   ],
   "source": [
    "..."
   ]
  },
  {
   "cell_type": "code",
   "execution_count": null,
   "metadata": {},
   "outputs": [],
   "source": []
  }
 ],
 "metadata": {
  "kernelspec": {
   "display_name": "Python 3",
   "language": "python",
   "name": "python3"
  },
  "language_info": {
   "codemirror_mode": {
    "name": "ipython",
    "version": 3
   },
   "file_extension": ".py",
   "mimetype": "text/x-python",
   "name": "python",
   "nbconvert_exporter": "python",
   "pygments_lexer": "ipython3",
   "version": "3.12.3"
  }
 },
 "nbformat": 4,
 "nbformat_minor": 2
}
