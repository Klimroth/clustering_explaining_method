{
 "cells": [
  {
   "cell_type": "code",
   "execution_count": 1,
   "metadata": {},
   "outputs": [],
   "source": [
    "from data_preparation import DataPreparator\n",
    "from apply_clustering import ClusteringApplier"
   ]
  },
  {
   "cell_type": "code",
   "execution_count": 2,
   "metadata": {},
   "outputs": [],
   "source": [
    "from gradient_solver import *"
   ]
  },
  {
   "cell_type": "code",
   "execution_count": 3,
   "metadata": {},
   "outputs": [],
   "source": [
    "import os.path\n",
    "from itertools import chain, combinations\n",
    "from typing import Dict, List, Tuple\n",
    "\n",
    "import numpy as np\n",
    "import pandas as pd\n",
    "from gapstatistics.gapstatistics import GapStatistics\n",
    "from clustering import AgglomerativeClusteringWrapper as AgglomerativeClustering\n",
    "import matplotlib.pyplot as plt\n",
    "import scipy.cluster.hierarchy as sch\n",
    "from scipy.cluster.hierarchy import dendrogram, linkage\n",
    "from scipy.spatial.distance import squareform\n",
    "from scipy.spatial.distance import jensenshannon, correlation, euclidean\n",
    "from tqdm.contrib.concurrent import thread_map\n",
    "\n",
    "import config"
   ]
  },
  {
   "cell_type": "code",
   "execution_count": 4,
   "metadata": {},
   "outputs": [
    {
     "data": {
      "text/plain": [
       "'exact'"
      ]
     },
     "execution_count": 4,
     "metadata": {},
     "output_type": "execute_result"
    }
   ],
   "source": [
    "config.INFERENCE_MODE_EXPLAINING_FEATURES"
   ]
  },
  {
   "cell_type": "code",
   "execution_count": 5,
   "metadata": {},
   "outputs": [
    {
     "data": {
      "application/vnd.jupyter.widget-view+json": {
       "model_id": "8abb7bc1dfe94f22a7dcf6fbe6cc5033",
       "version_major": 2,
       "version_minor": 0
      },
      "text/plain": [
       "  0%|          | 0/1013 [00:00<?, ?it/s]"
      ]
     },
     "metadata": {},
     "output_type": "display_data"
    }
   ],
   "source": [
    "output = ClusteringApplier.calculate_explainable_distances(debug=True)"
   ]
  },
  {
   "cell_type": "code",
   "execution_count": 6,
   "metadata": {},
   "outputs": [],
   "source": [
    "df_explainable: pd.DataFrame = ClusteringApplier.read_explaining_features() # removed [list(config.EXPLAINING_FEATURE_NAMES.keys())]\n",
    "df_observable_distances: pd.DataFrame = pd.read_excel(\n",
    "    f\"{config.OUTPUT_FOLDER_BASE}observables/{config.DATASET_NAME}-distance-normalized-matrix-{config.DISTANCE_MEASURE_FINGERPRINT}-{config.NUMBER_OBSERVABLE_PATTERNS}.xlsx\",\n",
    "    index_col=0\n",
    ")\n",
    "features: List[str] = list(config.EXPLAINING_FEATURE_NAMES.keys())"
   ]
  },
  {
   "cell_type": "code",
   "execution_count": 7,
   "metadata": {},
   "outputs": [],
   "source": [
    "#df_explainable#.set_index(df_explainable.columns[0], inplace=True)\n",
    "#df_observable_distances#.set_index(df_observable_distances.columns[0], inplace=True)"
   ]
  },
  {
   "cell_type": "code",
   "execution_count": 8,
   "metadata": {},
   "outputs": [],
   "source": [
    "valid_indices = np.intersect1d(df_explainable.index, df_observable_distances.index)\n",
    "\n",
    "df_explainable = df_explainable.loc[valid_indices]\n",
    "df_observable_distances = df_observable_distances.loc[valid_indices]\n",
    "\n",
    "df = df_explainable"
   ]
  },
  {
   "cell_type": "code",
   "execution_count": 9,
   "metadata": {},
   "outputs": [],
   "source": [
    "def calculate_pairwise_distances_alt(\n",
    "        df: pd.DataFrame, feature_names: List[str], distance: str,\n",
    "    ) -> Tuple[pd.DataFrame, pd.DataFrame]:\n",
    "\n",
    "        if distance not in [\n",
    "            \"jensenshannon\",\n",
    "            \"euclidean\",\n",
    "            \"correlation\",\n",
    "        ]:\n",
    "            raise Exception(\n",
    "                \"Invalid distance measure used to measure similarity.\"\n",
    "            )\n",
    "\n",
    "        distance_matrix: np.array = np.zeros((df.shape[0], df.shape[0]))\n",
    "\n",
    "        for grp_i in range(df.shape[0]):\n",
    "            for grp_j in range(df.shape[0]):      \n",
    "                fingerprint_1 = df.iloc[grp_i][feature_names].to_numpy()\n",
    "                fingerprint_2 = df.iloc[grp_j][feature_names].to_numpy()\n",
    "                if distance == \"jensenshannon\":\n",
    "                    dist: float = 1.0 * jensenshannon(fingerprint_1, fingerprint_2)\n",
    "                elif distance == \"correlation\":\n",
    "                    dist = 1.0 * correlation(fingerprint_1, fingerprint_2)\n",
    "                else:\n",
    "                    dist = 1.0 * euclidean(fingerprint_1, fingerprint_2)\n",
    "                distance_matrix[grp_i, grp_j] = dist\n",
    "\n",
    "        normalised_distance_matrix = distance_matrix / np.sum(distance_matrix)\n",
    "\n",
    "        return pd.DataFrame(\n",
    "            distance_matrix, columns=df.index, index=df.index\n",
    "        ), pd.DataFrame(\n",
    "            normalised_distance_matrix, columns=df.index, index=df.index, \n",
    "        )\n",
    "\n",
    "def calculate_pairwise_distances(\n",
    "            df: pd.DataFrame, feature_names: List[str], distance: str,\n",
    "        ) -> Tuple[pd.DataFrame, pd.DataFrame]:\n",
    "\n",
    "        if distance not in [\n",
    "            \"jensenshannon\",\n",
    "            \"euclidean\",\n",
    "            \"correlation\",\n",
    "        ]:\n",
    "            raise Exception(\n",
    "                \"Invalid distance measure used to measure similarity.\"\n",
    "            )\n",
    "\n",
    "        distance_matrix: np.array = np.zeros((df.shape[0], df.shape[0]))\n",
    "        arr = df.loc[:, feature_names].to_numpy()\n",
    "\n",
    "        for grp_i in range(df.shape[0]):\n",
    "            for grp_j in range(df.shape[0]):      \n",
    "                fingerprint_1 = arr[grp_i]\n",
    "                fingerprint_2 = arr[grp_j]\n",
    "                if distance == \"jensenshannon\":\n",
    "                    dist: float = 1.0 * jensenshannon(fingerprint_1, fingerprint_2)\n",
    "                elif distance == \"correlation\":\n",
    "                    dist = 1.0 * correlation(fingerprint_1, fingerprint_2, centered=False)\n",
    "                else:\n",
    "                    dist = 1.0 * euclidean(fingerprint_1, fingerprint_2)\n",
    "                distance_matrix[grp_i, grp_j] = dist\n",
    "\n",
    "        normalised_distance_matrix = distance_matrix / np.sum(distance_matrix)\n",
    "\n",
    "        return pd.DataFrame(\n",
    "            distance_matrix, columns=df.index, index=df.index\n",
    "        ), pd.DataFrame(\n",
    "            normalised_distance_matrix, columns=df.index, index=df.index, \n",
    "        )\n",
    "\n",
    "def calculate_pairwise_distances_c(\n",
    "            df: pd.DataFrame, feature_names: List[str], distance: str,\n",
    "        ) -> Tuple[pd.DataFrame, pd.DataFrame]:\n",
    "\n",
    "        if distance not in [\n",
    "            \"jensenshannon\",\n",
    "            \"euclidean\",\n",
    "            \"correlation\",\n",
    "        ]:\n",
    "            raise Exception(\n",
    "                \"Invalid distance measure used to measure similarity.\"\n",
    "            )\n",
    "\n",
    "        distance_matrix: np.array = np.zeros((df.shape[0], df.shape[0]))\n",
    "        arr = df.loc[:, feature_names].to_numpy()\n",
    "\n",
    "        for grp_i in range(df.shape[0]):\n",
    "            for grp_j in range(df.shape[0]):      \n",
    "                fingerprint_1 = arr[grp_i]\n",
    "                fingerprint_2 = arr[grp_j]\n",
    "                if distance == \"jensenshannon\":\n",
    "                    dist: float = 1.0 * jensenshannon(fingerprint_1, fingerprint_2)\n",
    "                elif distance == \"correlation\":\n",
    "                    dist = 1.0 * correlation(fingerprint_1, fingerprint_2, centered=True)\n",
    "                else:\n",
    "                    dist = 1.0 * euclidean(fingerprint_1, fingerprint_2)\n",
    "                distance_matrix[grp_i, grp_j] = dist\n",
    "\n",
    "        normalised_distance_matrix = distance_matrix / np.sum(distance_matrix)\n",
    "\n",
    "        return pd.DataFrame(\n",
    "            distance_matrix, columns=df.index, index=df.index\n",
    "        ), pd.DataFrame(\n",
    "            normalised_distance_matrix, columns=df.index, index=df.index, \n",
    "        )\n",
    "\n",
    "def calculate_pairwise_distances2(\n",
    "        df: pd.DataFrame, feature_names: List[str], distance: str,\n",
    "    ) -> Tuple[pd.DataFrame, pd.DataFrame]:\n",
    "\n",
    "        if distance not in [\n",
    "            \"jensenshannon\",\n",
    "            \"euclidean\",\n",
    "            \"correlation\",\n",
    "        ]:\n",
    "            raise Exception(\n",
    "                \"Invalid distance measure used to measure similarity.\"\n",
    "            )\n",
    "\n",
    "        distance_matrix: np.array = np.zeros((df.shape[0], df.shape[0]))\n",
    "        fingerprint_df = df.loc[:, feature_names]\n",
    "        fingerprint_array = fingerprint_df.to_numpy()\n",
    "\n",
    "        if distance == \"jensenshannon\":\n",
    "            dist = lambda u,v: 1.0 * jensenshannon(u,v)\n",
    "        elif distance == \"correlation\":\n",
    "            dist = lambda u,v: 1.0 * correlation(u,v, centered=False)\n",
    "        else:\n",
    "            dist = lambda u,v: 1.0 * euclidean(u,v) \n",
    "\n",
    "        for i in range(df.shape[0]):\n",
    "            other_fingerprint = fingerprint_array[i]   \n",
    "            distance_matrix[:, i] = np.apply_along_axis(\n",
    "                 func1d=dist, axis=1, arr=fingerprint_array, v=other_fingerprint)\n",
    "\n",
    "        normalised_distance_matrix = distance_matrix / np.sum(distance_matrix)\n",
    "\n",
    "        return pd.DataFrame(\n",
    "            distance_matrix, columns=df.index, index=df.index\n",
    "        ), pd.DataFrame(\n",
    "            normalised_distance_matrix, columns=df.index, index=df.index, \n",
    "        )\n",
    "\n",
    "def numpy_matrix_correlation(A:np.array) -> np.array:\n",
    "\n",
    "    ######################################################################################\n",
    "    ### Conversion of the correlation distance from scipy.spatial.distance to pytorch. ###\n",
    "    ######################################################################################\n",
    "\n",
    "    \"\"\"\n",
    "    Compute the pairwise correlation distance between elements in a 2-D matrix.\n",
    "\n",
    "    The correlation distance between two `u` and `v` in `A`, is\n",
    "    defined as\n",
    "\n",
    "    .. math::\n",
    "\n",
    "        1 - \\\\frac{(u - \\\\bar{u}) \\\\cdot (v - \\\\bar{v})}\n",
    "                  {{\\\\|(u - \\\\bar{u})\\\\|}_2 {\\\\|(v - \\\\bar{v})\\\\|}_2}\n",
    "\n",
    "    where :math:`\\\\bar{u}` is the mean of the elements of `u`\n",
    "    and :math:`x \\\\cdot y` is the dot product of :math:`x` and :math:`y`.\n",
    "\n",
    "    Parameters\n",
    "    ----------\n",
    "    A : (N,M) array_like\n",
    "        Input array.\n",
    "\n",
    "    Returns\n",
    "    -------\n",
    "    correlation : double\n",
    "        The correlation distances in 2-D array `A`.\n",
    "    \"\"\"\n",
    "    \n",
    "    AA = np.matmul(A, A.T)\n",
    "    diag = np.diag(AA)\n",
    "    dist = 1.0 - AA / np.sqrt(diag.reshape(-1, 1) * diag.reshape(1, -1))\n",
    "    # Clip the result to avoid rounding error\n",
    "    return np.clip(dist, 0.0, 2.0)\n",
    "\n",
    "def numpy_relative_entropy(x:np.array, y:np.array) -> np.array:\n",
    "    return (x * np.log(x/y))\n",
    "\n",
    "def numpy_matrix_jensenshannon(A:np.array, epsilon:float=1e-20) -> np.array:\n",
    "\n",
    "    ########################################################################################\n",
    "    ### Conversion of the jensenshannon distance from scipy.spatial.distance to pytorch. ###\n",
    "    ########################################################################################\n",
    "\n",
    "    \"\"\"\n",
    "    Compute the pairwise Jensen-Shannon distance (metric) between\n",
    "    all entries in a matrix. This is the square root\n",
    "    of the Jensen-Shannon divergence.\n",
    "\n",
    "    The Jensen-Shannon distance between two probability\n",
    "    vectors `p` and `q` is defined as,\n",
    "\n",
    "    .. math::\n",
    "\n",
    "       \\\\sqrt{\\\\frac{D(p \\\\parallel m) + D(q \\\\parallel m)}{2}}\n",
    "\n",
    "    where :math:`m` is the pointwise mean of :math:`p` and :math:`q`\n",
    "    and :math:`D` is the Kullback-Leibler divergence.\n",
    "\n",
    "    This routine will normalize `p` and `q` if they don't sum to 1.0.\n",
    "\n",
    "    Parameters\n",
    "    ----------\n",
    "    A : (N,M) array_like\n",
    "        matrix of probability vectors\n",
    "    \n",
    "    Returns\n",
    "    -------\n",
    "    js : double or ndarray\n",
    "        The Jensen-Shannon distances along the `axis`.\n",
    "\n",
    "    \"\"\"\n",
    "    \n",
    "    clamped_A = A.clip(min = epsilon)\n",
    "    normalized_A = clamped_A / np.expand_dims(np.sum(clamped_A, axis=1), -1)\n",
    "    m_A = np.permute_dims(np.expand_dims(normalized_A, -1) + normalized_A.T, (2,0,1)) / 2.0\n",
    "    relative_entropies = numpy_relative_entropy(normalized_A, m_A) + epsilon\n",
    "    js = (relative_entropies.sum(axis = 2) + relative_entropies.sum(axis = 2).T).clip(min = epsilon)\n",
    "    return np.sqrt(js / 2.0)\n",
    "\n",
    "def calculate_pairwise_distances3(\n",
    "        df: pd.DataFrame, feature_names: List[str], distance: str,\n",
    "    ) -> Tuple[pd.DataFrame, pd.DataFrame]:\n",
    "\n",
    "        if distance not in [\n",
    "            \"jensenshannon\",\n",
    "            \"correlation\",\n",
    "        ]:\n",
    "            raise Exception(\n",
    "                \"Invalid distance measure used to measure similarity.\"\n",
    "            )\n",
    "        \n",
    "        fingerprint_df = df.loc[:, feature_names]\n",
    "        fingerprint_array = fingerprint_df.to_numpy()\n",
    "\n",
    "        if distance == \"jensenshannon\":\n",
    "            distance_matrix = numpy_matrix_jensenshannon(fingerprint_array)\n",
    "        elif distance == \"correlation\":\n",
    "            distance_matrix = numpy_matrix_correlation(fingerprint_array)\n",
    "        else:\n",
    "             raise Exception(f'Not Implemented: {distance}')\n",
    "\n",
    "\n",
    "        normalised_distance_matrix = distance_matrix / np.sum(distance_matrix)\n",
    "\n",
    "        return pd.DataFrame(\n",
    "            distance_matrix, columns=df.index, index=df.index\n",
    "        ), pd.DataFrame(\n",
    "            normalised_distance_matrix, columns=df.index, index=df.index, \n",
    "        )\n",
    "\n",
    "def calculate_pairwise_distances3c(\n",
    "        df: pd.DataFrame, feature_names: List[str], distance: str,\n",
    "    ) -> Tuple[pd.DataFrame, pd.DataFrame]:\n",
    "\n",
    "        if distance not in [\n",
    "            \"jensenshannon\",\n",
    "            \"correlation\",\n",
    "        ]:\n",
    "            raise Exception(\n",
    "                \"Invalid distance measure used to measure similarity.\"\n",
    "            )\n",
    "        \n",
    "        fingerprint_df = df.loc[:, feature_names]\n",
    "        fingerprint_array = fingerprint_df.to_numpy()\n",
    "        fingerprint_array = fingerprint_array - np.mean(fingerprint_array)\n",
    "\n",
    "        if distance == \"jensenshannon\":\n",
    "            distance_matrix = numpy_matrix_jensenshannon(fingerprint_array)\n",
    "        elif distance == \"correlation\":\n",
    "            distance_matrix = numpy_matrix_correlation(fingerprint_array)\n",
    "        else:\n",
    "             raise Exception(f'Not Implemented: {distance}')\n",
    "\n",
    "        normalised_distance_matrix = distance_matrix / np.sum(distance_matrix)\n",
    "\n",
    "        return pd.DataFrame(\n",
    "            distance_matrix, columns=df.index, index=df.index\n",
    "        ), pd.DataFrame(\n",
    "            normalised_distance_matrix, columns=df.index, index=df.index, \n",
    "        )\n",
    "\n",
    "def calculate_pairwise_distances4(\n",
    "        df: pd.DataFrame, feature_names: List[str], distance: str,\n",
    "    ) -> Tuple[pd.DataFrame, pd.DataFrame]:\n",
    "\n",
    "        if distance not in [\n",
    "            \"jensenshannon\",\n",
    "            \"euclidean\",\n",
    "            \"correlation\",\n",
    "        ]:\n",
    "            raise Exception(\n",
    "                \"Invalid distance measure used to measure similarity.\"\n",
    "            )\n",
    "\n",
    "        distance_matrix: np.array = np.zeros((df.shape[0], df.shape[0]))\n",
    "        fingerprint_df = df.loc[:, feature_names]\n",
    "        fingerprint_array = fingerprint_df.to_numpy()\n",
    "\n",
    "        if distance == \"jensenshannon\":\n",
    "            dist = lambda u,v: 1.0 * torch_jensenshannon(torch.tensor(u),torch.tensor(v)).numpy()\n",
    "        elif distance == \"correlation\":\n",
    "            dist = lambda u,v: 1.0 * torch_correlation(torch.tensor(u),torch.tensor(v), w = None, centered=False).numpy()\n",
    "        else:\n",
    "            dist = lambda u,v: 1.0 * euclidean(u,v) \n",
    "\n",
    "        for i in range(df.shape[0]):\n",
    "            other_fingerprint = fingerprint_array[i]   \n",
    "            distance_matrix[:, i] = np.apply_along_axis(\n",
    "                 func1d=dist, axis=1, arr=fingerprint_array, v=other_fingerprint)\n",
    "\n",
    "        normalised_distance_matrix = distance_matrix / np.sum(distance_matrix)\n",
    "\n",
    "        return pd.DataFrame(\n",
    "            distance_matrix, columns=df.index, index=df.index\n",
    "        ), pd.DataFrame(\n",
    "            normalised_distance_matrix, columns=df.index, index=df.index, \n",
    "        )"
   ]
  },
  {
   "cell_type": "code",
   "execution_count": 10,
   "metadata": {},
   "outputs": [],
   "source": [
    "sparsity_parameter = 0.01\n",
    "distance_measure = 'correlation'\n",
    "\n",
    "powerset_features = chain.from_iterable(\n",
    "    combinations(features, r) for r in range(2, len(features) + 1)\n",
    ")\n",
    "powerset_method_input = [\n",
    "    [\n",
    "        list(feature_set), df_explainable, df_observable_distances, sparsity_parameter, distance_measure]\n",
    "    for feature_set in powerset_features\n",
    "]\n",
    "\n",
    "dummy_input = powerset_method_input[-1]\n",
    "input_df = dummy_input[1]\n",
    "input_feature_names = dummy_input[0]\n",
    "input_distance = dummy_input[4]"
   ]
  },
  {
   "cell_type": "code",
   "execution_count": 11,
   "metadata": {},
   "outputs": [],
   "source": [
    "fingerprint_df = df.loc[:, input_feature_names]\n",
    "fingerprint_array = fingerprint_df.to_numpy()"
   ]
  },
  {
   "cell_type": "code",
   "execution_count": 12,
   "metadata": {},
   "outputs": [],
   "source": [
    "input_distance = 'correlation' # 'jensenshannon'"
   ]
  },
  {
   "cell_type": "code",
   "execution_count": 13,
   "metadata": {},
   "outputs": [],
   "source": [
    "ca, cb = calculate_pairwise_distances_c(input_df, input_feature_names, input_distance)\n",
    "a3c, b3c = calculate_pairwise_distances3c(input_df, input_feature_names, input_distance)"
   ]
  },
  {
   "cell_type": "code",
   "execution_count": 14,
   "metadata": {},
   "outputs": [],
   "source": [
    "a, b = calculate_pairwise_distances(input_df, input_feature_names, input_distance)\n",
    "a2, b2 = calculate_pairwise_distances2(input_df, input_feature_names, input_distance)\n",
    "a3, b3 = calculate_pairwise_distances3(input_df, input_feature_names, input_distance)\n",
    "a4, b4 = calculate_pairwise_distances4(input_df, input_feature_names, input_distance)"
   ]
  },
  {
   "cell_type": "code",
   "execution_count": 15,
   "metadata": {},
   "outputs": [
    {
     "data": {
      "text/plain": [
       "(np.True_, np.True_)"
      ]
     },
     "execution_count": 15,
     "metadata": {},
     "output_type": "execute_result"
    }
   ],
   "source": [
    "np.isclose(a, a2).all().all(), np.isclose(b, b2).all().all()"
   ]
  },
  {
   "cell_type": "code",
   "execution_count": 16,
   "metadata": {},
   "outputs": [
    {
     "data": {
      "text/plain": [
       "(np.True_, np.True_)"
      ]
     },
     "execution_count": 16,
     "metadata": {},
     "output_type": "execute_result"
    }
   ],
   "source": [
    "np.isclose(a, a3).all().all(), np.isclose(b, b3).all().all()"
   ]
  },
  {
   "cell_type": "code",
   "execution_count": 17,
   "metadata": {},
   "outputs": [
    {
     "data": {
      "text/plain": [
       "(np.True_, np.True_)"
      ]
     },
     "execution_count": 17,
     "metadata": {},
     "output_type": "execute_result"
    }
   ],
   "source": [
    "np.isclose(a, a4).all().all(), np.isclose(b, b4).all().all()"
   ]
  },
  {
   "cell_type": "code",
   "execution_count": 18,
   "metadata": {},
   "outputs": [
    {
     "data": {
      "text/plain": [
       "(np.True_, np.True_)"
      ]
     },
     "execution_count": 18,
     "metadata": {},
     "output_type": "execute_result"
    }
   ],
   "source": [
    "np.isclose(a3, a4).all().all(), np.isclose(b3, b4).all().all()"
   ]
  },
  {
   "cell_type": "code",
   "execution_count": 19,
   "metadata": {},
   "outputs": [
    {
     "name": "stdout",
     "output_type": "stream",
     "text": [
      "1.39 s ± 23.1 ms per loop (mean ± std. dev. of 7 runs, 1 loop each)\n"
     ]
    }
   ],
   "source": [
    "%timeit calculate_pairwise_distances_alt(input_df, input_feature_names, input_distance)"
   ]
  },
  {
   "cell_type": "code",
   "execution_count": 20,
   "metadata": {},
   "outputs": [
    {
     "name": "stdout",
     "output_type": "stream",
     "text": [
      "35.6 ms ± 206 µs per loop (mean ± std. dev. of 7 runs, 10 loops each)\n"
     ]
    }
   ],
   "source": [
    "%timeit calculate_pairwise_distances(input_df, input_feature_names, input_distance)"
   ]
  },
  {
   "cell_type": "code",
   "execution_count": 21,
   "metadata": {},
   "outputs": [
    {
     "name": "stdout",
     "output_type": "stream",
     "text": [
      "40.8 ms ± 175 µs per loop (mean ± std. dev. of 7 runs, 10 loops each)\n"
     ]
    }
   ],
   "source": [
    "%timeit calculate_pairwise_distances2(input_df, input_feature_names, input_distance)"
   ]
  },
  {
   "cell_type": "code",
   "execution_count": 22,
   "metadata": {},
   "outputs": [
    {
     "name": "stdout",
     "output_type": "stream",
     "text": [
      "144 µs ± 313 ns per loop (mean ± std. dev. of 7 runs, 10,000 loops each)\n"
     ]
    }
   ],
   "source": [
    "%timeit calculate_pairwise_distances3(input_df, input_feature_names, input_distance)"
   ]
  },
  {
   "cell_type": "code",
   "execution_count": 23,
   "metadata": {},
   "outputs": [],
   "source": [
    "import seaborn as sns"
   ]
  },
  {
   "cell_type": "code",
   "execution_count": 26,
   "metadata": {},
   "outputs": [
    {
     "data": {
      "application/vnd.jupyter.widget-view+json": {
       "model_id": "4ceb7eb81b29486889d51d1811939006",
       "version_major": 2,
       "version_minor": 0
      },
      "text/plain": [
       "  0%|          | 0/1013 [00:00<?, ?it/s]"
      ]
     },
     "metadata": {},
     "output_type": "display_data"
    }
   ],
   "source": [
    "correlation_coefficients: List[float] = thread_map(\n",
    "    ClusteringApplier._get_correlation_coefficient,\n",
    "    powerset_method_input,\n",
    "    max_workers=config.MAX_NUM_THREADS,\n",
    ")"
   ]
  },
  {
   "cell_type": "code",
   "execution_count": 27,
   "metadata": {},
   "outputs": [],
   "source": [
    "maximum_correlation: float = max(correlation_coefficients)\n",
    "optimal_feature_set: List[str] = features\n",
    "current_feature_size = len(features)"
   ]
  },
  {
   "cell_type": "code",
   "execution_count": 28,
   "metadata": {},
   "outputs": [],
   "source": [
    "for index in range(len(correlation_coefficients)):\n",
    "    if correlation_coefficients[index] == maximum_correlation:\n",
    "        current_feature_set = powerset_method_input[index][0]\n",
    "        if len(current_feature_set) < current_feature_size:\n",
    "            current_feature_size = len(current_feature_set)\n",
    "            optimal_feature_set = current_feature_set"
   ]
  },
  {
   "cell_type": "code",
   "execution_count": 30,
   "metadata": {},
   "outputs": [
    {
     "data": {
      "text/plain": [
       "<Axes: ylabel='Count'>"
      ]
     },
     "execution_count": 30,
     "metadata": {},
     "output_type": "execute_result"
    },
    {
     "data": {
      "image/png": "[encoded data removed]",
      "text/plain": [
       "<Figure size 640x480 with 1 Axes>"
      ]
     },
     "metadata": {},
     "output_type": "display_data"
    }
   ],
   "source": [
    "sns.histplot(correlation_coefficients)"
   ]
  },
  {
   "cell_type": "code",
   "execution_count": 31,
   "metadata": {},
   "outputs": [
    {
     "data": {
      "text/plain": [
       "['Age', 'Zoo', 'Genus_ID', 'Family_ID']"
      ]
     },
     "execution_count": 31,
     "metadata": {},
     "output_type": "execute_result"
    }
   ],
   "source": [
    "optimal_feature_set"
   ]
  },
  {
   "cell_type": "code",
   "execution_count": 33,
   "metadata": {},
   "outputs": [
    {
     "data": {
      "text/html": [
       "<div>\n",
       "<style scoped>\n",
       "    .dataframe tbody tr th:only-of-type {\n",
       "        vertical-align: middle;\n",
       "    }\n",
       "\n",
       "    .dataframe tbody tr th {\n",
       "        vertical-align: top;\n",
       "    }\n",
       "\n",
       "    .dataframe thead th {\n",
       "        text-align: right;\n",
       "    }\n",
       "</style>\n",
       "<table border=\"1\" class=\"dataframe\">\n",
       "  <thead>\n",
       "    <tr style=\"text-align: right;\">\n",
       "      <th></th>\n",
       "      <th>Age</th>\n",
       "      <th>Sex</th>\n",
       "      <th>Zoo</th>\n",
       "      <th>Stable</th>\n",
       "      <th>Genus_ID</th>\n",
       "      <th>Family_ID</th>\n",
       "      <th>Order_ID</th>\n",
       "      <th>SH</th>\n",
       "      <th>Weight</th>\n",
       "      <th>Habitat</th>\n",
       "    </tr>\n",
       "    <tr>\n",
       "      <th>Individual</th>\n",
       "      <th></th>\n",
       "      <th></th>\n",
       "      <th></th>\n",
       "      <th></th>\n",
       "      <th></th>\n",
       "      <th></th>\n",
       "      <th></th>\n",
       "      <th></th>\n",
       "      <th></th>\n",
       "      <th></th>\n",
       "    </tr>\n",
       "  </thead>\n",
       "  <tbody>\n",
       "    <tr>\n",
       "      <th>A.nas_01</th>\n",
       "      <td>1.002146</td>\n",
       "      <td>-0.000244</td>\n",
       "      <td>0.098348</td>\n",
       "      <td>0.999245</td>\n",
       "      <td>0.976405</td>\n",
       "      <td>1.000186</td>\n",
       "      <td>1.000014</td>\n",
       "      <td>0.648874</td>\n",
       "      <td>0.158136</td>\n",
       "      <td>0.997643</td>\n",
       "    </tr>\n",
       "    <tr>\n",
       "      <th>A.nas_02</th>\n",
       "      <td>0.999880</td>\n",
       "      <td>1.000335</td>\n",
       "      <td>0.097759</td>\n",
       "      <td>-0.000973</td>\n",
       "      <td>0.976951</td>\n",
       "      <td>1.001921</td>\n",
       "      <td>0.999254</td>\n",
       "      <td>0.645936</td>\n",
       "      <td>0.157452</td>\n",
       "      <td>1.000225</td>\n",
       "    </tr>\n",
       "    <tr>\n",
       "      <th>A.nas_03</th>\n",
       "      <td>1.000333</td>\n",
       "      <td>0.998653</td>\n",
       "      <td>0.099072</td>\n",
       "      <td>0.001262</td>\n",
       "      <td>0.977570</td>\n",
       "      <td>1.000126</td>\n",
       "      <td>1.000768</td>\n",
       "      <td>0.648066</td>\n",
       "      <td>0.157941</td>\n",
       "      <td>1.001626</td>\n",
       "    </tr>\n",
       "    <tr>\n",
       "      <th>A.nas_05</th>\n",
       "      <td>1.000214</td>\n",
       "      <td>0.997398</td>\n",
       "      <td>0.450811</td>\n",
       "      <td>0.998552</td>\n",
       "      <td>0.976975</td>\n",
       "      <td>1.000322</td>\n",
       "      <td>0.999646</td>\n",
       "      <td>0.647080</td>\n",
       "      <td>0.156120</td>\n",
       "      <td>1.000448</td>\n",
       "    </tr>\n",
       "    <tr>\n",
       "      <th>A.nas_06</th>\n",
       "      <td>0.998134</td>\n",
       "      <td>0.999592</td>\n",
       "      <td>0.449482</td>\n",
       "      <td>0.999473</td>\n",
       "      <td>0.976967</td>\n",
       "      <td>0.997754</td>\n",
       "      <td>0.997738</td>\n",
       "      <td>0.649045</td>\n",
       "      <td>0.159477</td>\n",
       "      <td>0.998975</td>\n",
       "    </tr>\n",
       "    <tr>\n",
       "      <th>...</th>\n",
       "      <td>...</td>\n",
       "      <td>...</td>\n",
       "      <td>...</td>\n",
       "      <td>...</td>\n",
       "      <td>...</td>\n",
       "      <td>...</td>\n",
       "      <td>...</td>\n",
       "      <td>...</td>\n",
       "      <td>...</td>\n",
       "      <td>...</td>\n",
       "    </tr>\n",
       "    <tr>\n",
       "      <th>T.spe_01</th>\n",
       "      <td>0.999277</td>\n",
       "      <td>0.000701</td>\n",
       "      <td>0.549664</td>\n",
       "      <td>0.999935</td>\n",
       "      <td>0.640615</td>\n",
       "      <td>1.001377</td>\n",
       "      <td>1.000728</td>\n",
       "      <td>0.561192</td>\n",
       "      <td>0.128187</td>\n",
       "      <td>0.000631</td>\n",
       "    </tr>\n",
       "    <tr>\n",
       "      <th>T.str_01</th>\n",
       "      <td>0.999351</td>\n",
       "      <td>0.000405</td>\n",
       "      <td>0.499382</td>\n",
       "      <td>1.001434</td>\n",
       "      <td>0.640817</td>\n",
       "      <td>1.001507</td>\n",
       "      <td>0.999972</td>\n",
       "      <td>0.852590</td>\n",
       "      <td>0.429680</td>\n",
       "      <td>0.333380</td>\n",
       "    </tr>\n",
       "    <tr>\n",
       "      <th>T.str_02</th>\n",
       "      <td>0.999295</td>\n",
       "      <td>0.000450</td>\n",
       "      <td>0.600090</td>\n",
       "      <td>0.999453</td>\n",
       "      <td>0.639152</td>\n",
       "      <td>0.999029</td>\n",
       "      <td>0.999902</td>\n",
       "      <td>0.853966</td>\n",
       "      <td>0.429407</td>\n",
       "      <td>0.332606</td>\n",
       "    </tr>\n",
       "    <tr>\n",
       "      <th>T.str_03</th>\n",
       "      <td>1.000363</td>\n",
       "      <td>-0.001734</td>\n",
       "      <td>0.401631</td>\n",
       "      <td>1.000105</td>\n",
       "      <td>0.637963</td>\n",
       "      <td>1.000221</td>\n",
       "      <td>0.999833</td>\n",
       "      <td>0.854002</td>\n",
       "      <td>0.430121</td>\n",
       "      <td>0.332452</td>\n",
       "    </tr>\n",
       "    <tr>\n",
       "      <th>T.str_04</th>\n",
       "      <td>1.000822</td>\n",
       "      <td>1.000507</td>\n",
       "      <td>0.399263</td>\n",
       "      <td>1.000461</td>\n",
       "      <td>0.639128</td>\n",
       "      <td>1.000041</td>\n",
       "      <td>0.999779</td>\n",
       "      <td>0.852543</td>\n",
       "      <td>0.431046</td>\n",
       "      <td>0.331411</td>\n",
       "    </tr>\n",
       "  </tbody>\n",
       "</table>\n",
       "<p>90 rows × 10 columns</p>\n",
       "</div>"
      ],
      "text/plain": [
       "                 Age       Sex       Zoo    Stable  Genus_ID  Family_ID  \\\n",
       "Individual                                                                \n",
       "A.nas_01    1.002146 -0.000244  0.098348  0.999245  0.976405   1.000186   \n",
       "A.nas_02    0.999880  1.000335  0.097759 -0.000973  0.976951   1.001921   \n",
       "A.nas_03    1.000333  0.998653  0.099072  0.001262  0.977570   1.000126   \n",
       "A.nas_05    1.000214  0.997398  0.450811  0.998552  0.976975   1.000322   \n",
       "A.nas_06    0.998134  0.999592  0.449482  0.999473  0.976967   0.997754   \n",
       "...              ...       ...       ...       ...       ...        ...   \n",
       "T.spe_01    0.999277  0.000701  0.549664  0.999935  0.640615   1.001377   \n",
       "T.str_01    0.999351  0.000405  0.499382  1.001434  0.640817   1.001507   \n",
       "T.str_02    0.999295  0.000450  0.600090  0.999453  0.639152   0.999029   \n",
       "T.str_03    1.000363 -0.001734  0.401631  1.000105  0.637963   1.000221   \n",
       "T.str_04    1.000822  1.000507  0.399263  1.000461  0.639128   1.000041   \n",
       "\n",
       "            Order_ID        SH    Weight   Habitat  \n",
       "Individual                                          \n",
       "A.nas_01    1.000014  0.648874  0.158136  0.997643  \n",
       "A.nas_02    0.999254  0.645936  0.157452  1.000225  \n",
       "A.nas_03    1.000768  0.648066  0.157941  1.001626  \n",
       "A.nas_05    0.999646  0.647080  0.156120  1.000448  \n",
       "A.nas_06    0.997738  0.649045  0.159477  0.998975  \n",
       "...              ...       ...       ...       ...  \n",
       "T.spe_01    1.000728  0.561192  0.128187  0.000631  \n",
       "T.str_01    0.999972  0.852590  0.429680  0.333380  \n",
       "T.str_02    0.999902  0.853966  0.429407  0.332606  \n",
       "T.str_03    0.999833  0.854002  0.430121  0.332452  \n",
       "T.str_04    0.999779  0.852543  0.431046  0.331411  \n",
       "\n",
       "[90 rows x 10 columns]"
      ]
     },
     "execution_count": 33,
     "metadata": {},
     "output_type": "execute_result"
    }
   ],
   "source": [
    "# Def 5.\n",
    "\n",
    "df_explainable"
   ]
  },
  {
   "cell_type": "code",
   "execution_count": 34,
   "metadata": {},
   "outputs": [
    {
     "data": {
      "text/html": [
       "<div>\n",
       "<style scoped>\n",
       "    .dataframe tbody tr th:only-of-type {\n",
       "        vertical-align: middle;\n",
       "    }\n",
       "\n",
       "    .dataframe tbody tr th {\n",
       "        vertical-align: top;\n",
       "    }\n",
       "\n",
       "    .dataframe thead th {\n",
       "        text-align: right;\n",
       "    }\n",
       "</style>\n",
       "<table border=\"1\" class=\"dataframe\">\n",
       "  <thead>\n",
       "    <tr style=\"text-align: right;\">\n",
       "      <th></th>\n",
       "      <th>num_lhd</th>\n",
       "      <th>num_lying</th>\n",
       "      <th>perc_lhd</th>\n",
       "      <th>perc_lying</th>\n",
       "    </tr>\n",
       "    <tr>\n",
       "      <th>Individual</th>\n",
       "      <th></th>\n",
       "      <th></th>\n",
       "      <th></th>\n",
       "      <th></th>\n",
       "    </tr>\n",
       "  </thead>\n",
       "  <tbody>\n",
       "    <tr>\n",
       "      <th>A.nas_01</th>\n",
       "      <td>0.360961</td>\n",
       "      <td>0.363236</td>\n",
       "      <td>0.208168</td>\n",
       "      <td>0.789201</td>\n",
       "    </tr>\n",
       "    <tr>\n",
       "      <th>A.nas_02</th>\n",
       "      <td>0.333656</td>\n",
       "      <td>0.482796</td>\n",
       "      <td>0.150914</td>\n",
       "      <td>0.806376</td>\n",
       "    </tr>\n",
       "    <tr>\n",
       "      <th>A.nas_03</th>\n",
       "      <td>0.430538</td>\n",
       "      <td>0.393560</td>\n",
       "      <td>0.252560</td>\n",
       "      <td>0.920531</td>\n",
       "    </tr>\n",
       "    <tr>\n",
       "      <th>A.nas_05</th>\n",
       "      <td>0.364019</td>\n",
       "      <td>0.357701</td>\n",
       "      <td>0.165571</td>\n",
       "      <td>0.877090</td>\n",
       "    </tr>\n",
       "    <tr>\n",
       "      <th>A.nas_06</th>\n",
       "      <td>0.206098</td>\n",
       "      <td>0.410842</td>\n",
       "      <td>0.101159</td>\n",
       "      <td>0.879037</td>\n",
       "    </tr>\n",
       "    <tr>\n",
       "      <th>...</th>\n",
       "      <td>...</td>\n",
       "      <td>...</td>\n",
       "      <td>...</td>\n",
       "      <td>...</td>\n",
       "    </tr>\n",
       "    <tr>\n",
       "      <th>T.spe_01</th>\n",
       "      <td>0.322135</td>\n",
       "      <td>0.356423</td>\n",
       "      <td>0.132601</td>\n",
       "      <td>0.656004</td>\n",
       "    </tr>\n",
       "    <tr>\n",
       "      <th>T.str_01</th>\n",
       "      <td>0.223704</td>\n",
       "      <td>0.528229</td>\n",
       "      <td>0.192262</td>\n",
       "      <td>0.742878</td>\n",
       "    </tr>\n",
       "    <tr>\n",
       "      <th>T.str_02</th>\n",
       "      <td>0.180053</td>\n",
       "      <td>0.445022</td>\n",
       "      <td>0.063054</td>\n",
       "      <td>0.689025</td>\n",
       "    </tr>\n",
       "    <tr>\n",
       "      <th>T.str_03</th>\n",
       "      <td>0.200528</td>\n",
       "      <td>0.493044</td>\n",
       "      <td>0.099743</td>\n",
       "      <td>0.692180</td>\n",
       "    </tr>\n",
       "    <tr>\n",
       "      <th>T.str_04</th>\n",
       "      <td>0.185597</td>\n",
       "      <td>0.546102</td>\n",
       "      <td>0.078554</td>\n",
       "      <td>0.557743</td>\n",
       "    </tr>\n",
       "  </tbody>\n",
       "</table>\n",
       "<p>90 rows × 4 columns</p>\n",
       "</div>"
      ],
      "text/plain": [
       "             num_lhd  num_lying  perc_lhd  perc_lying\n",
       "Individual                                           \n",
       "A.nas_01    0.360961   0.363236  0.208168    0.789201\n",
       "A.nas_02    0.333656   0.482796  0.150914    0.806376\n",
       "A.nas_03    0.430538   0.393560  0.252560    0.920531\n",
       "A.nas_05    0.364019   0.357701  0.165571    0.877090\n",
       "A.nas_06    0.206098   0.410842  0.101159    0.879037\n",
       "...              ...        ...       ...         ...\n",
       "T.spe_01    0.322135   0.356423  0.132601    0.656004\n",
       "T.str_01    0.223704   0.528229  0.192262    0.742878\n",
       "T.str_02    0.180053   0.445022  0.063054    0.689025\n",
       "T.str_03    0.200528   0.493044  0.099743    0.692180\n",
       "T.str_04    0.185597   0.546102  0.078554    0.557743\n",
       "\n",
       "[90 rows x 4 columns]"
      ]
     },
     "execution_count": 34,
     "metadata": {},
     "output_type": "execute_result"
    }
   ],
   "source": [
    "df_observable: pd.DataFrame = ClusteringApplier._read_observable_data(\n",
    "    read_only_feature_col=True\n",
    ")\n",
    "df_observable.reset_index().groupby('Individual').mean()"
   ]
  },
  {
   "cell_type": "code",
   "execution_count": 53,
   "metadata": {},
   "outputs": [
    {
     "data": {
      "text/plain": [
       "['Age', 'Zoo', 'Genus_ID', 'Family_ID']"
      ]
     },
     "execution_count": 53,
     "metadata": {},
     "output_type": "execute_result"
    }
   ],
   "source": [
    "optimal_feature_set"
   ]
  },
  {
   "cell_type": "code",
   "execution_count": 54,
   "metadata": {},
   "outputs": [],
   "source": [
    "from sklearn.linear_model import LinearRegression\n",
    "from sklearn.metrics import explained_variance_score\n",
    "from numpy.random import permutation\n",
    "from collections import defaultdict"
   ]
  },
  {
   "cell_type": "code",
   "execution_count": 55,
   "metadata": {},
   "outputs": [
    {
     "data": {
      "text/plain": [
       "array(['Age', 'Zoo', 'Genus_ID', 'Family_ID'], dtype='<U9')"
      ]
     },
     "execution_count": 55,
     "metadata": {},
     "output_type": "execute_result"
    }
   ],
   "source": [
    "my_feature_set = optimal_feature_set#['Zoo', 'Genus_ID', 'Family_ID', 'Order_ID', 'SH']\n",
    "my_feature_set = np.array(my_feature_set)\n",
    "my_feature_set"
   ]
  },
  {
   "cell_type": "code",
   "execution_count": 56,
   "metadata": {},
   "outputs": [],
   "source": [
    "y = df_observable.reset_index().groupby('Individual').mean().to_numpy()"
   ]
  },
  {
   "cell_type": "code",
   "execution_count": 57,
   "metadata": {},
   "outputs": [],
   "source": [
    "obs_df = df_observable.reset_index()\n",
    "idx = obs_df.index"
   ]
  },
  {
   "cell_type": "code",
   "execution_count": 58,
   "metadata": {},
   "outputs": [],
   "source": [
    "get_y = lambda: obs_df.loc[permutation(idx)].drop_duplicates(subset=[config.GROUP_NAME], keep='first').set_index(config.GROUP_NAME).loc[df_explainable.index].to_numpy()"
   ]
  },
  {
   "cell_type": "code",
   "execution_count": 59,
   "metadata": {},
   "outputs": [],
   "source": [
    "K = 100"
   ]
  },
  {
   "cell_type": "code",
   "execution_count": 60,
   "metadata": {},
   "outputs": [],
   "source": [
    "model = LinearRegression()\n",
    "X = df_explainable.loc[:, my_feature_set].to_numpy()\n",
    "model.fit(X,y)\n",
    "y_pred = model.predict(X)\n",
    "R2 = explained_variance_score(y_true=y, y_pred=y_pred)"
   ]
  },
  {
   "cell_type": "code",
   "execution_count": 61,
   "metadata": {},
   "outputs": [],
   "source": [
    "feature_importances = defaultdict(lambda: 0.)\n",
    "for col_i in range(X.shape[1]):\n",
    "    for k in range(K):\n",
    "        permuted_X = X.copy()\n",
    "        permuted_X[:, col_i] = permutation(permuted_X[:, col_i])\n",
    "        y = get_y()\n",
    "        model.fit(X,y)\n",
    "        R2 = explained_variance_score(y_true=y, y_pred=model.predict(X))\n",
    "        y_pred = model.predict(permuted_X)\n",
    "        feature_importances[my_feature_set[col_i]] += (R2 - explained_variance_score(y_true=y, y_pred=y_pred))/K\n",
    "\n",
    "for col_i in range(X.shape[1]):\n",
    "    #feature_importances[my_feature_set[col_i]] = #R2 - (feature_importances[my_feature_set[col_i]]/K)\n",
    "    pass\n",
    "\n",
    "adj_sum = sum(feature_importances.values())\n",
    "for key, val in feature_importances.items():\n",
    "    feature_importances[key] = val / adj_sum\n",
    "\n",
    "assert np.isclose(sum(feature_importances.values()), 1)"
   ]
  },
  {
   "cell_type": "code",
   "execution_count": 62,
   "metadata": {},
   "outputs": [
    {
     "data": {
      "text/plain": [
       "<Axes: >"
      ]
     },
     "execution_count": 62,
     "metadata": {},
     "output_type": "execute_result"
    },
    {
     "data": {
      "image/png": "[encoded data removed]",
      "text/plain": [
       "<Figure size 1000x500 with 1 Axes>"
      ]
     },
     "metadata": {},
     "output_type": "display_data"
    }
   ],
   "source": [
    "plt.figure(figsize=(10, 5))\n",
    "sns.barplot(feature_importances)"
   ]
  },
  {
   "cell_type": "code",
   "execution_count": 63,
   "metadata": {},
   "outputs": [
    {
     "data": {
      "text/plain": [
       "[array([0]),\n",
       " array([1]),\n",
       " array([2]),\n",
       " array([3]),\n",
       " array([0, 1]),\n",
       " array([0, 2]),\n",
       " array([0, 3]),\n",
       " array([1, 2]),\n",
       " array([1, 3]),\n",
       " array([2, 3]),\n",
       " array([0, 1, 2]),\n",
       " array([0, 1, 3]),\n",
       " array([0, 2, 3]),\n",
       " array([1, 2, 3]),\n",
       " array([0, 1, 2, 3])]"
      ]
     },
     "execution_count": 63,
     "metadata": {},
     "output_type": "execute_result"
    }
   ],
   "source": [
    "feature_combinations = []\n",
    "([[feature_combinations.append(np.array(c)) for c in combinations(np.arange(len(my_feature_set)), i)] for i in range(1, len(my_feature_set)+1)])\n",
    "feature_combinations"
   ]
  },
  {
   "cell_type": "code",
   "execution_count": 64,
   "metadata": {},
   "outputs": [],
   "source": [
    "_, df_explainable_distances = ClusteringApplier.calculate_pairwise_distances(\n",
    "    df_explainable.loc[:, my_feature_set], my_feature_set, config.DISTANCE_MEASURE_EXPLAINABLE_FEATURES,\n",
    ")\n",
    "\n",
    "X = df_explainable.loc[:, my_feature_set].to_numpy()\n",
    "y = df_explainable_distances.to_numpy()"
   ]
  },
  {
   "cell_type": "code",
   "execution_count": 65,
   "metadata": {},
   "outputs": [],
   "source": [
    "# Def. 4: Higher-order permutation-based feature importance\n",
    "\n",
    "model = LinearRegression()\n",
    "model.fit(X,y)\n",
    "y_pred = model.predict(X)\n",
    "R2 = explained_variance_score(y_true=y, y_pred=y_pred)\n",
    "feature_importances = defaultdict(lambda: 0.)\n",
    "\n",
    "i = 0\n",
    "for cols in feature_combinations:\n",
    "    for k in range(K):\n",
    "        permuted_X = X.copy()\n",
    "        for col_i in cols:\n",
    "            permuted_X[:, col_i] = permutation(permuted_X[:, col_i])\n",
    "        y_pred = model.predict(permuted_X)\n",
    "        feature_importances[i] += explained_variance_score(y_true=y, y_pred=y_pred)\n",
    "    i += 1\n",
    "\n",
    "i = 0\n",
    "for cols in feature_combinations:\n",
    "    feature_importances[i] = max(0, R2 - (feature_importances[i]/K))\n",
    "    i += 1\n",
    "    \n",
    "\n",
    "adj_sum = sum(feature_importances.values())\n",
    "for key, val in feature_importances.items():\n",
    "    feature_importances[key] = val / adj_sum\n",
    "\n",
    "assert np.isclose(sum(feature_importances.values()), 1)"
   ]
  },
  {
   "cell_type": "code",
   "execution_count": 66,
   "metadata": {},
   "outputs": [],
   "source": [
    "def human_readable(_dict: dict) -> dict:\n",
    "    return {str([str(a) for a in my_feature_set[feature_combinations[k]]]):v for k, v in _dict.items()}"
   ]
  },
  {
   "cell_type": "code",
   "execution_count": 67,
   "metadata": {},
   "outputs": [
    {
     "data": {
      "image/png": "[encoded data removed]",
      "text/plain": [
       "<Figure size 1000x500 with 1 Axes>"
      ]
     },
     "metadata": {},
     "output_type": "display_data"
    }
   ],
   "source": [
    "human_readable_dict = human_readable(feature_importances)\n",
    "plt.figure(figsize=(10, 5))\n",
    "ax = sns.barplot(human_readable_dict)\n",
    "ax.axes.xaxis.set_tick_params(rotation=90)"
   ]
  },
  {
   "cell_type": "code",
   "execution_count": 68,
   "metadata": {},
   "outputs": [],
   "source": [
    "# Idee:\n",
    "# Wir vergleichen die Feature-Importances mit der Summe ihrer Teile"
   ]
  },
  {
   "cell_type": "code",
   "execution_count": 69,
   "metadata": {},
   "outputs": [],
   "source": [
    "revised_feature_importances = defaultdict(lambda: 0)\n",
    "\n",
    "i = 0\n",
    "for cols in feature_combinations:\n",
    "           \n",
    "    a = feature_importances[i]\n",
    "    b = sum([feature_importances[j] for j in cols])\n",
    "    revised_feature_importances[i] += a/b-1\n",
    "\n",
    "    i += 1"
   ]
  },
  {
   "cell_type": "code",
   "execution_count": 70,
   "metadata": {},
   "outputs": [
    {
     "data": {
      "image/png": "[encoded data removed]",
      "text/plain": [
       "<Figure size 1000x500 with 1 Axes>"
      ]
     },
     "metadata": {},
     "output_type": "display_data"
    }
   ],
   "source": [
    "plt.figure(figsize=(10, 5))\n",
    "ax = sns.barplot(human_readable(revised_feature_importances))\n",
    "ax.axes.xaxis.set_tick_params(rotation=90)"
   ]
  },
  {
   "cell_type": "code",
   "execution_count": 71,
   "metadata": {},
   "outputs": [
    {
     "data": {
      "text/plain": [
       "Ellipsis"
      ]
     },
     "execution_count": 71,
     "metadata": {},
     "output_type": "execute_result"
    }
   ],
   "source": [
    "..."
   ]
  }
 ],
 "metadata": {
  "kernelspec": {
   "display_name": "Python 3",
   "language": "python",
   "name": "python3"
  },
  "language_info": {
   "codemirror_mode": {
    "name": "ipython",
    "version": 3
   },
   "file_extension": ".py",
   "mimetype": "text/x-python",
   "name": "python",
   "nbconvert_exporter": "python",
   "pygments_lexer": "ipython3",
   "version": "3.12.3"
  }
 },
 "nbformat": 4,
 "nbformat_minor": 2
}
