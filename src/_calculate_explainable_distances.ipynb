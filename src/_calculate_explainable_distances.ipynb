{
 "cells": [
  {
   "cell_type": "code",
   "execution_count": 1,
   "metadata": {},
   "outputs": [],
   "source": [
    "from data_preparation import DataPreparator\n",
    "from apply_clustering import ClusteringApplier"
   ]
  },
  {
   "cell_type": "code",
   "execution_count": 2,
   "metadata": {},
   "outputs": [],
   "source": [
    "import os.path\n",
    "from itertools import chain, combinations\n",
    "from typing import Dict, List, Tuple\n",
    "\n",
    "import numpy as np\n",
    "import pandas as pd\n",
    "from gapstatistics.gapstatistics import GapStatistics\n",
    "from clustering import AgglomerativeClusteringWrapper as AgglomerativeClustering\n",
    "import matplotlib.pyplot as plt\n",
    "import scipy.cluster.hierarchy as sch\n",
    "from scipy.cluster.hierarchy import dendrogram, linkage\n",
    "from scipy.spatial.distance import squareform\n",
    "from scipy.spatial.distance import jensenshannon, correlation, euclidean\n",
    "from tqdm.contrib.concurrent import thread_map\n",
    "\n",
    "import config"
   ]
  },
  {
   "cell_type": "code",
   "execution_count": 3,
   "metadata": {},
   "outputs": [
    {
     "data": {
      "text/plain": [
       "'exact'"
      ]
     },
     "execution_count": 3,
     "metadata": {},
     "output_type": "execute_result"
    }
   ],
   "source": [
    "config.INFERENCE_MODE_EXPLAINING_FEATURES"
   ]
  },
  {
   "cell_type": "code",
   "execution_count": null,
   "metadata": {},
   "outputs": [],
   "source": [
    "ClusteringApplier.calculate_explainable_distances()"
   ]
  },
  {
   "cell_type": "code",
   "execution_count": 5,
   "metadata": {},
   "outputs": [],
   "source": [
    "df_explainable: pd.DataFrame = ClusteringApplier.read_explaining_features() # removed [list(config.EXPLAINING_FEATURE_NAMES.keys())]\n",
    "df_observable_distances: pd.DataFrame = pd.read_excel(\n",
    "    f\"{config.OUTPUT_FOLDER_BASE}observables/{config.DATASET_NAME}-distance-normalized-matrix-{config.DISTANCE_MEASURE_FINGERPRINT}-{config.NUMBER_OBSERVABLE_PATTERNS}.xlsx\",\n",
    "    index_col=0\n",
    ")\n",
    "features: List[str] = list(config.EXPLAINING_FEATURE_NAMES.keys())"
   ]
  },
  {
   "cell_type": "code",
   "execution_count": 6,
   "metadata": {},
   "outputs": [],
   "source": [
    "#df_explainable#.set_index(df_explainable.columns[0], inplace=True)\n",
    "#df_observable_distances#.set_index(df_observable_distances.columns[0], inplace=True)"
   ]
  },
  {
   "cell_type": "code",
   "execution_count": 7,
   "metadata": {},
   "outputs": [],
   "source": [
    "valid_indices = np.intersect1d(df_explainable.index, df_observable_distances.index)\n",
    "\n",
    "df_explainable = df_explainable.loc[valid_indices]\n",
    "df_observable_distances = df_observable_distances.loc[valid_indices]"
   ]
  },
  {
   "cell_type": "code",
   "execution_count": 8,
   "metadata": {},
   "outputs": [],
   "source": [
    "def calculate_pairwise_distances_alt(\n",
    "        df: pd.DataFrame, feature_names: List[str], distance: str,\n",
    "    ) -> Tuple[pd.DataFrame, pd.DataFrame]:\n",
    "\n",
    "        if distance not in [\n",
    "            \"jensenshannon\",\n",
    "            \"euclidean\",\n",
    "            \"correlation\",\n",
    "        ]:\n",
    "            raise Exception(\n",
    "                \"Invalid distance measure used to measure similarity.\"\n",
    "            )\n",
    "\n",
    "        distance_matrix: np.array = np.zeros((df.shape[0], df.shape[0]))\n",
    "\n",
    "        for grp_i in range(df.shape[0]):\n",
    "            for grp_j in range(df.shape[0]):      \n",
    "                fingerprint_1 = df.iloc[grp_i][feature_names].to_numpy()\n",
    "                fingerprint_2 = df.iloc[grp_j][feature_names].to_numpy()\n",
    "                if distance == \"jensenshannon\":\n",
    "                    dist: float = 1.0 * jensenshannon(fingerprint_1, fingerprint_2)\n",
    "                elif distance == \"correlation\":\n",
    "                    dist = 1.0 * correlation(fingerprint_1, fingerprint_2)\n",
    "                else:\n",
    "                    dist = 1.0 * euclidean(fingerprint_1, fingerprint_2)\n",
    "                distance_matrix[grp_i, grp_j] = dist\n",
    "\n",
    "        normalised_distance_matrix = distance_matrix / np.sum(distance_matrix)\n",
    "\n",
    "        return pd.DataFrame(\n",
    "            distance_matrix, columns=df.index, index=df.index\n",
    "        ), pd.DataFrame(\n",
    "            normalised_distance_matrix, columns=df.index, index=df.index, \n",
    "        )\n",
    "\n",
    "def calculate_pairwise_distances(\n",
    "        df: pd.DataFrame, feature_names: List[str], distance: str,\n",
    "    ) -> Tuple[pd.DataFrame, pd.DataFrame]:\n",
    "\n",
    "        if distance not in [\n",
    "            \"jensenshannon\",\n",
    "            \"euclidean\",\n",
    "            \"correlation\",\n",
    "        ]:\n",
    "            raise Exception(\n",
    "                \"Invalid distance measure used to measure similarity.\"\n",
    "            )\n",
    "\n",
    "        distance_matrix: np.array = np.zeros((df.shape[0], df.shape[0]))\n",
    "        arr = df.loc[:, feature_names].to_numpy()\n",
    "\n",
    "        for grp_i in range(df.shape[0]):\n",
    "            for grp_j in range(df.shape[0]):      \n",
    "                fingerprint_1 = arr[grp_i]\n",
    "                fingerprint_2 = arr[grp_j]\n",
    "                if distance == \"jensenshannon\":\n",
    "                    dist: float = 1.0 * jensenshannon(fingerprint_1, fingerprint_2)\n",
    "                elif distance == \"correlation\":\n",
    "                    dist = 1.0 * correlation(fingerprint_1, fingerprint_2)\n",
    "                else:\n",
    "                    dist = 1.0 * euclidean(fingerprint_1, fingerprint_2)\n",
    "                distance_matrix[grp_i, grp_j] = dist\n",
    "\n",
    "        normalised_distance_matrix = distance_matrix / np.sum(distance_matrix)\n",
    "\n",
    "        return pd.DataFrame(\n",
    "            distance_matrix, columns=df.index, index=df.index\n",
    "        ), pd.DataFrame(\n",
    "            normalised_distance_matrix, columns=df.index, index=df.index, \n",
    "        )\n",
    "\n",
    "def calculate_pairwise_distances2(\n",
    "        df: pd.DataFrame, feature_names: List[str], distance: str,\n",
    "    ) -> Tuple[pd.DataFrame, pd.DataFrame]:\n",
    "\n",
    "        if distance not in [\n",
    "            \"jensenshannon\",\n",
    "            \"euclidean\",\n",
    "            \"correlation\",\n",
    "        ]:\n",
    "            raise Exception(\n",
    "                \"Invalid distance measure used to measure similarity.\"\n",
    "            )\n",
    "\n",
    "        distance_matrix: np.array = np.zeros((df.shape[0], df.shape[0]))\n",
    "        fingerprint_df = df.loc[:, feature_names]\n",
    "        fingerprint_array = fingerprint_df.to_numpy()\n",
    "\n",
    "        if distance == \"jensenshannon\":\n",
    "            dist = lambda u,v: 1.0 * jensenshannon(u,v)\n",
    "        elif distance == \"correlation\":\n",
    "            dist = lambda u,v: 1.0 * correlation(u,v)\n",
    "        else:\n",
    "            dist = lambda u,v: 1.0 * euclidean(u,v) \n",
    "\n",
    "        for i in range(df.shape[0]):\n",
    "            other_fingerprint = fingerprint_array[i]   \n",
    "            distance_matrix[:, i] = np.apply_along_axis(\n",
    "                 func1d=dist, axis=1, arr=fingerprint_array, v=other_fingerprint)\n",
    "\n",
    "        normalised_distance_matrix = distance_matrix / np.sum(distance_matrix)\n",
    "\n",
    "        return pd.DataFrame(\n",
    "            distance_matrix, columns=df.index, index=df.index\n",
    "        ), pd.DataFrame(\n",
    "            normalised_distance_matrix, columns=df.index, index=df.index, \n",
    "        )"
   ]
  },
  {
   "cell_type": "code",
   "execution_count": 9,
   "metadata": {},
   "outputs": [],
   "source": [
    "df = df_explainable"
   ]
  },
  {
   "cell_type": "code",
   "execution_count": 10,
   "metadata": {},
   "outputs": [],
   "source": [
    "import seaborn as sns"
   ]
  },
  {
   "cell_type": "code",
   "execution_count": 11,
   "metadata": {},
   "outputs": [
    {
     "data": {
      "application/vnd.jupyter.widget-view+json": {
       "model_id": "f366829366a04088901c5a6f3c8a87fb",
       "version_major": 2,
       "version_minor": 0
      },
      "text/plain": [
       "  0%|          | 0/1013 [00:00<?, ?it/s]"
      ]
     },
     "metadata": {},
     "output_type": "display_data"
    }
   ],
   "source": [
    "'''optimal_feature_set, maximum_correlation = (\n",
    "    ClusteringApplier._feature_selection_exhaustive(\n",
    "        df_explainable, df_observable_distances, features\n",
    "    )\n",
    ")'''\n",
    "\n",
    "powerset_features = chain.from_iterable(\n",
    "    combinations(features, r) for r in range(2, len(features) + 1)\n",
    ")\n",
    "powerset_method_input = [\n",
    "    [list(feature_set), df_explainable, df_observable_distances, 0.01]\n",
    "    for feature_set in powerset_features\n",
    "]\n",
    "correlation_coefficients: List[float] = thread_map(\n",
    "    ClusteringApplier._get_correlation_coefficient,\n",
    "    powerset_method_input,\n",
    "    max_workers=config.MAX_NUM_THREADS,\n",
    ")"
   ]
  },
  {
   "cell_type": "code",
   "execution_count": 12,
   "metadata": {},
   "outputs": [],
   "source": [
    "maximum_correlation: float = max(correlation_coefficients)\n",
    "optimal_feature_set: List[str] = features\n",
    "current_feature_size = len(features)"
   ]
  },
  {
   "cell_type": "code",
   "execution_count": 13,
   "metadata": {},
   "outputs": [],
   "source": [
    "for index in range(len(correlation_coefficients)):\n",
    "    if correlation_coefficients[index] == maximum_correlation:\n",
    "        current_feature_set = powerset_method_input[index][0]\n",
    "        if len(current_feature_set) < current_feature_size:\n",
    "            current_feature_size = len(current_feature_set)\n",
    "            optimal_feature_set = current_feature_set"
   ]
  },
  {
   "cell_type": "code",
   "execution_count": 14,
   "metadata": {},
   "outputs": [
    {
     "data": {
      "text/plain": [
       "<Axes: ylabel='Count'>"
      ]
     },
     "execution_count": 14,
     "metadata": {},
     "output_type": "execute_result"
    },
    {
     "data": {
      "image/png": "[encoded data removed]",
      "text/plain": [
       "<Figure size 640x480 with 1 Axes>"
      ]
     },
     "metadata": {},
     "output_type": "display_data"
    }
   ],
   "source": [
    "sns.histplot(correlation_coefficients)"
   ]
  },
  {
   "cell_type": "code",
   "execution_count": 15,
   "metadata": {},
   "outputs": [
    {
     "data": {
      "text/plain": [
       "['Age', 'Family_ID', 'Habitat']"
      ]
     },
     "execution_count": 15,
     "metadata": {},
     "output_type": "execute_result"
    }
   ],
   "source": [
    "optimal_feature_set"
   ]
  },
  {
   "cell_type": "code",
   "execution_count": 16,
   "metadata": {},
   "outputs": [
    {
     "data": {
      "text/html": [
       "<div>\n",
       "<style scoped>\n",
       "    .dataframe tbody tr th:only-of-type {\n",
       "        vertical-align: middle;\n",
       "    }\n",
       "\n",
       "    .dataframe tbody tr th {\n",
       "        vertical-align: top;\n",
       "    }\n",
       "\n",
       "    .dataframe thead th {\n",
       "        text-align: right;\n",
       "    }\n",
       "</style>\n",
       "<table border=\"1\" class=\"dataframe\">\n",
       "  <thead>\n",
       "    <tr style=\"text-align: right;\">\n",
       "      <th></th>\n",
       "      <th>Age</th>\n",
       "      <th>Sex</th>\n",
       "      <th>Zoo</th>\n",
       "      <th>Stable</th>\n",
       "      <th>Genus_ID</th>\n",
       "      <th>Family_ID</th>\n",
       "      <th>Order_ID</th>\n",
       "      <th>SH</th>\n",
       "      <th>Weight</th>\n",
       "      <th>Habitat</th>\n",
       "    </tr>\n",
       "    <tr>\n",
       "      <th>Individual</th>\n",
       "      <th></th>\n",
       "      <th></th>\n",
       "      <th></th>\n",
       "      <th></th>\n",
       "      <th></th>\n",
       "      <th></th>\n",
       "      <th></th>\n",
       "      <th></th>\n",
       "      <th></th>\n",
       "      <th></th>\n",
       "    </tr>\n",
       "  </thead>\n",
       "  <tbody>\n",
       "    <tr>\n",
       "      <th>A.nas_01</th>\n",
       "      <td>1.000730</td>\n",
       "      <td>0.001501</td>\n",
       "      <td>0.099460</td>\n",
       "      <td>0.999269</td>\n",
       "      <td>0.172183</td>\n",
       "      <td>0.999459</td>\n",
       "      <td>0.500154</td>\n",
       "      <td>0.600848</td>\n",
       "      <td>0.040306</td>\n",
       "      <td>1.001165</td>\n",
       "    </tr>\n",
       "    <tr>\n",
       "      <th>A.nas_02</th>\n",
       "      <td>1.001608</td>\n",
       "      <td>1.000226</td>\n",
       "      <td>0.100755</td>\n",
       "      <td>0.000490</td>\n",
       "      <td>0.171896</td>\n",
       "      <td>0.999169</td>\n",
       "      <td>0.500748</td>\n",
       "      <td>0.600430</td>\n",
       "      <td>0.039502</td>\n",
       "      <td>0.999833</td>\n",
       "    </tr>\n",
       "    <tr>\n",
       "      <th>A.nas_03</th>\n",
       "      <td>1.000851</td>\n",
       "      <td>0.999164</td>\n",
       "      <td>0.098371</td>\n",
       "      <td>-0.000464</td>\n",
       "      <td>0.169721</td>\n",
       "      <td>0.999885</td>\n",
       "      <td>0.498912</td>\n",
       "      <td>0.599801</td>\n",
       "      <td>0.041419</td>\n",
       "      <td>0.999166</td>\n",
       "    </tr>\n",
       "    <tr>\n",
       "      <th>A.nas_05</th>\n",
       "      <td>1.000215</td>\n",
       "      <td>0.999529</td>\n",
       "      <td>0.449233</td>\n",
       "      <td>1.000237</td>\n",
       "      <td>0.170726</td>\n",
       "      <td>1.000187</td>\n",
       "      <td>0.500767</td>\n",
       "      <td>0.600438</td>\n",
       "      <td>0.042244</td>\n",
       "      <td>1.000613</td>\n",
       "    </tr>\n",
       "    <tr>\n",
       "      <th>A.nas_06</th>\n",
       "      <td>0.999780</td>\n",
       "      <td>0.999604</td>\n",
       "      <td>0.450550</td>\n",
       "      <td>1.000842</td>\n",
       "      <td>0.171279</td>\n",
       "      <td>0.999961</td>\n",
       "      <td>0.498737</td>\n",
       "      <td>0.599024</td>\n",
       "      <td>0.040260</td>\n",
       "      <td>1.001705</td>\n",
       "    </tr>\n",
       "    <tr>\n",
       "      <th>...</th>\n",
       "      <td>...</td>\n",
       "      <td>...</td>\n",
       "      <td>...</td>\n",
       "      <td>...</td>\n",
       "      <td>...</td>\n",
       "      <td>...</td>\n",
       "      <td>...</td>\n",
       "      <td>...</td>\n",
       "      <td>...</td>\n",
       "      <td>...</td>\n",
       "    </tr>\n",
       "    <tr>\n",
       "      <th>T.spe_01</th>\n",
       "      <td>1.000151</td>\n",
       "      <td>0.000775</td>\n",
       "      <td>0.549794</td>\n",
       "      <td>0.999783</td>\n",
       "      <td>0.382952</td>\n",
       "      <td>0.999242</td>\n",
       "      <td>0.501803</td>\n",
       "      <td>0.518251</td>\n",
       "      <td>0.030940</td>\n",
       "      <td>0.000331</td>\n",
       "    </tr>\n",
       "    <tr>\n",
       "      <th>T.str_01</th>\n",
       "      <td>0.998683</td>\n",
       "      <td>-0.000442</td>\n",
       "      <td>0.500039</td>\n",
       "      <td>0.999658</td>\n",
       "      <td>0.383321</td>\n",
       "      <td>0.998920</td>\n",
       "      <td>0.500370</td>\n",
       "      <td>0.792828</td>\n",
       "      <td>0.111803</td>\n",
       "      <td>0.333243</td>\n",
       "    </tr>\n",
       "    <tr>\n",
       "      <th>T.str_02</th>\n",
       "      <td>1.000389</td>\n",
       "      <td>-0.000265</td>\n",
       "      <td>0.599782</td>\n",
       "      <td>0.998316</td>\n",
       "      <td>0.383540</td>\n",
       "      <td>1.000229</td>\n",
       "      <td>0.501271</td>\n",
       "      <td>0.792966</td>\n",
       "      <td>0.108899</td>\n",
       "      <td>0.333259</td>\n",
       "    </tr>\n",
       "    <tr>\n",
       "      <th>T.str_03</th>\n",
       "      <td>1.001115</td>\n",
       "      <td>0.000085</td>\n",
       "      <td>0.400728</td>\n",
       "      <td>0.999518</td>\n",
       "      <td>0.383505</td>\n",
       "      <td>1.000336</td>\n",
       "      <td>0.499723</td>\n",
       "      <td>0.792220</td>\n",
       "      <td>0.111390</td>\n",
       "      <td>0.332068</td>\n",
       "    </tr>\n",
       "    <tr>\n",
       "      <th>T.str_04</th>\n",
       "      <td>1.000106</td>\n",
       "      <td>0.999427</td>\n",
       "      <td>0.398605</td>\n",
       "      <td>0.996741</td>\n",
       "      <td>0.383550</td>\n",
       "      <td>1.000423</td>\n",
       "      <td>0.501386</td>\n",
       "      <td>0.791272</td>\n",
       "      <td>0.110408</td>\n",
       "      <td>0.334108</td>\n",
       "    </tr>\n",
       "  </tbody>\n",
       "</table>\n",
       "<p>93 rows × 10 columns</p>\n",
       "</div>"
      ],
      "text/plain": [
       "                 Age       Sex       Zoo    Stable  Genus_ID  Family_ID  \\\n",
       "Individual                                                                \n",
       "A.nas_01    1.000730  0.001501  0.099460  0.999269  0.172183   0.999459   \n",
       "A.nas_02    1.001608  1.000226  0.100755  0.000490  0.171896   0.999169   \n",
       "A.nas_03    1.000851  0.999164  0.098371 -0.000464  0.169721   0.999885   \n",
       "A.nas_05    1.000215  0.999529  0.449233  1.000237  0.170726   1.000187   \n",
       "A.nas_06    0.999780  0.999604  0.450550  1.000842  0.171279   0.999961   \n",
       "...              ...       ...       ...       ...       ...        ...   \n",
       "T.spe_01    1.000151  0.000775  0.549794  0.999783  0.382952   0.999242   \n",
       "T.str_01    0.998683 -0.000442  0.500039  0.999658  0.383321   0.998920   \n",
       "T.str_02    1.000389 -0.000265  0.599782  0.998316  0.383540   1.000229   \n",
       "T.str_03    1.001115  0.000085  0.400728  0.999518  0.383505   1.000336   \n",
       "T.str_04    1.000106  0.999427  0.398605  0.996741  0.383550   1.000423   \n",
       "\n",
       "            Order_ID        SH    Weight   Habitat  \n",
       "Individual                                          \n",
       "A.nas_01    0.500154  0.600848  0.040306  1.001165  \n",
       "A.nas_02    0.500748  0.600430  0.039502  0.999833  \n",
       "A.nas_03    0.498912  0.599801  0.041419  0.999166  \n",
       "A.nas_05    0.500767  0.600438  0.042244  1.000613  \n",
       "A.nas_06    0.498737  0.599024  0.040260  1.001705  \n",
       "...              ...       ...       ...       ...  \n",
       "T.spe_01    0.501803  0.518251  0.030940  0.000331  \n",
       "T.str_01    0.500370  0.792828  0.111803  0.333243  \n",
       "T.str_02    0.501271  0.792966  0.108899  0.333259  \n",
       "T.str_03    0.499723  0.792220  0.111390  0.332068  \n",
       "T.str_04    0.501386  0.791272  0.110408  0.334108  \n",
       "\n",
       "[93 rows x 10 columns]"
      ]
     },
     "execution_count": 16,
     "metadata": {},
     "output_type": "execute_result"
    }
   ],
   "source": [
    "# Def 5.\n",
    "\n",
    "df_explainable"
   ]
  },
  {
   "cell_type": "code",
   "execution_count": 17,
   "metadata": {},
   "outputs": [
    {
     "data": {
      "text/html": [
       "<div>\n",
       "<style scoped>\n",
       "    .dataframe tbody tr th:only-of-type {\n",
       "        vertical-align: middle;\n",
       "    }\n",
       "\n",
       "    .dataframe tbody tr th {\n",
       "        vertical-align: top;\n",
       "    }\n",
       "\n",
       "    .dataframe thead th {\n",
       "        text-align: right;\n",
       "    }\n",
       "</style>\n",
       "<table border=\"1\" class=\"dataframe\">\n",
       "  <thead>\n",
       "    <tr style=\"text-align: right;\">\n",
       "      <th></th>\n",
       "      <th>num_lhd</th>\n",
       "      <th>num_lying</th>\n",
       "      <th>perc_lhd</th>\n",
       "      <th>perc_lying</th>\n",
       "    </tr>\n",
       "    <tr>\n",
       "      <th>Individual</th>\n",
       "      <th></th>\n",
       "      <th></th>\n",
       "      <th></th>\n",
       "      <th></th>\n",
       "    </tr>\n",
       "  </thead>\n",
       "  <tbody>\n",
       "    <tr>\n",
       "      <th>A.nas_01</th>\n",
       "      <td>0.369321</td>\n",
       "      <td>0.372850</td>\n",
       "      <td>0.202483</td>\n",
       "      <td>0.791491</td>\n",
       "    </tr>\n",
       "    <tr>\n",
       "      <th>A.nas_02</th>\n",
       "      <td>0.322934</td>\n",
       "      <td>0.471906</td>\n",
       "      <td>0.149264</td>\n",
       "      <td>0.803862</td>\n",
       "    </tr>\n",
       "    <tr>\n",
       "      <th>A.nas_03</th>\n",
       "      <td>0.429548</td>\n",
       "      <td>0.393581</td>\n",
       "      <td>0.254480</td>\n",
       "      <td>0.920266</td>\n",
       "    </tr>\n",
       "    <tr>\n",
       "      <th>A.nas_05</th>\n",
       "      <td>0.362020</td>\n",
       "      <td>0.363299</td>\n",
       "      <td>0.162506</td>\n",
       "      <td>0.870549</td>\n",
       "    </tr>\n",
       "    <tr>\n",
       "      <th>A.nas_06</th>\n",
       "      <td>0.197584</td>\n",
       "      <td>0.402623</td>\n",
       "      <td>0.096414</td>\n",
       "      <td>0.883670</td>\n",
       "    </tr>\n",
       "    <tr>\n",
       "      <th>...</th>\n",
       "      <td>...</td>\n",
       "      <td>...</td>\n",
       "      <td>...</td>\n",
       "      <td>...</td>\n",
       "    </tr>\n",
       "    <tr>\n",
       "      <th>T.spe_01</th>\n",
       "      <td>0.321759</td>\n",
       "      <td>0.351015</td>\n",
       "      <td>0.131524</td>\n",
       "      <td>0.649099</td>\n",
       "    </tr>\n",
       "    <tr>\n",
       "      <th>T.str_01</th>\n",
       "      <td>0.223678</td>\n",
       "      <td>0.534218</td>\n",
       "      <td>0.194165</td>\n",
       "      <td>0.741532</td>\n",
       "    </tr>\n",
       "    <tr>\n",
       "      <th>T.str_02</th>\n",
       "      <td>0.180381</td>\n",
       "      <td>0.443033</td>\n",
       "      <td>0.064563</td>\n",
       "      <td>0.698789</td>\n",
       "    </tr>\n",
       "    <tr>\n",
       "      <th>T.str_03</th>\n",
       "      <td>0.213253</td>\n",
       "      <td>0.489583</td>\n",
       "      <td>0.100954</td>\n",
       "      <td>0.687983</td>\n",
       "    </tr>\n",
       "    <tr>\n",
       "      <th>T.str_04</th>\n",
       "      <td>0.183624</td>\n",
       "      <td>0.550722</td>\n",
       "      <td>0.078941</td>\n",
       "      <td>0.557225</td>\n",
       "    </tr>\n",
       "  </tbody>\n",
       "</table>\n",
       "<p>93 rows × 4 columns</p>\n",
       "</div>"
      ],
      "text/plain": [
       "             num_lhd  num_lying  perc_lhd  perc_lying\n",
       "Individual                                           \n",
       "A.nas_01    0.369321   0.372850  0.202483    0.791491\n",
       "A.nas_02    0.322934   0.471906  0.149264    0.803862\n",
       "A.nas_03    0.429548   0.393581  0.254480    0.920266\n",
       "A.nas_05    0.362020   0.363299  0.162506    0.870549\n",
       "A.nas_06    0.197584   0.402623  0.096414    0.883670\n",
       "...              ...        ...       ...         ...\n",
       "T.spe_01    0.321759   0.351015  0.131524    0.649099\n",
       "T.str_01    0.223678   0.534218  0.194165    0.741532\n",
       "T.str_02    0.180381   0.443033  0.064563    0.698789\n",
       "T.str_03    0.213253   0.489583  0.100954    0.687983\n",
       "T.str_04    0.183624   0.550722  0.078941    0.557225\n",
       "\n",
       "[93 rows x 4 columns]"
      ]
     },
     "execution_count": 17,
     "metadata": {},
     "output_type": "execute_result"
    }
   ],
   "source": [
    "df_observable: pd.DataFrame = ClusteringApplier._read_observable_data(\n",
    "    read_only_feature_col=True\n",
    ")\n",
    "df_observable.reset_index().groupby('Individual').mean()"
   ]
  },
  {
   "cell_type": "code",
   "execution_count": 18,
   "metadata": {},
   "outputs": [
    {
     "data": {
      "text/plain": [
       "['Age', 'Family_ID', 'Habitat']"
      ]
     },
     "execution_count": 18,
     "metadata": {},
     "output_type": "execute_result"
    }
   ],
   "source": [
    "optimal_feature_set"
   ]
  },
  {
   "cell_type": "code",
   "execution_count": 75,
   "metadata": {},
   "outputs": [],
   "source": [
    "from sklearn.linear_model import LinearRegression\n",
    "from sklearn.metrics import explained_variance_score\n",
    "from numpy.random import permutation\n",
    "from collections import defaultdict"
   ]
  },
  {
   "cell_type": "code",
   "execution_count": 219,
   "metadata": {},
   "outputs": [
    {
     "data": {
      "text/plain": [
       "array(['Age', 'Zoo', 'Family_ID', 'Order_ID'], dtype='<U9')"
      ]
     },
     "execution_count": 219,
     "metadata": {},
     "output_type": "execute_result"
    }
   ],
   "source": [
    "my_feature_set = optimal_feature_set#['Zoo', 'Genus_ID', 'Family_ID', 'Order_ID', 'SH']\n",
    "my_feature_set = np.array(my_feature_set)\n",
    "my_feature_set"
   ]
  },
  {
   "cell_type": "code",
   "execution_count": 220,
   "metadata": {},
   "outputs": [],
   "source": [
    "y = df_observable.reset_index().groupby('Individual').mean().to_numpy()"
   ]
  },
  {
   "cell_type": "code",
   "execution_count": 221,
   "metadata": {},
   "outputs": [],
   "source": [
    "obs_df = df_observable.reset_index()\n",
    "idx = obs_df.index"
   ]
  },
  {
   "cell_type": "code",
   "execution_count": 222,
   "metadata": {},
   "outputs": [],
   "source": [
    "get_y = lambda: obs_df.loc[permutation(idx)].drop_duplicates(subset=[config.GROUP_NAME], keep='first').set_index(config.GROUP_NAME).loc[df_explainable.index].to_numpy()"
   ]
  },
  {
   "cell_type": "code",
   "execution_count": 223,
   "metadata": {},
   "outputs": [],
   "source": [
    "K = 100"
   ]
  },
  {
   "cell_type": "code",
   "execution_count": 225,
   "metadata": {},
   "outputs": [],
   "source": [
    "model = LinearRegression()\n",
    "X = df_explainable.loc[:, my_feature_set].to_numpy()\n",
    "model.fit(X,y)\n",
    "y_pred = model.predict(X)\n",
    "R2 = explained_variance_score(y_true=y, y_pred=y_pred)"
   ]
  },
  {
   "cell_type": "code",
   "execution_count": 226,
   "metadata": {},
   "outputs": [],
   "source": [
    "feature_importances = defaultdict(lambda: 0.)\n",
    "for col_i in range(X.shape[1]):\n",
    "    for k in range(K):\n",
    "        permuted_X = X.copy()\n",
    "        permuted_X[:, col_i] = permutation(permuted_X[:, col_i])\n",
    "        y = get_y()\n",
    "        model.fit(X,y)\n",
    "        R2 = explained_variance_score(y_true=y, y_pred=model.predict(X))\n",
    "        y_pred = model.predict(permuted_X)\n",
    "        feature_importances[my_feature_set[col_i]] += (R2 - explained_variance_score(y_true=y, y_pred=y_pred))/K\n",
    "\n",
    "for col_i in range(X.shape[1]):\n",
    "    #feature_importances[my_feature_set[col_i]] = #R2 - (feature_importances[my_feature_set[col_i]]/K)\n",
    "    pass\n",
    "\n",
    "adj_sum = sum(feature_importances.values())\n",
    "for key, val in feature_importances.items():\n",
    "    feature_importances[key] = val / adj_sum\n",
    "\n",
    "assert np.isclose(sum(feature_importances.values()), 1)"
   ]
  },
  {
   "cell_type": "code",
   "execution_count": 227,
   "metadata": {},
   "outputs": [
    {
     "data": {
      "text/plain": [
       "<Axes: >"
      ]
     },
     "execution_count": 227,
     "metadata": {},
     "output_type": "execute_result"
    },
    {
     "data": {
      "image/png": "[encoded data removed]",
      "text/plain": [
       "<Figure size 1000x500 with 1 Axes>"
      ]
     },
     "metadata": {},
     "output_type": "display_data"
    }
   ],
   "source": [
    "plt.figure(figsize=(10, 5))\n",
    "sns.barplot(feature_importances)"
   ]
  },
  {
   "cell_type": "code",
   "execution_count": 237,
   "metadata": {},
   "outputs": [
    {
     "data": {
      "text/plain": [
       "[array([0]),\n",
       " array([1]),\n",
       " array([2]),\n",
       " array([3]),\n",
       " array([0, 1]),\n",
       " array([0, 2]),\n",
       " array([0, 3]),\n",
       " array([1, 2]),\n",
       " array([1, 3]),\n",
       " array([2, 3]),\n",
       " array([0, 1, 2]),\n",
       " array([0, 1, 3]),\n",
       " array([0, 2, 3]),\n",
       " array([1, 2, 3]),\n",
       " array([0, 1, 2, 3])]"
      ]
     },
     "execution_count": 237,
     "metadata": {},
     "output_type": "execute_result"
    }
   ],
   "source": [
    "feature_combinations = []\n",
    "([[feature_combinations.append(np.array(c)) for c in combinations(np.arange(len(my_feature_set)), i)] for i in range(1, len(my_feature_set)+1)])\n",
    "feature_combinations"
   ]
  },
  {
   "cell_type": "code",
   "execution_count": 238,
   "metadata": {},
   "outputs": [],
   "source": [
    "_, df_explainable_distances = ClusteringApplier.calculate_pairwise_distances(\n",
    "    df_explainable.loc[:, my_feature_set], my_feature_set, config.DISTANCE_MEASURE_EXPLAINABLE_FEATURES,\n",
    ")\n",
    "\n",
    "X = df_explainable.loc[:, my_feature_set].to_numpy()\n",
    "y = df_explainable_distances.to_numpy()"
   ]
  },
  {
   "cell_type": "code",
   "execution_count": 281,
   "metadata": {},
   "outputs": [],
   "source": [
    "# Def. 4: Higher-order permutation-based feature importance\n",
    "\n",
    "model = LinearRegression()\n",
    "model.fit(X,y)\n",
    "y_pred = model.predict(X)\n",
    "R2 = explained_variance_score(y_true=y, y_pred=y_pred)\n",
    "feature_importances = defaultdict(lambda: 0.)\n",
    "\n",
    "i = 0\n",
    "for cols in feature_combinations:\n",
    "    for k in range(K):\n",
    "        permuted_X = X.copy()\n",
    "        for col_i in cols:\n",
    "            permuted_X[:, col_i] = permutation(permuted_X[:, col_i])\n",
    "        y_pred = model.predict(permuted_X)\n",
    "        feature_importances[i] += explained_variance_score(y_true=y, y_pred=y_pred)\n",
    "    i += 1\n",
    "\n",
    "i = 0\n",
    "for cols in feature_combinations:\n",
    "    feature_importances[i] = max(0, R2 - (feature_importances[i]/K))\n",
    "    i += 1\n",
    "    \n",
    "\n",
    "adj_sum = sum(feature_importances.values())\n",
    "for key, val in feature_importances.items():\n",
    "    feature_importances[key] = val / adj_sum\n",
    "\n",
    "assert np.isclose(sum(feature_importances.values()), 1)"
   ]
  },
  {
   "cell_type": "code",
   "execution_count": 284,
   "metadata": {},
   "outputs": [],
   "source": [
    "def human_readable(_dict: dict) -> dict:\n",
    "    return {str([str(a) for a in my_feature_set[feature_combinations[k]]]):v for k, v in _dict.items()}"
   ]
  },
  {
   "cell_type": "code",
   "execution_count": 285,
   "metadata": {},
   "outputs": [
    {
     "data": {
      "image/png": "[encoded data removed]",
      "text/plain": [
       "<Figure size 1000x500 with 1 Axes>"
      ]
     },
     "metadata": {},
     "output_type": "display_data"
    }
   ],
   "source": [
    "human_readable_dict = human_readable(feature_importances)\n",
    "plt.figure(figsize=(10, 5))\n",
    "ax = sns.barplot(human_readable_dict)\n",
    "ax.axes.xaxis.set_tick_params(rotation=90)"
   ]
  },
  {
   "cell_type": "code",
   "execution_count": 286,
   "metadata": {},
   "outputs": [],
   "source": [
    "# Idee:\n",
    "# Wir vergleichen die Feature-Importances mit der Summe ihrer Teile"
   ]
  },
  {
   "cell_type": "code",
   "execution_count": 287,
   "metadata": {},
   "outputs": [],
   "source": [
    "revised_feature_importances = defaultdict(lambda: 0)\n",
    "\n",
    "i = 0\n",
    "for cols in feature_combinations:\n",
    "           \n",
    "    a = feature_importances[i]\n",
    "    b = sum([feature_importances[j] for j in cols])\n",
    "    revised_feature_importances[i] += a/b-1\n",
    "\n",
    "    i += 1"
   ]
  },
  {
   "cell_type": "code",
   "execution_count": 288,
   "metadata": {},
   "outputs": [
    {
     "data": {
      "image/png": "[encoded data removed]",
      "text/plain": [
       "<Figure size 1000x500 with 1 Axes>"
      ]
     },
     "metadata": {},
     "output_type": "display_data"
    }
   ],
   "source": [
    "plt.figure(figsize=(10, 5))\n",
    "ax = sns.barplot(human_readable(revised_feature_importances))\n",
    "ax.axes.xaxis.set_tick_params(rotation=90)"
   ]
  },
  {
   "cell_type": "code",
   "execution_count": 31,
   "metadata": {},
   "outputs": [
    {
     "data": {
      "text/plain": [
       "Ellipsis"
      ]
     },
     "execution_count": 31,
     "metadata": {},
     "output_type": "execute_result"
    }
   ],
   "source": [
    "..."
   ]
  }
 ],
 "metadata": {
  "kernelspec": {
   "display_name": "Python 3",
   "language": "python",
   "name": "python3"
  },
  "language_info": {
   "codemirror_mode": {
    "name": "ipython",
    "version": 3
   },
   "file_extension": ".py",
   "mimetype": "text/x-python",
   "name": "python",
   "nbconvert_exporter": "python",
   "pygments_lexer": "ipython3",
   "version": "3.12.3"
  }
 },
 "nbformat": 4,
 "nbformat_minor": 2
}
