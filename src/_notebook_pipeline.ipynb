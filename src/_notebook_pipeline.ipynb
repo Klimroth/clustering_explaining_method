{
 "cells": [
  {
   "cell_type": "code",
   "execution_count": 1,
   "metadata": {},
   "outputs": [],
   "source": [
    "from data_preparation import DataPreparator\n",
    "from apply_clustering import ClusteringApplier"
   ]
  },
  {
   "cell_type": "code",
   "execution_count": 2,
   "metadata": {},
   "outputs": [],
   "source": [
    "import pandas as pd\n",
    "import numpy as np"
   ]
  },
  {
   "cell_type": "code",
   "execution_count": 3,
   "metadata": {},
   "outputs": [],
   "source": [
    "# Run this to make sure the \"normal way\" still works\n",
    "VALIDATE_THE_OTHER_WAY = False\n",
    "\n",
    "if VALIDATE_THE_OTHER_WAY:\n",
    "    DataPreparator.prepare_data()\n",
    "    optimal_number_of_clusters = ClusteringApplier.draw_gap_statistic_plot()\n",
    "    ClusteringApplier.calculate_observable_patterns(_n_clusters=optimal_number_of_clusters)\n",
    "    ClusteringApplier.calculate_explainable_distances()"
   ]
  },
  {
   "cell_type": "code",
   "execution_count": 4,
   "metadata": {},
   "outputs": [],
   "source": [
    "df_observable = pd.read_excel('../data/biological_set_raw_data.xlsx')\n",
    "df_explainable = pd.read_excel('../data/biological_set_explaining_features.xlsx')"
   ]
  },
  {
   "cell_type": "code",
   "execution_count": 5,
   "metadata": {},
   "outputs": [],
   "source": [
    "observed_features = ['perc_lying', 'perc_lhd', 'num_lying', 'num_lhd']\n",
    "explaining_features = ['Age', 'Sex', 'Zoo', 'Stable', 'Genus_ID', 'Family_ID','Order_ID', 'SH', 'Weight', 'Habitat']\n",
    "index_name = 'Individual'"
   ]
  },
  {
   "cell_type": "code",
   "execution_count": 6,
   "metadata": {},
   "outputs": [],
   "source": [
    "preparation_result = DataPreparator.prepare_data(\n",
    "    use_config=False,\n",
    "    df_observable=df_observable,\n",
    "    df_explainable=df_explainable,\n",
    "    distortion_mean=0.,\n",
    "    distortion_std=0.001,\n",
    "    observed_features=observed_features,\n",
    "    explaining_features=explaining_features,\n",
    "    nn_imputation_k=10,\n",
    "    group_name=index_name\n",
    ")"
   ]
  },
  {
   "cell_type": "code",
   "execution_count": 7,
   "metadata": {},
   "outputs": [],
   "source": [
    "optimal_number_of_clusters = ClusteringApplier.draw_gap_statistic_plot(\n",
    "    use_config=False, df_observable=preparation_result['observable_df'],\n",
    "    observed_features=observed_features,\n",
    "    gap_statistic_cluster_range=10,\n",
    "    plot=False\n",
    ")"
   ]
  },
  {
   "cell_type": "code",
   "execution_count": 12,
   "metadata": {},
   "outputs": [
    {
     "data": {
      "text/plain": [
       "{'n_clusters': 9,\n",
       " 'knee': np.int64(2),\n",
       " 'elbow': np.int64(2),\n",
       " 'clusterer': OptimalK(n_jobs=16, parallel_backend=\"joblib\")}"
      ]
     },
     "execution_count": 12,
     "metadata": {},
     "output_type": "execute_result"
    }
   ],
   "source": [
    "optimal_number_of_clusters"
   ]
  },
  {
   "cell_type": "code",
   "execution_count": 8,
   "metadata": {},
   "outputs": [],
   "source": [
    "observable_patterns_result = ClusteringApplier.calculate_observable_patterns(\n",
    "    use_config=False,\n",
    "    df_observable_data=preparation_result['observable_df'],\n",
    "    _n_clusters=optimal_number_of_clusters['n_clusters'],\n",
    "    observable_name='observable_name',\n",
    "    observable_feature_names=observed_features,\n",
    "    plot_title='Name of the plot',\n",
    "    number_observable_patterns='auto',\n",
    "    distance_measure_fingerprint='jensenshannon',\n",
    "    group_name=index_name, \n",
    "    plot=False\n",
    ")"
   ]
  },
  {
   "cell_type": "code",
   "execution_count": 13,
   "metadata": {},
   "outputs": [
    {
     "data": {
      "text/plain": [
       "{'df_cluster_median':               perc_lying  perc_lhd  num_lying   num_lhd\n",
       " pattern_type                                           \n",
       " 0               0.875073  0.185037   0.288052  0.364512\n",
       " 1               0.733653  0.081344   0.356601  0.170481\n",
       " 2               0.730759  0.144472   0.357078  0.317669\n",
       " 3               0.621874  0.064722   0.429953  0.147196\n",
       " 4               0.796103  0.201119   0.500393  0.366297\n",
       " 5               0.453920  0.050946   0.214465  0.100429\n",
       " 6               0.743415  0.116725   0.572055  0.219659\n",
       " 7               0.826574  0.120236   0.428893  0.220934\n",
       " 8               0.839516  0.280441   0.429165  0.584441,\n",
       " 'df_observable_data':      Individual        date  perc_lying  perc_lhd  num_lying   num_lhd  \\\n",
       " 0      A.nas_01  2020-03-04    0.682063  0.278473   0.214550  0.294069   \n",
       " 1      A.nas_01  2020-03-05    0.554511  0.278341   0.284784  0.245253   \n",
       " 2      A.nas_01  2020-03-06    0.666260  0.237656   0.285209  0.560183   \n",
       " 3      A.nas_01  2020-03-07    0.755971  0.167217   0.426093  0.341323   \n",
       " 4      A.nas_01  2020-03-08    0.809212  0.178715   0.358513  0.291889   \n",
       " ...         ...         ...         ...       ...        ...       ...   \n",
       " 4528   K.ell_04  2019-11-13    0.529170  0.042723   0.286213  0.145724   \n",
       " 4529   K.ell_04  2019-11-14    0.768816  0.182658   0.357632  0.317457   \n",
       " 4530   K.ell_04  2019-11-15    0.718934  0.175003   0.287099  0.316228   \n",
       " 4531   K.ell_04  2019-11-16    0.724391  0.142460   0.354774  0.269599   \n",
       " 4532   K.ell_04  2019-11-17    0.734114  0.129573   0.357057  0.269375   \n",
       " \n",
       "       oversampled  pattern_type  \n",
       " 0           False             2  \n",
       " 1           False             2  \n",
       " 2           False             8  \n",
       " 3           False             2  \n",
       " 4           False             2  \n",
       " ...           ...           ...  \n",
       " 4528        False             5  \n",
       " 4529        False             2  \n",
       " 4530        False             2  \n",
       " 4531        False             2  \n",
       " 4532        False             2  \n",
       " \n",
       " [4533 rows x 8 columns],\n",
       " 'df_fingerprint':                    0         1         2         3         4         5  \\\n",
       " Individual                                                               \n",
       " A.nas_01    0.435484  0.064516  0.225806  0.000000  0.096774  0.000000   \n",
       " A.nas_02    0.112903  0.032258  0.016129  0.064516  0.241935  0.032258   \n",
       " A.nas_03    0.650794  0.000000  0.000000  0.000000  0.174603  0.000000   \n",
       " A.nas_05    0.727273  0.000000  0.000000  0.000000  0.000000  0.000000   \n",
       " A.nas_06    0.085714  0.085714  0.000000  0.028571  0.028571  0.000000   \n",
       " ...              ...       ...       ...       ...       ...       ...   \n",
       " T.spe_01    0.041667  0.166667  0.625000  0.125000  0.000000  0.000000   \n",
       " T.str_01    0.011628  0.023256  0.034884  0.011628  0.209302  0.000000   \n",
       " T.str_02    0.000000  0.411765  0.029412  0.294118  0.000000  0.000000   \n",
       " T.str_03    0.000000  0.235294  0.000000  0.264706  0.029412  0.000000   \n",
       " T.str_04    0.000000  0.029412  0.029412  0.382353  0.029412  0.058824   \n",
       " \n",
       "                    6         7         8  \n",
       " Individual                                \n",
       " A.nas_01    0.000000  0.096774  0.080645  \n",
       " A.nas_02    0.096774  0.290323  0.112903  \n",
       " A.nas_03    0.047619  0.000000  0.126984  \n",
       " A.nas_05    0.000000  0.181818  0.090909  \n",
       " A.nas_06    0.000000  0.771429  0.000000  \n",
       " ...              ...       ...       ...  \n",
       " T.spe_01    0.041667  0.000000  0.000000  \n",
       " T.str_01    0.616279  0.093023  0.000000  \n",
       " T.str_02    0.058824  0.205882  0.000000  \n",
       " T.str_03    0.264706  0.205882  0.000000  \n",
       " T.str_04    0.470588  0.000000  0.000000  \n",
       " \n",
       " [90 rows x 9 columns],\n",
       " 'pw_dist': Individual  A.nas_01  A.nas_02  A.nas_03  A.nas_05  A.nas_06  A.nas_07  \\\n",
       " Individual                                                               \n",
       " A.nas_01    0.000000  0.466282  0.411908  0.399261  0.583060  0.385159   \n",
       " A.nas_02    0.466282  0.000000  0.512680  0.547709  0.452645  0.377106   \n",
       " A.nas_03    0.411908  0.512680  0.000000  0.377613  0.720729  0.239472   \n",
       " A.nas_05    0.399261  0.547709  0.377613  0.000000  0.569179  0.383762   \n",
       " A.nas_06    0.583060  0.452645  0.720729  0.569179  0.000000  0.627865   \n",
       " ...              ...       ...       ...       ...       ...       ...   \n",
       " T.spe_01    0.554857  0.680622  0.763908  0.782402  0.731530  0.774865   \n",
       " T.str_01    0.654423  0.468166  0.667791  0.758479  0.666136  0.621202   \n",
       " T.str_02    0.676948  0.562206  0.810279  0.747766  0.528211  0.759756   \n",
       " T.str_03    0.697131  0.492489  0.764459  0.747766  0.530575  0.714569   \n",
       " T.str_04    0.764263  0.599191  0.756014  0.832555  0.767125  0.768773   \n",
       " \n",
       " Individual  A.nas_08  C.tau_01  C.tau_02  C.tau_03  ...  T.ory_20  T.ory_21  \\\n",
       " Individual                                          ...                       \n",
       " A.nas_01    0.624894  0.371130  0.312601  0.750818  ...  0.533098  0.503986   \n",
       " A.nas_02    0.659884  0.383118  0.634706  0.601581  ...  0.485043  0.588834   \n",
       " A.nas_03    0.780190  0.616892  0.467910  0.775149  ...  0.728366  0.767816   \n",
       " A.nas_05    0.740574  0.585774  0.373139  0.767762  ...  0.681513  0.671096   \n",
       " A.nas_06    0.617164  0.444317  0.638019  0.687618  ...  0.563247  0.496010   \n",
       " ...              ...       ...       ...       ...  ...       ...       ...   \n",
       " T.spe_01    0.570366  0.439407  0.592009  0.715988  ...  0.372594  0.445087   \n",
       " T.str_01    0.690818  0.510010  0.741317  0.294953  ...  0.504206  0.688116   \n",
       " T.str_02    0.401470  0.498065  0.677879  0.623270  ...  0.430006  0.379436   \n",
       " T.str_03    0.529692  0.491000  0.724527  0.465092  ...  0.413495  0.521505   \n",
       " T.str_04    0.739681  0.619553  0.786790  0.449065  ...  0.467399  0.733422   \n",
       " \n",
       " Individual  T.ory_22  T.ory_24  T.ory_25  T.spe_01  T.str_01  T.str_02  \\\n",
       " Individual                                                               \n",
       " A.nas_01    0.391568  0.705113  0.489512  0.554857  0.654423  0.676948   \n",
       " A.nas_02    0.381533  0.690254  0.506882  0.680622  0.468166  0.562206   \n",
       " A.nas_03    0.460731  0.661240  0.412242  0.763908  0.667791  0.810279   \n",
       " A.nas_05    0.408938  0.690759  0.583771  0.782402  0.758479  0.747766   \n",
       " A.nas_06    0.376782  0.813028  0.750644  0.731530  0.666136  0.528211   \n",
       " ...              ...       ...       ...       ...       ...       ...   \n",
       " T.spe_01    0.718263  0.818180  0.761553  0.000000  0.691433  0.545617   \n",
       " T.str_01    0.594114  0.825262  0.697503  0.691433  0.000000  0.639036   \n",
       " T.str_02    0.604042  0.832555  0.820220  0.545617  0.639036  0.000000   \n",
       " T.str_03    0.578130  0.832555  0.803331  0.611238  0.472721  0.261510   \n",
       " T.str_04    0.758024  0.832555  0.790540  0.614690  0.458654  0.542985   \n",
       " \n",
       " Individual  T.str_03  T.str_04  \n",
       " Individual                      \n",
       " A.nas_01    0.697131  0.764263  \n",
       " A.nas_02    0.492489  0.599191  \n",
       " A.nas_03    0.764459  0.756014  \n",
       " A.nas_05    0.747766  0.832555  \n",
       " A.nas_06    0.530575  0.767125  \n",
       " ...              ...       ...  \n",
       " T.spe_01    0.611238  0.614690  \n",
       " T.str_01    0.472721  0.458654  \n",
       " T.str_02    0.261510  0.542985  \n",
       " T.str_03    0.000000  0.409253  \n",
       " T.str_04    0.409253  0.000000  \n",
       " \n",
       " [90 rows x 90 columns],\n",
       " 'pw_norm_dist': Individual  A.nas_01  A.nas_02  A.nas_03  A.nas_05  A.nas_06  A.nas_07  \\\n",
       " Individual                                                               \n",
       " A.nas_01    0.000000  0.000099  0.000088  0.000085  0.000124  0.000082   \n",
       " A.nas_02    0.000099  0.000000  0.000109  0.000116  0.000096  0.000080   \n",
       " A.nas_03    0.000088  0.000109  0.000000  0.000080  0.000153  0.000051   \n",
       " A.nas_05    0.000085  0.000116  0.000080  0.000000  0.000121  0.000082   \n",
       " A.nas_06    0.000124  0.000096  0.000153  0.000121  0.000000  0.000133   \n",
       " ...              ...       ...       ...       ...       ...       ...   \n",
       " T.spe_01    0.000118  0.000145  0.000162  0.000166  0.000155  0.000165   \n",
       " T.str_01    0.000139  0.000099  0.000142  0.000161  0.000142  0.000132   \n",
       " T.str_02    0.000144  0.000119  0.000172  0.000159  0.000112  0.000161   \n",
       " T.str_03    0.000148  0.000105  0.000162  0.000159  0.000113  0.000152   \n",
       " T.str_04    0.000162  0.000127  0.000161  0.000177  0.000163  0.000163   \n",
       " \n",
       " Individual  A.nas_08  C.tau_01  C.tau_02  C.tau_03  ...  T.ory_20  T.ory_21  \\\n",
       " Individual                                          ...                       \n",
       " A.nas_01    0.000133  0.000079  0.000066  0.000160  ...  0.000113  0.000107   \n",
       " A.nas_02    0.000140  0.000081  0.000135  0.000128  ...  0.000103  0.000125   \n",
       " A.nas_03    0.000166  0.000131  0.000099  0.000165  ...  0.000155  0.000163   \n",
       " A.nas_05    0.000157  0.000124  0.000079  0.000163  ...  0.000145  0.000143   \n",
       " A.nas_06    0.000131  0.000094  0.000136  0.000146  ...  0.000120  0.000105   \n",
       " ...              ...       ...       ...       ...  ...       ...       ...   \n",
       " T.spe_01    0.000121  0.000093  0.000126  0.000152  ...  0.000079  0.000095   \n",
       " T.str_01    0.000147  0.000108  0.000158  0.000063  ...  0.000107  0.000146   \n",
       " T.str_02    0.000085  0.000106  0.000144  0.000132  ...  0.000091  0.000081   \n",
       " T.str_03    0.000113  0.000104  0.000154  0.000099  ...  0.000088  0.000111   \n",
       " T.str_04    0.000157  0.000132  0.000167  0.000095  ...  0.000099  0.000156   \n",
       " \n",
       " Individual  T.ory_22  T.ory_24  T.ory_25  T.spe_01  T.str_01  T.str_02  \\\n",
       " Individual                                                               \n",
       " A.nas_01    0.000083  0.000150  0.000104  0.000118  0.000139  0.000144   \n",
       " A.nas_02    0.000081  0.000147  0.000108  0.000145  0.000099  0.000119   \n",
       " A.nas_03    0.000098  0.000141  0.000088  0.000162  0.000142  0.000172   \n",
       " A.nas_05    0.000087  0.000147  0.000124  0.000166  0.000161  0.000159   \n",
       " A.nas_06    0.000080  0.000173  0.000160  0.000155  0.000142  0.000112   \n",
       " ...              ...       ...       ...       ...       ...       ...   \n",
       " T.spe_01    0.000153  0.000174  0.000162  0.000000  0.000147  0.000116   \n",
       " T.str_01    0.000126  0.000175  0.000148  0.000147  0.000000  0.000136   \n",
       " T.str_02    0.000128  0.000177  0.000174  0.000116  0.000136  0.000000   \n",
       " T.str_03    0.000123  0.000177  0.000171  0.000130  0.000100  0.000056   \n",
       " T.str_04    0.000161  0.000177  0.000168  0.000131  0.000097  0.000115   \n",
       " \n",
       " Individual  T.str_03  T.str_04  \n",
       " Individual                      \n",
       " A.nas_01    0.000148  0.000162  \n",
       " A.nas_02    0.000105  0.000127  \n",
       " A.nas_03    0.000162  0.000161  \n",
       " A.nas_05    0.000159  0.000177  \n",
       " A.nas_06    0.000113  0.000163  \n",
       " ...              ...       ...  \n",
       " T.spe_01    0.000130  0.000131  \n",
       " T.str_01    0.000100  0.000097  \n",
       " T.str_02    0.000056  0.000115  \n",
       " T.str_03    0.000000  0.000087  \n",
       " T.str_04    0.000087  0.000000  \n",
       " \n",
       " [90 rows x 90 columns],\n",
       " 'spider_plots': None,\n",
       " 'fingerprint_distance_plots': None,\n",
       " 'clusterer': AgglomerativeClustering(compute_distances=True, n_clusters=9),\n",
       " 'clustering_data':       perc_lying  perc_lhd  num_lying   num_lhd\n",
       " 0       0.682063  0.278473   0.214550  0.294069\n",
       " 1       0.554511  0.278341   0.284784  0.245253\n",
       " 2       0.666260  0.237656   0.285209  0.560183\n",
       " 3       0.755971  0.167217   0.426093  0.341323\n",
       " 4       0.809212  0.178715   0.358513  0.291889\n",
       " ...          ...       ...        ...       ...\n",
       " 9355    0.449081  0.105136   0.359656  0.292251\n",
       " 9356    0.543549  0.093668   0.501049  0.243146\n",
       " 9357    0.547951  0.075157   0.357107  0.170235\n",
       " 9358    0.505739  0.050997   0.640736  0.048400\n",
       " 9359    0.601772  0.085759   0.570862  0.192966\n",
       " \n",
       " [9360 rows x 4 columns],\n",
       " 'hom_df': Individual  A.nas_01  A.nas_02  A.nas_03  A.nas_05  A.nas_06  A.nas_07  \\\n",
       " 0           0.303708  0.141704  0.548833  0.654315  0.624749  0.378645   \n",
       " \n",
       " Individual  A.nas_08  C.tau_01  C.tau_02  C.tau_03  ...  T.ory_20  T.ory_21  \\\n",
       " 0           0.656016  0.197869  0.602161  0.710017  ...  0.199938  0.415319   \n",
       " \n",
       " Individual  T.ory_22  T.ory_24  T.ory_25  T.spe_01  T.str_01  T.str_02  \\\n",
       " 0           0.389669  0.940952  0.500118  0.491565  0.474474  0.398761   \n",
       " \n",
       " Individual  T.str_03  T.str_04  \n",
       " 0           0.329511    0.4538  \n",
       " \n",
       " [1 rows x 90 columns]}"
      ]
     },
     "execution_count": 13,
     "metadata": {},
     "output_type": "execute_result"
    }
   ],
   "source": [
    "observable_patterns_result"
   ]
  },
  {
   "cell_type": "code",
   "execution_count": 14,
   "metadata": {},
   "outputs": [
    {
     "data": {
      "application/vnd.jupyter.widget-view+json": {
       "model_id": "708e240256bb41349c2ac88eaa3221d2",
       "version_major": 2,
       "version_minor": 0
      },
      "text/plain": [
       "  0%|          | 0/1023 [00:00<?, ?it/s]"
      ]
     },
     "metadata": {},
     "output_type": "display_data"
    }
   ],
   "source": [
    "calculate_explainable_distances_result = ClusteringApplier.calculate_explainable_distances(\n",
    "    use_config=False,\n",
    "    df_explainable=preparation_result['explainable_df'].copy(),\n",
    "    df_observable_distances=observable_patterns_result['pw_norm_dist'].copy(),\n",
    "    explaining_features=explaining_features,\n",
    "    method='exact',\n",
    "    distance_measure='correlation',\n",
    "    sparsity_parameter=0.05,\n",
    "    max_num_threads=12,\n",
    "    group_name=index_name,\n",
    "    plot=False\n",
    ")\n"
   ]
  },
  {
   "cell_type": "code",
   "execution_count": 15,
   "metadata": {},
   "outputs": [
    {
     "data": {
      "application/vnd.jupyter.widget-view+json": {
       "model_id": "d9a3dc2616f84f70ae7f6746a32a9d0a",
       "version_major": 2,
       "version_minor": 0
      },
      "text/plain": [
       "  0%|          | 0/55 [00:00<?, ?it/s]"
      ]
     },
     "metadata": {},
     "output_type": "display_data"
    },
    {
     "name": "stdout",
     "output_type": "stream",
     "text": [
      "Started with ['Age', 'Genus_ID']\n",
      "Refuted 'Weight'\n"
     ]
    },
    {
     "data": {
      "text/plain": [
       "['Age', 'Genus_ID']"
      ]
     },
     "execution_count": 15,
     "metadata": {},
     "output_type": "execute_result"
    }
   ],
   "source": [
    "heuristic_calculate_explainable_distances_result = ClusteringApplier.calculate_explainable_distances(\n",
    "    use_config=False,\n",
    "    df_explainable=preparation_result['explainable_df'].copy(),\n",
    "    df_observable_distances=observable_patterns_result['pw_norm_dist'].copy(),\n",
    "    explaining_features=explaining_features.copy(),\n",
    "    method='heuristic',\n",
    "    distance_measure='correlation',\n",
    "    sparsity_parameter=0.05,\n",
    "    max_num_threads=12,\n",
    "    group_name=index_name,\n",
    "    heuristics_N=2,\n",
    "    plot=False\n",
    ")\n",
    "heuristic_calculate_explainable_distances_result['optimal_feature_set']"
   ]
  },
  {
   "cell_type": "code",
   "execution_count": null,
   "metadata": {},
   "outputs": [],
   "source": []
  }
 ],
 "metadata": {
  "kernelspec": {
   "display_name": "Python 3",
   "language": "python",
   "name": "python3"
  },
  "language_info": {
   "codemirror_mode": {
    "name": "ipython",
    "version": 3
   },
   "file_extension": ".py",
   "mimetype": "text/x-python",
   "name": "python",
   "nbconvert_exporter": "python",
   "pygments_lexer": "ipython3",
   "version": "3.12.4"
  }
 },
 "nbformat": 4,
 "nbformat_minor": 2
}
