{
 "cells": [
  {
   "cell_type": "code",
   "execution_count": 1,
   "metadata": {},
   "outputs": [],
   "source": [
    "import numpy as np\n",
    "import pandas as pd"
   ]
  },
  {
   "cell_type": "code",
   "execution_count": 40,
   "metadata": {},
   "outputs": [],
   "source": [
    "data = np.random.normal(loc=0, scale=1, size=(1000, 10))"
   ]
  },
  {
   "cell_type": "code",
   "execution_count": 41,
   "metadata": {},
   "outputs": [],
   "source": [
    "_a = np.random.normal(loc=0.3, scale=0.1, size=(1000, 1)).flatten()\n",
    "_b = np.random.normal(loc=0.4, scale=0.1, size=(1000, 1)).flatten()\n",
    "_c1 = np.random.normal(loc=0.5, scale=0.1, size=(1000, 1)).flatten()\n",
    "_c2 = np.random.normal(loc=0.4, scale=0.2, size=(1000, 1)).flatten()\n",
    "_d1 = np.random.normal(loc=0.3, scale=0.1, size=(1000, 1)).flatten()\n",
    "_d2 = np.random.normal(loc=0.2, scale=0.05, size=(1000, 1)).flatten()"
   ]
  },
  {
   "cell_type": "code",
   "execution_count": 43,
   "metadata": {},
   "outputs": [],
   "source": [
    "a = data[:, 0] > _a\n",
    "b = data[:, 1] < _b\n",
    "c = np.minimum(data[:, 2] > _c1, data[:, 3] > _c2)\n",
    "d = np.minimum(data[:, 4] > _d1, data[:, 5] < _d2)"
   ]
  },
  {
   "cell_type": "code",
   "execution_count": 44,
   "metadata": {},
   "outputs": [
    {
     "data": {
      "text/plain": [
       "(np.int64(398), np.int64(655), np.int64(111), np.int64(237))"
      ]
     },
     "execution_count": 44,
     "metadata": {},
     "output_type": "execute_result"
    }
   ],
   "source": [
    "a.sum(), b.sum(), c.sum(), d.sum()"
   ]
  },
  {
   "cell_type": "code",
   "execution_count": null,
   "metadata": {},
   "outputs": [],
   "source": []
  }
 ],
 "metadata": {
  "kernelspec": {
   "display_name": "Python 3",
   "language": "python",
   "name": "python3"
  },
  "language_info": {
   "codemirror_mode": {
    "name": "ipython",
    "version": 3
   },
   "file_extension": ".py",
   "mimetype": "text/x-python",
   "name": "python",
   "nbconvert_exporter": "python",
   "pygments_lexer": "ipython3",
   "version": "3.12.3"
  }
 },
 "nbformat": 4,
 "nbformat_minor": 2
}
