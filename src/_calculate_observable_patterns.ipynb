{
 "cells": [
  {
   "cell_type": "code",
   "execution_count": 1,
   "metadata": {},
   "outputs": [],
   "source": [
    "from data_preparation import DataPreparator\n",
    "from apply_clustering import ClusteringApplier\n",
    "\n",
    "from sklearn.cluster import AgglomerativeClustering\n",
    "from scipy.spatial.distance import jensenshannon, correlation, euclidean"
   ]
  },
  {
   "cell_type": "code",
   "execution_count": 2,
   "metadata": {},
   "outputs": [],
   "source": [
    "import pandas as pd\n",
    "import numpy as np\n",
    "import config\n",
    "\n",
    "import os"
   ]
  },
  {
   "cell_type": "code",
   "execution_count": 3,
   "metadata": {},
   "outputs": [],
   "source": [
    "input_file: str = (\n",
    "    f\"{config.OUTPUT_FOLDER_BASE}explaining_features/{config.DATASET_NAME}-optimal_explainable_features-{config.DISTANCE_MEASURE_FINGERPRINT}-{config.NUMBER_OBSERVABLE_PATTERNS}.xlsx\"\n",
    ")\n",
    "optimal_df = pd.read_excel(input_file, index_col=0)"
   ]
  },
  {
   "cell_type": "code",
   "execution_count": 48,
   "metadata": {},
   "outputs": [
    {
     "data": {
      "text/plain": [
       "['Age', 'Zoo', 'Genus_ID', 'Family_ID']"
      ]
     },
     "execution_count": 48,
     "metadata": {},
     "output_type": "execute_result"
    }
   ],
   "source": [
    "list(optimal_df.T[optimal_df.T > 0].dropna().T.columns)"
   ]
  },
  {
   "cell_type": "code",
   "execution_count": 44,
   "metadata": {},
   "outputs": [
    {
     "data": {
      "text/html": [
       "<div>\n",
       "<style scoped>\n",
       "    .dataframe tbody tr th:only-of-type {\n",
       "        vertical-align: middle;\n",
       "    }\n",
       "\n",
       "    .dataframe tbody tr th {\n",
       "        vertical-align: top;\n",
       "    }\n",
       "\n",
       "    .dataframe thead th {\n",
       "        text-align: right;\n",
       "    }\n",
       "</style>\n",
       "<table border=\"1\" class=\"dataframe\">\n",
       "  <thead>\n",
       "    <tr style=\"text-align: right;\">\n",
       "      <th></th>\n",
       "      <th>Age</th>\n",
       "      <th>Sex</th>\n",
       "      <th>Zoo</th>\n",
       "      <th>Stable</th>\n",
       "      <th>Genus_ID</th>\n",
       "      <th>Family_ID</th>\n",
       "      <th>Order_ID</th>\n",
       "      <th>SH</th>\n",
       "      <th>Weight</th>\n",
       "      <th>Habitat</th>\n",
       "    </tr>\n",
       "    <tr>\n",
       "      <th>correlation</th>\n",
       "      <th></th>\n",
       "      <th></th>\n",
       "      <th></th>\n",
       "      <th></th>\n",
       "      <th></th>\n",
       "      <th></th>\n",
       "      <th></th>\n",
       "      <th></th>\n",
       "      <th></th>\n",
       "      <th></th>\n",
       "    </tr>\n",
       "  </thead>\n",
       "  <tbody>\n",
       "    <tr>\n",
       "      <th>0.294011</th>\n",
       "      <td>1</td>\n",
       "      <td>0</td>\n",
       "      <td>1</td>\n",
       "      <td>0</td>\n",
       "      <td>1</td>\n",
       "      <td>1</td>\n",
       "      <td>0</td>\n",
       "      <td>0</td>\n",
       "      <td>0</td>\n",
       "      <td>0</td>\n",
       "    </tr>\n",
       "  </tbody>\n",
       "</table>\n",
       "</div>"
      ],
      "text/plain": [
       "             Age  Sex  Zoo  Stable  Genus_ID  Family_ID  Order_ID  SH  Weight  \\\n",
       "correlation                                                                     \n",
       "0.294011       1    0    1       0         1          1         0   0       0   \n",
       "\n",
       "             Habitat  \n",
       "correlation           \n",
       "0.294011           0  "
      ]
     },
     "execution_count": 44,
     "metadata": {},
     "output_type": "execute_result"
    }
   ],
   "source": [
    "optimal_df"
   ]
  },
  {
   "cell_type": "code",
   "execution_count": 4,
   "metadata": {},
   "outputs": [],
   "source": [
    "ClusteringApplier.visualize_fingerprints()"
   ]
  },
  {
   "cell_type": "code",
   "execution_count": 4,
   "metadata": {},
   "outputs": [],
   "source": [
    "selected_individuals = np.intersect1d(pd.read_excel(config.INPUT_FILE_OBSERVABLE_FEATURES).Individual.unique(), individuals)"
   ]
  },
  {
   "cell_type": "code",
   "execution_count": 5,
   "metadata": {},
   "outputs": [],
   "source": [
    "pd.read_excel(config.INPUT_FILE_OBSERVABLE_FEATURES).set_index('Individual').loc[selected_individuals].reset_index().to_excel(config.INPUT_FILE_OBSERVABLE_FEATURES, index=False)"
   ]
  },
  {
   "cell_type": "code",
   "execution_count": 6,
   "metadata": {},
   "outputs": [],
   "source": [
    "from typing import Dict, List, Tuple\n",
    "import matplotlib.pyplot as plt\n",
    "import scipy.cluster.hierarchy as sch"
   ]
  },
  {
   "cell_type": "code",
   "execution_count": 7,
   "metadata": {},
   "outputs": [],
   "source": [
    "#ClusteringApplier.calculate_observable_patterns()"
   ]
  },
  {
   "cell_type": "code",
   "execution_count": 8,
   "metadata": {},
   "outputs": [],
   "source": [
    "df: pd.DataFrame = ClusteringApplier._read_observable_data(\n",
    "    read_only_feature_col=False\n",
    ")\n",
    "try:\n",
    "    clustering_data = df[\n",
    "        list(config.OBSERVABLE_FEATURE_NAMES.keys())\n",
    "    ]#.to_numpy()\n",
    "except:\n",
    "    print(f\"Error. Invalid input.\")\n",
    "    #return None"
   ]
  },
  {
   "cell_type": "code",
   "execution_count": 9,
   "metadata": {},
   "outputs": [
    {
     "data": {
      "text/html": [
       "<div>\n",
       "<style scoped>\n",
       "    .dataframe tbody tr th:only-of-type {\n",
       "        vertical-align: middle;\n",
       "    }\n",
       "\n",
       "    .dataframe tbody tr th {\n",
       "        vertical-align: top;\n",
       "    }\n",
       "\n",
       "    .dataframe thead th {\n",
       "        text-align: right;\n",
       "    }\n",
       "</style>\n",
       "<table border=\"1\" class=\"dataframe\">\n",
       "  <thead>\n",
       "    <tr style=\"text-align: right;\">\n",
       "      <th></th>\n",
       "      <th>num_lhd</th>\n",
       "      <th>num_lying</th>\n",
       "      <th>perc_lhd</th>\n",
       "      <th>perc_lying</th>\n",
       "      <th>oversampled</th>\n",
       "    </tr>\n",
       "    <tr>\n",
       "      <th>Individual</th>\n",
       "      <th></th>\n",
       "      <th></th>\n",
       "      <th></th>\n",
       "      <th></th>\n",
       "      <th></th>\n",
       "    </tr>\n",
       "  </thead>\n",
       "  <tbody>\n",
       "    <tr>\n",
       "      <th>A.nas_01</th>\n",
       "      <td>0.292515</td>\n",
       "      <td>0.213776</td>\n",
       "      <td>0.279236</td>\n",
       "      <td>0.680353</td>\n",
       "      <td>False</td>\n",
       "    </tr>\n",
       "    <tr>\n",
       "      <th>A.nas_01</th>\n",
       "      <td>0.244233</td>\n",
       "      <td>0.286668</td>\n",
       "      <td>0.279209</td>\n",
       "      <td>0.554276</td>\n",
       "      <td>False</td>\n",
       "    </tr>\n",
       "    <tr>\n",
       "      <th>A.nas_01</th>\n",
       "      <td>0.560539</td>\n",
       "      <td>0.288084</td>\n",
       "      <td>0.238377</td>\n",
       "      <td>0.663916</td>\n",
       "      <td>False</td>\n",
       "    </tr>\n",
       "    <tr>\n",
       "      <th>A.nas_01</th>\n",
       "      <td>0.341707</td>\n",
       "      <td>0.429365</td>\n",
       "      <td>0.166590</td>\n",
       "      <td>0.753475</td>\n",
       "      <td>False</td>\n",
       "    </tr>\n",
       "    <tr>\n",
       "      <th>A.nas_01</th>\n",
       "      <td>0.295714</td>\n",
       "      <td>0.356211</td>\n",
       "      <td>0.178966</td>\n",
       "      <td>0.807842</td>\n",
       "      <td>False</td>\n",
       "    </tr>\n",
       "  </tbody>\n",
       "</table>\n",
       "</div>"
      ],
      "text/plain": [
       "             num_lhd  num_lying  perc_lhd  perc_lying  oversampled\n",
       "Individual                                                        \n",
       "A.nas_01    0.292515   0.213776  0.279236    0.680353        False\n",
       "A.nas_01    0.244233   0.286668  0.279209    0.554276        False\n",
       "A.nas_01    0.560539   0.288084  0.238377    0.663916        False\n",
       "A.nas_01    0.341707   0.429365  0.166590    0.753475        False\n",
       "A.nas_01    0.295714   0.356211  0.178966    0.807842        False"
      ]
     },
     "execution_count": 9,
     "metadata": {},
     "output_type": "execute_result"
    }
   ],
   "source": [
    "df.head()"
   ]
  },
  {
   "cell_type": "code",
   "execution_count": 10,
   "metadata": {},
   "outputs": [
    {
     "data": {
      "text/html": [
       "<div>\n",
       "<style scoped>\n",
       "    .dataframe tbody tr th:only-of-type {\n",
       "        vertical-align: middle;\n",
       "    }\n",
       "\n",
       "    .dataframe tbody tr th {\n",
       "        vertical-align: top;\n",
       "    }\n",
       "\n",
       "    .dataframe thead th {\n",
       "        text-align: right;\n",
       "    }\n",
       "</style>\n",
       "<table border=\"1\" class=\"dataframe\">\n",
       "  <thead>\n",
       "    <tr style=\"text-align: right;\">\n",
       "      <th></th>\n",
       "      <th>num_lhd</th>\n",
       "      <th>num_lying</th>\n",
       "      <th>perc_lhd</th>\n",
       "      <th>perc_lying</th>\n",
       "    </tr>\n",
       "    <tr>\n",
       "      <th>Individual</th>\n",
       "      <th></th>\n",
       "      <th></th>\n",
       "      <th></th>\n",
       "      <th></th>\n",
       "    </tr>\n",
       "  </thead>\n",
       "  <tbody>\n",
       "    <tr>\n",
       "      <th>A.nas_01</th>\n",
       "      <td>0.292515</td>\n",
       "      <td>0.213776</td>\n",
       "      <td>0.279236</td>\n",
       "      <td>0.680353</td>\n",
       "    </tr>\n",
       "    <tr>\n",
       "      <th>A.nas_01</th>\n",
       "      <td>0.244233</td>\n",
       "      <td>0.286668</td>\n",
       "      <td>0.279209</td>\n",
       "      <td>0.554276</td>\n",
       "    </tr>\n",
       "    <tr>\n",
       "      <th>A.nas_01</th>\n",
       "      <td>0.560539</td>\n",
       "      <td>0.288084</td>\n",
       "      <td>0.238377</td>\n",
       "      <td>0.663916</td>\n",
       "    </tr>\n",
       "    <tr>\n",
       "      <th>A.nas_01</th>\n",
       "      <td>0.341707</td>\n",
       "      <td>0.429365</td>\n",
       "      <td>0.166590</td>\n",
       "      <td>0.753475</td>\n",
       "    </tr>\n",
       "    <tr>\n",
       "      <th>A.nas_01</th>\n",
       "      <td>0.295714</td>\n",
       "      <td>0.356211</td>\n",
       "      <td>0.178966</td>\n",
       "      <td>0.807842</td>\n",
       "    </tr>\n",
       "    <tr>\n",
       "      <th>...</th>\n",
       "      <td>...</td>\n",
       "      <td>...</td>\n",
       "      <td>...</td>\n",
       "      <td>...</td>\n",
       "    </tr>\n",
       "    <tr>\n",
       "      <th>T.str_04</th>\n",
       "      <td>0.049240</td>\n",
       "      <td>0.642554</td>\n",
       "      <td>0.048052</td>\n",
       "      <td>0.504723</td>\n",
       "    </tr>\n",
       "    <tr>\n",
       "      <th>T.str_04</th>\n",
       "      <td>0.291562</td>\n",
       "      <td>0.356205</td>\n",
       "      <td>0.105375</td>\n",
       "      <td>0.449801</td>\n",
       "    </tr>\n",
       "    <tr>\n",
       "      <th>T.str_04</th>\n",
       "      <td>0.170003</td>\n",
       "      <td>0.355632</td>\n",
       "      <td>0.104096</td>\n",
       "      <td>0.569253</td>\n",
       "    </tr>\n",
       "    <tr>\n",
       "      <th>T.str_04</th>\n",
       "      <td>0.243584</td>\n",
       "      <td>0.572755</td>\n",
       "      <td>0.109481</td>\n",
       "      <td>0.670731</td>\n",
       "    </tr>\n",
       "    <tr>\n",
       "      <th>T.str_04</th>\n",
       "      <td>0.219529</td>\n",
       "      <td>0.572454</td>\n",
       "      <td>0.070707</td>\n",
       "      <td>0.583617</td>\n",
       "    </tr>\n",
       "  </tbody>\n",
       "</table>\n",
       "<p>9672 rows × 4 columns</p>\n",
       "</div>"
      ],
      "text/plain": [
       "             num_lhd  num_lying  perc_lhd  perc_lying\n",
       "Individual                                           \n",
       "A.nas_01    0.292515   0.213776  0.279236    0.680353\n",
       "A.nas_01    0.244233   0.286668  0.279209    0.554276\n",
       "A.nas_01    0.560539   0.288084  0.238377    0.663916\n",
       "A.nas_01    0.341707   0.429365  0.166590    0.753475\n",
       "A.nas_01    0.295714   0.356211  0.178966    0.807842\n",
       "...              ...        ...       ...         ...\n",
       "T.str_04    0.049240   0.642554  0.048052    0.504723\n",
       "T.str_04    0.291562   0.356205  0.105375    0.449801\n",
       "T.str_04    0.170003   0.355632  0.104096    0.569253\n",
       "T.str_04    0.243584   0.572755  0.109481    0.670731\n",
       "T.str_04    0.219529   0.572454  0.070707    0.583617\n",
       "\n",
       "[9672 rows x 4 columns]"
      ]
     },
     "execution_count": 10,
     "metadata": {},
     "output_type": "execute_result"
    }
   ],
   "source": [
    "clustering_data"
   ]
  },
  {
   "cell_type": "code",
   "execution_count": 11,
   "metadata": {},
   "outputs": [],
   "source": [
    "# ClusteringApplier._plot_dendrogram(\n",
    "#    df=df, x_label=config.OBSERVABLE_NAME, title=\"\"\n",
    "#)\n",
    "\n",
    "x_label = config.OBSERVABLE_NAME\n",
    "title = ''\n",
    "y_label = \"Ward's distance measure\""
   ]
  },
  {
   "cell_type": "code",
   "execution_count": 12,
   "metadata": {},
   "outputs": [],
   "source": [
    "from visualization.dendogram import fancy_dendrogram, plot_dendrogram"
   ]
  },
  {
   "cell_type": "code",
   "execution_count": 13,
   "metadata": {},
   "outputs": [],
   "source": [
    "clustering_data = df.loc[:, list(config.OBSERVABLE_FEATURE_NAMES.keys())]"
   ]
  },
  {
   "cell_type": "code",
   "execution_count": 14,
   "metadata": {},
   "outputs": [],
   "source": [
    "_df = clustering_data.copy(deep=True)"
   ]
  },
  {
   "cell_type": "code",
   "execution_count": 15,
   "metadata": {},
   "outputs": [],
   "source": [
    "Z = sch.linkage(_df.to_numpy(), method=\"ward\")"
   ]
  },
  {
   "cell_type": "code",
   "execution_count": 16,
   "metadata": {},
   "outputs": [
    {
     "data": {
      "text/plain": [
       "Text(0, 0.5, \"Ward's distance measure\")"
      ]
     },
     "execution_count": 16,
     "metadata": {},
     "output_type": "execute_result"
    },
    {
     "data": {
      "image/png": "[encoded data removed]",
      "text/plain": [
       "<Figure size 640x480 with 1 Axes>"
      ]
     },
     "metadata": {},
     "output_type": "display_data"
    }
   ],
   "source": [
    "with plt.rc_context({\"lines.linewidth\": 0.25}):\n",
    "    sch.dendrogram(\n",
    "        Z,\n",
    "        labels=df.index,\n",
    "        no_labels=True,\n",
    "        color_threshold=0,\n",
    "        above_threshold_color=\"k\",\n",
    "        leaf_rotation=90.0,\n",
    "    )\n",
    "\n",
    "plt.title(title)\n",
    "plt.xlabel(x_label)\n",
    "plt.ylabel(y_label)"
   ]
  },
  {
   "cell_type": "code",
   "execution_count": 17,
   "metadata": {},
   "outputs": [
    {
     "data": {
      "image/png": "[encoded data removed]",
      "text/plain": [
       "<Figure size 640x480 with 1 Axes>"
      ]
     },
     "metadata": {},
     "output_type": "display_data"
    }
   ],
   "source": [
    "n_cols = len(_df.columns)\n",
    "p = 16\n",
    "\n",
    "cm = plt.get_cmap(\"gist_rainbow\")\n",
    "color_dict = {i: cm(1.0 * i / n_cols) for i in range(n_cols)}\n",
    "link_color_func = lambda k: f'C{int(k)}'\n",
    "\n",
    "fancy_dendrogram(\n",
    "    Z,\n",
    "    truncate_mode='lastp',\n",
    "    p=p,\n",
    "    leaf_rotation=90.,\n",
    "    leaf_font_size=12.,\n",
    "    show_contracted=True,\n",
    "    link_color_func = link_color_func,\n",
    "    annotate_above=10,  # useful in small plots so annotations don't overlap\n",
    ")\n",
    "\n",
    "plt.title(title + f'[Truncated to {p} leaves]')\n",
    "plt.xlabel(x_label)\n",
    "plt.ylabel(y_label)\n",
    "plt.show()"
   ]
  },
  {
   "cell_type": "code",
   "execution_count": 21,
   "metadata": {},
   "outputs": [],
   "source": [
    "if config.NUMBER_OBSERVABLE_PATTERNS == 'auto':\n",
    "    NUMBER_OBSERVABLE_PATTERNS = 5\n",
    "else:\n",
    "    config.NUMBER_OBSERVABLE_PATTERNS = NUMBER_OBSERVABLE_PATTERNS"
   ]
  },
  {
   "cell_type": "code",
   "execution_count": 22,
   "metadata": {},
   "outputs": [],
   "source": [
    "# clustering\n",
    "clusterer = AgglomerativeClustering(\n",
    "    n_clusters=NUMBER_OBSERVABLE_PATTERNS, linkage=\"ward\"\n",
    ")"
   ]
  },
  {
   "cell_type": "code",
   "execution_count": 24,
   "metadata": {},
   "outputs": [
    {
     "data": {
      "text/plain": [
       "array([2, 2, 2, ..., 0, 0, 0])"
      ]
     },
     "execution_count": 24,
     "metadata": {},
     "output_type": "execute_result"
    }
   ],
   "source": [
    "clusterer = AgglomerativeClustering(n_clusters=NUMBER_OBSERVABLE_PATTERNS, linkage='ward', compute_distances=True)\n",
    "clusterer.fit_predict(clustering_data)"
   ]
  },
  {
   "cell_type": "code",
   "execution_count": 25,
   "metadata": {},
   "outputs": [],
   "source": [
    "clusterer_labels = clusterer.labels_\n",
    "df['pattern_type'] = clusterer_labels"
   ]
  },
  {
   "cell_type": "code",
   "execution_count": 26,
   "metadata": {},
   "outputs": [
    {
     "data": {
      "text/html": [
       "<div>\n",
       "<style scoped>\n",
       "    .dataframe tbody tr th:only-of-type {\n",
       "        vertical-align: middle;\n",
       "    }\n",
       "\n",
       "    .dataframe tbody tr th {\n",
       "        vertical-align: top;\n",
       "    }\n",
       "\n",
       "    .dataframe thead th {\n",
       "        text-align: right;\n",
       "    }\n",
       "</style>\n",
       "<table border=\"1\" class=\"dataframe\">\n",
       "  <thead>\n",
       "    <tr style=\"text-align: right;\">\n",
       "      <th></th>\n",
       "      <th>num_lhd</th>\n",
       "      <th>num_lying</th>\n",
       "      <th>perc_lhd</th>\n",
       "      <th>perc_lying</th>\n",
       "    </tr>\n",
       "    <tr>\n",
       "      <th>pattern_type</th>\n",
       "      <th></th>\n",
       "      <th></th>\n",
       "      <th></th>\n",
       "      <th></th>\n",
       "    </tr>\n",
       "  </thead>\n",
       "  <tbody>\n",
       "    <tr>\n",
       "      <th>0</th>\n",
       "      <td>0.170754</td>\n",
       "      <td>0.428128</td>\n",
       "      <td>0.080849</td>\n",
       "      <td>0.706501</td>\n",
       "    </tr>\n",
       "    <tr>\n",
       "      <th>1</th>\n",
       "      <td>0.317963</td>\n",
       "      <td>0.500481</td>\n",
       "      <td>0.158299</td>\n",
       "      <td>0.777879</td>\n",
       "    </tr>\n",
       "    <tr>\n",
       "      <th>2</th>\n",
       "      <td>0.462961</td>\n",
       "      <td>0.357580</td>\n",
       "      <td>0.256826</td>\n",
       "      <td>0.862381</td>\n",
       "    </tr>\n",
       "    <tr>\n",
       "      <th>3</th>\n",
       "      <td>0.123470</td>\n",
       "      <td>0.214805</td>\n",
       "      <td>0.056445</td>\n",
       "      <td>0.484684</td>\n",
       "    </tr>\n",
       "    <tr>\n",
       "      <th>4</th>\n",
       "      <td>0.292387</td>\n",
       "      <td>0.287552</td>\n",
       "      <td>0.144280</td>\n",
       "      <td>0.816080</td>\n",
       "    </tr>\n",
       "  </tbody>\n",
       "</table>\n",
       "</div>"
      ],
      "text/plain": [
       "               num_lhd  num_lying  perc_lhd  perc_lying\n",
       "pattern_type                                           \n",
       "0             0.170754   0.428128  0.080849    0.706501\n",
       "1             0.317963   0.500481  0.158299    0.777879\n",
       "2             0.462961   0.357580  0.256826    0.862381\n",
       "3             0.123470   0.214805  0.056445    0.484684\n",
       "4             0.292387   0.287552  0.144280    0.816080"
      ]
     },
     "execution_count": 26,
     "metadata": {},
     "output_type": "execute_result"
    }
   ],
   "source": [
    "df_cluster_median: pd.DataFrame = (\n",
    "    df.copy()[list(config.OBSERVABLE_FEATURE_NAMES.keys()) + [\"pattern_type\"]]\n",
    "    .groupby(\"pattern_type\")\n",
    "    .median()\n",
    ")\n",
    "df_cluster_median"
   ]
  },
  {
   "cell_type": "code",
   "execution_count": 27,
   "metadata": {},
   "outputs": [],
   "source": [
    "# fingerprints\n",
    "df_observable_data = df[df['oversampled']== False] # from 'is False'"
   ]
  },
  {
   "cell_type": "code",
   "execution_count": 30,
   "metadata": {},
   "outputs": [],
   "source": [
    "# Replaces:\n",
    "# ClusteringApplier._calculate_fingerprints(df_observable_data)\n",
    "\n",
    "def _calculate_fingerprints(df: pd.DataFrame) -> pd.DataFrame:\n",
    "\n",
    "    group_names: List[str] = list(set(df[config.GROUP_NAME].to_list()))\n",
    "    num_clusters: int = max(df[\"pattern_type\"].to_list()) + 1\n",
    "    group_stat: Dict[str, Dict[int, int]] = {\n",
    "        grp_name: {j: 0 for j in range(1, num_clusters + 1)}\n",
    "        for grp_name in group_names\n",
    "    }\n",
    "\n",
    "    ret = {j: [] for j in range(1, num_clusters + 1)}\n",
    "    ret[config.GROUP_NAME] = []\n",
    "\n",
    "    for row in df.index:\n",
    "        group_stat[df.loc[row, config.GROUP_NAME]][\n",
    "            int(df.loc[row, \"pattern_type\"]) + 1\n",
    "        ] += 1\n",
    "\n",
    "    for grp_name in group_stat.keys():\n",
    "        quantities = group_stat[grp_name]\n",
    "        N: int = np.sum(list(quantities.values()))\n",
    "        for j in quantities.keys():\n",
    "            ret[j].append(quantities[j] / N)\n",
    "        ret[config.GROUP_NAME].append(grp_name)\n",
    "\n",
    "    return pd.DataFrame(ret).set_index(config.GROUP_NAME)\n",
    "\n",
    "# Inkongruent mit Repsonse Types"
   ]
  },
  {
   "cell_type": "code",
   "execution_count": 34,
   "metadata": {},
   "outputs": [],
   "source": [
    "df_fingerprint = _calculate_fingerprints(df_observable_data.reset_index())\n",
    "# Columns enthalten die Pattern types 1-N"
   ]
  },
  {
   "cell_type": "code",
   "execution_count": 35,
   "metadata": {},
   "outputs": [
    {
     "data": {
      "text/html": [
       "<div>\n",
       "<style scoped>\n",
       "    .dataframe tbody tr th:only-of-type {\n",
       "        vertical-align: middle;\n",
       "    }\n",
       "\n",
       "    .dataframe tbody tr th {\n",
       "        vertical-align: top;\n",
       "    }\n",
       "\n",
       "    .dataframe thead th {\n",
       "        text-align: right;\n",
       "    }\n",
       "</style>\n",
       "<table border=\"1\" class=\"dataframe\">\n",
       "  <thead>\n",
       "    <tr style=\"text-align: right;\">\n",
       "      <th></th>\n",
       "      <th>1</th>\n",
       "      <th>2</th>\n",
       "      <th>3</th>\n",
       "      <th>4</th>\n",
       "      <th>5</th>\n",
       "    </tr>\n",
       "    <tr>\n",
       "      <th>Individual</th>\n",
       "      <th></th>\n",
       "      <th></th>\n",
       "      <th></th>\n",
       "      <th></th>\n",
       "      <th></th>\n",
       "    </tr>\n",
       "  </thead>\n",
       "  <tbody>\n",
       "    <tr>\n",
       "      <th>C.tau_06</th>\n",
       "      <td>0.686869</td>\n",
       "      <td>0.000000</td>\n",
       "      <td>0.000000</td>\n",
       "      <td>0.030303</td>\n",
       "      <td>0.282828</td>\n",
       "    </tr>\n",
       "    <tr>\n",
       "      <th>O.joh_09</th>\n",
       "      <td>0.341463</td>\n",
       "      <td>0.512195</td>\n",
       "      <td>0.000000</td>\n",
       "      <td>0.000000</td>\n",
       "      <td>0.146341</td>\n",
       "    </tr>\n",
       "    <tr>\n",
       "      <th>C.tau_14</th>\n",
       "      <td>0.142857</td>\n",
       "      <td>0.714286</td>\n",
       "      <td>0.071429</td>\n",
       "      <td>0.000000</td>\n",
       "      <td>0.071429</td>\n",
       "    </tr>\n",
       "    <tr>\n",
       "      <th>C.tau_12</th>\n",
       "      <td>0.125000</td>\n",
       "      <td>0.553571</td>\n",
       "      <td>0.125000</td>\n",
       "      <td>0.000000</td>\n",
       "      <td>0.196429</td>\n",
       "    </tr>\n",
       "    <tr>\n",
       "      <th>R.ful_01</th>\n",
       "      <td>0.642857</td>\n",
       "      <td>0.142857</td>\n",
       "      <td>0.000000</td>\n",
       "      <td>0.000000</td>\n",
       "      <td>0.214286</td>\n",
       "    </tr>\n",
       "  </tbody>\n",
       "</table>\n",
       "</div>"
      ],
      "text/plain": [
       "                   1         2         3         4         5\n",
       "Individual                                                  \n",
       "C.tau_06    0.686869  0.000000  0.000000  0.030303  0.282828\n",
       "O.joh_09    0.341463  0.512195  0.000000  0.000000  0.146341\n",
       "C.tau_14    0.142857  0.714286  0.071429  0.000000  0.071429\n",
       "C.tau_12    0.125000  0.553571  0.125000  0.000000  0.196429\n",
       "R.ful_01    0.642857  0.142857  0.000000  0.000000  0.214286"
      ]
     },
     "execution_count": 35,
     "metadata": {},
     "output_type": "execute_result"
    }
   ],
   "source": [
    "df_fingerprint.head()"
   ]
  },
  {
   "cell_type": "code",
   "execution_count": 36,
   "metadata": {},
   "outputs": [],
   "source": [
    "# Sanity Check:\n",
    "assert df_fingerprint.sum(axis = 1).apply(lambda x: np.isclose(x, 1)).all(), df_fingerprint.sum(axis = 1)\n",
    "## -!-> True"
   ]
  },
  {
   "cell_type": "code",
   "execution_count": 37,
   "metadata": {},
   "outputs": [],
   "source": [
    "# Replaces\n",
    "# pw_dist, pw_norm_dist = ClusteringApplier.calculate_pairwise_distances(\n",
    "#    df_fingerprint, list(config.OBSERVABLE_FEATURE_NAMES.keys()), config.DISTANCE_MEASURE_FINGERPRINT\n",
    "#)"
   ]
  },
  {
   "cell_type": "code",
   "execution_count": 38,
   "metadata": {},
   "outputs": [
    {
     "data": {
      "text/plain": [
       "['num_lhd', 'num_lying', 'perc_lhd', 'perc_lying']"
      ]
     },
     "execution_count": 38,
     "metadata": {},
     "output_type": "execute_result"
    }
   ],
   "source": [
    "feature_names = list(config.OBSERVABLE_FEATURE_NAMES.keys())\n",
    "feature_names"
   ]
  },
  {
   "cell_type": "code",
   "execution_count": 39,
   "metadata": {},
   "outputs": [
    {
     "data": {
      "text/html": [
       "<div>\n",
       "<style scoped>\n",
       "    .dataframe tbody tr th:only-of-type {\n",
       "        vertical-align: middle;\n",
       "    }\n",
       "\n",
       "    .dataframe tbody tr th {\n",
       "        vertical-align: top;\n",
       "    }\n",
       "\n",
       "    .dataframe thead th {\n",
       "        text-align: right;\n",
       "    }\n",
       "</style>\n",
       "<table border=\"1\" class=\"dataframe\">\n",
       "  <thead>\n",
       "    <tr style=\"text-align: right;\">\n",
       "      <th></th>\n",
       "      <th>1</th>\n",
       "      <th>2</th>\n",
       "      <th>3</th>\n",
       "      <th>4</th>\n",
       "      <th>5</th>\n",
       "    </tr>\n",
       "    <tr>\n",
       "      <th>Individual</th>\n",
       "      <th></th>\n",
       "      <th></th>\n",
       "      <th></th>\n",
       "      <th></th>\n",
       "      <th></th>\n",
       "    </tr>\n",
       "  </thead>\n",
       "  <tbody>\n",
       "    <tr>\n",
       "      <th>C.tau_06</th>\n",
       "      <td>0.686869</td>\n",
       "      <td>0.000000</td>\n",
       "      <td>0.000000</td>\n",
       "      <td>0.030303</td>\n",
       "      <td>0.282828</td>\n",
       "    </tr>\n",
       "    <tr>\n",
       "      <th>O.joh_09</th>\n",
       "      <td>0.341463</td>\n",
       "      <td>0.512195</td>\n",
       "      <td>0.000000</td>\n",
       "      <td>0.000000</td>\n",
       "      <td>0.146341</td>\n",
       "    </tr>\n",
       "    <tr>\n",
       "      <th>C.tau_14</th>\n",
       "      <td>0.142857</td>\n",
       "      <td>0.714286</td>\n",
       "      <td>0.071429</td>\n",
       "      <td>0.000000</td>\n",
       "      <td>0.071429</td>\n",
       "    </tr>\n",
       "    <tr>\n",
       "      <th>C.tau_12</th>\n",
       "      <td>0.125000</td>\n",
       "      <td>0.553571</td>\n",
       "      <td>0.125000</td>\n",
       "      <td>0.000000</td>\n",
       "      <td>0.196429</td>\n",
       "    </tr>\n",
       "    <tr>\n",
       "      <th>R.ful_01</th>\n",
       "      <td>0.642857</td>\n",
       "      <td>0.142857</td>\n",
       "      <td>0.000000</td>\n",
       "      <td>0.000000</td>\n",
       "      <td>0.214286</td>\n",
       "    </tr>\n",
       "    <tr>\n",
       "      <th>...</th>\n",
       "      <td>...</td>\n",
       "      <td>...</td>\n",
       "      <td>...</td>\n",
       "      <td>...</td>\n",
       "      <td>...</td>\n",
       "    </tr>\n",
       "    <tr>\n",
       "      <th>T.ory_22</th>\n",
       "      <td>0.346939</td>\n",
       "      <td>0.122449</td>\n",
       "      <td>0.306122</td>\n",
       "      <td>0.000000</td>\n",
       "      <td>0.224490</td>\n",
       "    </tr>\n",
       "    <tr>\n",
       "      <th>T.eur_10</th>\n",
       "      <td>0.072727</td>\n",
       "      <td>0.600000</td>\n",
       "      <td>0.200000</td>\n",
       "      <td>0.000000</td>\n",
       "      <td>0.127273</td>\n",
       "    </tr>\n",
       "    <tr>\n",
       "      <th>O.joh_01</th>\n",
       "      <td>0.069444</td>\n",
       "      <td>0.027778</td>\n",
       "      <td>0.027778</td>\n",
       "      <td>0.263889</td>\n",
       "      <td>0.611111</td>\n",
       "    </tr>\n",
       "    <tr>\n",
       "      <th>C.tau_05</th>\n",
       "      <td>0.781818</td>\n",
       "      <td>0.018182</td>\n",
       "      <td>0.000000</td>\n",
       "      <td>0.000000</td>\n",
       "      <td>0.200000</td>\n",
       "    </tr>\n",
       "    <tr>\n",
       "      <th>A.nas_06</th>\n",
       "      <td>0.571429</td>\n",
       "      <td>0.057143</td>\n",
       "      <td>0.028571</td>\n",
       "      <td>0.000000</td>\n",
       "      <td>0.342857</td>\n",
       "    </tr>\n",
       "  </tbody>\n",
       "</table>\n",
       "<p>93 rows × 5 columns</p>\n",
       "</div>"
      ],
      "text/plain": [
       "                   1         2         3         4         5\n",
       "Individual                                                  \n",
       "C.tau_06    0.686869  0.000000  0.000000  0.030303  0.282828\n",
       "O.joh_09    0.341463  0.512195  0.000000  0.000000  0.146341\n",
       "C.tau_14    0.142857  0.714286  0.071429  0.000000  0.071429\n",
       "C.tau_12    0.125000  0.553571  0.125000  0.000000  0.196429\n",
       "R.ful_01    0.642857  0.142857  0.000000  0.000000  0.214286\n",
       "...              ...       ...       ...       ...       ...\n",
       "T.ory_22    0.346939  0.122449  0.306122  0.000000  0.224490\n",
       "T.eur_10    0.072727  0.600000  0.200000  0.000000  0.127273\n",
       "O.joh_01    0.069444  0.027778  0.027778  0.263889  0.611111\n",
       "C.tau_05    0.781818  0.018182  0.000000  0.000000  0.200000\n",
       "A.nas_06    0.571429  0.057143  0.028571  0.000000  0.342857\n",
       "\n",
       "[93 rows x 5 columns]"
      ]
     },
     "execution_count": 39,
     "metadata": {},
     "output_type": "execute_result"
    }
   ],
   "source": [
    "df_fingerprint"
   ]
  },
  {
   "cell_type": "code",
   "execution_count": 40,
   "metadata": {},
   "outputs": [],
   "source": [
    "def calculate_pairwise_distances(\n",
    "        df: pd.DataFrame, distance: str\n",
    "    ) -> Tuple[pd.DataFrame, pd.DataFrame]:\n",
    "\n",
    "    if distance not in [\n",
    "        \"jensenshannon\",\n",
    "        \"euclidean\",\n",
    "        \"correlation\",\n",
    "    ]:\n",
    "        raise Exception(\n",
    "            \"Invalid distance measure used to measure similarity.\"\n",
    "        )\n",
    "    \n",
    "    distance_matrix: np.array = np.zeros((df.shape[0], df.shape[0]))\n",
    "\n",
    "    for grp_i in range(df.shape[0]): #zip(group_names, range(len(group_names))):\n",
    "        for grp_j in range(df.shape[0]): #zip(group_names, range(len(group_names))):        \n",
    "            fingerprint_1 = df.iloc[grp_i].to_numpy()\n",
    "            fingerprint_2 = df.iloc[grp_j].to_numpy()\n",
    "            # config.DISTANCE_MEASURE_FINGERPRINT --> distance\n",
    "            if distance == \"jensenshannon\":\n",
    "                dist: float = 1.0 * jensenshannon(fingerprint_1, fingerprint_2)\n",
    "            elif distance == \"correlation\":\n",
    "                dist = 1.0 * correlation(fingerprint_1, fingerprint_2)\n",
    "            else:\n",
    "                dist = 1.0 * euclidean(fingerprint_1, fingerprint_2)\n",
    "            distance_matrix[grp_i, grp_j] = dist\n",
    "\n",
    "    normalised_distance_matrix = distance_matrix / np.sum(distance_matrix)\n",
    "\n",
    "    return pd.DataFrame(\n",
    "        distance_matrix, columns=df.index, index=df.index\n",
    "    ), pd.DataFrame(\n",
    "        normalised_distance_matrix, columns=df.index, index=df.index, \n",
    "    )"
   ]
  },
  {
   "cell_type": "code",
   "execution_count": 41,
   "metadata": {},
   "outputs": [
    {
     "data": {
      "text/html": [
       "<div>\n",
       "<style scoped>\n",
       "    .dataframe tbody tr th:only-of-type {\n",
       "        vertical-align: middle;\n",
       "    }\n",
       "\n",
       "    .dataframe tbody tr th {\n",
       "        vertical-align: top;\n",
       "    }\n",
       "\n",
       "    .dataframe thead th {\n",
       "        text-align: right;\n",
       "    }\n",
       "</style>\n",
       "<table border=\"1\" class=\"dataframe\">\n",
       "  <thead>\n",
       "    <tr style=\"text-align: right;\">\n",
       "      <th></th>\n",
       "      <th>1</th>\n",
       "      <th>2</th>\n",
       "      <th>3</th>\n",
       "      <th>4</th>\n",
       "      <th>5</th>\n",
       "    </tr>\n",
       "    <tr>\n",
       "      <th>Individual</th>\n",
       "      <th></th>\n",
       "      <th></th>\n",
       "      <th></th>\n",
       "      <th></th>\n",
       "      <th></th>\n",
       "    </tr>\n",
       "  </thead>\n",
       "  <tbody>\n",
       "    <tr>\n",
       "      <th>C.tau_06</th>\n",
       "      <td>0.686869</td>\n",
       "      <td>0.000000</td>\n",
       "      <td>0.000000</td>\n",
       "      <td>0.030303</td>\n",
       "      <td>0.282828</td>\n",
       "    </tr>\n",
       "    <tr>\n",
       "      <th>O.joh_09</th>\n",
       "      <td>0.341463</td>\n",
       "      <td>0.512195</td>\n",
       "      <td>0.000000</td>\n",
       "      <td>0.000000</td>\n",
       "      <td>0.146341</td>\n",
       "    </tr>\n",
       "    <tr>\n",
       "      <th>C.tau_14</th>\n",
       "      <td>0.142857</td>\n",
       "      <td>0.714286</td>\n",
       "      <td>0.071429</td>\n",
       "      <td>0.000000</td>\n",
       "      <td>0.071429</td>\n",
       "    </tr>\n",
       "    <tr>\n",
       "      <th>C.tau_12</th>\n",
       "      <td>0.125000</td>\n",
       "      <td>0.553571</td>\n",
       "      <td>0.125000</td>\n",
       "      <td>0.000000</td>\n",
       "      <td>0.196429</td>\n",
       "    </tr>\n",
       "    <tr>\n",
       "      <th>R.ful_01</th>\n",
       "      <td>0.642857</td>\n",
       "      <td>0.142857</td>\n",
       "      <td>0.000000</td>\n",
       "      <td>0.000000</td>\n",
       "      <td>0.214286</td>\n",
       "    </tr>\n",
       "  </tbody>\n",
       "</table>\n",
       "</div>"
      ],
      "text/plain": [
       "                   1         2         3         4         5\n",
       "Individual                                                  \n",
       "C.tau_06    0.686869  0.000000  0.000000  0.030303  0.282828\n",
       "O.joh_09    0.341463  0.512195  0.000000  0.000000  0.146341\n",
       "C.tau_14    0.142857  0.714286  0.071429  0.000000  0.071429\n",
       "C.tau_12    0.125000  0.553571  0.125000  0.000000  0.196429\n",
       "R.ful_01    0.642857  0.142857  0.000000  0.000000  0.214286"
      ]
     },
     "execution_count": 41,
     "metadata": {},
     "output_type": "execute_result"
    }
   ],
   "source": [
    "df_fingerprint.head()"
   ]
  },
  {
   "cell_type": "code",
   "execution_count": 42,
   "metadata": {},
   "outputs": [
    {
     "data": {
      "text/plain": [
       "['num_lhd', 'num_lying', 'perc_lhd', 'perc_lying']"
      ]
     },
     "execution_count": 42,
     "metadata": {},
     "output_type": "execute_result"
    }
   ],
   "source": [
    "list(config.OBSERVABLE_FEATURE_NAMES.keys())"
   ]
  },
  {
   "cell_type": "code",
   "execution_count": 43,
   "metadata": {},
   "outputs": [],
   "source": [
    "pw_dist, pw_norm_dist = calculate_pairwise_distances(\n",
    "    df_fingerprint, config.DISTANCE_MEASURE_FINGERPRINT, \n",
    ")"
   ]
  },
  {
   "cell_type": "code",
   "execution_count": 44,
   "metadata": {},
   "outputs": [],
   "source": [
    "# Simple Sanity Check: All self-distances stored in the diagonal must be zero\n",
    "assert np.isclose(np.diag(pw_norm_dist.to_numpy()), 0.).all(), f'Not all self-distances are zero: {np.diag(pw_norm_dist.to_numpy())}'"
   ]
  },
  {
   "cell_type": "code",
   "execution_count": 45,
   "metadata": {},
   "outputs": [
    {
     "data": {
      "text/html": [
       "<div>\n",
       "<style scoped>\n",
       "    .dataframe tbody tr th:only-of-type {\n",
       "        vertical-align: middle;\n",
       "    }\n",
       "\n",
       "    .dataframe tbody tr th {\n",
       "        vertical-align: top;\n",
       "    }\n",
       "\n",
       "    .dataframe thead th {\n",
       "        text-align: right;\n",
       "    }\n",
       "</style>\n",
       "<table border=\"1\" class=\"dataframe\">\n",
       "  <thead>\n",
       "    <tr style=\"text-align: right;\">\n",
       "      <th>Individual</th>\n",
       "      <th>C.tau_06</th>\n",
       "      <th>O.joh_09</th>\n",
       "      <th>C.tau_14</th>\n",
       "      <th>C.tau_12</th>\n",
       "      <th>R.ful_01</th>\n",
       "      <th>A.nas_07</th>\n",
       "      <th>T.str_01</th>\n",
       "      <th>T.ory_15</th>\n",
       "      <th>A.nas_08</th>\n",
       "      <th>T.ory_21</th>\n",
       "      <th>...</th>\n",
       "      <th>H.equ_05</th>\n",
       "      <th>D.pyg_06</th>\n",
       "      <th>C.tau_02</th>\n",
       "      <th>T.eur_06</th>\n",
       "      <th>O.joh_06</th>\n",
       "      <th>T.ory_22</th>\n",
       "      <th>T.eur_10</th>\n",
       "      <th>O.joh_01</th>\n",
       "      <th>C.tau_05</th>\n",
       "      <th>A.nas_06</th>\n",
       "    </tr>\n",
       "    <tr>\n",
       "      <th>Individual</th>\n",
       "      <th></th>\n",
       "      <th></th>\n",
       "      <th></th>\n",
       "      <th></th>\n",
       "      <th></th>\n",
       "      <th></th>\n",
       "      <th></th>\n",
       "      <th></th>\n",
       "      <th></th>\n",
       "      <th></th>\n",
       "      <th></th>\n",
       "      <th></th>\n",
       "      <th></th>\n",
       "      <th></th>\n",
       "      <th></th>\n",
       "      <th></th>\n",
       "      <th></th>\n",
       "      <th></th>\n",
       "      <th></th>\n",
       "      <th></th>\n",
       "      <th></th>\n",
       "    </tr>\n",
       "  </thead>\n",
       "  <tbody>\n",
       "    <tr>\n",
       "      <th>C.tau_06</th>\n",
       "      <td>0.000000</td>\n",
       "      <td>0.000114</td>\n",
       "      <td>0.000153</td>\n",
       "      <td>0.000142</td>\n",
       "      <td>0.000060</td>\n",
       "      <td>0.000158</td>\n",
       "      <td>0.000149</td>\n",
       "      <td>0.000079</td>\n",
       "      <td>0.000034</td>\n",
       "      <td>0.000036</td>\n",
       "      <td>...</td>\n",
       "      <td>0.000096</td>\n",
       "      <td>0.000110</td>\n",
       "      <td>0.000107</td>\n",
       "      <td>0.000154</td>\n",
       "      <td>0.000070</td>\n",
       "      <td>0.000104</td>\n",
       "      <td>0.000159</td>\n",
       "      <td>0.000119</td>\n",
       "      <td>0.000035</td>\n",
       "      <td>0.000050</td>\n",
       "    </tr>\n",
       "    <tr>\n",
       "      <th>O.joh_09</th>\n",
       "      <td>0.000114</td>\n",
       "      <td>0.000000</td>\n",
       "      <td>0.000059</td>\n",
       "      <td>0.000064</td>\n",
       "      <td>0.000068</td>\n",
       "      <td>0.000104</td>\n",
       "      <td>0.000046</td>\n",
       "      <td>0.000135</td>\n",
       "      <td>0.000099</td>\n",
       "      <td>0.000098</td>\n",
       "      <td>...</td>\n",
       "      <td>0.000135</td>\n",
       "      <td>0.000061</td>\n",
       "      <td>0.000145</td>\n",
       "      <td>0.000084</td>\n",
       "      <td>0.000126</td>\n",
       "      <td>0.000100</td>\n",
       "      <td>0.000082</td>\n",
       "      <td>0.000143</td>\n",
       "      <td>0.000104</td>\n",
       "      <td>0.000092</td>\n",
       "    </tr>\n",
       "    <tr>\n",
       "      <th>C.tau_14</th>\n",
       "      <td>0.000153</td>\n",
       "      <td>0.000059</td>\n",
       "      <td>0.000000</td>\n",
       "      <td>0.000037</td>\n",
       "      <td>0.000115</td>\n",
       "      <td>0.000075</td>\n",
       "      <td>0.000030</td>\n",
       "      <td>0.000165</td>\n",
       "      <td>0.000142</td>\n",
       "      <td>0.000141</td>\n",
       "      <td>...</td>\n",
       "      <td>0.000150</td>\n",
       "      <td>0.000078</td>\n",
       "      <td>0.000162</td>\n",
       "      <td>0.000047</td>\n",
       "      <td>0.000157</td>\n",
       "      <td>0.000106</td>\n",
       "      <td>0.000040</td>\n",
       "      <td>0.000155</td>\n",
       "      <td>0.000146</td>\n",
       "      <td>0.000128</td>\n",
       "    </tr>\n",
       "    <tr>\n",
       "      <th>C.tau_12</th>\n",
       "      <td>0.000142</td>\n",
       "      <td>0.000064</td>\n",
       "      <td>0.000037</td>\n",
       "      <td>0.000000</td>\n",
       "      <td>0.000108</td>\n",
       "      <td>0.000051</td>\n",
       "      <td>0.000060</td>\n",
       "      <td>0.000169</td>\n",
       "      <td>0.000131</td>\n",
       "      <td>0.000128</td>\n",
       "      <td>...</td>\n",
       "      <td>0.000123</td>\n",
       "      <td>0.000086</td>\n",
       "      <td>0.000138</td>\n",
       "      <td>0.000030</td>\n",
       "      <td>0.000137</td>\n",
       "      <td>0.000083</td>\n",
       "      <td>0.000026</td>\n",
       "      <td>0.000133</td>\n",
       "      <td>0.000138</td>\n",
       "      <td>0.000112</td>\n",
       "    </tr>\n",
       "    <tr>\n",
       "      <th>R.ful_01</th>\n",
       "      <td>0.000060</td>\n",
       "      <td>0.000068</td>\n",
       "      <td>0.000115</td>\n",
       "      <td>0.000108</td>\n",
       "      <td>0.000000</td>\n",
       "      <td>0.000132</td>\n",
       "      <td>0.000108</td>\n",
       "      <td>0.000095</td>\n",
       "      <td>0.000036</td>\n",
       "      <td>0.000039</td>\n",
       "      <td>...</td>\n",
       "      <td>0.000111</td>\n",
       "      <td>0.000068</td>\n",
       "      <td>0.000126</td>\n",
       "      <td>0.000125</td>\n",
       "      <td>0.000094</td>\n",
       "      <td>0.000086</td>\n",
       "      <td>0.000126</td>\n",
       "      <td>0.000132</td>\n",
       "      <td>0.000042</td>\n",
       "      <td>0.000040</td>\n",
       "    </tr>\n",
       "  </tbody>\n",
       "</table>\n",
       "<p>5 rows × 93 columns</p>\n",
       "</div>"
      ],
      "text/plain": [
       "Individual  C.tau_06  O.joh_09  C.tau_14  C.tau_12  R.ful_01  A.nas_07  \\\n",
       "Individual                                                               \n",
       "C.tau_06    0.000000  0.000114  0.000153  0.000142  0.000060  0.000158   \n",
       "O.joh_09    0.000114  0.000000  0.000059  0.000064  0.000068  0.000104   \n",
       "C.tau_14    0.000153  0.000059  0.000000  0.000037  0.000115  0.000075   \n",
       "C.tau_12    0.000142  0.000064  0.000037  0.000000  0.000108  0.000051   \n",
       "R.ful_01    0.000060  0.000068  0.000115  0.000108  0.000000  0.000132   \n",
       "\n",
       "Individual  T.str_01  T.ory_15  A.nas_08  T.ory_21  ...  H.equ_05  D.pyg_06  \\\n",
       "Individual                                          ...                       \n",
       "C.tau_06    0.000149  0.000079  0.000034  0.000036  ...  0.000096  0.000110   \n",
       "O.joh_09    0.000046  0.000135  0.000099  0.000098  ...  0.000135  0.000061   \n",
       "C.tau_14    0.000030  0.000165  0.000142  0.000141  ...  0.000150  0.000078   \n",
       "C.tau_12    0.000060  0.000169  0.000131  0.000128  ...  0.000123  0.000086   \n",
       "R.ful_01    0.000108  0.000095  0.000036  0.000039  ...  0.000111  0.000068   \n",
       "\n",
       "Individual  C.tau_02  T.eur_06  O.joh_06  T.ory_22  T.eur_10  O.joh_01  \\\n",
       "Individual                                                               \n",
       "C.tau_06    0.000107  0.000154  0.000070  0.000104  0.000159  0.000119   \n",
       "O.joh_09    0.000145  0.000084  0.000126  0.000100  0.000082  0.000143   \n",
       "C.tau_14    0.000162  0.000047  0.000157  0.000106  0.000040  0.000155   \n",
       "C.tau_12    0.000138  0.000030  0.000137  0.000083  0.000026  0.000133   \n",
       "R.ful_01    0.000126  0.000125  0.000094  0.000086  0.000126  0.000132   \n",
       "\n",
       "Individual  C.tau_05  A.nas_06  \n",
       "Individual                      \n",
       "C.tau_06    0.000035  0.000050  \n",
       "O.joh_09    0.000104  0.000092  \n",
       "C.tau_14    0.000146  0.000128  \n",
       "C.tau_12    0.000138  0.000112  \n",
       "R.ful_01    0.000042  0.000040  \n",
       "\n",
       "[5 rows x 93 columns]"
      ]
     },
     "execution_count": 45,
     "metadata": {},
     "output_type": "execute_result"
    }
   ],
   "source": [
    "pw_norm_dist.head()"
   ]
  },
  {
   "cell_type": "code",
   "execution_count": 46,
   "metadata": {},
   "outputs": [],
   "source": [
    "ClusteringApplier._plot_dendrogram_by_distance_matrix(\n",
    "    pw_norm_dist.to_numpy(),\n",
    "    labels=pw_norm_dist.columns,\n",
    "    x_label=config.GROUP_NAME,\n",
    "    y_label=\"Distance of fingerprints\",\n",
    "    title=\"\",\n",
    ")"
   ]
  },
  {
   "cell_type": "code",
   "execution_count": 49,
   "metadata": {},
   "outputs": [
    {
     "data": {
      "text/plain": [
       "'output_path = f\"{config.OUTPUT_FOLDER_BASE}observables/\"\\nif not os.path.exists(output_path):\\n    os.makedirs(output_path)\\n\\ndf_cluster_median.to_excel(\\n    f\"{output_path}{config.DATASET_NAME}-observable-patterns-{config.NUMBER_OBSERVABLE_PATTERNS}.xlsx\",\\n    index_label=\"pattern_type\",\\n)\\ndf_observable_data.to_excel(\\n    f\"{output_path}{config.DATASET_NAME}-cluster_assignment-{config.NUMBER_OBSERVABLE_PATTERNS}.xlsx\",\\n    index=True # ?\\n)\\ndf_fingerprint.to_excel(\\n    f\"{output_path}{config.DATASET_NAME}-fingerprint-observables-{config.NUMBER_OBSERVABLE_PATTERNS}.xlsx\",\\n    index=True # ?\\n)\\npw_dist.to_excel(\\n    f\"{output_path}{config.DATASET_NAME}-distance-matrix-{config.DISTANCE_MEASURE_FINGERPRINT}-{config.NUMBER_OBSERVABLE_PATTERNS}.xlsx\"\\n)\\npw_norm_dist.to_excel(\\n    f\"{output_path}{config.DATASET_NAME}-distance-normalized-matrix-{config.DISTANCE_MEASURE_FINGERPRINT}-{config.NUMBER_OBSERVABLE_PATTERNS}.xlsx\",\\n    index=True\\n)'"
      ]
     },
     "execution_count": 49,
     "metadata": {},
     "output_type": "execute_result"
    }
   ],
   "source": [
    "# write output\n",
    "'''output_path = f\"{config.OUTPUT_FOLDER_BASE}observables/\"\n",
    "if not os.path.exists(output_path):\n",
    "    os.makedirs(output_path)\n",
    "\n",
    "df_cluster_median.to_excel(\n",
    "    f\"{output_path}{config.DATASET_NAME}-observable-patterns-{config.NUMBER_OBSERVABLE_PATTERNS}.xlsx\",\n",
    "    index_label=\"pattern_type\",\n",
    ")\n",
    "df_observable_data.to_excel(\n",
    "    f\"{output_path}{config.DATASET_NAME}-cluster_assignment-{config.NUMBER_OBSERVABLE_PATTERNS}.xlsx\",\n",
    "    index=True # ?\n",
    ")\n",
    "df_fingerprint.to_excel(\n",
    "    f\"{output_path}{config.DATASET_NAME}-fingerprint-observables-{config.NUMBER_OBSERVABLE_PATTERNS}.xlsx\",\n",
    "    index=True # ?\n",
    ")\n",
    "pw_dist.to_excel(\n",
    "    f\"{output_path}{config.DATASET_NAME}-distance-matrix-{config.DISTANCE_MEASURE_FINGERPRINT}-{config.NUMBER_OBSERVABLE_PATTERNS}.xlsx\"\n",
    ")\n",
    "pw_norm_dist.to_excel(\n",
    "    f\"{output_path}{config.DATASET_NAME}-distance-normalized-matrix-{config.DISTANCE_MEASURE_FINGERPRINT}-{config.NUMBER_OBSERVABLE_PATTERNS}.xlsx\",\n",
    "    index=True\n",
    ")'''"
   ]
  },
  {
   "cell_type": "code",
   "execution_count": 50,
   "metadata": {},
   "outputs": [
    {
     "data": {
      "text/plain": [
       "'ResultVisualizer.plot_simple_radar_chart(\\n    observable_patterns=[\\n        df_cluster_median.loc[row, :].to_list()\\n        for row in sorted(df_cluster_median.index)\\n    ],\\n    observable_labels=list(config.OBSERVABLE_FEATURE_NAMES.keys()),\\n)'"
      ]
     },
     "execution_count": 50,
     "metadata": {},
     "output_type": "execute_result"
    }
   ],
   "source": [
    "from visualize_result import ResultVisualizer\n",
    "\n",
    "'''ResultVisualizer.plot_simple_radar_chart(\n",
    "    observable_patterns=[\n",
    "        df_cluster_median.loc[row, :].to_list()\n",
    "        for row in sorted(df_cluster_median.index)\n",
    "    ],\n",
    "    observable_labels=list(config.OBSERVABLE_FEATURE_NAMES.keys()),\n",
    ")'''"
   ]
  },
  {
   "cell_type": "code",
   "execution_count": 51,
   "metadata": {},
   "outputs": [
    {
     "data": {
      "text/plain": [
       "['num_lhd', 'num_lying', 'perc_lhd', 'perc_lying']"
      ]
     },
     "execution_count": 51,
     "metadata": {},
     "output_type": "execute_result"
    }
   ],
   "source": [
    "#tst = [[1,0,0,0], [0,1,0,0], [0,0,0,1], [0,0,1,0]]\n",
    "tst = np.array([\n",
    "        df_cluster_median.loc[row, :].to_list()\n",
    "        for row in sorted(df_cluster_median.index)\n",
    "    ])\n",
    "observable_labels=list(config.OBSERVABLE_FEATURE_NAMES.keys())\n",
    "observable_labels"
   ]
  },
  {
   "cell_type": "code",
   "execution_count": 52,
   "metadata": {},
   "outputs": [],
   "source": [
    "# Vorher nochmal jedes Feature \n",
    "observable_patterns = tst / tst.sum(axis=0)\n"
   ]
  },
  {
   "cell_type": "code",
   "execution_count": 53,
   "metadata": {},
   "outputs": [
    {
     "data": {
      "application/vnd.plotly.v1+json": {
       "config": {
        "plotlyServerURL": "https://plot.ly"
       },
       "data": [
        {
         "fill": "toself",
         "r": [
          0.18526338301349063,
          0.3551647992564409,
          0.17218228260202179,
          0.2873895351280467
         ],
         "subplot": "polar",
         "theta": [
          "num_lhd",
          "num_lying",
          "perc_lhd",
          "perc_lying"
         ],
         "type": "scatterpolar"
        },
        {
         "fill": "toself",
         "r": [
          0.2440240490181486,
          0.2936849950423964,
          0.23846659578807897,
          0.2238243601513761
         ],
         "subplot": "polar2",
         "theta": [
          "num_lhd",
          "num_lying",
          "perc_lhd",
          "perc_lying"
         ],
         "type": "scatterpolar"
        },
        {
         "fill": "toself",
         "r": [
          0.2960463369717204,
          0.17483454295989156,
          0.3223645962338297,
          0.20675452383455828
         ],
         "subplot": "polar3",
         "theta": [
          "num_lhd",
          "num_lying",
          "perc_lhd",
          "perc_lying"
         ],
         "type": "scatterpolar"
        },
        {
         "fill": "toself",
         "r": [
          0.21279704538116534,
          0.28306516399388226,
          0.19095089012492444,
          0.313186900500028
         ],
         "subplot": "polar4",
         "theta": [
          "num_lhd",
          "num_lying",
          "perc_lhd",
          "perc_lying"
         ],
         "type": "scatterpolar"
        },
        {
         "fill": "toself",
         "r": [
          0.2654632918653772,
          0.19961886483731353,
          0.25712574790430565,
          0.2777920953930037
         ],
         "subplot": "polar5",
         "theta": [
          "num_lhd",
          "num_lying",
          "perc_lhd",
          "perc_lying"
         ],
         "type": "scatterpolar"
        }
       ],
       "layout": {
        "height": 800,
        "paper_bgcolor": "rgba(0, 0, 0, 0)",
        "plot_bgcolor": "rgba(0, 0, 0, 0)",
        "polar": {
         "domain": {
          "x": [
           0,
           0.19999999999999998
          ],
          "y": [
           0.5,
           1
          ]
         },
         "radialaxis": {
          "range": [
           0,
           1
          ],
          "showticklabels": false,
          "visible": true
         }
        },
        "polar2": {
         "domain": {
          "x": [
           0.4,
           0.6
          ],
          "y": [
           0.5,
           1
          ]
         },
         "radialaxis": {
          "range": [
           0,
           1
          ],
          "showticklabels": false,
          "visible": true
         }
        },
        "polar3": {
         "domain": {
          "x": [
           0.8,
           1
          ],
          "y": [
           0.5,
           1
          ]
         },
         "radialaxis": {
          "range": [
           0,
           1
          ],
          "showticklabels": false,
          "visible": true
         }
        },
        "polar4": {
         "domain": {
          "x": [
           0,
           0.19999999999999998
          ],
          "y": [
           0,
           0.5
          ]
         },
         "radialaxis": {
          "range": [
           0,
           1
          ],
          "showticklabels": false,
          "visible": true
         }
        },
        "polar5": {
         "domain": {
          "x": [
           0.4,
           0.6
          ],
          "y": [
           0,
           0.5
          ]
         },
         "radialaxis": {
          "range": [
           0,
           1
          ],
          "showticklabels": false,
          "visible": true
         }
        },
        "polar6": {
         "domain": {
          "x": [
           0.8,
           1
          ],
          "y": [
           0,
           0.5
          ]
         },
         "radialaxis": {
          "range": [
           0,
           1
          ],
          "showticklabels": false,
          "visible": true
         }
        },
        "showlegend": false,
        "template": {
         "data": {
          "bar": [
           {
            "error_x": {
             "color": "#2a3f5f"
            },
            "error_y": {
             "color": "#2a3f5f"
            },
            "marker": {
             "line": {
              "color": "#E5ECF6",
              "width": 0.5
             },
             "pattern": {
              "fillmode": "overlay",
              "size": 10,
              "solidity": 0.2
             }
            },
            "type": "bar"
           }
          ],
          "barpolar": [
           {
            "marker": {
             "line": {
              "color": "#E5ECF6",
              "width": 0.5
             },
             "pattern": {
              "fillmode": "overlay",
              "size": 10,
              "solidity": 0.2
             }
            },
            "type": "barpolar"
           }
          ],
          "carpet": [
           {
            "aaxis": {
             "endlinecolor": "#2a3f5f",
             "gridcolor": "white",
             "linecolor": "white",
             "minorgridcolor": "white",
             "startlinecolor": "#2a3f5f"
            },
            "baxis": {
             "endlinecolor": "#2a3f5f",
             "gridcolor": "white",
             "linecolor": "white",
             "minorgridcolor": "white",
             "startlinecolor": "#2a3f5f"
            },
            "type": "carpet"
           }
          ],
          "choropleth": [
           {
            "colorbar": {
             "outlinewidth": 0,
             "ticks": ""
            },
            "type": "choropleth"
           }
          ],
          "contour": [
           {
            "colorbar": {
             "outlinewidth": 0,
             "ticks": ""
            },
            "colorscale": [
             [
              0,
              "#0d0887"
             ],
             [
              0.1111111111111111,
              "#46039f"
             ],
             [
              0.2222222222222222,
              "#7201a8"
             ],
             [
              0.3333333333333333,
              "#9c179e"
             ],
             [
              0.4444444444444444,
              "#bd3786"
             ],
             [
              0.5555555555555556,
              "#d8576b"
             ],
             [
              0.6666666666666666,
              "#ed7953"
             ],
             [
              0.7777777777777778,
              "#fb9f3a"
             ],
             [
              0.8888888888888888,
              "#fdca26"
             ],
             [
              1,
              "#f0f921"
             ]
            ],
            "type": "contour"
           }
          ],
          "contourcarpet": [
           {
            "colorbar": {
             "outlinewidth": 0,
             "ticks": ""
            },
            "type": "contourcarpet"
           }
          ],
          "heatmap": [
           {
            "colorbar": {
             "outlinewidth": 0,
             "ticks": ""
            },
            "colorscale": [
             [
              0,
              "#0d0887"
             ],
             [
              0.1111111111111111,
              "#46039f"
             ],
             [
              0.2222222222222222,
              "#7201a8"
             ],
             [
              0.3333333333333333,
              "#9c179e"
             ],
             [
              0.4444444444444444,
              "#bd3786"
             ],
             [
              0.5555555555555556,
              "#d8576b"
             ],
             [
              0.6666666666666666,
              "#ed7953"
             ],
             [
              0.7777777777777778,
              "#fb9f3a"
             ],
             [
              0.8888888888888888,
              "#fdca26"
             ],
             [
              1,
              "#f0f921"
             ]
            ],
            "type": "heatmap"
           }
          ],
          "heatmapgl": [
           {
            "colorbar": {
             "outlinewidth": 0,
             "ticks": ""
            },
            "colorscale": [
             [
              0,
              "#0d0887"
             ],
             [
              0.1111111111111111,
              "#46039f"
             ],
             [
              0.2222222222222222,
              "#7201a8"
             ],
             [
              0.3333333333333333,
              "#9c179e"
             ],
             [
              0.4444444444444444,
              "#bd3786"
             ],
             [
              0.5555555555555556,
              "#d8576b"
             ],
             [
              0.6666666666666666,
              "#ed7953"
             ],
             [
              0.7777777777777778,
              "#fb9f3a"
             ],
             [
              0.8888888888888888,
              "#fdca26"
             ],
             [
              1,
              "#f0f921"
             ]
            ],
            "type": "heatmapgl"
           }
          ],
          "histogram": [
           {
            "marker": {
             "pattern": {
              "fillmode": "overlay",
              "size": 10,
              "solidity": 0.2
             }
            },
            "type": "histogram"
           }
          ],
          "histogram2d": [
           {
            "colorbar": {
             "outlinewidth": 0,
             "ticks": ""
            },
            "colorscale": [
             [
              0,
              "#0d0887"
             ],
             [
              0.1111111111111111,
              "#46039f"
             ],
             [
              0.2222222222222222,
              "#7201a8"
             ],
             [
              0.3333333333333333,
              "#9c179e"
             ],
             [
              0.4444444444444444,
              "#bd3786"
             ],
             [
              0.5555555555555556,
              "#d8576b"
             ],
             [
              0.6666666666666666,
              "#ed7953"
             ],
             [
              0.7777777777777778,
              "#fb9f3a"
             ],
             [
              0.8888888888888888,
              "#fdca26"
             ],
             [
              1,
              "#f0f921"
             ]
            ],
            "type": "histogram2d"
           }
          ],
          "histogram2dcontour": [
           {
            "colorbar": {
             "outlinewidth": 0,
             "ticks": ""
            },
            "colorscale": [
             [
              0,
              "#0d0887"
             ],
             [
              0.1111111111111111,
              "#46039f"
             ],
             [
              0.2222222222222222,
              "#7201a8"
             ],
             [
              0.3333333333333333,
              "#9c179e"
             ],
             [
              0.4444444444444444,
              "#bd3786"
             ],
             [
              0.5555555555555556,
              "#d8576b"
             ],
             [
              0.6666666666666666,
              "#ed7953"
             ],
             [
              0.7777777777777778,
              "#fb9f3a"
             ],
             [
              0.8888888888888888,
              "#fdca26"
             ],
             [
              1,
              "#f0f921"
             ]
            ],
            "type": "histogram2dcontour"
           }
          ],
          "mesh3d": [
           {
            "colorbar": {
             "outlinewidth": 0,
             "ticks": ""
            },
            "type": "mesh3d"
           }
          ],
          "parcoords": [
           {
            "line": {
             "colorbar": {
              "outlinewidth": 0,
              "ticks": ""
             }
            },
            "type": "parcoords"
           }
          ],
          "pie": [
           {
            "automargin": true,
            "type": "pie"
           }
          ],
          "scatter": [
           {
            "fillpattern": {
             "fillmode": "overlay",
             "size": 10,
             "solidity": 0.2
            },
            "type": "scatter"
           }
          ],
          "scatter3d": [
           {
            "line": {
             "colorbar": {
              "outlinewidth": 0,
              "ticks": ""
             }
            },
            "marker": {
             "colorbar": {
              "outlinewidth": 0,
              "ticks": ""
             }
            },
            "type": "scatter3d"
           }
          ],
          "scattercarpet": [
           {
            "marker": {
             "colorbar": {
              "outlinewidth": 0,
              "ticks": ""
             }
            },
            "type": "scattercarpet"
           }
          ],
          "scattergeo": [
           {
            "marker": {
             "colorbar": {
              "outlinewidth": 0,
              "ticks": ""
             }
            },
            "type": "scattergeo"
           }
          ],
          "scattergl": [
           {
            "marker": {
             "colorbar": {
              "outlinewidth": 0,
              "ticks": ""
             }
            },
            "type": "scattergl"
           }
          ],
          "scattermapbox": [
           {
            "marker": {
             "colorbar": {
              "outlinewidth": 0,
              "ticks": ""
             }
            },
            "type": "scattermapbox"
           }
          ],
          "scatterpolar": [
           {
            "marker": {
             "colorbar": {
              "outlinewidth": 0,
              "ticks": ""
             }
            },
            "type": "scatterpolar"
           }
          ],
          "scatterpolargl": [
           {
            "marker": {
             "colorbar": {
              "outlinewidth": 0,
              "ticks": ""
             }
            },
            "type": "scatterpolargl"
           }
          ],
          "scatterternary": [
           {
            "marker": {
             "colorbar": {
              "outlinewidth": 0,
              "ticks": ""
             }
            },
            "type": "scatterternary"
           }
          ],
          "surface": [
           {
            "colorbar": {
             "outlinewidth": 0,
             "ticks": ""
            },
            "colorscale": [
             [
              0,
              "#0d0887"
             ],
             [
              0.1111111111111111,
              "#46039f"
             ],
             [
              0.2222222222222222,
              "#7201a8"
             ],
             [
              0.3333333333333333,
              "#9c179e"
             ],
             [
              0.4444444444444444,
              "#bd3786"
             ],
             [
              0.5555555555555556,
              "#d8576b"
             ],
             [
              0.6666666666666666,
              "#ed7953"
             ],
             [
              0.7777777777777778,
              "#fb9f3a"
             ],
             [
              0.8888888888888888,
              "#fdca26"
             ],
             [
              1,
              "#f0f921"
             ]
            ],
            "type": "surface"
           }
          ],
          "table": [
           {
            "cells": {
             "fill": {
              "color": "#EBF0F8"
             },
             "line": {
              "color": "white"
             }
            },
            "header": {
             "fill": {
              "color": "#C8D4E3"
             },
             "line": {
              "color": "white"
             }
            },
            "type": "table"
           }
          ]
         },
         "layout": {
          "annotationdefaults": {
           "arrowcolor": "#2a3f5f",
           "arrowhead": 0,
           "arrowwidth": 1
          },
          "autotypenumbers": "strict",
          "coloraxis": {
           "colorbar": {
            "outlinewidth": 0,
            "ticks": ""
           }
          },
          "colorscale": {
           "diverging": [
            [
             0,
             "#8e0152"
            ],
            [
             0.1,
             "#c51b7d"
            ],
            [
             0.2,
             "#de77ae"
            ],
            [
             0.3,
             "#f1b6da"
            ],
            [
             0.4,
             "#fde0ef"
            ],
            [
             0.5,
             "#f7f7f7"
            ],
            [
             0.6,
             "#e6f5d0"
            ],
            [
             0.7,
             "#b8e186"
            ],
            [
             0.8,
             "#7fbc41"
            ],
            [
             0.9,
             "#4d9221"
            ],
            [
             1,
             "#276419"
            ]
           ],
           "sequential": [
            [
             0,
             "#0d0887"
            ],
            [
             0.1111111111111111,
             "#46039f"
            ],
            [
             0.2222222222222222,
             "#7201a8"
            ],
            [
             0.3333333333333333,
             "#9c179e"
            ],
            [
             0.4444444444444444,
             "#bd3786"
            ],
            [
             0.5555555555555556,
             "#d8576b"
            ],
            [
             0.6666666666666666,
             "#ed7953"
            ],
            [
             0.7777777777777778,
             "#fb9f3a"
            ],
            [
             0.8888888888888888,
             "#fdca26"
            ],
            [
             1,
             "#f0f921"
            ]
           ],
           "sequentialminus": [
            [
             0,
             "#0d0887"
            ],
            [
             0.1111111111111111,
             "#46039f"
            ],
            [
             0.2222222222222222,
             "#7201a8"
            ],
            [
             0.3333333333333333,
             "#9c179e"
            ],
            [
             0.4444444444444444,
             "#bd3786"
            ],
            [
             0.5555555555555556,
             "#d8576b"
            ],
            [
             0.6666666666666666,
             "#ed7953"
            ],
            [
             0.7777777777777778,
             "#fb9f3a"
            ],
            [
             0.8888888888888888,
             "#fdca26"
            ],
            [
             1,
             "#f0f921"
            ]
           ]
          },
          "colorway": [
           "#636efa",
           "#EF553B",
           "#00cc96",
           "#ab63fa",
           "#FFA15A",
           "#19d3f3",
           "#FF6692",
           "#B6E880",
           "#FF97FF",
           "#FECB52"
          ],
          "font": {
           "color": "#2a3f5f"
          },
          "geo": {
           "bgcolor": "white",
           "lakecolor": "white",
           "landcolor": "#E5ECF6",
           "showlakes": true,
           "showland": true,
           "subunitcolor": "white"
          },
          "hoverlabel": {
           "align": "left"
          },
          "hovermode": "closest",
          "mapbox": {
           "style": "light"
          },
          "paper_bgcolor": "white",
          "plot_bgcolor": "#E5ECF6",
          "polar": {
           "angularaxis": {
            "gridcolor": "white",
            "linecolor": "white",
            "ticks": ""
           },
           "bgcolor": "#E5ECF6",
           "radialaxis": {
            "gridcolor": "white",
            "linecolor": "white",
            "ticks": ""
           }
          },
          "scene": {
           "xaxis": {
            "backgroundcolor": "#E5ECF6",
            "gridcolor": "white",
            "gridwidth": 2,
            "linecolor": "white",
            "showbackground": true,
            "ticks": "",
            "zerolinecolor": "white"
           },
           "yaxis": {
            "backgroundcolor": "#E5ECF6",
            "gridcolor": "white",
            "gridwidth": 2,
            "linecolor": "white",
            "showbackground": true,
            "ticks": "",
            "zerolinecolor": "white"
           },
           "zaxis": {
            "backgroundcolor": "#E5ECF6",
            "gridcolor": "white",
            "gridwidth": 2,
            "linecolor": "white",
            "showbackground": true,
            "ticks": "",
            "zerolinecolor": "white"
           }
          },
          "shapedefaults": {
           "line": {
            "color": "#2a3f5f"
           }
          },
          "ternary": {
           "aaxis": {
            "gridcolor": "white",
            "linecolor": "white",
            "ticks": ""
           },
           "baxis": {
            "gridcolor": "white",
            "linecolor": "white",
            "ticks": ""
           },
           "bgcolor": "#E5ECF6",
           "caxis": {
            "gridcolor": "white",
            "linecolor": "white",
            "ticks": ""
           }
          },
          "title": {
           "x": 0.05
          },
          "xaxis": {
           "automargin": true,
           "gridcolor": "white",
           "linecolor": "white",
           "ticks": "",
           "title": {
            "standoff": 15
           },
           "zerolinecolor": "white",
           "zerolinewidth": 2
          },
          "yaxis": {
           "automargin": true,
           "gridcolor": "white",
           "linecolor": "white",
           "ticks": "",
           "title": {
            "standoff": 15
           },
           "zerolinecolor": "white",
           "zerolinewidth": 2
          }
         }
        },
        "title": {
         "text": "behavioral patterns"
        },
        "width": 800
       }
      }
     },
     "metadata": {},
     "output_type": "display_data"
    }
   ],
   "source": [
    "import matplotlib.pyplot as plt\n",
    "import plotly.express as px\n",
    "import plotly.graph_objects as go\n",
    "from plotly.subplots import make_subplots\n",
    "\n",
    "max_fingerprints_per_col = 3\n",
    "\n",
    "num_rows = int(np.ceil(len(observable_patterns)/max_fingerprints_per_col))\n",
    "num_cols = min(len(observable_patterns), max_fingerprints_per_col)\n",
    "\n",
    "fig = make_subplots(rows=num_rows, cols=num_cols, specs=[[{'type': 'polar'}]*num_cols]*num_rows, horizontal_spacing=0.2, vertical_spacing=0.0)\n",
    "\n",
    "for j in range(len(observable_patterns)):\n",
    "    row = j // max_fingerprints_per_col + 1\n",
    "    col = j % num_cols + 1\n",
    "    current_pattern: np.array = np.array(observable_patterns[j]) / np.sum(\n",
    "        np.array(observable_patterns[j])\n",
    "    )\n",
    "    fig.add_scatterpolar(r=current_pattern, theta=observable_labels, fill=\"toself\", row=row, col=col)\n",
    "\n",
    "fig.update_layout(\n",
    "    showlegend=False,\n",
    "    plot_bgcolor=\"rgba(0, 0, 0, 0)\",\n",
    "    paper_bgcolor=\"rgba(0, 0, 0, 0)\",\n",
    "    title=config.OBSERVABLE_PATTERN_NAME_PLURAL,\n",
    ")\n",
    "\n",
    "fig.update_polars(dict(radialaxis=dict(visible=True, range=[0,1], showticklabels=False)))\n",
    " # range = [0, 1] !\n",
    "fig.update_layout(height=800, width=800)\n",
    "\n",
    "#fig.write_image('tst.png', engine='kaleido')\n"
   ]
  },
  {
   "cell_type": "code",
   "execution_count": null,
   "metadata": {},
   "outputs": [
    {
     "data": {
      "text/plain": [
       "Ellipsis"
      ]
     },
     "execution_count": 40,
     "metadata": {},
     "output_type": "execute_result"
    }
   ],
   "source": [
    "..."
   ]
  },
  {
   "cell_type": "code",
   "execution_count": 41,
   "metadata": {},
   "outputs": [
    {
     "data": {
      "text/plain": [
       "True"
      ]
     },
     "execution_count": 41,
     "metadata": {},
     "output_type": "execute_result"
    }
   ],
   "source": [
    "import warnings\n",
    "\n",
    "try:\n",
    "    import kaleido\n",
    "except:\n",
    "    warnings.warn('kaleido not found, try pip install --upgrade \"kaleido==0.1.*\"')\n",
    "\n",
    "if kaleido.__version__ != '0.1.0.post1':\n",
    "    warnings.warn(f'kaleido version {kaleido.__version__} may not be able to save the resulting plots, if you encounter problems try using version 0.1.0.post1 instead')\n"
   ]
  },
  {
   "cell_type": "code",
   "execution_count": 42,
   "metadata": {},
   "outputs": [],
   "source": []
  },
  {
   "cell_type": "code",
   "execution_count": null,
   "metadata": {},
   "outputs": [],
   "source": []
  }
 ],
 "metadata": {
  "kernelspec": {
   "display_name": "Python 3",
   "language": "python",
   "name": "python3"
  },
  "language_info": {
   "codemirror_mode": {
    "name": "ipython",
    "version": 3
   },
   "file_extension": ".py",
   "mimetype": "text/x-python",
   "name": "python",
   "nbconvert_exporter": "python",
   "pygments_lexer": "ipython3",
   "version": "3.12.4"
  }
 },
 "nbformat": 4,
 "nbformat_minor": 2
}
