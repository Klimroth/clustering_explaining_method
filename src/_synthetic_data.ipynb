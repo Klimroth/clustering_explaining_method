{
 "cells": [
  {
   "cell_type": "code",
   "execution_count": 229,
   "metadata": {},
   "outputs": [],
   "source": [
    "import numpy as np\n",
    "import pandas as pd\n",
    "\n"
   ]
  },
  {
   "cell_type": "code",
   "execution_count": 230,
   "metadata": {},
   "outputs": [],
   "source": [
    "from apply_clustering import ClusteringApplier\n",
    "from itertools import combinations\n",
    "from sklearn.linear_model import LinearRegression\n",
    "from sklearn.metrics import explained_variance_score\n",
    "from numpy.random import permutation\n",
    "from collections import defaultdict\n",
    "import matplotlib.pyplot as plt\n",
    "import seaborn as sns\n",
    "\n",
    "def get_feature_importances(my_feature_set, df_explainable, K=100):\n",
    "    feature_combinations = []\n",
    "    ([[feature_combinations.append(np.array(c)) for c in combinations(np.arange(len(my_feature_set)), i)] for i in range(1, len(my_feature_set)+1)])\n",
    "    \n",
    "    _, df_explainable_distances = ClusteringApplier.calculate_pairwise_distances(\n",
    "        df_explainable.loc[:, my_feature_set], my_feature_set, 'correlation',\n",
    "    )\n",
    "\n",
    "    X = df_explainable.loc[:, my_feature_set].to_numpy()\n",
    "    y = df_explainable_distances.to_numpy()\n",
    "    model = LinearRegression()\n",
    "    model.fit(X,y)\n",
    "    y_pred = model.predict(X)\n",
    "    R2 = explained_variance_score(y_true=y, y_pred=y_pred)\n",
    "    feature_importances = defaultdict(lambda: 0.)\n",
    "\n",
    "    i = 0\n",
    "    for cols in feature_combinations:\n",
    "        for k in range(K):\n",
    "            permuted_X = X.copy()\n",
    "            for col_i in cols:\n",
    "                permuted_X[:, col_i] = permutation(permuted_X[:, col_i])\n",
    "            y_pred = model.predict(permuted_X)\n",
    "            feature_importances[i] += explained_variance_score(y_true=y, y_pred=y_pred)\n",
    "        i += 1\n",
    "\n",
    "    i = 0\n",
    "    for cols in feature_combinations:\n",
    "        feature_importances[i] = max(0, R2 - (feature_importances[i]/K))\n",
    "        i += 1\n",
    "        \n",
    "\n",
    "    adj_sum = sum(feature_importances.values())\n",
    "    for key, val in feature_importances.items():\n",
    "        feature_importances[key] = val / adj_sum\n",
    "\n",
    "    assert np.isclose(sum(feature_importances.values()), 1)\n",
    "\n",
    "    def human_readable(_dict: dict) -> dict:\n",
    "        return {str([str(a) for a in np.array(my_feature_set)[feature_combinations[k]]]):v for k, v in _dict.items()}\n",
    "    \n",
    "    human_readable_dict = human_readable(feature_importances)\n",
    "    fig_1 = plt.figure(figsize=(10, 5))\n",
    "    ax1 = sns.barplot(human_readable_dict)\n",
    "    ax1.axes.xaxis.set_tick_params(rotation=90)\n",
    "\n",
    "    revised_feature_importances = defaultdict(lambda: 0)\n",
    "    i = 0\n",
    "    for cols in feature_combinations:\n",
    "            \n",
    "        a = feature_importances[i]\n",
    "        b = sum([feature_importances[j] for j in cols])\n",
    "        revised_feature_importances[i] += a/b-1\n",
    "\n",
    "        i += 1\n",
    "\n",
    "    fig_2 = plt.figure(figsize=(10, 5))\n",
    "    ax2 = sns.barplot(human_readable(revised_feature_importances))\n",
    "    ax2.axes.xaxis.set_tick_params(rotation=90)\n",
    "\n",
    "    return fig_1, fig_2\n"
   ]
  },
  {
   "cell_type": "code",
   "execution_count": 231,
   "metadata": {},
   "outputs": [],
   "source": [
    "base_size = 100"
   ]
  },
  {
   "cell_type": "code",
   "execution_count": 232,
   "metadata": {},
   "outputs": [],
   "source": [
    "data = np.random.normal(loc=0, scale=1, size=(base_size, 6))"
   ]
  },
  {
   "cell_type": "code",
   "execution_count": 233,
   "metadata": {},
   "outputs": [],
   "source": [
    "_a = np.random.normal(loc=0.3, scale=0.1, size=(base_size, 1)).flatten()\n",
    "_b = np.random.normal(loc=0.4, scale=0.1, size=(base_size, 1)).flatten()\n",
    "_c1 = np.random.normal(loc=0.5, scale=0.1, size=(base_size, 1)).flatten()\n",
    "_c2 = np.random.normal(loc=0.4, scale=0.2, size=(base_size, 1)).flatten()\n",
    "_d1 = np.random.normal(loc=0.3, scale=0.1, size=(base_size, 1)).flatten()\n",
    "_d2 = np.random.normal(loc=0.2, scale=0.05, size=(base_size, 1)).flatten()"
   ]
  },
  {
   "cell_type": "code",
   "execution_count": 234,
   "metadata": {},
   "outputs": [],
   "source": [
    "a = (data[:, 0] > _a) * 1.\n",
    "b = (data[:, 1] < _b) * 1.\n",
    "c = np.minimum(data[:, 0] > _c1, data[:, 2] > _c2) * 1.\n",
    "#d = data[:, 0] - _d1 #np.minimum(data[:, 4] > _d1, data[:, 5] < _d2) * data[:, 5]\n",
    "#e = data[:, 1] * _d2 #np.minimum(data[:, 1] > _d1, data[:, 5] < _d2) * data[:, 4]"
   ]
  },
  {
   "cell_type": "code",
   "execution_count": 235,
   "metadata": {},
   "outputs": [
    {
     "data": {
      "text/plain": [
       "(np.float64(0.41), np.float64(0.68), np.float64(0.08))"
      ]
     },
     "execution_count": 235,
     "metadata": {},
     "output_type": "execute_result"
    }
   ],
   "source": [
    "a.sum()/base_size, b.sum()/base_size, c.sum()/base_size, #d.sum()"
   ]
  },
  {
   "cell_type": "code",
   "execution_count": 236,
   "metadata": {},
   "outputs": [
    {
     "data": {
      "text/html": [
       "<div>\n",
       "<style scoped>\n",
       "    .dataframe tbody tr th:only-of-type {\n",
       "        vertical-align: middle;\n",
       "    }\n",
       "\n",
       "    .dataframe tbody tr th {\n",
       "        vertical-align: top;\n",
       "    }\n",
       "\n",
       "    .dataframe thead th {\n",
       "        text-align: right;\n",
       "    }\n",
       "</style>\n",
       "<table border=\"1\" class=\"dataframe\">\n",
       "  <thead>\n",
       "    <tr style=\"text-align: right;\">\n",
       "      <th></th>\n",
       "      <th>0</th>\n",
       "      <th>1</th>\n",
       "      <th>2</th>\n",
       "      <th>3</th>\n",
       "      <th>4</th>\n",
       "      <th>5</th>\n",
       "    </tr>\n",
       "  </thead>\n",
       "  <tbody>\n",
       "    <tr>\n",
       "      <th>0</th>\n",
       "      <td>1.567765</td>\n",
       "      <td>-1.023232</td>\n",
       "      <td>-2.262266</td>\n",
       "      <td>-0.540556</td>\n",
       "      <td>-1.189945</td>\n",
       "      <td>1.502839</td>\n",
       "    </tr>\n",
       "    <tr>\n",
       "      <th>1</th>\n",
       "      <td>-1.355540</td>\n",
       "      <td>0.592393</td>\n",
       "      <td>-0.596901</td>\n",
       "      <td>-1.186498</td>\n",
       "      <td>0.169692</td>\n",
       "      <td>-2.171906</td>\n",
       "    </tr>\n",
       "    <tr>\n",
       "      <th>2</th>\n",
       "      <td>0.039668</td>\n",
       "      <td>-1.457649</td>\n",
       "      <td>0.115186</td>\n",
       "      <td>-0.302341</td>\n",
       "      <td>-0.783655</td>\n",
       "      <td>-1.033010</td>\n",
       "    </tr>\n",
       "    <tr>\n",
       "      <th>3</th>\n",
       "      <td>0.326525</td>\n",
       "      <td>1.089033</td>\n",
       "      <td>0.515622</td>\n",
       "      <td>-1.756389</td>\n",
       "      <td>-1.304507</td>\n",
       "      <td>1.872050</td>\n",
       "    </tr>\n",
       "    <tr>\n",
       "      <th>4</th>\n",
       "      <td>-1.655912</td>\n",
       "      <td>0.032319</td>\n",
       "      <td>-1.118991</td>\n",
       "      <td>-1.489180</td>\n",
       "      <td>-0.432212</td>\n",
       "      <td>-1.027397</td>\n",
       "    </tr>\n",
       "  </tbody>\n",
       "</table>\n",
       "</div>"
      ],
      "text/plain": [
       "          0         1         2         3         4         5\n",
       "0  1.567765 -1.023232 -2.262266 -0.540556 -1.189945  1.502839\n",
       "1 -1.355540  0.592393 -0.596901 -1.186498  0.169692 -2.171906\n",
       "2  0.039668 -1.457649  0.115186 -0.302341 -0.783655 -1.033010\n",
       "3  0.326525  1.089033  0.515622 -1.756389 -1.304507  1.872050\n",
       "4 -1.655912  0.032319 -1.118991 -1.489180 -0.432212 -1.027397"
      ]
     },
     "execution_count": 236,
     "metadata": {},
     "output_type": "execute_result"
    }
   ],
   "source": [
    "df_explainable = pd.DataFrame(data)\n",
    "df_explainable.head()"
   ]
  },
  {
   "cell_type": "code",
   "execution_count": 237,
   "metadata": {},
   "outputs": [],
   "source": [
    "explaining_features = list(df_explainable.columns)"
   ]
  },
  {
   "cell_type": "code",
   "execution_count": 238,
   "metadata": {},
   "outputs": [],
   "source": [
    "df_observable = pd.DataFrame({\n",
    "    'a': a,\n",
    "    'b': b,\n",
    "    'c': c,\n",
    "    #'d': d,\n",
    "    #'e': e\n",
    "})\n",
    "observed_features = list(df_observable.columns)"
   ]
  },
  {
   "cell_type": "code",
   "execution_count": 239,
   "metadata": {},
   "outputs": [
    {
     "data": {
      "text/html": [
       "<div>\n",
       "<style scoped>\n",
       "    .dataframe tbody tr th:only-of-type {\n",
       "        vertical-align: middle;\n",
       "    }\n",
       "\n",
       "    .dataframe tbody tr th {\n",
       "        vertical-align: top;\n",
       "    }\n",
       "\n",
       "    .dataframe thead th {\n",
       "        text-align: right;\n",
       "    }\n",
       "</style>\n",
       "<table border=\"1\" class=\"dataframe\">\n",
       "  <thead>\n",
       "    <tr style=\"text-align: right;\">\n",
       "      <th></th>\n",
       "      <th>a</th>\n",
       "      <th>b</th>\n",
       "      <th>c</th>\n",
       "    </tr>\n",
       "  </thead>\n",
       "  <tbody>\n",
       "    <tr>\n",
       "      <th>0</th>\n",
       "      <td>1.0</td>\n",
       "      <td>1.0</td>\n",
       "      <td>0.0</td>\n",
       "    </tr>\n",
       "    <tr>\n",
       "      <th>1</th>\n",
       "      <td>0.0</td>\n",
       "      <td>0.0</td>\n",
       "      <td>0.0</td>\n",
       "    </tr>\n",
       "    <tr>\n",
       "      <th>2</th>\n",
       "      <td>0.0</td>\n",
       "      <td>1.0</td>\n",
       "      <td>0.0</td>\n",
       "    </tr>\n",
       "    <tr>\n",
       "      <th>3</th>\n",
       "      <td>1.0</td>\n",
       "      <td>0.0</td>\n",
       "      <td>0.0</td>\n",
       "    </tr>\n",
       "    <tr>\n",
       "      <th>4</th>\n",
       "      <td>0.0</td>\n",
       "      <td>1.0</td>\n",
       "      <td>0.0</td>\n",
       "    </tr>\n",
       "  </tbody>\n",
       "</table>\n",
       "</div>"
      ],
      "text/plain": [
       "     a    b    c\n",
       "0  1.0  1.0  0.0\n",
       "1  0.0  0.0  0.0\n",
       "2  0.0  1.0  0.0\n",
       "3  1.0  0.0  0.0\n",
       "4  0.0  1.0  0.0"
      ]
     },
     "execution_count": 239,
     "metadata": {},
     "output_type": "execute_result"
    }
   ],
   "source": [
    "df_observable.head()"
   ]
  },
  {
   "cell_type": "code",
   "execution_count": 240,
   "metadata": {},
   "outputs": [],
   "source": [
    "df_observable = df_observable.apply(lambda x: (x - x.min()) / (x.max() - x.min()), axis=0)\n",
    "df_explainable = df_explainable.apply(lambda x: (x - x.min()) / (x.max() - x.min()), axis=0)"
   ]
  },
  {
   "cell_type": "code",
   "execution_count": 241,
   "metadata": {},
   "outputs": [],
   "source": [
    "df_explainable.loc[:, 'Index'] = df_explainable.index\n",
    "df_observable.loc[:, 'Index'] = df_observable.index\n",
    "\n",
    "index_name = 'Index'"
   ]
  },
  {
   "cell_type": "code",
   "execution_count": 242,
   "metadata": {},
   "outputs": [
    {
     "name": "stdout",
     "output_type": "stream",
     "text": [
      "[6, np.int64(2)]\n"
     ]
    },
    {
     "data": {
      "image/png": "[encoded data removed]",
      "text/plain": [
       "<Figure size 3000x700 with 2 Axes>"
      ]
     },
     "metadata": {},
     "output_type": "display_data"
    }
   ],
   "source": [
    "from data_preparation import DataPreparator\n",
    "from apply_clustering import ClusteringApplier\n",
    "\n",
    "preparation_result = DataPreparator.prepare_data(\n",
    "    use_config=False,\n",
    "    df_observable=df_observable,\n",
    "    df_explainable=df_explainable,\n",
    "    distortion_mean=0.,\n",
    "    distortion_std=0.001,\n",
    "    observed_features=observed_features,\n",
    "    explaining_features=explaining_features,\n",
    "    nn_imputation_k=10,\n",
    "    group_name=index_name\n",
    ")\n",
    "optimal_number_of_clusters = ClusteringApplier.draw_gap_statistic_plot(\n",
    "    use_config=False, df_observable=preparation_result['observable_df'],\n",
    "    observed_features=observed_features,\n",
    "    gap_statistic_cluster_range=15\n",
    ")\n",
    "print(optimal_number_of_clusters)"
   ]
  },
  {
   "cell_type": "code",
   "execution_count": 243,
   "metadata": {},
   "outputs": [
    {
     "data": {
      "application/vnd.jupyter.widget-view+json": {
       "model_id": "6eae7b0bc3bd494a85b142222482e746",
       "version_major": 2,
       "version_minor": 0
      },
      "text/plain": [
       "  0%|          | 0/57 [00:00<?, ?it/s]"
      ]
     },
     "metadata": {},
     "output_type": "display_data"
    },
    {
     "data": {
      "image/png": "[encoded data removed]",
      "text/plain": [
       "<Figure size 2000x1000 with 1 Axes>"
      ]
     },
     "metadata": {},
     "output_type": "display_data"
    },
    {
     "data": {
      "image/png": "[encoded data removed]",
      "text/plain": [
       "<Figure size 2000x1000 with 1 Axes>"
      ]
     },
     "metadata": {},
     "output_type": "display_data"
    },
    {
     "data": {
      "image/png": "[encoded data removed]",
      "text/plain": [
       "<Figure size 2000x1000 with 1 Axes>"
      ]
     },
     "metadata": {},
     "output_type": "display_data"
    }
   ],
   "source": [
    "my_number_of_clusters = optimal_number_of_clusters[0] #max(3, optimal_number_of_clusters)\n",
    "observable_patterns_result = ClusteringApplier.calculate_observable_patterns(\n",
    "    use_config=False,\n",
    "    df_observable_data=preparation_result['observable_df'],\n",
    "    _n_clusters=my_number_of_clusters,\n",
    "    observable_name='observable_name',\n",
    "    observable_feature_names=observed_features,\n",
    "    plot_title='Name of the fingerprint plot',\n",
    "    number_observable_patterns='auto',\n",
    "    distance_measure_fingerprint='jensenshannon',\n",
    "    group_name=index_name, \n",
    ")\n",
    "calculate_explainable_distances_result = ClusteringApplier.calculate_explainable_distances(\n",
    "    use_config=False,\n",
    "    df_explainable=preparation_result['explainable_df'].copy(),\n",
    "    df_observable_distances=observable_patterns_result['pw_norm_dist'].copy(),\n",
    "    explaining_features=explaining_features,\n",
    "    method='exact',\n",
    "    distance_measure='correlation',\n",
    "    sparsity_parameter=0.01,\n",
    "    max_num_threads=12,\n",
    "    group_name=index_name\n",
    ")"
   ]
  },
  {
   "cell_type": "code",
   "execution_count": 244,
   "metadata": {},
   "outputs": [
    {
     "data": {
      "text/plain": [
       "[6, np.int64(2)]"
      ]
     },
     "execution_count": 244,
     "metadata": {},
     "output_type": "execute_result"
    }
   ],
   "source": [
    "optimal_number_of_clusters"
   ]
  },
  {
   "cell_type": "code",
   "execution_count": 245,
   "metadata": {},
   "outputs": [
    {
     "data": {
      "application/vnd.plotly.v1+json": {
       "config": {
        "plotlyServerURL": "https://plot.ly"
       },
       "data": [
        {
         "fill": "toself",
         "r": [
          0.0006340398954263369,
          0.9995770743559397,
          -0.00021111425136605702
         ],
         "subplot": "polar",
         "theta": [
          "a",
          "b",
          "c"
         ],
         "type": "scatterpolar"
        },
        {
         "fill": "toself",
         "r": [
          0.4999837809830537,
          0.5000971551937345,
          -0.0000809361767881093
         ],
         "subplot": "polar2",
         "theta": [
          "a",
          "b",
          "c"
         ],
         "type": "scatterpolar"
        },
        {
         "fill": "toself",
         "r": [
          0.33330113888378227,
          0.3332515372728665,
          0.3334473238433512
         ],
         "subplot": "polar3",
         "theta": [
          "a",
          "b",
          "c"
         ],
         "type": "scatterpolar"
        },
        {
         "fill": "toself",
         "r": [
          0.9992953495834137,
          0.0004138474660619542,
          0.00029080295052433334
         ],
         "subplot": "polar4",
         "theta": [
          "a",
          "b",
          "c"
         ],
         "type": "scatterpolar"
        },
        {
         "fill": "toself",
         "r": [
          0.04298721297746848,
          1.2199010460619364,
          -0.2628882590394048
         ],
         "subplot": "polar5",
         "theta": [
          "a",
          "b",
          "c"
         ],
         "type": "scatterpolar"
        },
        {
         "fill": "toself",
         "r": [
          0.49975861223181167,
          0.00043763331942554395,
          0.49980375444876274
         ],
         "subplot": "polar6",
         "theta": [
          "a",
          "b",
          "c"
         ],
         "type": "scatterpolar"
        }
       ],
       "layout": {
        "annotations": [
         {
          "font": {
           "size": 16
          },
          "showarrow": false,
          "text": "Fingerprint 1 (homogeneity: inf)",
          "x": 0.175,
          "xanchor": "center",
          "xref": "paper",
          "y": 1,
          "yanchor": "bottom",
          "yref": "paper"
         },
         {
          "font": {
           "size": 16
          },
          "showarrow": false,
          "text": "Fingerprint 2 (homogeneity: inf)",
          "x": 0.825,
          "xanchor": "center",
          "xref": "paper",
          "y": 1,
          "yanchor": "bottom",
          "yref": "paper"
         },
         {
          "font": {
           "size": 16
          },
          "showarrow": false,
          "text": "Fingerprint 3 (homogeneity: 0.00)",
          "x": 0.175,
          "xanchor": "center",
          "xref": "paper",
          "y": 0.6499999999999999,
          "yanchor": "bottom",
          "yref": "paper"
         },
         {
          "font": {
           "size": 16
          },
          "showarrow": false,
          "text": "Fingerprint 4 (homogeneity: 0.99)",
          "x": 0.825,
          "xanchor": "center",
          "xref": "paper",
          "y": 0.6499999999999999,
          "yanchor": "bottom",
          "yref": "paper"
         },
         {
          "font": {
           "size": 16
          },
          "showarrow": false,
          "text": "Fingerprint 5 (homogeneity: inf)",
          "x": 0.175,
          "xanchor": "center",
          "xref": "paper",
          "y": 0.3,
          "yanchor": "bottom",
          "yref": "paper"
         },
         {
          "font": {
           "size": 16
          },
          "showarrow": false,
          "text": "Fingerprint 6 (homogeneity: 0.37)",
          "x": 0.825,
          "xanchor": "center",
          "xref": "paper",
          "y": 0.3,
          "yanchor": "bottom",
          "yref": "paper"
         }
        ],
        "height": 1500,
        "paper_bgcolor": "rgba(0, 0, 0, 0)",
        "plot_bgcolor": "rgba(0, 0, 0, 0)",
        "polar": {
         "domain": {
          "x": [
           0,
           0.35
          ],
          "y": [
           0.7,
           1
          ]
         },
         "radialaxis": {
          "range": [
           -1,
           1
          ],
          "showticklabels": false,
          "visible": true
         }
        },
        "polar2": {
         "domain": {
          "x": [
           0.6499999999999999,
           0.9999999999999999
          ],
          "y": [
           0.7,
           1
          ]
         },
         "radialaxis": {
          "range": [
           -1,
           1
          ],
          "showticklabels": false,
          "visible": true
         }
        },
        "polar3": {
         "domain": {
          "x": [
           0,
           0.35
          ],
          "y": [
           0.35,
           0.6499999999999999
          ]
         },
         "radialaxis": {
          "range": [
           -1,
           1
          ],
          "showticklabels": false,
          "visible": true
         }
        },
        "polar4": {
         "domain": {
          "x": [
           0.6499999999999999,
           0.9999999999999999
          ],
          "y": [
           0.35,
           0.6499999999999999
          ]
         },
         "radialaxis": {
          "range": [
           -1,
           1
          ],
          "showticklabels": false,
          "visible": true
         }
        },
        "polar5": {
         "domain": {
          "x": [
           0,
           0.35
          ],
          "y": [
           0,
           0.3
          ]
         },
         "radialaxis": {
          "range": [
           -1,
           1
          ],
          "showticklabels": false,
          "visible": true
         }
        },
        "polar6": {
         "domain": {
          "x": [
           0.6499999999999999,
           0.9999999999999999
          ],
          "y": [
           0,
           0.3
          ]
         },
         "radialaxis": {
          "range": [
           -1,
           1
          ],
          "showticklabels": false,
          "visible": true
         }
        },
        "showlegend": false,
        "template": {
         "data": {
          "bar": [
           {
            "error_x": {
             "color": "#2a3f5f"
            },
            "error_y": {
             "color": "#2a3f5f"
            },
            "marker": {
             "line": {
              "color": "#E5ECF6",
              "width": 0.5
             },
             "pattern": {
              "fillmode": "overlay",
              "size": 10,
              "solidity": 0.2
             }
            },
            "type": "bar"
           }
          ],
          "barpolar": [
           {
            "marker": {
             "line": {
              "color": "#E5ECF6",
              "width": 0.5
             },
             "pattern": {
              "fillmode": "overlay",
              "size": 10,
              "solidity": 0.2
             }
            },
            "type": "barpolar"
           }
          ],
          "carpet": [
           {
            "aaxis": {
             "endlinecolor": "#2a3f5f",
             "gridcolor": "white",
             "linecolor": "white",
             "minorgridcolor": "white",
             "startlinecolor": "#2a3f5f"
            },
            "baxis": {
             "endlinecolor": "#2a3f5f",
             "gridcolor": "white",
             "linecolor": "white",
             "minorgridcolor": "white",
             "startlinecolor": "#2a3f5f"
            },
            "type": "carpet"
           }
          ],
          "choropleth": [
           {
            "colorbar": {
             "outlinewidth": 0,
             "ticks": ""
            },
            "type": "choropleth"
           }
          ],
          "contour": [
           {
            "colorbar": {
             "outlinewidth": 0,
             "ticks": ""
            },
            "colorscale": [
             [
              0,
              "#0d0887"
             ],
             [
              0.1111111111111111,
              "#46039f"
             ],
             [
              0.2222222222222222,
              "#7201a8"
             ],
             [
              0.3333333333333333,
              "#9c179e"
             ],
             [
              0.4444444444444444,
              "#bd3786"
             ],
             [
              0.5555555555555556,
              "#d8576b"
             ],
             [
              0.6666666666666666,
              "#ed7953"
             ],
             [
              0.7777777777777778,
              "#fb9f3a"
             ],
             [
              0.8888888888888888,
              "#fdca26"
             ],
             [
              1,
              "#f0f921"
             ]
            ],
            "type": "contour"
           }
          ],
          "contourcarpet": [
           {
            "colorbar": {
             "outlinewidth": 0,
             "ticks": ""
            },
            "type": "contourcarpet"
           }
          ],
          "heatmap": [
           {
            "colorbar": {
             "outlinewidth": 0,
             "ticks": ""
            },
            "colorscale": [
             [
              0,
              "#0d0887"
             ],
             [
              0.1111111111111111,
              "#46039f"
             ],
             [
              0.2222222222222222,
              "#7201a8"
             ],
             [
              0.3333333333333333,
              "#9c179e"
             ],
             [
              0.4444444444444444,
              "#bd3786"
             ],
             [
              0.5555555555555556,
              "#d8576b"
             ],
             [
              0.6666666666666666,
              "#ed7953"
             ],
             [
              0.7777777777777778,
              "#fb9f3a"
             ],
             [
              0.8888888888888888,
              "#fdca26"
             ],
             [
              1,
              "#f0f921"
             ]
            ],
            "type": "heatmap"
           }
          ],
          "heatmapgl": [
           {
            "colorbar": {
             "outlinewidth": 0,
             "ticks": ""
            },
            "colorscale": [
             [
              0,
              "#0d0887"
             ],
             [
              0.1111111111111111,
              "#46039f"
             ],
             [
              0.2222222222222222,
              "#7201a8"
             ],
             [
              0.3333333333333333,
              "#9c179e"
             ],
             [
              0.4444444444444444,
              "#bd3786"
             ],
             [
              0.5555555555555556,
              "#d8576b"
             ],
             [
              0.6666666666666666,
              "#ed7953"
             ],
             [
              0.7777777777777778,
              "#fb9f3a"
             ],
             [
              0.8888888888888888,
              "#fdca26"
             ],
             [
              1,
              "#f0f921"
             ]
            ],
            "type": "heatmapgl"
           }
          ],
          "histogram": [
           {
            "marker": {
             "pattern": {
              "fillmode": "overlay",
              "size": 10,
              "solidity": 0.2
             }
            },
            "type": "histogram"
           }
          ],
          "histogram2d": [
           {
            "colorbar": {
             "outlinewidth": 0,
             "ticks": ""
            },
            "colorscale": [
             [
              0,
              "#0d0887"
             ],
             [
              0.1111111111111111,
              "#46039f"
             ],
             [
              0.2222222222222222,
              "#7201a8"
             ],
             [
              0.3333333333333333,
              "#9c179e"
             ],
             [
              0.4444444444444444,
              "#bd3786"
             ],
             [
              0.5555555555555556,
              "#d8576b"
             ],
             [
              0.6666666666666666,
              "#ed7953"
             ],
             [
              0.7777777777777778,
              "#fb9f3a"
             ],
             [
              0.8888888888888888,
              "#fdca26"
             ],
             [
              1,
              "#f0f921"
             ]
            ],
            "type": "histogram2d"
           }
          ],
          "histogram2dcontour": [
           {
            "colorbar": {
             "outlinewidth": 0,
             "ticks": ""
            },
            "colorscale": [
             [
              0,
              "#0d0887"
             ],
             [
              0.1111111111111111,
              "#46039f"
             ],
             [
              0.2222222222222222,
              "#7201a8"
             ],
             [
              0.3333333333333333,
              "#9c179e"
             ],
             [
              0.4444444444444444,
              "#bd3786"
             ],
             [
              0.5555555555555556,
              "#d8576b"
             ],
             [
              0.6666666666666666,
              "#ed7953"
             ],
             [
              0.7777777777777778,
              "#fb9f3a"
             ],
             [
              0.8888888888888888,
              "#fdca26"
             ],
             [
              1,
              "#f0f921"
             ]
            ],
            "type": "histogram2dcontour"
           }
          ],
          "mesh3d": [
           {
            "colorbar": {
             "outlinewidth": 0,
             "ticks": ""
            },
            "type": "mesh3d"
           }
          ],
          "parcoords": [
           {
            "line": {
             "colorbar": {
              "outlinewidth": 0,
              "ticks": ""
             }
            },
            "type": "parcoords"
           }
          ],
          "pie": [
           {
            "automargin": true,
            "type": "pie"
           }
          ],
          "scatter": [
           {
            "fillpattern": {
             "fillmode": "overlay",
             "size": 10,
             "solidity": 0.2
            },
            "type": "scatter"
           }
          ],
          "scatter3d": [
           {
            "line": {
             "colorbar": {
              "outlinewidth": 0,
              "ticks": ""
             }
            },
            "marker": {
             "colorbar": {
              "outlinewidth": 0,
              "ticks": ""
             }
            },
            "type": "scatter3d"
           }
          ],
          "scattercarpet": [
           {
            "marker": {
             "colorbar": {
              "outlinewidth": 0,
              "ticks": ""
             }
            },
            "type": "scattercarpet"
           }
          ],
          "scattergeo": [
           {
            "marker": {
             "colorbar": {
              "outlinewidth": 0,
              "ticks": ""
             }
            },
            "type": "scattergeo"
           }
          ],
          "scattergl": [
           {
            "marker": {
             "colorbar": {
              "outlinewidth": 0,
              "ticks": ""
             }
            },
            "type": "scattergl"
           }
          ],
          "scattermapbox": [
           {
            "marker": {
             "colorbar": {
              "outlinewidth": 0,
              "ticks": ""
             }
            },
            "type": "scattermapbox"
           }
          ],
          "scatterpolar": [
           {
            "marker": {
             "colorbar": {
              "outlinewidth": 0,
              "ticks": ""
             }
            },
            "type": "scatterpolar"
           }
          ],
          "scatterpolargl": [
           {
            "marker": {
             "colorbar": {
              "outlinewidth": 0,
              "ticks": ""
             }
            },
            "type": "scatterpolargl"
           }
          ],
          "scatterternary": [
           {
            "marker": {
             "colorbar": {
              "outlinewidth": 0,
              "ticks": ""
             }
            },
            "type": "scatterternary"
           }
          ],
          "surface": [
           {
            "colorbar": {
             "outlinewidth": 0,
             "ticks": ""
            },
            "colorscale": [
             [
              0,
              "#0d0887"
             ],
             [
              0.1111111111111111,
              "#46039f"
             ],
             [
              0.2222222222222222,
              "#7201a8"
             ],
             [
              0.3333333333333333,
              "#9c179e"
             ],
             [
              0.4444444444444444,
              "#bd3786"
             ],
             [
              0.5555555555555556,
              "#d8576b"
             ],
             [
              0.6666666666666666,
              "#ed7953"
             ],
             [
              0.7777777777777778,
              "#fb9f3a"
             ],
             [
              0.8888888888888888,
              "#fdca26"
             ],
             [
              1,
              "#f0f921"
             ]
            ],
            "type": "surface"
           }
          ],
          "table": [
           {
            "cells": {
             "fill": {
              "color": "#EBF0F8"
             },
             "line": {
              "color": "white"
             }
            },
            "header": {
             "fill": {
              "color": "#C8D4E3"
             },
             "line": {
              "color": "white"
             }
            },
            "type": "table"
           }
          ]
         },
         "layout": {
          "annotationdefaults": {
           "arrowcolor": "#2a3f5f",
           "arrowhead": 0,
           "arrowwidth": 1
          },
          "autotypenumbers": "strict",
          "coloraxis": {
           "colorbar": {
            "outlinewidth": 0,
            "ticks": ""
           }
          },
          "colorscale": {
           "diverging": [
            [
             0,
             "#8e0152"
            ],
            [
             0.1,
             "#c51b7d"
            ],
            [
             0.2,
             "#de77ae"
            ],
            [
             0.3,
             "#f1b6da"
            ],
            [
             0.4,
             "#fde0ef"
            ],
            [
             0.5,
             "#f7f7f7"
            ],
            [
             0.6,
             "#e6f5d0"
            ],
            [
             0.7,
             "#b8e186"
            ],
            [
             0.8,
             "#7fbc41"
            ],
            [
             0.9,
             "#4d9221"
            ],
            [
             1,
             "#276419"
            ]
           ],
           "sequential": [
            [
             0,
             "#0d0887"
            ],
            [
             0.1111111111111111,
             "#46039f"
            ],
            [
             0.2222222222222222,
             "#7201a8"
            ],
            [
             0.3333333333333333,
             "#9c179e"
            ],
            [
             0.4444444444444444,
             "#bd3786"
            ],
            [
             0.5555555555555556,
             "#d8576b"
            ],
            [
             0.6666666666666666,
             "#ed7953"
            ],
            [
             0.7777777777777778,
             "#fb9f3a"
            ],
            [
             0.8888888888888888,
             "#fdca26"
            ],
            [
             1,
             "#f0f921"
            ]
           ],
           "sequentialminus": [
            [
             0,
             "#0d0887"
            ],
            [
             0.1111111111111111,
             "#46039f"
            ],
            [
             0.2222222222222222,
             "#7201a8"
            ],
            [
             0.3333333333333333,
             "#9c179e"
            ],
            [
             0.4444444444444444,
             "#bd3786"
            ],
            [
             0.5555555555555556,
             "#d8576b"
            ],
            [
             0.6666666666666666,
             "#ed7953"
            ],
            [
             0.7777777777777778,
             "#fb9f3a"
            ],
            [
             0.8888888888888888,
             "#fdca26"
            ],
            [
             1,
             "#f0f921"
            ]
           ]
          },
          "colorway": [
           "#636efa",
           "#EF553B",
           "#00cc96",
           "#ab63fa",
           "#FFA15A",
           "#19d3f3",
           "#FF6692",
           "#B6E880",
           "#FF97FF",
           "#FECB52"
          ],
          "font": {
           "color": "#2a3f5f"
          },
          "geo": {
           "bgcolor": "white",
           "lakecolor": "white",
           "landcolor": "#E5ECF6",
           "showlakes": true,
           "showland": true,
           "subunitcolor": "white"
          },
          "hoverlabel": {
           "align": "left"
          },
          "hovermode": "closest",
          "mapbox": {
           "style": "light"
          },
          "paper_bgcolor": "white",
          "plot_bgcolor": "#E5ECF6",
          "polar": {
           "angularaxis": {
            "gridcolor": "white",
            "linecolor": "white",
            "ticks": ""
           },
           "bgcolor": "#E5ECF6",
           "radialaxis": {
            "gridcolor": "white",
            "linecolor": "white",
            "ticks": ""
           }
          },
          "scene": {
           "xaxis": {
            "backgroundcolor": "#E5ECF6",
            "gridcolor": "white",
            "gridwidth": 2,
            "linecolor": "white",
            "showbackground": true,
            "ticks": "",
            "zerolinecolor": "white"
           },
           "yaxis": {
            "backgroundcolor": "#E5ECF6",
            "gridcolor": "white",
            "gridwidth": 2,
            "linecolor": "white",
            "showbackground": true,
            "ticks": "",
            "zerolinecolor": "white"
           },
           "zaxis": {
            "backgroundcolor": "#E5ECF6",
            "gridcolor": "white",
            "gridwidth": 2,
            "linecolor": "white",
            "showbackground": true,
            "ticks": "",
            "zerolinecolor": "white"
           }
          },
          "shapedefaults": {
           "line": {
            "color": "#2a3f5f"
           }
          },
          "ternary": {
           "aaxis": {
            "gridcolor": "white",
            "linecolor": "white",
            "ticks": ""
           },
           "baxis": {
            "gridcolor": "white",
            "linecolor": "white",
            "ticks": ""
           },
           "bgcolor": "#E5ECF6",
           "caxis": {
            "gridcolor": "white",
            "linecolor": "white",
            "ticks": ""
           }
          },
          "title": {
           "x": 0.05
          },
          "xaxis": {
           "automargin": true,
           "gridcolor": "white",
           "linecolor": "white",
           "ticks": "",
           "title": {
            "standoff": 15
           },
           "zerolinecolor": "white",
           "zerolinewidth": 2
          },
          "yaxis": {
           "automargin": true,
           "gridcolor": "white",
           "linecolor": "white",
           "ticks": "",
           "title": {
            "standoff": 15
           },
           "zerolinecolor": "white",
           "zerolinewidth": 2
          }
         }
        },
        "title": {
         "text": "Name of the fingerprint plot"
        },
        "width": 1000
       }
      }
     },
     "metadata": {},
     "output_type": "display_data"
    }
   ],
   "source": [
    "observable_patterns_result['spider_plots']"
   ]
  },
  {
   "cell_type": "code",
   "execution_count": 246,
   "metadata": {},
   "outputs": [
    {
     "data": {
      "text/html": [
       "<div>\n",
       "<style scoped>\n",
       "    .dataframe tbody tr th:only-of-type {\n",
       "        vertical-align: middle;\n",
       "    }\n",
       "\n",
       "    .dataframe tbody tr th {\n",
       "        vertical-align: top;\n",
       "    }\n",
       "\n",
       "    .dataframe thead th {\n",
       "        text-align: right;\n",
       "    }\n",
       "</style>\n",
       "<table border=\"1\" class=\"dataframe\">\n",
       "  <thead>\n",
       "    <tr style=\"text-align: right;\">\n",
       "      <th></th>\n",
       "      <th>feature</th>\n",
       "      <th>scaling</th>\n",
       "    </tr>\n",
       "  </thead>\n",
       "  <tbody>\n",
       "    <tr>\n",
       "      <th>0</th>\n",
       "      <td>a</td>\n",
       "      <td>1.0</td>\n",
       "    </tr>\n",
       "    <tr>\n",
       "      <th>1</th>\n",
       "      <td>b</td>\n",
       "      <td>1.0</td>\n",
       "    </tr>\n",
       "    <tr>\n",
       "      <th>2</th>\n",
       "      <td>c</td>\n",
       "      <td>1.0</td>\n",
       "    </tr>\n",
       "  </tbody>\n",
       "</table>\n",
       "</div>"
      ],
      "text/plain": [
       "  feature  scaling\n",
       "0       a      1.0\n",
       "1       b      1.0\n",
       "2       c      1.0"
      ]
     },
     "execution_count": 246,
     "metadata": {},
     "output_type": "execute_result"
    }
   ],
   "source": [
    "preparation_result['observable_scaling']"
   ]
  },
  {
   "cell_type": "code",
   "execution_count": 247,
   "metadata": {},
   "outputs": [
    {
     "data": {
      "text/plain": [
       "dict_keys(['overview_df', 'df_explainable_distances', 'dendrogram', 'optimal_feature_set'])"
      ]
     },
     "execution_count": 247,
     "metadata": {},
     "output_type": "execute_result"
    }
   ],
   "source": [
    "calculate_explainable_distances_result.keys()"
   ]
  },
  {
   "cell_type": "code",
   "execution_count": 248,
   "metadata": {},
   "outputs": [
    {
     "data": {
      "text/plain": [
       "dict_keys(['df_cluster_median', 'df_observable_data', 'df_fingerprint', 'pw_dist', 'pw_norm_dist', 'spider_plots', 'fingerprint_distance_plots'])"
      ]
     },
     "execution_count": 248,
     "metadata": {},
     "output_type": "execute_result"
    }
   ],
   "source": [
    "observable_patterns_result.keys()"
   ]
  },
  {
   "cell_type": "code",
   "execution_count": 249,
   "metadata": {},
   "outputs": [
    {
     "data": {
      "text/plain": [
       "[0, 1, 3, 4]"
      ]
     },
     "execution_count": 249,
     "metadata": {},
     "output_type": "execute_result"
    }
   ],
   "source": [
    "calculate_explainable_distances_result['optimal_feature_set']"
   ]
  },
  {
   "cell_type": "code",
   "execution_count": 250,
   "metadata": {},
   "outputs": [
    {
     "data": {
      "text/html": [
       "<div>\n",
       "<style scoped>\n",
       "    .dataframe tbody tr th:only-of-type {\n",
       "        vertical-align: middle;\n",
       "    }\n",
       "\n",
       "    .dataframe tbody tr th {\n",
       "        vertical-align: top;\n",
       "    }\n",
       "\n",
       "    .dataframe thead th {\n",
       "        text-align: right;\n",
       "    }\n",
       "</style>\n",
       "<table border=\"1\" class=\"dataframe\">\n",
       "  <thead>\n",
       "    <tr style=\"text-align: right;\">\n",
       "      <th></th>\n",
       "      <th>correlation</th>\n",
       "      <th>0</th>\n",
       "      <th>1</th>\n",
       "      <th>2</th>\n",
       "      <th>3</th>\n",
       "      <th>4</th>\n",
       "      <th>5</th>\n",
       "    </tr>\n",
       "  </thead>\n",
       "  <tbody>\n",
       "    <tr>\n",
       "      <th>0</th>\n",
       "      <td>0.17275</td>\n",
       "      <td>1</td>\n",
       "      <td>1</td>\n",
       "      <td>0</td>\n",
       "      <td>1</td>\n",
       "      <td>1</td>\n",
       "      <td>0</td>\n",
       "    </tr>\n",
       "  </tbody>\n",
       "</table>\n",
       "</div>"
      ],
      "text/plain": [
       "   correlation  0  1  2  3  4  5\n",
       "0      0.17275  1  1  0  1  1  0"
      ]
     },
     "execution_count": 250,
     "metadata": {},
     "output_type": "execute_result"
    }
   ],
   "source": [
    "calculate_explainable_distances_result['overview_df']"
   ]
  },
  {
   "cell_type": "code",
   "execution_count": 251,
   "metadata": {},
   "outputs": [
    {
     "data": {
      "image/png": "[encoded data removed]",
      "text/plain": [
       "<Figure size 1000x500 with 1 Axes>"
      ]
     },
     "metadata": {},
     "output_type": "display_data"
    },
    {
     "data": {
      "image/png": "[encoded data removed]",
      "text/plain": [
       "<Figure size 1000x500 with 1 Axes>"
      ]
     },
     "metadata": {},
     "output_type": "display_data"
    }
   ],
   "source": [
    "fig_1, fig_2 = get_feature_importances(\n",
    "    my_feature_set=explaining_features, #calculate_explainable_distances_result['optimal_feature_set'],\n",
    "    df_explainable=preparation_result['explainable_df']\n",
    ")"
   ]
  },
  {
   "cell_type": "code",
   "execution_count": 228,
   "metadata": {},
   "outputs": [
    {
     "data": {
      "text/plain": [
       "Ellipsis"
      ]
     },
     "execution_count": 228,
     "metadata": {},
     "output_type": "execute_result"
    }
   ],
   "source": [
    "..."
   ]
  },
  {
   "cell_type": "code",
   "execution_count": 257,
   "metadata": {},
   "outputs": [],
   "source": [
    "def foo(df_observable, df_explainable, my_feature_set, group_name, K=100):\n",
    "    obs_df = df_observable.reset_index()\n",
    "    idx = obs_df.index\n",
    "    y = df_observable.reset_index().groupby(group_name).mean().to_numpy()\n",
    "    get_y = lambda: obs_df.loc[permutation(idx)].drop_duplicates(subset=[group_name], keep='first').set_index(group_name).loc[df_explainable.index].to_numpy()\n",
    "\n",
    "    model = LinearRegression()\n",
    "    X = df_explainable.loc[:, my_feature_set].to_numpy()\n",
    "    model.fit(X,y)\n",
    "    y_pred = model.predict(X)\n",
    "    R2 = explained_variance_score(y_true=y, y_pred=y_pred)\n",
    "\n",
    "    feature_importances = defaultdict(lambda: 0.)\n",
    "    for col_i in range(X.shape[1]):\n",
    "        for k in range(K):\n",
    "            permuted_X = X.copy()\n",
    "            permuted_X[:, col_i] = permutation(permuted_X[:, col_i])\n",
    "            y = get_y()\n",
    "            model.fit(X,y)\n",
    "            R2 = explained_variance_score(y_true=y, y_pred=model.predict(X))\n",
    "            y_pred = model.predict(permuted_X)\n",
    "            feature_importances[my_feature_set[col_i]] += (R2 - explained_variance_score(y_true=y, y_pred=y_pred))/K\n",
    "\n",
    "    adj_sum = sum(feature_importances.values())\n",
    "    for key, val in feature_importances.items():\n",
    "        feature_importances[key] = val / adj_sum\n",
    "\n",
    "    assert np.isclose(sum(feature_importances.values()), 1)\n",
    "\n",
    "    return feature_importances"
   ]
  },
  {
   "cell_type": "code",
   "execution_count": 259,
   "metadata": {},
   "outputs": [
    {
     "data": {
      "text/plain": [
       "<Axes: >"
      ]
     },
     "execution_count": 259,
     "metadata": {},
     "output_type": "execute_result"
    },
    {
     "data": {
      "image/png": "[encoded data removed]",
      "text/plain": [
       "<Figure size 640x480 with 1 Axes>"
      ]
     },
     "metadata": {},
     "output_type": "display_data"
    }
   ],
   "source": [
    "res = foo(preparation_result['observable_df'], preparation_result['explainable_df'], explaining_features, group_name='Index')\n",
    "sns.barplot(res)"
   ]
  },
  {
   "cell_type": "code",
   "execution_count": null,
   "metadata": {},
   "outputs": [],
   "source": []
  }
 ],
 "metadata": {
  "kernelspec": {
   "display_name": "Python 3",
   "language": "python",
   "name": "python3"
  },
  "language_info": {
   "codemirror_mode": {
    "name": "ipython",
    "version": 3
   },
   "file_extension": ".py",
   "mimetype": "text/x-python",
   "name": "python",
   "nbconvert_exporter": "python",
   "pygments_lexer": "ipython3",
   "version": "3.12.4"
  }
 },
 "nbformat": 4,
 "nbformat_minor": 2
}
