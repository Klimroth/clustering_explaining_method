{
 "cells": [
  {
   "cell_type": "code",
   "execution_count": 1,
   "metadata": {},
   "outputs": [],
   "source": [
    "import numpy as np\n",
    "import pandas as pd"
   ]
  },
  {
   "cell_type": "code",
   "execution_count": 2,
   "metadata": {},
   "outputs": [],
   "source": [
    "from apply_clustering import ClusteringApplier\n",
    "from itertools import combinations\n",
    "from sklearn.linear_model import LinearRegression\n",
    "from sklearn.metrics import explained_variance_score\n",
    "from numpy.random import permutation\n",
    "from collections import defaultdict\n",
    "import matplotlib.pyplot as plt\n",
    "import seaborn as sns\n",
    "\n",
    "def get_feature_importances(my_feature_set, df_explainable, df_observable_distances, K=100):\n",
    "    feature_combinations = []\n",
    "    ([[feature_combinations.append(np.array(c)) for c in combinations(np.arange(len(my_feature_set)), i)] for i in range(1, len(my_feature_set)+1)])\n",
    "    \n",
    "    _, df_explainable_distances = ClusteringApplier.calculate_pairwise_distances(\n",
    "        df_explainable.loc[:, my_feature_set], my_feature_set, 'correlation',\n",
    "    )\n",
    "\n",
    "    X = df_explainable_distances.loc[:, my_feature_set].to_numpy()\n",
    "    y = df_observable_distances.to_numpy()\n",
    "    model = LinearRegression()\n",
    "    model.fit(X,y)\n",
    "    y_pred = model.predict(X)\n",
    "    R2 = explained_variance_score(y_true=y, y_pred=y_pred)\n",
    "    feature_importances = defaultdict(lambda: 0.)\n",
    "\n",
    "    i = 0\n",
    "    for cols in feature_combinations:\n",
    "        for k in range(K):\n",
    "            permuted_X = X.copy()\n",
    "            for col_i in cols:\n",
    "                permuted_X[:, col_i] = permutation(permuted_X[:, col_i])\n",
    "            y_pred = model.predict(permuted_X)\n",
    "            feature_importances[i] += explained_variance_score(y_true=y, y_pred=y_pred)\n",
    "        i += 1\n",
    "\n",
    "    i = 0\n",
    "    for cols in feature_combinations:\n",
    "        feature_importances[i] = max(0, R2 - (feature_importances[i]/K))\n",
    "        i += 1\n",
    "        \n",
    "    adj_sum = sum(feature_importances.values())\n",
    "    for key, val in feature_importances.items():\n",
    "        feature_importances[key] = val / adj_sum\n",
    "\n",
    "    assert np.isclose(sum(feature_importances.values()), 1)\n",
    "\n",
    "    def human_readable(_dict: dict) -> dict:\n",
    "        return {str([str(a) for a in np.array(my_feature_set)[feature_combinations[k]]]):v for k, v in _dict.items()}\n",
    "    \n",
    "    human_readable_dict = human_readable(feature_importances)\n",
    "    fig_1 = plt.figure(figsize=(10, 5))\n",
    "    ax1 = sns.barplot(human_readable_dict)\n",
    "    ax1.axes.xaxis.set_tick_params(rotation=90)\n",
    "\n",
    "    revised_feature_importances = defaultdict(lambda: 0)\n",
    "    i = 0\n",
    "    for cols in feature_combinations:\n",
    "            \n",
    "        a = feature_importances[i]\n",
    "        b = sum([feature_importances[j] for j in cols])\n",
    "        revised_feature_importances[i] += a-b#a/b-1\n",
    "\n",
    "        i += 1\n",
    "\n",
    "    fig_2 = plt.figure(figsize=(10, 5))\n",
    "    ax2 = sns.barplot(human_readable(revised_feature_importances))\n",
    "    ax2.axes.xaxis.set_tick_params(rotation=90)\n",
    "\n",
    "    return fig_1, fig_2\n"
   ]
  },
  {
   "cell_type": "code",
   "execution_count": 3,
   "metadata": {},
   "outputs": [],
   "source": [
    "base_size = 10000"
   ]
  },
  {
   "cell_type": "code",
   "execution_count": 4,
   "metadata": {},
   "outputs": [],
   "source": [
    "observation_data = np.random.normal(loc=0, scale=1, size=(base_size, 6))"
   ]
  },
  {
   "cell_type": "code",
   "execution_count": 5,
   "metadata": {},
   "outputs": [],
   "source": [
    "_a = np.random.normal(loc=0.3, scale=0.1, size=(base_size, 1)).flatten()\n",
    "_b = np.random.normal(loc=0.4, scale=0.1, size=(base_size, 1)).flatten()\n",
    "_c1 = np.random.normal(loc=0.5, scale=0.1, size=(base_size, 1)).flatten()\n",
    "_c2 = np.random.normal(loc=0.4, scale=0.2, size=(base_size, 1)).flatten()\n",
    "_d1 = np.random.normal(loc=0.3, scale=0.1, size=(base_size, 1)).flatten()\n",
    "_d2 = np.random.normal(loc=0.2, scale=0.05, size=(base_size, 1)).flatten()"
   ]
  },
  {
   "cell_type": "code",
   "execution_count": 6,
   "metadata": {},
   "outputs": [],
   "source": [
    "individuals = 10\n",
    "explanation_data = np.random.uniform(0,1, size=(individuals, 10)) # np.random.normal(loc=0, scale=1, size=(individuals, 6))"
   ]
  },
  {
   "cell_type": "code",
   "execution_count": 7,
   "metadata": {},
   "outputs": [
    {
     "data": {
      "text/html": [
       "<div>\n",
       "<style scoped>\n",
       "    .dataframe tbody tr th:only-of-type {\n",
       "        vertical-align: middle;\n",
       "    }\n",
       "\n",
       "    .dataframe tbody tr th {\n",
       "        vertical-align: top;\n",
       "    }\n",
       "\n",
       "    .dataframe thead th {\n",
       "        text-align: right;\n",
       "    }\n",
       "</style>\n",
       "<table border=\"1\" class=\"dataframe\">\n",
       "  <thead>\n",
       "    <tr style=\"text-align: right;\">\n",
       "      <th></th>\n",
       "      <th>0</th>\n",
       "      <th>1</th>\n",
       "      <th>2</th>\n",
       "      <th>3</th>\n",
       "      <th>4</th>\n",
       "      <th>5</th>\n",
       "      <th>6</th>\n",
       "      <th>7</th>\n",
       "      <th>8</th>\n",
       "      <th>9</th>\n",
       "    </tr>\n",
       "    <tr>\n",
       "      <th>Individual</th>\n",
       "      <th></th>\n",
       "      <th></th>\n",
       "      <th></th>\n",
       "      <th></th>\n",
       "      <th></th>\n",
       "      <th></th>\n",
       "      <th></th>\n",
       "      <th></th>\n",
       "      <th></th>\n",
       "      <th></th>\n",
       "    </tr>\n",
       "  </thead>\n",
       "  <tbody>\n",
       "    <tr>\n",
       "      <th>Individual_0</th>\n",
       "      <td>0.088110</td>\n",
       "      <td>0.660737</td>\n",
       "      <td>0.387810</td>\n",
       "      <td>0.060147</td>\n",
       "      <td>0.139156</td>\n",
       "      <td>0.424243</td>\n",
       "      <td>0.107182</td>\n",
       "      <td>0.591145</td>\n",
       "      <td>0.132823</td>\n",
       "      <td>0.211522</td>\n",
       "    </tr>\n",
       "    <tr>\n",
       "      <th>Individual_1</th>\n",
       "      <td>0.893035</td>\n",
       "      <td>0.411668</td>\n",
       "      <td>0.229860</td>\n",
       "      <td>0.383825</td>\n",
       "      <td>0.824012</td>\n",
       "      <td>0.082098</td>\n",
       "      <td>0.427890</td>\n",
       "      <td>0.829762</td>\n",
       "      <td>0.268183</td>\n",
       "      <td>0.852419</td>\n",
       "    </tr>\n",
       "    <tr>\n",
       "      <th>Individual_2</th>\n",
       "      <td>0.033493</td>\n",
       "      <td>0.715803</td>\n",
       "      <td>0.838972</td>\n",
       "      <td>0.359572</td>\n",
       "      <td>0.024164</td>\n",
       "      <td>0.918486</td>\n",
       "      <td>0.459062</td>\n",
       "      <td>0.189922</td>\n",
       "      <td>0.179489</td>\n",
       "      <td>0.217607</td>\n",
       "    </tr>\n",
       "    <tr>\n",
       "      <th>Individual_3</th>\n",
       "      <td>0.556611</td>\n",
       "      <td>0.548546</td>\n",
       "      <td>0.133517</td>\n",
       "      <td>0.115826</td>\n",
       "      <td>0.175755</td>\n",
       "      <td>0.416204</td>\n",
       "      <td>0.948341</td>\n",
       "      <td>0.765969</td>\n",
       "      <td>0.852559</td>\n",
       "      <td>0.040197</td>\n",
       "    </tr>\n",
       "    <tr>\n",
       "      <th>Individual_4</th>\n",
       "      <td>0.198222</td>\n",
       "      <td>0.377342</td>\n",
       "      <td>0.158198</td>\n",
       "      <td>0.968630</td>\n",
       "      <td>0.173499</td>\n",
       "      <td>0.209809</td>\n",
       "      <td>0.729877</td>\n",
       "      <td>0.620110</td>\n",
       "      <td>0.515900</td>\n",
       "      <td>0.542158</td>\n",
       "    </tr>\n",
       "  </tbody>\n",
       "</table>\n",
       "</div>"
      ],
      "text/plain": [
       "                     0         1         2         3         4         5  \\\n",
       "Individual                                                                 \n",
       "Individual_0  0.088110  0.660737  0.387810  0.060147  0.139156  0.424243   \n",
       "Individual_1  0.893035  0.411668  0.229860  0.383825  0.824012  0.082098   \n",
       "Individual_2  0.033493  0.715803  0.838972  0.359572  0.024164  0.918486   \n",
       "Individual_3  0.556611  0.548546  0.133517  0.115826  0.175755  0.416204   \n",
       "Individual_4  0.198222  0.377342  0.158198  0.968630  0.173499  0.209809   \n",
       "\n",
       "                     6         7         8         9  \n",
       "Individual                                            \n",
       "Individual_0  0.107182  0.591145  0.132823  0.211522  \n",
       "Individual_1  0.427890  0.829762  0.268183  0.852419  \n",
       "Individual_2  0.459062  0.189922  0.179489  0.217607  \n",
       "Individual_3  0.948341  0.765969  0.852559  0.040197  \n",
       "Individual_4  0.729877  0.620110  0.515900  0.542158  "
      ]
     },
     "execution_count": 7,
     "metadata": {},
     "output_type": "execute_result"
    }
   ],
   "source": [
    "df_explainable = pd.DataFrame(explanation_data)\n",
    "df_explainable.loc[:, 'Individual'] = [f'Individual_{i}' for i in df_explainable.index]\n",
    "df_explainable.set_index('Individual', inplace=True)\n",
    "df_explainable.head()"
   ]
  },
  {
   "cell_type": "code",
   "execution_count": 8,
   "metadata": {},
   "outputs": [],
   "source": [
    "explaining_features = np.array(list(df_explainable.columns))"
   ]
  },
  {
   "cell_type": "code",
   "execution_count": 9,
   "metadata": {},
   "outputs": [
    {
     "data": {
      "text/plain": [
       "['unexplainable_1',\n",
       " 'unexplainable_2',\n",
       " 'unexplainable_3',\n",
       " 'unexplainable_4',\n",
       " 'explained_by_feature_0',\n",
       " 'explained_by_feature_1_2_3']"
      ]
     },
     "execution_count": 9,
     "metadata": {},
     "output_type": "execute_result"
    }
   ],
   "source": [
    "individual_array = np.random.choice(df_explainable.index.unique(), size=base_size)\n",
    "\n",
    "df_observable = pd.DataFrame({\n",
    "    'Individual': individual_array,\n",
    "})\n",
    "df_observable.loc[:, 'unexplainable_1'] = np.random.uniform(0,1, size=base_size)\n",
    "df_observable.loc[:, 'unexplainable_2'] = np.random.uniform(0,1, size=base_size)\n",
    "df_observable.loc[:, 'unexplainable_3'] = np.random.uniform(0,1, size=base_size)\n",
    "df_observable.loc[:, 'unexplainable_4'] = np.random.uniform(0,1, size=base_size)\n",
    "\n",
    "req_1 = df_explainable.loc[individual_array, 1].values > 0.5\n",
    "df_observable.loc[:, 'explained_by_feature_0'] = df_explainable.loc[individual_array, 0].values\n",
    "df_observable.loc[:, 'explained_by_feature_1_2_3'] = req_1 * df_explainable.loc[individual_array, 2].values + (1-req_1) * df_explainable.loc[individual_array, 3].values\n",
    "\n",
    "#np.minimum((df_explainable.loc[df_observable.loc[:, 'Individual'], 1].values > 0.5), (df_explainable.loc[df_observable.loc[:, 'Individual'], 2].values > 0.5)) * 1.0 \n",
    "#(df_explainable.loc[df_observable.loc[:, 'Individual'], 1].values < 0.) * (df_explainable.loc[df_observable.loc[:, 'Individual'], 2]).values + np.random.normal(loc=0.0, scale=0.05, size=(base_size, 1)).flatten()\n",
    "\n",
    "df_observable.set_index('Individual', inplace=True)\n",
    "observed_features = list(df_observable.columns)\n",
    "observed_features"
   ]
  },
  {
   "cell_type": "code",
   "execution_count": 10,
   "metadata": {},
   "outputs": [
    {
     "data": {
      "text/html": [
       "<div>\n",
       "<style scoped>\n",
       "    .dataframe tbody tr th:only-of-type {\n",
       "        vertical-align: middle;\n",
       "    }\n",
       "\n",
       "    .dataframe tbody tr th {\n",
       "        vertical-align: top;\n",
       "    }\n",
       "\n",
       "    .dataframe thead th {\n",
       "        text-align: right;\n",
       "    }\n",
       "</style>\n",
       "<table border=\"1\" class=\"dataframe\">\n",
       "  <thead>\n",
       "    <tr style=\"text-align: right;\">\n",
       "      <th></th>\n",
       "      <th>unexplainable_1</th>\n",
       "      <th>unexplainable_2</th>\n",
       "      <th>unexplainable_3</th>\n",
       "      <th>unexplainable_4</th>\n",
       "      <th>explained_by_feature_0</th>\n",
       "      <th>explained_by_feature_1_2_3</th>\n",
       "    </tr>\n",
       "    <tr>\n",
       "      <th>Individual</th>\n",
       "      <th></th>\n",
       "      <th></th>\n",
       "      <th></th>\n",
       "      <th></th>\n",
       "      <th></th>\n",
       "      <th></th>\n",
       "    </tr>\n",
       "  </thead>\n",
       "  <tbody>\n",
       "    <tr>\n",
       "      <th>Individual_3</th>\n",
       "      <td>0.935721</td>\n",
       "      <td>0.589479</td>\n",
       "      <td>0.697937</td>\n",
       "      <td>0.577535</td>\n",
       "      <td>0.556611</td>\n",
       "      <td>0.133517</td>\n",
       "    </tr>\n",
       "    <tr>\n",
       "      <th>Individual_7</th>\n",
       "      <td>0.174978</td>\n",
       "      <td>0.533474</td>\n",
       "      <td>0.878566</td>\n",
       "      <td>0.117273</td>\n",
       "      <td>0.901490</td>\n",
       "      <td>0.095228</td>\n",
       "    </tr>\n",
       "    <tr>\n",
       "      <th>Individual_7</th>\n",
       "      <td>0.429975</td>\n",
       "      <td>0.507894</td>\n",
       "      <td>0.534674</td>\n",
       "      <td>0.826410</td>\n",
       "      <td>0.901490</td>\n",
       "      <td>0.095228</td>\n",
       "    </tr>\n",
       "    <tr>\n",
       "      <th>Individual_2</th>\n",
       "      <td>0.712799</td>\n",
       "      <td>0.161617</td>\n",
       "      <td>0.488116</td>\n",
       "      <td>0.241661</td>\n",
       "      <td>0.033493</td>\n",
       "      <td>0.838972</td>\n",
       "    </tr>\n",
       "    <tr>\n",
       "      <th>Individual_3</th>\n",
       "      <td>0.905378</td>\n",
       "      <td>0.005941</td>\n",
       "      <td>0.321905</td>\n",
       "      <td>0.880328</td>\n",
       "      <td>0.556611</td>\n",
       "      <td>0.133517</td>\n",
       "    </tr>\n",
       "  </tbody>\n",
       "</table>\n",
       "</div>"
      ],
      "text/plain": [
       "              unexplainable_1  unexplainable_2  unexplainable_3  \\\n",
       "Individual                                                        \n",
       "Individual_3         0.935721         0.589479         0.697937   \n",
       "Individual_7         0.174978         0.533474         0.878566   \n",
       "Individual_7         0.429975         0.507894         0.534674   \n",
       "Individual_2         0.712799         0.161617         0.488116   \n",
       "Individual_3         0.905378         0.005941         0.321905   \n",
       "\n",
       "              unexplainable_4  explained_by_feature_0  \\\n",
       "Individual                                              \n",
       "Individual_3         0.577535                0.556611   \n",
       "Individual_7         0.117273                0.901490   \n",
       "Individual_7         0.826410                0.901490   \n",
       "Individual_2         0.241661                0.033493   \n",
       "Individual_3         0.880328                0.556611   \n",
       "\n",
       "              explained_by_feature_1_2_3  \n",
       "Individual                                \n",
       "Individual_3                    0.133517  \n",
       "Individual_7                    0.095228  \n",
       "Individual_7                    0.095228  \n",
       "Individual_2                    0.838972  \n",
       "Individual_3                    0.133517  "
      ]
     },
     "execution_count": 10,
     "metadata": {},
     "output_type": "execute_result"
    }
   ],
   "source": [
    "df_observable.head()"
   ]
  },
  {
   "cell_type": "code",
   "execution_count": 11,
   "metadata": {},
   "outputs": [],
   "source": [
    "df_observable = df_observable.apply(lambda x: (x - x.min()) / (x.max() - x.min()), axis=0)\n",
    "df_explainable = df_explainable.apply(lambda x: (x - x.min()) / (x.max() - x.min()), axis=0)"
   ]
  },
  {
   "cell_type": "code",
   "execution_count": 12,
   "metadata": {},
   "outputs": [],
   "source": [
    "#df_explainable.loc[:, 'Index'] = df_explainable.index\n",
    "#df_observable.loc[:, 'Index'] = df_observable.index\n",
    "\n",
    "index_name = 'Individual'"
   ]
  },
  {
   "cell_type": "code",
   "execution_count": 13,
   "metadata": {},
   "outputs": [
    {
     "data": {
      "text/plain": [
       "((10000, 6), 6)"
      ]
     },
     "execution_count": 13,
     "metadata": {},
     "output_type": "execute_result"
    }
   ],
   "source": [
    "df_observable.shape, len(observed_features)"
   ]
  },
  {
   "cell_type": "code",
   "execution_count": 80,
   "metadata": {},
   "outputs": [],
   "source": [
    "my_linkage = 'single'"
   ]
  },
  {
   "cell_type": "code",
   "execution_count": 81,
   "metadata": {},
   "outputs": [
    {
     "name": "stdout",
     "output_type": "stream",
     "text": [
      "{'n_clusters': 14, 'knee': np.int64(6), 'elbow': np.int64(2), 'clusterer': OptimalK(n_jobs=16, parallel_backend=\"joblib\")}\n"
     ]
    },
    {
     "data": {
      "image/png": "[encoded data removed]",
      "text/plain": [
       "<Figure size 3000x700 with 2 Axes>"
      ]
     },
     "metadata": {},
     "output_type": "display_data"
    }
   ],
   "source": [
    "from data_preparation import DataPreparator\n",
    "from apply_clustering import ClusteringApplier\n",
    "\n",
    "preparation_result = DataPreparator.prepare_data(\n",
    "    use_config=False,\n",
    "    df_observable=df_observable.reset_index(),\n",
    "    df_explainable=df_explainable.reset_index(),\n",
    "    distortion_mean=0.,\n",
    "    distortion_std=0.001,\n",
    "    observed_features=observed_features,\n",
    "    explaining_features=explaining_features,\n",
    "    nn_imputation_k=10,\n",
    "    group_name=index_name,\n",
    ")\n",
    "optimal_number_of_clusters = ClusteringApplier.draw_gap_statistic_plot(\n",
    "    use_config=False, df_observable=preparation_result['observable_df'],\n",
    "    observed_features=observed_features,\n",
    "    gap_statistic_cluster_range=15,\n",
    "    linkage='ward'\n",
    ")\n",
    "print(optimal_number_of_clusters)"
   ]
  },
  {
   "cell_type": "code",
   "execution_count": 82,
   "metadata": {},
   "outputs": [
    {
     "data": {
      "application/vnd.jupyter.widget-view+json": {
       "model_id": "6511171e391b4f96b51a64f672fdb1ef",
       "version_major": 2,
       "version_minor": 0
      },
      "text/plain": [
       "  0%|          | 0/1013 [00:00<?, ?it/s]"
      ]
     },
     "metadata": {},
     "output_type": "display_data"
    },
    {
     "data": {
      "image/png": "[encoded data removed]",
      "text/plain": [
       "<Figure size 2000x1000 with 1 Axes>"
      ]
     },
     "metadata": {},
     "output_type": "display_data"
    },
    {
     "data": {
      "image/png": "[encoded data removed]",
      "text/plain": [
       "<Figure size 2000x1000 with 1 Axes>"
      ]
     },
     "metadata": {},
     "output_type": "display_data"
    },
    {
     "data": {
      "image/png": "[encoded data removed]",
      "text/plain": [
       "<Figure size 2000x1000 with 1 Axes>"
      ]
     },
     "metadata": {},
     "output_type": "display_data"
    }
   ],
   "source": [
    "my_number_of_clusters = 7 #optimal_number_of_clusters['n_clusters']\n",
    "observable_patterns_result = ClusteringApplier.calculate_observable_patterns(\n",
    "    use_config=False,\n",
    "    df_observable_data=preparation_result['observable_df'],\n",
    "    _n_clusters=my_number_of_clusters,\n",
    "    observable_name='observable_name',\n",
    "    observable_feature_names=observed_features,\n",
    "    plot_title='Name of the fingerprint plot',\n",
    "    number_observable_patterns='auto',\n",
    "    distance_measure_fingerprint='jensenshannon',\n",
    "    group_name=index_name, \n",
    "    spiderplot_scaling='minmax',\n",
    "    linkage=my_linkage\n",
    ")\n",
    "calculate_explainable_distances_result = ClusteringApplier.calculate_explainable_distances(\n",
    "    use_config=False,\n",
    "    df_explainable=preparation_result['explainable_df'].copy(),\n",
    "    df_observable_distances=observable_patterns_result['pw_norm_dist'].copy(),\n",
    "    explaining_features=explaining_features,\n",
    "    method='exact',\n",
    "    distance_measure='correlation',\n",
    "    sparsity_parameter=0.01,\n",
    "    max_num_threads=12,\n",
    "    group_name=index_name\n",
    ")"
   ]
  },
  {
   "cell_type": "code",
   "execution_count": 88,
   "metadata": {},
   "outputs": [
    {
     "name": "stdout",
     "output_type": "stream",
     "text": [
      "0       True\n",
      "1       True\n",
      "2       True\n",
      "3       True\n",
      "4       True\n",
      "        ... \n",
      "9995    True\n",
      "9996    True\n",
      "9997    True\n",
      "9998    True\n",
      "9999    True\n",
      "Name: pattern_type, Length: 10000, dtype: bool\n",
      "0.9438\n",
      "[0 2 2 1 0 4 4 1 1 1 4 4 4 4 5 4 4 2 1 4 2 2 3]\n",
      "[0 2 2 1 0 4 4 1 1 1 4 4 4 4 5 4 4 2 1 4 2 2 1]\n"
     ]
    }
   ],
   "source": [
    "keystr = 'df_observable_data'\n",
    "\n",
    "x = torch.tensor(observable_patterns_result[keystr].loc[:, observed_features].to_numpy())\n",
    "y = torch.tensor(observable_patterns_result['df_cluster_median'].to_numpy())\n",
    "\n",
    "vergleich = observable_patterns_result['df_observable_data'].pattern_type == torch.cdist(x, y).argmin(dim=1).numpy()\n",
    "print(vergleich)\n",
    "\n",
    "print(vergleich.sum() / observable_patterns_result[keystr].shape[0])\n",
    "\n",
    "print(torch.cdist(x, y).argmin(dim=1).numpy()[:23])\n",
    "print(observable_patterns_result['df_observable_data'].pattern_type[:23].to_numpy())"
   ]
  },
  {
   "cell_type": "code",
   "execution_count": 89,
   "metadata": {},
   "outputs": [
    {
     "name": "stderr",
     "output_type": "stream",
     "text": [
      "C:\\Users\\yanni\\AppData\\Local\\Temp\\ipykernel_21864\\1054254932.py:1: SettingWithCopyWarning:\n",
      "\n",
      "\n",
      "A value is trying to be set on a copy of a slice from a DataFrame.\n",
      "Try using .loc[row_indexer,col_indexer] = value instead\n",
      "\n",
      "See the caveats in the documentation: https://pandas.pydata.org/pandas-docs/stable/user_guide/indexing.html#returning-a-view-versus-a-copy\n",
      "\n"
     ]
    }
   ],
   "source": [
    "observable_patterns_result[keystr].loc[:, 'cluster_by_distance'] = torch.cdist(x, y).argmin(dim=1).numpy()"
   ]
  },
  {
   "cell_type": "code",
   "execution_count": 94,
   "metadata": {},
   "outputs": [
    {
     "data": {
      "text/html": [
       "<div>\n",
       "<style scoped>\n",
       "    .dataframe tbody tr th:only-of-type {\n",
       "        vertical-align: middle;\n",
       "    }\n",
       "\n",
       "    .dataframe tbody tr th {\n",
       "        vertical-align: top;\n",
       "    }\n",
       "\n",
       "    .dataframe thead th {\n",
       "        text-align: right;\n",
       "    }\n",
       "</style>\n",
       "<table border=\"1\" class=\"dataframe\">\n",
       "  <thead>\n",
       "    <tr style=\"text-align: right;\">\n",
       "      <th></th>\n",
       "      <th>Individual</th>\n",
       "      <th>unexplainable_1</th>\n",
       "      <th>unexplainable_2</th>\n",
       "      <th>unexplainable_3</th>\n",
       "      <th>unexplainable_4</th>\n",
       "      <th>explained_by_feature_0</th>\n",
       "      <th>explained_by_feature_1_2_3</th>\n",
       "      <th>oversampled</th>\n",
       "      <th>pattern_type</th>\n",
       "      <th>cluster_by_distance</th>\n",
       "    </tr>\n",
       "  </thead>\n",
       "  <tbody>\n",
       "    <tr>\n",
       "      <th>22</th>\n",
       "      <td>Individual_2</td>\n",
       "      <td>0.856423</td>\n",
       "      <td>0.115950</td>\n",
       "      <td>0.774236</td>\n",
       "      <td>0.216319</td>\n",
       "      <td>0.000834</td>\n",
       "      <td>0.861794</td>\n",
       "      <td>False</td>\n",
       "      <td>1</td>\n",
       "      <td>3</td>\n",
       "    </tr>\n",
       "    <tr>\n",
       "      <th>25</th>\n",
       "      <td>Individual_2</td>\n",
       "      <td>0.764403</td>\n",
       "      <td>0.008513</td>\n",
       "      <td>0.040049</td>\n",
       "      <td>0.410333</td>\n",
       "      <td>0.000662</td>\n",
       "      <td>0.862962</td>\n",
       "      <td>False</td>\n",
       "      <td>1</td>\n",
       "      <td>3</td>\n",
       "    </tr>\n",
       "    <tr>\n",
       "      <th>26</th>\n",
       "      <td>Individual_5</td>\n",
       "      <td>0.042458</td>\n",
       "      <td>0.876956</td>\n",
       "      <td>0.779201</td>\n",
       "      <td>0.830041</td>\n",
       "      <td>0.999661</td>\n",
       "      <td>0.306308</td>\n",
       "      <td>False</td>\n",
       "      <td>4</td>\n",
       "      <td>6</td>\n",
       "    </tr>\n",
       "    <tr>\n",
       "      <th>36</th>\n",
       "      <td>Individual_3</td>\n",
       "      <td>0.176812</td>\n",
       "      <td>0.215552</td>\n",
       "      <td>0.990318</td>\n",
       "      <td>0.916831</td>\n",
       "      <td>0.550259</td>\n",
       "      <td>0.110206</td>\n",
       "      <td>False</td>\n",
       "      <td>0</td>\n",
       "      <td>6</td>\n",
       "    </tr>\n",
       "    <tr>\n",
       "      <th>75</th>\n",
       "      <td>Individual_3</td>\n",
       "      <td>0.300854</td>\n",
       "      <td>0.935548</td>\n",
       "      <td>0.914950</td>\n",
       "      <td>0.591150</td>\n",
       "      <td>0.549577</td>\n",
       "      <td>0.112302</td>\n",
       "      <td>False</td>\n",
       "      <td>0</td>\n",
       "      <td>6</td>\n",
       "    </tr>\n",
       "    <tr>\n",
       "      <th>...</th>\n",
       "      <td>...</td>\n",
       "      <td>...</td>\n",
       "      <td>...</td>\n",
       "      <td>...</td>\n",
       "      <td>...</td>\n",
       "      <td>...</td>\n",
       "      <td>...</td>\n",
       "      <td>...</td>\n",
       "      <td>...</td>\n",
       "      <td>...</td>\n",
       "    </tr>\n",
       "    <tr>\n",
       "      <th>9919</th>\n",
       "      <td>Individual_0</td>\n",
       "      <td>0.986380</td>\n",
       "      <td>0.567671</td>\n",
       "      <td>0.115674</td>\n",
       "      <td>0.298322</td>\n",
       "      <td>0.057008</td>\n",
       "      <td>0.382477</td>\n",
       "      <td>False</td>\n",
       "      <td>5</td>\n",
       "      <td>3</td>\n",
       "    </tr>\n",
       "    <tr>\n",
       "      <th>9936</th>\n",
       "      <td>Individual_5</td>\n",
       "      <td>0.232108</td>\n",
       "      <td>0.874810</td>\n",
       "      <td>0.853999</td>\n",
       "      <td>0.941681</td>\n",
       "      <td>0.999683</td>\n",
       "      <td>0.304818</td>\n",
       "      <td>False</td>\n",
       "      <td>4</td>\n",
       "      <td>6</td>\n",
       "    </tr>\n",
       "    <tr>\n",
       "      <th>9937</th>\n",
       "      <td>Individual_0</td>\n",
       "      <td>0.961768</td>\n",
       "      <td>0.045773</td>\n",
       "      <td>0.357973</td>\n",
       "      <td>0.571766</td>\n",
       "      <td>0.058781</td>\n",
       "      <td>0.381681</td>\n",
       "      <td>False</td>\n",
       "      <td>5</td>\n",
       "      <td>3</td>\n",
       "    </tr>\n",
       "    <tr>\n",
       "      <th>9979</th>\n",
       "      <td>Individual_0</td>\n",
       "      <td>0.843159</td>\n",
       "      <td>0.264845</td>\n",
       "      <td>0.157975</td>\n",
       "      <td>0.639556</td>\n",
       "      <td>0.056479</td>\n",
       "      <td>0.379703</td>\n",
       "      <td>False</td>\n",
       "      <td>5</td>\n",
       "      <td>3</td>\n",
       "    </tr>\n",
       "    <tr>\n",
       "      <th>9993</th>\n",
       "      <td>Individual_8</td>\n",
       "      <td>0.089485</td>\n",
       "      <td>0.890947</td>\n",
       "      <td>0.569546</td>\n",
       "      <td>0.885158</td>\n",
       "      <td>0.705404</td>\n",
       "      <td>0.355472</td>\n",
       "      <td>False</td>\n",
       "      <td>4</td>\n",
       "      <td>6</td>\n",
       "    </tr>\n",
       "  </tbody>\n",
       "</table>\n",
       "<p>562 rows × 10 columns</p>\n",
       "</div>"
      ],
      "text/plain": [
       "        Individual  unexplainable_1  unexplainable_2  unexplainable_3  \\\n",
       "22    Individual_2         0.856423         0.115950         0.774236   \n",
       "25    Individual_2         0.764403         0.008513         0.040049   \n",
       "26    Individual_5         0.042458         0.876956         0.779201   \n",
       "36    Individual_3         0.176812         0.215552         0.990318   \n",
       "75    Individual_3         0.300854         0.935548         0.914950   \n",
       "...            ...              ...              ...              ...   \n",
       "9919  Individual_0         0.986380         0.567671         0.115674   \n",
       "9936  Individual_5         0.232108         0.874810         0.853999   \n",
       "9937  Individual_0         0.961768         0.045773         0.357973   \n",
       "9979  Individual_0         0.843159         0.264845         0.157975   \n",
       "9993  Individual_8         0.089485         0.890947         0.569546   \n",
       "\n",
       "      unexplainable_4  explained_by_feature_0  explained_by_feature_1_2_3  \\\n",
       "22           0.216319                0.000834                    0.861794   \n",
       "25           0.410333                0.000662                    0.862962   \n",
       "26           0.830041                0.999661                    0.306308   \n",
       "36           0.916831                0.550259                    0.110206   \n",
       "75           0.591150                0.549577                    0.112302   \n",
       "...               ...                     ...                         ...   \n",
       "9919         0.298322                0.057008                    0.382477   \n",
       "9936         0.941681                0.999683                    0.304818   \n",
       "9937         0.571766                0.058781                    0.381681   \n",
       "9979         0.639556                0.056479                    0.379703   \n",
       "9993         0.885158                0.705404                    0.355472   \n",
       "\n",
       "      oversampled  pattern_type  cluster_by_distance  \n",
       "22          False             1                    3  \n",
       "25          False             1                    3  \n",
       "26          False             4                    6  \n",
       "36          False             0                    6  \n",
       "75          False             0                    6  \n",
       "...           ...           ...                  ...  \n",
       "9919        False             5                    3  \n",
       "9936        False             4                    6  \n",
       "9937        False             5                    3  \n",
       "9979        False             5                    3  \n",
       "9993        False             4                    6  \n",
       "\n",
       "[562 rows x 10 columns]"
      ]
     },
     "execution_count": 94,
     "metadata": {},
     "output_type": "execute_result"
    }
   ],
   "source": [
    "observable_patterns_result[keystr].loc[~vergleich]"
   ]
  },
  {
   "cell_type": "code",
   "execution_count": 84,
   "metadata": {},
   "outputs": [
    {
     "data": {
      "text/html": [
       "<div>\n",
       "<style scoped>\n",
       "    .dataframe tbody tr th:only-of-type {\n",
       "        vertical-align: middle;\n",
       "    }\n",
       "\n",
       "    .dataframe tbody tr th {\n",
       "        vertical-align: top;\n",
       "    }\n",
       "\n",
       "    .dataframe thead th {\n",
       "        text-align: right;\n",
       "    }\n",
       "</style>\n",
       "<table border=\"1\" class=\"dataframe\">\n",
       "  <thead>\n",
       "    <tr style=\"text-align: right;\">\n",
       "      <th></th>\n",
       "      <th>unexplainable_1</th>\n",
       "      <th>unexplainable_2</th>\n",
       "      <th>unexplainable_3</th>\n",
       "      <th>unexplainable_4</th>\n",
       "      <th>explained_by_feature_0</th>\n",
       "      <th>explained_by_feature_1_2_3</th>\n",
       "    </tr>\n",
       "  </thead>\n",
       "  <tbody>\n",
       "    <tr>\n",
       "      <th>0</th>\n",
       "      <td>0.935366</td>\n",
       "      <td>0.591502</td>\n",
       "      <td>0.696185</td>\n",
       "      <td>0.578448</td>\n",
       "      <td>0.549422</td>\n",
       "      <td>0.109453</td>\n",
       "    </tr>\n",
       "    <tr>\n",
       "      <th>1</th>\n",
       "      <td>0.174709</td>\n",
       "      <td>0.533429</td>\n",
       "      <td>0.879479</td>\n",
       "      <td>0.118727</td>\n",
       "      <td>0.911087</td>\n",
       "      <td>0.069406</td>\n",
       "    </tr>\n",
       "    <tr>\n",
       "      <th>2</th>\n",
       "      <td>0.430386</td>\n",
       "      <td>0.508936</td>\n",
       "      <td>0.536036</td>\n",
       "      <td>0.825863</td>\n",
       "      <td>0.912012</td>\n",
       "      <td>0.069893</td>\n",
       "    </tr>\n",
       "    <tr>\n",
       "      <th>3</th>\n",
       "      <td>0.714803</td>\n",
       "      <td>0.161798</td>\n",
       "      <td>0.487749</td>\n",
       "      <td>0.241622</td>\n",
       "      <td>0.000758</td>\n",
       "      <td>0.862516</td>\n",
       "    </tr>\n",
       "    <tr>\n",
       "      <th>4</th>\n",
       "      <td>0.908587</td>\n",
       "      <td>0.005474</td>\n",
       "      <td>0.320567</td>\n",
       "      <td>0.880588</td>\n",
       "      <td>0.549816</td>\n",
       "      <td>0.110280</td>\n",
       "    </tr>\n",
       "    <tr>\n",
       "      <th>...</th>\n",
       "      <td>...</td>\n",
       "      <td>...</td>\n",
       "      <td>...</td>\n",
       "      <td>...</td>\n",
       "      <td>...</td>\n",
       "      <td>...</td>\n",
       "    </tr>\n",
       "    <tr>\n",
       "      <th>10475</th>\n",
       "      <td>0.827335</td>\n",
       "      <td>0.133543</td>\n",
       "      <td>0.943097</td>\n",
       "      <td>0.342618</td>\n",
       "      <td>0.703367</td>\n",
       "      <td>0.356508</td>\n",
       "    </tr>\n",
       "    <tr>\n",
       "      <th>10476</th>\n",
       "      <td>0.905620</td>\n",
       "      <td>0.636325</td>\n",
       "      <td>0.648656</td>\n",
       "      <td>0.403109</td>\n",
       "      <td>0.703584</td>\n",
       "      <td>0.357426</td>\n",
       "    </tr>\n",
       "    <tr>\n",
       "      <th>10477</th>\n",
       "      <td>0.968837</td>\n",
       "      <td>0.654712</td>\n",
       "      <td>0.162070</td>\n",
       "      <td>0.784443</td>\n",
       "      <td>0.704779</td>\n",
       "      <td>0.358365</td>\n",
       "    </tr>\n",
       "    <tr>\n",
       "      <th>10478</th>\n",
       "      <td>0.284573</td>\n",
       "      <td>0.717517</td>\n",
       "      <td>0.933419</td>\n",
       "      <td>0.135637</td>\n",
       "      <td>0.705414</td>\n",
       "      <td>0.357541</td>\n",
       "    </tr>\n",
       "    <tr>\n",
       "      <th>10479</th>\n",
       "      <td>0.673930</td>\n",
       "      <td>0.704205</td>\n",
       "      <td>0.137941</td>\n",
       "      <td>0.496379</td>\n",
       "      <td>0.704288</td>\n",
       "      <td>0.358595</td>\n",
       "    </tr>\n",
       "  </tbody>\n",
       "</table>\n",
       "<p>10480 rows × 6 columns</p>\n",
       "</div>"
      ],
      "text/plain": [
       "       unexplainable_1  unexplainable_2  unexplainable_3  unexplainable_4  \\\n",
       "0             0.935366         0.591502         0.696185         0.578448   \n",
       "1             0.174709         0.533429         0.879479         0.118727   \n",
       "2             0.430386         0.508936         0.536036         0.825863   \n",
       "3             0.714803         0.161798         0.487749         0.241622   \n",
       "4             0.908587         0.005474         0.320567         0.880588   \n",
       "...                ...              ...              ...              ...   \n",
       "10475         0.827335         0.133543         0.943097         0.342618   \n",
       "10476         0.905620         0.636325         0.648656         0.403109   \n",
       "10477         0.968837         0.654712         0.162070         0.784443   \n",
       "10478         0.284573         0.717517         0.933419         0.135637   \n",
       "10479         0.673930         0.704205         0.137941         0.496379   \n",
       "\n",
       "       explained_by_feature_0  explained_by_feature_1_2_3  \n",
       "0                    0.549422                    0.109453  \n",
       "1                    0.911087                    0.069406  \n",
       "2                    0.912012                    0.069893  \n",
       "3                    0.000758                    0.862516  \n",
       "4                    0.549816                    0.110280  \n",
       "...                       ...                         ...  \n",
       "10475                0.703367                    0.356508  \n",
       "10476                0.703584                    0.357426  \n",
       "10477                0.704779                    0.358365  \n",
       "10478                0.705414                    0.357541  \n",
       "10479                0.704288                    0.358595  \n",
       "\n",
       "[10480 rows x 6 columns]"
      ]
     },
     "execution_count": 84,
     "metadata": {},
     "output_type": "execute_result"
    }
   ],
   "source": [
    "observable_patterns_result['clustering_data']"
   ]
  },
  {
   "cell_type": "code",
   "execution_count": 74,
   "metadata": {},
   "outputs": [
    {
     "data": {
      "text/html": [
       "<div>\n",
       "<style scoped>\n",
       "    .dataframe tbody tr th:only-of-type {\n",
       "        vertical-align: middle;\n",
       "    }\n",
       "\n",
       "    .dataframe tbody tr th {\n",
       "        vertical-align: top;\n",
       "    }\n",
       "\n",
       "    .dataframe thead th {\n",
       "        text-align: right;\n",
       "    }\n",
       "</style>\n",
       "<table border=\"1\" class=\"dataframe\">\n",
       "  <thead>\n",
       "    <tr style=\"text-align: right;\">\n",
       "      <th></th>\n",
       "      <th>Individual</th>\n",
       "      <th>unexplainable_1</th>\n",
       "      <th>unexplainable_2</th>\n",
       "      <th>unexplainable_3</th>\n",
       "      <th>unexplainable_4</th>\n",
       "      <th>explained_by_feature_0</th>\n",
       "      <th>explained_by_feature_1_2_3</th>\n",
       "      <th>oversampled</th>\n",
       "      <th>pattern_type</th>\n",
       "    </tr>\n",
       "  </thead>\n",
       "  <tbody>\n",
       "    <tr>\n",
       "      <th>0</th>\n",
       "      <td>Individual_3</td>\n",
       "      <td>0.933641</td>\n",
       "      <td>0.590141</td>\n",
       "      <td>0.699688</td>\n",
       "      <td>0.577835</td>\n",
       "      <td>0.549854</td>\n",
       "      <td>0.110434</td>\n",
       "      <td>False</td>\n",
       "      <td>0</td>\n",
       "    </tr>\n",
       "    <tr>\n",
       "      <th>1</th>\n",
       "      <td>Individual_7</td>\n",
       "      <td>0.174780</td>\n",
       "      <td>0.532964</td>\n",
       "      <td>0.877896</td>\n",
       "      <td>0.117939</td>\n",
       "      <td>0.911833</td>\n",
       "      <td>0.072418</td>\n",
       "      <td>False</td>\n",
       "      <td>4</td>\n",
       "    </tr>\n",
       "    <tr>\n",
       "      <th>2</th>\n",
       "      <td>Individual_7</td>\n",
       "      <td>0.430042</td>\n",
       "      <td>0.509072</td>\n",
       "      <td>0.533905</td>\n",
       "      <td>0.827599</td>\n",
       "      <td>0.909454</td>\n",
       "      <td>0.068999</td>\n",
       "      <td>False</td>\n",
       "      <td>4</td>\n",
       "    </tr>\n",
       "    <tr>\n",
       "      <th>3</th>\n",
       "      <td>Individual_2</td>\n",
       "      <td>0.712886</td>\n",
       "      <td>0.160756</td>\n",
       "      <td>0.488232</td>\n",
       "      <td>0.241796</td>\n",
       "      <td>0.000786</td>\n",
       "      <td>0.861843</td>\n",
       "      <td>False</td>\n",
       "      <td>1</td>\n",
       "    </tr>\n",
       "    <tr>\n",
       "      <th>4</th>\n",
       "      <td>Individual_3</td>\n",
       "      <td>0.905261</td>\n",
       "      <td>0.005635</td>\n",
       "      <td>0.321878</td>\n",
       "      <td>0.879221</td>\n",
       "      <td>0.546941</td>\n",
       "      <td>0.109295</td>\n",
       "      <td>False</td>\n",
       "      <td>0</td>\n",
       "    </tr>\n",
       "    <tr>\n",
       "      <th>...</th>\n",
       "      <td>...</td>\n",
       "      <td>...</td>\n",
       "      <td>...</td>\n",
       "      <td>...</td>\n",
       "      <td>...</td>\n",
       "      <td>...</td>\n",
       "      <td>...</td>\n",
       "      <td>...</td>\n",
       "      <td>...</td>\n",
       "    </tr>\n",
       "    <tr>\n",
       "      <th>9995</th>\n",
       "      <td>Individual_4</td>\n",
       "      <td>0.601123</td>\n",
       "      <td>0.978331</td>\n",
       "      <td>0.176629</td>\n",
       "      <td>0.515366</td>\n",
       "      <td>0.172925</td>\n",
       "      <td>0.998701</td>\n",
       "      <td>False</td>\n",
       "      <td>1</td>\n",
       "    </tr>\n",
       "    <tr>\n",
       "      <th>9996</th>\n",
       "      <td>Individual_8</td>\n",
       "      <td>0.572091</td>\n",
       "      <td>0.361069</td>\n",
       "      <td>0.009573</td>\n",
       "      <td>0.389202</td>\n",
       "      <td>0.704640</td>\n",
       "      <td>0.357119</td>\n",
       "      <td>False</td>\n",
       "      <td>2</td>\n",
       "    </tr>\n",
       "    <tr>\n",
       "      <th>9997</th>\n",
       "      <td>Individual_7</td>\n",
       "      <td>0.531543</td>\n",
       "      <td>0.194404</td>\n",
       "      <td>0.565790</td>\n",
       "      <td>0.504648</td>\n",
       "      <td>0.913619</td>\n",
       "      <td>0.069993</td>\n",
       "      <td>False</td>\n",
       "      <td>6</td>\n",
       "    </tr>\n",
       "    <tr>\n",
       "      <th>9998</th>\n",
       "      <td>Individual_8</td>\n",
       "      <td>0.334267</td>\n",
       "      <td>0.197689</td>\n",
       "      <td>0.169379</td>\n",
       "      <td>0.263668</td>\n",
       "      <td>0.704539</td>\n",
       "      <td>0.356616</td>\n",
       "      <td>False</td>\n",
       "      <td>2</td>\n",
       "    </tr>\n",
       "    <tr>\n",
       "      <th>9999</th>\n",
       "      <td>Individual_2</td>\n",
       "      <td>0.649641</td>\n",
       "      <td>0.178985</td>\n",
       "      <td>0.275774</td>\n",
       "      <td>0.138598</td>\n",
       "      <td>0.000703</td>\n",
       "      <td>0.862537</td>\n",
       "      <td>False</td>\n",
       "      <td>1</td>\n",
       "    </tr>\n",
       "  </tbody>\n",
       "</table>\n",
       "<p>10000 rows × 9 columns</p>\n",
       "</div>"
      ],
      "text/plain": [
       "        Individual  unexplainable_1  unexplainable_2  unexplainable_3  \\\n",
       "0     Individual_3         0.933641         0.590141         0.699688   \n",
       "1     Individual_7         0.174780         0.532964         0.877896   \n",
       "2     Individual_7         0.430042         0.509072         0.533905   \n",
       "3     Individual_2         0.712886         0.160756         0.488232   \n",
       "4     Individual_3         0.905261         0.005635         0.321878   \n",
       "...            ...              ...              ...              ...   \n",
       "9995  Individual_4         0.601123         0.978331         0.176629   \n",
       "9996  Individual_8         0.572091         0.361069         0.009573   \n",
       "9997  Individual_7         0.531543         0.194404         0.565790   \n",
       "9998  Individual_8         0.334267         0.197689         0.169379   \n",
       "9999  Individual_2         0.649641         0.178985         0.275774   \n",
       "\n",
       "      unexplainable_4  explained_by_feature_0  explained_by_feature_1_2_3  \\\n",
       "0            0.577835                0.549854                    0.110434   \n",
       "1            0.117939                0.911833                    0.072418   \n",
       "2            0.827599                0.909454                    0.068999   \n",
       "3            0.241796                0.000786                    0.861843   \n",
       "4            0.879221                0.546941                    0.109295   \n",
       "...               ...                     ...                         ...   \n",
       "9995         0.515366                0.172925                    0.998701   \n",
       "9996         0.389202                0.704640                    0.357119   \n",
       "9997         0.504648                0.913619                    0.069993   \n",
       "9998         0.263668                0.704539                    0.356616   \n",
       "9999         0.138598                0.000703                    0.862537   \n",
       "\n",
       "      oversampled  pattern_type  \n",
       "0           False             0  \n",
       "1           False             4  \n",
       "2           False             4  \n",
       "3           False             1  \n",
       "4           False             0  \n",
       "...           ...           ...  \n",
       "9995        False             1  \n",
       "9996        False             2  \n",
       "9997        False             6  \n",
       "9998        False             2  \n",
       "9999        False             1  \n",
       "\n",
       "[10000 rows x 9 columns]"
      ]
     },
     "execution_count": 74,
     "metadata": {},
     "output_type": "execute_result"
    }
   ],
   "source": [
    "observable_patterns_result['df_observable_data']"
   ]
  },
  {
   "cell_type": "code",
   "execution_count": 95,
   "metadata": {},
   "outputs": [
    {
     "data": {
      "application/vnd.plotly.v1+json": {
       "config": {
        "plotlyServerURL": "https://plot.ly"
       },
       "data": [
        {
         "fill": "toself",
         "r": [
          0.19208542857185776,
          0.25637851780214493,
          0.009082023752808586,
          0.12098326057486256,
          0.22162646565967656,
          0.03226197331519262
         ],
         "subplot": "polar",
         "theta": [
          "unexplainable_1",
          "unexplainable_2",
          "unexplainable_3",
          "unexplainable_4",
          "explained_by_feature_0",
          "explained_by_feature_1_2_3"
         ],
         "type": "scatterpolar"
        },
        {
         "fill": "toself",
         "r": [
          0.1627465347108991,
          0.23023591400371557,
          0.032969318858793034,
          0.10409206151535054,
          0.01140921312049235,
          0.3313862576196453
         ],
         "subplot": "polar2",
         "theta": [
          "unexplainable_1",
          "unexplainable_2",
          "unexplainable_3",
          "unexplainable_4",
          "explained_by_feature_0",
          "explained_by_feature_1_2_3"
         ],
         "type": "scatterpolar"
        },
        {
         "fill": "toself",
         "r": [
          0.16428056920862957,
          0.24195018458638265,
          0.021695572541867006,
          0.11113250710852782,
          0.3416349659222626,
          0
         ],
         "subplot": "polar3",
         "theta": [
          "unexplainable_1",
          "unexplainable_2",
          "unexplainable_3",
          "unexplainable_4",
          "explained_by_feature_0",
          "explained_by_feature_1_2_3"
         ],
         "type": "scatterpolar"
        },
        {
         "fill": "toself",
         "r": [
          0.44543732496914096,
          0,
          0,
          0,
          0.0002287019429967545,
          0.17245144884352476
         ],
         "subplot": "polar4",
         "theta": [
          "unexplainable_1",
          "unexplainable_2",
          "unexplainable_3",
          "unexplainable_4",
          "explained_by_feature_0",
          "explained_by_feature_1_2_3"
         ],
         "type": "scatterpolar"
        },
        {
         "fill": "toself",
         "r": [
          0.1487397558255715,
          0.20961970444752057,
          0.02593099061241608,
          0.1014466671282583,
          0.30376312781405984,
          0.11449799483768532
         ],
         "subplot": "polar5",
         "theta": [
          "unexplainable_1",
          "unexplainable_2",
          "unexplainable_3",
          "unexplainable_4",
          "explained_by_feature_0",
          "explained_by_feature_1_2_3"
         ],
         "type": "scatterpolar"
        },
        {
         "fill": "toself",
         "r": [
          0.20393917076378976,
          0.28645133861792493,
          0.044739832793958476,
          0.13860267279826696,
          0,
          0.15506037018562113
         ],
         "subplot": "polar6",
         "theta": [
          "unexplainable_1",
          "unexplainable_2",
          "unexplainable_3",
          "unexplainable_4",
          "explained_by_feature_0",
          "explained_by_feature_1_2_3"
         ],
         "type": "scatterpolar"
        },
        {
         "fill": "toself",
         "r": [
          0,
          0.3069193871314921,
          0.3069193871314921,
          0.3069193871314921,
          0.17811604711096457,
          0.026057813723528323
         ],
         "subplot": "polar7",
         "theta": [
          "unexplainable_1",
          "unexplainable_2",
          "unexplainable_3",
          "unexplainable_4",
          "explained_by_feature_0",
          "explained_by_feature_1_2_3"
         ],
         "type": "scatterpolar"
        }
       ],
       "layout": {
        "annotations": [
         {
          "font": {
           "size": 16
          },
          "showarrow": false,
          "text": "Fingerprint 1 (homogeneity: 0.04)",
          "x": 0.175,
          "xanchor": "center",
          "xref": "paper",
          "y": 1,
          "yanchor": "bottom",
          "yref": "paper"
         },
         {
          "font": {
           "size": 16
          },
          "showarrow": false,
          "text": "Fingerprint 2 (homogeneity: 0.08)",
          "x": 0.825,
          "xanchor": "center",
          "xref": "paper",
          "y": 1,
          "yanchor": "bottom",
          "yref": "paper"
         },
         {
          "font": {
           "size": 16
          },
          "showarrow": false,
          "text": "Fingerprint 3 (homogeneity: 0.10)",
          "x": 0.175,
          "xanchor": "center",
          "xref": "paper",
          "y": 0.7375,
          "yanchor": "bottom",
          "yref": "paper"
         },
         {
          "font": {
           "size": 16
          },
          "showarrow": false,
          "text": "Fingerprint 4 (homogeneity: 0.20)",
          "x": 0.825,
          "xanchor": "center",
          "xref": "paper",
          "y": 0.7375,
          "yanchor": "bottom",
          "yref": "paper"
         },
         {
          "font": {
           "size": 16
          },
          "showarrow": false,
          "text": "Fingerprint 5 (homogeneity: 0.02)",
          "x": 0.175,
          "xanchor": "center",
          "xref": "paper",
          "y": 0.475,
          "yanchor": "bottom",
          "yref": "paper"
         },
         {
          "font": {
           "size": 16
          },
          "showarrow": false,
          "text": "Fingerprint 6 (homogeneity: 0.06)",
          "x": 0.825,
          "xanchor": "center",
          "xref": "paper",
          "y": 0.475,
          "yanchor": "bottom",
          "yref": "paper"
         },
         {
          "font": {
           "size": 16
          },
          "showarrow": false,
          "text": "Fingerprint 7 (homogeneity: 0.16)",
          "x": 0.175,
          "xanchor": "center",
          "xref": "paper",
          "y": 0.2125,
          "yanchor": "bottom",
          "yref": "paper"
         }
        ],
        "height": 2000,
        "paper_bgcolor": "rgba(0, 0, 0, 0)",
        "plot_bgcolor": "rgba(0, 0, 0, 0)",
        "polar": {
         "domain": {
          "x": [
           0,
           0.35
          ],
          "y": [
           0.7875,
           1
          ]
         },
         "radialaxis": {
          "range": [
           0,
           1
          ],
          "showticklabels": false,
          "visible": true
         }
        },
        "polar2": {
         "domain": {
          "x": [
           0.6499999999999999,
           0.9999999999999999
          ],
          "y": [
           0.7875,
           1
          ]
         },
         "radialaxis": {
          "range": [
           0,
           1
          ],
          "showticklabels": false,
          "visible": true
         }
        },
        "polar3": {
         "domain": {
          "x": [
           0,
           0.35
          ],
          "y": [
           0.525,
           0.7375
          ]
         },
         "radialaxis": {
          "range": [
           0,
           1
          ],
          "showticklabels": false,
          "visible": true
         }
        },
        "polar4": {
         "domain": {
          "x": [
           0.6499999999999999,
           0.9999999999999999
          ],
          "y": [
           0.525,
           0.7375
          ]
         },
         "radialaxis": {
          "range": [
           0,
           1
          ],
          "showticklabels": false,
          "visible": true
         }
        },
        "polar5": {
         "domain": {
          "x": [
           0,
           0.35
          ],
          "y": [
           0.2625,
           0.475
          ]
         },
         "radialaxis": {
          "range": [
           0,
           1
          ],
          "showticklabels": false,
          "visible": true
         }
        },
        "polar6": {
         "domain": {
          "x": [
           0.6499999999999999,
           0.9999999999999999
          ],
          "y": [
           0.2625,
           0.475
          ]
         },
         "radialaxis": {
          "range": [
           0,
           1
          ],
          "showticklabels": false,
          "visible": true
         }
        },
        "polar7": {
         "domain": {
          "x": [
           0,
           0.35
          ],
          "y": [
           0,
           0.2125
          ]
         },
         "radialaxis": {
          "range": [
           0,
           1
          ],
          "showticklabels": false,
          "visible": true
         }
        },
        "polar8": {
         "domain": {
          "x": [
           0.6499999999999999,
           0.9999999999999999
          ],
          "y": [
           0,
           0.2125
          ]
         },
         "radialaxis": {
          "range": [
           0,
           1
          ],
          "showticklabels": false,
          "visible": true
         }
        },
        "showlegend": false,
        "template": {
         "data": {
          "bar": [
           {
            "error_x": {
             "color": "#2a3f5f"
            },
            "error_y": {
             "color": "#2a3f5f"
            },
            "marker": {
             "line": {
              "color": "#E5ECF6",
              "width": 0.5
             },
             "pattern": {
              "fillmode": "overlay",
              "size": 10,
              "solidity": 0.2
             }
            },
            "type": "bar"
           }
          ],
          "barpolar": [
           {
            "marker": {
             "line": {
              "color": "#E5ECF6",
              "width": 0.5
             },
             "pattern": {
              "fillmode": "overlay",
              "size": 10,
              "solidity": 0.2
             }
            },
            "type": "barpolar"
           }
          ],
          "carpet": [
           {
            "aaxis": {
             "endlinecolor": "#2a3f5f",
             "gridcolor": "white",
             "linecolor": "white",
             "minorgridcolor": "white",
             "startlinecolor": "#2a3f5f"
            },
            "baxis": {
             "endlinecolor": "#2a3f5f",
             "gridcolor": "white",
             "linecolor": "white",
             "minorgridcolor": "white",
             "startlinecolor": "#2a3f5f"
            },
            "type": "carpet"
           }
          ],
          "choropleth": [
           {
            "colorbar": {
             "outlinewidth": 0,
             "ticks": ""
            },
            "type": "choropleth"
           }
          ],
          "contour": [
           {
            "colorbar": {
             "outlinewidth": 0,
             "ticks": ""
            },
            "colorscale": [
             [
              0,
              "#0d0887"
             ],
             [
              0.1111111111111111,
              "#46039f"
             ],
             [
              0.2222222222222222,
              "#7201a8"
             ],
             [
              0.3333333333333333,
              "#9c179e"
             ],
             [
              0.4444444444444444,
              "#bd3786"
             ],
             [
              0.5555555555555556,
              "#d8576b"
             ],
             [
              0.6666666666666666,
              "#ed7953"
             ],
             [
              0.7777777777777778,
              "#fb9f3a"
             ],
             [
              0.8888888888888888,
              "#fdca26"
             ],
             [
              1,
              "#f0f921"
             ]
            ],
            "type": "contour"
           }
          ],
          "contourcarpet": [
           {
            "colorbar": {
             "outlinewidth": 0,
             "ticks": ""
            },
            "type": "contourcarpet"
           }
          ],
          "heatmap": [
           {
            "colorbar": {
             "outlinewidth": 0,
             "ticks": ""
            },
            "colorscale": [
             [
              0,
              "#0d0887"
             ],
             [
              0.1111111111111111,
              "#46039f"
             ],
             [
              0.2222222222222222,
              "#7201a8"
             ],
             [
              0.3333333333333333,
              "#9c179e"
             ],
             [
              0.4444444444444444,
              "#bd3786"
             ],
             [
              0.5555555555555556,
              "#d8576b"
             ],
             [
              0.6666666666666666,
              "#ed7953"
             ],
             [
              0.7777777777777778,
              "#fb9f3a"
             ],
             [
              0.8888888888888888,
              "#fdca26"
             ],
             [
              1,
              "#f0f921"
             ]
            ],
            "type": "heatmap"
           }
          ],
          "heatmapgl": [
           {
            "colorbar": {
             "outlinewidth": 0,
             "ticks": ""
            },
            "colorscale": [
             [
              0,
              "#0d0887"
             ],
             [
              0.1111111111111111,
              "#46039f"
             ],
             [
              0.2222222222222222,
              "#7201a8"
             ],
             [
              0.3333333333333333,
              "#9c179e"
             ],
             [
              0.4444444444444444,
              "#bd3786"
             ],
             [
              0.5555555555555556,
              "#d8576b"
             ],
             [
              0.6666666666666666,
              "#ed7953"
             ],
             [
              0.7777777777777778,
              "#fb9f3a"
             ],
             [
              0.8888888888888888,
              "#fdca26"
             ],
             [
              1,
              "#f0f921"
             ]
            ],
            "type": "heatmapgl"
           }
          ],
          "histogram": [
           {
            "marker": {
             "pattern": {
              "fillmode": "overlay",
              "size": 10,
              "solidity": 0.2
             }
            },
            "type": "histogram"
           }
          ],
          "histogram2d": [
           {
            "colorbar": {
             "outlinewidth": 0,
             "ticks": ""
            },
            "colorscale": [
             [
              0,
              "#0d0887"
             ],
             [
              0.1111111111111111,
              "#46039f"
             ],
             [
              0.2222222222222222,
              "#7201a8"
             ],
             [
              0.3333333333333333,
              "#9c179e"
             ],
             [
              0.4444444444444444,
              "#bd3786"
             ],
             [
              0.5555555555555556,
              "#d8576b"
             ],
             [
              0.6666666666666666,
              "#ed7953"
             ],
             [
              0.7777777777777778,
              "#fb9f3a"
             ],
             [
              0.8888888888888888,
              "#fdca26"
             ],
             [
              1,
              "#f0f921"
             ]
            ],
            "type": "histogram2d"
           }
          ],
          "histogram2dcontour": [
           {
            "colorbar": {
             "outlinewidth": 0,
             "ticks": ""
            },
            "colorscale": [
             [
              0,
              "#0d0887"
             ],
             [
              0.1111111111111111,
              "#46039f"
             ],
             [
              0.2222222222222222,
              "#7201a8"
             ],
             [
              0.3333333333333333,
              "#9c179e"
             ],
             [
              0.4444444444444444,
              "#bd3786"
             ],
             [
              0.5555555555555556,
              "#d8576b"
             ],
             [
              0.6666666666666666,
              "#ed7953"
             ],
             [
              0.7777777777777778,
              "#fb9f3a"
             ],
             [
              0.8888888888888888,
              "#fdca26"
             ],
             [
              1,
              "#f0f921"
             ]
            ],
            "type": "histogram2dcontour"
           }
          ],
          "mesh3d": [
           {
            "colorbar": {
             "outlinewidth": 0,
             "ticks": ""
            },
            "type": "mesh3d"
           }
          ],
          "parcoords": [
           {
            "line": {
             "colorbar": {
              "outlinewidth": 0,
              "ticks": ""
             }
            },
            "type": "parcoords"
           }
          ],
          "pie": [
           {
            "automargin": true,
            "type": "pie"
           }
          ],
          "scatter": [
           {
            "fillpattern": {
             "fillmode": "overlay",
             "size": 10,
             "solidity": 0.2
            },
            "type": "scatter"
           }
          ],
          "scatter3d": [
           {
            "line": {
             "colorbar": {
              "outlinewidth": 0,
              "ticks": ""
             }
            },
            "marker": {
             "colorbar": {
              "outlinewidth": 0,
              "ticks": ""
             }
            },
            "type": "scatter3d"
           }
          ],
          "scattercarpet": [
           {
            "marker": {
             "colorbar": {
              "outlinewidth": 0,
              "ticks": ""
             }
            },
            "type": "scattercarpet"
           }
          ],
          "scattergeo": [
           {
            "marker": {
             "colorbar": {
              "outlinewidth": 0,
              "ticks": ""
             }
            },
            "type": "scattergeo"
           }
          ],
          "scattergl": [
           {
            "marker": {
             "colorbar": {
              "outlinewidth": 0,
              "ticks": ""
             }
            },
            "type": "scattergl"
           }
          ],
          "scattermapbox": [
           {
            "marker": {
             "colorbar": {
              "outlinewidth": 0,
              "ticks": ""
             }
            },
            "type": "scattermapbox"
           }
          ],
          "scatterpolar": [
           {
            "marker": {
             "colorbar": {
              "outlinewidth": 0,
              "ticks": ""
             }
            },
            "type": "scatterpolar"
           }
          ],
          "scatterpolargl": [
           {
            "marker": {
             "colorbar": {
              "outlinewidth": 0,
              "ticks": ""
             }
            },
            "type": "scatterpolargl"
           }
          ],
          "scatterternary": [
           {
            "marker": {
             "colorbar": {
              "outlinewidth": 0,
              "ticks": ""
             }
            },
            "type": "scatterternary"
           }
          ],
          "surface": [
           {
            "colorbar": {
             "outlinewidth": 0,
             "ticks": ""
            },
            "colorscale": [
             [
              0,
              "#0d0887"
             ],
             [
              0.1111111111111111,
              "#46039f"
             ],
             [
              0.2222222222222222,
              "#7201a8"
             ],
             [
              0.3333333333333333,
              "#9c179e"
             ],
             [
              0.4444444444444444,
              "#bd3786"
             ],
             [
              0.5555555555555556,
              "#d8576b"
             ],
             [
              0.6666666666666666,
              "#ed7953"
             ],
             [
              0.7777777777777778,
              "#fb9f3a"
             ],
             [
              0.8888888888888888,
              "#fdca26"
             ],
             [
              1,
              "#f0f921"
             ]
            ],
            "type": "surface"
           }
          ],
          "table": [
           {
            "cells": {
             "fill": {
              "color": "#EBF0F8"
             },
             "line": {
              "color": "white"
             }
            },
            "header": {
             "fill": {
              "color": "#C8D4E3"
             },
             "line": {
              "color": "white"
             }
            },
            "type": "table"
           }
          ]
         },
         "layout": {
          "annotationdefaults": {
           "arrowcolor": "#2a3f5f",
           "arrowhead": 0,
           "arrowwidth": 1
          },
          "autotypenumbers": "strict",
          "coloraxis": {
           "colorbar": {
            "outlinewidth": 0,
            "ticks": ""
           }
          },
          "colorscale": {
           "diverging": [
            [
             0,
             "#8e0152"
            ],
            [
             0.1,
             "#c51b7d"
            ],
            [
             0.2,
             "#de77ae"
            ],
            [
             0.3,
             "#f1b6da"
            ],
            [
             0.4,
             "#fde0ef"
            ],
            [
             0.5,
             "#f7f7f7"
            ],
            [
             0.6,
             "#e6f5d0"
            ],
            [
             0.7,
             "#b8e186"
            ],
            [
             0.8,
             "#7fbc41"
            ],
            [
             0.9,
             "#4d9221"
            ],
            [
             1,
             "#276419"
            ]
           ],
           "sequential": [
            [
             0,
             "#0d0887"
            ],
            [
             0.1111111111111111,
             "#46039f"
            ],
            [
             0.2222222222222222,
             "#7201a8"
            ],
            [
             0.3333333333333333,
             "#9c179e"
            ],
            [
             0.4444444444444444,
             "#bd3786"
            ],
            [
             0.5555555555555556,
             "#d8576b"
            ],
            [
             0.6666666666666666,
             "#ed7953"
            ],
            [
             0.7777777777777778,
             "#fb9f3a"
            ],
            [
             0.8888888888888888,
             "#fdca26"
            ],
            [
             1,
             "#f0f921"
            ]
           ],
           "sequentialminus": [
            [
             0,
             "#0d0887"
            ],
            [
             0.1111111111111111,
             "#46039f"
            ],
            [
             0.2222222222222222,
             "#7201a8"
            ],
            [
             0.3333333333333333,
             "#9c179e"
            ],
            [
             0.4444444444444444,
             "#bd3786"
            ],
            [
             0.5555555555555556,
             "#d8576b"
            ],
            [
             0.6666666666666666,
             "#ed7953"
            ],
            [
             0.7777777777777778,
             "#fb9f3a"
            ],
            [
             0.8888888888888888,
             "#fdca26"
            ],
            [
             1,
             "#f0f921"
            ]
           ]
          },
          "colorway": [
           "#636efa",
           "#EF553B",
           "#00cc96",
           "#ab63fa",
           "#FFA15A",
           "#19d3f3",
           "#FF6692",
           "#B6E880",
           "#FF97FF",
           "#FECB52"
          ],
          "font": {
           "color": "#2a3f5f"
          },
          "geo": {
           "bgcolor": "white",
           "lakecolor": "white",
           "landcolor": "#E5ECF6",
           "showlakes": true,
           "showland": true,
           "subunitcolor": "white"
          },
          "hoverlabel": {
           "align": "left"
          },
          "hovermode": "closest",
          "mapbox": {
           "style": "light"
          },
          "paper_bgcolor": "white",
          "plot_bgcolor": "#E5ECF6",
          "polar": {
           "angularaxis": {
            "gridcolor": "white",
            "linecolor": "white",
            "ticks": ""
           },
           "bgcolor": "#E5ECF6",
           "radialaxis": {
            "gridcolor": "white",
            "linecolor": "white",
            "ticks": ""
           }
          },
          "scene": {
           "xaxis": {
            "backgroundcolor": "#E5ECF6",
            "gridcolor": "white",
            "gridwidth": 2,
            "linecolor": "white",
            "showbackground": true,
            "ticks": "",
            "zerolinecolor": "white"
           },
           "yaxis": {
            "backgroundcolor": "#E5ECF6",
            "gridcolor": "white",
            "gridwidth": 2,
            "linecolor": "white",
            "showbackground": true,
            "ticks": "",
            "zerolinecolor": "white"
           },
           "zaxis": {
            "backgroundcolor": "#E5ECF6",
            "gridcolor": "white",
            "gridwidth": 2,
            "linecolor": "white",
            "showbackground": true,
            "ticks": "",
            "zerolinecolor": "white"
           }
          },
          "shapedefaults": {
           "line": {
            "color": "#2a3f5f"
           }
          },
          "ternary": {
           "aaxis": {
            "gridcolor": "white",
            "linecolor": "white",
            "ticks": ""
           },
           "baxis": {
            "gridcolor": "white",
            "linecolor": "white",
            "ticks": ""
           },
           "bgcolor": "#E5ECF6",
           "caxis": {
            "gridcolor": "white",
            "linecolor": "white",
            "ticks": ""
           }
          },
          "title": {
           "x": 0.05
          },
          "xaxis": {
           "automargin": true,
           "gridcolor": "white",
           "linecolor": "white",
           "ticks": "",
           "title": {
            "standoff": 15
           },
           "zerolinecolor": "white",
           "zerolinewidth": 2
          },
          "yaxis": {
           "automargin": true,
           "gridcolor": "white",
           "linecolor": "white",
           "ticks": "",
           "title": {
            "standoff": 15
           },
           "zerolinecolor": "white",
           "zerolinewidth": 2
          }
         }
        },
        "title": {
         "text": "Name of the fingerprint plot"
        },
        "width": 1000
       }
      }
     },
     "metadata": {},
     "output_type": "display_data"
    }
   ],
   "source": [
    "observable_patterns_result['spider_plots']"
   ]
  },
  {
   "cell_type": "code",
   "execution_count": 19,
   "metadata": {},
   "outputs": [
    {
     "data": {
      "text/html": [
       "<div>\n",
       "<style scoped>\n",
       "    .dataframe tbody tr th:only-of-type {\n",
       "        vertical-align: middle;\n",
       "    }\n",
       "\n",
       "    .dataframe tbody tr th {\n",
       "        vertical-align: top;\n",
       "    }\n",
       "\n",
       "    .dataframe thead th {\n",
       "        text-align: right;\n",
       "    }\n",
       "</style>\n",
       "<table border=\"1\" class=\"dataframe\">\n",
       "  <thead>\n",
       "    <tr style=\"text-align: right;\">\n",
       "      <th></th>\n",
       "      <th>feature</th>\n",
       "      <th>scaling</th>\n",
       "    </tr>\n",
       "  </thead>\n",
       "  <tbody>\n",
       "    <tr>\n",
       "      <th>0</th>\n",
       "      <td>unexplainable_1</td>\n",
       "      <td>1.0</td>\n",
       "    </tr>\n",
       "    <tr>\n",
       "      <th>1</th>\n",
       "      <td>unexplainable_2</td>\n",
       "      <td>1.0</td>\n",
       "    </tr>\n",
       "    <tr>\n",
       "      <th>2</th>\n",
       "      <td>unexplainable_3</td>\n",
       "      <td>1.0</td>\n",
       "    </tr>\n",
       "    <tr>\n",
       "      <th>3</th>\n",
       "      <td>unexplainable_4</td>\n",
       "      <td>1.0</td>\n",
       "    </tr>\n",
       "    <tr>\n",
       "      <th>4</th>\n",
       "      <td>explained_by_feature_0</td>\n",
       "      <td>1.0</td>\n",
       "    </tr>\n",
       "    <tr>\n",
       "      <th>5</th>\n",
       "      <td>explained_by_feature_1_2_3</td>\n",
       "      <td>1.0</td>\n",
       "    </tr>\n",
       "  </tbody>\n",
       "</table>\n",
       "</div>"
      ],
      "text/plain": [
       "                      feature  scaling\n",
       "0             unexplainable_1      1.0\n",
       "1             unexplainable_2      1.0\n",
       "2             unexplainable_3      1.0\n",
       "3             unexplainable_4      1.0\n",
       "4      explained_by_feature_0      1.0\n",
       "5  explained_by_feature_1_2_3      1.0"
      ]
     },
     "execution_count": 19,
     "metadata": {},
     "output_type": "execute_result"
    }
   ],
   "source": [
    "preparation_result['observable_scaling']"
   ]
  },
  {
   "cell_type": "code",
   "execution_count": 20,
   "metadata": {},
   "outputs": [
    {
     "data": {
      "text/plain": [
       "dict_keys(['overview_df', 'df_explainable_distances', 'dendrogram', 'optimal_feature_set'])"
      ]
     },
     "execution_count": 20,
     "metadata": {},
     "output_type": "execute_result"
    }
   ],
   "source": [
    "calculate_explainable_distances_result.keys()"
   ]
  },
  {
   "cell_type": "code",
   "execution_count": 21,
   "metadata": {},
   "outputs": [
    {
     "data": {
      "text/plain": [
       "dict_keys(['df_cluster_median', 'df_observable_data', 'df_fingerprint', 'pw_dist', 'pw_norm_dist', 'spider_plots', 'fingerprint_distance_plots', 'clusterer', 'clustering_data'])"
      ]
     },
     "execution_count": 21,
     "metadata": {},
     "output_type": "execute_result"
    }
   ],
   "source": [
    "observable_patterns_result.keys()"
   ]
  },
  {
   "cell_type": "code",
   "execution_count": 22,
   "metadata": {},
   "outputs": [
    {
     "data": {
      "text/plain": [
       "[np.int64(3), np.int64(4), np.int64(6)]"
      ]
     },
     "execution_count": 22,
     "metadata": {},
     "output_type": "execute_result"
    }
   ],
   "source": [
    "calculate_explainable_distances_result['optimal_feature_set']"
   ]
  },
  {
   "cell_type": "code",
   "execution_count": 23,
   "metadata": {},
   "outputs": [
    {
     "data": {
      "text/html": [
       "<div>\n",
       "<style scoped>\n",
       "    .dataframe tbody tr th:only-of-type {\n",
       "        vertical-align: middle;\n",
       "    }\n",
       "\n",
       "    .dataframe tbody tr th {\n",
       "        vertical-align: top;\n",
       "    }\n",
       "\n",
       "    .dataframe thead th {\n",
       "        text-align: right;\n",
       "    }\n",
       "</style>\n",
       "<table border=\"1\" class=\"dataframe\">\n",
       "  <thead>\n",
       "    <tr style=\"text-align: right;\">\n",
       "      <th></th>\n",
       "      <th>correlation</th>\n",
       "      <th>0</th>\n",
       "      <th>1</th>\n",
       "      <th>2</th>\n",
       "      <th>3</th>\n",
       "      <th>4</th>\n",
       "      <th>5</th>\n",
       "      <th>6</th>\n",
       "      <th>7</th>\n",
       "      <th>8</th>\n",
       "      <th>9</th>\n",
       "    </tr>\n",
       "  </thead>\n",
       "  <tbody>\n",
       "    <tr>\n",
       "      <th>0</th>\n",
       "      <td>0.59482</td>\n",
       "      <td>0</td>\n",
       "      <td>0</td>\n",
       "      <td>0</td>\n",
       "      <td>1</td>\n",
       "      <td>1</td>\n",
       "      <td>0</td>\n",
       "      <td>1</td>\n",
       "      <td>0</td>\n",
       "      <td>0</td>\n",
       "      <td>0</td>\n",
       "    </tr>\n",
       "  </tbody>\n",
       "</table>\n",
       "</div>"
      ],
      "text/plain": [
       "   correlation  0  1  2  3  4  5  6  7  8  9\n",
       "0      0.59482  0  0  0  1  1  0  1  0  0  0"
      ]
     },
     "execution_count": 23,
     "metadata": {},
     "output_type": "execute_result"
    }
   ],
   "source": [
    "calculate_explainable_distances_result['overview_df']"
   ]
  },
  {
   "cell_type": "code",
   "execution_count": 24,
   "metadata": {},
   "outputs": [],
   "source": [
    "df_observable_distances = observable_patterns_result['pw_norm_dist']"
   ]
  },
  {
   "cell_type": "code",
   "execution_count": 25,
   "metadata": {},
   "outputs": [
    {
     "data": {
      "text/plain": [
       "\"get_feature_importances(\\n    my_feature_set=calculate_explainable_distances_result['optimal_feature_set'], #explaining_features,\\n    df_explainable=df_explainable.reset_index(),\\n    df_observable_distances=df_observable_distances,\\n    K=100\\n)\""
      ]
     },
     "execution_count": 25,
     "metadata": {},
     "output_type": "execute_result"
    }
   ],
   "source": [
    "'''get_feature_importances(\n",
    "    my_feature_set=calculate_explainable_distances_result['optimal_feature_set'], #explaining_features,\n",
    "    df_explainable=df_explainable.reset_index(),\n",
    "    df_observable_distances=df_observable_distances,\n",
    "    K=100\n",
    ")'''"
   ]
  },
  {
   "cell_type": "code",
   "execution_count": 26,
   "metadata": {},
   "outputs": [
    {
     "data": {
      "text/plain": [
       "Ellipsis"
      ]
     },
     "execution_count": 26,
     "metadata": {},
     "output_type": "execute_result"
    }
   ],
   "source": [
    "..."
   ]
  },
  {
   "cell_type": "code",
   "execution_count": 27,
   "metadata": {},
   "outputs": [],
   "source": [
    "# Subset observable_features: endkorrelation"
   ]
  },
  {
   "cell_type": "code",
   "execution_count": 28,
   "metadata": {},
   "outputs": [
    {
     "data": {
      "text/plain": [
       "'get_feature_importances(\\n    my_feature_set=explaining_features,\\n    df_explainable=df_explainable.reset_index(),\\n    df_observable_distances=df_observable_distances,\\n    K=100\\n)'"
      ]
     },
     "execution_count": 28,
     "metadata": {},
     "output_type": "execute_result"
    }
   ],
   "source": [
    "'''get_feature_importances(\n",
    "    my_feature_set=explaining_features,\n",
    "    df_explainable=df_explainable.reset_index(),\n",
    "    df_observable_distances=df_observable_distances,\n",
    "    K=100\n",
    ")'''"
   ]
  },
  {
   "cell_type": "code",
   "execution_count": 29,
   "metadata": {},
   "outputs": [],
   "source": [
    "from sklearn.ensemble import RandomForestRegressor"
   ]
  },
  {
   "cell_type": "code",
   "execution_count": 30,
   "metadata": {},
   "outputs": [],
   "source": [
    "def foo(df_observable, df_explainable, my_feature_set, obs_features, group_name, K=100):\n",
    "    obs_df = df_observable.reset_index()\n",
    "    idx = obs_df.index\n",
    "    y = df_observable.reset_index().groupby(group_name).mean().to_numpy()\n",
    "    \n",
    "    def get_y():\n",
    "        return obs_df.loc[permutation(idx)].drop_duplicates(subset=[group_name], keep='first').set_index(group_name).loc[:, obs_features].to_numpy()\n",
    "\n",
    "    model = LinearRegression()\n",
    "    #model = RandomForestRegressor(n_estimators=100, random_state=42)\n",
    "    X = df_explainable.loc[:, my_feature_set].to_numpy()\n",
    "    y = df_observable.reset_index().groupby(group_name).mean().loc[:, obs_features].to_numpy()\n",
    "    model.fit(X,y)\n",
    "\n",
    "    feature_importances = defaultdict(lambda: 0.)\n",
    "    for col_i in range(X.shape[1]):\n",
    "        for k in range(K):\n",
    "            permuted_X = X.copy()\n",
    "            permuted_X[:, col_i] = permutation(permuted_X[:, col_i])\n",
    "            y = get_y()\n",
    "            R2 = explained_variance_score(y_true=y, y_pred=model.predict(X))\n",
    "            y_pred = model.predict(permuted_X)\n",
    "            feature_importances[my_feature_set[col_i]] += (R2 - explained_variance_score(y_true=y, y_pred=y_pred))/K\n",
    "\n",
    "    adj_sum = sum(feature_importances.values())\n",
    "    for key, val in feature_importances.items():\n",
    "        feature_importances[key] = val / adj_sum\n",
    "\n",
    "    assert np.isclose(sum(feature_importances.values()), 1)\n",
    "\n",
    "    return feature_importances"
   ]
  },
  {
   "cell_type": "code",
   "execution_count": 31,
   "metadata": {},
   "outputs": [
    {
     "data": {
      "text/plain": [
       "<Axes: >"
      ]
     },
     "execution_count": 31,
     "metadata": {},
     "output_type": "execute_result"
    },
    {
     "data": {
      "image/png": "[encoded data removed]",
      "text/plain": [
       "<Figure size 640x480 with 1 Axes>"
      ]
     },
     "metadata": {},
     "output_type": "display_data"
    }
   ],
   "source": [
    "res = foo(preparation_result['observable_df'], preparation_result['explainable_df'], explaining_features, observed_features, group_name='Individual')\n",
    "sns.barplot(res)"
   ]
  },
  {
   "cell_type": "code",
   "execution_count": 32,
   "metadata": {},
   "outputs": [],
   "source": [
    "def bar(df_observable, df_explainable, my_feature_set, obs_features, group_name, K=100):\n",
    "    obs_df = df_observable.reset_index()\n",
    "    idx = obs_df.index\n",
    "    y = df_observable.reset_index().groupby(group_name).mean().to_numpy()\n",
    "    \n",
    "    def get_y():\n",
    "        return obs_df.loc[permutation(idx)].drop_duplicates(subset=[group_name], keep='first').set_index(group_name).loc[:, obs_features].to_numpy()\n",
    "\n",
    "    model = LinearRegression()\n",
    "    #model = RandomForestRegressor(n_estimators=300, max_depth=4)\n",
    "    X = df_explainable.loc[:, my_feature_set].to_numpy()\n",
    "    y = df_observable.reset_index().groupby(group_name).mean().loc[:, obs_features].to_numpy()\n",
    "    model.fit(X,y)\n",
    "\n",
    "    feature_combinations = []\n",
    "    ([[feature_combinations.append(np.array(c)) for c in combinations(np.arange(len(my_feature_set)), i)] for i in range(1, len(my_feature_set)+1)])\n",
    "\n",
    "    feature_importances = defaultdict(lambda: 0.)\n",
    "    i = 0\n",
    "    for cols in feature_combinations:\n",
    "        for k in range(K):\n",
    "            permuted_X = X.copy()\n",
    "            for col_i in cols:\n",
    "                permuted_X[:, col_i] = permutation(permuted_X[:, col_i])\n",
    "            y = get_y()\n",
    "            R2 = explained_variance_score(y_true=y, y_pred=model.predict(X))\n",
    "            y_pred = model.predict(permuted_X)\n",
    "            feature_importances[i] += (R2 - explained_variance_score(y_true=y, y_pred=y_pred))/K\n",
    "        i += 1\n",
    "    \n",
    "    adj_sum = sum(feature_importances.values())\n",
    "    for key, val in feature_importances.items():\n",
    "        feature_importances[key] = val / adj_sum\n",
    "\n",
    "    assert np.isclose(sum(feature_importances.values()), 1)\n",
    "\n",
    "    def human_readable(_dict: dict) -> dict:\n",
    "        return {str([str(a) for a in np.array(my_feature_set)[feature_combinations[k]]]):[v] for k, v in _dict.items()}\n",
    "    \n",
    "    human_readable_dict = human_readable(feature_importances)\n",
    "    max(feature_importances.values())\n",
    "    fig_1 = plt.figure(figsize=(10, 5))\n",
    "    ax1 = sns.barplot(human_readable_dict)\n",
    "    ax1.axes.xaxis.set_tick_params(rotation=90)\n",
    "    plt.hlines(xmin=0, xmax=len(feature_combinations), y=max(feature_importances.values()) ,linestyles='--')\n",
    "\n",
    "    return fig_1, feature_importances"
   ]
  },
  {
   "cell_type": "code",
   "execution_count": 33,
   "metadata": {},
   "outputs": [],
   "source": [
    "import torch"
   ]
  },
  {
   "cell_type": "code",
   "execution_count": 40,
   "metadata": {},
   "outputs": [
    {
     "data": {
      "text/plain": [
       "Ellipsis"
      ]
     },
     "execution_count": 40,
     "metadata": {},
     "output_type": "execute_result"
    }
   ],
   "source": [
    "..."
   ]
  },
  {
   "cell_type": "code",
   "execution_count": 82,
   "metadata": {},
   "outputs": [],
   "source": [
    "#fig, importances = bar(preparation_result['observable_df'], preparation_result['explainable_df'], explaining_features, observed_features, group_name='Individual')"
   ]
  },
  {
   "cell_type": "code",
   "execution_count": 83,
   "metadata": {},
   "outputs": [],
   "source": [
    "from gradient_solver import FeatureSelectionModel\n",
    "from ParameterizedModel.training import Trainer\n",
    "import torch"
   ]
  },
  {
   "cell_type": "code",
   "execution_count": 92,
   "metadata": {},
   "outputs": [],
   "source": [
    "df_observable_distances = observable_patterns_result['pw_norm_dist'].copy()\n",
    "df_explainable = preparation_result['explainable_df'].copy()\n",
    "\n",
    "model = FeatureSelectionModel(df_explainable.loc[:, explaining_features], df_observable_distances, penalty=0.0, num_samples=1)\n",
    "\n",
    "# After this many steps, the learning rate is halved\n",
    "HALFLIFE = 65\n",
    "\n",
    "optimizer = torch.optim.RMSprop(\n",
    "    params = [\n",
    "        {'params': model.parameters['alpha'], 'lr': 0.1, 'momentum': 0.5},\n",
    "        {'params': model.parameters['beta'],  'lr': 0.1, 'momentum': 0.5},\n",
    "    ]\n",
    ")\n",
    "\n",
    "lr_halflife = lambda epochs: 0.5**(1/epochs)\n",
    "scheduler = torch.optim.lr_scheduler.LambdaLR(optimizer, lr_lambda = lambda epoch: lr_halflife(HALFLIFE)**epoch)"
   ]
  },
  {
   "cell_type": "code",
   "execution_count": 93,
   "metadata": {},
   "outputs": [
    {
     "name": "stdout",
     "output_type": "stream",
     "text": [
      "1/300 --- Mean Loss : -0.6060651995213215\n",
      "2/300 --- Mean Loss : -0.6615315432855464\n",
      "3/300 --- Mean Loss : -0.6604890304092258\n",
      "4/300 --- Mean Loss : -0.6637191105687942\n",
      "5/300 --- Mean Loss : -0.6638211051582237\n",
      "6/300 --- Mean Loss : -0.6645893395852523\n",
      "7/300 --- Mean Loss : -0.6646962733841407\n",
      "8/300 --- Mean Loss : -0.6642415184852336\n",
      "9/300 --- Mean Loss : -0.664729406310459\n",
      "10/300 --- Mean Loss : -0.6650188712681845\n",
      "11/300 --- Mean Loss : -0.6641432959778432\n",
      "12/300 --- Mean Loss : -0.664721758310522\n",
      "13/300 --- Mean Loss : -0.6652229935165306\n",
      "14/300 --- Mean Loss : -0.6650779358867208\n",
      "15/300 --- Mean Loss : -0.6648065442803324\n",
      "16/300 --- Mean Loss : -0.6653317524079364\n",
      "17/300 --- Mean Loss : -0.6651896404781128\n",
      "18/300 --- Mean Loss : -0.6658337100215709\n",
      "19/300 --- Mean Loss : -0.6647730567864362\n",
      "20/300 --- Mean Loss : -0.6651745479092658\n",
      "21/300 --- Mean Loss : -0.6652014767768286\n",
      "22/300 --- Mean Loss : -0.6658511749287457\n",
      "23/300 --- Mean Loss : -0.6654792310363683\n",
      "24/300 --- Mean Loss : -0.6654167074898596\n",
      "25/300 --- Mean Loss : -0.6651563236418974\n",
      "26/300 --- Mean Loss : -0.6656612570250257\n",
      "27/300 --- Mean Loss : -0.6660189425763386\n",
      "28/300 --- Mean Loss : -0.6659524828199478\n",
      "29/300 --- Mean Loss : -0.6658568071018783\n",
      "30/300 --- Mean Loss : -0.6657559385453107\n",
      "31/300 --- Mean Loss : -0.6657374754259285\n",
      "32/300 --- Mean Loss : -0.6655250200843024\n",
      "33/300 --- Mean Loss : -0.66578772232321\n",
      "34/300 --- Mean Loss : -0.6660623049481309\n",
      "35/300 --- Mean Loss : -0.6660475725958701\n",
      "36/300 --- Mean Loss : -0.6653046239730679\n",
      "37/300 --- Mean Loss : -0.6662088288017705\n",
      "38/300 --- Mean Loss : -0.6659046780436624\n",
      "39/300 --- Mean Loss : -0.6659156997174392\n",
      "40/300 --- Mean Loss : -0.6658122079331541\n",
      "41/300 --- Mean Loss : -0.6658768814585985\n",
      "42/300 --- Mean Loss : -0.6660306774952678\n",
      "43/300 --- Mean Loss : -0.6653283745572003\n",
      "44/300 --- Mean Loss : -0.6661581948225422\n",
      "45/300 --- Mean Loss : -0.6658698391571314\n",
      "46/300 --- Mean Loss : -0.665970190847675\n",
      "47/300 --- Mean Loss : -0.6662175448991104\n",
      "48/300 --- Mean Loss : -0.6658572855750093\n",
      "49/300 --- Mean Loss : -0.6660897516410176\n",
      "50/300 --- Mean Loss : -0.6659021569814876\n",
      "51/300 --- Mean Loss : -0.6662181482910746\n",
      "52/300 --- Mean Loss : -0.6658735671156124\n",
      "53/300 --- Mean Loss : -0.665865541010658\n",
      "54/300 --- Mean Loss : -0.6660469104664549\n",
      "55/300 --- Mean Loss : -0.6658269366502514\n",
      "56/300 --- Mean Loss : -0.6659845223200568\n",
      "57/300 --- Mean Loss : -0.6661122148678943\n",
      "58/300 --- Mean Loss : -0.6659522217947166\n",
      "59/300 --- Mean Loss : -0.6660414960858008\n",
      "60/300 --- Mean Loss : -0.6663290143052266\n",
      "61/300 --- Mean Loss : -0.6661321642395825\n",
      "62/300 --- Mean Loss : -0.6661108632752346\n",
      "63/300 --- Mean Loss : -0.6661296503083899\n",
      "64/300 --- Mean Loss : -0.6660561814789403\n",
      "65/300 --- Mean Loss : -0.6660383598786118\n",
      "66/300 --- Mean Loss : -0.6661855758032493\n",
      "67/300 --- Mean Loss : -0.6661814532637895\n",
      "68/300 --- Mean Loss : -0.6661961093082034\n",
      "69/300 --- Mean Loss : -0.6660810055025057\n",
      "70/300 --- Mean Loss : -0.6659937486110721\n",
      "71/300 --- Mean Loss : -0.6663137548849396\n",
      "72/300 --- Mean Loss : -0.6661102822289152\n",
      "73/300 --- Mean Loss : -0.6662623924077004\n",
      "74/300 --- Mean Loss : -0.6662429265333719\n",
      "75/300 --- Mean Loss : -0.6661433105024592\n",
      "76/300 --- Mean Loss : -0.6661697069414175\n",
      "77/300 --- Mean Loss : -0.6661903274279589\n",
      "78/300 --- Mean Loss : -0.6663124518455436\n",
      "79/300 --- Mean Loss : -0.6660347589892115\n",
      "80/300 --- Mean Loss : -0.6662337488554924\n",
      "81/300 --- Mean Loss : -0.6660419888411095\n",
      "82/300 --- Mean Loss : -0.6663342183255436\n",
      "83/300 --- Mean Loss : -0.6662935185376655\n",
      "84/300 --- Mean Loss : -0.6663653984636798\n",
      "85/300 --- Mean Loss : -0.6661697445911743\n",
      "86/300 --- Mean Loss : -0.6663872921984779\n",
      "87/300 --- Mean Loss : -0.6662158450382094\n",
      "88/300 --- Mean Loss : -0.6662455888711507\n",
      "89/300 --- Mean Loss : -0.6660823733809631\n",
      "90/300 --- Mean Loss : -0.6663664935007333\n",
      "91/300 --- Mean Loss : -0.6663370147377413\n",
      "92/300 --- Mean Loss : -0.6663777179134934\n",
      "93/300 --- Mean Loss : -0.6662365402463352\n",
      "94/300 --- Mean Loss : -0.6663334811958878\n",
      "95/300 --- Mean Loss : -0.6662294462394851\n",
      "96/300 --- Mean Loss : -0.6661773593688937\n",
      "97/300 --- Mean Loss : -0.6662328805666344\n",
      "98/300 --- Mean Loss : -0.6663770836242323\n",
      "99/300 --- Mean Loss : -0.6663580295662513\n",
      "100/300 --- Mean Loss : -0.6663000708193326\n",
      "101/300 --- Mean Loss : -0.6663069246966378\n",
      "102/300 --- Mean Loss : -0.6663024551284584\n",
      "103/300 --- Mean Loss : -0.6663934138435001\n",
      "104/300 --- Mean Loss : -0.6662616755037184\n",
      "105/300 --- Mean Loss : -0.6663533304543494\n",
      "106/300 --- Mean Loss : -0.6663027571563938\n",
      "107/300 --- Mean Loss : -0.6662125315976285\n",
      "108/300 --- Mean Loss : -0.6663669192894559\n",
      "109/300 --- Mean Loss : -0.6663433067219717\n",
      "110/300 --- Mean Loss : -0.6663139652665675\n",
      "111/300 --- Mean Loss : -0.6661500635158963\n",
      "112/300 --- Mean Loss : -0.6663504975950104\n",
      "113/300 --- Mean Loss : -0.6662962265014551\n",
      "114/300 --- Mean Loss : -0.6663274996302403\n",
      "115/300 --- Mean Loss : -0.6663061267023145\n",
      "116/300 --- Mean Loss : -0.6663532290922507\n",
      "117/300 --- Mean Loss : -0.6663913177772334\n",
      "118/300 --- Mean Loss : -0.6663363126192428\n",
      "119/300 --- Mean Loss : -0.6663797556045932\n",
      "120/300 --- Mean Loss : -0.6663576038877664\n",
      "121/300 --- Mean Loss : -0.6662230577277148\n",
      "122/300 --- Mean Loss : -0.6664287511529581\n",
      "123/300 --- Mean Loss : -0.6664027291710864\n",
      "124/300 --- Mean Loss : -0.666338627823797\n",
      "125/300 --- Mean Loss : -0.666368837255808\n",
      "126/300 --- Mean Loss : -0.6663553747347419\n",
      "127/300 --- Mean Loss : -0.666321286184338\n",
      "128/300 --- Mean Loss : -0.6663382074850016\n",
      "129/300 --- Mean Loss : -0.666285679588926\n",
      "130/300 --- Mean Loss : -0.6663134779089266\n",
      "131/300 --- Mean Loss : -0.6663187978183451\n",
      "132/300 --- Mean Loss : -0.6664163962321517\n",
      "133/300 --- Mean Loss : -0.666370778280563\n",
      "134/300 --- Mean Loss : -0.666290372071657\n",
      "135/300 --- Mean Loss : -0.6664582088982982\n",
      "136/300 --- Mean Loss : -0.6664047779393731\n",
      "137/300 --- Mean Loss : -0.6664029466506515\n",
      "138/300 --- Mean Loss : -0.6663578663743812\n",
      "139/300 --- Mean Loss : -0.6664040794444197\n",
      "140/300 --- Mean Loss : -0.6663053622119631\n",
      "141/300 --- Mean Loss : -0.6664511381161683\n",
      "142/300 --- Mean Loss : -0.6664414029398451\n",
      "143/300 --- Mean Loss : -0.6663660011836174\n",
      "144/300 --- Mean Loss : -0.6663867461172177\n",
      "145/300 --- Mean Loss : -0.6663757734561183\n",
      "146/300 --- Mean Loss : -0.6663594505309016\n",
      "147/300 --- Mean Loss : -0.6663446566003347\n",
      "148/300 --- Mean Loss : -0.666383213417324\n",
      "149/300 --- Mean Loss : -0.666387826522451\n",
      "150/300 --- Mean Loss : -0.6664115232415617\n",
      "151/300 --- Mean Loss : -0.6664088009147772\n",
      "152/300 --- Mean Loss : -0.6664202698533311\n",
      "153/300 --- Mean Loss : -0.6664010177502365\n",
      "154/300 --- Mean Loss : -0.6664130364842765\n",
      "155/300 --- Mean Loss : -0.6663621003320194\n",
      "156/300 --- Mean Loss : -0.6664276560258449\n",
      "157/300 --- Mean Loss : -0.666444559272359\n",
      "158/300 --- Mean Loss : -0.6664283002576814\n",
      "159/300 --- Mean Loss : -0.6664229521423226\n",
      "160/300 --- Mean Loss : -0.66643326810495\n",
      "161/300 --- Mean Loss : -0.6664124045896365\n",
      "162/300 --- Mean Loss : -0.6664410302558565\n",
      "163/300 --- Mean Loss : -0.6664007443866758\n",
      "164/300 --- Mean Loss : -0.6664053120776248\n",
      "165/300 --- Mean Loss : -0.6664218346231882\n",
      "166/300 --- Mean Loss : -0.6663387655437678\n",
      "167/300 --- Mean Loss : -0.6664436398535268\n",
      "168/300 --- Mean Loss : -0.6664186336347687\n",
      "169/300 --- Mean Loss : -0.666396912185366\n",
      "170/300 --- Mean Loss : -0.6661747861880212\n",
      "171/300 --- Mean Loss : -0.6664271432123217\n",
      "172/300 --- Mean Loss : -0.6663925439396486\n",
      "173/300 --- Mean Loss : -0.6664454296108142\n",
      "174/300 --- Mean Loss : -0.6664588361176738\n",
      "175/300 --- Mean Loss : -0.666386275750137\n",
      "176/300 --- Mean Loss : -0.666436103573928\n",
      "177/300 --- Mean Loss : -0.6663496356654036\n",
      "178/300 --- Mean Loss : -0.6664693783253259\n",
      "179/300 --- Mean Loss : -0.6664232639909349\n",
      "180/300 --- Mean Loss : -0.6664723510923463\n",
      "181/300 --- Mean Loss : -0.6664469924418879\n",
      "182/300 --- Mean Loss : -0.6664395159621221\n",
      "183/300 --- Mean Loss : -0.6664353591180205\n",
      "184/300 --- Mean Loss : -0.666462239268834\n",
      "185/300 --- Mean Loss : -0.6664267787811314\n",
      "186/300 --- Mean Loss : -0.6663890515361679\n",
      "187/300 --- Mean Loss : -0.6664675016610001\n",
      "188/300 --- Mean Loss : -0.6664448784140699\n",
      "189/300 --- Mean Loss : -0.6664734827496033\n",
      "190/300 --- Mean Loss : -0.6664766854675821\n",
      "191/300 --- Mean Loss : -0.666448325698944\n",
      "192/300 --- Mean Loss : -0.666450814823965\n",
      "193/300 --- Mean Loss : -0.6664467121654716\n",
      "194/300 --- Mean Loss : -0.6664058777262593\n",
      "195/300 --- Mean Loss : -0.6664325440832302\n",
      "196/300 --- Mean Loss : -0.6663821586453156\n",
      "197/300 --- Mean Loss : -0.6664916394085462\n",
      "198/300 --- Mean Loss : -0.6664794735851678\n",
      "199/300 --- Mean Loss : -0.6664288701556598\n",
      "200/300 --- Mean Loss : -0.6664017094582483\n",
      "201/300 --- Mean Loss : -0.6664128197804959\n",
      "202/300 --- Mean Loss : -0.6664431873282094\n",
      "203/300 --- Mean Loss : -0.6664723804818975\n",
      "204/300 --- Mean Loss : -0.6664346654654668\n",
      "205/300 --- Mean Loss : -0.6664821480969371\n",
      "206/300 --- Mean Loss : -0.6664600969937358\n",
      "207/300 --- Mean Loss : -0.6663606011269438\n",
      "208/300 --- Mean Loss : -0.6664077955862663\n",
      "209/300 --- Mean Loss : -0.6664430977200916\n",
      "210/300 --- Mean Loss : -0.6664008641023146\n",
      "211/300 --- Mean Loss : -0.6664667337567136\n",
      "212/300 --- Mean Loss : -0.6664703629789529\n",
      "213/300 --- Mean Loss : -0.6664442115688101\n",
      "214/300 --- Mean Loss : -0.6664749007876367\n",
      "215/300 --- Mean Loss : -0.6664057826496133\n",
      "216/300 --- Mean Loss : -0.6664426522926946\n",
      "217/300 --- Mean Loss : -0.6664093081196554\n",
      "218/300 --- Mean Loss : -0.6664673936226635\n",
      "219/300 --- Mean Loss : -0.6664293301484824\n",
      "220/300 --- Mean Loss : -0.6664358606821097\n",
      "221/300 --- Mean Loss : -0.6664695281600754\n",
      "222/300 --- Mean Loss : -0.6664463666190759\n",
      "223/300 --- Mean Loss : -0.6664516294240217\n",
      "224/300 --- Mean Loss : -0.6663978933960945\n",
      "225/300 --- Mean Loss : -0.6664314225017993\n",
      "226/300 --- Mean Loss : -0.6664933420033121\n",
      "227/300 --- Mean Loss : -0.6664830427091044\n",
      "228/300 --- Mean Loss : -0.6664500457736684\n",
      "229/300 --- Mean Loss : -0.6664287971762756\n",
      "230/300 --- Mean Loss : -0.6664641057217074\n",
      "231/300 --- Mean Loss : -0.6664140560498475\n",
      "232/300 --- Mean Loss : -0.6664567426325783\n",
      "233/300 --- Mean Loss : -0.6664058352267677\n",
      "234/300 --- Mean Loss : -0.6664447051180297\n",
      "235/300 --- Mean Loss : -0.6664443048334373\n",
      "236/300 --- Mean Loss : -0.6664877995788356\n",
      "237/300 --- Mean Loss : -0.6664311073295424\n",
      "238/300 --- Mean Loss : -0.6664464202478891\n",
      "239/300 --- Mean Loss : -0.6664252598050366\n",
      "240/300 --- Mean Loss : -0.6665000131179831\n",
      "241/300 --- Mean Loss : -0.666437677690255\n",
      "242/300 --- Mean Loss : -0.6664621025696276\n",
      "243/300 --- Mean Loss : -0.6664885941286206\n",
      "244/300 --- Mean Loss : -0.666415750927449\n",
      "245/300 --- Mean Loss : -0.6664837850775529\n",
      "246/300 --- Mean Loss : -0.6664519033341878\n",
      "247/300 --- Mean Loss : -0.6664885013680729\n",
      "248/300 --- Mean Loss : -0.6664862635231833\n",
      "249/300 --- Mean Loss : -0.6664834389911591\n",
      "250/300 --- Mean Loss : -0.6664643826522937\n",
      "251/300 --- Mean Loss : -0.6664916356614267\n",
      "252/300 --- Mean Loss : -0.6663835469895174\n",
      "253/300 --- Mean Loss : -0.6664755115524338\n",
      "254/300 --- Mean Loss : -0.6664636067630594\n",
      "255/300 --- Mean Loss : -0.6664718314368283\n",
      "256/300 --- Mean Loss : -0.6664610832494956\n",
      "257/300 --- Mean Loss : -0.6664245218907757\n",
      "258/300 --- Mean Loss : -0.6664892102198091\n",
      "259/300 --- Mean Loss : -0.6664339365930707\n",
      "260/300 --- Mean Loss : -0.6664186606848272\n",
      "261/300 --- Mean Loss : -0.6664635458315694\n",
      "262/300 --- Mean Loss : -0.6664921894753947\n",
      "263/300 --- Mean Loss : -0.6664623675508424\n",
      "264/300 --- Mean Loss : -0.6664948233392769\n",
      "265/300 --- Mean Loss : -0.6664479983975921\n",
      "266/300 --- Mean Loss : -0.666456326507783\n",
      "267/300 --- Mean Loss : -0.6664711501112424\n",
      "268/300 --- Mean Loss : -0.666470920660848\n",
      "269/300 --- Mean Loss : -0.666455182220876\n",
      "270/300 --- Mean Loss : -0.666426478929548\n",
      "271/300 --- Mean Loss : -0.6664876525697552\n",
      "272/300 --- Mean Loss : -0.6664444194594615\n",
      "273/300 --- Mean Loss : -0.6664773680010966\n",
      "274/300 --- Mean Loss : -0.6664907013277214\n",
      "275/300 --- Mean Loss : -0.6664892786278455\n",
      "276/300 --- Mean Loss : -0.6664651428625592\n",
      "277/300 --- Mean Loss : -0.6664909357330592\n",
      "278/300 --- Mean Loss : -0.666485580409483\n",
      "279/300 --- Mean Loss : -0.6664717023824926\n",
      "280/300 --- Mean Loss : -0.6664652017436062\n",
      "281/300 --- Mean Loss : -0.666424383232476\n",
      "282/300 --- Mean Loss : -0.666419388232107\n",
      "283/300 --- Mean Loss : -0.6664756703241885\n",
      "284/300 --- Mean Loss : -0.6664977049664431\n",
      "285/300 --- Mean Loss : -0.6664940627550009\n",
      "286/300 --- Mean Loss : -0.6664848798819064\n",
      "287/300 --- Mean Loss : -0.6664874293794149\n",
      "288/300 --- Mean Loss : -0.6664854820825133\n",
      "289/300 --- Mean Loss : -0.6664742464083959\n",
      "290/300 --- Mean Loss : -0.6664742383526886\n",
      "291/300 --- Mean Loss : -0.6664922621550523\n",
      "292/300 --- Mean Loss : -0.6664942616891878\n",
      "293/300 --- Mean Loss : -0.6664653620370369\n",
      "294/300 --- Mean Loss : -0.666511129600708\n",
      "295/300 --- Mean Loss : -0.6664995992612341\n",
      "296/300 --- Mean Loss : -0.666465356790676\n",
      "297/300 --- Mean Loss : -0.6663786141683545\n",
      "298/300 --- Mean Loss : -0.6664974960331331\n",
      "299/300 --- Mean Loss : -0.6664556038357909\n",
      "300/300 --- Mean Loss : -0.6664737105346875\n"
     ]
    }
   ],
   "source": [
    "trainer = Trainer(model = model, optimizer = optimizer, scheduler = scheduler, dataloader = range(10))\n",
    "trainer.train(epochs = 300, timeout=120)"
   ]
  },
  {
   "cell_type": "code",
   "execution_count": 94,
   "metadata": {},
   "outputs": [
    {
     "name": "stdout",
     "output_type": "stream",
     "text": [
      "-0.6665575467190815\n"
     ]
    },
    {
     "data": {
      "image/png": "[encoded data removed]",
      "text/plain": [
       "<Figure size 1000x500 with 1 Axes>"
      ]
     },
     "metadata": {},
     "output_type": "display_data"
    }
   ],
   "source": [
    "print(float(model.best_loss))\n",
    "model.plot()"
   ]
  },
  {
   "cell_type": "code",
   "execution_count": 95,
   "metadata": {},
   "outputs": [
    {
     "data": {
      "text/plain": [
       "Ellipsis"
      ]
     },
     "execution_count": 95,
     "metadata": {},
     "output_type": "execute_result"
    }
   ],
   "source": [
    "..."
   ]
  },
  {
   "cell_type": "code",
   "execution_count": null,
   "metadata": {},
   "outputs": [],
   "source": []
  },
  {
   "cell_type": "code",
   "execution_count": null,
   "metadata": {},
   "outputs": [],
   "source": []
  }
 ],
 "metadata": {
  "kernelspec": {
   "display_name": "Python 3",
   "language": "python",
   "name": "python3"
  },
  "language_info": {
   "codemirror_mode": {
    "name": "ipython",
    "version": 3
   },
   "file_extension": ".py",
   "mimetype": "text/x-python",
   "name": "python",
   "nbconvert_exporter": "python",
   "pygments_lexer": "ipython3",
   "version": "3.12.3"
  }
 },
 "nbformat": 4,
 "nbformat_minor": 2
}
