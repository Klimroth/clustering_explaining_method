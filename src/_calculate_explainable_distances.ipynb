{
 "cells": [
  {
   "cell_type": "code",
   "execution_count": 5,
   "metadata": {},
   "outputs": [],
   "source": [
    "from data_preparation import DataPreparator\n",
    "from apply_clustering import ClusteringApplier"
   ]
  },
  {
   "cell_type": "code",
   "execution_count": 6,
   "metadata": {},
   "outputs": [],
   "source": [
    "import os.path\n",
    "from itertools import chain, combinations\n",
    "from typing import Dict, List, Tuple\n",
    "\n",
    "import numpy as np\n",
    "import pandas as pd\n",
    "from gapstatistics.gapstatistics import GapStatistics\n",
    "from clustering import AgglomerativeClusteringWrapper as AgglomerativeClustering\n",
    "import matplotlib.pyplot as plt\n",
    "import scipy.cluster.hierarchy as sch\n",
    "from scipy.cluster.hierarchy import dendrogram, linkage\n",
    "from scipy.spatial.distance import squareform\n",
    "from scipy.spatial.distance import jensenshannon, correlation, euclidean\n",
    "from tqdm.contrib.concurrent import thread_map\n",
    "\n",
    "import config"
   ]
  },
  {
   "cell_type": "code",
   "execution_count": 7,
   "metadata": {},
   "outputs": [
    {
     "data": {
      "text/plain": [
       "'exact'"
      ]
     },
     "execution_count": 7,
     "metadata": {},
     "output_type": "execute_result"
    }
   ],
   "source": [
    "config.INFERENCE_MODE_EXPLAINING_FEATURES"
   ]
  },
  {
   "cell_type": "code",
   "execution_count": 8,
   "metadata": {},
   "outputs": [],
   "source": [
    "#ClusteringApplier.calculate_explainable_distances()"
   ]
  },
  {
   "cell_type": "code",
   "execution_count": 9,
   "metadata": {},
   "outputs": [],
   "source": [
    "df_explainable: pd.DataFrame = ClusteringApplier.read_explaining_features() # removed [list(config.EXPLAINING_FEATURE_NAMES.keys())]\n",
    "df_observable_distances: pd.DataFrame = pd.read_excel(\n",
    "    f\"{config.OUTPUT_FOLDER_BASE}observables/{config.DATASET_NAME}-distance-normalized-matrix-{config.DISTANCE_MEASURE_FINGERPRINT}-{config.NUMBER_OBSERVABLE_PATTERNS}.xlsx\",\n",
    "    index_col=0\n",
    ")\n",
    "features: List[str] = list(config.EXPLAINING_FEATURE_NAMES.keys())"
   ]
  },
  {
   "cell_type": "code",
   "execution_count": 10,
   "metadata": {},
   "outputs": [],
   "source": [
    "#df_explainable#.set_index(df_explainable.columns[0], inplace=True)\n",
    "#df_observable_distances#.set_index(df_observable_distances.columns[0], inplace=True)"
   ]
  },
  {
   "cell_type": "code",
   "execution_count": 11,
   "metadata": {},
   "outputs": [],
   "source": [
    "valid_indices = np.intersect1d(df_explainable.index, df_observable_distances.index)\n",
    "\n",
    "df_explainable = df_explainable.loc[valid_indices]\n",
    "df_observable_distances = df_observable_distances.loc[valid_indices]"
   ]
  },
  {
   "cell_type": "code",
   "execution_count": 12,
   "metadata": {},
   "outputs": [],
   "source": [
    "def calculate_pairwise_distances_alt(\n",
    "        df: pd.DataFrame, feature_names: List[str], distance: str,\n",
    "    ) -> Tuple[pd.DataFrame, pd.DataFrame]:\n",
    "\n",
    "        if distance not in [\n",
    "            \"jensenshannon\",\n",
    "            \"euclidean\",\n",
    "            \"correlation\",\n",
    "        ]:\n",
    "            raise Exception(\n",
    "                \"Invalid distance measure used to measure similarity.\"\n",
    "            )\n",
    "\n",
    "        distance_matrix: np.array = np.zeros((df.shape[0], df.shape[0]))\n",
    "\n",
    "        for grp_i in range(df.shape[0]):\n",
    "            for grp_j in range(df.shape[0]):      \n",
    "                fingerprint_1 = df.iloc[grp_i][feature_names].to_numpy()\n",
    "                fingerprint_2 = df.iloc[grp_j][feature_names].to_numpy()\n",
    "                if distance == \"jensenshannon\":\n",
    "                    dist: float = 1.0 * jensenshannon(fingerprint_1, fingerprint_2)\n",
    "                elif distance == \"correlation\":\n",
    "                    dist = 1.0 * correlation(fingerprint_1, fingerprint_2)\n",
    "                else:\n",
    "                    dist = 1.0 * euclidean(fingerprint_1, fingerprint_2)\n",
    "                distance_matrix[grp_i, grp_j] = dist\n",
    "\n",
    "        normalised_distance_matrix = distance_matrix / np.sum(distance_matrix)\n",
    "\n",
    "        return pd.DataFrame(\n",
    "            distance_matrix, columns=df.index, index=df.index\n",
    "        ), pd.DataFrame(\n",
    "            normalised_distance_matrix, columns=df.index, index=df.index, \n",
    "        )\n",
    "\n",
    "def calculate_pairwise_distances(\n",
    "        df: pd.DataFrame, feature_names: List[str], distance: str,\n",
    "    ) -> Tuple[pd.DataFrame, pd.DataFrame]:\n",
    "\n",
    "        if distance not in [\n",
    "            \"jensenshannon\",\n",
    "            \"euclidean\",\n",
    "            \"correlation\",\n",
    "        ]:\n",
    "            raise Exception(\n",
    "                \"Invalid distance measure used to measure similarity.\"\n",
    "            )\n",
    "\n",
    "        distance_matrix: np.array = np.zeros((df.shape[0], df.shape[0]))\n",
    "        arr = df.loc[:, feature_names].to_numpy()\n",
    "\n",
    "        for grp_i in range(df.shape[0]):\n",
    "            for grp_j in range(df.shape[0]):      \n",
    "                fingerprint_1 = arr[grp_i]\n",
    "                fingerprint_2 = arr[grp_j]\n",
    "                if distance == \"jensenshannon\":\n",
    "                    dist: float = 1.0 * jensenshannon(fingerprint_1, fingerprint_2)\n",
    "                elif distance == \"correlation\":\n",
    "                    dist = 1.0 * correlation(fingerprint_1, fingerprint_2)\n",
    "                else:\n",
    "                    dist = 1.0 * euclidean(fingerprint_1, fingerprint_2)\n",
    "                distance_matrix[grp_i, grp_j] = dist\n",
    "\n",
    "        normalised_distance_matrix = distance_matrix / np.sum(distance_matrix)\n",
    "\n",
    "        return pd.DataFrame(\n",
    "            distance_matrix, columns=df.index, index=df.index\n",
    "        ), pd.DataFrame(\n",
    "            normalised_distance_matrix, columns=df.index, index=df.index, \n",
    "        )\n",
    "\n",
    "def calculate_pairwise_distances2(\n",
    "        df: pd.DataFrame, feature_names: List[str], distance: str,\n",
    "    ) -> Tuple[pd.DataFrame, pd.DataFrame]:\n",
    "\n",
    "        if distance not in [\n",
    "            \"jensenshannon\",\n",
    "            \"euclidean\",\n",
    "            \"correlation\",\n",
    "        ]:\n",
    "            raise Exception(\n",
    "                \"Invalid distance measure used to measure similarity.\"\n",
    "            )\n",
    "\n",
    "        distance_matrix: np.array = np.zeros((df.shape[0], df.shape[0]))\n",
    "        fingerprint_df = df.loc[:, feature_names]\n",
    "        fingerprint_array = fingerprint_df.to_numpy()\n",
    "\n",
    "        if distance == \"jensenshannon\":\n",
    "            dist = lambda u,v: 1.0 * jensenshannon(u,v)\n",
    "        elif distance == \"correlation\":\n",
    "            dist = lambda u,v: 1.0 * correlation(u,v)\n",
    "        else:\n",
    "            dist = lambda u,v: 1.0 * euclidean(u,v) \n",
    "\n",
    "        for i in range(df.shape[0]):\n",
    "            other_fingerprint = fingerprint_array[i]   \n",
    "            distance_matrix[:, i] = np.apply_along_axis(\n",
    "                 func1d=dist, axis=1, arr=fingerprint_array, v=other_fingerprint)\n",
    "\n",
    "        normalised_distance_matrix = distance_matrix / np.sum(distance_matrix)\n",
    "\n",
    "        return pd.DataFrame(\n",
    "            distance_matrix, columns=df.index, index=df.index\n",
    "        ), pd.DataFrame(\n",
    "            normalised_distance_matrix, columns=df.index, index=df.index, \n",
    "        )"
   ]
  },
  {
   "cell_type": "code",
   "execution_count": 13,
   "metadata": {},
   "outputs": [],
   "source": [
    "df = df_explainable"
   ]
  },
  {
   "cell_type": "code",
   "execution_count": 14,
   "metadata": {},
   "outputs": [],
   "source": [
    "import seaborn as sns"
   ]
  },
  {
   "cell_type": "code",
   "execution_count": 15,
   "metadata": {},
   "outputs": [
    {
     "data": {
      "application/vnd.jupyter.widget-view+json": {
       "model_id": "9b676950ccfc4e4aa35b4cb43551c9c1",
       "version_major": 2,
       "version_minor": 0
      },
      "text/plain": [
       "  0%|          | 0/1013 [00:00<?, ?it/s]"
      ]
     },
     "metadata": {},
     "output_type": "display_data"
    }
   ],
   "source": [
    "'''optimal_feature_set, maximum_correlation = (\n",
    "    ClusteringApplier._feature_selection_exhaustive(\n",
    "        df_explainable, df_observable_distances, features\n",
    "    )\n",
    ")'''\n",
    "\n",
    "powerset_features = chain.from_iterable(\n",
    "    combinations(features, r) for r in range(2, len(features) + 1)\n",
    ")\n",
    "powerset_method_input = [\n",
    "    (list(feature_set), df_explainable, df_observable_distances)\n",
    "    for feature_set in powerset_features\n",
    "]\n",
    "correlation_coefficients: List[float] = thread_map(\n",
    "    ClusteringApplier._get_correlation_coefficient,\n",
    "    powerset_method_input,\n",
    "    max_workers=config.MAX_NUM_THREADS,\n",
    ")"
   ]
  },
  {
   "cell_type": "code",
   "execution_count": 17,
   "metadata": {},
   "outputs": [],
   "source": [
    "maximum_correlation: float = max(correlation_coefficients)\n",
    "optimal_feature_set: List[str] = features\n",
    "current_feature_size = len(features)"
   ]
  },
  {
   "cell_type": "code",
   "execution_count": 18,
   "metadata": {},
   "outputs": [],
   "source": [
    "for index in range(len(correlation_coefficients)):\n",
    "    if correlation_coefficients[index] == maximum_correlation:\n",
    "        current_feature_set = powerset_method_input[index][0]\n",
    "        if len(current_feature_set) < current_feature_size:\n",
    "            current_feature_size = len(current_feature_set)\n",
    "            optimal_feature_set = current_feature_set"
   ]
  },
  {
   "cell_type": "code",
   "execution_count": 19,
   "metadata": {},
   "outputs": [
    {
     "data": {
      "text/plain": [
       "<Axes: ylabel='Count'>"
      ]
     },
     "execution_count": 19,
     "metadata": {},
     "output_type": "execute_result"
    },
    {
     "data": {
      "image/png": "[encoded data removed]",
      "text/plain": [
       "<Figure size 640x480 with 1 Axes>"
      ]
     },
     "metadata": {},
     "output_type": "display_data"
    }
   ],
   "source": [
    "sns.histplot(correlation_coefficients)"
   ]
  },
  {
   "cell_type": "code",
   "execution_count": 45,
   "metadata": {},
   "outputs": [
    {
     "data": {
      "text/plain": [
       "['Family_ID', 'Order_ID']"
      ]
     },
     "execution_count": 45,
     "metadata": {},
     "output_type": "execute_result"
    }
   ],
   "source": [
    "optimal_feature_set"
   ]
  },
  {
   "cell_type": "code",
   "execution_count": 23,
   "metadata": {},
   "outputs": [
    {
     "data": {
      "text/html": [
       "<div>\n",
       "<style scoped>\n",
       "    .dataframe tbody tr th:only-of-type {\n",
       "        vertical-align: middle;\n",
       "    }\n",
       "\n",
       "    .dataframe tbody tr th {\n",
       "        vertical-align: top;\n",
       "    }\n",
       "\n",
       "    .dataframe thead th {\n",
       "        text-align: right;\n",
       "    }\n",
       "</style>\n",
       "<table border=\"1\" class=\"dataframe\">\n",
       "  <thead>\n",
       "    <tr style=\"text-align: right;\">\n",
       "      <th></th>\n",
       "      <th>Age</th>\n",
       "      <th>Sex</th>\n",
       "      <th>Zoo</th>\n",
       "      <th>Stable</th>\n",
       "      <th>Genus_ID</th>\n",
       "      <th>Family_ID</th>\n",
       "      <th>Order_ID</th>\n",
       "      <th>SH</th>\n",
       "      <th>Weight</th>\n",
       "      <th>Habitat</th>\n",
       "    </tr>\n",
       "    <tr>\n",
       "      <th>Individual</th>\n",
       "      <th></th>\n",
       "      <th></th>\n",
       "      <th></th>\n",
       "      <th></th>\n",
       "      <th></th>\n",
       "      <th></th>\n",
       "      <th></th>\n",
       "      <th></th>\n",
       "      <th></th>\n",
       "      <th></th>\n",
       "    </tr>\n",
       "  </thead>\n",
       "  <tbody>\n",
       "    <tr>\n",
       "      <th>A.nas_01</th>\n",
       "      <td>0.999747</td>\n",
       "      <td>0.002341</td>\n",
       "      <td>0.099694</td>\n",
       "      <td>0.998840</td>\n",
       "      <td>0.169083</td>\n",
       "      <td>0.999551</td>\n",
       "      <td>0.499767</td>\n",
       "      <td>0.601464</td>\n",
       "      <td>0.041510</td>\n",
       "      <td>0.999681</td>\n",
       "    </tr>\n",
       "    <tr>\n",
       "      <th>A.nas_02</th>\n",
       "      <td>1.001306</td>\n",
       "      <td>1.000698</td>\n",
       "      <td>0.101274</td>\n",
       "      <td>0.000311</td>\n",
       "      <td>0.171466</td>\n",
       "      <td>0.999230</td>\n",
       "      <td>0.498396</td>\n",
       "      <td>0.600267</td>\n",
       "      <td>0.040525</td>\n",
       "      <td>1.000003</td>\n",
       "    </tr>\n",
       "    <tr>\n",
       "      <th>A.nas_03</th>\n",
       "      <td>0.999255</td>\n",
       "      <td>0.999968</td>\n",
       "      <td>0.099513</td>\n",
       "      <td>0.000711</td>\n",
       "      <td>0.174282</td>\n",
       "      <td>0.999651</td>\n",
       "      <td>0.500578</td>\n",
       "      <td>0.599855</td>\n",
       "      <td>0.040196</td>\n",
       "      <td>1.000547</td>\n",
       "    </tr>\n",
       "    <tr>\n",
       "      <th>A.nas_05</th>\n",
       "      <td>1.002021</td>\n",
       "      <td>0.999557</td>\n",
       "      <td>0.451949</td>\n",
       "      <td>0.998960</td>\n",
       "      <td>0.168951</td>\n",
       "      <td>0.998391</td>\n",
       "      <td>0.499439</td>\n",
       "      <td>0.599631</td>\n",
       "      <td>0.038517</td>\n",
       "      <td>1.000423</td>\n",
       "    </tr>\n",
       "    <tr>\n",
       "      <th>A.nas_06</th>\n",
       "      <td>1.001024</td>\n",
       "      <td>0.998515</td>\n",
       "      <td>0.449397</td>\n",
       "      <td>0.999903</td>\n",
       "      <td>0.170082</td>\n",
       "      <td>1.001279</td>\n",
       "      <td>0.499827</td>\n",
       "      <td>0.601195</td>\n",
       "      <td>0.042261</td>\n",
       "      <td>0.999958</td>\n",
       "    </tr>\n",
       "    <tr>\n",
       "      <th>...</th>\n",
       "      <td>...</td>\n",
       "      <td>...</td>\n",
       "      <td>...</td>\n",
       "      <td>...</td>\n",
       "      <td>...</td>\n",
       "      <td>...</td>\n",
       "      <td>...</td>\n",
       "      <td>...</td>\n",
       "      <td>...</td>\n",
       "      <td>...</td>\n",
       "    </tr>\n",
       "    <tr>\n",
       "      <th>T.spe_01</th>\n",
       "      <td>1.000840</td>\n",
       "      <td>-0.000621</td>\n",
       "      <td>0.547933</td>\n",
       "      <td>0.999775</td>\n",
       "      <td>0.384676</td>\n",
       "      <td>0.999853</td>\n",
       "      <td>0.500246</td>\n",
       "      <td>0.518877</td>\n",
       "      <td>0.032690</td>\n",
       "      <td>0.001027</td>\n",
       "    </tr>\n",
       "    <tr>\n",
       "      <th>T.str_01</th>\n",
       "      <td>0.999244</td>\n",
       "      <td>0.000095</td>\n",
       "      <td>0.500510</td>\n",
       "      <td>1.000803</td>\n",
       "      <td>0.383518</td>\n",
       "      <td>0.999625</td>\n",
       "      <td>0.499688</td>\n",
       "      <td>0.791647</td>\n",
       "      <td>0.109674</td>\n",
       "      <td>0.334176</td>\n",
       "    </tr>\n",
       "    <tr>\n",
       "      <th>T.str_02</th>\n",
       "      <td>0.999667</td>\n",
       "      <td>0.001185</td>\n",
       "      <td>0.599788</td>\n",
       "      <td>0.999715</td>\n",
       "      <td>0.383644</td>\n",
       "      <td>0.998846</td>\n",
       "      <td>0.499832</td>\n",
       "      <td>0.791656</td>\n",
       "      <td>0.111176</td>\n",
       "      <td>0.332448</td>\n",
       "    </tr>\n",
       "    <tr>\n",
       "      <th>T.str_03</th>\n",
       "      <td>1.000307</td>\n",
       "      <td>-0.000279</td>\n",
       "      <td>0.401778</td>\n",
       "      <td>1.000154</td>\n",
       "      <td>0.384323</td>\n",
       "      <td>1.000337</td>\n",
       "      <td>0.499166</td>\n",
       "      <td>0.793364</td>\n",
       "      <td>0.111441</td>\n",
       "      <td>0.334001</td>\n",
       "    </tr>\n",
       "    <tr>\n",
       "      <th>T.str_04</th>\n",
       "      <td>0.999794</td>\n",
       "      <td>1.000105</td>\n",
       "      <td>0.401780</td>\n",
       "      <td>0.997787</td>\n",
       "      <td>0.384402</td>\n",
       "      <td>0.998478</td>\n",
       "      <td>0.501356</td>\n",
       "      <td>0.789028</td>\n",
       "      <td>0.109469</td>\n",
       "      <td>0.332297</td>\n",
       "    </tr>\n",
       "  </tbody>\n",
       "</table>\n",
       "<p>132 rows × 10 columns</p>\n",
       "</div>"
      ],
      "text/plain": [
       "                 Age       Sex       Zoo    Stable  Genus_ID  Family_ID  \\\n",
       "Individual                                                                \n",
       "A.nas_01    0.999747  0.002341  0.099694  0.998840  0.169083   0.999551   \n",
       "A.nas_02    1.001306  1.000698  0.101274  0.000311  0.171466   0.999230   \n",
       "A.nas_03    0.999255  0.999968  0.099513  0.000711  0.174282   0.999651   \n",
       "A.nas_05    1.002021  0.999557  0.451949  0.998960  0.168951   0.998391   \n",
       "A.nas_06    1.001024  0.998515  0.449397  0.999903  0.170082   1.001279   \n",
       "...              ...       ...       ...       ...       ...        ...   \n",
       "T.spe_01    1.000840 -0.000621  0.547933  0.999775  0.384676   0.999853   \n",
       "T.str_01    0.999244  0.000095  0.500510  1.000803  0.383518   0.999625   \n",
       "T.str_02    0.999667  0.001185  0.599788  0.999715  0.383644   0.998846   \n",
       "T.str_03    1.000307 -0.000279  0.401778  1.000154  0.384323   1.000337   \n",
       "T.str_04    0.999794  1.000105  0.401780  0.997787  0.384402   0.998478   \n",
       "\n",
       "            Order_ID        SH    Weight   Habitat  \n",
       "Individual                                          \n",
       "A.nas_01    0.499767  0.601464  0.041510  0.999681  \n",
       "A.nas_02    0.498396  0.600267  0.040525  1.000003  \n",
       "A.nas_03    0.500578  0.599855  0.040196  1.000547  \n",
       "A.nas_05    0.499439  0.599631  0.038517  1.000423  \n",
       "A.nas_06    0.499827  0.601195  0.042261  0.999958  \n",
       "...              ...       ...       ...       ...  \n",
       "T.spe_01    0.500246  0.518877  0.032690  0.001027  \n",
       "T.str_01    0.499688  0.791647  0.109674  0.334176  \n",
       "T.str_02    0.499832  0.791656  0.111176  0.332448  \n",
       "T.str_03    0.499166  0.793364  0.111441  0.334001  \n",
       "T.str_04    0.501356  0.789028  0.109469  0.332297  \n",
       "\n",
       "[132 rows x 10 columns]"
      ]
     },
     "execution_count": 23,
     "metadata": {},
     "output_type": "execute_result"
    }
   ],
   "source": [
    "# Def 5.\n",
    "\n",
    "df_explainable"
   ]
  },
  {
   "cell_type": "code",
   "execution_count": 39,
   "metadata": {},
   "outputs": [
    {
     "data": {
      "text/html": [
       "<div>\n",
       "<style scoped>\n",
       "    .dataframe tbody tr th:only-of-type {\n",
       "        vertical-align: middle;\n",
       "    }\n",
       "\n",
       "    .dataframe tbody tr th {\n",
       "        vertical-align: top;\n",
       "    }\n",
       "\n",
       "    .dataframe thead th {\n",
       "        text-align: right;\n",
       "    }\n",
       "</style>\n",
       "<table border=\"1\" class=\"dataframe\">\n",
       "  <thead>\n",
       "    <tr style=\"text-align: right;\">\n",
       "      <th></th>\n",
       "      <th>num_lhd</th>\n",
       "      <th>num_lying</th>\n",
       "      <th>perc_lhd</th>\n",
       "      <th>perc_lying</th>\n",
       "    </tr>\n",
       "    <tr>\n",
       "      <th>Individual</th>\n",
       "      <th></th>\n",
       "      <th></th>\n",
       "      <th></th>\n",
       "      <th></th>\n",
       "    </tr>\n",
       "  </thead>\n",
       "  <tbody>\n",
       "    <tr>\n",
       "      <th>A.nas_01</th>\n",
       "      <td>0.372003</td>\n",
       "      <td>0.367388</td>\n",
       "      <td>0.207482</td>\n",
       "      <td>0.794579</td>\n",
       "    </tr>\n",
       "    <tr>\n",
       "      <th>A.nas_02</th>\n",
       "      <td>0.338936</td>\n",
       "      <td>0.467682</td>\n",
       "      <td>0.166495</td>\n",
       "      <td>0.818771</td>\n",
       "    </tr>\n",
       "    <tr>\n",
       "      <th>A.nas_03</th>\n",
       "      <td>0.427535</td>\n",
       "      <td>0.398313</td>\n",
       "      <td>0.252486</td>\n",
       "      <td>0.916313</td>\n",
       "    </tr>\n",
       "    <tr>\n",
       "      <th>A.nas_05</th>\n",
       "      <td>0.350815</td>\n",
       "      <td>0.358376</td>\n",
       "      <td>0.162101</td>\n",
       "      <td>0.873347</td>\n",
       "    </tr>\n",
       "    <tr>\n",
       "      <th>A.nas_06</th>\n",
       "      <td>0.203937</td>\n",
       "      <td>0.397767</td>\n",
       "      <td>0.095456</td>\n",
       "      <td>0.879265</td>\n",
       "    </tr>\n",
       "    <tr>\n",
       "      <th>...</th>\n",
       "      <td>...</td>\n",
       "      <td>...</td>\n",
       "      <td>...</td>\n",
       "      <td>...</td>\n",
       "    </tr>\n",
       "    <tr>\n",
       "      <th>T.spe_01</th>\n",
       "      <td>0.328284</td>\n",
       "      <td>0.365360</td>\n",
       "      <td>0.133843</td>\n",
       "      <td>0.649848</td>\n",
       "    </tr>\n",
       "    <tr>\n",
       "      <th>T.str_01</th>\n",
       "      <td>0.221797</td>\n",
       "      <td>0.531720</td>\n",
       "      <td>0.197812</td>\n",
       "      <td>0.742225</td>\n",
       "    </tr>\n",
       "    <tr>\n",
       "      <th>T.str_02</th>\n",
       "      <td>0.183003</td>\n",
       "      <td>0.432004</td>\n",
       "      <td>0.064325</td>\n",
       "      <td>0.688881</td>\n",
       "    </tr>\n",
       "    <tr>\n",
       "      <th>T.str_03</th>\n",
       "      <td>0.198197</td>\n",
       "      <td>0.485000</td>\n",
       "      <td>0.099520</td>\n",
       "      <td>0.683505</td>\n",
       "    </tr>\n",
       "    <tr>\n",
       "      <th>T.str_04</th>\n",
       "      <td>0.193097</td>\n",
       "      <td>0.541205</td>\n",
       "      <td>0.079685</td>\n",
       "      <td>0.562044</td>\n",
       "    </tr>\n",
       "  </tbody>\n",
       "</table>\n",
       "<p>132 rows × 4 columns</p>\n",
       "</div>"
      ],
      "text/plain": [
       "             num_lhd  num_lying  perc_lhd  perc_lying\n",
       "Individual                                           \n",
       "A.nas_01    0.372003   0.367388  0.207482    0.794579\n",
       "A.nas_02    0.338936   0.467682  0.166495    0.818771\n",
       "A.nas_03    0.427535   0.398313  0.252486    0.916313\n",
       "A.nas_05    0.350815   0.358376  0.162101    0.873347\n",
       "A.nas_06    0.203937   0.397767  0.095456    0.879265\n",
       "...              ...        ...       ...         ...\n",
       "T.spe_01    0.328284   0.365360  0.133843    0.649848\n",
       "T.str_01    0.221797   0.531720  0.197812    0.742225\n",
       "T.str_02    0.183003   0.432004  0.064325    0.688881\n",
       "T.str_03    0.198197   0.485000  0.099520    0.683505\n",
       "T.str_04    0.193097   0.541205  0.079685    0.562044\n",
       "\n",
       "[132 rows x 4 columns]"
      ]
     },
     "execution_count": 39,
     "metadata": {},
     "output_type": "execute_result"
    }
   ],
   "source": [
    "df_observable: pd.DataFrame = ClusteringApplier._read_observable_data(\n",
    "    read_only_feature_col=True\n",
    ")\n",
    "df_observable.reset_index().groupby('Individual').mean()"
   ]
  },
  {
   "cell_type": "code",
   "execution_count": 256,
   "metadata": {},
   "outputs": [
    {
     "data": {
      "text/plain": [
       "['Family_ID', 'Order_ID']"
      ]
     },
     "execution_count": 256,
     "metadata": {},
     "output_type": "execute_result"
    }
   ],
   "source": [
    "optimal_feature_set"
   ]
  },
  {
   "cell_type": "code",
   "execution_count": 210,
   "metadata": {},
   "outputs": [],
   "source": [
    "from sklearn.linear_model import LinearRegression\n",
    "from sklearn.metrics import explained_variance_score\n",
    "from numpy.random import permutation\n",
    "from collections import defaultdict"
   ]
  },
  {
   "cell_type": "code",
   "execution_count": 186,
   "metadata": {},
   "outputs": [],
   "source": [
    "my_feature_set = features#['Zoo', 'Genus_ID', 'Family_ID', 'Order_ID', 'SH']"
   ]
  },
  {
   "cell_type": "code",
   "execution_count": 236,
   "metadata": {},
   "outputs": [],
   "source": [
    "X = df_explainable.loc[:, my_feature_set].to_numpy()\n",
    "y = df_observable.reset_index().groupby('Individual').mean().to_numpy()"
   ]
  },
  {
   "cell_type": "code",
   "execution_count": 255,
   "metadata": {},
   "outputs": [
    {
     "data": {
      "text/html": [
       "<div>\n",
       "<style scoped>\n",
       "    .dataframe tbody tr th:only-of-type {\n",
       "        vertical-align: middle;\n",
       "    }\n",
       "\n",
       "    .dataframe tbody tr th {\n",
       "        vertical-align: top;\n",
       "    }\n",
       "\n",
       "    .dataframe thead th {\n",
       "        text-align: right;\n",
       "    }\n",
       "</style>\n",
       "<table border=\"1\" class=\"dataframe\">\n",
       "  <thead>\n",
       "    <tr style=\"text-align: right;\">\n",
       "      <th></th>\n",
       "      <th>num_lhd</th>\n",
       "      <th>num_lying</th>\n",
       "      <th>perc_lhd</th>\n",
       "      <th>perc_lying</th>\n",
       "    </tr>\n",
       "    <tr>\n",
       "      <th>Individual</th>\n",
       "      <th></th>\n",
       "      <th></th>\n",
       "      <th></th>\n",
       "      <th></th>\n",
       "    </tr>\n",
       "  </thead>\n",
       "  <tbody>\n",
       "    <tr>\n",
       "      <th>A.nas_01</th>\n",
       "      <td>0.292750</td>\n",
       "      <td>0.216410</td>\n",
       "      <td>0.277699</td>\n",
       "      <td>0.681734</td>\n",
       "    </tr>\n",
       "    <tr>\n",
       "      <th>A.nas_01</th>\n",
       "      <td>0.244250</td>\n",
       "      <td>0.284294</td>\n",
       "      <td>0.277313</td>\n",
       "      <td>0.553493</td>\n",
       "    </tr>\n",
       "    <tr>\n",
       "      <th>A.nas_01</th>\n",
       "      <td>0.560660</td>\n",
       "      <td>0.284463</td>\n",
       "      <td>0.237427</td>\n",
       "      <td>0.665380</td>\n",
       "    </tr>\n",
       "    <tr>\n",
       "      <th>A.nas_01</th>\n",
       "      <td>0.342266</td>\n",
       "      <td>0.428793</td>\n",
       "      <td>0.167743</td>\n",
       "      <td>0.755752</td>\n",
       "    </tr>\n",
       "    <tr>\n",
       "      <th>A.nas_01</th>\n",
       "      <td>0.294151</td>\n",
       "      <td>0.359052</td>\n",
       "      <td>0.178703</td>\n",
       "      <td>0.807183</td>\n",
       "    </tr>\n",
       "    <tr>\n",
       "      <th>...</th>\n",
       "      <td>...</td>\n",
       "      <td>...</td>\n",
       "      <td>...</td>\n",
       "      <td>...</td>\n",
       "    </tr>\n",
       "    <tr>\n",
       "      <th>T.str_04</th>\n",
       "      <td>0.270125</td>\n",
       "      <td>0.571924</td>\n",
       "      <td>0.092243</td>\n",
       "      <td>0.568313</td>\n",
       "    </tr>\n",
       "    <tr>\n",
       "      <th>T.str_04</th>\n",
       "      <td>0.219375</td>\n",
       "      <td>0.571686</td>\n",
       "      <td>0.070919</td>\n",
       "      <td>0.584540</td>\n",
       "    </tr>\n",
       "    <tr>\n",
       "      <th>T.str_04</th>\n",
       "      <td>0.170633</td>\n",
       "      <td>0.499520</td>\n",
       "      <td>0.063179</td>\n",
       "      <td>0.662751</td>\n",
       "    </tr>\n",
       "    <tr>\n",
       "      <th>T.str_04</th>\n",
       "      <td>0.194104</td>\n",
       "      <td>0.572904</td>\n",
       "      <td>0.064052</td>\n",
       "      <td>0.532521</td>\n",
       "    </tr>\n",
       "    <tr>\n",
       "      <th>T.str_04</th>\n",
       "      <td>0.196453</td>\n",
       "      <td>0.713737</td>\n",
       "      <td>0.076028</td>\n",
       "      <td>0.581593</td>\n",
       "    </tr>\n",
       "  </tbody>\n",
       "</table>\n",
       "<p>13728 rows × 4 columns</p>\n",
       "</div>"
      ],
      "text/plain": [
       "             num_lhd  num_lying  perc_lhd  perc_lying\n",
       "Individual                                           \n",
       "A.nas_01    0.292750   0.216410  0.277699    0.681734\n",
       "A.nas_01    0.244250   0.284294  0.277313    0.553493\n",
       "A.nas_01    0.560660   0.284463  0.237427    0.665380\n",
       "A.nas_01    0.342266   0.428793  0.167743    0.755752\n",
       "A.nas_01    0.294151   0.359052  0.178703    0.807183\n",
       "...              ...        ...       ...         ...\n",
       "T.str_04    0.270125   0.571924  0.092243    0.568313\n",
       "T.str_04    0.219375   0.571686  0.070919    0.584540\n",
       "T.str_04    0.170633   0.499520  0.063179    0.662751\n",
       "T.str_04    0.194104   0.572904  0.064052    0.532521\n",
       "T.str_04    0.196453   0.713737  0.076028    0.581593\n",
       "\n",
       "[13728 rows x 4 columns]"
      ]
     },
     "execution_count": 255,
     "metadata": {},
     "output_type": "execute_result"
    }
   ],
   "source": [
    "df_observable"
   ]
  },
  {
   "cell_type": "code",
   "execution_count": 237,
   "metadata": {},
   "outputs": [],
   "source": [
    "obs_df = df_observable.reset_index()\n",
    "idx = obs_df.index"
   ]
  },
  {
   "cell_type": "code",
   "execution_count": 238,
   "metadata": {},
   "outputs": [],
   "source": [
    "get_y = lambda: obs_df.loc[permutation(idx)].drop_duplicates(subset=[config.GROUP_NAME], keep='first').set_index(config.GROUP_NAME).loc[df_explainable.index].to_numpy()"
   ]
  },
  {
   "cell_type": "code",
   "execution_count": 239,
   "metadata": {},
   "outputs": [],
   "source": [
    "K = 100"
   ]
  },
  {
   "cell_type": "code",
   "execution_count": 248,
   "metadata": {},
   "outputs": [],
   "source": [
    "model = LinearRegression()\n",
    "model.fit(X,y)\n",
    "y_pred = model.predict(X)\n",
    "R2 = explained_variance_score(y_true=y, y_pred=y_pred)"
   ]
  },
  {
   "cell_type": "code",
   "execution_count": 253,
   "metadata": {},
   "outputs": [],
   "source": [
    "feature_importances = defaultdict(lambda: 0.)\n",
    "for col_i in range(X.shape[1]):\n",
    "    for k in range(K):\n",
    "        permuted_X = X.copy()\n",
    "        permuted_X[:, col_i] = permutation(permuted_X[:, col_i])\n",
    "        y = get_y()\n",
    "        model.fit(X,y)\n",
    "        R2 = explained_variance_score(y_true=y, y_pred=model.predict(X))\n",
    "        y_pred = model.predict(permuted_X)\n",
    "        feature_importances[my_feature_set[col_i]] += (R2 - explained_variance_score(y_true=y, y_pred=y_pred))/K\n",
    "\n",
    "for col_i in range(X.shape[1]):\n",
    "    #feature_importances[my_feature_set[col_i]] = #R2 - (feature_importances[my_feature_set[col_i]]/K)\n",
    "    pass\n",
    "\n",
    "adj_sum = sum(feature_importances.values())\n",
    "for key, val in feature_importances.items():\n",
    "    feature_importances[key] = val / adj_sum\n",
    "\n",
    "assert np.isclose(sum(feature_importances.values()), 1)"
   ]
  },
  {
   "cell_type": "code",
   "execution_count": 254,
   "metadata": {},
   "outputs": [
    {
     "data": {
      "text/plain": [
       "<Axes: >"
      ]
     },
     "execution_count": 254,
     "metadata": {},
     "output_type": "execute_result"
    },
    {
     "data": {
      "image/png": "[encoded data removed]",
      "text/plain": [
       "<Figure size 1000x500 with 1 Axes>"
      ]
     },
     "metadata": {},
     "output_type": "display_data"
    }
   ],
   "source": [
    "plt.figure(figsize=(10, 5))\n",
    "sns.barplot(feature_importances)"
   ]
  },
  {
   "cell_type": "code",
   "execution_count": 21,
   "metadata": {},
   "outputs": [
    {
     "data": {
      "text/plain": [
       "Ellipsis"
      ]
     },
     "execution_count": 21,
     "metadata": {},
     "output_type": "execute_result"
    }
   ],
   "source": [
    "..."
   ]
  }
 ],
 "metadata": {
  "kernelspec": {
   "display_name": "Python 3",
   "language": "python",
   "name": "python3"
  },
  "language_info": {
   "codemirror_mode": {
    "name": "ipython",
    "version": 3
   },
   "file_extension": ".py",
   "mimetype": "text/x-python",
   "name": "python",
   "nbconvert_exporter": "python",
   "pygments_lexer": "ipython3",
   "version": "3.12.4"
  }
 },
 "nbformat": 4,
 "nbformat_minor": 2
}
