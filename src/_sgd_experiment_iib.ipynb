{
 "cells": [
  {
   "cell_type": "code",
   "execution_count": null,
   "metadata": {},
   "outputs": [],
   "source": [
    "from data_preparation import DataPreparator\n",
    "from apply_clustering import ClusteringApplier"
   ]
  },
  {
   "cell_type": "code",
   "execution_count": null,
   "metadata": {},
   "outputs": [],
   "source": [
    "import os.path\n",
    "from itertools import chain, combinations\n",
    "from typing import Dict, List, Tuple, Iterable, Any\n",
    "\n",
    "import numpy as np\n",
    "import pandas as pd\n",
    "from gapstatistics.gapstatistics import GapStatistics\n",
    "from clustering import AgglomerativeClusteringWrapper as AgglomerativeClustering\n",
    "import matplotlib.pyplot as plt\n",
    "import scipy.cluster.hierarchy as sch\n",
    "from scipy.cluster.hierarchy import dendrogram, linkage\n",
    "from scipy.spatial.distance import squareform\n",
    "from scipy.spatial.distance import jensenshannon, correlation, euclidean\n",
    "from tqdm.contrib.concurrent import thread_map\n",
    "import seaborn as sns\n",
    "\n",
    "import config"
   ]
  },
  {
   "cell_type": "code",
   "execution_count": null,
   "metadata": {},
   "outputs": [],
   "source": [
    "import torch\n",
    "from torch.distributions import kl_divergence\n",
    "from torch.distributions.uniform import Uniform\n",
    "from torch.distributions.beta import Beta\n",
    "from torch.distributions.dirichlet import Dirichlet\n",
    "from ParameterizedModel.parameterized_model import Paremeterized_Model\n",
    "from ParameterizedModel.utils.distribution_helpers import mean_std_to_beta_params\n",
    "\n",
    "from ParameterizedModel.training import Trainer"
   ]
  },
  {
   "cell_type": "code",
   "execution_count": null,
   "metadata": {},
   "outputs": [],
   "source": [
    "from gradient_solver import construct_distance_matrix"
   ]
  },
  {
   "cell_type": "code",
   "execution_count": null,
   "metadata": {},
   "outputs": [],
   "source": [
    "import timeit"
   ]
  },
  {
   "cell_type": "code",
   "execution_count": null,
   "metadata": {},
   "outputs": [],
   "source": [
    "from IPython.display import display, Math, Latex"
   ]
  },
  {
   "cell_type": "code",
   "execution_count": null,
   "metadata": {},
   "outputs": [],
   "source": [
    "import torch\n",
    "from torch.utils.data import Dataset, DataLoader, TensorDataset"
   ]
  },
  {
   "cell_type": "code",
   "execution_count": null,
   "metadata": {},
   "outputs": [],
   "source": [
    "from scipy.spatial.distance import correlation"
   ]
  },
  {
   "cell_type": "code",
   "execution_count": null,
   "metadata": {},
   "outputs": [],
   "source": [
    "from gradient_solver import *"
   ]
  },
  {
   "cell_type": "code",
   "execution_count": null,
   "metadata": {},
   "outputs": [],
   "source": [
    "'''df_explainable: pd.DataFrame = ClusteringApplier.read_explaining_features()\n",
    "df_observable_distances: pd.DataFrame = pd.read_excel(\n",
    "    f\"{config.OUTPUT_FOLDER_BASE}observables/{config.DATASET_NAME}-distance-normalized-matrix-{config.DISTANCE_MEASURE_FINGERPRINT}-{config.NUMBER_OBSERVABLE_PATTERNS}.xlsx\",\n",
    "    index_col=0\n",
    ")\n",
    "features: List[str] = list(config.EXPLAINING_FEATURE_NAMES.keys())\n",
    "\n",
    "# Ensure that both datasets contain the same indices\n",
    "valid_indices = np.intersect1d(df_explainable.index, df_observable_distances.index)\n",
    "df_explainable = df_explainable.loc[valid_indices]\n",
    "df_observable_distances = df_observable_distances.loc[valid_indices]'''"
   ]
  },
  {
   "cell_type": "code",
   "execution_count": null,
   "metadata": {},
   "outputs": [],
   "source": [
    "##################\n",
    "# Synthetic Data #\n",
    "##################\n",
    "individuals = 100\n",
    "base_size = 10000\n",
    "\n",
    "#observation_data = np.random.normal(loc=0, scale=1, size=(base_size, 6))\n",
    "'''explanation_data = np.random.uniform(0,1, size=(individuals, 11))\n",
    "df_explainable = pd.DataFrame(explanation_data)\n",
    "df_explainable.loc[:, 'Individual'] = [f'Individual_{i}' for i in df_explainable.index]\n",
    "df_explainable.set_index('Individual', inplace=True)'''\n",
    "\n",
    "df_explainable = pd.DataFrame({\n",
    "    'Age': np.random.choice([0., 0.5, 1.], individuals),\n",
    "    'Weight': np.random.uniform(0,1, size=individuals),\n",
    "    'Is_a_Zebra': np.random.choice([0., 1.], individuals),\n",
    "    'Loves_to_sleep': np.random.uniform(0,1, size=individuals),\n",
    "    'Noise_1': np.random.uniform(0,1, size=individuals),\n",
    "    'Noise_2': np.random.uniform(0,1, size=individuals),\n",
    "    'Noise_3': np.random.uniform(0,1, size=individuals),\n",
    "    'Noise_4': np.random.uniform(0,1, size=individuals),\n",
    "    'Noise_5': np.random.uniform(0,1, size=individuals),\n",
    "    'Individual': [f'Individual_{n}' for n in range(individuals)]\n",
    "})\n",
    "df_explainable.set_index('Individual', inplace=True)\n",
    "\n",
    "explaining_features = np.array(list(df_explainable.columns))\n",
    "individual_array = np.random.choice(df_explainable.index.unique(), size=base_size)\n",
    "\n",
    "df_observable = pd.DataFrame({\n",
    "    'Individual': individual_array,\n",
    "})\n",
    "df_observable.loc[:, 'unexplainable_1'] = np.random.uniform(0,1, size=base_size)\n",
    "df_observable.loc[:, 'unexplainable_2'] = np.random.uniform(0,1, size=base_size)\n",
    "df_observable.loc[:, 'unexplainable_3'] = np.random.uniform(0,1, size=base_size)\n",
    "df_observable.loc[:, 'unexplainable_4'] = np.random.normal(0,1, size=base_size)\n",
    "\n",
    "df_observable.loc[:, 'if_zebra_then_age'] = (df_explainable.loc[individual_array, 'Is_a_Zebra'].values > 0.65) * df_explainable.loc[individual_array, 'Age'].values + (df_explainable.loc[individual_array, 'Is_a_Zebra'].values <= 0.65) * np.random.uniform(0,1, size=base_size)\n",
    "df_observable.loc[:, 'explained_by_loves_to_sleep'] = df_explainable.loc[individual_array, 'Loves_to_sleep'].values #df_explainable.loc[individual_array, [1,2,3]].mean(axis=1).values #req_1 * df_explainable.loc[individual_array, 2].values + (1-req_1) * df_explainable.loc[individual_array, 3].values\n",
    "df_observable.loc[:, 'Age_plus_Weight'] = df_explainable.loc[individual_array, 'Age'].values + df_explainable.loc[individual_array, 'Weight'].values\n",
    "\n",
    "df_observable.set_index('Individual', inplace=True)\n",
    "observed_features = list(df_observable.columns)\n",
    "\n",
    "df_observable = df_observable.apply(lambda x: (x - x.min()) / (x.max() - x.min()), axis=0)\n",
    "df_explainable = df_explainable.apply(lambda x: (x - x.min()) / (x.max() - x.min()), axis=0)"
   ]
  },
  {
   "cell_type": "code",
   "execution_count": null,
   "metadata": {},
   "outputs": [],
   "source": [
    "df_explainable"
   ]
  },
  {
   "cell_type": "code",
   "execution_count": null,
   "metadata": {},
   "outputs": [],
   "source": [
    "df_observable"
   ]
  },
  {
   "cell_type": "code",
   "execution_count": null,
   "metadata": {},
   "outputs": [],
   "source": [
    "df_observable.loc['Individual_9']"
   ]
  },
  {
   "cell_type": "code",
   "execution_count": null,
   "metadata": {},
   "outputs": [],
   "source": [
    "index_name = 'Individual'\n",
    "my_linkage = 'ward' #'single'\n",
    "\n",
    "from data_preparation import DataPreparator\n",
    "from apply_clustering import ClusteringApplier\n",
    "\n",
    "preparation_result = DataPreparator.prepare_data(\n",
    "    use_config=False,\n",
    "    df_observable=df_observable.reset_index(),\n",
    "    df_explainable=df_explainable.reset_index(),\n",
    "    distortion_mean=0.,\n",
    "    distortion_std=0.001,\n",
    "    observed_features=observed_features,\n",
    "    explaining_features=explaining_features,\n",
    "    nn_imputation_k=10,\n",
    "    group_name=index_name,\n",
    ")\n",
    "optimal_number_of_clusters = ClusteringApplier.draw_gap_statistic_plot(\n",
    "    use_config=False, df_observable=preparation_result['observable_df'],\n",
    "    observed_features=observed_features,\n",
    "    gap_statistic_cluster_range=15,\n",
    "    linkage='ward'\n",
    ")\n",
    "observable_patterns_result = ClusteringApplier.calculate_observable_patterns(\n",
    "    use_config=False,\n",
    "    df_observable_data=preparation_result['observable_df'],\n",
    "    _n_clusters=optimal_number_of_clusters['n_clusters'],\n",
    "    observable_name='observable_name',\n",
    "    observable_feature_names=observed_features,\n",
    "    plot_title='Name of the fingerprint plot',\n",
    "    number_observable_patterns='auto',\n",
    "    distance_measure_fingerprint='jensenshannon',\n",
    "    group_name=index_name, \n",
    "    spiderplot_scaling='minmax',\n",
    "    linkage=my_linkage\n",
    ")"
   ]
  },
  {
   "cell_type": "code",
   "execution_count": null,
   "metadata": {},
   "outputs": [],
   "source": [
    "observable_patterns_result['spider_plots']"
   ]
  },
  {
   "cell_type": "code",
   "execution_count": null,
   "metadata": {},
   "outputs": [],
   "source": [
    "calculate_explainable_distances_result = ClusteringApplier.calculate_explainable_distances(\n",
    "    use_config=False,\n",
    "    df_explainable=preparation_result['explainable_df'].copy(),\n",
    "    df_observable_distances=observable_patterns_result['pw_norm_dist'].copy(),\n",
    "    explaining_features=explaining_features,\n",
    "    method='exact',\n",
    "    distance_measure='correlation',\n",
    "    sparsity_parameter=0.01,\n",
    "    max_num_threads=12,\n",
    "    group_name=index_name\n",
    ")"
   ]
  },
  {
   "cell_type": "code",
   "execution_count": null,
   "metadata": {},
   "outputs": [],
   "source": [
    "calculate_explainable_distances_result['overview_df']"
   ]
  },
  {
   "cell_type": "code",
   "execution_count": null,
   "metadata": {},
   "outputs": [],
   "source": [
    "def ward_distance(x, y):\n",
    "    # Compute the centroids of the two clusters\n",
    "    centroid_x = torch.mean(x, dim=0)\n",
    "    centroid_y = torch.mean(y, dim=0)\n",
    "\n",
    "    # Compute the variance within each cluster\n",
    "    var_x = torch.sum((x - centroid_x) ** 2) / (x.shape[0] - 1)\n",
    "    var_y = torch.sum((y - centroid_y) ** 2) / (y.shape[0] - 1)\n",
    "\n",
    "    # Compute the variance between the two clusters\n",
    "    var_between = torch.sum((centroid_x - centroid_y) ** 2)\n",
    "\n",
    "    # Compute the Ward distance\n",
    "    return var_between + var_x + var_y"
   ]
  },
  {
   "cell_type": "code",
   "execution_count": null,
   "metadata": {},
   "outputs": [],
   "source": [
    "keystr = 'df_observable_data'\n",
    "\n",
    "x = torch.tensor(observable_patterns_result[keystr].loc[:, observed_features].to_numpy())\n",
    "y = torch.tensor(observable_patterns_result['df_cluster_median'].to_numpy())\n",
    "\n",
    "alternative = ((x.unsqueeze(1) - y.unsqueeze(0)).pow(2).clamp(min=1e-20)).sum(2).sqrt()\n",
    "\n",
    "vergleich = observable_patterns_result['df_observable_data'].pattern_type == alternative.argmin(dim=1).numpy() #torch.cdist(x, y).argmin(dim=1).numpy()\n",
    "print(vergleich)\n",
    "print(vergleich.sum() / observable_patterns_result[keystr].shape[0])\n",
    "\n",
    "print(alternative.argmin(dim=1).numpy()[:23])\n",
    "print(observable_patterns_result['df_observable_data'].pattern_type[:23].to_numpy())"
   ]
  },
  {
   "cell_type": "code",
   "execution_count": null,
   "metadata": {},
   "outputs": [],
   "source": [
    "my_df = observable_patterns_result[keystr].copy()\n",
    "my_df = my_df[my_df[\"oversampled\"] == False]"
   ]
  },
  {
   "cell_type": "code",
   "execution_count": null,
   "metadata": {},
   "outputs": [],
   "source": [
    "my_df.loc[:, [index_name] + observed_features]"
   ]
  },
  {
   "cell_type": "code",
   "execution_count": null,
   "metadata": {},
   "outputs": [],
   "source": [
    "df_observable_distances = observable_patterns_result['pw_norm_dist']\n",
    "df_observable_distances.head()"
   ]
  },
  {
   "cell_type": "code",
   "execution_count": null,
   "metadata": {},
   "outputs": [],
   "source": [
    "fingerprint_df = ClusteringApplier._calculate_fingerprints(\n",
    "    df = my_df,\n",
    "    group_name = index_name,\n",
    "    use_config=False,\n",
    ")"
   ]
  },
  {
   "cell_type": "code",
   "execution_count": null,
   "metadata": {},
   "outputs": [],
   "source": [
    "fingerprint_distanzen, normierte_fingerprint_distanzen = ClusteringApplier.calculate_pairwise_fingerprint_distances(\n",
    "    df = fingerprint_df,\n",
    "    distance = 'jensenshannon'\n",
    ")"
   ]
  },
  {
   "cell_type": "code",
   "execution_count": null,
   "metadata": {},
   "outputs": [],
   "source": [
    "@torch.jit.script\n",
    "def torch_relative_entropy(x:torch.Tensor, y:torch.Tensor) -> torch.Tensor:\n",
    "    return (x * torch.log(x/y))"
   ]
  },
  {
   "cell_type": "code",
   "execution_count": null,
   "metadata": {},
   "outputs": [],
   "source": [
    "@torch.jit.script\n",
    "def new_torch_matrix_jensenshannon(A:torch.Tensor) -> torch.Tensor:\n",
    "\n",
    "    ########################################################################################\n",
    "    ### Conversion of the jensenshannon distance from scipy.spatial.distance to pytorch. ###\n",
    "    ########################################################################################\n",
    "\n",
    "    \"\"\"\n",
    "    Compute the pairwise Jensen-Shannon distance (metric) between\n",
    "    all entries in a matrix. This is the square root\n",
    "    of the Jensen-Shannon divergence.\n",
    "\n",
    "    The Jensen-Shannon distance between two probability\n",
    "    vectors `p` and `q` is defined as,\n",
    "\n",
    "    .. math::\n",
    "\n",
    "       \\\\sqrt{\\\\frac{D(p \\\\parallel m) + D(q \\\\parallel m)}{2}}\n",
    "\n",
    "    where :math:`m` is the pointwise mean of :math:`p` and :math:`q`\n",
    "    and :math:`D` is the Kullback-Leibler divergence.\n",
    "\n",
    "    This routine will normalize `p` and `q` if they don't sum to 1.0.\n",
    "\n",
    "    Parameters\n",
    "    ----------\n",
    "    A : (N,M) array_like\n",
    "        matrix of probability vectors\n",
    "    \n",
    "    Returns\n",
    "    -------\n",
    "    js : double or ndarray\n",
    "        The Jensen-Shannon distances along the `axis`.\n",
    "\n",
    "    \"\"\"\n",
    "    \n",
    "    clamped_A = A.clamp(min = 1e-20)\n",
    "    normalized_A = clamped_A / torch.sum(clamped_A, dim=1).unsqueeze(-1)\n",
    "    m_A = (normalized_A.unsqueeze(-1) + normalized_A.T).permute(2,0,1) / 2.0\n",
    "    relative_entropies = torch_relative_entropy(normalized_A, m_A) + 1e-10\n",
    "    js = (relative_entropies.sum(dim = 2) + relative_entropies.sum(dim = 2).T).clamp(min = 0.)\n",
    "    return (js / 2.0).sqrt()"
   ]
  },
  {
   "cell_type": "code",
   "execution_count": 1614,
   "metadata": {},
   "outputs": [],
   "source": [
    "class FeatureSelectionModel(Paremeterized_Model):\n",
    "    def __init__(self, df_explainable:pd.DataFrame, df_observable:pd.DataFrame, df_cluster:pd.DataFrame|torch.Tensor, num_virtual_features:int, index_name:str, num_samples:int=1, power:int=4, penalty=0., device='cpu', clip_value=0, dtype=torch.float64):\n",
    "        super().__init__(device, dtype)\n",
    "\n",
    "        self.df_explainable = df_explainable.copy()\n",
    "        self.df_explainable.sort_index(inplace=True)\n",
    "\n",
    "        self.df_observable = df_observable.copy()\n",
    "        self.df_observable.sort_values(index_name, inplace=True)\n",
    "        self.df_observable.reset_index(inplace=True, drop=True)\n",
    "\n",
    "        self.tensor_explainable = torch.tensor(self.df_explainable.to_numpy(), dtype=self.dtype, device=self.device).clamp(min=1e-20, max=1.)\n",
    "        self.tensor_observable  = torch.tensor(self.df_observable.set_index(index_name).to_numpy(), dtype=self.dtype, device=self.device).clamp(min=1e-20, max=1.)\n",
    "\n",
    "        if isinstance(df_cluster, pd.DataFrame):\n",
    "            self.cluster_positions  = torch.tensor(df_cluster.to_numpy(), dtype=self.dtype, device=self.device).clamp(min=1e-20)\n",
    "        else:\n",
    "            self.cluster_positions = df_cluster.to(self.dtype).to(self.device)\n",
    "\n",
    "        self.unique_groups = sorted(self.df_observable.loc[:, index_name].unique())\n",
    "        self.number_of_groups = len(self.unique_groups)\n",
    "        self.number_of_observations = self.df_observable.shape[0]\n",
    "        self.mask_tensor = torch.zeros((self.number_of_observations, self.number_of_groups), device=self.device, dtype=self.dtype)\n",
    "\n",
    "        for name, i in zip(self.unique_groups, np.arange(len(self.unique_groups))):\n",
    "            _masking_list = (list(self.df_observable.query(f'{index_name} == \"{name}\"').index))\n",
    "            self.mask_tensor[_masking_list, i] = 1.\n",
    "            if name == 'Individual_0':\n",
    "                self.masking_1 = _masking_list\n",
    "\n",
    "        # Some sanity check\n",
    "        for name, i in zip(self.unique_groups, np.arange(len(self.unique_groups))):\n",
    "            lis = (self.mask_tensor.unsqueeze(2) * self.tensor_observable.unsqueeze(1))[:, i, :].nonzero()[:, 0].unique().numpy()\n",
    "            a = self.df_observable.iloc[lis].loc[:, index_name]\n",
    "            assert (a == name).all(), f'Failed sanity check for \"{name}\": {a}'\n",
    "\n",
    "        self.power = power\n",
    "\n",
    "        self.feature_names = list(self.df_explainable.columns)\n",
    "        self.num_features = len(self.feature_names)\n",
    "\n",
    "        self.observation_names = list(df_observable.set_index(index_name).columns)\n",
    "\n",
    "        self.penalty = torch.tensor(penalty, device=self.device, dtype=self.dtype)\n",
    "        self.num_samples = num_samples\n",
    "\n",
    "        ###\n",
    "        self.virtual_features = []\n",
    "        self.num_virtual_features = num_virtual_features\n",
    "        for v_i in range(self.num_virtual_features):\n",
    "\n",
    "            epsilon = 1e-4\n",
    "\n",
    "            init_param = torch.zeros([len(self.feature_names)]) + epsilon\n",
    "            a_weights  = torch.zeros([len(self.feature_names)]) + epsilon\n",
    "            ##a_weights[v_i] = 1. - epsilon\n",
    "            #a_weights[2] = 1. - epsilon\n",
    "            c_weights = torch.zeros([len(self.feature_names)]) + epsilon\n",
    "            \n",
    "            Q = 1.\n",
    "            self.add_param(f'antecedens_positions_{v_i}', init_param.logit() / Q , lambda x: (x * Q).sigmoid())\n",
    "            self.add_param(f'consequent_positions_{v_i}', init_param.logit() / Q,  lambda x: (x * Q).sigmoid())\n",
    "            self.add_param(f'antecedens_weights_{v_i}', a_weights.logit() / Q, lambda x: (x * Q).sigmoid())\n",
    "            self.add_param(f'consequent_weights_{v_i}', c_weights.logit() / Q, lambda x: (x * Q).sigmoid())\n",
    "\n",
    "            self.add_param(f'antecedens_threshold_{v_i}', init_param.logit(), lambda x: x.sigmoid())\n",
    "            self.add_param(f'consequent_threshold_{v_i}', init_param.logit(), lambda x: x.sigmoid())\n",
    "\n",
    "            self.virtual_features.append(v_i)\n",
    "        ###\n",
    "        \n",
    "        self._add_sigmoid_param('feature_weights', N=len(self.feature_names) + self.num_virtual_features, value=0.500, noise=0.100)\n",
    "        self._add_sigmoid_param('observation_weights', N=len(self.observation_names), value=0.500, noise=0.250)\n",
    "\n",
    "        self.add_param('cluster_positions', self.cluster_positions.logit(), lambda x: x.sigmoid())\n",
    "        \n",
    "        self.best_loss = None \n",
    "        self.best_feature_weights = None\n",
    "        self.best_observation_weights = None\n",
    "\n",
    "        self.feature_names = np.array(self.feature_names)\n",
    "\n",
    "        self.U = lambda shape: Uniform(0, 1).sample(shape)\n",
    "\n",
    "        if clip_value > 0:\n",
    "            for p in self.parameters.parameters():\n",
    "                print(p)\n",
    "                p.register_hook(lambda grad: torch.clamp(grad, -clip_value, clip_value))\n",
    "\n",
    "    def try_interpretation(self, v_i, thresh):\n",
    "        if type(v_i) == int:\n",
    "            return self.interpretation(v_i, thresh)\n",
    "        else:\n",
    "            return v_i\n",
    "\n",
    "    def _add_param_from_mean_std(self, param_name='', N=1, mean=0.5, std=0.05, noise=0.1):\n",
    "        alpha, beta = mean_std_to_beta_params(mean, std)\n",
    "        noise_1 = torch.rand(N)\n",
    "        noise_2 = torch.rand(N)\n",
    "        feature_alpha_init = alpha * torch.ones(N) * (1.-noise) + noise_1 * noise\n",
    "        feature_beta_init  = beta  * torch.ones(N) * (1.-noise) + noise_2 * noise\n",
    "        self.add_param(f'{param_name}_alpha', torch.log(feature_alpha_init), lambda x: x.exp())\n",
    "        self.add_param(f'{param_name}_beta',  torch.log(feature_beta_init),  lambda x: x.exp())\n",
    "\n",
    "    def _add_sigmoid_param(self, param_name='', N=1, value=None, noise=0.1):\n",
    "        noise_1 = torch.rand(N)\n",
    "        noisy_value = value * torch.ones(N) * (1.-noise) + noise_1 * noise\n",
    "        init_value = torch.logit(noisy_value)\n",
    "        self.add_param(param_name, init_value, lambda x: x.sigmoid())\n",
    "\n",
    "    def get_weights(self) -> dict:\n",
    "        w = self.best_feature_weights\n",
    "        feature_dict = {\n",
    "            feature_name:float(weight) for feature_name, weight in zip(self.feature_names, w)\n",
    "        }\n",
    "        v = self.best_observation_weights\n",
    "        observation_dict = {\n",
    "            feature_name:float(weight) for feature_name, weight in zip(self.observation_names, v)\n",
    "        }\n",
    "        return feature_dict, observation_dict\n",
    "        \n",
    "    def save_if_best_loss(self, loss, feature_weights, observation_weights, cluster_positions):\n",
    "        if self.best_loss is None:\n",
    "            self.best_loss = loss.clone().detach()\n",
    "            self.best_feature_weights = feature_weights.clone().detach()\n",
    "            self.best_observation_weights = 1.00 + 1e-6 - observation_weights.clone().detach()\n",
    "            self.best_cluster_positions = cluster_positions.clone().detach()\n",
    "        elif loss < self.best_loss:\n",
    "            self.best_loss = loss.clone().detach()\n",
    "            self.best_feature_weights = feature_weights.clone().detach()\n",
    "            self.best_observation_weights = 1.00 + 1e-6 - observation_weights.clone().detach()\n",
    "            self.best_cluster_positions = cluster_positions.clone().detach()\n",
    "    \n",
    "    def plot(self, thresh=0.05):\n",
    "\n",
    "        feature_weights = self.constrained('feature_weights').clone().detach().unsqueeze(0).numpy()\n",
    "        observation_weights = self.constrained('observation_weights').clone().detach().unsqueeze(0).numpy()\n",
    "        inv_observation_weights = 1.00 + 1e-6 - observation_weights \n",
    "\n",
    "        f = {self.feature_names[i]:feature_weights[:, i] for i in range(len(self.feature_names))}\n",
    "        for v_i in self.virtual_features:\n",
    "            interpretation = self.interpretation(v_i, thresh=thresh)\n",
    "            feature_weight = feature_weights[:, v_i + len(self.feature_names)]\n",
    "            f[interpretation] = feature_weight\n",
    "\n",
    "        feature_weight_df = pd.DataFrame(f)\n",
    "        observation_weight_df = pd.DataFrame({self.observation_names[i]:inv_observation_weights[:, i] for i in range(len(self.observation_names))})\n",
    "\n",
    "        plt.figure(figsize=(10, 5))\n",
    "        ax1 = sns.barplot(feature_weight_df)\n",
    "        ax1.axes.xaxis.set_tick_params(rotation=90)\n",
    "        ax1.set_title('Feature Weights')\n",
    "        plt.figure(figsize=(10, 5))\n",
    "        ax2 = sns.barplot(observation_weight_df)\n",
    "        ax2.axes.xaxis.set_tick_params(rotation=90)\n",
    "        ax2.set_title('Observation Weights') \n",
    "\n",
    "    def sample_fingerprints(self, inv_observation_weights, cluster_positions):\n",
    "        epsilon = 1e-20\n",
    "        _dist = ((self.tensor_observable.unsqueeze(1) - cluster_positions.unsqueeze(0)).pow(2).clamp(min=epsilon) * inv_observation_weights).sum(2).sqrt()\n",
    "        norm_dist = (_dist / _dist.sum(dim=1).unsqueeze(-1))\n",
    "        masked_norm_dist = (self.mask_tensor.unsqueeze(2) * norm_dist.unsqueeze(1))\n",
    "        accumulated_norm_dist = masked_norm_dist.sum(dim=0)\n",
    "        fingerprint_distances = accumulated_norm_dist / accumulated_norm_dist.sum(dim=1).unsqueeze(-1)\n",
    "        #pow_fingerprints = ((fingerprint_distances.clamp(min=epsilon))**-1).pow(self.power)\n",
    "        #sampled_fingerprints = Dirichlet(pow_fingerprints).rsample([self.num_samples]).mean(dim=0)\n",
    "        #return sampled_fingerprints\n",
    "        return fingerprint_distances\n",
    "    \n",
    "    def __conditional(self, v_i):\n",
    "        antecedens_positions = self.constrained(f'antecedens_positions_{v_i}')\n",
    "        consequent_positions = self.constrained(f'consequent_positions_{v_i}')\n",
    "        antecedens_weights   = self.constrained(f'antecedens_weights_{v_i}')\n",
    "        consequent_weights   = self.constrained(f'consequent_weights_{v_i}')\n",
    "\n",
    "        antecedens = (self.tensor_explainable - antecedens_positions).abs().pow(antecedens_weights).prod(dim=1)\n",
    "        consequent = (self.tensor_explainable - consequent_positions).abs().pow(consequent_weights).prod(dim=1)\n",
    "\n",
    "        return antecedens, consequent\n",
    "    \n",
    "    def conditional(self, v_i):\n",
    "        M = 10.\n",
    "        epsilon = 1e-7\n",
    "\n",
    "        antecedens_positions = self.constrained(f'antecedens_positions_{v_i}')\n",
    "        consequent_positions = self.constrained(f'consequent_positions_{v_i}')\n",
    "        antecedens_weights   = self.constrained(f'antecedens_weights_{v_i}')\n",
    "        consequent_weights   = self.constrained(f'consequent_weights_{v_i}')\n",
    "        antecedens_threshold = self.constrained(f'antecedens_threshold_{v_i}')\n",
    "        consequent_threshold = self.constrained(f'consequent_threshold_{v_i}')\n",
    "\n",
    "        antecedens_dist = (self.tensor_explainable - antecedens_positions).abs()\n",
    "        antecedens_sigmoid = ((antecedens_dist - antecedens_threshold) * M).sigmoid().clamp(min=epsilon, max=1-epsilon)\n",
    "        antecedens = (antecedens_sigmoid * antecedens_dist).pow(antecedens_weights).prod(dim=1)\n",
    "        antecedens = (antecedens_dist).pow(antecedens_weights).prod(dim=1)\n",
    "\n",
    "        antecedens = (antecedens - antecedens.min()) / (antecedens.max() - antecedens.min())\n",
    "\n",
    "        consequent_dist = (self.tensor_explainable - consequent_positions).abs()\n",
    "        consequent_sigmoid = ((consequent_dist - consequent_threshold) * M).sigmoid().clamp(min=epsilon, max=1-epsilon)\n",
    "        consequent = (consequent_sigmoid * consequent_dist).pow(consequent_weights).prod(dim=1)\n",
    "\n",
    "        return antecedens, consequent \n",
    "    \n",
    "    def interpretation(self, v_i, thresh = 0.05):\n",
    "            antecedens_positions = self.constrained(f'antecedens_positions_{v_i}').clone().detach().numpy()\n",
    "            consequent_positions = self.constrained(f'consequent_positions_{v_i}').clone().detach().numpy()\n",
    "            antecedens_weights   =  self.constrained(f'antecedens_weights_{v_i}').clone().detach().numpy()\n",
    "            consequent_weights   = self.constrained(f'consequent_weights_{v_i}').clone().detach().numpy()\n",
    "            antecedens_threshold = self.constrained(f'antecedens_threshold_{v_i}').clone().detach().numpy()\n",
    "            consequent_threshold = self.constrained(f'consequent_threshold_{v_i}').clone().detach().numpy()\n",
    "\n",
    "            antecedens_weights = antecedens_weights/antecedens_weights.sum()\n",
    "            consequent_weights = consequent_weights/consequent_weights.sum()\n",
    "\n",
    "            antecedens_string = self.logic_string_helper(antecedens_weights, antecedens_positions, antecedens_threshold, thresh)\n",
    "            consequent_string = self.logic_string_helper(consequent_weights, consequent_positions, consequent_threshold, thresh)\n",
    "            interpretation_string = f'{antecedens_string} ⇒ {consequent_string}'\n",
    "\n",
    "            return interpretation_string\n",
    "    \n",
    "    def logic_string_helper(self, _weights, positions, thresholds, thresh):\n",
    "        _features_indices = (_weights > thresh).nonzero()[0]\n",
    "        if len(_features_indices) > 0:\n",
    "            _features = self.feature_names[_features_indices]\n",
    "            _position = positions[_features_indices]\n",
    "            _threshold = thresholds[_features_indices]\n",
    "            _string = ''\n",
    "            i = 0\n",
    "            for symbol, pos, thr in zip(_features, _position, _threshold):\n",
    "                if pos < 0.5:\n",
    "                    addendum1 = f''\n",
    "                    addendum2 = f' > {thr:.2f}'\n",
    "                else:\n",
    "                    addendum1 = f'(1-'\n",
    "                    addendum2 = f') < {thr:.2f}'\n",
    "                if i == len(_features) - 1:\n",
    "                    _string += f'[{addendum1}{symbol}{addendum2}]'\n",
    "                else:\n",
    "                    _string += f'[{addendum1}{symbol}{addendum2}] ∧ '\n",
    "                i += 1\n",
    "        else:\n",
    "            _string = 'Falsum'\n",
    "        return _string\n",
    "    \n",
    "    def ___logic_string_helper(self, _weights, positions, threshold, thresh):\n",
    "        _features_indices = (_weights > thresh).nonzero()[0]\n",
    "        if len(_features_indices) > 0:\n",
    "            _features = self.feature_names[_features_indices]\n",
    "            _position = positions[_features_indices]\n",
    "            _string = ''\n",
    "            i = 0\n",
    "            for symbol, pos in zip(_features, _position):\n",
    "                if pos < 0.5:\n",
    "                    addendum = 'Higher('\n",
    "                else:\n",
    "                    addendum = 'Lower('\n",
    "                if i == len(_features) - 1:\n",
    "                    _string += f'{addendum}{symbol})'\n",
    "                else:\n",
    "                    _string += f'{addendum}{symbol}) ∧ '\n",
    "                i += 1\n",
    "        else:\n",
    "            _string = 'Falsum'\n",
    "        return _string\n",
    "\n",
    "    def loss(self, data:torch.Tensor|None=None) -> torch.tensor:\n",
    "\n",
    "        # feature_weights\n",
    "        feature_weights = self.constrained('feature_weights')\n",
    "\n",
    "        # observation_weights\n",
    "        observation_weights = self.constrained('observation_weights')\n",
    "        #inv_observation_weights = 1.00 + 1e-6 - observation_weights\n",
    "\n",
    "        # cluster positions\n",
    "        cluster_positions = self.constrained('cluster_positions').clamp(min = 1e-10, max=1e10)\n",
    "\n",
    "        # fingerprints\n",
    "        sampled_fingerprints = self.sample_fingerprints(observation_weights, cluster_positions)\n",
    "\n",
    "        # Construct the distance matrix for the fingerprints\n",
    "        fingerprint_distances = new_torch_matrix_jensenshannon(sampled_fingerprints)\n",
    "\n",
    "        # Construct the distance matrix for the features\n",
    "        feature_weights = (feature_weights / feature_weights.sum())\n",
    "        feature_weights = feature_weights.repeat(self.tensor_explainable.shape[0],1)\n",
    "        explainables = self.tensor_explainable.clone()\n",
    "        aux_loss = 0.\n",
    "        for v_i in range(self.num_virtual_features):\n",
    "            antecedens, consequent = self.conditional(v_i)\n",
    "            feature_weights[:, self.num_features + v_i] *= antecedens\n",
    "            explainables = torch.hstack((explainables, consequent.unsqueeze(-1)))\n",
    "            \n",
    "        feature_distances = construct_distance_matrix(\n",
    "            A=explainables, feature_weights=feature_weights, normalize=False\n",
    "        )\n",
    "\n",
    "        # Calculate the correlation between the distance matrix and the observable distances\n",
    "        coef = pearson_corrcoef(feature_distances, fingerprint_distances)\n",
    "\n",
    "        #k_penalty = (feature_weights.sum() * self.penalty)\n",
    "\n",
    "        # Loss\n",
    "        loss = -coef #+ k_penalty\n",
    "\n",
    "        self.save_if_best_loss(loss, feature_weights, observation_weights, cluster_positions)\n",
    "\n",
    "        return loss\n"
   ]
  },
  {
   "cell_type": "code",
   "execution_count": 1621,
   "metadata": {},
   "outputs": [],
   "source": [
    "self = model"
   ]
  },
  {
   "cell_type": "code",
   "execution_count": 1622,
   "metadata": {},
   "outputs": [
    {
     "data": {
      "text/plain": [
       "torch.Size([100, 9])"
      ]
     },
     "execution_count": 1622,
     "metadata": {},
     "output_type": "execute_result"
    }
   ],
   "source": [
    "explainables = model.tensor_explainable.clone()\n",
    "explainables.shape"
   ]
  },
  {
   "cell_type": "code",
   "execution_count": 1623,
   "metadata": {},
   "outputs": [],
   "source": [
    "feature_weights = self.constrained('feature_weights')\n",
    "feature_weights = feature_weights.repeat(self.tensor_explainable.shape[0],1)"
   ]
  },
  {
   "cell_type": "code",
   "execution_count": 1624,
   "metadata": {},
   "outputs": [
    {
     "name": "stdout",
     "output_type": "stream",
     "text": [
      "torch.Size([100, 10])\n"
     ]
    }
   ],
   "source": [
    "for v_i in range(model.num_virtual_features):\n",
    "    antecedens, consequent = model.conditional(v_i)\n",
    "    feature_weights[:, self.num_features + v_i] *= antecedens\n",
    "    explainables = torch.hstack((explainables, consequent.unsqueeze(-1)))\n",
    "    print(explainables.shape)"
   ]
  },
  {
   "cell_type": "code",
   "execution_count": 1625,
   "metadata": {},
   "outputs": [
    {
     "data": {
      "text/plain": [
       "tensor([0.9511, 0.9286, 0.9994, 0.9754, 0.9599, 0.9737, 0.9760, 0.9831, 0.9894,\n",
       "        0.9201, 0.9378, 0.9664, 1.0000, 0.9900, 0.9943, 0.9494, 0.9961, 0.9488,\n",
       "        0.9920, 0.9881, 0.9794, 0.9924, 0.9676, 0.9904, 0.9747, 0.9985, 0.9948,\n",
       "        0.9585, 0.9951, 0.9788, 0.9962, 0.9496, 0.9974, 0.9332, 0.9447, 0.9348,\n",
       "        0.9924, 0.9960, 0.9757, 0.9962, 0.9596, 0.9995, 0.9663, 0.0000, 0.9291,\n",
       "        0.9912, 0.9916, 0.9414, 0.9897, 0.9902, 0.9544, 0.9923, 0.9520, 0.9957,\n",
       "        0.9488, 0.9995, 0.9747, 0.9552, 0.9805, 0.9707, 0.9928, 0.9633, 0.9879,\n",
       "        0.9232, 0.9966, 0.9894, 0.9604, 0.9772, 0.9984, 0.9906, 0.9999, 0.9977,\n",
       "        0.9865, 0.9779, 0.9957, 0.9752, 0.9668, 0.9915, 0.9753, 0.9304, 0.9837,\n",
       "        0.9881, 0.9555, 0.9349, 0.9787, 0.9790, 0.9934, 0.9465, 0.9870, 1.0000,\n",
       "        0.9824, 0.9827, 0.9791, 0.9595, 0.9981, 0.9851, 0.9847, 0.9350, 0.9676,\n",
       "        0.9922], dtype=torch.float64, grad_fn=<DivBackward0>)"
      ]
     },
     "execution_count": 1625,
     "metadata": {},
     "output_type": "execute_result"
    }
   ],
   "source": [
    "antecedens"
   ]
  },
  {
   "cell_type": "code",
   "execution_count": 1626,
   "metadata": {},
   "outputs": [
    {
     "data": {
      "text/plain": [
       "tensor([[1.8350e-01, 2.5210e-11, 2.7056e-04, 2.4170e-11, 1.9470e-10, 1.3044e-11,\n",
       "         3.5582e-11, 4.5233e-11, 1.5581e-11, 7.7581e-01],\n",
       "        [1.8350e-01, 2.5210e-11, 2.7056e-04, 2.4170e-11, 1.9470e-10, 1.3044e-11,\n",
       "         3.5582e-11, 4.5233e-11, 1.5581e-11, 7.5729e-01],\n",
       "        [1.8350e-01, 2.5210e-11, 2.7056e-04, 2.4170e-11, 1.9470e-10, 1.3044e-11,\n",
       "         3.5582e-11, 4.5233e-11, 1.5581e-11, 8.1576e-01]], dtype=torch.float64)"
      ]
     },
     "execution_count": 1626,
     "metadata": {},
     "output_type": "execute_result"
    }
   ],
   "source": [
    "model.best_feature_weights[:3, :]"
   ]
  },
  {
   "cell_type": "code",
   "execution_count": 1627,
   "metadata": {},
   "outputs": [],
   "source": [
    "feature_weights = (feature_weights / feature_weights.unsqueeze(-1).sum(dim=1))"
   ]
  },
  {
   "cell_type": "code",
   "execution_count": 1628,
   "metadata": {},
   "outputs": [
    {
     "data": {
      "text/plain": [
       "tensor([[1.9056e-01, 2.5417e-11, 2.6088e-04, 2.4369e-11, 1.9645e-10],\n",
       "        [1.9428e-01, 2.5913e-11, 2.6597e-04, 2.4845e-11, 2.0028e-10],\n",
       "        [1.8303e-01, 2.4413e-11, 2.5057e-04, 2.3406e-11, 1.8869e-10]],\n",
       "       dtype=torch.float64, grad_fn=<SliceBackward0>)"
      ]
     },
     "execution_count": 1628,
     "metadata": {},
     "output_type": "execute_result"
    }
   ],
   "source": [
    "feature_weights[:3, :-5]"
   ]
  },
  {
   "cell_type": "code",
   "execution_count": 1629,
   "metadata": {},
   "outputs": [
    {
     "data": {
      "text/plain": [
       "Ellipsis"
      ]
     },
     "execution_count": 1629,
     "metadata": {},
     "output_type": "execute_result"
    }
   ],
   "source": [
    "..."
   ]
  },
  {
   "cell_type": "code",
   "execution_count": 1630,
   "metadata": {},
   "outputs": [],
   "source": [
    "feature_distances = construct_distance_matrix(\n",
    "    A=explainables, feature_weights=model.best_feature_weights, normalize=False\n",
    ")\n"
   ]
  },
  {
   "cell_type": "code",
   "execution_count": 1631,
   "metadata": {},
   "outputs": [
    {
     "data": {
      "text/plain": [
       "tensor([1., 0.])"
      ]
     },
     "execution_count": 1631,
     "metadata": {},
     "output_type": "execute_result"
    }
   ],
   "source": [
    "observation_weights / observation_weights.sum()"
   ]
  },
  {
   "cell_type": "code",
   "execution_count": 1634,
   "metadata": {},
   "outputs": [],
   "source": [
    "# observation_weights\n",
    "observation_weights = self.constrained('observation_weights')\n",
    "inv_observation_weights = 1.00 + 1e-6 - observation_weights\n",
    "\n",
    "# cluster positions\n",
    "cluster_positions = self.constrained('cluster_positions').clamp(min = 1e-10, max=1e10)\n",
    "\n",
    "# fingerprints\n",
    "sampled_fingerprints = self.sample_fingerprints(observation_weights, cluster_positions)\n",
    "fingerprint_distances = new_torch_matrix_jensenshannon(sampled_fingerprints)"
   ]
  },
  {
   "cell_type": "code",
   "execution_count": 1635,
   "metadata": {},
   "outputs": [],
   "source": [
    "sampled_fingerprints = sampled_fingerprints.clone().detach().numpy()"
   ]
  },
  {
   "cell_type": "code",
   "execution_count": 1636,
   "metadata": {},
   "outputs": [
    {
     "data": {
      "text/plain": [
       "array([ 0.  ,  0.5 , -0.01,  0.02, -0.5 , -0.  ,  0.5 ,  0.5 , -0.5 ,\n",
       "       -0.5 ,  0.02,  0.07, -0.5 ,  0.02, -0.06, -0.5 ,  0.5 ,  0.5 ,\n",
       "        0.04,  0.  ,  0.5 , -0.05, -0.03,  0.  , -0.5 , -0.  , -0.5 ,\n",
       "        0.02,  0.5 ,  0.  , -0.  ,  0.  , -0.5 ,  0.01,  0.  ,  0.01,\n",
       "        0.5 , -0.5 , -0.  , -0.5 ,  0.03,  0.5 ,  0.5 , -0.5 , -0.5 ,\n",
       "       -0.02, -0.04, -0.  , -0.5 ,  0.  ,  0.01,  0.5 , -0.5 , -0.5 ,\n",
       "        0.  ,  0.01, -0.5 ,  0.02, -0.  , -0.5 ,  0.5 , -0.  ,  0.5 ,\n",
       "        0.01, -0.5 , -0.  ,  0.5 ,  0.  ,  0.5 , -0.  ,  0.5 ,  0.04,\n",
       "        0.  , -0.05, -0.  , -0.04,  0.03,  0.  ,  0.  ,  0.5 ,  0.03,\n",
       "       -0.5 , -0.5 ,  0.5 ,  0.5 , -0.  , -0.04,  0.01, -0.  ,  0.5 ,\n",
       "        0.  , -0.  , -0.5 , -0.  , -0.01,  0.02, -0.5 ,  0.05,  0.5 ,\n",
       "        0.5 ])"
      ]
     },
     "execution_count": 1636,
     "metadata": {},
     "output_type": "execute_result"
    }
   ],
   "source": [
    "((df_observable.groupby('Individual').if_zebra_then_age.mean().to_numpy()[0] - df_observable.groupby('Individual').if_zebra_then_age.mean().to_numpy())).round(2) #> 0.1"
   ]
  },
  {
   "cell_type": "code",
   "execution_count": 1658,
   "metadata": {},
   "outputs": [
    {
     "data": {
      "text/plain": [
       "tensor([0.0514, 0.0007, 0.0181, 0.0181, 0.0192, 0.0181, 0.0512, 0.0007, 0.0013,\n",
       "        0.0519, 0.0013, 0.0007, 0.0007, 0.0007], dtype=torch.float64,\n",
       "       grad_fn=<SelectBackward0>)"
      ]
     },
     "execution_count": 1658,
     "metadata": {},
     "output_type": "execute_result"
    }
   ],
   "source": [
    "cluster_positions[:, 0]"
   ]
  },
  {
   "cell_type": "code",
   "execution_count": 1659,
   "metadata": {},
   "outputs": [
    {
     "data": {
      "text/plain": [
       "tensor([0.9612, 0.2097, 0.2521, 0.2450, 0.9943, 0.0105, 0.9689, 0.2111, 0.9880,\n",
       "        0.9605, 0.9950, 0.2526, 0.2089, 0.2135], dtype=torch.float64,\n",
       "       grad_fn=<SelectBackward0>)"
      ]
     },
     "execution_count": 1659,
     "metadata": {},
     "output_type": "execute_result"
    }
   ],
   "source": [
    "cluster_positions[:, 1]"
   ]
  },
  {
   "cell_type": "code",
   "execution_count": null,
   "metadata": {},
   "outputs": [
    {
     "data": {
      "text/plain": [
       "array([0.06629946, 0.07379785, 0.07122275, 0.07122986, 0.07106893,\n",
       "       0.07122711, 0.06633995, 0.07379785, 0.07370029, 0.06622668,\n",
       "       0.07370043, 0.07379363, 0.07379778, 0.07379744])"
      ]
     },
     "execution_count": 1647,
     "metadata": {},
     "output_type": "execute_result"
    }
   ],
   "source": [
    "sampled_fingerprints[0, :] # 0.5"
   ]
  },
  {
   "cell_type": "code",
   "execution_count": null,
   "metadata": {},
   "outputs": [
    {
     "data": {
      "text/plain": [
       "array([0.22122631, 0.00283974, 0.07677577, 0.07656756, 0.0813082 ,\n",
       "       0.07666505, 0.22003888, 0.00283797, 0.00492314, 0.22336164,\n",
       "       0.00493156, 0.0028423 , 0.00284183, 0.00284005])"
      ]
     },
     "execution_count": 1648,
     "metadata": {},
     "output_type": "execute_result"
    }
   ],
   "source": [
    "sampled_fingerprints[1, :] # 0"
   ]
  },
  {
   "cell_type": "code",
   "execution_count": null,
   "metadata": {},
   "outputs": [
    {
     "data": {
      "text/plain": [
       "array([0.06890642, 0.07259363, 0.07132736, 0.07133086, 0.07125172,\n",
       "       0.0713295 , 0.06892632, 0.07259362, 0.07254565, 0.06887063,\n",
       "       0.07254572, 0.07259155, 0.07259359, 0.07259342])"
      ]
     },
     "execution_count": 1649,
     "metadata": {},
     "output_type": "execute_result"
    }
   ],
   "source": [
    "sampled_fingerprints[4, :] # 1"
   ]
  },
  {
   "cell_type": "code",
   "execution_count": 1652,
   "metadata": {},
   "outputs": [
    {
     "data": {
      "text/plain": [
       "np.float64(0.4528988508539224)"
      ]
     },
     "execution_count": 1652,
     "metadata": {},
     "output_type": "execute_result"
    }
   ],
   "source": [
    "jensenshannon(sampled_fingerprints[0, :], sampled_fingerprints[1, :])"
   ]
  },
  {
   "cell_type": "code",
   "execution_count": 1653,
   "metadata": {},
   "outputs": [
    {
     "data": {
      "text/plain": [
       "np.float64(0.007410359379483984)"
      ]
     },
     "execution_count": 1653,
     "metadata": {},
     "output_type": "execute_result"
    }
   ],
   "source": [
    "jensenshannon(sampled_fingerprints[0, :], sampled_fingerprints[4, :])"
   ]
  },
  {
   "cell_type": "code",
   "execution_count": 1378,
   "metadata": {},
   "outputs": [
    {
     "data": {
      "text/plain": [
       "array([0.   , 0.789, 0.105, 0.099, 0.106, 0.012, 0.777, 0.788, 0.109,\n",
       "       0.107, 0.121, 0.135, 0.108, 0.114, 0.05 , 0.106, 0.796, 0.778,\n",
       "       0.116, 0.098, 0.778, 0.068, 0.086, 0.056, 0.109, 0.013, 0.105,\n",
       "       0.093, 0.781, 0.08 , 0.015, 0.005, 0.106, 0.082, 0.032, 0.097,\n",
       "       0.784, 0.107, 0.025, 0.112, 0.121, 0.786, 0.782, 0.107, 0.11 ,\n",
       "       0.075, 0.07 , 0.074, 0.11 , 0.008, 0.088, 0.773, 0.107, 0.107,\n",
       "       0.011, 0.081, 0.107, 0.097, 0.069, 0.109, 0.783, 0.03 , 0.782,\n",
       "       0.091, 0.108, 0.011, 0.78 , 0.02 , 0.787, 0.011, 0.787, 0.127,\n",
       "       0.005, 0.059, 0.027, 0.081, 0.124, 0.011, 0.097, 0.782, 0.114,\n",
       "       0.108, 0.106, 0.783, 0.787, 0.011, 0.062, 0.12 , 0.014, 0.783,\n",
       "       0.015, 0.036, 0.107, 0.019, 0.086, 0.092, 0.109, 0.12 , 0.777,\n",
       "       0.784])"
      ]
     },
     "execution_count": 1378,
     "metadata": {},
     "output_type": "execute_result"
    }
   ],
   "source": [
    "(fingerprint_distances[0].clone().detach().numpy() * 1.).round(3) #> 0.05"
   ]
  },
  {
   "cell_type": "code",
   "execution_count": 1461,
   "metadata": {},
   "outputs": [
    {
     "data": {
      "text/plain": [
       "tensor([0.1573, 0.0023, 0.1012, 0.1322, 0.1328, 0.0755, 0.0998, 0.0037, 0.0935,\n",
       "        0.0954, 0.0998, 0.0023, 0.0019, 0.0023], dtype=torch.float64,\n",
       "       grad_fn=<SelectBackward0>)"
      ]
     },
     "execution_count": 1461,
     "metadata": {},
     "output_type": "execute_result"
    }
   ],
   "source": [
    "epsilon = 1e-20\n",
    "_dist = ((self.tensor_observable.unsqueeze(1) - cluster_positions.unsqueeze(0)).pow(2).clamp(min=epsilon) * observation_weights).sum(2).sqrt()\n",
    "norm_dist = (_dist / _dist.sum(dim=1).unsqueeze(-1))\n",
    "masked_norm_dist = (self.mask_tensor.unsqueeze(2) * norm_dist.unsqueeze(1))\n",
    "accumulated_norm_dist = masked_norm_dist.sum(dim=0)\n",
    "fingerprint_distances = accumulated_norm_dist / accumulated_norm_dist.sum(dim=1).unsqueeze(-1)\n",
    "pow_fingerprints = ((fingerprint_distances.clamp(min=epsilon))**-1).pow(self.power)\n",
    "sampled_fingerprints = Dirichlet(pow_fingerprints).rsample([self.num_samples]).mean(dim=0)\n",
    "sampled_fingerprints[0]"
   ]
  },
  {
   "cell_type": "code",
   "execution_count": 1687,
   "metadata": {},
   "outputs": [
    {
     "data": {
      "text/plain": [
       "tensor([[0.2001, 0.2480, 0.2310, 0.2310, 0.2300, 0.2310, 0.2003, 0.2480, 0.2474,\n",
       "         0.1996, 0.2474, 0.2480, 0.2480, 0.2480]], dtype=torch.float64,\n",
       "       grad_fn=<ClampBackward1>)"
      ]
     },
     "execution_count": 1687,
     "metadata": {},
     "output_type": "execute_result"
    }
   ],
   "source": [
    "(self.tensor_observable.unsqueeze(1)[0, :, 0] - cluster_positions.unsqueeze(0)[:,:, 0]).pow(2).clamp(min=epsilon)#[0]"
   ]
  },
  {
   "cell_type": "code",
   "execution_count": 1700,
   "metadata": {},
   "outputs": [
    {
     "data": {
      "text/plain": [
       "tensor([[0.2001, 0.2480, 0.2310, 0.2310, 0.2300, 0.2310, 0.2003, 0.2480, 0.2474,\n",
       "         0.1996, 0.2474, 0.2480, 0.2480, 0.2480]], dtype=torch.float64,\n",
       "       grad_fn=<PowBackward0>)"
      ]
     },
     "execution_count": 1700,
     "metadata": {},
     "output_type": "execute_result"
    }
   ],
   "source": [
    "(self.tensor_observable.unsqueeze(1)[0, :, 0] - cluster_positions.unsqueeze(0)[:,:, 0]).pow(2)"
   ]
  },
  {
   "cell_type": "code",
   "execution_count": 1699,
   "metadata": {},
   "outputs": [
    {
     "data": {
      "text/plain": [
       "tensor([[2.5015e-03, 5.1851e-07, 2.7900e-04, 2.7740e-04, 3.1486e-04, 2.7802e-04,\n",
       "         2.4742e-03, 5.1843e-07, 3.5814e-09, 2.5510e-03, 3.6985e-09, 4.7822e-07,\n",
       "         5.1780e-07, 5.1445e-07]], dtype=torch.float64, grad_fn=<PowBackward0>)"
      ]
     },
     "execution_count": 1699,
     "metadata": {},
     "output_type": "execute_result"
    }
   ],
   "source": [
    "(self.tensor_observable.unsqueeze(1)[110, :, 0] - cluster_positions.unsqueeze(0)[:,:, 0]).pow(2)"
   ]
  },
  {
   "cell_type": "code",
   "execution_count": 1701,
   "metadata": {},
   "outputs": [
    {
     "data": {
      "text/plain": [
       "tensor([[0.8998, 0.9986, 0.9641, 0.9642, 0.9621, 0.9642, 0.9003, 0.9986, 0.9973,\n",
       "         0.8989, 0.9973, 0.9986, 0.9986, 0.9986]], dtype=torch.float64,\n",
       "       grad_fn=<PowBackward0>)"
      ]
     },
     "execution_count": 1701,
     "metadata": {},
     "output_type": "execute_result"
    }
   ],
   "source": [
    "(self.tensor_observable.unsqueeze(1)[405, :, 0] - cluster_positions.unsqueeze(0)[:,:, 0]).pow(2)"
   ]
  },
  {
   "cell_type": "code",
   "execution_count": 1678,
   "metadata": {},
   "outputs": [
    {
     "data": {
      "text/plain": [
       "tensor([0.4987], dtype=torch.float64)"
      ]
     },
     "execution_count": 1678,
     "metadata": {},
     "output_type": "execute_result"
    }
   ],
   "source": [
    "self.tensor_observable.unsqueeze(1)[0, :, 0]"
   ]
  },
  {
   "cell_type": "code",
   "execution_count": 1667,
   "metadata": {},
   "outputs": [
    {
     "data": {
      "text/plain": [
       "tensor([9.7108e-01, 7.7542e-07], dtype=torch.float64,\n",
       "       grad_fn=<SigmoidBackward0>)"
      ]
     },
     "execution_count": 1667,
     "metadata": {},
     "output_type": "execute_result"
    }
   ],
   "source": [
    "observation_weights"
   ]
  },
  {
   "cell_type": "code",
   "execution_count": 1671,
   "metadata": {},
   "outputs": [
    {
     "data": {
      "text/plain": [
       "tensor([[0.0514, 0.9612]], dtype=torch.float64, grad_fn=<SelectBackward0>)"
      ]
     },
     "execution_count": 1671,
     "metadata": {},
     "output_type": "execute_result"
    }
   ],
   "source": [
    "cluster_positions.unsqueeze(0)[:, 0]"
   ]
  },
  {
   "cell_type": "code",
   "execution_count": 1664,
   "metadata": {},
   "outputs": [
    {
     "data": {
      "text/plain": [
       "tensor([[0.4987, 0.6806]], dtype=torch.float64)"
      ]
     },
     "execution_count": 1664,
     "metadata": {},
     "output_type": "execute_result"
    }
   ],
   "source": [
    "self.tensor_observable.unsqueeze(1)[0]"
   ]
  },
  {
   "cell_type": "code",
   "execution_count": 1734,
   "metadata": {},
   "outputs": [
    {
     "data": {
      "text/plain": [
       "tensor([0.0514, 0.0007, 0.0181, 0.0181, 0.0192, 0.0181, 0.0512, 0.0007, 0.0013,\n",
       "        0.0519, 0.0013, 0.0007, 0.0007, 0.0007], dtype=torch.float64,\n",
       "       grad_fn=<SelectBackward0>)"
      ]
     },
     "execution_count": 1734,
     "metadata": {},
     "output_type": "execute_result"
    }
   ],
   "source": [
    "cluster_positions.unsqueeze(0)[0, :, 0]"
   ]
  },
  {
   "cell_type": "code",
   "execution_count": 1450,
   "metadata": {},
   "outputs": [
    {
     "data": {
      "text/plain": [
       "tensor([0.0710, 0.0129, 0.0631, 0.0659, 0.0623, 0.0441, 0.0594, 0.4150, 0.0552,\n",
       "        0.0589, 0.0549, 0.0129, 0.0115, 0.0129], dtype=torch.float64,\n",
       "       grad_fn=<SelectBackward0>)"
      ]
     },
     "execution_count": 1450,
     "metadata": {},
     "output_type": "execute_result"
    }
   ],
   "source": [
    "sampled_fingerprints[1]"
   ]
  },
  {
   "cell_type": "code",
   "execution_count": 1380,
   "metadata": {},
   "outputs": [
    {
     "data": {
      "text/plain": [
       "tensor([0.9233, 0.3743], dtype=torch.float64, grad_fn=<SigmoidBackward0>)"
      ]
     },
     "execution_count": 1380,
     "metadata": {},
     "output_type": "execute_result"
    }
   ],
   "source": [
    "observation_weights"
   ]
  },
  {
   "cell_type": "code",
   "execution_count": 1702,
   "metadata": {},
   "outputs": [
    {
     "data": {
      "text/plain": [
       "tensor([[1.9429e-01, 6.1050e-08],\n",
       "        [2.4087e-01, 1.7196e-07],\n",
       "        [2.2431e-01, 1.4238e-07],\n",
       "        [2.2435e-01, 1.4714e-07],\n",
       "        [2.2334e-01, 7.6300e-08],\n",
       "        [2.2434e-01, 3.4819e-07],\n",
       "        [1.9453e-01, 6.4464e-08],\n",
       "        [2.4087e-01, 1.7094e-07],\n",
       "        [2.4023e-01, 7.3259e-08],\n",
       "        [1.9386e-01, 6.0742e-08],\n",
       "        [2.4023e-01, 7.6666e-08],\n",
       "        [2.4084e-01, 1.4204e-07],\n",
       "        [2.4087e-01, 1.7258e-07],\n",
       "        [2.4086e-01, 1.6921e-07]], dtype=torch.float64, grad_fn=<MulBackward0>)"
      ]
     },
     "execution_count": 1702,
     "metadata": {},
     "output_type": "execute_result"
    }
   ],
   "source": [
    "(self.tensor_observable.unsqueeze(1) - cluster_positions.unsqueeze(0)).pow(2).clamp(min=epsilon)[0] * observation_weights"
   ]
  },
  {
   "cell_type": "code",
   "execution_count": 1739,
   "metadata": {},
   "outputs": [
    {
     "data": {
      "text/plain": [
       "tensor([0.4473, 0.4980, 0.4806, 0.4807, 0.4796, 0.4806, 0.4476, 0.4980, 0.4974,\n",
       "        0.4468, 0.4974, 0.4980, 0.4980, 0.4980], dtype=torch.float64,\n",
       "       grad_fn=<SelectBackward0>)"
      ]
     },
     "execution_count": 1739,
     "metadata": {},
     "output_type": "execute_result"
    }
   ],
   "source": [
    "_d0 = ((self.tensor_observable.unsqueeze(1) - cluster_positions.unsqueeze(0)).pow(2).clamp(min=epsilon) * observation_weights).sum(2).sqrt()[0]\n",
    "_d0"
   ]
  },
  {
   "cell_type": "code",
   "execution_count": 1740,
   "metadata": {},
   "outputs": [
    {
     "data": {
      "text/plain": [
       "tensor([5.0015e-02, 7.2008e-04, 1.6703e-02, 1.6655e-02, 1.7744e-02, 1.6674e-02,\n",
       "        4.9741e-02, 7.2002e-04, 5.9845e-05, 5.0507e-02, 6.0815e-05, 6.9154e-04,\n",
       "        7.1958e-04, 7.1725e-04], dtype=torch.float64,\n",
       "       grad_fn=<SelectBackward0>)"
      ]
     },
     "execution_count": 1740,
     "metadata": {},
     "output_type": "execute_result"
    }
   ],
   "source": [
    "_d1 = ((self.tensor_observable.unsqueeze(1) - cluster_positions.unsqueeze(0)).pow(2).clamp(min=epsilon) * observation_weights).sum(2).sqrt()[110]\n",
    "_d1"
   ]
  },
  {
   "cell_type": "code",
   "execution_count": 1713,
   "metadata": {},
   "outputs": [
    {
     "data": {
      "text/plain": [
       "tensor([0.9598, 0.9851, 0.9765, 0.9765, 0.9760, 0.9765, 0.9599, 0.9851, 0.9848,\n",
       "        0.9595, 0.9848, 0.9851, 0.9851, 0.9851], dtype=torch.float64,\n",
       "       grad_fn=<SelectBackward0>)"
      ]
     },
     "execution_count": 1713,
     "metadata": {},
     "output_type": "execute_result"
    }
   ],
   "source": [
    "_d4 = ((self.tensor_observable.unsqueeze(1) - cluster_positions.unsqueeze(0)).pow(1).clamp(min=epsilon) * observation_weights).sum(2).sqrt()[405]\n",
    "_d4"
   ]
  },
  {
   "cell_type": "code",
   "execution_count": 1714,
   "metadata": {},
   "outputs": [],
   "source": [
    "observation_weights = torch.tensor([1., 0.])"
   ]
  },
  {
   "cell_type": "code",
   "execution_count": 1715,
   "metadata": {},
   "outputs": [],
   "source": [
    "epsilon = 1e-20\n",
    "_dist = ((self.tensor_observable.unsqueeze(1) - cluster_positions.unsqueeze(0)).pow(2).clamp(min=epsilon) * observation_weights).sum(2).sqrt()\n",
    "norm_dist = (_dist / _dist.sum(dim=1).unsqueeze(-1))\n",
    "masked_norm_dist = (self.mask_tensor.unsqueeze(2) * norm_dist.unsqueeze(1))\n",
    "accumulated_norm_dist = masked_norm_dist.sum(dim=0)\n",
    "fingerprint_distances = accumulated_norm_dist / accumulated_norm_dist.sum(dim=1).unsqueeze(-1)\n",
    "pow_fingerprints = ((fingerprint_distances.clamp(min=epsilon))**-1).pow(self.power)\n",
    "sampled_fingerprints = Dirichlet(pow_fingerprints).rsample([self.num_samples]).mean(dim=0).clone().detach().numpy()"
   ]
  },
  {
   "cell_type": "code",
   "execution_count": 1741,
   "metadata": {},
   "outputs": [
    {
     "data": {
      "text/plain": [
       "tensor([[5.1425e-02, 9.6120e-01],\n",
       "        [6.8949e-04, 2.0970e-01],\n",
       "        [1.8113e-02, 2.5210e-01],\n",
       "        [1.8065e-02, 2.4501e-01],\n",
       "        [1.9154e-02, 9.9430e-01],\n",
       "        [1.8084e-02, 1.0518e-02],\n",
       "        [5.1151e-02, 9.6894e-01],\n",
       "        [6.8955e-04, 2.1109e-01],\n",
       "        [1.3497e-03, 9.8798e-01],\n",
       "        [5.1917e-02, 9.6049e-01],\n",
       "        [1.3488e-03, 9.9505e-01],\n",
       "        [7.1803e-04, 2.5261e-01],\n",
       "        [6.8998e-04, 2.0885e-01],\n",
       "        [6.9231e-04, 2.1347e-01]], dtype=torch.float64,\n",
       "       grad_fn=<ClampBackward1>)"
      ]
     },
     "execution_count": 1741,
     "metadata": {},
     "output_type": "execute_result"
    }
   ],
   "source": [
    "cluster_positions"
   ]
  },
  {
   "cell_type": "code",
   "execution_count": 1742,
   "metadata": {},
   "outputs": [
    {
     "data": {
      "text/plain": [
       "tensor([   0,  110,  214,  320,  405,  508,  603,  702,  793,  888, 1001, 1100,\n",
       "        1198, 1301, 1404, 1513, 1601, 1700, 1807, 1908, 2007, 2103, 2198, 2300,\n",
       "        2417, 2512, 2604, 2688, 2776, 2880, 2974, 3075, 3171, 3281, 3392, 3504,\n",
       "        3634, 3733, 3844, 3943, 4040, 4136, 4236, 4321, 4427, 4522, 4630, 4719,\n",
       "        4819, 4924, 5038, 5144, 5241, 5336, 5437, 5514, 5606, 5715, 5808, 5920,\n",
       "        6025, 6117, 6209, 6316, 6418, 6543, 6655, 6761, 6860, 6934, 7045, 7124,\n",
       "        7214, 7313, 7427, 7522, 7602, 7707, 7794, 7890, 7999, 8102, 8215, 8313,\n",
       "        8410, 8497, 8619, 8712, 8809, 8912, 9023, 9123, 9224, 9318, 9407, 9491,\n",
       "        9597, 9704, 9793, 9902])"
      ]
     },
     "execution_count": 1742,
     "metadata": {},
     "output_type": "execute_result"
    }
   ],
   "source": [
    "self.mask_tensor.argmax(dim=0)"
   ]
  },
  {
   "cell_type": "code",
   "execution_count": 1743,
   "metadata": {},
   "outputs": [
    {
     "data": {
      "text/plain": [
       "tensor([0., 1., 0., 0., 0., 0., 0., 0., 0., 0., 0., 0., 0., 0., 0., 0., 0., 0.,\n",
       "        0., 0., 0., 0., 0., 0., 0., 0., 0., 0., 0., 0., 0., 0., 0., 0., 0., 0.,\n",
       "        0., 0., 0., 0., 0., 0., 0., 0., 0., 0., 0., 0., 0., 0., 0., 0., 0., 0.,\n",
       "        0., 0., 0., 0., 0., 0., 0., 0., 0., 0., 0., 0., 0., 0., 0., 0., 0., 0.,\n",
       "        0., 0., 0., 0., 0., 0., 0., 0., 0., 0., 0., 0., 0., 0., 0., 0., 0., 0.,\n",
       "        0., 0., 0., 0., 0., 0., 0., 0., 0., 0.], dtype=torch.float64)"
      ]
     },
     "execution_count": 1743,
     "metadata": {},
     "output_type": "execute_result"
    }
   ],
   "source": [
    "self.mask_tensor[110, :]"
   ]
  },
  {
   "cell_type": "code",
   "execution_count": 1747,
   "metadata": {},
   "outputs": [
    {
     "data": {
      "text/plain": [
       "tensor([0.0663, 0.0738, 0.0712, 0.0712, 0.0711, 0.0712, 0.0663, 0.0738, 0.0737,\n",
       "        0.0662, 0.0737, 0.0738, 0.0738, 0.0738], dtype=torch.float64,\n",
       "       grad_fn=<SelectBackward0>)"
      ]
     },
     "execution_count": 1747,
     "metadata": {},
     "output_type": "execute_result"
    }
   ],
   "source": [
    "norm_dist[0]  # 0.4987"
   ]
  },
  {
   "cell_type": "code",
   "execution_count": 1748,
   "metadata": {},
   "outputs": [
    {
     "data": {
      "text/plain": [
       "tensor([0.2256, 0.0032, 0.0753, 0.0751, 0.0800, 0.0752, 0.2243, 0.0032, 0.0003,\n",
       "        0.2278, 0.0003, 0.0031, 0.0032, 0.0032], dtype=torch.float64,\n",
       "       grad_fn=<SelectBackward0>)"
      ]
     },
     "execution_count": 1748,
     "metadata": {},
     "output_type": "execute_result"
    }
   ],
   "source": [
    "norm_dist[110] # 0.0014"
   ]
  },
  {
   "cell_type": "code",
   "execution_count": 1749,
   "metadata": {},
   "outputs": [
    {
     "data": {
      "text/plain": [
       "tensor([0.0689, 0.0726, 0.0713, 0.0713, 0.0713, 0.0713, 0.0689, 0.0726, 0.0725,\n",
       "        0.0689, 0.0725, 0.0726, 0.0726, 0.0726], dtype=torch.float64,\n",
       "       grad_fn=<SelectBackward0>)"
      ]
     },
     "execution_count": 1749,
     "metadata": {},
     "output_type": "execute_result"
    }
   ],
   "source": [
    "norm_dist[405] # 1.000"
   ]
  },
  {
   "cell_type": "code",
   "execution_count": 1753,
   "metadata": {},
   "outputs": [
    {
     "data": {
      "text/plain": [
       "tensor([0.4473, 0.4980, 0.4806, 0.4807, 0.4796, 0.4806, 0.4476, 0.4980, 0.4974,\n",
       "        0.4468, 0.4974, 0.4980, 0.4980, 0.4980], dtype=torch.float64,\n",
       "       grad_fn=<SelectBackward0>)"
      ]
     },
     "execution_count": 1753,
     "metadata": {},
     "output_type": "execute_result"
    }
   ],
   "source": [
    "_dist[0]"
   ]
  },
  {
   "cell_type": "code",
   "execution_count": 1755,
   "metadata": {},
   "outputs": [
    {
     "data": {
      "text/plain": [
       "tensor([5.0015e-02, 7.2008e-04, 1.6703e-02, 1.6655e-02, 1.7744e-02, 1.6674e-02,\n",
       "        4.9741e-02, 7.2002e-04, 5.9845e-05, 5.0507e-02, 6.0815e-05, 6.9154e-04,\n",
       "        7.1958e-04, 7.1725e-04], dtype=torch.float64,\n",
       "       grad_fn=<SelectBackward0>)"
      ]
     },
     "execution_count": 1755,
     "metadata": {},
     "output_type": "execute_result"
    }
   ],
   "source": [
    "_dist[110]"
   ]
  },
  {
   "cell_type": "code",
   "execution_count": 1765,
   "metadata": {},
   "outputs": [
    {
     "data": {
      "text/plain": [
       "<Axes: >"
      ]
     },
     "execution_count": 1765,
     "metadata": {},
     "output_type": "execute_result"
    },
    {
     "data": {
      "image/png": "[encoded data removed]",
      "text/plain": [
       "<Figure size 640x480 with 1 Axes>"
      ]
     },
     "metadata": {},
     "output_type": "display_data"
    }
   ],
   "source": [
    "sns.barplot(_dist[0].clone().detach().numpy())\n",
    "sns.barplot(_dist[405].clone().detach().numpy(), alpha = 0.1)"
   ]
  },
  {
   "cell_type": "code",
   "execution_count": 1767,
   "metadata": {},
   "outputs": [
    {
     "data": {
      "text/plain": [
       "<Axes: >"
      ]
     },
     "execution_count": 1767,
     "metadata": {},
     "output_type": "execute_result"
    },
    {
     "data": {
      "image/png": "[encoded data removed]",
      "text/plain": [
       "<Figure size 640x480 with 1 Axes>"
      ]
     },
     "metadata": {},
     "output_type": "display_data"
    }
   ],
   "source": [
    "sns.barplot(norm_dist[0].clone().detach().numpy())\n",
    "sns.barplot(norm_dist[405].clone().detach().numpy(), alpha = 0.5)"
   ]
  },
  {
   "cell_type": "code",
   "execution_count": 1752,
   "metadata": {},
   "outputs": [
    {
     "data": {
      "text/plain": [
       "tensor([0.9486, 0.9993, 0.9819, 0.9819, 0.9808, 0.9819, 0.9488, 0.9993, 0.9987,\n",
       "        0.9481, 0.9987, 0.9993, 0.9993, 0.9993], dtype=torch.float64,\n",
       "       grad_fn=<SelectBackward0>)"
      ]
     },
     "execution_count": 1752,
     "metadata": {},
     "output_type": "execute_result"
    }
   ],
   "source": [
    "_dist[405]"
   ]
  },
  {
   "cell_type": "code",
   "execution_count": 1726,
   "metadata": {},
   "outputs": [
    {
     "data": {
      "text/plain": [
       "np.float64(0.4678293216996616)"
      ]
     },
     "execution_count": 1726,
     "metadata": {},
     "output_type": "execute_result"
    }
   ],
   "source": [
    "jensenshannon(norm_dist[0].clone().detach().numpy(), norm_dist[110].clone().detach().numpy())"
   ]
  },
  {
   "cell_type": "code",
   "execution_count": 1727,
   "metadata": {},
   "outputs": [
    {
     "data": {
      "text/plain": [
       "np.float64(0.007452810725911993)"
      ]
     },
     "execution_count": 1727,
     "metadata": {},
     "output_type": "execute_result"
    }
   ],
   "source": [
    "jensenshannon(norm_dist[0].clone().detach().numpy(), norm_dist[405].clone().detach().numpy())"
   ]
  },
  {
   "cell_type": "code",
   "execution_count": 1728,
   "metadata": {},
   "outputs": [
    {
     "data": {
      "text/plain": [
       "tensor([7.2929, 8.1178, 7.8345, 7.8353, 7.8176, 7.8350, 7.2974, 8.1178, 8.1070,\n",
       "        7.2849, 8.1070, 8.1173, 8.1178, 8.1177], dtype=torch.float64,\n",
       "       grad_fn=<SelectBackward0>)"
      ]
     },
     "execution_count": 1728,
     "metadata": {},
     "output_type": "execute_result"
    }
   ],
   "source": [
    "accumulated_norm_dist[0]"
   ]
  },
  {
   "cell_type": "code",
   "execution_count": 1606,
   "metadata": {},
   "outputs": [
    {
     "data": {
      "text/plain": [
       "tensor([1.1124e+01, 7.1281e-03, 1.1775e+01, 1.1281e+01, 1.1359e+01, 1.1562e+01,\n",
       "        1.1772e+01, 7.1284e-03, 1.1814e+01, 1.1837e+01, 1.1441e+01, 7.1283e-03,\n",
       "        7.1280e-03, 7.1279e-03], dtype=torch.float64,\n",
       "       grad_fn=<SelectBackward0>)"
      ]
     },
     "execution_count": 1606,
     "metadata": {},
     "output_type": "execute_result"
    }
   ],
   "source": [
    "accumulated_norm_dist[1]"
   ]
  },
  {
   "cell_type": "code",
   "execution_count": 1607,
   "metadata": {},
   "outputs": [
    {
     "data": {
      "text/plain": [
       "tensor([ 4.7231, 12.6468,  4.2594,  4.6113,  4.5554,  4.4113,  4.2613, 12.6468,\n",
       "         4.2314,  4.2153,  4.4975, 12.6468, 12.6468, 12.6468],\n",
       "       dtype=torch.float64, grad_fn=<SelectBackward0>)"
      ]
     },
     "execution_count": 1607,
     "metadata": {},
     "output_type": "execute_result"
    }
   ],
   "source": [
    "accumulated_norm_dist[4]"
   ]
  },
  {
   "cell_type": "code",
   "execution_count": 1610,
   "metadata": {},
   "outputs": [
    {
     "data": {
      "text/plain": [
       "(np.float64(0.5522880328130528), np.float64(0.03843748815552712))"
      ]
     },
     "execution_count": 1610,
     "metadata": {},
     "output_type": "execute_result"
    }
   ],
   "source": [
    "jensenshannon(accumulated_norm_dist[0].clone().detach().numpy(), accumulated_norm_dist[1].clone().detach().numpy()), jensenshannon(accumulated_norm_dist[0].clone().detach().numpy(), accumulated_norm_dist[4].clone().detach().numpy())"
   ]
  },
  {
   "cell_type": "code",
   "execution_count": 1611,
   "metadata": {},
   "outputs": [
    {
     "data": {
      "text/plain": [
       "(np.float64(0.5522880328130528), np.float64(0.03843748815552698))"
      ]
     },
     "execution_count": 1611,
     "metadata": {},
     "output_type": "execute_result"
    }
   ],
   "source": [
    "jensenshannon(fingerprint_distances[0].clone().detach().numpy(), fingerprint_distances[1].clone().detach().numpy()), jensenshannon(fingerprint_distances[0].clone().detach().numpy(), fingerprint_distances[4].clone().detach().numpy())"
   ]
  },
  {
   "cell_type": "code",
   "execution_count": 1573,
   "metadata": {},
   "outputs": [
    {
     "data": {
      "text/plain": [
       "tensor([0.0328, 0.1298, 0.0423, 0.0351, 0.0362, 0.0392, 0.0422, 0.1298, 0.0429,\n",
       "        0.0432, 0.0374, 0.1298, 0.1298, 0.1298], dtype=torch.float64,\n",
       "       grad_fn=<SelectBackward0>)"
      ]
     },
     "execution_count": 1573,
     "metadata": {},
     "output_type": "execute_result"
    }
   ],
   "source": [
    "fingerprint_distances[0]"
   ]
  },
  {
   "cell_type": "code",
   "execution_count": 1576,
   "metadata": {},
   "outputs": [
    {
     "data": {
      "text/plain": [
       "tensor([1.0696e-01, 6.8507e-05, 1.1322e-01, 1.0847e-01, 1.0922e-01, 1.1117e-01,\n",
       "        1.1320e-01, 6.8509e-05, 1.1360e-01, 1.1382e-01, 1.1001e-01, 6.8509e-05,\n",
       "        6.8506e-05, 6.8504e-05], dtype=torch.float64,\n",
       "       grad_fn=<SelectBackward0>)"
      ]
     },
     "execution_count": 1576,
     "metadata": {},
     "output_type": "execute_result"
    }
   ],
   "source": [
    "fingerprint_distances[1]"
   ]
  },
  {
   "cell_type": "code",
   "execution_count": 1583,
   "metadata": {},
   "outputs": [
    {
     "data": {
      "text/plain": [
       "tensor([0.0459, 0.1228, 0.0414, 0.0448, 0.0442, 0.0428, 0.0414, 0.1228, 0.0411,\n",
       "        0.0409, 0.0437, 0.1228, 0.1228, 0.1228], dtype=torch.float64,\n",
       "       grad_fn=<SelectBackward0>)"
      ]
     },
     "execution_count": 1583,
     "metadata": {},
     "output_type": "execute_result"
    }
   ],
   "source": [
    "fingerprint_distances[4]"
   ]
  },
  {
   "cell_type": "code",
   "execution_count": 1612,
   "metadata": {},
   "outputs": [
    {
     "data": {
      "text/plain": [
       "np.float64(0.8244916054963602)"
      ]
     },
     "execution_count": 1612,
     "metadata": {},
     "output_type": "execute_result"
    }
   ],
   "source": [
    "jensenshannon(sampled_fingerprints[0, :], sampled_fingerprints[1, :])"
   ]
  },
  {
   "cell_type": "code",
   "execution_count": 1613,
   "metadata": {},
   "outputs": [
    {
     "data": {
      "text/plain": [
       "np.float64(0.19067550050107904)"
      ]
     },
     "execution_count": 1613,
     "metadata": {},
     "output_type": "execute_result"
    }
   ],
   "source": [
    "jensenshannon(sampled_fingerprints[0, :], sampled_fingerprints[4, :])"
   ]
  },
  {
   "cell_type": "code",
   "execution_count": 1484,
   "metadata": {},
   "outputs": [
    {
     "data": {
      "text/plain": [
       "array([0.15355548, 0.00254249, 0.10132293, 0.13079937, 0.13122688,\n",
       "       0.07802588, 0.10009232, 0.00409328, 0.09437548, 0.09591791,\n",
       "       0.10086665, 0.00251414, 0.00214551, 0.00252167])"
      ]
     },
     "execution_count": 1484,
     "metadata": {},
     "output_type": "execute_result"
    }
   ],
   "source": [
    "sampled_fingerprints[0]"
   ]
  },
  {
   "cell_type": "code",
   "execution_count": 1465,
   "metadata": {},
   "outputs": [
    {
     "data": {
      "text/plain": [
       "array([0.00210713, 0.03508957, 0.00169865, 0.00199593, 0.00192612,\n",
       "       0.00174248, 0.00168435, 0.84021208, 0.00164262, 0.0016524 ,\n",
       "       0.0018631 , 0.03505593, 0.03827708, 0.03505257])"
      ]
     },
     "execution_count": 1465,
     "metadata": {},
     "output_type": "execute_result"
    }
   ],
   "source": [
    "sampled_fingerprints[1]"
   ]
  },
  {
   "cell_type": "code",
   "execution_count": 1385,
   "metadata": {},
   "outputs": [
    {
     "data": {
      "text/plain": [
       "torch.Size([14])"
      ]
     },
     "execution_count": 1385,
     "metadata": {},
     "output_type": "execute_result"
    }
   ],
   "source": [
    "norm_dist = (_d1 / _d1.sum().unsqueeze(-1))\n",
    "norm_dist.shape"
   ]
  },
  {
   "cell_type": "code",
   "execution_count": 1386,
   "metadata": {},
   "outputs": [
    {
     "data": {
      "text/plain": [
       "(torch.Size([10000, 100]), torch.Size([14, 1]))"
      ]
     },
     "execution_count": 1386,
     "metadata": {},
     "output_type": "execute_result"
    }
   ],
   "source": [
    "self.mask_tensor.shape, norm_dist.unsqueeze(1).shape"
   ]
  },
  {
   "cell_type": "code",
   "execution_count": 1387,
   "metadata": {},
   "outputs": [
    {
     "data": {
      "text/plain": [
       "torch.Size([10000, 100, 1])"
      ]
     },
     "execution_count": 1387,
     "metadata": {},
     "output_type": "execute_result"
    }
   ],
   "source": [
    "self.mask_tensor.unsqueeze(2).shape"
   ]
  },
  {
   "cell_type": "code",
   "execution_count": 1388,
   "metadata": {},
   "outputs": [],
   "source": [
    "norm_dist = norm_dist.repeat(10000,1)"
   ]
  },
  {
   "cell_type": "code",
   "execution_count": 1389,
   "metadata": {},
   "outputs": [
    {
     "data": {
      "text/plain": [
       "tensor([[0.0394, 0.1185, 0.0418,  ..., 0.1185, 0.1453, 0.1185],\n",
       "        [0.0394, 0.1185, 0.0418,  ..., 0.1185, 0.1453, 0.1185],\n",
       "        [0.0394, 0.1185, 0.0418,  ..., 0.1185, 0.1453, 0.1185],\n",
       "        ...,\n",
       "        [0.0394, 0.1185, 0.0418,  ..., 0.1185, 0.1453, 0.1185],\n",
       "        [0.0394, 0.1185, 0.0418,  ..., 0.1185, 0.1453, 0.1185],\n",
       "        [0.0394, 0.1185, 0.0418,  ..., 0.1185, 0.1453, 0.1185]],\n",
       "       dtype=torch.float64, grad_fn=<RepeatBackward0>)"
      ]
     },
     "execution_count": 1389,
     "metadata": {},
     "output_type": "execute_result"
    }
   ],
   "source": [
    "norm_dist"
   ]
  },
  {
   "cell_type": "code",
   "execution_count": 1390,
   "metadata": {},
   "outputs": [
    {
     "data": {
      "text/plain": [
       "tensor([[0.0394, 0.1185, 0.0418,  ..., 0.1185, 0.1453, 0.1185],\n",
       "        [0.0394, 0.1185, 0.0418,  ..., 0.1185, 0.1453, 0.1185],\n",
       "        [0.0394, 0.1185, 0.0418,  ..., 0.1185, 0.1453, 0.1185],\n",
       "        ...,\n",
       "        [0.0394, 0.1185, 0.0418,  ..., 0.1185, 0.1453, 0.1185],\n",
       "        [0.0394, 0.1185, 0.0418,  ..., 0.1185, 0.1453, 0.1185],\n",
       "        [0.0394, 0.1185, 0.0418,  ..., 0.1185, 0.1453, 0.1185]],\n",
       "       dtype=torch.float64, grad_fn=<DivBackward0>)"
      ]
     },
     "execution_count": 1390,
     "metadata": {},
     "output_type": "execute_result"
    }
   ],
   "source": [
    "masked_norm_dist = (self.mask_tensor.unsqueeze(2) * norm_dist.unsqueeze(1))\n",
    "accumulated_norm_dist = masked_norm_dist.sum(dim=0)\n",
    "fingerprint_distances = accumulated_norm_dist / accumulated_norm_dist.sum(dim=1).unsqueeze(-1)\n",
    "fingerprint_distances"
   ]
  },
  {
   "cell_type": "code",
   "execution_count": 1391,
   "metadata": {},
   "outputs": [],
   "source": [
    "pow_fingerprints = ((fingerprint_distances.clamp(min=epsilon))**-1).pow(4)"
   ]
  },
  {
   "cell_type": "code",
   "execution_count": 1411,
   "metadata": {},
   "outputs": [
    {
     "data": {
      "text/plain": [
       "tensor([0.1233, 0.0053, 0.1207, 0.1089, 0.1187, 0.0514, 0.1157, 0.0440, 0.1069,\n",
       "        0.1152, 0.0763, 0.0053, 0.0029, 0.0053], dtype=torch.float64,\n",
       "       grad_fn=<SelectBackward0>)"
      ]
     },
     "execution_count": 1411,
     "metadata": {},
     "output_type": "execute_result"
    }
   ],
   "source": [
    "Dirichlet(pow_fingerprints).rsample([self.num_samples]).mean(dim=0)[0]"
   ]
  },
  {
   "cell_type": "code",
   "execution_count": 1393,
   "metadata": {},
   "outputs": [
    {
     "data": {
      "text/plain": [
       "tensor([ 4.3393, 13.0312,  4.5993,  4.8717,  3.6709,  6.5281,  4.2559, 12.3826,\n",
       "         4.1664,  4.3491,  5.7566, 13.0319, 15.9853, 13.0318],\n",
       "       dtype=torch.float64, grad_fn=<SelectBackward0>)"
      ]
     },
     "execution_count": 1393,
     "metadata": {},
     "output_type": "execute_result"
    }
   ],
   "source": [
    "accumulated_norm_dist[0]"
   ]
  },
  {
   "cell_type": "code",
   "execution_count": 1394,
   "metadata": {},
   "outputs": [
    {
     "data": {
      "text/plain": [
       "tensor([ 4.1026, 12.3204,  4.3484,  4.6060,  3.4706,  6.1720,  4.0237, 11.7072,\n",
       "         3.9391,  4.1119,  5.4426, 12.3210, 15.1133, 12.3210],\n",
       "       dtype=torch.float64, grad_fn=<SelectBackward0>)"
      ]
     },
     "execution_count": 1394,
     "metadata": {},
     "output_type": "execute_result"
    }
   ],
   "source": [
    "accumulated_norm_dist[1]"
   ]
  },
  {
   "cell_type": "code",
   "execution_count": 1395,
   "metadata": {},
   "outputs": [
    {
     "data": {
      "text/plain": [
       "414968.48256943264"
      ]
     },
     "execution_count": 1395,
     "metadata": {},
     "output_type": "execute_result"
    }
   ],
   "source": [
    "(1/0.0394)**4"
   ]
  },
  {
   "cell_type": "code",
   "execution_count": 1396,
   "metadata": {},
   "outputs": [
    {
     "data": {
      "text/plain": [
       "tensor([[412932.1211,   5077.3153, 327192.8638,  ...,   5076.2888,\n",
       "           2242.2868,   5076.3782],\n",
       "        [412932.1211,   5077.3153, 327192.8638,  ...,   5076.2888,\n",
       "           2242.2868,   5076.3782],\n",
       "        [412932.1211,   5077.3153, 327192.8638,  ...,   5076.2888,\n",
       "           2242.2868,   5076.3782],\n",
       "        ...,\n",
       "        [412932.1211,   5077.3153, 327192.8638,  ...,   5076.2888,\n",
       "           2242.2868,   5076.3782],\n",
       "        [412932.1211,   5077.3153, 327192.8638,  ...,   5076.2888,\n",
       "           2242.2868,   5076.3782],\n",
       "        [412932.1211,   5077.3153, 327192.8638,  ...,   5076.2888,\n",
       "           2242.2868,   5076.3782]], dtype=torch.float64,\n",
       "       grad_fn=<PowBackward0>)"
      ]
     },
     "execution_count": 1396,
     "metadata": {},
     "output_type": "execute_result"
    }
   ],
   "source": [
    "((fingerprint_distances.clamp(min=epsilon))**-1).pow(self.power)"
   ]
  },
  {
   "cell_type": "code",
   "execution_count": 1397,
   "metadata": {},
   "outputs": [
    {
     "data": {
      "text/plain": [
       "tensor([[ 4.3393, 13.0312,  4.5993,  ..., 13.0319, 15.9853, 13.0318],\n",
       "        [ 4.1026, 12.3204,  4.3484,  ..., 12.3210, 15.1133, 12.3210],\n",
       "        [ 4.1815, 12.5573,  4.4321,  ..., 12.5580, 15.4040, 12.5579],\n",
       "        ...,\n",
       "        [ 3.5109, 10.5434,  3.7213,  ..., 10.5440, 12.9335, 10.5439],\n",
       "        [ 4.2999, 12.9127,  4.5575,  ..., 12.9134, 15.8399, 12.9133],\n",
       "        [ 3.8660, 11.6096,  4.0976,  ..., 11.6102, 14.2414, 11.6101]],\n",
       "       dtype=torch.float64, grad_fn=<SumBackward1>)"
      ]
     },
     "execution_count": 1397,
     "metadata": {},
     "output_type": "execute_result"
    }
   ],
   "source": [
    "accumulated_norm_dist"
   ]
  },
  {
   "cell_type": "code",
   "execution_count": 1398,
   "metadata": {},
   "outputs": [
    {
     "data": {
      "text/plain": [
       "tensor([ 4.3393, 13.0312,  4.5993,  4.8717,  3.6709,  6.5281,  4.2559, 12.3826,\n",
       "         4.1664,  4.3491,  5.7566, 13.0319, 15.9853, 13.0318],\n",
       "       dtype=torch.float64, grad_fn=<SelectBackward0>)"
      ]
     },
     "execution_count": 1398,
     "metadata": {},
     "output_type": "execute_result"
    }
   ],
   "source": [
    "accumulated_norm_dist[0]"
   ]
  },
  {
   "cell_type": "code",
   "execution_count": 1399,
   "metadata": {},
   "outputs": [
    {
     "data": {
      "text/plain": [
       "tensor([0.1234, 0.0053, 0.1210, 0.1089, 0.1185, 0.0514, 0.1157, 0.0440, 0.1067,\n",
       "        0.1154, 0.0763, 0.0053, 0.0029, 0.0053], dtype=torch.float64,\n",
       "       grad_fn=<SliceBackward0>)"
      ]
     },
     "execution_count": 1399,
     "metadata": {},
     "output_type": "execute_result"
    }
   ],
   "source": [
    "sampled_fingerprints[0, :]"
   ]
  },
  {
   "cell_type": "code",
   "execution_count": 1415,
   "metadata": {},
   "outputs": [],
   "source": [
    "a = Dirichlet(pow_fingerprints).rsample([self.num_samples]).mean(dim=0)[0].clone().detach()"
   ]
  },
  {
   "cell_type": "code",
   "execution_count": 1416,
   "metadata": {},
   "outputs": [],
   "source": [
    "b = Dirichlet(pow_fingerprints).rsample([self.num_samples]).mean(dim=0)[4].clone().detach()"
   ]
  },
  {
   "cell_type": "code",
   "execution_count": 1417,
   "metadata": {},
   "outputs": [
    {
     "data": {
      "text/plain": [
       "np.float64(0.09414551711778528)"
      ]
     },
     "execution_count": 1417,
     "metadata": {},
     "output_type": "execute_result"
    }
   ],
   "source": [
    "jensenshannon(a,b)"
   ]
  },
  {
   "cell_type": "code",
   "execution_count": 1406,
   "metadata": {},
   "outputs": [
    {
     "data": {
      "text/plain": [
       "array([0.  , 0.5 , 0.01, 0.02, 0.5 , 0.  , 0.5 , 0.5 , 0.5 , 0.5 , 0.02,\n",
       "       0.07, 0.5 , 0.02, 0.06, 0.5 , 0.5 , 0.5 , 0.04, 0.  , 0.5 , 0.05,\n",
       "       0.03, 0.  , 0.5 , 0.  , 0.5 , 0.02, 0.5 , 0.  , 0.  , 0.  , 0.5 ,\n",
       "       0.01, 0.  , 0.01, 0.5 , 0.5 , 0.  , 0.5 , 0.03, 0.5 , 0.5 , 0.5 ,\n",
       "       0.5 , 0.02, 0.04, 0.  , 0.5 , 0.  , 0.01, 0.5 , 0.5 , 0.5 , 0.  ,\n",
       "       0.01, 0.5 , 0.02, 0.  , 0.5 , 0.5 , 0.  , 0.5 , 0.01, 0.5 , 0.  ,\n",
       "       0.5 , 0.  , 0.5 , 0.  , 0.5 , 0.04, 0.  , 0.05, 0.  , 0.04, 0.03,\n",
       "       0.  , 0.  , 0.5 , 0.03, 0.5 , 0.5 , 0.5 , 0.5 , 0.  , 0.04, 0.01,\n",
       "       0.  , 0.5 , 0.  , 0.  , 0.5 , 0.  , 0.01, 0.02, 0.5 , 0.05, 0.5 ,\n",
       "       0.5 ])"
      ]
     },
     "execution_count": 1406,
     "metadata": {},
     "output_type": "execute_result"
    }
   ],
   "source": [
    "np.abs((df_observable.groupby('Individual').if_zebra_then_age.mean().to_numpy()[0] - df_observable.groupby('Individual').if_zebra_then_age.mean().to_numpy())).round(2) #> 0.1"
   ]
  },
  {
   "cell_type": "code",
   "execution_count": null,
   "metadata": {},
   "outputs": [],
   "source": [
    "_dist"
   ]
  },
  {
   "cell_type": "code",
   "execution_count": null,
   "metadata": {},
   "outputs": [],
   "source": [
    "pearson_corrcoef(feature_distances, fingerprint_distances)"
   ]
  },
  {
   "cell_type": "code",
   "execution_count": null,
   "metadata": {},
   "outputs": [],
   "source": [
    "antecedens"
   ]
  },
  {
   "cell_type": "code",
   "execution_count": null,
   "metadata": {},
   "outputs": [],
   "source": [
    "(antecedens > 0.7).numpy()"
   ]
  },
  {
   "cell_type": "code",
   "execution_count": null,
   "metadata": {},
   "outputs": [],
   "source": [
    "(feature_distances[0].clone().detach().numpy() * 1000.).round(3)"
   ]
  },
  {
   "cell_type": "code",
   "execution_count": null,
   "metadata": {},
   "outputs": [],
   "source": [
    "(fingerprint_distances[0].clone().detach().numpy() * 1.).round(3) #> 0.50"
   ]
  },
  {
   "cell_type": "code",
   "execution_count": null,
   "metadata": {},
   "outputs": [],
   "source": [
    "(fingerprint_distances[0].clone().detach().numpy() * 1.).round(3)"
   ]
  },
  {
   "cell_type": "code",
   "execution_count": null,
   "metadata": {},
   "outputs": [],
   "source": [
    "(df_observable.groupby('Individual').if_zebra_then_age.mean().to_numpy()[0] - df_observable.groupby('Individual').if_zebra_then_age.mean().to_numpy()).round(3) > 0.1"
   ]
  },
  {
   "cell_type": "code",
   "execution_count": null,
   "metadata": {},
   "outputs": [],
   "source": [
    "((df_observable.groupby('Individual').if_zebra_then_age.mean().to_numpy()[0] - df_observable.groupby('Individual').if_zebra_then_age.mean().to_numpy())).round(2) #> 0.1"
   ]
  },
  {
   "cell_type": "code",
   "execution_count": null,
   "metadata": {},
   "outputs": [],
   "source": [
    "from gradient_solver import _construct_distance_matrix"
   ]
  },
  {
   "cell_type": "code",
   "execution_count": 1616,
   "metadata": {},
   "outputs": [],
   "source": [
    "df_explainable = preparation_result['explainable_df'].copy().set_index(index_name)\n",
    "df_observable = observable_patterns_result['df_observable_data'].copy().set_index(index_name).loc[:, observed_features].reset_index()"
   ]
  },
  {
   "cell_type": "code",
   "execution_count": 1617,
   "metadata": {},
   "outputs": [
    {
     "name": "stdout",
     "output_type": "stream",
     "text": [
      "Loss before training: -0.1492326393616624\n",
      "1/10 --- Mean Loss : -0.9091749204257089\n",
      "2/10 --- Mean Loss : -0.9871196812520594\n",
      "3/10 --- Mean Loss : -0.9902864166246828\n",
      "4/10 --- Mean Loss : -0.990904611457913\n",
      "5/10 --- Mean Loss : -0.9911183470833764\n",
      "6/10 --- Mean Loss : -0.9912314201186011\n",
      "7/10 --- Mean Loss : -0.9912916486412023\n",
      "8/10 --- Mean Loss : -0.9913184321801809\n",
      "9/10 --- Mean Loss : -0.9913326302806289\n",
      "10/10 --- Mean Loss : -0.9913452945961769\n"
     ]
    }
   ],
   "source": [
    "model = FeatureSelectionModel(\n",
    "    df_explainable,\n",
    "    df_observable.loc[:, ['Individual', 'if_zebra_then_age', 'unexplainable_1']],\n",
    "    #df_observable,\n",
    "    #observable_patterns_result['df_cluster_median'],\n",
    "    observable_patterns_result['df_cluster_median'].loc[:, ['if_zebra_then_age', 'unexplainable_1']],\n",
    "    num_virtual_features=1,\n",
    "    power = 4.,\n",
    "    index_name = 'Individual',\n",
    "    num_samples = 10,\n",
    "    dtype = torch.float64,\n",
    "    device = 'cpu',\n",
    "    penalty=0\n",
    ")\n",
    "\n",
    "# After this many steps, the learning rate is halved\n",
    "HALFLIFE = 5\n",
    "\n",
    "'''optimizer = torch.optim.RMSprop(\n",
    "    params = [\n",
    "        {'params': model.parameters['feature_weights'], 'lr': 0.1, 'momentum': 0.50},\n",
    "        {'params': model.parameters['observation_weights'], 'lr': 0.1, 'momentum': 0.50},\n",
    "        {'params': model.parameters['cluster_positions'], 'lr': 0.1, 'momentum': 0.50},\n",
    "    ],\n",
    "\n",
    ")'''\n",
    "optimizer = torch.optim.RMSprop(lr=0.10, momentum=0.50, params=model.parameters.parameters())\n",
    "\n",
    "lr_halflife = lambda epochs: 0.5**(1/epochs)\n",
    "scheduler = torch.optim.lr_scheduler.LambdaLR(optimizer, lr_lambda = lambda epoch: lr_halflife(HALFLIFE)**epoch)\n",
    "trainer = Trainer(model = model, optimizer = optimizer, scheduler = scheduler, dataloader = range(100))\n",
    "print(f'Loss before training: {model.loss().clone().detach()}')\n",
    "trainer.train(epochs = 10, timeout=60000)"
   ]
  },
  {
   "cell_type": "code",
   "execution_count": 1618,
   "metadata": {},
   "outputs": [
    {
     "data": {
      "text/plain": [
       "'[Noise_5 > 0.00] ⇒ [Age > 0.38]'"
      ]
     },
     "execution_count": 1618,
     "metadata": {},
     "output_type": "execute_result"
    }
   ],
   "source": [
    "model.interpretation(0, thresh=0.05)"
   ]
  },
  {
   "cell_type": "code",
   "execution_count": 1620,
   "metadata": {},
   "outputs": [
    {
     "data": {
      "image/png": "[encoded data removed]",
      "text/plain": [
       "<Figure size 1000x500 with 1 Axes>"
      ]
     },
     "metadata": {},
     "output_type": "display_data"
    },
    {
     "data": {
      "image/png": "[encoded data removed]",
      "text/plain": [
       "<Figure size 1000x500 with 1 Axes>"
      ]
     },
     "metadata": {},
     "output_type": "display_data"
    }
   ],
   "source": [
    "model.plot(0.05)"
   ]
  },
  {
   "cell_type": "code",
   "execution_count": 1130,
   "metadata": {},
   "outputs": [
    {
     "data": {
      "text/plain": [
       "'[Loves_to_sleep > 0.00] ∧ [Noise_3 > 0.00] ∧ [Noise_4 > 0.00] ∧ [Noise_5 > 0.00] ⇒ [Age > 0.36]'"
      ]
     },
     "execution_count": 1130,
     "metadata": {},
     "output_type": "execute_result"
    }
   ],
   "source": [
    "model.interpretation(0, 0.05)"
   ]
  },
  {
   "cell_type": "code",
   "execution_count": null,
   "metadata": {},
   "outputs": [],
   "source": [
    "feature_dict, observation_dict = model.get_weights()\n",
    "\n",
    "remaining_features = []\n",
    "for k,v in feature_dict.items():\n",
    "    if True: #v < 0.500:\n",
    "        remaining_features.append(k)\n",
    "\n",
    "i = 0\n",
    "remaining_observations = [index_name]\n",
    "remaining_observation_indices = []\n",
    "for k,v in observation_dict.items():\n",
    "    if v < 0.500:\n",
    "        remaining_observations.append(k)\n",
    "        remaining_observation_indices.append(i)\n",
    "    i += 1"
   ]
  },
  {
   "cell_type": "code",
   "execution_count": null,
   "metadata": {},
   "outputs": [],
   "source": [
    "remaining_features, remaining_observations"
   ]
  },
  {
   "cell_type": "code",
   "execution_count": null,
   "metadata": {},
   "outputs": [],
   "source": [
    "next_model = FeatureSelectionModel(\n",
    "    df_explainable,\n",
    "    df_observable.loc[:, remaining_observations],\n",
    "    model.best_cluster_positions[:, remaining_observation_indices],\n",
    "    num_virtual_features=1,\n",
    "    power = 4,\n",
    "    index_name = 'Individual',\n",
    "    num_samples = 4,\n",
    "    dtype = torch.float64,\n",
    "    device = 'cpu',\n",
    "    penalty=0\n",
    ")\n",
    "\n",
    "# After this many steps, the learning rate is halved\n",
    "HALFLIFE = 50\n",
    "\n",
    "optimizer = torch.optim.RMSprop(lr=0.1, momentum=0.50, params=next_model.parameters.parameters())\n",
    "\n",
    "lr_halflife = lambda epochs: 0.5**(1/epochs)\n",
    "scheduler = torch.optim.lr_scheduler.LambdaLR(optimizer, lr_lambda = lambda epoch: lr_halflife(HALFLIFE)**epoch)\n",
    "trainer = Trainer(model = next_model, optimizer = optimizer, scheduler = scheduler, dataloader = range(100))\n",
    "print(f'Loss before training: {next_model.loss().clone().detach()}')\n",
    "trainer.train(epochs = 10, timeout=60000)"
   ]
  },
  {
   "cell_type": "code",
   "execution_count": null,
   "metadata": {},
   "outputs": [],
   "source": [
    "def logic_string_helper(self, _weights, positions, thresh):\n",
    "    _features_indices = (_weights > thresh).nonzero()[0]\n",
    "    if len(_features_indices) > 0:\n",
    "        _features = self.feature_names[_features_indices]\n",
    "        _position = positions[_features_indices]\n",
    "        _string = ''\n",
    "        i = 0\n",
    "        for symbol, pos in zip(_features, _position):\n",
    "            if pos < 0.5:\n",
    "                addendum = 'Higher('\n",
    "            else:\n",
    "                addendum = 'Lower('\n",
    "            if i == len(_features) - 1:\n",
    "                _string += f'{addendum}{symbol})'\n",
    "            else:\n",
    "                _string += f'{addendum}{symbol}) ∧ '\n",
    "            i += 1\n",
    "    else:\n",
    "        _string = 'Falsum'\n",
    "    return _string\n",
    "\n",
    "def interpretation(self, v_i, thresh = 0.05):\n",
    "        antecedens_positions = self.constrained(f'antecedens_positions_{v_i}').clone().detach().numpy()\n",
    "        consequent_positions = self.constrained(f'consequent_positions_{v_i}').clone().detach().numpy()\n",
    "        antecedens_weights   =  self.constrained(f'antecedens_weights_{v_i}').clone().detach().numpy()\n",
    "        consequent_weights   = self.constrained(f'consequent_weights_{v_i}').clone().detach().numpy()\n",
    "\n",
    "        antecedens_weights = antecedens_weights/antecedens_weights.sum()\n",
    "        consequent_weights = consequent_weights/consequent_weights.sum()\n",
    "\n",
    "        antecedens_string = logic_string_helper(self, antecedens_weights, antecedens_positions, thresh)\n",
    "        consequent_string = logic_string_helper(self, consequent_weights, consequent_positions, thresh)\n",
    "        interpretation_string = f'{antecedens_string} ⇒ {consequent_string}'\n",
    "\n",
    "        return interpretation_string"
   ]
  },
  {
   "cell_type": "code",
   "execution_count": null,
   "metadata": {},
   "outputs": [],
   "source": [
    "self = next_model"
   ]
  },
  {
   "cell_type": "code",
   "execution_count": null,
   "metadata": {},
   "outputs": [],
   "source": [
    "interpretation(self, 0)"
   ]
  },
  {
   "cell_type": "code",
   "execution_count": null,
   "metadata": {},
   "outputs": [],
   "source": [
    "thresh = 0.05"
   ]
  },
  {
   "cell_type": "code",
   "execution_count": null,
   "metadata": {},
   "outputs": [],
   "source": [
    "antecedens_positions = self.constrained(f'antecedens_positions_{v_i}').clone().detach().numpy()\n",
    "consequent_positions = self.constrained(f'consequent_positions_{v_i}').clone().detach().numpy()\n",
    "antecedens_weights   =  self.constrained(f'antecedens_weights_{v_i}').clone().detach().numpy()\n",
    "consequent_weights   = self.constrained(f'consequent_weights_{v_i}').clone().detach().numpy()"
   ]
  },
  {
   "cell_type": "code",
   "execution_count": null,
   "metadata": {},
   "outputs": [],
   "source": [
    "antecedens_weights = antecedens_weights/antecedens_weights.sum()\n",
    "consequent_weights = consequent_weights/consequent_weights.sum()"
   ]
  },
  {
   "cell_type": "code",
   "execution_count": null,
   "metadata": {},
   "outputs": [],
   "source": [
    "antecedens_features_indices = (antecedens_weights > thresh).nonzero()[0]\n",
    "if len(antecedens_features_indices) > 0:\n",
    "    antecedens_features = self.feature_names[antecedens_features_indices]\n",
    "    antecedens_position = antecedens_positions[antecedens_features_indices]\n",
    "    antecedens_string = ''\n",
    "    i = 0\n",
    "    for symbol, pos in zip(antecedens_features, antecedens_position):\n",
    "        if pos < 0.5:\n",
    "            addendum = 'Higher('\n",
    "        else:\n",
    "            addendum = 'Lower('\n",
    "        if i == len(antecedens_features) - 1:\n",
    "            antecedens_string += f'{addendum}{symbol})'\n",
    "        else:\n",
    "            antecedens_string += f'{addendum}{symbol}) ∧ '\n",
    "        i += 1\n",
    "else:\n",
    "    antecedens_string = 'Falsum'"
   ]
  },
  {
   "cell_type": "code",
   "execution_count": null,
   "metadata": {},
   "outputs": [],
   "source": []
  },
  {
   "cell_type": "code",
   "execution_count": null,
   "metadata": {},
   "outputs": [],
   "source": []
  },
  {
   "cell_type": "code",
   "execution_count": null,
   "metadata": {},
   "outputs": [],
   "source": [
    "consequent_features_indices = (consequent_weights > thresh).nonzero()[0]\n",
    "if len(consequent_features_indices) > 0:\n",
    "    consequent_features = self.feature_names[consequent_features_indices]\n",
    "    consequent_position = consequent_positions[consequent_features_indices]\n",
    "    consequent_string = ''\n",
    "    i = 0\n",
    "    for symbol, pos in zip(consequent_features, consequent_position):\n",
    "        if pos < 0.5:\n",
    "            addendum = 'Higher('\n",
    "        else:\n",
    "            addendum = 'Lower('\n",
    "        if i == len(consequent_features) - 1:\n",
    "            consequent_string += f'{addendum}{symbol})'\n",
    "        else:\n",
    "            consequent_string += f'{addendum}{symbol}) ∧ '\n",
    "        i += 1\n",
    "else:\n",
    "    consequent_string = 'Falsum'"
   ]
  },
  {
   "cell_type": "code",
   "execution_count": null,
   "metadata": {},
   "outputs": [],
   "source": [
    "f'{antecedens_string} ⇒ {consequent_string}'"
   ]
  },
  {
   "cell_type": "code",
   "execution_count": null,
   "metadata": {},
   "outputs": [],
   "source": [
    "antecedens_string = [antecedens_features]"
   ]
  },
  {
   "cell_type": "code",
   "execution_count": null,
   "metadata": {},
   "outputs": [],
   "source": [
    "sns.barplot(antecedens_positions)"
   ]
  },
  {
   "cell_type": "code",
   "execution_count": null,
   "metadata": {},
   "outputs": [],
   "source": [
    "sns.barplot(antecedens_weights)"
   ]
  },
  {
   "cell_type": "code",
   "execution_count": null,
   "metadata": {},
   "outputs": [],
   "source": [
    "sns.barplot(consequent_positions)"
   ]
  },
  {
   "cell_type": "code",
   "execution_count": null,
   "metadata": {},
   "outputs": [],
   "source": [
    "sns.barplot(consequent_weights)"
   ]
  },
  {
   "cell_type": "code",
   "execution_count": null,
   "metadata": {},
   "outputs": [],
   "source": [
    "next_model.conditional(0)"
   ]
  },
  {
   "cell_type": "code",
   "execution_count": null,
   "metadata": {},
   "outputs": [],
   "source": [
    "next_model.plot()"
   ]
  },
  {
   "cell_type": "code",
   "execution_count": null,
   "metadata": {},
   "outputs": [],
   "source": [
    "feature_dict, observation_dict = next_model.get_weights()\n",
    "\n",
    "remaining_features = []\n",
    "for k,v in feature_dict.items():\n",
    "    #if v < 0.500:\n",
    "    if True:\n",
    "        remaining_features.append(k)\n",
    "\n",
    "i = 0\n",
    "remaining_observations = [index_name]\n",
    "remaining_observation_indices = []\n",
    "for k,v in observation_dict.items():\n",
    "    if v < 0.500:\n",
    "        remaining_observations.append(k)\n",
    "        remaining_observation_indices.append(i)\n",
    "    i += 1\n",
    "\n",
    "remaining_features, remaining_observations"
   ]
  },
  {
   "cell_type": "code",
   "execution_count": null,
   "metadata": {},
   "outputs": [],
   "source": [
    "next2_model = FeatureSelectionModel(\n",
    "    df_explainable,#.loc[:, remaining_features],\n",
    "    df_observable.loc[:, remaining_observations],\n",
    "    model.best_cluster_positions[:, remaining_observation_indices],\n",
    "    num_virtual_features=1,\n",
    "    power = 4,\n",
    "    index_name = 'Individual',\n",
    "    num_samples = 4,\n",
    "    dtype = torch.float64,\n",
    "    device = 'cpu',\n",
    "    penalty=0\n",
    ")\n",
    "\n",
    "my_model = next2_model\n",
    "\n",
    "# After this many steps, the learning rate is halved\n",
    "HALFLIFE = 30\n",
    "\n",
    "optimizer = torch.optim.RMSprop(\n",
    "    params = [\n",
    "        {'params': my_model.parameters['feature_weights'], 'lr': 0.1, 'momentum': 0.50},\n",
    "        {'params': my_model.parameters['observation_weights'], 'lr': 0.1, 'momentum': 0.50},\n",
    "        {'params': my_model.parameters['cluster_positions'], 'lr': 0.1, 'momentum': 0.50},\n",
    "    ],\n",
    "\n",
    ")\n",
    "\n",
    "lr_halflife = lambda epochs: 0.5**(1/epochs)\n",
    "scheduler = torch.optim.lr_scheduler.LambdaLR(optimizer, lr_lambda = lambda epoch: lr_halflife(HALFLIFE)**epoch)\n",
    "trainer = Trainer(model = my_model, optimizer = optimizer, scheduler = scheduler, dataloader = range(100))\n",
    "print(f'Loss before training: {my_model.loss().clone().detach()}')\n",
    "trainer.train(epochs = 100, timeout=60000)"
   ]
  },
  {
   "cell_type": "code",
   "execution_count": null,
   "metadata": {},
   "outputs": [],
   "source": [
    "next2_model.plot()"
   ]
  },
  {
   "cell_type": "code",
   "execution_count": null,
   "metadata": {},
   "outputs": [],
   "source": [
    "feature_dict, observation_dict = next2_model.get_weights()\n",
    "\n",
    "remaining_features = []\n",
    "for k,v in feature_dict.items():\n",
    "    if v < 0.500:\n",
    "        remaining_features.append(k)\n",
    "\n",
    "i = 0\n",
    "remaining_observations = [index_name]\n",
    "remaining_observation_indices = []\n",
    "for k,v in observation_dict.items():\n",
    "    if v < 0.500:\n",
    "        remaining_observations.append(k)\n",
    "        remaining_observation_indices.append(i)\n",
    "    i += 1\n",
    "\n",
    "remaining_features, remaining_observations"
   ]
  },
  {
   "cell_type": "code",
   "execution_count": null,
   "metadata": {},
   "outputs": [],
   "source": [
    "next3_model = FeatureSelectionModel(\n",
    "    df_explainable.loc[:, remaining_features],\n",
    "    df_observable.loc[:, remaining_observations],\n",
    "    model.best_cluster_positions[:, remaining_observation_indices],\n",
    "    power = 4,\n",
    "    index_name = 'Individual',\n",
    "    num_samples = 4,\n",
    "    dtype = torch.float64,\n",
    "    device = 'cpu',\n",
    "    penalty=0\n",
    ")\n",
    "\n",
    "my_model = next3_model\n",
    "\n",
    "# After this many steps, the learning rate is halved\n",
    "HALFLIFE = 30\n",
    "\n",
    "optimizer = torch.optim.RMSprop(\n",
    "    params = [\n",
    "        {'params': my_model.parameters['feature_weights'], 'lr': 0.1, 'momentum': 0.50},\n",
    "        {'params': my_model.parameters['observation_weights'], 'lr': 0.1, 'momentum': 0.50},\n",
    "        {'params': my_model.parameters['cluster_positions'], 'lr': 0.1, 'momentum': 0.50},\n",
    "    ],\n",
    "\n",
    ")\n",
    "\n",
    "lr_halflife = lambda epochs: 0.5**(1/epochs)\n",
    "scheduler = torch.optim.lr_scheduler.LambdaLR(optimizer, lr_lambda = lambda epoch: lr_halflife(HALFLIFE)**epoch)\n",
    "trainer = Trainer(model = my_model, optimizer = optimizer, scheduler = scheduler, dataloader = range(100))\n",
    "print(f'Loss before training: {my_model.loss().clone().detach()}')\n",
    "trainer.train(epochs = 10, timeout=60000)"
   ]
  },
  {
   "cell_type": "code",
   "execution_count": null,
   "metadata": {},
   "outputs": [],
   "source": [
    "next3_model.plot()"
   ]
  },
  {
   "cell_type": "code",
   "execution_count": null,
   "metadata": {},
   "outputs": [],
   "source": [
    "..."
   ]
  },
  {
   "cell_type": "code",
   "execution_count": null,
   "metadata": {},
   "outputs": [],
   "source": []
  }
 ],
 "metadata": {
  "kernelspec": {
   "display_name": "Python 3",
   "language": "python",
   "name": "python3"
  },
  "language_info": {
   "codemirror_mode": {
    "name": "ipython",
    "version": 3
   },
   "file_extension": ".py",
   "mimetype": "text/x-python",
   "name": "python",
   "nbconvert_exporter": "python",
   "pygments_lexer": "ipython3",
   "version": "3.12.4"
  }
 },
 "nbformat": 4,
 "nbformat_minor": 2
}
