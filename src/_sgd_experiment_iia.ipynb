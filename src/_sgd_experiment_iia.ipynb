{
 "cells": [
  {
   "cell_type": "code",
   "execution_count": 1,
   "metadata": {},
   "outputs": [],
   "source": [
    "from data_preparation import DataPreparator\n",
    "from apply_clustering import ClusteringApplier"
   ]
  },
  {
   "cell_type": "code",
   "execution_count": 2,
   "metadata": {},
   "outputs": [],
   "source": [
    "import os.path\n",
    "from itertools import chain, combinations\n",
    "from typing import Dict, List, Tuple, Iterable, Any\n",
    "\n",
    "import numpy as np\n",
    "import pandas as pd\n",
    "from gapstatistics.gapstatistics import GapStatistics\n",
    "from clustering import AgglomerativeClusteringWrapper as AgglomerativeClustering\n",
    "import matplotlib.pyplot as plt\n",
    "import scipy.cluster.hierarchy as sch\n",
    "from scipy.cluster.hierarchy import dendrogram, linkage\n",
    "from scipy.spatial.distance import squareform\n",
    "from scipy.spatial.distance import jensenshannon, correlation, euclidean\n",
    "from tqdm.contrib.concurrent import thread_map\n",
    "import seaborn as sns\n",
    "\n",
    "import config"
   ]
  },
  {
   "cell_type": "code",
   "execution_count": 3,
   "metadata": {},
   "outputs": [],
   "source": [
    "import torch\n",
    "from torch.distributions import kl_divergence\n",
    "from torch.distributions.beta import Beta\n",
    "from torch.distributions.dirichlet import Dirichlet\n",
    "from ParameterizedModel.parameterized_model import Paremeterized_Model\n",
    "from ParameterizedModel.utils.distribution_helpers import mean_std_to_beta_params\n",
    "\n",
    "from ParameterizedModel.training import Trainer"
   ]
  },
  {
   "cell_type": "code",
   "execution_count": 4,
   "metadata": {},
   "outputs": [],
   "source": [
    "from gradient_solver import construct_distance_matrix"
   ]
  },
  {
   "cell_type": "code",
   "execution_count": 5,
   "metadata": {},
   "outputs": [],
   "source": [
    "import timeit"
   ]
  },
  {
   "cell_type": "code",
   "execution_count": 6,
   "metadata": {},
   "outputs": [],
   "source": [
    "import torch\n",
    "from torch.utils.data import Dataset, DataLoader, TensorDataset"
   ]
  },
  {
   "cell_type": "code",
   "execution_count": 7,
   "metadata": {},
   "outputs": [],
   "source": [
    "from scipy.spatial.distance import correlation"
   ]
  },
  {
   "cell_type": "code",
   "execution_count": 8,
   "metadata": {},
   "outputs": [],
   "source": [
    "from gradient_solver import *"
   ]
  },
  {
   "cell_type": "code",
   "execution_count": 9,
   "metadata": {},
   "outputs": [
    {
     "data": {
      "text/plain": [
       "'df_explainable: pd.DataFrame = ClusteringApplier.read_explaining_features()\\ndf_observable_distances: pd.DataFrame = pd.read_excel(\\n    f\"{config.OUTPUT_FOLDER_BASE}observables/{config.DATASET_NAME}-distance-normalized-matrix-{config.DISTANCE_MEASURE_FINGERPRINT}-{config.NUMBER_OBSERVABLE_PATTERNS}.xlsx\",\\n    index_col=0\\n)\\nfeatures: List[str] = list(config.EXPLAINING_FEATURE_NAMES.keys())\\n\\n# Ensure that both datasets contain the same indices\\nvalid_indices = np.intersect1d(df_explainable.index, df_observable_distances.index)\\ndf_explainable = df_explainable.loc[valid_indices]\\ndf_observable_distances = df_observable_distances.loc[valid_indices]'"
      ]
     },
     "execution_count": 9,
     "metadata": {},
     "output_type": "execute_result"
    }
   ],
   "source": [
    "'''df_explainable: pd.DataFrame = ClusteringApplier.read_explaining_features()\n",
    "df_observable_distances: pd.DataFrame = pd.read_excel(\n",
    "    f\"{config.OUTPUT_FOLDER_BASE}observables/{config.DATASET_NAME}-distance-normalized-matrix-{config.DISTANCE_MEASURE_FINGERPRINT}-{config.NUMBER_OBSERVABLE_PATTERNS}.xlsx\",\n",
    "    index_col=0\n",
    ")\n",
    "features: List[str] = list(config.EXPLAINING_FEATURE_NAMES.keys())\n",
    "\n",
    "# Ensure that both datasets contain the same indices\n",
    "valid_indices = np.intersect1d(df_explainable.index, df_observable_distances.index)\n",
    "df_explainable = df_explainable.loc[valid_indices]\n",
    "df_observable_distances = df_observable_distances.loc[valid_indices]'''"
   ]
  },
  {
   "cell_type": "code",
   "execution_count": 10,
   "metadata": {},
   "outputs": [],
   "source": [
    "##################\n",
    "# Synthetic Data #\n",
    "##################\n",
    "individuals = 100\n",
    "base_size = 10000\n",
    "\n",
    "#observation_data = np.random.normal(loc=0, scale=1, size=(base_size, 6))\n",
    "'''explanation_data = np.random.uniform(0,1, size=(individuals, 11))\n",
    "df_explainable = pd.DataFrame(explanation_data)\n",
    "df_explainable.loc[:, 'Individual'] = [f'Individual_{i}' for i in df_explainable.index]\n",
    "df_explainable.set_index('Individual', inplace=True)'''\n",
    "\n",
    "df_explainable = pd.DataFrame({\n",
    "    'Age': np.random.choice([0., 0.5, 1.], individuals),\n",
    "    'Weight': np.random.uniform(0,1, size=individuals),\n",
    "    'Is_a_Zebra': np.random.choice([0., 1.], individuals),\n",
    "    'Loves_to_sleep': np.random.uniform(0,1, size=individuals),\n",
    "    'Noise_1': np.random.uniform(0,1, size=individuals),\n",
    "    'Noise_2': np.random.uniform(0,1, size=individuals),\n",
    "    'Noise_3': np.random.uniform(0,1, size=individuals),\n",
    "    'Noise_4': np.random.uniform(0,1, size=individuals),\n",
    "    'Noise_5': np.random.uniform(0,1, size=individuals),\n",
    "    'Individual': [f'Individual_{n}' for n in range(individuals)]\n",
    "})\n",
    "df_explainable.set_index('Individual', inplace=True)\n",
    "\n",
    "explaining_features = np.array(list(df_explainable.columns))\n",
    "individual_array = np.random.choice(df_explainable.index.unique(), size=base_size)\n",
    "\n",
    "df_observable = pd.DataFrame({\n",
    "    'Individual': individual_array,\n",
    "})\n",
    "df_observable.loc[:, 'unexplainable_1'] = np.random.uniform(0,1, size=base_size)\n",
    "df_observable.loc[:, 'unexplainable_2'] = np.random.uniform(0,1, size=base_size)\n",
    "df_observable.loc[:, 'unexplainable_3'] = np.random.uniform(0,1, size=base_size)\n",
    "df_observable.loc[:, 'unexplainable_4'] = np.random.normal(0,1, size=base_size)\n",
    "\n",
    "df_observable.loc[:, 'if_zebra_then_age'] = (df_explainable.loc[individual_array, 'Is_a_Zebra'].values > 0.5) * df_explainable.loc[individual_array, 'Age'].values + (df_explainable.loc[individual_array, 'Is_a_Zebra'].values <= 0.5) * np.random.uniform(0,1, size=base_size)\n",
    "df_observable.loc[:, 'explained_by_loves_to_sleep'] = df_explainable.loc[individual_array, 'Loves_to_sleep'].values #df_explainable.loc[individual_array, [1,2,3]].mean(axis=1).values #req_1 * df_explainable.loc[individual_array, 2].values + (1-req_1) * df_explainable.loc[individual_array, 3].values\n",
    "df_observable.loc[:, 'Age_plus_Weight'] = df_explainable.loc[individual_array, 'Age'].values + df_explainable.loc[individual_array, 'Weight'].values\n",
    "\n",
    "df_observable.set_index('Individual', inplace=True)\n",
    "observed_features = list(df_observable.columns)\n",
    "\n",
    "df_observable = df_observable.apply(lambda x: (x - x.min()) / (x.max() - x.min()), axis=0)\n",
    "df_explainable = df_explainable.apply(lambda x: (x - x.min()) / (x.max() - x.min()), axis=0)"
   ]
  },
  {
   "cell_type": "code",
   "execution_count": 11,
   "metadata": {},
   "outputs": [
    {
     "data": {
      "text/html": [
       "<div>\n",
       "<style scoped>\n",
       "    .dataframe tbody tr th:only-of-type {\n",
       "        vertical-align: middle;\n",
       "    }\n",
       "\n",
       "    .dataframe tbody tr th {\n",
       "        vertical-align: top;\n",
       "    }\n",
       "\n",
       "    .dataframe thead th {\n",
       "        text-align: right;\n",
       "    }\n",
       "</style>\n",
       "<table border=\"1\" class=\"dataframe\">\n",
       "  <thead>\n",
       "    <tr style=\"text-align: right;\">\n",
       "      <th></th>\n",
       "      <th>Age</th>\n",
       "      <th>Weight</th>\n",
       "      <th>Is_a_Zebra</th>\n",
       "      <th>Loves_to_sleep</th>\n",
       "      <th>Noise_1</th>\n",
       "      <th>Noise_2</th>\n",
       "      <th>Noise_3</th>\n",
       "      <th>Noise_4</th>\n",
       "      <th>Noise_5</th>\n",
       "    </tr>\n",
       "    <tr>\n",
       "      <th>Individual</th>\n",
       "      <th></th>\n",
       "      <th></th>\n",
       "      <th></th>\n",
       "      <th></th>\n",
       "      <th></th>\n",
       "      <th></th>\n",
       "      <th></th>\n",
       "      <th></th>\n",
       "      <th></th>\n",
       "    </tr>\n",
       "  </thead>\n",
       "  <tbody>\n",
       "    <tr>\n",
       "      <th>Individual_0</th>\n",
       "      <td>0.5</td>\n",
       "      <td>0.951325</td>\n",
       "      <td>0.0</td>\n",
       "      <td>0.250671</td>\n",
       "      <td>0.310481</td>\n",
       "      <td>0.252313</td>\n",
       "      <td>0.799248</td>\n",
       "      <td>0.779194</td>\n",
       "      <td>0.000000</td>\n",
       "    </tr>\n",
       "    <tr>\n",
       "      <th>Individual_1</th>\n",
       "      <td>0.0</td>\n",
       "      <td>0.246078</td>\n",
       "      <td>1.0</td>\n",
       "      <td>0.745883</td>\n",
       "      <td>0.763598</td>\n",
       "      <td>0.318206</td>\n",
       "      <td>0.821881</td>\n",
       "      <td>0.458736</td>\n",
       "      <td>0.546275</td>\n",
       "    </tr>\n",
       "    <tr>\n",
       "      <th>Individual_2</th>\n",
       "      <td>1.0</td>\n",
       "      <td>0.924722</td>\n",
       "      <td>1.0</td>\n",
       "      <td>0.327230</td>\n",
       "      <td>0.192617</td>\n",
       "      <td>0.725265</td>\n",
       "      <td>0.113948</td>\n",
       "      <td>0.326210</td>\n",
       "      <td>0.667865</td>\n",
       "    </tr>\n",
       "    <tr>\n",
       "      <th>Individual_3</th>\n",
       "      <td>1.0</td>\n",
       "      <td>0.200656</td>\n",
       "      <td>0.0</td>\n",
       "      <td>0.499613</td>\n",
       "      <td>0.457526</td>\n",
       "      <td>0.040080</td>\n",
       "      <td>0.559932</td>\n",
       "      <td>0.276426</td>\n",
       "      <td>0.909728</td>\n",
       "    </tr>\n",
       "    <tr>\n",
       "      <th>Individual_4</th>\n",
       "      <td>0.5</td>\n",
       "      <td>0.587173</td>\n",
       "      <td>1.0</td>\n",
       "      <td>0.927766</td>\n",
       "      <td>0.010981</td>\n",
       "      <td>0.515719</td>\n",
       "      <td>0.039620</td>\n",
       "      <td>0.245983</td>\n",
       "      <td>0.471347</td>\n",
       "    </tr>\n",
       "    <tr>\n",
       "      <th>...</th>\n",
       "      <td>...</td>\n",
       "      <td>...</td>\n",
       "      <td>...</td>\n",
       "      <td>...</td>\n",
       "      <td>...</td>\n",
       "      <td>...</td>\n",
       "      <td>...</td>\n",
       "      <td>...</td>\n",
       "      <td>...</td>\n",
       "    </tr>\n",
       "    <tr>\n",
       "      <th>Individual_95</th>\n",
       "      <td>0.0</td>\n",
       "      <td>0.000000</td>\n",
       "      <td>0.0</td>\n",
       "      <td>0.683806</td>\n",
       "      <td>0.531086</td>\n",
       "      <td>0.918360</td>\n",
       "      <td>0.552334</td>\n",
       "      <td>0.993882</td>\n",
       "      <td>0.197058</td>\n",
       "    </tr>\n",
       "    <tr>\n",
       "      <th>Individual_96</th>\n",
       "      <td>0.5</td>\n",
       "      <td>0.301165</td>\n",
       "      <td>0.0</td>\n",
       "      <td>0.077817</td>\n",
       "      <td>1.000000</td>\n",
       "      <td>0.087846</td>\n",
       "      <td>0.298220</td>\n",
       "      <td>0.109588</td>\n",
       "      <td>0.207614</td>\n",
       "    </tr>\n",
       "    <tr>\n",
       "      <th>Individual_97</th>\n",
       "      <td>0.5</td>\n",
       "      <td>0.591721</td>\n",
       "      <td>0.0</td>\n",
       "      <td>0.411683</td>\n",
       "      <td>0.344778</td>\n",
       "      <td>0.496258</td>\n",
       "      <td>0.965176</td>\n",
       "      <td>0.090230</td>\n",
       "      <td>0.444156</td>\n",
       "    </tr>\n",
       "    <tr>\n",
       "      <th>Individual_98</th>\n",
       "      <td>0.0</td>\n",
       "      <td>0.914400</td>\n",
       "      <td>1.0</td>\n",
       "      <td>0.824001</td>\n",
       "      <td>0.674828</td>\n",
       "      <td>0.360813</td>\n",
       "      <td>0.794707</td>\n",
       "      <td>0.282709</td>\n",
       "      <td>0.194494</td>\n",
       "    </tr>\n",
       "    <tr>\n",
       "      <th>Individual_99</th>\n",
       "      <td>0.0</td>\n",
       "      <td>0.727173</td>\n",
       "      <td>1.0</td>\n",
       "      <td>0.981546</td>\n",
       "      <td>0.787862</td>\n",
       "      <td>0.887191</td>\n",
       "      <td>0.268849</td>\n",
       "      <td>0.751300</td>\n",
       "      <td>0.366802</td>\n",
       "    </tr>\n",
       "  </tbody>\n",
       "</table>\n",
       "<p>100 rows × 9 columns</p>\n",
       "</div>"
      ],
      "text/plain": [
       "               Age    Weight  Is_a_Zebra  Loves_to_sleep   Noise_1   Noise_2  \\\n",
       "Individual                                                                     \n",
       "Individual_0   0.5  0.951325         0.0        0.250671  0.310481  0.252313   \n",
       "Individual_1   0.0  0.246078         1.0        0.745883  0.763598  0.318206   \n",
       "Individual_2   1.0  0.924722         1.0        0.327230  0.192617  0.725265   \n",
       "Individual_3   1.0  0.200656         0.0        0.499613  0.457526  0.040080   \n",
       "Individual_4   0.5  0.587173         1.0        0.927766  0.010981  0.515719   \n",
       "...            ...       ...         ...             ...       ...       ...   \n",
       "Individual_95  0.0  0.000000         0.0        0.683806  0.531086  0.918360   \n",
       "Individual_96  0.5  0.301165         0.0        0.077817  1.000000  0.087846   \n",
       "Individual_97  0.5  0.591721         0.0        0.411683  0.344778  0.496258   \n",
       "Individual_98  0.0  0.914400         1.0        0.824001  0.674828  0.360813   \n",
       "Individual_99  0.0  0.727173         1.0        0.981546  0.787862  0.887191   \n",
       "\n",
       "                Noise_3   Noise_4   Noise_5  \n",
       "Individual                                   \n",
       "Individual_0   0.799248  0.779194  0.000000  \n",
       "Individual_1   0.821881  0.458736  0.546275  \n",
       "Individual_2   0.113948  0.326210  0.667865  \n",
       "Individual_3   0.559932  0.276426  0.909728  \n",
       "Individual_4   0.039620  0.245983  0.471347  \n",
       "...                 ...       ...       ...  \n",
       "Individual_95  0.552334  0.993882  0.197058  \n",
       "Individual_96  0.298220  0.109588  0.207614  \n",
       "Individual_97  0.965176  0.090230  0.444156  \n",
       "Individual_98  0.794707  0.282709  0.194494  \n",
       "Individual_99  0.268849  0.751300  0.366802  \n",
       "\n",
       "[100 rows x 9 columns]"
      ]
     },
     "execution_count": 11,
     "metadata": {},
     "output_type": "execute_result"
    }
   ],
   "source": [
    "df_explainable"
   ]
  },
  {
   "cell_type": "code",
   "execution_count": 12,
   "metadata": {},
   "outputs": [
    {
     "data": {
      "text/html": [
       "<div>\n",
       "<style scoped>\n",
       "    .dataframe tbody tr th:only-of-type {\n",
       "        vertical-align: middle;\n",
       "    }\n",
       "\n",
       "    .dataframe tbody tr th {\n",
       "        vertical-align: top;\n",
       "    }\n",
       "\n",
       "    .dataframe thead th {\n",
       "        text-align: right;\n",
       "    }\n",
       "</style>\n",
       "<table border=\"1\" class=\"dataframe\">\n",
       "  <thead>\n",
       "    <tr style=\"text-align: right;\">\n",
       "      <th></th>\n",
       "      <th>unexplainable_1</th>\n",
       "      <th>unexplainable_2</th>\n",
       "      <th>unexplainable_3</th>\n",
       "      <th>unexplainable_4</th>\n",
       "      <th>if_zebra_then_age</th>\n",
       "      <th>explained_by_loves_to_sleep</th>\n",
       "      <th>Age_plus_Weight</th>\n",
       "    </tr>\n",
       "    <tr>\n",
       "      <th>Individual</th>\n",
       "      <th></th>\n",
       "      <th></th>\n",
       "      <th></th>\n",
       "      <th></th>\n",
       "      <th></th>\n",
       "      <th></th>\n",
       "      <th></th>\n",
       "    </tr>\n",
       "  </thead>\n",
       "  <tbody>\n",
       "    <tr>\n",
       "      <th>Individual_61</th>\n",
       "      <td>0.918024</td>\n",
       "      <td>0.353647</td>\n",
       "      <td>0.398812</td>\n",
       "      <td>0.406362</td>\n",
       "      <td>0.106877</td>\n",
       "      <td>0.487220</td>\n",
       "      <td>0.747860</td>\n",
       "    </tr>\n",
       "    <tr>\n",
       "      <th>Individual_48</th>\n",
       "      <td>0.422734</td>\n",
       "      <td>0.647883</td>\n",
       "      <td>0.618953</td>\n",
       "      <td>0.580077</td>\n",
       "      <td>0.297607</td>\n",
       "      <td>0.257392</td>\n",
       "      <td>0.552575</td>\n",
       "    </tr>\n",
       "    <tr>\n",
       "      <th>Individual_46</th>\n",
       "      <td>0.246461</td>\n",
       "      <td>0.610178</td>\n",
       "      <td>0.608729</td>\n",
       "      <td>0.254077</td>\n",
       "      <td>0.677801</td>\n",
       "      <td>0.457852</td>\n",
       "      <td>0.818470</td>\n",
       "    </tr>\n",
       "    <tr>\n",
       "      <th>Individual_6</th>\n",
       "      <td>0.784919</td>\n",
       "      <td>0.823910</td>\n",
       "      <td>0.487563</td>\n",
       "      <td>0.557078</td>\n",
       "      <td>0.500000</td>\n",
       "      <td>0.735242</td>\n",
       "      <td>0.718951</td>\n",
       "    </tr>\n",
       "    <tr>\n",
       "      <th>Individual_5</th>\n",
       "      <td>0.178015</td>\n",
       "      <td>0.386647</td>\n",
       "      <td>0.143816</td>\n",
       "      <td>0.506299</td>\n",
       "      <td>0.734538</td>\n",
       "      <td>0.225195</td>\n",
       "      <td>0.499021</td>\n",
       "    </tr>\n",
       "    <tr>\n",
       "      <th>...</th>\n",
       "      <td>...</td>\n",
       "      <td>...</td>\n",
       "      <td>...</td>\n",
       "      <td>...</td>\n",
       "      <td>...</td>\n",
       "      <td>...</td>\n",
       "      <td>...</td>\n",
       "    </tr>\n",
       "    <tr>\n",
       "      <th>Individual_71</th>\n",
       "      <td>0.308855</td>\n",
       "      <td>0.092796</td>\n",
       "      <td>0.698702</td>\n",
       "      <td>0.509018</td>\n",
       "      <td>0.914254</td>\n",
       "      <td>0.204047</td>\n",
       "      <td>0.053943</td>\n",
       "    </tr>\n",
       "    <tr>\n",
       "      <th>Individual_81</th>\n",
       "      <td>0.013906</td>\n",
       "      <td>0.022566</td>\n",
       "      <td>0.674781</td>\n",
       "      <td>0.499951</td>\n",
       "      <td>0.345552</td>\n",
       "      <td>0.005977</td>\n",
       "      <td>0.273183</td>\n",
       "    </tr>\n",
       "    <tr>\n",
       "      <th>Individual_65</th>\n",
       "      <td>0.052819</td>\n",
       "      <td>0.745841</td>\n",
       "      <td>0.670999</td>\n",
       "      <td>0.179428</td>\n",
       "      <td>0.309162</td>\n",
       "      <td>0.934265</td>\n",
       "      <td>0.470486</td>\n",
       "    </tr>\n",
       "    <tr>\n",
       "      <th>Individual_7</th>\n",
       "      <td>0.955691</td>\n",
       "      <td>0.404287</td>\n",
       "      <td>0.368739</td>\n",
       "      <td>0.520053</td>\n",
       "      <td>0.502277</td>\n",
       "      <td>0.664504</td>\n",
       "      <td>0.501431</td>\n",
       "    </tr>\n",
       "    <tr>\n",
       "      <th>Individual_82</th>\n",
       "      <td>0.563219</td>\n",
       "      <td>0.198165</td>\n",
       "      <td>0.475954</td>\n",
       "      <td>0.631117</td>\n",
       "      <td>0.740163</td>\n",
       "      <td>0.980204</td>\n",
       "      <td>0.076950</td>\n",
       "    </tr>\n",
       "  </tbody>\n",
       "</table>\n",
       "<p>10000 rows × 7 columns</p>\n",
       "</div>"
      ],
      "text/plain": [
       "               unexplainable_1  unexplainable_2  unexplainable_3  \\\n",
       "Individual                                                         \n",
       "Individual_61         0.918024         0.353647         0.398812   \n",
       "Individual_48         0.422734         0.647883         0.618953   \n",
       "Individual_46         0.246461         0.610178         0.608729   \n",
       "Individual_6          0.784919         0.823910         0.487563   \n",
       "Individual_5          0.178015         0.386647         0.143816   \n",
       "...                        ...              ...              ...   \n",
       "Individual_71         0.308855         0.092796         0.698702   \n",
       "Individual_81         0.013906         0.022566         0.674781   \n",
       "Individual_65         0.052819         0.745841         0.670999   \n",
       "Individual_7          0.955691         0.404287         0.368739   \n",
       "Individual_82         0.563219         0.198165         0.475954   \n",
       "\n",
       "               unexplainable_4  if_zebra_then_age  \\\n",
       "Individual                                          \n",
       "Individual_61         0.406362           0.106877   \n",
       "Individual_48         0.580077           0.297607   \n",
       "Individual_46         0.254077           0.677801   \n",
       "Individual_6          0.557078           0.500000   \n",
       "Individual_5          0.506299           0.734538   \n",
       "...                        ...                ...   \n",
       "Individual_71         0.509018           0.914254   \n",
       "Individual_81         0.499951           0.345552   \n",
       "Individual_65         0.179428           0.309162   \n",
       "Individual_7          0.520053           0.502277   \n",
       "Individual_82         0.631117           0.740163   \n",
       "\n",
       "               explained_by_loves_to_sleep  Age_plus_Weight  \n",
       "Individual                                                   \n",
       "Individual_61                     0.487220         0.747860  \n",
       "Individual_48                     0.257392         0.552575  \n",
       "Individual_46                     0.457852         0.818470  \n",
       "Individual_6                      0.735242         0.718951  \n",
       "Individual_5                      0.225195         0.499021  \n",
       "...                                    ...              ...  \n",
       "Individual_71                     0.204047         0.053943  \n",
       "Individual_81                     0.005977         0.273183  \n",
       "Individual_65                     0.934265         0.470486  \n",
       "Individual_7                      0.664504         0.501431  \n",
       "Individual_82                     0.980204         0.076950  \n",
       "\n",
       "[10000 rows x 7 columns]"
      ]
     },
     "execution_count": 12,
     "metadata": {},
     "output_type": "execute_result"
    }
   ],
   "source": [
    "df_observable"
   ]
  },
  {
   "cell_type": "code",
   "execution_count": 13,
   "metadata": {},
   "outputs": [
    {
     "data": {
      "text/html": [
       "<div>\n",
       "<style scoped>\n",
       "    .dataframe tbody tr th:only-of-type {\n",
       "        vertical-align: middle;\n",
       "    }\n",
       "\n",
       "    .dataframe tbody tr th {\n",
       "        vertical-align: top;\n",
       "    }\n",
       "\n",
       "    .dataframe thead th {\n",
       "        text-align: right;\n",
       "    }\n",
       "</style>\n",
       "<table border=\"1\" class=\"dataframe\">\n",
       "  <thead>\n",
       "    <tr style=\"text-align: right;\">\n",
       "      <th></th>\n",
       "      <th>unexplainable_1</th>\n",
       "      <th>unexplainable_2</th>\n",
       "      <th>unexplainable_3</th>\n",
       "      <th>unexplainable_4</th>\n",
       "      <th>if_zebra_then_age</th>\n",
       "      <th>explained_by_loves_to_sleep</th>\n",
       "      <th>Age_plus_Weight</th>\n",
       "    </tr>\n",
       "    <tr>\n",
       "      <th>Individual</th>\n",
       "      <th></th>\n",
       "      <th></th>\n",
       "      <th></th>\n",
       "      <th></th>\n",
       "      <th></th>\n",
       "      <th></th>\n",
       "      <th></th>\n",
       "    </tr>\n",
       "  </thead>\n",
       "  <tbody>\n",
       "    <tr>\n",
       "      <th>Individual_9</th>\n",
       "      <td>0.648777</td>\n",
       "      <td>0.025639</td>\n",
       "      <td>0.581436</td>\n",
       "      <td>0.574393</td>\n",
       "      <td>1.0</td>\n",
       "      <td>0.801653</td>\n",
       "      <td>0.616616</td>\n",
       "    </tr>\n",
       "    <tr>\n",
       "      <th>Individual_9</th>\n",
       "      <td>0.381813</td>\n",
       "      <td>0.181016</td>\n",
       "      <td>0.988856</td>\n",
       "      <td>0.668911</td>\n",
       "      <td>1.0</td>\n",
       "      <td>0.801653</td>\n",
       "      <td>0.616616</td>\n",
       "    </tr>\n",
       "    <tr>\n",
       "      <th>Individual_9</th>\n",
       "      <td>0.474038</td>\n",
       "      <td>0.408185</td>\n",
       "      <td>0.062203</td>\n",
       "      <td>0.556374</td>\n",
       "      <td>1.0</td>\n",
       "      <td>0.801653</td>\n",
       "      <td>0.616616</td>\n",
       "    </tr>\n",
       "    <tr>\n",
       "      <th>Individual_9</th>\n",
       "      <td>0.085661</td>\n",
       "      <td>0.726502</td>\n",
       "      <td>0.917030</td>\n",
       "      <td>0.551992</td>\n",
       "      <td>1.0</td>\n",
       "      <td>0.801653</td>\n",
       "      <td>0.616616</td>\n",
       "    </tr>\n",
       "    <tr>\n",
       "      <th>Individual_9</th>\n",
       "      <td>0.013588</td>\n",
       "      <td>0.627950</td>\n",
       "      <td>0.579517</td>\n",
       "      <td>0.409397</td>\n",
       "      <td>1.0</td>\n",
       "      <td>0.801653</td>\n",
       "      <td>0.616616</td>\n",
       "    </tr>\n",
       "    <tr>\n",
       "      <th>...</th>\n",
       "      <td>...</td>\n",
       "      <td>...</td>\n",
       "      <td>...</td>\n",
       "      <td>...</td>\n",
       "      <td>...</td>\n",
       "      <td>...</td>\n",
       "      <td>...</td>\n",
       "    </tr>\n",
       "    <tr>\n",
       "      <th>Individual_9</th>\n",
       "      <td>0.363745</td>\n",
       "      <td>0.148682</td>\n",
       "      <td>0.365065</td>\n",
       "      <td>0.347813</td>\n",
       "      <td>1.0</td>\n",
       "      <td>0.801653</td>\n",
       "      <td>0.616616</td>\n",
       "    </tr>\n",
       "    <tr>\n",
       "      <th>Individual_9</th>\n",
       "      <td>0.441037</td>\n",
       "      <td>0.436404</td>\n",
       "      <td>0.171856</td>\n",
       "      <td>0.503465</td>\n",
       "      <td>1.0</td>\n",
       "      <td>0.801653</td>\n",
       "      <td>0.616616</td>\n",
       "    </tr>\n",
       "    <tr>\n",
       "      <th>Individual_9</th>\n",
       "      <td>0.915458</td>\n",
       "      <td>0.441345</td>\n",
       "      <td>0.150154</td>\n",
       "      <td>0.547600</td>\n",
       "      <td>1.0</td>\n",
       "      <td>0.801653</td>\n",
       "      <td>0.616616</td>\n",
       "    </tr>\n",
       "    <tr>\n",
       "      <th>Individual_9</th>\n",
       "      <td>0.128833</td>\n",
       "      <td>0.818497</td>\n",
       "      <td>0.010510</td>\n",
       "      <td>0.460240</td>\n",
       "      <td>1.0</td>\n",
       "      <td>0.801653</td>\n",
       "      <td>0.616616</td>\n",
       "    </tr>\n",
       "    <tr>\n",
       "      <th>Individual_9</th>\n",
       "      <td>0.285166</td>\n",
       "      <td>0.913062</td>\n",
       "      <td>0.571636</td>\n",
       "      <td>0.401372</td>\n",
       "      <td>1.0</td>\n",
       "      <td>0.801653</td>\n",
       "      <td>0.616616</td>\n",
       "    </tr>\n",
       "  </tbody>\n",
       "</table>\n",
       "<p>109 rows × 7 columns</p>\n",
       "</div>"
      ],
      "text/plain": [
       "              unexplainable_1  unexplainable_2  unexplainable_3  \\\n",
       "Individual                                                        \n",
       "Individual_9         0.648777         0.025639         0.581436   \n",
       "Individual_9         0.381813         0.181016         0.988856   \n",
       "Individual_9         0.474038         0.408185         0.062203   \n",
       "Individual_9         0.085661         0.726502         0.917030   \n",
       "Individual_9         0.013588         0.627950         0.579517   \n",
       "...                       ...              ...              ...   \n",
       "Individual_9         0.363745         0.148682         0.365065   \n",
       "Individual_9         0.441037         0.436404         0.171856   \n",
       "Individual_9         0.915458         0.441345         0.150154   \n",
       "Individual_9         0.128833         0.818497         0.010510   \n",
       "Individual_9         0.285166         0.913062         0.571636   \n",
       "\n",
       "              unexplainable_4  if_zebra_then_age  explained_by_loves_to_sleep  \\\n",
       "Individual                                                                      \n",
       "Individual_9         0.574393                1.0                     0.801653   \n",
       "Individual_9         0.668911                1.0                     0.801653   \n",
       "Individual_9         0.556374                1.0                     0.801653   \n",
       "Individual_9         0.551992                1.0                     0.801653   \n",
       "Individual_9         0.409397                1.0                     0.801653   \n",
       "...                       ...                ...                          ...   \n",
       "Individual_9         0.347813                1.0                     0.801653   \n",
       "Individual_9         0.503465                1.0                     0.801653   \n",
       "Individual_9         0.547600                1.0                     0.801653   \n",
       "Individual_9         0.460240                1.0                     0.801653   \n",
       "Individual_9         0.401372                1.0                     0.801653   \n",
       "\n",
       "              Age_plus_Weight  \n",
       "Individual                     \n",
       "Individual_9         0.616616  \n",
       "Individual_9         0.616616  \n",
       "Individual_9         0.616616  \n",
       "Individual_9         0.616616  \n",
       "Individual_9         0.616616  \n",
       "...                       ...  \n",
       "Individual_9         0.616616  \n",
       "Individual_9         0.616616  \n",
       "Individual_9         0.616616  \n",
       "Individual_9         0.616616  \n",
       "Individual_9         0.616616  \n",
       "\n",
       "[109 rows x 7 columns]"
      ]
     },
     "execution_count": 13,
     "metadata": {},
     "output_type": "execute_result"
    }
   ],
   "source": [
    "df_observable.loc['Individual_9']"
   ]
  },
  {
   "cell_type": "code",
   "execution_count": 14,
   "metadata": {},
   "outputs": [
    {
     "data": {
      "image/png": "[encoded data removed]",
      "text/plain": [
       "<Figure size 3000x700 with 2 Axes>"
      ]
     },
     "metadata": {},
     "output_type": "display_data"
    },
    {
     "data": {
      "image/png": "[encoded data removed]",
      "text/plain": [
       "<Figure size 2000x1000 with 1 Axes>"
      ]
     },
     "metadata": {},
     "output_type": "display_data"
    },
    {
     "data": {
      "image/png": "[encoded data removed]",
      "text/plain": [
       "<Figure size 2000x1000 with 1 Axes>"
      ]
     },
     "metadata": {},
     "output_type": "display_data"
    }
   ],
   "source": [
    "index_name = 'Individual'\n",
    "my_linkage = 'ward' #'single'\n",
    "\n",
    "from data_preparation import DataPreparator\n",
    "from apply_clustering import ClusteringApplier\n",
    "\n",
    "preparation_result = DataPreparator.prepare_data(\n",
    "    use_config=False,\n",
    "    df_observable=df_observable.reset_index(),\n",
    "    df_explainable=df_explainable.reset_index(),\n",
    "    distortion_mean=0.,\n",
    "    distortion_std=0.001,\n",
    "    observed_features=observed_features,\n",
    "    explaining_features=explaining_features,\n",
    "    nn_imputation_k=10,\n",
    "    group_name=index_name,\n",
    ")\n",
    "optimal_number_of_clusters = ClusteringApplier.draw_gap_statistic_plot(\n",
    "    use_config=False, df_observable=preparation_result['observable_df'],\n",
    "    observed_features=observed_features,\n",
    "    gap_statistic_cluster_range=15,\n",
    "    linkage='ward'\n",
    ")\n",
    "observable_patterns_result = ClusteringApplier.calculate_observable_patterns(\n",
    "    use_config=False,\n",
    "    df_observable_data=preparation_result['observable_df'],\n",
    "    _n_clusters=optimal_number_of_clusters['n_clusters'],\n",
    "    observable_name='observable_name',\n",
    "    observable_feature_names=observed_features,\n",
    "    plot_title='Name of the fingerprint plot',\n",
    "    number_observable_patterns='auto',\n",
    "    distance_measure_fingerprint='jensenshannon',\n",
    "    group_name=index_name, \n",
    "    spiderplot_scaling='minmax',\n",
    "    linkage=my_linkage\n",
    ")"
   ]
  },
  {
   "cell_type": "code",
   "execution_count": 15,
   "metadata": {},
   "outputs": [
    {
     "data": {
      "application/vnd.plotly.v1+json": {
       "config": {
        "plotlyServerURL": "https://plot.ly"
       },
       "data": [
        {
         "fill": "toself",
         "r": [
          0.10214278740387216,
          0.21405793194306783,
          0.16863852288762132,
          0.1019744843325865,
          0.2291132960645163,
          0.10437677500770987,
          0.22264750381955423
         ],
         "subplot": "polar",
         "theta": [
          "unexplainable_1",
          "unexplainable_2",
          "unexplainable_3",
          "unexplainable_4",
          "if_zebra_then_age",
          "explained_by_loves_to_sleep",
          "Age_plus_Weight"
         ],
         "type": "scatterpolar"
        },
        {
         "fill": "toself",
         "r": [
          0.08288013812733133,
          0.12578533866293642,
          0.02204717887405594,
          0.20199283687145692,
          0.15519246500287132,
          0.21774854148148756,
          0.2572887781674782
         ],
         "subplot": "polar2",
         "theta": [
          "unexplainable_1",
          "unexplainable_2",
          "unexplainable_3",
          "unexplainable_4",
          "if_zebra_then_age",
          "explained_by_loves_to_sleep",
          "Age_plus_Weight"
         ],
         "type": "scatterpolar"
        },
        {
         "fill": "toself",
         "r": [
          0.24745968823535291,
          0.2081377667061762,
          0.1523224617017293,
          0.15970765943376453,
          0.12183063297385696,
          0.0936256643625544,
          0.24745968823535291
         ],
         "subplot": "polar3",
         "theta": [
          "unexplainable_1",
          "unexplainable_2",
          "unexplainable_3",
          "unexplainable_4",
          "if_zebra_then_age",
          "explained_by_loves_to_sleep",
          "Age_plus_Weight"
         ],
         "type": "scatterpolar"
        },
        {
         "fill": "toself",
         "r": [
          0.20651099161060957,
          0.3149295838297493,
          0.07616244663079967,
          0.2978911765273103,
          0.000015852562269611198,
          0.23394543888189004,
          0.07096089172746302
         ],
         "subplot": "polar4",
         "theta": [
          "unexplainable_1",
          "unexplainable_2",
          "unexplainable_3",
          "unexplainable_4",
          "if_zebra_then_age",
          "explained_by_loves_to_sleep",
          "Age_plus_Weight"
         ],
         "type": "scatterpolar"
        },
        {
         "fill": "toself",
         "r": [
          0.21168820058340315,
          0.012742589018631007,
          0.21589750542814337,
          0.2521388015508139,
          0.17447474038020533,
          0.00003120507972628013,
          0.21116052214667055
         ],
         "subplot": "polar5",
         "theta": [
          "unexplainable_1",
          "unexplainable_2",
          "unexplainable_3",
          "unexplainable_4",
          "if_zebra_then_age",
          "explained_by_loves_to_sleep",
          "Age_plus_Weight"
         ],
         "type": "scatterpolar"
        },
        {
         "fill": "toself",
         "r": [
          0.2221622227246743,
          0.15843678334663347,
          0.1314835090025248,
          0.01742465574279202,
          0.11669835481575395,
          0.23191330773756824,
          0.19364898667975652
         ],
         "subplot": "polar6",
         "theta": [
          "unexplainable_1",
          "unexplainable_2",
          "unexplainable_3",
          "unexplainable_4",
          "if_zebra_then_age",
          "explained_by_loves_to_sleep",
          "Age_plus_Weight"
         ],
         "type": "scatterpolar"
        },
        {
         "fill": "toself",
         "r": [
          0.05087393403141276,
          0.25406845856414423,
          0.22901148268392035,
          0.019764391967182996,
          0.1302139524750606,
          0.18195809798869894,
          0.1701843023323422
         ],
         "subplot": "polar7",
         "theta": [
          "unexplainable_1",
          "unexplainable_2",
          "unexplainable_3",
          "unexplainable_4",
          "if_zebra_then_age",
          "explained_by_loves_to_sleep",
          "Age_plus_Weight"
         ],
         "type": "scatterpolar"
        },
        {
         "fill": "toself",
         "r": [
          0.041200077916932386,
          0.03892664557045967,
          0.28643183513544535,
          0,
          0.00008520866778566136,
          0.25671238721259376,
          0.09230012353564454
         ],
         "subplot": "polar8",
         "theta": [
          "unexplainable_1",
          "unexplainable_2",
          "unexplainable_3",
          "unexplainable_4",
          "if_zebra_then_age",
          "explained_by_loves_to_sleep",
          "Age_plus_Weight"
         ],
         "type": "scatterpolar"
        },
        {
         "fill": "toself",
         "r": [
          0.22168415014852633,
          0.047616613522126296,
          0,
          0.14331231007034448,
          0.26075289944096725,
          0.11995065224933105,
          0.24711772270175042
         ],
         "subplot": "polar9",
         "theta": [
          "unexplainable_1",
          "unexplainable_2",
          "unexplainable_3",
          "unexplainable_4",
          "if_zebra_then_age",
          "explained_by_loves_to_sleep",
          "Age_plus_Weight"
         ],
         "type": "scatterpolar"
        },
        {
         "fill": "toself",
         "r": [
          0.056986967203922684,
          0,
          0.27571684380642447,
          0.12568191301313072,
          0.17773189545284218,
          0.19356392467183725,
          0.22944711351783773
         ],
         "subplot": "polar10",
         "theta": [
          "unexplainable_1",
          "unexplainable_2",
          "unexplainable_3",
          "unexplainable_4",
          "if_zebra_then_age",
          "explained_by_loves_to_sleep",
          "Age_plus_Weight"
         ],
         "type": "scatterpolar"
        },
        {
         "fill": "toself",
         "r": [
          0.347730778739557,
          0.04266113741107459,
          0.23443911700318237,
          0.18015532886883356,
          0,
          0.1829391703375825,
          0
         ],
         "subplot": "polar11",
         "theta": [
          "unexplainable_1",
          "unexplainable_2",
          "unexplainable_3",
          "unexplainable_4",
          "if_zebra_then_age",
          "explained_by_loves_to_sleep",
          "Age_plus_Weight"
         ],
         "type": "scatterpolar"
        },
        {
         "fill": "toself",
         "r": [
          0.12660691145174885,
          0.2865896989564293,
          0.2620665780392993,
          0.021882642897470623,
          0.15159914334992544,
          0,
          0.1424607264454057
         ],
         "subplot": "polar12",
         "theta": [
          "unexplainable_1",
          "unexplainable_2",
          "unexplainable_3",
          "unexplainable_4",
          "if_zebra_then_age",
          "explained_by_loves_to_sleep",
          "Age_plus_Weight"
         ],
         "type": "scatterpolar"
        },
        {
         "fill": "toself",
         "r": [
          0.044877682943116476,
          0.3351883198932546,
          0.3328420473301861,
          0.1078015362706429,
          0.00035110231504253286,
          0.12663547967768107,
          0.09748072949213808
         ],
         "subplot": "polar13",
         "theta": [
          "unexplainable_1",
          "unexplainable_2",
          "unexplainable_3",
          "unexplainable_4",
          "if_zebra_then_age",
          "explained_by_loves_to_sleep",
          "Age_plus_Weight"
         ],
         "type": "scatterpolar"
        },
        {
         "fill": "toself",
         "r": [
          0,
          0.33617428669850424,
          0.010420047034237372,
          0.4289155442296385,
          0.096038743859049,
          0.03490813686969949,
          0.20147755723151659
         ],
         "subplot": "polar14",
         "theta": [
          "unexplainable_1",
          "unexplainable_2",
          "unexplainable_3",
          "unexplainable_4",
          "if_zebra_then_age",
          "explained_by_loves_to_sleep",
          "Age_plus_Weight"
         ],
         "type": "scatterpolar"
        }
       ],
       "layout": {
        "annotations": [
         {
          "font": {
           "size": 16
          },
          "showarrow": false,
          "text": "Fingerprint 1 (homogeneity: 0.02)",
          "x": 0.175,
          "xanchor": "center",
          "xref": "paper",
          "y": 1,
          "yanchor": "bottom",
          "yref": "paper"
         },
         {
          "font": {
           "size": 16
          },
          "showarrow": false,
          "text": "Fingerprint 2 (homogeneity: 0.02)",
          "x": 0.825,
          "xanchor": "center",
          "xref": "paper",
          "y": 1,
          "yanchor": "bottom",
          "yref": "paper"
         },
         {
          "font": {
           "size": 16
          },
          "showarrow": false,
          "text": "Fingerprint 3 (homogeneity: 0.01)",
          "x": 0.175,
          "xanchor": "center",
          "xref": "paper",
          "y": 0.85,
          "yanchor": "bottom",
          "yref": "paper"
         },
         {
          "font": {
           "size": 16
          },
          "showarrow": false,
          "text": "Fingerprint 4 (homogeneity: 0.11)",
          "x": 0.825,
          "xanchor": "center",
          "xref": "paper",
          "y": 0.85,
          "yanchor": "bottom",
          "yref": "paper"
         },
         {
          "font": {
           "size": 16
          },
          "showarrow": false,
          "text": "Fingerprint 5 (homogeneity: 0.04)",
          "x": 0.175,
          "xanchor": "center",
          "xref": "paper",
          "y": 0.7,
          "yanchor": "bottom",
          "yref": "paper"
         },
         {
          "font": {
           "size": 16
          },
          "showarrow": false,
          "text": "Fingerprint 6 (homogeneity: 0.02)",
          "x": 0.825,
          "xanchor": "center",
          "xref": "paper",
          "y": 0.7,
          "yanchor": "bottom",
          "yref": "paper"
         },
         {
          "font": {
           "size": 16
          },
          "showarrow": false,
          "text": "Fingerprint 7 (homogeneity: 0.02)",
          "x": 0.175,
          "xanchor": "center",
          "xref": "paper",
          "y": 0.55,
          "yanchor": "bottom",
          "yref": "paper"
         },
         {
          "font": {
           "size": 16
          },
          "showarrow": false,
          "text": "Fingerprint 8 (homogeneity: 0.12)",
          "x": 0.825,
          "xanchor": "center",
          "xref": "paper",
          "y": 0.55,
          "yanchor": "bottom",
          "yref": "paper"
         },
         {
          "font": {
           "size": 16
          },
          "showarrow": false,
          "text": "Fingerprint 9 (homogeneity: 0.05)",
          "x": 0.175,
          "xanchor": "center",
          "xref": "paper",
          "y": 0.39999999999999997,
          "yanchor": "bottom",
          "yref": "paper"
         },
         {
          "font": {
           "size": 16
          },
          "showarrow": false,
          "text": "Fingerprint 10 (homogeneity: 0.04)",
          "x": 0.825,
          "xanchor": "center",
          "xref": "paper",
          "y": 0.39999999999999997,
          "yanchor": "bottom",
          "yref": "paper"
         },
         {
          "font": {
           "size": 16
          },
          "showarrow": false,
          "text": "Fingerprint 11 (homogeneity: 0.13)",
          "x": 0.175,
          "xanchor": "center",
          "xref": "paper",
          "y": 0.25,
          "yanchor": "bottom",
          "yref": "paper"
         },
         {
          "font": {
           "size": 16
          },
          "showarrow": false,
          "text": "Fingerprint 12 (homogeneity: 0.04)",
          "x": 0.825,
          "xanchor": "center",
          "xref": "paper",
          "y": 0.25,
          "yanchor": "bottom",
          "yref": "paper"
         },
         {
          "font": {
           "size": 16
          },
          "showarrow": false,
          "text": "Fingerprint 13 (homogeneity: 0.12)",
          "x": 0.175,
          "xanchor": "center",
          "xref": "paper",
          "y": 0.09999999999999999,
          "yanchor": "bottom",
          "yref": "paper"
         },
         {
          "font": {
           "size": 16
          },
          "showarrow": false,
          "text": "Fingerprint 14 (homogeneity: 0.06)",
          "x": 0.825,
          "xanchor": "center",
          "xref": "paper",
          "y": 0.09999999999999999,
          "yanchor": "bottom",
          "yref": "paper"
         }
        ],
        "height": 3500,
        "paper_bgcolor": "rgba(0, 0, 0, 0)",
        "plot_bgcolor": "rgba(0, 0, 0, 0)",
        "polar": {
         "domain": {
          "x": [
           0,
           0.35
          ],
          "y": [
           0.9,
           1
          ]
         },
         "radialaxis": {
          "range": [
           0,
           1
          ],
          "showticklabels": false,
          "visible": true
         }
        },
        "polar10": {
         "domain": {
          "x": [
           0.6499999999999999,
           0.9999999999999999
          ],
          "y": [
           0.3,
           0.39999999999999997
          ]
         },
         "radialaxis": {
          "range": [
           0,
           1
          ],
          "showticklabels": false,
          "visible": true
         }
        },
        "polar11": {
         "domain": {
          "x": [
           0,
           0.35
          ],
          "y": [
           0.15,
           0.25
          ]
         },
         "radialaxis": {
          "range": [
           0,
           1
          ],
          "showticklabels": false,
          "visible": true
         }
        },
        "polar12": {
         "domain": {
          "x": [
           0.6499999999999999,
           0.9999999999999999
          ],
          "y": [
           0.15,
           0.25
          ]
         },
         "radialaxis": {
          "range": [
           0,
           1
          ],
          "showticklabels": false,
          "visible": true
         }
        },
        "polar13": {
         "domain": {
          "x": [
           0,
           0.35
          ],
          "y": [
           0,
           0.09999999999999999
          ]
         },
         "radialaxis": {
          "range": [
           0,
           1
          ],
          "showticklabels": false,
          "visible": true
         }
        },
        "polar14": {
         "domain": {
          "x": [
           0.6499999999999999,
           0.9999999999999999
          ],
          "y": [
           0,
           0.09999999999999999
          ]
         },
         "radialaxis": {
          "range": [
           0,
           1
          ],
          "showticklabels": false,
          "visible": true
         }
        },
        "polar2": {
         "domain": {
          "x": [
           0.6499999999999999,
           0.9999999999999999
          ],
          "y": [
           0.9,
           1
          ]
         },
         "radialaxis": {
          "range": [
           0,
           1
          ],
          "showticklabels": false,
          "visible": true
         }
        },
        "polar3": {
         "domain": {
          "x": [
           0,
           0.35
          ],
          "y": [
           0.75,
           0.85
          ]
         },
         "radialaxis": {
          "range": [
           0,
           1
          ],
          "showticklabels": false,
          "visible": true
         }
        },
        "polar4": {
         "domain": {
          "x": [
           0.6499999999999999,
           0.9999999999999999
          ],
          "y": [
           0.75,
           0.85
          ]
         },
         "radialaxis": {
          "range": [
           0,
           1
          ],
          "showticklabels": false,
          "visible": true
         }
        },
        "polar5": {
         "domain": {
          "x": [
           0,
           0.35
          ],
          "y": [
           0.6,
           0.7
          ]
         },
         "radialaxis": {
          "range": [
           0,
           1
          ],
          "showticklabels": false,
          "visible": true
         }
        },
        "polar6": {
         "domain": {
          "x": [
           0.6499999999999999,
           0.9999999999999999
          ],
          "y": [
           0.6,
           0.7
          ]
         },
         "radialaxis": {
          "range": [
           0,
           1
          ],
          "showticklabels": false,
          "visible": true
         }
        },
        "polar7": {
         "domain": {
          "x": [
           0,
           0.35
          ],
          "y": [
           0.45,
           0.55
          ]
         },
         "radialaxis": {
          "range": [
           0,
           1
          ],
          "showticklabels": false,
          "visible": true
         }
        },
        "polar8": {
         "domain": {
          "x": [
           0.6499999999999999,
           0.9999999999999999
          ],
          "y": [
           0.45,
           0.55
          ]
         },
         "radialaxis": {
          "range": [
           0,
           1
          ],
          "showticklabels": false,
          "visible": true
         }
        },
        "polar9": {
         "domain": {
          "x": [
           0,
           0.35
          ],
          "y": [
           0.3,
           0.39999999999999997
          ]
         },
         "radialaxis": {
          "range": [
           0,
           1
          ],
          "showticklabels": false,
          "visible": true
         }
        },
        "showlegend": false,
        "template": {
         "data": {
          "bar": [
           {
            "error_x": {
             "color": "#2a3f5f"
            },
            "error_y": {
             "color": "#2a3f5f"
            },
            "marker": {
             "line": {
              "color": "#E5ECF6",
              "width": 0.5
             },
             "pattern": {
              "fillmode": "overlay",
              "size": 10,
              "solidity": 0.2
             }
            },
            "type": "bar"
           }
          ],
          "barpolar": [
           {
            "marker": {
             "line": {
              "color": "#E5ECF6",
              "width": 0.5
             },
             "pattern": {
              "fillmode": "overlay",
              "size": 10,
              "solidity": 0.2
             }
            },
            "type": "barpolar"
           }
          ],
          "carpet": [
           {
            "aaxis": {
             "endlinecolor": "#2a3f5f",
             "gridcolor": "white",
             "linecolor": "white",
             "minorgridcolor": "white",
             "startlinecolor": "#2a3f5f"
            },
            "baxis": {
             "endlinecolor": "#2a3f5f",
             "gridcolor": "white",
             "linecolor": "white",
             "minorgridcolor": "white",
             "startlinecolor": "#2a3f5f"
            },
            "type": "carpet"
           }
          ],
          "choropleth": [
           {
            "colorbar": {
             "outlinewidth": 0,
             "ticks": ""
            },
            "type": "choropleth"
           }
          ],
          "contour": [
           {
            "colorbar": {
             "outlinewidth": 0,
             "ticks": ""
            },
            "colorscale": [
             [
              0,
              "#0d0887"
             ],
             [
              0.1111111111111111,
              "#46039f"
             ],
             [
              0.2222222222222222,
              "#7201a8"
             ],
             [
              0.3333333333333333,
              "#9c179e"
             ],
             [
              0.4444444444444444,
              "#bd3786"
             ],
             [
              0.5555555555555556,
              "#d8576b"
             ],
             [
              0.6666666666666666,
              "#ed7953"
             ],
             [
              0.7777777777777778,
              "#fb9f3a"
             ],
             [
              0.8888888888888888,
              "#fdca26"
             ],
             [
              1,
              "#f0f921"
             ]
            ],
            "type": "contour"
           }
          ],
          "contourcarpet": [
           {
            "colorbar": {
             "outlinewidth": 0,
             "ticks": ""
            },
            "type": "contourcarpet"
           }
          ],
          "heatmap": [
           {
            "colorbar": {
             "outlinewidth": 0,
             "ticks": ""
            },
            "colorscale": [
             [
              0,
              "#0d0887"
             ],
             [
              0.1111111111111111,
              "#46039f"
             ],
             [
              0.2222222222222222,
              "#7201a8"
             ],
             [
              0.3333333333333333,
              "#9c179e"
             ],
             [
              0.4444444444444444,
              "#bd3786"
             ],
             [
              0.5555555555555556,
              "#d8576b"
             ],
             [
              0.6666666666666666,
              "#ed7953"
             ],
             [
              0.7777777777777778,
              "#fb9f3a"
             ],
             [
              0.8888888888888888,
              "#fdca26"
             ],
             [
              1,
              "#f0f921"
             ]
            ],
            "type": "heatmap"
           }
          ],
          "heatmapgl": [
           {
            "colorbar": {
             "outlinewidth": 0,
             "ticks": ""
            },
            "colorscale": [
             [
              0,
              "#0d0887"
             ],
             [
              0.1111111111111111,
              "#46039f"
             ],
             [
              0.2222222222222222,
              "#7201a8"
             ],
             [
              0.3333333333333333,
              "#9c179e"
             ],
             [
              0.4444444444444444,
              "#bd3786"
             ],
             [
              0.5555555555555556,
              "#d8576b"
             ],
             [
              0.6666666666666666,
              "#ed7953"
             ],
             [
              0.7777777777777778,
              "#fb9f3a"
             ],
             [
              0.8888888888888888,
              "#fdca26"
             ],
             [
              1,
              "#f0f921"
             ]
            ],
            "type": "heatmapgl"
           }
          ],
          "histogram": [
           {
            "marker": {
             "pattern": {
              "fillmode": "overlay",
              "size": 10,
              "solidity": 0.2
             }
            },
            "type": "histogram"
           }
          ],
          "histogram2d": [
           {
            "colorbar": {
             "outlinewidth": 0,
             "ticks": ""
            },
            "colorscale": [
             [
              0,
              "#0d0887"
             ],
             [
              0.1111111111111111,
              "#46039f"
             ],
             [
              0.2222222222222222,
              "#7201a8"
             ],
             [
              0.3333333333333333,
              "#9c179e"
             ],
             [
              0.4444444444444444,
              "#bd3786"
             ],
             [
              0.5555555555555556,
              "#d8576b"
             ],
             [
              0.6666666666666666,
              "#ed7953"
             ],
             [
              0.7777777777777778,
              "#fb9f3a"
             ],
             [
              0.8888888888888888,
              "#fdca26"
             ],
             [
              1,
              "#f0f921"
             ]
            ],
            "type": "histogram2d"
           }
          ],
          "histogram2dcontour": [
           {
            "colorbar": {
             "outlinewidth": 0,
             "ticks": ""
            },
            "colorscale": [
             [
              0,
              "#0d0887"
             ],
             [
              0.1111111111111111,
              "#46039f"
             ],
             [
              0.2222222222222222,
              "#7201a8"
             ],
             [
              0.3333333333333333,
              "#9c179e"
             ],
             [
              0.4444444444444444,
              "#bd3786"
             ],
             [
              0.5555555555555556,
              "#d8576b"
             ],
             [
              0.6666666666666666,
              "#ed7953"
             ],
             [
              0.7777777777777778,
              "#fb9f3a"
             ],
             [
              0.8888888888888888,
              "#fdca26"
             ],
             [
              1,
              "#f0f921"
             ]
            ],
            "type": "histogram2dcontour"
           }
          ],
          "mesh3d": [
           {
            "colorbar": {
             "outlinewidth": 0,
             "ticks": ""
            },
            "type": "mesh3d"
           }
          ],
          "parcoords": [
           {
            "line": {
             "colorbar": {
              "outlinewidth": 0,
              "ticks": ""
             }
            },
            "type": "parcoords"
           }
          ],
          "pie": [
           {
            "automargin": true,
            "type": "pie"
           }
          ],
          "scatter": [
           {
            "fillpattern": {
             "fillmode": "overlay",
             "size": 10,
             "solidity": 0.2
            },
            "type": "scatter"
           }
          ],
          "scatter3d": [
           {
            "line": {
             "colorbar": {
              "outlinewidth": 0,
              "ticks": ""
             }
            },
            "marker": {
             "colorbar": {
              "outlinewidth": 0,
              "ticks": ""
             }
            },
            "type": "scatter3d"
           }
          ],
          "scattercarpet": [
           {
            "marker": {
             "colorbar": {
              "outlinewidth": 0,
              "ticks": ""
             }
            },
            "type": "scattercarpet"
           }
          ],
          "scattergeo": [
           {
            "marker": {
             "colorbar": {
              "outlinewidth": 0,
              "ticks": ""
             }
            },
            "type": "scattergeo"
           }
          ],
          "scattergl": [
           {
            "marker": {
             "colorbar": {
              "outlinewidth": 0,
              "ticks": ""
             }
            },
            "type": "scattergl"
           }
          ],
          "scattermapbox": [
           {
            "marker": {
             "colorbar": {
              "outlinewidth": 0,
              "ticks": ""
             }
            },
            "type": "scattermapbox"
           }
          ],
          "scatterpolar": [
           {
            "marker": {
             "colorbar": {
              "outlinewidth": 0,
              "ticks": ""
             }
            },
            "type": "scatterpolar"
           }
          ],
          "scatterpolargl": [
           {
            "marker": {
             "colorbar": {
              "outlinewidth": 0,
              "ticks": ""
             }
            },
            "type": "scatterpolargl"
           }
          ],
          "scatterternary": [
           {
            "marker": {
             "colorbar": {
              "outlinewidth": 0,
              "ticks": ""
             }
            },
            "type": "scatterternary"
           }
          ],
          "surface": [
           {
            "colorbar": {
             "outlinewidth": 0,
             "ticks": ""
            },
            "colorscale": [
             [
              0,
              "#0d0887"
             ],
             [
              0.1111111111111111,
              "#46039f"
             ],
             [
              0.2222222222222222,
              "#7201a8"
             ],
             [
              0.3333333333333333,
              "#9c179e"
             ],
             [
              0.4444444444444444,
              "#bd3786"
             ],
             [
              0.5555555555555556,
              "#d8576b"
             ],
             [
              0.6666666666666666,
              "#ed7953"
             ],
             [
              0.7777777777777778,
              "#fb9f3a"
             ],
             [
              0.8888888888888888,
              "#fdca26"
             ],
             [
              1,
              "#f0f921"
             ]
            ],
            "type": "surface"
           }
          ],
          "table": [
           {
            "cells": {
             "fill": {
              "color": "#EBF0F8"
             },
             "line": {
              "color": "white"
             }
            },
            "header": {
             "fill": {
              "color": "#C8D4E3"
             },
             "line": {
              "color": "white"
             }
            },
            "type": "table"
           }
          ]
         },
         "layout": {
          "annotationdefaults": {
           "arrowcolor": "#2a3f5f",
           "arrowhead": 0,
           "arrowwidth": 1
          },
          "autotypenumbers": "strict",
          "coloraxis": {
           "colorbar": {
            "outlinewidth": 0,
            "ticks": ""
           }
          },
          "colorscale": {
           "diverging": [
            [
             0,
             "#8e0152"
            ],
            [
             0.1,
             "#c51b7d"
            ],
            [
             0.2,
             "#de77ae"
            ],
            [
             0.3,
             "#f1b6da"
            ],
            [
             0.4,
             "#fde0ef"
            ],
            [
             0.5,
             "#f7f7f7"
            ],
            [
             0.6,
             "#e6f5d0"
            ],
            [
             0.7,
             "#b8e186"
            ],
            [
             0.8,
             "#7fbc41"
            ],
            [
             0.9,
             "#4d9221"
            ],
            [
             1,
             "#276419"
            ]
           ],
           "sequential": [
            [
             0,
             "#0d0887"
            ],
            [
             0.1111111111111111,
             "#46039f"
            ],
            [
             0.2222222222222222,
             "#7201a8"
            ],
            [
             0.3333333333333333,
             "#9c179e"
            ],
            [
             0.4444444444444444,
             "#bd3786"
            ],
            [
             0.5555555555555556,
             "#d8576b"
            ],
            [
             0.6666666666666666,
             "#ed7953"
            ],
            [
             0.7777777777777778,
             "#fb9f3a"
            ],
            [
             0.8888888888888888,
             "#fdca26"
            ],
            [
             1,
             "#f0f921"
            ]
           ],
           "sequentialminus": [
            [
             0,
             "#0d0887"
            ],
            [
             0.1111111111111111,
             "#46039f"
            ],
            [
             0.2222222222222222,
             "#7201a8"
            ],
            [
             0.3333333333333333,
             "#9c179e"
            ],
            [
             0.4444444444444444,
             "#bd3786"
            ],
            [
             0.5555555555555556,
             "#d8576b"
            ],
            [
             0.6666666666666666,
             "#ed7953"
            ],
            [
             0.7777777777777778,
             "#fb9f3a"
            ],
            [
             0.8888888888888888,
             "#fdca26"
            ],
            [
             1,
             "#f0f921"
            ]
           ]
          },
          "colorway": [
           "#636efa",
           "#EF553B",
           "#00cc96",
           "#ab63fa",
           "#FFA15A",
           "#19d3f3",
           "#FF6692",
           "#B6E880",
           "#FF97FF",
           "#FECB52"
          ],
          "font": {
           "color": "#2a3f5f"
          },
          "geo": {
           "bgcolor": "white",
           "lakecolor": "white",
           "landcolor": "#E5ECF6",
           "showlakes": true,
           "showland": true,
           "subunitcolor": "white"
          },
          "hoverlabel": {
           "align": "left"
          },
          "hovermode": "closest",
          "mapbox": {
           "style": "light"
          },
          "paper_bgcolor": "white",
          "plot_bgcolor": "#E5ECF6",
          "polar": {
           "angularaxis": {
            "gridcolor": "white",
            "linecolor": "white",
            "ticks": ""
           },
           "bgcolor": "#E5ECF6",
           "radialaxis": {
            "gridcolor": "white",
            "linecolor": "white",
            "ticks": ""
           }
          },
          "scene": {
           "xaxis": {
            "backgroundcolor": "#E5ECF6",
            "gridcolor": "white",
            "gridwidth": 2,
            "linecolor": "white",
            "showbackground": true,
            "ticks": "",
            "zerolinecolor": "white"
           },
           "yaxis": {
            "backgroundcolor": "#E5ECF6",
            "gridcolor": "white",
            "gridwidth": 2,
            "linecolor": "white",
            "showbackground": true,
            "ticks": "",
            "zerolinecolor": "white"
           },
           "zaxis": {
            "backgroundcolor": "#E5ECF6",
            "gridcolor": "white",
            "gridwidth": 2,
            "linecolor": "white",
            "showbackground": true,
            "ticks": "",
            "zerolinecolor": "white"
           }
          },
          "shapedefaults": {
           "line": {
            "color": "#2a3f5f"
           }
          },
          "ternary": {
           "aaxis": {
            "gridcolor": "white",
            "linecolor": "white",
            "ticks": ""
           },
           "baxis": {
            "gridcolor": "white",
            "linecolor": "white",
            "ticks": ""
           },
           "bgcolor": "#E5ECF6",
           "caxis": {
            "gridcolor": "white",
            "linecolor": "white",
            "ticks": ""
           }
          },
          "title": {
           "x": 0.05
          },
          "xaxis": {
           "automargin": true,
           "gridcolor": "white",
           "linecolor": "white",
           "ticks": "",
           "title": {
            "standoff": 15
           },
           "zerolinecolor": "white",
           "zerolinewidth": 2
          },
          "yaxis": {
           "automargin": true,
           "gridcolor": "white",
           "linecolor": "white",
           "ticks": "",
           "title": {
            "standoff": 15
           },
           "zerolinecolor": "white",
           "zerolinewidth": 2
          }
         }
        },
        "title": {
         "text": "Name of the fingerprint plot"
        },
        "width": 1000
       }
      }
     },
     "metadata": {},
     "output_type": "display_data"
    }
   ],
   "source": [
    "observable_patterns_result['spider_plots']"
   ]
  },
  {
   "cell_type": "code",
   "execution_count": 16,
   "metadata": {},
   "outputs": [
    {
     "data": {
      "application/vnd.jupyter.widget-view+json": {
       "model_id": "596819febcea418dacb1f70b094baec7",
       "version_major": 2,
       "version_minor": 0
      },
      "text/plain": [
       "  0%|          | 0/502 [00:00<?, ?it/s]"
      ]
     },
     "metadata": {},
     "output_type": "display_data"
    },
    {
     "data": {
      "image/png": "[encoded data removed]",
      "text/plain": [
       "<Figure size 2000x1000 with 1 Axes>"
      ]
     },
     "metadata": {},
     "output_type": "display_data"
    }
   ],
   "source": [
    "calculate_explainable_distances_result = ClusteringApplier.calculate_explainable_distances(\n",
    "    use_config=False,\n",
    "    df_explainable=preparation_result['explainable_df'].copy(),\n",
    "    df_observable_distances=observable_patterns_result['pw_norm_dist'].copy(),\n",
    "    explaining_features=explaining_features,\n",
    "    method='exact',\n",
    "    distance_measure='correlation',\n",
    "    sparsity_parameter=0.01,\n",
    "    max_num_threads=12,\n",
    "    group_name=index_name\n",
    ")"
   ]
  },
  {
   "cell_type": "code",
   "execution_count": 17,
   "metadata": {},
   "outputs": [
    {
     "data": {
      "text/html": [
       "<div>\n",
       "<style scoped>\n",
       "    .dataframe tbody tr th:only-of-type {\n",
       "        vertical-align: middle;\n",
       "    }\n",
       "\n",
       "    .dataframe tbody tr th {\n",
       "        vertical-align: top;\n",
       "    }\n",
       "\n",
       "    .dataframe thead th {\n",
       "        text-align: right;\n",
       "    }\n",
       "</style>\n",
       "<table border=\"1\" class=\"dataframe\">\n",
       "  <thead>\n",
       "    <tr style=\"text-align: right;\">\n",
       "      <th></th>\n",
       "      <th>correlation</th>\n",
       "      <th>Age</th>\n",
       "      <th>Weight</th>\n",
       "      <th>Is_a_Zebra</th>\n",
       "      <th>Loves_to_sleep</th>\n",
       "      <th>Noise_1</th>\n",
       "      <th>Noise_2</th>\n",
       "      <th>Noise_3</th>\n",
       "      <th>Noise_4</th>\n",
       "      <th>Noise_5</th>\n",
       "    </tr>\n",
       "  </thead>\n",
       "  <tbody>\n",
       "    <tr>\n",
       "      <th>0</th>\n",
       "      <td>0.38617</td>\n",
       "      <td>1</td>\n",
       "      <td>0</td>\n",
       "      <td>0</td>\n",
       "      <td>1</td>\n",
       "      <td>0</td>\n",
       "      <td>0</td>\n",
       "      <td>0</td>\n",
       "      <td>0</td>\n",
       "      <td>1</td>\n",
       "    </tr>\n",
       "  </tbody>\n",
       "</table>\n",
       "</div>"
      ],
      "text/plain": [
       "   correlation  Age  Weight  Is_a_Zebra  Loves_to_sleep  Noise_1  Noise_2  \\\n",
       "0      0.38617    1       0           0               1        0        0   \n",
       "\n",
       "   Noise_3  Noise_4  Noise_5  \n",
       "0        0        0        1  "
      ]
     },
     "execution_count": 17,
     "metadata": {},
     "output_type": "execute_result"
    }
   ],
   "source": [
    "calculate_explainable_distances_result['overview_df']"
   ]
  },
  {
   "cell_type": "code",
   "execution_count": 18,
   "metadata": {},
   "outputs": [],
   "source": [
    "def ward_distance(x, y):\n",
    "    # Compute the centroids of the two clusters\n",
    "    centroid_x = torch.mean(x, dim=0)\n",
    "    centroid_y = torch.mean(y, dim=0)\n",
    "\n",
    "    # Compute the variance within each cluster\n",
    "    var_x = torch.sum((x - centroid_x) ** 2) / (x.shape[0] - 1)\n",
    "    var_y = torch.sum((y - centroid_y) ** 2) / (y.shape[0] - 1)\n",
    "\n",
    "    # Compute the variance between the two clusters\n",
    "    var_between = torch.sum((centroid_x - centroid_y) ** 2)\n",
    "\n",
    "    # Compute the Ward distance\n",
    "    return var_between + var_x + var_y"
   ]
  },
  {
   "cell_type": "code",
   "execution_count": 19,
   "metadata": {},
   "outputs": [
    {
     "name": "stdout",
     "output_type": "stream",
     "text": [
      "0       False\n",
      "1       False\n",
      "2       False\n",
      "3        True\n",
      "4       False\n",
      "        ...  \n",
      "9995     True\n",
      "9996     True\n",
      "9997    False\n",
      "9998    False\n",
      "9999    False\n",
      "Name: pattern_type, Length: 10000, dtype: bool\n",
      "0.6924\n",
      "[ 2 11  0  2  1  5  0  8  0  8  9  3  6  0  3  8  1  5  5 12  6 11  9]\n",
      "[10  4  6  2  8  5  0  8  0  1  9  3 12  0  3  8  1  5  5 12  6 12  9]\n"
     ]
    }
   ],
   "source": [
    "keystr = 'df_observable_data'\n",
    "\n",
    "x = torch.tensor(observable_patterns_result[keystr].loc[:, observed_features].to_numpy())\n",
    "y = torch.tensor(observable_patterns_result['df_cluster_median'].to_numpy())\n",
    "\n",
    "alternative = ((x.unsqueeze(1) - y.unsqueeze(0)).pow(2).clamp(min=1e-20)).sum(2).sqrt()\n",
    "\n",
    "vergleich = observable_patterns_result['df_observable_data'].pattern_type == alternative.argmin(dim=1).numpy() #torch.cdist(x, y).argmin(dim=1).numpy()\n",
    "print(vergleich)\n",
    "print(vergleich.sum() / observable_patterns_result[keystr].shape[0])\n",
    "\n",
    "print(alternative.argmin(dim=1).numpy()[:23])\n",
    "print(observable_patterns_result['df_observable_data'].pattern_type[:23].to_numpy())"
   ]
  },
  {
   "cell_type": "code",
   "execution_count": 20,
   "metadata": {},
   "outputs": [],
   "source": [
    "my_df = observable_patterns_result[keystr].copy()\n",
    "my_df = my_df[my_df[\"oversampled\"] == False]"
   ]
  },
  {
   "cell_type": "code",
   "execution_count": 21,
   "metadata": {},
   "outputs": [
    {
     "data": {
      "text/html": [
       "<div>\n",
       "<style scoped>\n",
       "    .dataframe tbody tr th:only-of-type {\n",
       "        vertical-align: middle;\n",
       "    }\n",
       "\n",
       "    .dataframe tbody tr th {\n",
       "        vertical-align: top;\n",
       "    }\n",
       "\n",
       "    .dataframe thead th {\n",
       "        text-align: right;\n",
       "    }\n",
       "</style>\n",
       "<table border=\"1\" class=\"dataframe\">\n",
       "  <thead>\n",
       "    <tr style=\"text-align: right;\">\n",
       "      <th></th>\n",
       "      <th>Individual</th>\n",
       "      <th>unexplainable_1</th>\n",
       "      <th>unexplainable_2</th>\n",
       "      <th>unexplainable_3</th>\n",
       "      <th>unexplainable_4</th>\n",
       "      <th>if_zebra_then_age</th>\n",
       "      <th>explained_by_loves_to_sleep</th>\n",
       "      <th>Age_plus_Weight</th>\n",
       "    </tr>\n",
       "  </thead>\n",
       "  <tbody>\n",
       "    <tr>\n",
       "      <th>0</th>\n",
       "      <td>Individual_61</td>\n",
       "      <td>0.917452</td>\n",
       "      <td>0.352982</td>\n",
       "      <td>0.399570</td>\n",
       "      <td>0.406689</td>\n",
       "      <td>0.106256</td>\n",
       "      <td>0.488065</td>\n",
       "      <td>0.746607</td>\n",
       "    </tr>\n",
       "    <tr>\n",
       "      <th>1</th>\n",
       "      <td>Individual_48</td>\n",
       "      <td>0.422601</td>\n",
       "      <td>0.646902</td>\n",
       "      <td>0.617092</td>\n",
       "      <td>0.579776</td>\n",
       "      <td>0.297247</td>\n",
       "      <td>0.257997</td>\n",
       "      <td>0.553311</td>\n",
       "    </tr>\n",
       "    <tr>\n",
       "      <th>2</th>\n",
       "      <td>Individual_46</td>\n",
       "      <td>0.246925</td>\n",
       "      <td>0.610968</td>\n",
       "      <td>0.607900</td>\n",
       "      <td>0.253348</td>\n",
       "      <td>0.677493</td>\n",
       "      <td>0.456336</td>\n",
       "      <td>0.817746</td>\n",
       "    </tr>\n",
       "    <tr>\n",
       "      <th>3</th>\n",
       "      <td>Individual_6</td>\n",
       "      <td>0.785824</td>\n",
       "      <td>0.826234</td>\n",
       "      <td>0.487825</td>\n",
       "      <td>0.557869</td>\n",
       "      <td>0.500613</td>\n",
       "      <td>0.733922</td>\n",
       "      <td>0.718684</td>\n",
       "    </tr>\n",
       "    <tr>\n",
       "      <th>4</th>\n",
       "      <td>Individual_5</td>\n",
       "      <td>0.177659</td>\n",
       "      <td>0.386834</td>\n",
       "      <td>0.144609</td>\n",
       "      <td>0.504034</td>\n",
       "      <td>0.734109</td>\n",
       "      <td>0.224676</td>\n",
       "      <td>0.499456</td>\n",
       "    </tr>\n",
       "    <tr>\n",
       "      <th>...</th>\n",
       "      <td>...</td>\n",
       "      <td>...</td>\n",
       "      <td>...</td>\n",
       "      <td>...</td>\n",
       "      <td>...</td>\n",
       "      <td>...</td>\n",
       "      <td>...</td>\n",
       "      <td>...</td>\n",
       "    </tr>\n",
       "    <tr>\n",
       "      <th>9995</th>\n",
       "      <td>Individual_71</td>\n",
       "      <td>0.308740</td>\n",
       "      <td>0.092590</td>\n",
       "      <td>0.699719</td>\n",
       "      <td>0.509808</td>\n",
       "      <td>0.913583</td>\n",
       "      <td>0.204071</td>\n",
       "      <td>0.053825</td>\n",
       "    </tr>\n",
       "    <tr>\n",
       "      <th>9996</th>\n",
       "      <td>Individual_81</td>\n",
       "      <td>0.013409</td>\n",
       "      <td>0.022580</td>\n",
       "      <td>0.673934</td>\n",
       "      <td>0.501254</td>\n",
       "      <td>0.345142</td>\n",
       "      <td>0.006827</td>\n",
       "      <td>0.273965</td>\n",
       "    </tr>\n",
       "    <tr>\n",
       "      <th>9997</th>\n",
       "      <td>Individual_65</td>\n",
       "      <td>0.052310</td>\n",
       "      <td>0.745675</td>\n",
       "      <td>0.672998</td>\n",
       "      <td>0.179141</td>\n",
       "      <td>0.309577</td>\n",
       "      <td>0.933875</td>\n",
       "      <td>0.470488</td>\n",
       "    </tr>\n",
       "    <tr>\n",
       "      <th>9998</th>\n",
       "      <td>Individual_7</td>\n",
       "      <td>0.954413</td>\n",
       "      <td>0.403267</td>\n",
       "      <td>0.369469</td>\n",
       "      <td>0.520765</td>\n",
       "      <td>0.502515</td>\n",
       "      <td>0.664814</td>\n",
       "      <td>0.503095</td>\n",
       "    </tr>\n",
       "    <tr>\n",
       "      <th>9999</th>\n",
       "      <td>Individual_82</td>\n",
       "      <td>0.562074</td>\n",
       "      <td>0.196601</td>\n",
       "      <td>0.478012</td>\n",
       "      <td>0.629662</td>\n",
       "      <td>0.737843</td>\n",
       "      <td>0.979961</td>\n",
       "      <td>0.076786</td>\n",
       "    </tr>\n",
       "  </tbody>\n",
       "</table>\n",
       "<p>10000 rows × 8 columns</p>\n",
       "</div>"
      ],
      "text/plain": [
       "         Individual  unexplainable_1  unexplainable_2  unexplainable_3  \\\n",
       "0     Individual_61         0.917452         0.352982         0.399570   \n",
       "1     Individual_48         0.422601         0.646902         0.617092   \n",
       "2     Individual_46         0.246925         0.610968         0.607900   \n",
       "3      Individual_6         0.785824         0.826234         0.487825   \n",
       "4      Individual_5         0.177659         0.386834         0.144609   \n",
       "...             ...              ...              ...              ...   \n",
       "9995  Individual_71         0.308740         0.092590         0.699719   \n",
       "9996  Individual_81         0.013409         0.022580         0.673934   \n",
       "9997  Individual_65         0.052310         0.745675         0.672998   \n",
       "9998   Individual_7         0.954413         0.403267         0.369469   \n",
       "9999  Individual_82         0.562074         0.196601         0.478012   \n",
       "\n",
       "      unexplainable_4  if_zebra_then_age  explained_by_loves_to_sleep  \\\n",
       "0            0.406689           0.106256                     0.488065   \n",
       "1            0.579776           0.297247                     0.257997   \n",
       "2            0.253348           0.677493                     0.456336   \n",
       "3            0.557869           0.500613                     0.733922   \n",
       "4            0.504034           0.734109                     0.224676   \n",
       "...               ...                ...                          ...   \n",
       "9995         0.509808           0.913583                     0.204071   \n",
       "9996         0.501254           0.345142                     0.006827   \n",
       "9997         0.179141           0.309577                     0.933875   \n",
       "9998         0.520765           0.502515                     0.664814   \n",
       "9999         0.629662           0.737843                     0.979961   \n",
       "\n",
       "      Age_plus_Weight  \n",
       "0            0.746607  \n",
       "1            0.553311  \n",
       "2            0.817746  \n",
       "3            0.718684  \n",
       "4            0.499456  \n",
       "...               ...  \n",
       "9995         0.053825  \n",
       "9996         0.273965  \n",
       "9997         0.470488  \n",
       "9998         0.503095  \n",
       "9999         0.076786  \n",
       "\n",
       "[10000 rows x 8 columns]"
      ]
     },
     "execution_count": 21,
     "metadata": {},
     "output_type": "execute_result"
    }
   ],
   "source": [
    "my_df.loc[:, [index_name] + observed_features]"
   ]
  },
  {
   "cell_type": "code",
   "execution_count": 22,
   "metadata": {},
   "outputs": [
    {
     "data": {
      "text/html": [
       "<div>\n",
       "<style scoped>\n",
       "    .dataframe tbody tr th:only-of-type {\n",
       "        vertical-align: middle;\n",
       "    }\n",
       "\n",
       "    .dataframe tbody tr th {\n",
       "        vertical-align: top;\n",
       "    }\n",
       "\n",
       "    .dataframe thead th {\n",
       "        text-align: right;\n",
       "    }\n",
       "</style>\n",
       "<table border=\"1\" class=\"dataframe\">\n",
       "  <thead>\n",
       "    <tr style=\"text-align: right;\">\n",
       "      <th>Individual</th>\n",
       "      <th>Individual_0</th>\n",
       "      <th>Individual_1</th>\n",
       "      <th>Individual_10</th>\n",
       "      <th>Individual_11</th>\n",
       "      <th>Individual_12</th>\n",
       "      <th>Individual_13</th>\n",
       "      <th>Individual_14</th>\n",
       "      <th>Individual_15</th>\n",
       "      <th>Individual_16</th>\n",
       "      <th>Individual_17</th>\n",
       "      <th>...</th>\n",
       "      <th>Individual_90</th>\n",
       "      <th>Individual_91</th>\n",
       "      <th>Individual_92</th>\n",
       "      <th>Individual_93</th>\n",
       "      <th>Individual_94</th>\n",
       "      <th>Individual_95</th>\n",
       "      <th>Individual_96</th>\n",
       "      <th>Individual_97</th>\n",
       "      <th>Individual_98</th>\n",
       "      <th>Individual_99</th>\n",
       "    </tr>\n",
       "    <tr>\n",
       "      <th>Individual</th>\n",
       "      <th></th>\n",
       "      <th></th>\n",
       "      <th></th>\n",
       "      <th></th>\n",
       "      <th></th>\n",
       "      <th></th>\n",
       "      <th></th>\n",
       "      <th></th>\n",
       "      <th></th>\n",
       "      <th></th>\n",
       "      <th></th>\n",
       "      <th></th>\n",
       "      <th></th>\n",
       "      <th></th>\n",
       "      <th></th>\n",
       "      <th></th>\n",
       "      <th></th>\n",
       "      <th></th>\n",
       "      <th></th>\n",
       "      <th></th>\n",
       "      <th></th>\n",
       "    </tr>\n",
       "  </thead>\n",
       "  <tbody>\n",
       "    <tr>\n",
       "      <th>Individual_0</th>\n",
       "      <td>0.000000</td>\n",
       "      <td>0.000137</td>\n",
       "      <td>0.000091</td>\n",
       "      <td>0.000106</td>\n",
       "      <td>0.000120</td>\n",
       "      <td>0.000096</td>\n",
       "      <td>0.000121</td>\n",
       "      <td>0.000067</td>\n",
       "      <td>0.000089</td>\n",
       "      <td>0.000121</td>\n",
       "      <td>...</td>\n",
       "      <td>0.000107</td>\n",
       "      <td>0.000053</td>\n",
       "      <td>0.000105</td>\n",
       "      <td>0.000044</td>\n",
       "      <td>0.000036</td>\n",
       "      <td>0.000119</td>\n",
       "      <td>0.000061</td>\n",
       "      <td>0.000046</td>\n",
       "      <td>0.000136</td>\n",
       "      <td>0.000137</td>\n",
       "    </tr>\n",
       "    <tr>\n",
       "      <th>Individual_1</th>\n",
       "      <td>0.000137</td>\n",
       "      <td>0.000000</td>\n",
       "      <td>0.000139</td>\n",
       "      <td>0.000118</td>\n",
       "      <td>0.000139</td>\n",
       "      <td>0.000139</td>\n",
       "      <td>0.000139</td>\n",
       "      <td>0.000139</td>\n",
       "      <td>0.000139</td>\n",
       "      <td>0.000139</td>\n",
       "      <td>...</td>\n",
       "      <td>0.000139</td>\n",
       "      <td>0.000128</td>\n",
       "      <td>0.000139</td>\n",
       "      <td>0.000136</td>\n",
       "      <td>0.000130</td>\n",
       "      <td>0.000095</td>\n",
       "      <td>0.000132</td>\n",
       "      <td>0.000127</td>\n",
       "      <td>0.000038</td>\n",
       "      <td>0.000019</td>\n",
       "    </tr>\n",
       "    <tr>\n",
       "      <th>Individual_10</th>\n",
       "      <td>0.000091</td>\n",
       "      <td>0.000139</td>\n",
       "      <td>0.000000</td>\n",
       "      <td>0.000139</td>\n",
       "      <td>0.000133</td>\n",
       "      <td>0.000042</td>\n",
       "      <td>0.000134</td>\n",
       "      <td>0.000126</td>\n",
       "      <td>0.000135</td>\n",
       "      <td>0.000134</td>\n",
       "      <td>...</td>\n",
       "      <td>0.000107</td>\n",
       "      <td>0.000087</td>\n",
       "      <td>0.000110</td>\n",
       "      <td>0.000103</td>\n",
       "      <td>0.000099</td>\n",
       "      <td>0.000136</td>\n",
       "      <td>0.000113</td>\n",
       "      <td>0.000088</td>\n",
       "      <td>0.000139</td>\n",
       "      <td>0.000139</td>\n",
       "    </tr>\n",
       "    <tr>\n",
       "      <th>Individual_11</th>\n",
       "      <td>0.000106</td>\n",
       "      <td>0.000118</td>\n",
       "      <td>0.000139</td>\n",
       "      <td>0.000000</td>\n",
       "      <td>0.000139</td>\n",
       "      <td>0.000139</td>\n",
       "      <td>0.000139</td>\n",
       "      <td>0.000076</td>\n",
       "      <td>0.000054</td>\n",
       "      <td>0.000139</td>\n",
       "      <td>...</td>\n",
       "      <td>0.000139</td>\n",
       "      <td>0.000123</td>\n",
       "      <td>0.000139</td>\n",
       "      <td>0.000086</td>\n",
       "      <td>0.000090</td>\n",
       "      <td>0.000121</td>\n",
       "      <td>0.000064</td>\n",
       "      <td>0.000111</td>\n",
       "      <td>0.000117</td>\n",
       "      <td>0.000119</td>\n",
       "    </tr>\n",
       "    <tr>\n",
       "      <th>Individual_12</th>\n",
       "      <td>0.000120</td>\n",
       "      <td>0.000139</td>\n",
       "      <td>0.000133</td>\n",
       "      <td>0.000139</td>\n",
       "      <td>0.000000</td>\n",
       "      <td>0.000119</td>\n",
       "      <td>0.000007</td>\n",
       "      <td>0.000139</td>\n",
       "      <td>0.000139</td>\n",
       "      <td>0.000021</td>\n",
       "      <td>...</td>\n",
       "      <td>0.000051</td>\n",
       "      <td>0.000103</td>\n",
       "      <td>0.000046</td>\n",
       "      <td>0.000135</td>\n",
       "      <td>0.000115</td>\n",
       "      <td>0.000090</td>\n",
       "      <td>0.000135</td>\n",
       "      <td>0.000109</td>\n",
       "      <td>0.000124</td>\n",
       "      <td>0.000133</td>\n",
       "    </tr>\n",
       "  </tbody>\n",
       "</table>\n",
       "<p>5 rows × 100 columns</p>\n",
       "</div>"
      ],
      "text/plain": [
       "Individual     Individual_0  Individual_1  Individual_10  Individual_11  \\\n",
       "Individual                                                                \n",
       "Individual_0       0.000000      0.000137       0.000091       0.000106   \n",
       "Individual_1       0.000137      0.000000       0.000139       0.000118   \n",
       "Individual_10      0.000091      0.000139       0.000000       0.000139   \n",
       "Individual_11      0.000106      0.000118       0.000139       0.000000   \n",
       "Individual_12      0.000120      0.000139       0.000133       0.000139   \n",
       "\n",
       "Individual     Individual_12  Individual_13  Individual_14  Individual_15  \\\n",
       "Individual                                                                  \n",
       "Individual_0        0.000120       0.000096       0.000121       0.000067   \n",
       "Individual_1        0.000139       0.000139       0.000139       0.000139   \n",
       "Individual_10       0.000133       0.000042       0.000134       0.000126   \n",
       "Individual_11       0.000139       0.000139       0.000139       0.000076   \n",
       "Individual_12       0.000000       0.000119       0.000007       0.000139   \n",
       "\n",
       "Individual     Individual_16  Individual_17  ...  Individual_90  \\\n",
       "Individual                                   ...                  \n",
       "Individual_0        0.000089       0.000121  ...       0.000107   \n",
       "Individual_1        0.000139       0.000139  ...       0.000139   \n",
       "Individual_10       0.000135       0.000134  ...       0.000107   \n",
       "Individual_11       0.000054       0.000139  ...       0.000139   \n",
       "Individual_12       0.000139       0.000021  ...       0.000051   \n",
       "\n",
       "Individual     Individual_91  Individual_92  Individual_93  Individual_94  \\\n",
       "Individual                                                                  \n",
       "Individual_0        0.000053       0.000105       0.000044       0.000036   \n",
       "Individual_1        0.000128       0.000139       0.000136       0.000130   \n",
       "Individual_10       0.000087       0.000110       0.000103       0.000099   \n",
       "Individual_11       0.000123       0.000139       0.000086       0.000090   \n",
       "Individual_12       0.000103       0.000046       0.000135       0.000115   \n",
       "\n",
       "Individual     Individual_95  Individual_96  Individual_97  Individual_98  \\\n",
       "Individual                                                                  \n",
       "Individual_0        0.000119       0.000061       0.000046       0.000136   \n",
       "Individual_1        0.000095       0.000132       0.000127       0.000038   \n",
       "Individual_10       0.000136       0.000113       0.000088       0.000139   \n",
       "Individual_11       0.000121       0.000064       0.000111       0.000117   \n",
       "Individual_12       0.000090       0.000135       0.000109       0.000124   \n",
       "\n",
       "Individual     Individual_99  \n",
       "Individual                    \n",
       "Individual_0        0.000137  \n",
       "Individual_1        0.000019  \n",
       "Individual_10       0.000139  \n",
       "Individual_11       0.000119  \n",
       "Individual_12       0.000133  \n",
       "\n",
       "[5 rows x 100 columns]"
      ]
     },
     "execution_count": 22,
     "metadata": {},
     "output_type": "execute_result"
    }
   ],
   "source": [
    "df_observable_distances = observable_patterns_result['pw_norm_dist']\n",
    "df_observable_distances.head()"
   ]
  },
  {
   "cell_type": "code",
   "execution_count": 23,
   "metadata": {},
   "outputs": [],
   "source": [
    "fingerprint_df = ClusteringApplier._calculate_fingerprints(\n",
    "    df = my_df,\n",
    "    group_name = index_name,\n",
    "    use_config=False,\n",
    ")"
   ]
  },
  {
   "cell_type": "code",
   "execution_count": 24,
   "metadata": {},
   "outputs": [],
   "source": [
    "fingerprint_distanzen, normierte_fingerprint_distanzen = ClusteringApplier.calculate_pairwise_fingerprint_distances(\n",
    "    df = fingerprint_df,\n",
    "    distance = 'jensenshannon'\n",
    ")"
   ]
  },
  {
   "cell_type": "code",
   "execution_count": 25,
   "metadata": {},
   "outputs": [],
   "source": [
    "@torch.jit.script\n",
    "def torch_relative_entropy(x:torch.Tensor, y:torch.Tensor) -> torch.Tensor:\n",
    "    return (x * torch.log(x/y))"
   ]
  },
  {
   "cell_type": "code",
   "execution_count": 26,
   "metadata": {},
   "outputs": [],
   "source": [
    "@torch.jit.script\n",
    "def new_torch_matrix_jensenshannon(A:torch.Tensor) -> torch.Tensor:\n",
    "\n",
    "    ########################################################################################\n",
    "    ### Conversion of the jensenshannon distance from scipy.spatial.distance to pytorch. ###\n",
    "    ########################################################################################\n",
    "\n",
    "    \"\"\"\n",
    "    Compute the pairwise Jensen-Shannon distance (metric) between\n",
    "    all entries in a matrix. This is the square root\n",
    "    of the Jensen-Shannon divergence.\n",
    "\n",
    "    The Jensen-Shannon distance between two probability\n",
    "    vectors `p` and `q` is defined as,\n",
    "\n",
    "    .. math::\n",
    "\n",
    "       \\\\sqrt{\\\\frac{D(p \\\\parallel m) + D(q \\\\parallel m)}{2}}\n",
    "\n",
    "    where :math:`m` is the pointwise mean of :math:`p` and :math:`q`\n",
    "    and :math:`D` is the Kullback-Leibler divergence.\n",
    "\n",
    "    This routine will normalize `p` and `q` if they don't sum to 1.0.\n",
    "\n",
    "    Parameters\n",
    "    ----------\n",
    "    A : (N,M) array_like\n",
    "        matrix of probability vectors\n",
    "    \n",
    "    Returns\n",
    "    -------\n",
    "    js : double or ndarray\n",
    "        The Jensen-Shannon distances along the `axis`.\n",
    "\n",
    "    \"\"\"\n",
    "    \n",
    "    clamped_A = A.clamp(min = 1e-20)\n",
    "    normalized_A = clamped_A / torch.sum(clamped_A, dim=1).unsqueeze(-1)\n",
    "    m_A = (normalized_A.unsqueeze(-1) + normalized_A.T).permute(2,0,1) / 2.0\n",
    "    relative_entropies = torch_relative_entropy(normalized_A, m_A) + 1e-10\n",
    "    js = (relative_entropies.sum(dim = 2) + relative_entropies.sum(dim = 2).T).clamp(min = 0.)\n",
    "    return (js / 2.0).sqrt()"
   ]
  },
  {
   "cell_type": "code",
   "execution_count": 229,
   "metadata": {},
   "outputs": [],
   "source": [
    "class FeatureSelectionModel(Paremeterized_Model):\n",
    "    def __init__(self, df_explainable:pd.DataFrame, df_observable:pd.DataFrame, df_cluster:pd.DataFrame|torch.Tensor, index_name:str, num_samples:int=1, power:int=4, penalty=0., device='cpu', clip_value=0, dtype=torch.float64):\n",
    "        super().__init__(device, dtype)\n",
    "\n",
    "        self.df_explainable = df_explainable.copy()\n",
    "        self.df_explainable.sort_index(inplace=True)\n",
    "\n",
    "        self.df_observable = df_observable.copy()\n",
    "        self.df_observable.sort_values(index_name, inplace=True)\n",
    "        self.df_observable.reset_index(inplace=True, drop=True)\n",
    "\n",
    "        self.tensor_explainable = torch.tensor(self.df_explainable.to_numpy(), dtype=self.dtype, device=self.device).clamp(min=1e-20, max=1.)\n",
    "        self.tensor_observable  = torch.tensor(self.df_observable.set_index(index_name).to_numpy(), dtype=self.dtype, device=self.device).clamp(min=1e-20, max=1.)\n",
    "\n",
    "        if isinstance(df_cluster, pd.DataFrame):\n",
    "            self.cluster_positions  = torch.tensor(df_cluster.to_numpy(), dtype=self.dtype, device=self.device).clamp(min=1e-20)\n",
    "        else:\n",
    "            self.cluster_positions = df_cluster.to(self.dtype).to(self.device)\n",
    "\n",
    "        self.unique_groups = sorted(self.df_observable.loc[:, index_name].unique())\n",
    "        self.number_of_groups = len(self.unique_groups)\n",
    "        self.number_of_observations = self.df_observable.shape[0]\n",
    "        self.mask_tensor = torch.zeros((self.number_of_observations, self.number_of_groups), device=self.device, dtype=self.dtype)\n",
    "\n",
    "        for name, i in zip(self.unique_groups, np.arange(len(self.unique_groups))):\n",
    "            _masking_list = (list(self.df_observable.query(f'{index_name} == \"{name}\"').index))\n",
    "            self.mask_tensor[_masking_list, i] = 1.\n",
    "            if name == 'Individual_0':\n",
    "                self.masking_1 = _masking_list\n",
    "\n",
    "        # Some sanity check\n",
    "        for name, i in zip(self.unique_groups, np.arange(len(self.unique_groups))):\n",
    "            lis = (self.mask_tensor.unsqueeze(2) * self.tensor_observable.unsqueeze(1))[:, i, :].nonzero()[:, 0].unique().numpy()\n",
    "            a = self.df_observable.iloc[lis].loc[:, index_name]\n",
    "            assert (a == name).all(), f'Failed sanity check for \"{name}\": {a}'\n",
    "\n",
    "        self.power = power\n",
    "\n",
    "        self.feature_names = list(self.df_explainable.columns)\n",
    "        self.observation_names = list(df_observable.set_index(index_name).columns)\n",
    "\n",
    "        self.penalty = torch.tensor(penalty, device=self.device, dtype=self.dtype)\n",
    "        self.num_samples = num_samples\n",
    "        \n",
    "        self._add_sigmoid_param('feature_weights', N=len(self.feature_names), value=0.500, noise=0.100)\n",
    "        self._add_sigmoid_param('observation_weights', N=len(self.observation_names), value=0.500, noise=0.250)\n",
    "\n",
    "        self.add_param('cluster_positions', self.cluster_positions.logit(), lambda x: x.sigmoid())\n",
    "        \n",
    "        self.best_loss = None \n",
    "        self.best_feature_weights = None\n",
    "        self.best_observation_weights = None\n",
    "\n",
    "        if clip_value > 0:\n",
    "            for p in self.parameters.parameters():\n",
    "                print(p)\n",
    "                p.register_hook(lambda grad: torch.clamp(grad, -clip_value, clip_value))\n",
    " \n",
    "\n",
    "    def _add_param_from_mean_std(self, param_name='', N=1, mean=0.5, std=0.05, noise=0.1):\n",
    "        alpha, beta = mean_std_to_beta_params(mean, std)\n",
    "        \n",
    "        noise_1 = torch.rand(N)\n",
    "        noise_2 = torch.rand(N)\n",
    "\n",
    "        feature_alpha_init = alpha * torch.ones(N) * (1.-noise) + noise_1 * noise\n",
    "        feature_beta_init  = beta  * torch.ones(N) * (1.-noise) + noise_2 * noise\n",
    "\n",
    "        self.add_param(f'{param_name}_alpha', torch.log(feature_alpha_init), lambda x: x.exp())\n",
    "        self.add_param(f'{param_name}_beta',  torch.log(feature_beta_init),  lambda x: x.exp())\n",
    "\n",
    "    def _add_sigmoid_param(self, param_name='', N=1, value=None, noise=0.1):\n",
    "\n",
    "        noise_1 = torch.rand(N)\n",
    "        noisy_value = value * torch.ones(N) * (1.-noise) + noise_1 * noise\n",
    "        init_value = torch.logit(noisy_value)\n",
    "\n",
    "        self.add_param(param_name, init_value, lambda x: x.sigmoid()) # [-1., 1.] --> [0, 2]\n",
    "        #foo = lambda x: x/(1+x.abs())\n",
    "        #self.add_param(param_name, init_value, lambda x: (foo(x) + 1.)/2.)\n",
    "\n",
    "    def get_weights(self) -> dict:\n",
    "        w = self.best_feature_weights\n",
    "        feature_dict = {\n",
    "            feature_name:float(weight) for feature_name, weight in zip(self.feature_names, w)\n",
    "        }\n",
    "        v = self.best_observation_weights\n",
    "        observation_dict = {\n",
    "            feature_name:float(weight) for feature_name, weight in zip(self.observation_names, v)\n",
    "        }\n",
    "        return feature_dict, observation_dict\n",
    "        \n",
    "    def save_if_best_loss(self, loss, feature_weights, observation_weights, cluster_positions):\n",
    "        if self.best_loss is None:\n",
    "            self.best_loss = loss.clone().detach()\n",
    "            self.best_feature_weights = feature_weights.clone().detach()\n",
    "            self.best_observation_weights = 1.00 + 1e-6 - observation_weights.clone().detach()\n",
    "            self.best_cluster_positions = cluster_positions.clone().detach()\n",
    "        elif loss < self.best_loss:\n",
    "            self.best_loss = loss.clone().detach()\n",
    "            self.best_feature_weights = feature_weights.clone().detach()\n",
    "            self.best_observation_weights = 1.00 + 1e-6 - observation_weights.clone().detach()\n",
    "            self.best_cluster_positions = cluster_positions.clone().detach()\n",
    "    \n",
    "    def plot(self):\n",
    "\n",
    "        feature_weights = self.constrained('feature_weights').clone().detach().unsqueeze(0).numpy()\n",
    "        observation_weights = self.constrained('observation_weights').clone().detach().unsqueeze(0).numpy()\n",
    "        inv_observation_weights = 1.00 + 1e-6 - observation_weights \n",
    "\n",
    "        feature_weight_df = pd.DataFrame({self.feature_names[i]:feature_weights[:, i] for i in range(len(self.feature_names))})\n",
    "        observation_weight_df = pd.DataFrame({self.observation_names[i]:inv_observation_weights[:, i] for i in range(len(self.observation_names))})\n",
    "\n",
    "        plt.figure(figsize=(10, 5))\n",
    "        ax1 = sns.barplot(feature_weight_df)\n",
    "        ax1.axes.xaxis.set_tick_params(rotation=90)\n",
    "        ax1.set_title('Feature Weights')\n",
    "        plt.figure(figsize=(10, 5))\n",
    "        ax2 = sns.barplot(observation_weight_df)\n",
    "        ax2.axes.xaxis.set_tick_params(rotation=90)\n",
    "        ax2.set_title('Observation Weights') \n",
    "\n",
    "    def sample_fingerprints(self, inv_observation_weights, cluster_positions):\n",
    "        epsilon = 1e-20\n",
    "        _dist = ((self.tensor_observable.unsqueeze(1) - cluster_positions.unsqueeze(0)).pow(2).clamp(min=epsilon) * inv_observation_weights).sum(2).sqrt()\n",
    "        norm_dist = (_dist / _dist.sum(dim=1).unsqueeze(-1))\n",
    "        masked_norm_dist = (self.mask_tensor.unsqueeze(2) * norm_dist.unsqueeze(1))\n",
    "        accumulated_norm_dist = masked_norm_dist.sum(dim=0)\n",
    "        fingerprint_distances = accumulated_norm_dist / accumulated_norm_dist.sum(dim=1).unsqueeze(-1)\n",
    "        pow_fingerprints = ((fingerprint_distances.clamp(min=epsilon))**-1).pow(self.power) \n",
    "        sampled_fingerprints = Dirichlet(pow_fingerprints).rsample([self.num_samples]).mean(dim=0)\n",
    "        return sampled_fingerprints\n",
    "\n",
    "    def loss(self, data:torch.Tensor|None=None) -> torch.tensor:\n",
    "\n",
    "        # feature_weights\n",
    "        feature_weights = self.constrained('feature_weights')\n",
    "\n",
    "        # observation_weights\n",
    "        observation_weights = self.constrained('observation_weights')\n",
    "        inv_observation_weights = 1.00 + 1e-6 - observation_weights \n",
    "\n",
    "        # cluster positions\n",
    "        cluster_positions = self.constrained('cluster_positions').clamp(min = 1e-10, max=1e10)\n",
    "\n",
    "        # fingerprints\n",
    "        sampled_fingerprints = self.sample_fingerprints(inv_observation_weights, cluster_positions)\n",
    "\n",
    "        # Construct the distance matrix for the fingerprints\n",
    "        fingerprint_distances = new_torch_matrix_jensenshannon(sampled_fingerprints)\n",
    "\n",
    "        # Construct the distance matrix for the features\n",
    "        feature_distances = construct_distance_matrix(A=self.tensor_explainable, feature_weights=feature_weights)\n",
    "\n",
    "        # Calculate the correlation between the distance matrix and the observable distances\n",
    "        coef = pearson_corrcoef(feature_distances, fingerprint_distances)\n",
    "\n",
    "        #k_penalty = (feature_weights.sum() * self.penalty)\n",
    "\n",
    "        # Loss\n",
    "        loss = -coef #+ k_penalty\n",
    "\n",
    "        self.save_if_best_loss(loss, feature_weights, observation_weights, cluster_positions)\n",
    "\n",
    "        return loss\n"
   ]
  },
  {
   "cell_type": "code",
   "execution_count": 861,
   "metadata": {},
   "outputs": [],
   "source": [
    "model = next_model"
   ]
  },
  {
   "cell_type": "code",
   "execution_count": 1022,
   "metadata": {},
   "outputs": [
    {
     "data": {
      "text/plain": [
       "({'Age': 0.9857823903240139,\n",
       "  'Weight': 6.390699987855406e-06,\n",
       "  'Is_a_Zebra': 0.0007576475932205645,\n",
       "  'Noise_1': 1.5977788241059233e-05,\n",
       "  'Noise_2': 2.2294118943519341e-07,\n",
       "  'Noise_3': 3.93084986339564e-09,\n",
       "  'Noise_4': 4.52687484465697e-06,\n",
       "  'Noise_5': 2.493867813429744e-09},\n",
       " {'unexplainable_1': 1.9648447372566658e-05,\n",
       "  'unexplainable_2': 2.648119586656783e-05,\n",
       "  'unexplainable_3': 4.236718527006467e-06,\n",
       "  'unexplainable_4': 0.8252672335684343,\n",
       "  'if_zebra_then_age': 0.9473910302290504,\n",
       "  'Age_plus_Weight': 0.7655447470292521})"
      ]
     },
     "execution_count": 1022,
     "metadata": {},
     "output_type": "execute_result"
    }
   ],
   "source": [
    "model.get_weights()"
   ]
  },
  {
   "cell_type": "code",
   "execution_count": 1117,
   "metadata": {},
   "outputs": [
    {
     "data": {
      "text/plain": [
       "tensor([1.9648e-05, 2.6481e-05, 4.2367e-06, 8.2527e-01, 9.4739e-01, 7.6554e-01],\n",
       "       dtype=torch.float64)"
      ]
     },
     "execution_count": 1117,
     "metadata": {},
     "output_type": "execute_result"
    }
   ],
   "source": [
    "model.best_observation_weights"
   ]
  },
  {
   "cell_type": "code",
   "execution_count": 1118,
   "metadata": {},
   "outputs": [],
   "source": [
    "my_feature_weights = model.best_feature_weights"
   ]
  },
  {
   "cell_type": "code",
   "execution_count": 1119,
   "metadata": {},
   "outputs": [],
   "source": [
    "my_feature_weights\n",
    "my_feature_weights = torch.tensor([0.999, 1e-7, 0.999, 1e-7, 1e-7, 1e-7, 1e-7, 1e-7])"
   ]
  },
  {
   "cell_type": "code",
   "execution_count": 1120,
   "metadata": {},
   "outputs": [],
   "source": [
    "model.best_observation_weights\n",
    "my_observation_weights = torch.tensor([1e-7, 1e-7, 1e-7, 1e-7, 0.999, 1e-7])#model.best_observation_weights"
   ]
  },
  {
   "cell_type": "code",
   "execution_count": 1121,
   "metadata": {},
   "outputs": [],
   "source": [
    "my_observation_weights = model.best_observation_weights"
   ]
  },
  {
   "cell_type": "code",
   "execution_count": 1122,
   "metadata": {},
   "outputs": [
    {
     "data": {
      "text/plain": [
       "torch.Size([100, 100])"
      ]
     },
     "execution_count": 1122,
     "metadata": {},
     "output_type": "execute_result"
    }
   ],
   "source": [
    "sampled_fingerprints = model.sample_fingerprints(model.best_observation_weights, model.best_cluster_positions)\n",
    "fingerprint_distances = new_torch_matrix_jensenshannon(sampled_fingerprints)\n",
    "fingerprint_distances.shape"
   ]
  },
  {
   "cell_type": "code",
   "execution_count": 1123,
   "metadata": {},
   "outputs": [],
   "source": [
    "fdm1 = construct_distance_matrix(A=model.tensor_explainable, feature_weights=my_feature_weights)"
   ]
  },
  {
   "cell_type": "code",
   "execution_count": 1124,
   "metadata": {},
   "outputs": [],
   "source": [
    "fdm2 = construct_distance_matrix(A=model.tensor_explainable * my_feature_weights, feature_weights=torch.tensor(1.))"
   ]
  },
  {
   "cell_type": "code",
   "execution_count": 1125,
   "metadata": {},
   "outputs": [
    {
     "data": {
      "text/plain": [
       "tensor(0.4031, dtype=torch.float64)"
      ]
     },
     "execution_count": 1125,
     "metadata": {},
     "output_type": "execute_result"
    }
   ],
   "source": [
    "pearson_corrcoef(fdm1, fingerprint_distances)"
   ]
  },
  {
   "cell_type": "code",
   "execution_count": 1126,
   "metadata": {},
   "outputs": [
    {
     "data": {
      "text/plain": [
       "tensor(0.3804, dtype=torch.float64)"
      ]
     },
     "execution_count": 1126,
     "metadata": {},
     "output_type": "execute_result"
    }
   ],
   "source": [
    "pearson_corrcoef(fdm2, fingerprint_distances)"
   ]
  },
  {
   "cell_type": "code",
   "execution_count": 1127,
   "metadata": {},
   "outputs": [
    {
     "data": {
      "text/plain": [
       "Age           0.499472\n",
       "Weight        0.247384\n",
       "Is_a_Zebra    0.998564\n",
       "Noise_1       0.629392\n",
       "Noise_2       0.437682\n",
       "Noise_3       0.845553\n",
       "Noise_4       0.969373\n",
       "Noise_5       0.118447\n",
       "Name: Individual_87, dtype: float64"
      ]
     },
     "execution_count": 1127,
     "metadata": {},
     "output_type": "execute_result"
    }
   ],
   "source": [
    "model.df_explainable.iloc[86]"
   ]
  },
  {
   "cell_type": "code",
   "execution_count": 1128,
   "metadata": {},
   "outputs": [
    {
     "data": {
      "text/html": [
       "<div>\n",
       "<style scoped>\n",
       "    .dataframe tbody tr th:only-of-type {\n",
       "        vertical-align: middle;\n",
       "    }\n",
       "\n",
       "    .dataframe tbody tr th {\n",
       "        vertical-align: top;\n",
       "    }\n",
       "\n",
       "    .dataframe thead th {\n",
       "        text-align: right;\n",
       "    }\n",
       "</style>\n",
       "<table border=\"1\" class=\"dataframe\">\n",
       "  <thead>\n",
       "    <tr style=\"text-align: right;\">\n",
       "      <th></th>\n",
       "      <th>Age</th>\n",
       "      <th>Weight</th>\n",
       "      <th>Is_a_Zebra</th>\n",
       "      <th>Noise_1</th>\n",
       "      <th>Noise_2</th>\n",
       "      <th>Noise_3</th>\n",
       "      <th>Noise_4</th>\n",
       "      <th>Noise_5</th>\n",
       "    </tr>\n",
       "    <tr>\n",
       "      <th>Individual</th>\n",
       "      <th></th>\n",
       "      <th></th>\n",
       "      <th></th>\n",
       "      <th></th>\n",
       "      <th></th>\n",
       "      <th></th>\n",
       "      <th></th>\n",
       "      <th></th>\n",
       "    </tr>\n",
       "  </thead>\n",
       "  <tbody>\n",
       "    <tr>\n",
       "      <th>Individual_25</th>\n",
       "      <td>-0.001811</td>\n",
       "      <td>0.802471</td>\n",
       "      <td>0.999542</td>\n",
       "      <td>0.00027</td>\n",
       "      <td>0.530347</td>\n",
       "      <td>0.311026</td>\n",
       "      <td>0.31275</td>\n",
       "      <td>0.941873</td>\n",
       "    </tr>\n",
       "  </tbody>\n",
       "</table>\n",
       "</div>"
      ],
      "text/plain": [
       "                    Age    Weight  Is_a_Zebra  Noise_1   Noise_2   Noise_3  \\\n",
       "Individual                                                                   \n",
       "Individual_25 -0.001811  0.802471    0.999542  0.00027  0.530347  0.311026   \n",
       "\n",
       "               Noise_4   Noise_5  \n",
       "Individual                        \n",
       "Individual_25  0.31275  0.941873  "
      ]
     },
     "execution_count": 1128,
     "metadata": {},
     "output_type": "execute_result"
    }
   ],
   "source": [
    "#mi = model.df_explainable.Loves_to_sleep.min()\n",
    "#p = model.df_explainable.query(f'Loves_to_sleep == {mi}')\n",
    "mi = model.df_explainable.Age.min()\n",
    "p = model.df_explainable.query(f'Age == {mi}')\n",
    "p"
   ]
  },
  {
   "cell_type": "code",
   "execution_count": 1129,
   "metadata": {},
   "outputs": [
    {
     "data": {
      "text/html": [
       "<div>\n",
       "<style scoped>\n",
       "    .dataframe tbody tr th:only-of-type {\n",
       "        vertical-align: middle;\n",
       "    }\n",
       "\n",
       "    .dataframe tbody tr th {\n",
       "        vertical-align: top;\n",
       "    }\n",
       "\n",
       "    .dataframe thead th {\n",
       "        text-align: right;\n",
       "    }\n",
       "</style>\n",
       "<table border=\"1\" class=\"dataframe\">\n",
       "  <thead>\n",
       "    <tr style=\"text-align: right;\">\n",
       "      <th></th>\n",
       "      <th>Age</th>\n",
       "      <th>Weight</th>\n",
       "      <th>Is_a_Zebra</th>\n",
       "      <th>Noise_1</th>\n",
       "      <th>Noise_2</th>\n",
       "      <th>Noise_3</th>\n",
       "      <th>Noise_4</th>\n",
       "      <th>Noise_5</th>\n",
       "    </tr>\n",
       "    <tr>\n",
       "      <th>Individual</th>\n",
       "      <th></th>\n",
       "      <th></th>\n",
       "      <th></th>\n",
       "      <th></th>\n",
       "      <th></th>\n",
       "      <th></th>\n",
       "      <th></th>\n",
       "      <th></th>\n",
       "    </tr>\n",
       "  </thead>\n",
       "  <tbody>\n",
       "    <tr>\n",
       "      <th>Individual_63</th>\n",
       "      <td>1.002025</td>\n",
       "      <td>0.097236</td>\n",
       "      <td>0.999748</td>\n",
       "      <td>0.934427</td>\n",
       "      <td>0.810331</td>\n",
       "      <td>0.688965</td>\n",
       "      <td>0.633527</td>\n",
       "      <td>0.261519</td>\n",
       "    </tr>\n",
       "  </tbody>\n",
       "</table>\n",
       "</div>"
      ],
      "text/plain": [
       "                    Age    Weight  Is_a_Zebra   Noise_1   Noise_2   Noise_3  \\\n",
       "Individual                                                                    \n",
       "Individual_63  1.002025  0.097236    0.999748  0.934427  0.810331  0.688965   \n",
       "\n",
       "                Noise_4   Noise_5  \n",
       "Individual                         \n",
       "Individual_63  0.633527  0.261519  "
      ]
     },
     "execution_count": 1129,
     "metadata": {},
     "output_type": "execute_result"
    }
   ],
   "source": [
    "#ma = model.df_explainable.Loves_to_sleep.max()\n",
    "#q = model.df_explainable.query(f'Loves_to_sleep == {ma}')\n",
    "ma = model.df_explainable.Age.max()\n",
    "q = model.df_explainable.query(f'Age == {ma}')\n",
    "q"
   ]
  },
  {
   "cell_type": "code",
   "execution_count": 1130,
   "metadata": {},
   "outputs": [],
   "source": [
    "lowest_value_index = model.df_explainable.reset_index().query(f'Individual == \"{p.iloc[0].name}\"').index[0]\n",
    "highest_value_index = model.df_explainable.reset_index().query(f'Individual == \"{q.iloc[0].name}\"').index[0]"
   ]
  },
  {
   "cell_type": "code",
   "execution_count": 1131,
   "metadata": {},
   "outputs": [],
   "source": [
    "rndm = np.random.randint(0, 99)"
   ]
  },
  {
   "cell_type": "code",
   "execution_count": 1132,
   "metadata": {},
   "outputs": [
    {
     "data": {
      "text/plain": [
       "(np.float64(0.0), np.float64(6.0))"
      ]
     },
     "execution_count": 1132,
     "metadata": {},
     "output_type": "execute_result"
    }
   ],
   "source": [
    "# low->low, low->high\n",
    "(fdm1[lowest_value_index][lowest_value_index].numpy() * 100000).round(0), (fdm1[lowest_value_index][highest_value_index].numpy() * 100000).round(0)"
   ]
  },
  {
   "cell_type": "code",
   "execution_count": 1133,
   "metadata": {},
   "outputs": [
    {
     "data": {
      "text/plain": [
       "(np.float64(6.0), np.float64(0.0))"
      ]
     },
     "execution_count": 1133,
     "metadata": {},
     "output_type": "execute_result"
    }
   ],
   "source": [
    "# high->low, high->high\n",
    "(fdm1[highest_value_index][lowest_value_index].numpy() * 100000).round(0), (fdm1[highest_value_index][highest_value_index].numpy() * 100000).round(0)"
   ]
  },
  {
   "cell_type": "code",
   "execution_count": 1134,
   "metadata": {},
   "outputs": [
    {
     "data": {
      "text/plain": [
       "(np.float64(21.0), np.float64(6.0))"
      ]
     },
     "execution_count": 1134,
     "metadata": {},
     "output_type": "execute_result"
    }
   ],
   "source": [
    "# rndm->low, rndm->high\n",
    "(fdm1[rndm][lowest_value_index].numpy() * 100000).round(0), (fdm1[rndm][highest_value_index].numpy() * 100000).round(0)"
   ]
  },
  {
   "cell_type": "code",
   "execution_count": 1135,
   "metadata": {},
   "outputs": [
    {
     "data": {
      "text/plain": [
       "(np.float64(22.0), np.float64(6.0))"
      ]
     },
     "execution_count": 1135,
     "metadata": {},
     "output_type": "execute_result"
    }
   ],
   "source": [
    "(fdm2[rndm][lowest_value_index].numpy() * 100000).round(0), (fdm2[rndm][highest_value_index].numpy() * 100000).round(0)"
   ]
  },
  {
   "cell_type": "code",
   "execution_count": 1136,
   "metadata": {},
   "outputs": [
    {
     "data": {
      "text/plain": [
       "(np.float64(742.0), np.float64(37.0))"
      ]
     },
     "execution_count": 1136,
     "metadata": {},
     "output_type": "execute_result"
    }
   ],
   "source": [
    "(fingerprint_distances[rndm][lowest_value_index].numpy() * 1000).round(0), (fingerprint_distances[rndm][highest_value_index].numpy() * 1000).round(0)"
   ]
  },
  {
   "cell_type": "code",
   "execution_count": 1145,
   "metadata": {},
   "outputs": [
    {
     "data": {
      "text/plain": [
       "array([ 0., 21.,  6., 13., 11.,  6., 11., 11., 11., 11., 21.,  0.,  6.,\n",
       "        6., 21., 11., 21.,  0., 21., 21., 21., 10., 21.,  0., 21.,  0.,\n",
       "       11.,  0.,  0.,  0., 21., 21., 11., 21., 11.,  0., 21., 21., 11.,\n",
       "       11., 11.,  0., 11.,  0.,  0.,  0., 21.,  0., 11.,  0., 21., 21.,\n",
       "       11., 21.,  0.,  6., 11., 21.,  0.,  0.,  6.,  0.,  0.,  0., 21.,\n",
       "        6.,  0., 18., 21., 21., 11., 21.,  6., 21., 21.,  0.,  0.,  0.,\n",
       "        5.,  0., 21., 20., 21., 21., 10.,  0., 11.,  0.,  5.,  6.,  0.,\n",
       "        0.,  0.,  0.,  0.,  2.,  0.,  0., 21., 21.])"
      ]
     },
     "execution_count": 1145,
     "metadata": {},
     "output_type": "execute_result"
    }
   ],
   "source": [
    "rndm = np.random.randint(0, 99)\n",
    "(fdm1[rndm].numpy() * 100000).round(0)"
   ]
  },
  {
   "cell_type": "code",
   "execution_count": 1146,
   "metadata": {},
   "outputs": [
    {
     "data": {
      "text/plain": [
       "array([ 93., 730., 148., 611., 207., 116., 152., 205., 308., 192., 699.,\n",
       "       111., 116., 137., 114., 209., 758.,  85., 695., 714., 355., 301.,\n",
       "       451.,  70., 681., 101., 141.,  43.,  48.,  85., 754., 730., 112.,\n",
       "       328., 171.,   0., 372., 739., 204., 207.,  91.,  98., 209.,  10.,\n",
       "       253.,  96., 686.,  24., 313.,  47., 699., 196., 137., 636., 127.,\n",
       "       131., 208., 742.,  72.,  19., 125., 255., 136.,  47., 756., 129.,\n",
       "        42.,  50., 731., 595., 137., 608., 115., 332., 207.,  27., 136.,\n",
       "       285., 298.,  77., 432., 595., 762., 757., 592.,  87.,  87.,  27.,\n",
       "       352., 140.,  51., 109.,  92.,  54.,  33., 621., 216.,   8., 664.,\n",
       "       715.])"
      ]
     },
     "execution_count": 1146,
     "metadata": {},
     "output_type": "execute_result"
    }
   ],
   "source": [
    "(fingerprint_distances[rndm].numpy() * 1000).round(0)"
   ]
  },
  {
   "cell_type": "code",
   "execution_count": 1147,
   "metadata": {},
   "outputs": [
    {
     "data": {
      "text/plain": [
       "array([[1.        , 0.77614862],\n",
       "       [0.77614862, 1.        ]])"
      ]
     },
     "execution_count": 1147,
     "metadata": {},
     "output_type": "execute_result"
    }
   ],
   "source": [
    "np.corrcoef(fdm1[rndm], fingerprint_distances[rndm].numpy())"
   ]
  },
  {
   "cell_type": "code",
   "execution_count": 1140,
   "metadata": {},
   "outputs": [
    {
     "data": {
      "text/plain": [
       "array([[1.        , 0.40309883],\n",
       "       [0.40309883, 1.        ]])"
      ]
     },
     "execution_count": 1140,
     "metadata": {},
     "output_type": "execute_result"
    }
   ],
   "source": [
    "np.corrcoef(fdm1.flatten(), fingerprint_distances.numpy().flatten())"
   ]
  },
  {
   "cell_type": "code",
   "execution_count": 1141,
   "metadata": {},
   "outputs": [
    {
     "data": {
      "text/plain": [
       "array([[ 1.        , -0.50606463],\n",
       "       [-0.50606463,  1.        ]])"
      ]
     },
     "execution_count": 1141,
     "metadata": {},
     "output_type": "execute_result"
    }
   ],
   "source": [
    "np.corrcoef(fdm2[rndm], fingerprint_distances[rndm].numpy())"
   ]
  },
  {
   "cell_type": "code",
   "execution_count": 659,
   "metadata": {},
   "outputs": [
    {
     "data": {
      "text/plain": [
       "[np.float64(1.0),\n",
       " np.float64(0.29289321881345254),\n",
       " np.float64(0.29289321881345254)]"
      ]
     },
     "execution_count": 659,
     "metadata": {},
     "output_type": "execute_result"
    }
   ],
   "source": [
    "Tier_0 = np.array([0.5, 0.0]) # Alter: Mittel, KEIN Zebra\n",
    "Tier_1 = np.array([0.0, 1.0]) # Alter: Jung,   Zebra\n",
    "Tier_2 = np.array([1.0, 1.0]) # Alter: Alt,    Zebra\n",
    "\n",
    "[\n",
    "    correlation(Tier_0, Tier_1, centered=False),\n",
    "    correlation(Tier_0, Tier_2, centered=False),\n",
    "    correlation(Tier_1, Tier_2, centered=False),\n",
    "]"
   ]
  },
  {
   "cell_type": "code",
   "execution_count": 660,
   "metadata": {},
   "outputs": [
    {
     "data": {
      "text/plain": [
       "tensor([[0.0000e+00, 1.0000e+00, 5.0000e-11],\n",
       "        [1.0000e+00, 0.0000e+00, 9.9999e-01],\n",
       "        [5.0000e-11, 9.9999e-01, 0.0000e+00]], dtype=torch.float64)"
      ]
     },
     "execution_count": 660,
     "metadata": {},
     "output_type": "execute_result"
    }
   ],
   "source": [
    "torch_matrix_correlation(\n",
    "    torch.tensor([\n",
    "        Tier_0,\n",
    "        Tier_1,\n",
    "        Tier_2\n",
    "    ]),\n",
    "    w = torch.tensor([1., 1e-10])\n",
    ")"
   ]
  },
  {
   "cell_type": "code",
   "execution_count": 132,
   "metadata": {},
   "outputs": [
    {
     "data": {
      "text/plain": [
       "tensor([[0.0000, 1.0000, 0.2929],\n",
       "        [1.0000, 0.0000, 0.2929],\n",
       "        [0.2929, 0.2929, 0.0000]], dtype=torch.float64)"
      ]
     },
     "execution_count": 132,
     "metadata": {},
     "output_type": "execute_result"
    }
   ],
   "source": [
    "torch_matrix_correlation(\n",
    "    torch.tensor([\n",
    "        Tier_0,\n",
    "        Tier_1,\n",
    "        Tier_2\n",
    "    ]),\n",
    "    w = torch.tensor([1., 1])\n",
    ")"
   ]
  },
  {
   "cell_type": "code",
   "execution_count": 129,
   "metadata": {},
   "outputs": [
    {
     "data": {
      "text/plain": [
       "tensor([[0.5000, 0.0000],\n",
       "        [0.0000, 1.0000],\n",
       "        [1.0000, 1.0000]], dtype=torch.float64)"
      ]
     },
     "execution_count": 129,
     "metadata": {},
     "output_type": "execute_result"
    }
   ],
   "source": [
    "torch.tensor([\n",
    "        Tier_0,\n",
    "        Tier_1,\n",
    "        Tier_2\n",
    "    ])"
   ]
  },
  {
   "cell_type": "code",
   "execution_count": 128,
   "metadata": {},
   "outputs": [
    {
     "data": {
      "text/plain": [
       "tensor([[5.0000e-01, 0.0000e+00],\n",
       "        [0.0000e+00, 1.0000e-10],\n",
       "        [1.0000e+00, 1.0000e-10]], dtype=torch.float64)"
      ]
     },
     "execution_count": 128,
     "metadata": {},
     "output_type": "execute_result"
    }
   ],
   "source": [
    "w = torch.tensor([1., 1e-10])\n",
    "w = w / w.sum()\n",
    "torch.tensor([\n",
    "    Tier_0,\n",
    "    Tier_1,\n",
    "    Tier_2\n",
    "]) * w"
   ]
  },
  {
   "cell_type": "code",
   "execution_count": 148,
   "metadata": {},
   "outputs": [
    {
     "data": {
      "text/plain": [
       "(array([0.5, 0. ]), array([1., 1.]))"
      ]
     },
     "execution_count": 148,
     "metadata": {},
     "output_type": "execute_result"
    }
   ],
   "source": [
    "Tier_0, Tier_2"
   ]
  },
  {
   "cell_type": "code",
   "execution_count": 149,
   "metadata": {},
   "outputs": [
    {
     "data": {
      "text/plain": [
       "np.float64(0.29289321881345254)"
      ]
     },
     "execution_count": 149,
     "metadata": {},
     "output_type": "execute_result"
    }
   ],
   "source": [
    "correlation([0.5, 0., 0.], [1., 1., 0.], centered=False, w=[1., 1., 1.])"
   ]
  },
  {
   "cell_type": "code",
   "execution_count": 153,
   "metadata": {},
   "outputs": [
    {
     "data": {
      "text/plain": [
       "np.float64(5.000000413701855e-11)"
      ]
     },
     "execution_count": 153,
     "metadata": {},
     "output_type": "execute_result"
    }
   ],
   "source": [
    "correlation([0.5, 0., 0.], [1., 1., 0.], centered=False, w=[1., 1e-10, 1.])"
   ]
  },
  {
   "cell_type": "code",
   "execution_count": 137,
   "metadata": {},
   "outputs": [
    {
     "data": {
      "text/plain": [
       "np.float64(0.29289321881345254)"
      ]
     },
     "execution_count": 137,
     "metadata": {},
     "output_type": "execute_result"
    }
   ],
   "source": [
    "correlation(Tier_0, Tier_2, centered=False, w=[1., 1.])"
   ]
  },
  {
   "cell_type": "code",
   "execution_count": 138,
   "metadata": {},
   "outputs": [
    {
     "data": {
      "text/plain": [
       "np.float64(5.000000413701855e-11)"
      ]
     },
     "execution_count": 138,
     "metadata": {},
     "output_type": "execute_result"
    }
   ],
   "source": [
    "correlation(Tier_0, Tier_2, centered=False, w=[1., 1e-10])"
   ]
  },
  {
   "cell_type": "code",
   "execution_count": 157,
   "metadata": {},
   "outputs": [
    {
     "data": {
      "text/plain": [
       "np.float64(0.005955107656836156)"
      ]
     },
     "execution_count": 157,
     "metadata": {},
     "output_type": "execute_result"
    }
   ],
   "source": [
    "correlation(\n",
    "    np.array([0.028, 0.999]),\n",
    "    np.array([1.000, 1.000]),\n",
    "    centered=False,\n",
    "    w=[1,0.00001]\n",
    ")"
   ]
  },
  {
   "cell_type": "code",
   "execution_count": 88,
   "metadata": {},
   "outputs": [
    {
     "data": {
      "text/plain": [
       "np.float64(0.292740206450986)"
      ]
     },
     "execution_count": 88,
     "metadata": {},
     "output_type": "execute_result"
    }
   ],
   "source": [
    "correlation(df_explainable.loc['Individual_1', ['Age', 'Is_a_Zebra']].to_numpy().clip(min=0), df_explainable.loc['Individual_2', ['Age', 'Is_a_Zebra']].to_numpy().clip(min=0), centered=False)"
   ]
  },
  {
   "cell_type": "code",
   "execution_count": null,
   "metadata": {},
   "outputs": [
    {
     "data": {
      "text/plain": [
       "np.float64(0.9975204890409671)"
      ]
     },
     "execution_count": 87,
     "metadata": {},
     "output_type": "execute_result"
    }
   ],
   "source": [
    "correlation(df_explainable.loc['Individual_0', ['Age', 'Is_a_Zebra']].to_numpy().clip(min=0), df_explainable.loc['Individual_1', ['Age', 'Is_a_Zebra']].to_numpy().clip(min=0), centered=False)"
   ]
  },
  {
   "cell_type": "code",
   "execution_count": null,
   "metadata": {},
   "outputs": [
    {
     "data": {
      "text/plain": [
       "np.float64(1.0)"
      ]
     },
     "execution_count": 92,
     "metadata": {},
     "output_type": "execute_result"
    }
   ],
   "source": [
    "correlation([0.5, 0.], [0., 1.], centered=False) # "
   ]
  },
  {
   "cell_type": "code",
   "execution_count": 29,
   "metadata": {},
   "outputs": [],
   "source": [
    "from gradient_solver import _construct_distance_matrix"
   ]
  },
  {
   "cell_type": "code",
   "execution_count": 230,
   "metadata": {},
   "outputs": [],
   "source": [
    "df_explainable = preparation_result['explainable_df'].copy().set_index(index_name)\n",
    "df_observable = observable_patterns_result['df_observable_data'].copy().set_index(index_name).loc[:, observed_features].reset_index()"
   ]
  },
  {
   "cell_type": "code",
   "execution_count": 231,
   "metadata": {},
   "outputs": [
    {
     "name": "stdout",
     "output_type": "stream",
     "text": [
      "Loss before training: -0.2882660996163003\n",
      "1/10 --- Mean Loss : -0.9399452321228052\n",
      "2/10 --- Mean Loss : -0.9944516067713091\n",
      "3/10 --- Mean Loss : -0.9967246535636793\n",
      "4/10 --- Mean Loss : -0.9983088048948182\n",
      "5/10 --- Mean Loss : -0.9987452132778438\n",
      "6/10 --- Mean Loss : -0.9990630500112667\n",
      "7/10 --- Mean Loss : -0.9990343970971878\n",
      "8/10 --- Mean Loss : -0.9991862372501439\n",
      "9/10 --- Mean Loss : -0.9991892638396687\n",
      "10/10 --- Mean Loss : -0.9991207177127518\n"
     ]
    }
   ],
   "source": [
    "model = FeatureSelectionModel(\n",
    "    df_explainable,\n",
    "    df_observable,\n",
    "    observable_patterns_result['df_cluster_median'],\n",
    "    power = 2,\n",
    "    index_name = 'Individual',\n",
    "    num_samples = 4,\n",
    "    dtype = torch.float64,\n",
    "    device = 'cpu',\n",
    "    penalty=0\n",
    ")\n",
    "\n",
    "# After this many steps, the learning rate is halved\n",
    "HALFLIFE = 30\n",
    "\n",
    "optimizer = torch.optim.RMSprop(\n",
    "    params = [\n",
    "        {'params': model.parameters['feature_weights'], 'lr': 0.1, 'momentum': 0.50},\n",
    "        {'params': model.parameters['observation_weights'], 'lr': 0.1, 'momentum': 0.50},\n",
    "        {'params': model.parameters['cluster_positions'], 'lr': 0.1, 'momentum': 0.50},\n",
    "    ],\n",
    "\n",
    ")\n",
    "\n",
    "lr_halflife = lambda epochs: 0.5**(1/epochs)\n",
    "scheduler = torch.optim.lr_scheduler.LambdaLR(optimizer, lr_lambda = lambda epoch: lr_halflife(HALFLIFE)**epoch)\n",
    "trainer = Trainer(model = model, optimizer = optimizer, scheduler = scheduler, dataloader = range(100))\n",
    "print(f'Loss before training: {model.loss().clone().detach()}')\n",
    "trainer.train(epochs = 10, timeout=60000)"
   ]
  },
  {
   "cell_type": "code",
   "execution_count": 232,
   "metadata": {},
   "outputs": [
    {
     "data": {
      "image/png": "[encoded data removed]",
      "text/plain": [
       "<Figure size 1000x500 with 1 Axes>"
      ]
     },
     "metadata": {},
     "output_type": "display_data"
    },
    {
     "data": {
      "image/png": "[encoded data removed]",
      "text/plain": [
       "<Figure size 1000x500 with 1 Axes>"
      ]
     },
     "metadata": {},
     "output_type": "display_data"
    }
   ],
   "source": [
    "model.plot()"
   ]
  },
  {
   "cell_type": "code",
   "execution_count": 857,
   "metadata": {},
   "outputs": [],
   "source": [
    "feature_dict, observation_dict = model.get_weights()\n",
    "\n",
    "remaining_features = []\n",
    "for k,v in feature_dict.items():\n",
    "    if v < 0.500:\n",
    "        remaining_features.append(k)\n",
    "\n",
    "i = 0\n",
    "remaining_observations = [index_name]\n",
    "remaining_observation_indices = []\n",
    "for k,v in observation_dict.items():\n",
    "    if v < 0.500:\n",
    "        remaining_observations.append(k)\n",
    "        remaining_observation_indices.append(i)\n",
    "    i += 1"
   ]
  },
  {
   "cell_type": "code",
   "execution_count": 858,
   "metadata": {},
   "outputs": [
    {
     "data": {
      "text/plain": [
       "(['Age',\n",
       "  'Weight',\n",
       "  'Is_a_Zebra',\n",
       "  'Noise_1',\n",
       "  'Noise_2',\n",
       "  'Noise_3',\n",
       "  'Noise_4',\n",
       "  'Noise_5'],\n",
       " ['Individual',\n",
       "  'unexplainable_1',\n",
       "  'unexplainable_2',\n",
       "  'unexplainable_3',\n",
       "  'unexplainable_4',\n",
       "  'if_zebra_then_age',\n",
       "  'Age_plus_Weight'])"
      ]
     },
     "execution_count": 858,
     "metadata": {},
     "output_type": "execute_result"
    }
   ],
   "source": [
    "remaining_features, remaining_observations"
   ]
  },
  {
   "cell_type": "code",
   "execution_count": 859,
   "metadata": {},
   "outputs": [
    {
     "name": "stdout",
     "output_type": "stream",
     "text": [
      "Loss before training: -0.240308182317024\n",
      "1/10 --- Mean Loss : -0.7420508905095753\n",
      "2/10 --- Mean Loss : -0.7903942290935358\n",
      "3/10 --- Mean Loss : -0.7925551038607318\n",
      "4/10 --- Mean Loss : -0.7929532734949112\n",
      "5/10 --- Mean Loss : -0.7930504566691504\n",
      "6/10 --- Mean Loss : -0.793094201208864\n",
      "7/10 --- Mean Loss : -0.7931611664638183\n",
      "8/10 --- Mean Loss : -0.7932009765348104\n",
      "9/10 --- Mean Loss : -0.7932545389705161\n",
      "10/10 --- Mean Loss : -0.793303330982655\n"
     ]
    }
   ],
   "source": [
    "next_model = FeatureSelectionModel(\n",
    "    df_explainable.loc[:, remaining_features],\n",
    "    df_observable.loc[:, remaining_observations],\n",
    "    model.best_cluster_positions[:, remaining_observation_indices],\n",
    "    power = 4,\n",
    "    index_name = 'Individual',\n",
    "    num_samples = 4,\n",
    "    dtype = torch.float64,\n",
    "    device = 'cpu',\n",
    "    penalty=0\n",
    ")\n",
    "\n",
    "# After this many steps, the learning rate is halved\n",
    "HALFLIFE = 50\n",
    "\n",
    "optimizer = torch.optim.RMSprop(\n",
    "    params = [\n",
    "        {'params': next_model.parameters['feature_weights'], 'lr': 0.1, 'momentum': 0.50},\n",
    "        {'params': next_model.parameters['observation_weights'], 'lr': 0.1, 'momentum': 0.50},\n",
    "        {'params': next_model.parameters['cluster_positions'], 'lr': 0.1, 'momentum': 0.50},\n",
    "    ],\n",
    "\n",
    ")\n",
    "\n",
    "lr_halflife = lambda epochs: 0.5**(1/epochs)\n",
    "scheduler = torch.optim.lr_scheduler.LambdaLR(optimizer, lr_lambda = lambda epoch: lr_halflife(HALFLIFE)**epoch)\n",
    "trainer = Trainer(model = next_model, optimizer = optimizer, scheduler = scheduler, dataloader = range(100))\n",
    "print(f'Loss before training: {next_model.loss().clone().detach()}')\n",
    "trainer.train(epochs = 10, timeout=60000)"
   ]
  },
  {
   "cell_type": "code",
   "execution_count": 860,
   "metadata": {},
   "outputs": [
    {
     "data": {
      "image/png": "[encoded data removed]",
      "text/plain": [
       "<Figure size 1000x500 with 1 Axes>"
      ]
     },
     "metadata": {},
     "output_type": "display_data"
    },
    {
     "data": {
      "image/png": "[encoded data removed]",
      "text/plain": [
       "<Figure size 1000x500 with 1 Axes>"
      ]
     },
     "metadata": {},
     "output_type": "display_data"
    }
   ],
   "source": [
    "next_model.plot()"
   ]
  },
  {
   "cell_type": "code",
   "execution_count": 260,
   "metadata": {},
   "outputs": [
    {
     "data": {
      "text/plain": [
       "(['Weight',\n",
       "  'Is_a_Zebra',\n",
       "  'Noise_1',\n",
       "  'Noise_2',\n",
       "  'Noise_3',\n",
       "  'Noise_4',\n",
       "  'Noise_5'],\n",
       " ['Individual', 'unexplainable_1', 'unexplainable_2', 'unexplainable_4'])"
      ]
     },
     "execution_count": 260,
     "metadata": {},
     "output_type": "execute_result"
    }
   ],
   "source": [
    "feature_dict, observation_dict = next_model.get_weights()\n",
    "\n",
    "remaining_features = []\n",
    "for k,v in feature_dict.items():\n",
    "    if v < 0.500:\n",
    "        remaining_features.append(k)\n",
    "\n",
    "i = 0\n",
    "remaining_observations = [index_name]\n",
    "remaining_observation_indices = []\n",
    "for k,v in observation_dict.items():\n",
    "    if v < 0.500:\n",
    "        remaining_observations.append(k)\n",
    "        remaining_observation_indices.append(i)\n",
    "    i += 1\n",
    "\n",
    "remaining_features, remaining_observations"
   ]
  },
  {
   "cell_type": "code",
   "execution_count": 261,
   "metadata": {},
   "outputs": [
    {
     "name": "stdout",
     "output_type": "stream",
     "text": [
      "Loss before training: -0.025809228164522878\n",
      "1/10 --- Mean Loss : -0.20352576580524273\n",
      "2/10 --- Mean Loss : -0.31230133340198407\n",
      "3/10 --- Mean Loss : -0.3244765300435824\n",
      "4/10 --- Mean Loss : -0.32689836565853597\n",
      "5/10 --- Mean Loss : -0.3272700116588542\n",
      "6/10 --- Mean Loss : -0.3274396110127537\n",
      "7/10 --- Mean Loss : -0.3277750399339126\n",
      "8/10 --- Mean Loss : -0.32780205731989953\n",
      "9/10 --- Mean Loss : -0.3281729753534406\n",
      "10/10 --- Mean Loss : -0.3381821407964593\n"
     ]
    }
   ],
   "source": [
    "next2_model = FeatureSelectionModel(\n",
    "    df_explainable.loc[:, remaining_features],\n",
    "    df_observable.loc[:, remaining_observations],\n",
    "    model.best_cluster_positions[:, remaining_observation_indices],\n",
    "    power = 4,\n",
    "    index_name = 'Individual',\n",
    "    num_samples = 4,\n",
    "    dtype = torch.float64,\n",
    "    device = 'cpu',\n",
    "    penalty=0\n",
    ")\n",
    "\n",
    "my_model = next2_model\n",
    "\n",
    "# After this many steps, the learning rate is halved\n",
    "HALFLIFE = 30\n",
    "\n",
    "optimizer = torch.optim.RMSprop(\n",
    "    params = [\n",
    "        {'params': my_model.parameters['feature_weights'], 'lr': 0.1, 'momentum': 0.50},\n",
    "        {'params': my_model.parameters['observation_weights'], 'lr': 0.1, 'momentum': 0.50},\n",
    "        {'params': my_model.parameters['cluster_positions'], 'lr': 0.1, 'momentum': 0.50},\n",
    "    ],\n",
    "\n",
    ")\n",
    "\n",
    "lr_halflife = lambda epochs: 0.5**(1/epochs)\n",
    "scheduler = torch.optim.lr_scheduler.LambdaLR(optimizer, lr_lambda = lambda epoch: lr_halflife(HALFLIFE)**epoch)\n",
    "trainer = Trainer(model = my_model, optimizer = optimizer, scheduler = scheduler, dataloader = range(100))\n",
    "print(f'Loss before training: {my_model.loss().clone().detach()}')\n",
    "trainer.train(epochs = 10, timeout=60000)"
   ]
  },
  {
   "cell_type": "code",
   "execution_count": 262,
   "metadata": {},
   "outputs": [
    {
     "data": {
      "image/png": "[encoded data removed]",
      "text/plain": [
       "<Figure size 1000x500 with 1 Axes>"
      ]
     },
     "metadata": {},
     "output_type": "display_data"
    },
    {
     "data": {
      "image/png": "[encoded data removed]",
      "text/plain": [
       "<Figure size 1000x500 with 1 Axes>"
      ]
     },
     "metadata": {},
     "output_type": "display_data"
    }
   ],
   "source": [
    "next2_model.plot()"
   ]
  },
  {
   "cell_type": "code",
   "execution_count": 264,
   "metadata": {},
   "outputs": [
    {
     "data": {
      "text/plain": [
       "(['Weight', 'Is_a_Zebra', 'Noise_1', 'Noise_2', 'Noise_4', 'Noise_5'],\n",
       " ['Individual', 'unexplainable_2'])"
      ]
     },
     "execution_count": 264,
     "metadata": {},
     "output_type": "execute_result"
    }
   ],
   "source": [
    "feature_dict, observation_dict = next2_model.get_weights()\n",
    "\n",
    "remaining_features = []\n",
    "for k,v in feature_dict.items():\n",
    "    if v < 0.500:\n",
    "        remaining_features.append(k)\n",
    "\n",
    "i = 0\n",
    "remaining_observations = [index_name]\n",
    "remaining_observation_indices = []\n",
    "for k,v in observation_dict.items():\n",
    "    if v < 0.500:\n",
    "        remaining_observations.append(k)\n",
    "        remaining_observation_indices.append(i)\n",
    "    i += 1\n",
    "\n",
    "remaining_features, remaining_observations"
   ]
  },
  {
   "cell_type": "code",
   "execution_count": 265,
   "metadata": {},
   "outputs": [
    {
     "name": "stdout",
     "output_type": "stream",
     "text": [
      "Loss before training: -0.0017970740976259144\n",
      "1/10 --- Mean Loss : -0.07043708047671106\n",
      "2/10 --- Mean Loss : -0.0793538766788347\n",
      "3/10 --- Mean Loss : -0.08018910991761304\n",
      "4/10 --- Mean Loss : -0.0803970303678301\n",
      "5/10 --- Mean Loss : -0.08079856936851301\n",
      "6/10 --- Mean Loss : -0.08135705752311058\n",
      "7/10 --- Mean Loss : -0.08143264940231669\n",
      "8/10 --- Mean Loss : -0.08155948697982407\n",
      "9/10 --- Mean Loss : -0.08142149477249236\n",
      "10/10 --- Mean Loss : -0.08156384877897484\n"
     ]
    }
   ],
   "source": [
    "next3_model = FeatureSelectionModel(\n",
    "    df_explainable.loc[:, remaining_features],\n",
    "    df_observable.loc[:, remaining_observations],\n",
    "    model.best_cluster_positions[:, remaining_observation_indices],\n",
    "    power = 4,\n",
    "    index_name = 'Individual',\n",
    "    num_samples = 4,\n",
    "    dtype = torch.float64,\n",
    "    device = 'cpu',\n",
    "    penalty=0\n",
    ")\n",
    "\n",
    "my_model = next3_model\n",
    "\n",
    "# After this many steps, the learning rate is halved\n",
    "HALFLIFE = 30\n",
    "\n",
    "optimizer = torch.optim.RMSprop(\n",
    "    params = [\n",
    "        {'params': my_model.parameters['feature_weights'], 'lr': 0.1, 'momentum': 0.50},\n",
    "        {'params': my_model.parameters['observation_weights'], 'lr': 0.1, 'momentum': 0.50},\n",
    "        {'params': my_model.parameters['cluster_positions'], 'lr': 0.1, 'momentum': 0.50},\n",
    "    ],\n",
    "\n",
    ")\n",
    "\n",
    "lr_halflife = lambda epochs: 0.5**(1/epochs)\n",
    "scheduler = torch.optim.lr_scheduler.LambdaLR(optimizer, lr_lambda = lambda epoch: lr_halflife(HALFLIFE)**epoch)\n",
    "trainer = Trainer(model = my_model, optimizer = optimizer, scheduler = scheduler, dataloader = range(100))\n",
    "print(f'Loss before training: {my_model.loss().clone().detach()}')\n",
    "trainer.train(epochs = 10, timeout=60000)"
   ]
  },
  {
   "cell_type": "code",
   "execution_count": 266,
   "metadata": {},
   "outputs": [
    {
     "data": {
      "image/png": "[encoded data removed]",
      "text/plain": [
       "<Figure size 1000x500 with 1 Axes>"
      ]
     },
     "metadata": {},
     "output_type": "display_data"
    },
    {
     "data": {
      "image/png": "[encoded data removed]",
      "text/plain": [
       "<Figure size 1000x500 with 1 Axes>"
      ]
     },
     "metadata": {},
     "output_type": "display_data"
    }
   ],
   "source": [
    "next3_model.plot()"
   ]
  },
  {
   "cell_type": "code",
   "execution_count": 263,
   "metadata": {},
   "outputs": [
    {
     "data": {
      "text/plain": [
       "Ellipsis"
      ]
     },
     "execution_count": 263,
     "metadata": {},
     "output_type": "execute_result"
    }
   ],
   "source": [
    "..."
   ]
  },
  {
   "cell_type": "code",
   "execution_count": null,
   "metadata": {},
   "outputs": [],
   "source": []
  }
 ],
 "metadata": {
  "kernelspec": {
   "display_name": "Python 3",
   "language": "python",
   "name": "python3"
  },
  "language_info": {
   "codemirror_mode": {
    "name": "ipython",
    "version": 3
   },
   "file_extension": ".py",
   "mimetype": "text/x-python",
   "name": "python",
   "nbconvert_exporter": "python",
   "pygments_lexer": "ipython3",
   "version": "3.12.3"
  }
 },
 "nbformat": 4,
 "nbformat_minor": 2
}
