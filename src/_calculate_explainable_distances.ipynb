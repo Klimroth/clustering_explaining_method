{
 "cells": [
  {
   "cell_type": "code",
   "execution_count": 1,
   "metadata": {},
   "outputs": [],
   "source": [
    "from data_preparation import DataPreparator\n",
    "from apply_clustering import ClusteringApplier"
   ]
  },
  {
   "cell_type": "code",
   "execution_count": 2,
   "metadata": {},
   "outputs": [],
   "source": [
    "import os.path\n",
    "from itertools import chain, combinations\n",
    "from typing import Dict, List, Tuple\n",
    "\n",
    "import numpy as np\n",
    "import pandas as pd\n",
    "from gapstatistics.gapstatistics import GapStatistics\n",
    "from clustering import AgglomerativeClusteringWrapper as AgglomerativeClustering\n",
    "import matplotlib.pyplot as plt\n",
    "import scipy.cluster.hierarchy as sch\n",
    "from scipy.cluster.hierarchy import dendrogram, linkage\n",
    "from scipy.spatial.distance import squareform\n",
    "from scipy.spatial.distance import jensenshannon, correlation, euclidean\n",
    "from tqdm.contrib.concurrent import thread_map\n",
    "\n",
    "import config"
   ]
  },
  {
   "cell_type": "code",
   "execution_count": 3,
   "metadata": {},
   "outputs": [
    {
     "data": {
      "text/plain": [
       "'exact'"
      ]
     },
     "execution_count": 3,
     "metadata": {},
     "output_type": "execute_result"
    }
   ],
   "source": [
    "config.INFERENCE_MODE_EXPLAINING_FEATURES"
   ]
  },
  {
   "cell_type": "code",
   "execution_count": 4,
   "metadata": {},
   "outputs": [],
   "source": [
    "#ClusteringApplier.calculate_explainable_distances()"
   ]
  },
  {
   "cell_type": "code",
   "execution_count": 5,
   "metadata": {},
   "outputs": [],
   "source": [
    "df_explainable: pd.DataFrame = ClusteringApplier.read_explaining_features() # removed [list(config.EXPLAINING_FEATURE_NAMES.keys())]\n",
    "df_observable_distances: pd.DataFrame = pd.read_excel(\n",
    "    f\"{config.OUTPUT_FOLDER_BASE}observables/{config.DATASET_NAME}-distance-normalized-matrix-{config.DISTANCE_MEASURE_FINGERPRINT}-{config.NUMBER_OBSERVABLE_PATTERNS}.xlsx\",\n",
    "    index_col=0\n",
    ")\n",
    "features: List[str] = list(config.EXPLAINING_FEATURE_NAMES.keys())"
   ]
  },
  {
   "cell_type": "code",
   "execution_count": 6,
   "metadata": {},
   "outputs": [],
   "source": [
    "#df_explainable#.set_index(df_explainable.columns[0], inplace=True)\n",
    "#df_observable_distances#.set_index(df_observable_distances.columns[0], inplace=True)"
   ]
  },
  {
   "cell_type": "code",
   "execution_count": 7,
   "metadata": {},
   "outputs": [],
   "source": [
    "valid_indices = np.intersect1d(df_explainable.index, df_observable_distances.index)\n",
    "\n",
    "df_explainable = df_explainable.loc[valid_indices]\n",
    "df_observable_distances = df_observable_distances.loc[valid_indices]"
   ]
  },
  {
   "cell_type": "code",
   "execution_count": 8,
   "metadata": {},
   "outputs": [],
   "source": [
    "def calculate_pairwise_distances_alt(\n",
    "        df: pd.DataFrame, feature_names: List[str], distance: str,\n",
    "    ) -> Tuple[pd.DataFrame, pd.DataFrame]:\n",
    "\n",
    "        if distance not in [\n",
    "            \"jensenshannon\",\n",
    "            \"euclidean\",\n",
    "            \"correlation\",\n",
    "        ]:\n",
    "            raise Exception(\n",
    "                \"Invalid distance measure used to measure similarity.\"\n",
    "            )\n",
    "\n",
    "        distance_matrix: np.array = np.zeros((df.shape[0], df.shape[0]))\n",
    "\n",
    "        for grp_i in range(df.shape[0]):\n",
    "            for grp_j in range(df.shape[0]):      \n",
    "                fingerprint_1 = df.iloc[grp_i][feature_names].to_numpy()\n",
    "                fingerprint_2 = df.iloc[grp_j][feature_names].to_numpy()\n",
    "                if distance == \"jensenshannon\":\n",
    "                    dist: float = 1.0 * jensenshannon(fingerprint_1, fingerprint_2)\n",
    "                elif distance == \"correlation\":\n",
    "                    dist = 1.0 * correlation(fingerprint_1, fingerprint_2)\n",
    "                else:\n",
    "                    dist = 1.0 * euclidean(fingerprint_1, fingerprint_2)\n",
    "                distance_matrix[grp_i, grp_j] = dist\n",
    "\n",
    "        normalised_distance_matrix = distance_matrix / np.sum(distance_matrix)\n",
    "\n",
    "        return pd.DataFrame(\n",
    "            distance_matrix, columns=df.index, index=df.index\n",
    "        ), pd.DataFrame(\n",
    "            normalised_distance_matrix, columns=df.index, index=df.index, \n",
    "        )\n",
    "\n",
    "def calculate_pairwise_distances(\n",
    "        df: pd.DataFrame, feature_names: List[str], distance: str,\n",
    "    ) -> Tuple[pd.DataFrame, pd.DataFrame]:\n",
    "\n",
    "        if distance not in [\n",
    "            \"jensenshannon\",\n",
    "            \"euclidean\",\n",
    "            \"correlation\",\n",
    "        ]:\n",
    "            raise Exception(\n",
    "                \"Invalid distance measure used to measure similarity.\"\n",
    "            )\n",
    "\n",
    "        distance_matrix: np.array = np.zeros((df.shape[0], df.shape[0]))\n",
    "        arr = df.loc[:, feature_names].to_numpy()\n",
    "\n",
    "        for grp_i in range(df.shape[0]):\n",
    "            for grp_j in range(df.shape[0]):      \n",
    "                fingerprint_1 = arr[grp_i]\n",
    "                fingerprint_2 = arr[grp_j]\n",
    "                if distance == \"jensenshannon\":\n",
    "                    dist: float = 1.0 * jensenshannon(fingerprint_1, fingerprint_2)\n",
    "                elif distance == \"correlation\":\n",
    "                    dist = 1.0 * correlation(fingerprint_1, fingerprint_2)\n",
    "                else:\n",
    "                    dist = 1.0 * euclidean(fingerprint_1, fingerprint_2)\n",
    "                distance_matrix[grp_i, grp_j] = dist\n",
    "\n",
    "        normalised_distance_matrix = distance_matrix / np.sum(distance_matrix)\n",
    "\n",
    "        return pd.DataFrame(\n",
    "            distance_matrix, columns=df.index, index=df.index\n",
    "        ), pd.DataFrame(\n",
    "            normalised_distance_matrix, columns=df.index, index=df.index, \n",
    "        )\n",
    "\n",
    "def calculate_pairwise_distances2(\n",
    "        df: pd.DataFrame, feature_names: List[str], distance: str,\n",
    "    ) -> Tuple[pd.DataFrame, pd.DataFrame]:\n",
    "\n",
    "        if distance not in [\n",
    "            \"jensenshannon\",\n",
    "            \"euclidean\",\n",
    "            \"correlation\",\n",
    "        ]:\n",
    "            raise Exception(\n",
    "                \"Invalid distance measure used to measure similarity.\"\n",
    "            )\n",
    "\n",
    "        distance_matrix: np.array = np.zeros((df.shape[0], df.shape[0]))\n",
    "        fingerprint_df = df.loc[:, feature_names]\n",
    "        fingerprint_array = fingerprint_df.to_numpy()\n",
    "\n",
    "        if distance == \"jensenshannon\":\n",
    "            dist = lambda u,v: 1.0 * jensenshannon(u,v)\n",
    "        elif distance == \"correlation\":\n",
    "            dist = lambda u,v: 1.0 * correlation(u,v)\n",
    "        else:\n",
    "            dist = lambda u,v: 1.0 * euclidean(u,v) \n",
    "\n",
    "        for i in range(df.shape[0]):\n",
    "            other_fingerprint = fingerprint_array[i]   \n",
    "            distance_matrix[:, i] = np.apply_along_axis(\n",
    "                 func1d=dist, axis=1, arr=fingerprint_array, v=other_fingerprint)\n",
    "\n",
    "        normalised_distance_matrix = distance_matrix / np.sum(distance_matrix)\n",
    "\n",
    "        return pd.DataFrame(\n",
    "            distance_matrix, columns=df.index, index=df.index\n",
    "        ), pd.DataFrame(\n",
    "            normalised_distance_matrix, columns=df.index, index=df.index, \n",
    "        )"
   ]
  },
  {
   "cell_type": "code",
   "execution_count": 9,
   "metadata": {},
   "outputs": [],
   "source": [
    "df = df_explainable"
   ]
  },
  {
   "cell_type": "code",
   "execution_count": 10,
   "metadata": {},
   "outputs": [],
   "source": [
    "import seaborn as sns"
   ]
  },
  {
   "cell_type": "code",
   "execution_count": 11,
   "metadata": {},
   "outputs": [],
   "source": [
    "distance_matrix: np.array = np.zeros((df.shape[0], df.shape[0]))"
   ]
  },
  {
   "cell_type": "code",
   "execution_count": 12,
   "metadata": {},
   "outputs": [],
   "source": [
    "powerset_features = chain.from_iterable(\n",
    "    combinations(features, r) for r in range(2, len(features) + 1)\n",
    ")\n",
    "powerset_method_input = [\n",
    "    (list(feature_set), df_explainable, df_observable_distances)\n",
    "    for feature_set in powerset_features\n",
    "]"
   ]
  },
  {
   "cell_type": "code",
   "execution_count": 13,
   "metadata": {},
   "outputs": [],
   "source": [
    "def func1():\n",
    "\n",
    "    calculate_pairwise_distances(\n",
    "            df = powerset_method_input[0][1],\n",
    "            feature_names=powerset_method_input[0][0],\n",
    "            distance=config.DISTANCE_MEASURE_EXPLAINABLE_FEATURES,\n",
    "        )\n",
    "    \n",
    "def func2():\n",
    "\n",
    "    calculate_pairwise_distances2(\n",
    "            df = powerset_method_input[0][1],\n",
    "            feature_names=powerset_method_input[0][0],\n",
    "            distance=config.DISTANCE_MEASURE_EXPLAINABLE_FEATURES,\n",
    "        )"
   ]
  },
  {
   "cell_type": "code",
   "execution_count": 14,
   "metadata": {},
   "outputs": [],
   "source": [
    "import timeit"
   ]
  },
  {
   "cell_type": "code",
   "execution_count": 15,
   "metadata": {},
   "outputs": [
    {
     "name": "stdout",
     "output_type": "stream",
     "text": [
      "200 ms ± 10.7 ms per loop (mean ± std. dev. of 7 runs, 1 loop each)\n"
     ]
    }
   ],
   "source": [
    "%timeit func1()"
   ]
  },
  {
   "cell_type": "code",
   "execution_count": 16,
   "metadata": {},
   "outputs": [
    {
     "name": "stdout",
     "output_type": "stream",
     "text": [
      "221 ms ± 15 ms per loop (mean ± std. dev. of 7 runs, 1 loop each)\n"
     ]
    }
   ],
   "source": [
    "%timeit func2()"
   ]
  },
  {
   "cell_type": "code",
   "execution_count": 17,
   "metadata": {},
   "outputs": [
    {
     "data": {
      "application/vnd.jupyter.widget-view+json": {
       "model_id": "8b1c6b62a0c541dc8d5d3ce5295e698f",
       "version_major": 2,
       "version_minor": 0
      },
      "text/plain": [
       "  0%|          | 0/1013 [00:00<?, ?it/s]"
      ]
     },
     "metadata": {},
     "output_type": "display_data"
    }
   ],
   "source": [
    "'''optimal_feature_set, maximum_correlation = (\n",
    "    ClusteringApplier._feature_selection_exhaustive(\n",
    "        df_explainable, df_observable_distances, features\n",
    "    )\n",
    ")'''\n",
    "\n",
    "powerset_features = chain.from_iterable(\n",
    "    combinations(features, r) for r in range(2, len(features) + 1)\n",
    ")\n",
    "powerset_method_input = [\n",
    "    (list(feature_set), df_explainable, df_observable_distances)\n",
    "    for feature_set in powerset_features\n",
    "]\n",
    "correlation_coefficients: List[float] = thread_map(\n",
    "        ClusteringApplier._get_correlation_coefficient,\n",
    "        powerset_method_input,\n",
    "        desc=\"\",\n",
    "        max_workers=config.MAX_NUM_THREADS,\n",
    "    )"
   ]
  },
  {
   "cell_type": "code",
   "execution_count": 19,
   "metadata": {},
   "outputs": [],
   "source": [
    "maximum_correlation: float = max(correlation_coefficients)\n",
    "optimal_feature_set: List[str] = features\n",
    "current_feature_size = len(features)"
   ]
  },
  {
   "cell_type": "code",
   "execution_count": 20,
   "metadata": {},
   "outputs": [],
   "source": [
    "for index in range(len(correlation_coefficients)):\n",
    "    if correlation_coefficients[index] == maximum_correlation:\n",
    "        current_feature_set = powerset_method_input[index][0]\n",
    "        if len(current_feature_set) < current_feature_size:\n",
    "            current_feature_size = len(current_feature_set)\n",
    "            optimal_feature_set = current_feature_set"
   ]
  },
  {
   "cell_type": "code",
   "execution_count": 21,
   "metadata": {},
   "outputs": [
    {
     "data": {
      "text/plain": [
       "<Axes: ylabel='Count'>"
      ]
     },
     "execution_count": 21,
     "metadata": {},
     "output_type": "execute_result"
    },
    {
     "data": {
      "image/png": "[encoded data removed]",
      "text/plain": [
       "<Figure size 640x480 with 1 Axes>"
      ]
     },
     "metadata": {},
     "output_type": "display_data"
    }
   ],
   "source": [
    "sns.histplot(correlation_coefficients)"
   ]
  },
  {
   "cell_type": "code",
   "execution_count": 45,
   "metadata": {},
   "outputs": [
    {
     "data": {
      "text/plain": [
       "Ellipsis"
      ]
     },
     "execution_count": 45,
     "metadata": {},
     "output_type": "execute_result"
    }
   ],
   "source": [
    "..."
   ]
  },
  {
   "cell_type": "code",
   "execution_count": 54,
   "metadata": {},
   "outputs": [
    {
     "data": {
      "text/plain": [
       "0.0954491940518226"
      ]
     },
     "execution_count": 54,
     "metadata": {},
     "output_type": "execute_result"
    }
   ],
   "source": [
    "maximum_correlation"
   ]
  },
  {
   "cell_type": "code",
   "execution_count": 53,
   "metadata": {},
   "outputs": [
    {
     "data": {
      "text/plain": [
       "['Age',\n",
       " 'Sex',\n",
       " 'Zoo',\n",
       " 'Stable',\n",
       " 'Genus_ID',\n",
       " 'Family_ID',\n",
       " 'Order_ID',\n",
       " 'SH',\n",
       " 'Weight',\n",
       " 'Habitat']"
      ]
     },
     "execution_count": 53,
     "metadata": {},
     "output_type": "execute_result"
    }
   ],
   "source": [
    "optimal_feature_set"
   ]
  },
  {
   "cell_type": "code",
   "execution_count": 62,
   "metadata": {},
   "outputs": [
    {
     "data": {
      "text/plain": [
       "-0.004033437602967799"
      ]
     },
     "execution_count": 62,
     "metadata": {},
     "output_type": "execute_result"
    }
   ],
   "source": [
    "ClusteringApplier._get_correlation_coefficient(\n",
    "    [optimal_feature_set, df_explainable, df_observable_distances]\n",
    ")"
   ]
  },
  {
   "cell_type": "code",
   "execution_count": 23,
   "metadata": {},
   "outputs": [],
   "source": [
    "overview_dict: Dict[str, List[str | float]] = {\n",
    "            \"correlation\": [maximum_correlation]\n",
    "}\n",
    "for feature in features:\n",
    "    overview_dict[feature] = [1 if feature in optimal_feature_set else 0]\n"
   ]
  },
  {
   "cell_type": "code",
   "execution_count": 24,
   "metadata": {},
   "outputs": [],
   "source": [
    "_, df_explainable_distances = ClusteringApplier.calculate_pairwise_distances(\n",
    "    df_explainable, features, config.DISTANCE_MEASURE_EXPLAINABLE_FEATURES\n",
    ")"
   ]
  },
  {
   "cell_type": "code",
   "execution_count": 50,
   "metadata": {},
   "outputs": [],
   "source": [
    "x_label=config.GROUP_NAME\n",
    "y_label=\"Distance based on explainable features\"\n",
    "title=\"Similarity based on the optimal set of explainable features\""
   ]
  },
  {
   "cell_type": "code",
   "execution_count": 51,
   "metadata": {},
   "outputs": [],
   "source": [
    "mat = df_explainable_distances.to_numpy()\n",
    "labels = list(df_explainable_distances.index) #features "
   ]
  },
  {
   "cell_type": "code",
   "execution_count": 52,
   "metadata": {},
   "outputs": [
    {
     "data": {
      "text/plain": [
       "Text(0, 0.5, 'Distance based on explainable features')"
      ]
     },
     "execution_count": 52,
     "metadata": {},
     "output_type": "execute_result"
    },
    {
     "data": {
      "image/png": "[encoded data removed]",
      "text/plain": [
       "<Figure size 640x480 with 1 Axes>"
      ]
     },
     "metadata": {},
     "output_type": "display_data"
    }
   ],
   "source": [
    "plt.cla()\n",
    "plt.clf()\n",
    "\n",
    "dists = squareform(mat)\n",
    "linkage_matrix = linkage(dists, \"single\")\n",
    "with plt.rc_context({\"lines.linewidth\": 0.25}):\n",
    "    dendrogram(\n",
    "        linkage_matrix,\n",
    "        labels=np.array(labels),\n",
    "        color_threshold=0,\n",
    "        above_threshold_color=\"k\",\n",
    "        leaf_rotation=90.0,\n",
    "    )\n",
    "\n",
    "plt.title(title)\n",
    "plt.xlabel(x_label)\n",
    "plt.ylabel(y_label)"
   ]
  },
  {
   "cell_type": "code",
   "execution_count": null,
   "metadata": {},
   "outputs": [],
   "source": []
  }
 ],
 "metadata": {
  "kernelspec": {
   "display_name": "Python 3",
   "language": "python",
   "name": "python3"
  },
  "language_info": {
   "codemirror_mode": {
    "name": "ipython",
    "version": 3
   },
   "file_extension": ".py",
   "mimetype": "text/x-python",
   "name": "python",
   "nbconvert_exporter": "python",
   "pygments_lexer": "ipython3",
   "version": "3.12.4"
  }
 },
 "nbformat": 4,
 "nbformat_minor": 2
}
