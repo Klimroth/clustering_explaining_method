{
 "cells": [
  {
   "cell_type": "code",
   "execution_count": 1,
   "metadata": {},
   "outputs": [],
   "source": [
    "from data_preparation import DataPreparator\n",
    "from apply_clustering import ClusteringApplier"
   ]
  },
  {
   "cell_type": "code",
   "execution_count": 2,
   "metadata": {},
   "outputs": [],
   "source": [
    "from gradient_solver import *\n",
    "from collections import defaultdict"
   ]
  },
  {
   "cell_type": "code",
   "execution_count": 3,
   "metadata": {},
   "outputs": [],
   "source": [
    "import os.path\n",
    "from itertools import chain, combinations\n",
    "from typing import Dict, List, Tuple\n",
    "\n",
    "import numpy as np\n",
    "import pandas as pd\n",
    "from gapstatistics.gapstatistics import GapStatistics\n",
    "from clustering import AgglomerativeClusteringWrapper as AgglomerativeClustering\n",
    "import matplotlib.pyplot as plt\n",
    "import scipy.cluster.hierarchy as sch\n",
    "from scipy.cluster.hierarchy import dendrogram, linkage\n",
    "from scipy.spatial.distance import squareform\n",
    "from scipy.spatial.distance import jensenshannon, correlation, euclidean\n",
    "from tqdm.contrib.concurrent import thread_map\n",
    "\n",
    "import config"
   ]
  },
  {
   "cell_type": "code",
   "execution_count": 4,
   "metadata": {},
   "outputs": [
    {
     "data": {
      "text/plain": [
       "'exact'"
      ]
     },
     "execution_count": 4,
     "metadata": {},
     "output_type": "execute_result"
    }
   ],
   "source": [
    "config.INFERENCE_MODE_EXPLAINING_FEATURES"
   ]
  },
  {
   "cell_type": "code",
   "execution_count": 5,
   "metadata": {},
   "outputs": [
    {
     "data": {
      "application/vnd.jupyter.widget-view+json": {
       "model_id": "08c25600df4b40c5b7f90d91c5bc4507",
       "version_major": 2,
       "version_minor": 0
      },
      "text/plain": [
       "  0%|          | 0/1023 [00:00<?, ?it/s]"
      ]
     },
     "metadata": {},
     "output_type": "display_data"
    }
   ],
   "source": [
    "output = ClusteringApplier.calculate_explainable_distances(\n",
    "    debug=True,\n",
    "    method='exact',\n",
    ")"
   ]
  },
  {
   "cell_type": "code",
   "execution_count": 15,
   "metadata": {},
   "outputs": [
    {
     "data": {
      "text/html": [
       "<div>\n",
       "<style scoped>\n",
       "    .dataframe tbody tr th:only-of-type {\n",
       "        vertical-align: middle;\n",
       "    }\n",
       "\n",
       "    .dataframe tbody tr th {\n",
       "        vertical-align: top;\n",
       "    }\n",
       "\n",
       "    .dataframe thead th {\n",
       "        text-align: right;\n",
       "    }\n",
       "</style>\n",
       "<table border=\"1\" class=\"dataframe\">\n",
       "  <thead>\n",
       "    <tr style=\"text-align: right;\">\n",
       "      <th></th>\n",
       "      <th>correlation</th>\n",
       "      <th>Age</th>\n",
       "      <th>Sex</th>\n",
       "      <th>Zoo</th>\n",
       "      <th>Stable</th>\n",
       "      <th>Genus_ID</th>\n",
       "      <th>Family_ID</th>\n",
       "      <th>Order_ID</th>\n",
       "      <th>SH</th>\n",
       "      <th>Weight</th>\n",
       "      <th>Habitat</th>\n",
       "    </tr>\n",
       "  </thead>\n",
       "  <tbody>\n",
       "    <tr>\n",
       "      <th>0</th>\n",
       "      <td>0.207277</td>\n",
       "      <td>1</td>\n",
       "      <td>0</td>\n",
       "      <td>0</td>\n",
       "      <td>0</td>\n",
       "      <td>1</td>\n",
       "      <td>0</td>\n",
       "      <td>0</td>\n",
       "      <td>0</td>\n",
       "      <td>0</td>\n",
       "      <td>0</td>\n",
       "    </tr>\n",
       "  </tbody>\n",
       "</table>\n",
       "</div>"
      ],
      "text/plain": [
       "   correlation  Age  Sex  Zoo  Stable  Genus_ID  Family_ID  Order_ID  SH  \\\n",
       "0     0.207277    1    0    0       0         1          0         0   0   \n",
       "\n",
       "   Weight  Habitat  \n",
       "0       0        0  "
      ]
     },
     "execution_count": 15,
     "metadata": {},
     "output_type": "execute_result"
    }
   ],
   "source": [
    "output['overview_df']"
   ]
  },
  {
   "cell_type": "code",
   "execution_count": 6,
   "metadata": {},
   "outputs": [],
   "source": [
    "df_explainable: pd.DataFrame = ClusteringApplier.read_explaining_features() # removed [list(config.EXPLAINING_FEATURE_NAMES.keys())]\n",
    "df_observable_distances: pd.DataFrame = pd.read_excel(\n",
    "    f\"{config.OUTPUT_FOLDER_BASE}observables/{config.DATASET_NAME}-distance-normalized-matrix-{config.DISTANCE_MEASURE_FINGERPRINT}-{config.NUMBER_OBSERVABLE_PATTERNS}.xlsx\",\n",
    "    index_col=0\n",
    ")\n",
    "features: List[str] = list(config.EXPLAINING_FEATURE_NAMES.keys())"
   ]
  },
  {
   "cell_type": "code",
   "execution_count": 7,
   "metadata": {},
   "outputs": [],
   "source": [
    "#df_explainable#.set_index(df_explainable.columns[0], inplace=True)\n",
    "#df_observable_distances#.set_index(df_observable_distances.columns[0], inplace=True)"
   ]
  },
  {
   "cell_type": "code",
   "execution_count": 8,
   "metadata": {},
   "outputs": [],
   "source": [
    "valid_indices = np.intersect1d(df_explainable.index, df_observable_distances.index)\n",
    "\n",
    "df_explainable = df_explainable.loc[valid_indices]\n",
    "df_observable_distances = df_observable_distances.loc[valid_indices]\n",
    "\n",
    "df = df_explainable"
   ]
  },
  {
   "cell_type": "code",
   "execution_count": 9,
   "metadata": {},
   "outputs": [],
   "source": [
    "def calculate_pairwise_distances_alt(\n",
    "        df: pd.DataFrame, feature_names: List[str], distance: str,\n",
    "    ) -> Tuple[pd.DataFrame, pd.DataFrame]:\n",
    "\n",
    "        if distance not in [\n",
    "            \"jensenshannon\",\n",
    "            \"euclidean\",\n",
    "            \"correlation\",\n",
    "        ]:\n",
    "            raise Exception(\n",
    "                \"Invalid distance measure used to measure similarity.\"\n",
    "            )\n",
    "\n",
    "        distance_matrix: np.array = np.zeros((df.shape[0], df.shape[0]))\n",
    "\n",
    "        for grp_i in range(df.shape[0]):\n",
    "            for grp_j in range(df.shape[0]):      \n",
    "                fingerprint_1 = df.iloc[grp_i][feature_names].to_numpy()\n",
    "                fingerprint_2 = df.iloc[grp_j][feature_names].to_numpy()\n",
    "                if distance == \"jensenshannon\":\n",
    "                    dist: float = 1.0 * jensenshannon(fingerprint_1, fingerprint_2)\n",
    "                elif distance == \"correlation\":\n",
    "                    dist = 1.0 * correlation(fingerprint_1, fingerprint_2)\n",
    "                else:\n",
    "                    dist = 1.0 * euclidean(fingerprint_1, fingerprint_2)\n",
    "                distance_matrix[grp_i, grp_j] = dist\n",
    "\n",
    "        normalised_distance_matrix = distance_matrix / np.sum(distance_matrix)\n",
    "\n",
    "        return pd.DataFrame(\n",
    "            distance_matrix, columns=df.index, index=df.index\n",
    "        ), pd.DataFrame(\n",
    "            normalised_distance_matrix, columns=df.index, index=df.index, \n",
    "        )\n",
    "\n",
    "def calculate_pairwise_distances(\n",
    "            df: pd.DataFrame, feature_names: List[str], distance: str,\n",
    "        ) -> Tuple[pd.DataFrame, pd.DataFrame]:\n",
    "\n",
    "        if distance not in [\n",
    "            \"jensenshannon\",\n",
    "            \"euclidean\",\n",
    "            \"correlation\",\n",
    "        ]:\n",
    "            raise Exception(\n",
    "                \"Invalid distance measure used to measure similarity.\"\n",
    "            )\n",
    "\n",
    "        distance_matrix: np.array = np.zeros((df.shape[0], df.shape[0]))\n",
    "        arr = df.loc[:, feature_names].to_numpy()\n",
    "\n",
    "        for grp_i in range(df.shape[0]):\n",
    "            for grp_j in range(df.shape[0]):      \n",
    "                fingerprint_1 = arr[grp_i]\n",
    "                fingerprint_2 = arr[grp_j]\n",
    "                if distance == \"jensenshannon\":\n",
    "                    dist: float = 1.0 * jensenshannon(fingerprint_1, fingerprint_2)\n",
    "                elif distance == \"correlation\":\n",
    "                    dist = 1.0 * correlation(fingerprint_1, fingerprint_2, centered=False)\n",
    "                else:\n",
    "                    dist = 1.0 * euclidean(fingerprint_1, fingerprint_2)\n",
    "                distance_matrix[grp_i, grp_j] = dist\n",
    "\n",
    "        normalised_distance_matrix = distance_matrix / np.sum(distance_matrix)\n",
    "\n",
    "        return pd.DataFrame(\n",
    "            distance_matrix, columns=df.index, index=df.index\n",
    "        ), pd.DataFrame(\n",
    "            normalised_distance_matrix, columns=df.index, index=df.index, \n",
    "        )\n",
    "\n",
    "def calculate_pairwise_distances_c(\n",
    "            df: pd.DataFrame, feature_names: List[str], distance: str,\n",
    "        ) -> Tuple[pd.DataFrame, pd.DataFrame]:\n",
    "\n",
    "        if distance not in [\n",
    "            \"jensenshannon\",\n",
    "            \"euclidean\",\n",
    "            \"correlation\",\n",
    "        ]:\n",
    "            raise Exception(\n",
    "                \"Invalid distance measure used to measure similarity.\"\n",
    "            )\n",
    "\n",
    "        distance_matrix: np.array = np.zeros((df.shape[0], df.shape[0]))\n",
    "        arr = df.loc[:, feature_names].to_numpy()\n",
    "\n",
    "        for grp_i in range(df.shape[0]):\n",
    "            for grp_j in range(df.shape[0]):      \n",
    "                fingerprint_1 = arr[grp_i]\n",
    "                fingerprint_2 = arr[grp_j]\n",
    "                if distance == \"jensenshannon\":\n",
    "                    dist: float = 1.0 * jensenshannon(fingerprint_1, fingerprint_2)\n",
    "                elif distance == \"correlation\":\n",
    "                    dist = 1.0 * correlation(fingerprint_1, fingerprint_2, centered=True)\n",
    "                else:\n",
    "                    dist = 1.0 * euclidean(fingerprint_1, fingerprint_2)\n",
    "                distance_matrix[grp_i, grp_j] = dist\n",
    "\n",
    "        normalised_distance_matrix = distance_matrix / np.sum(distance_matrix)\n",
    "\n",
    "        return pd.DataFrame(\n",
    "            distance_matrix, columns=df.index, index=df.index\n",
    "        ), pd.DataFrame(\n",
    "            normalised_distance_matrix, columns=df.index, index=df.index, \n",
    "        )\n",
    "\n",
    "def calculate_pairwise_distances2(\n",
    "        df: pd.DataFrame, feature_names: List[str], distance: str,\n",
    "    ) -> Tuple[pd.DataFrame, pd.DataFrame]:\n",
    "\n",
    "        if distance not in [\n",
    "            \"jensenshannon\",\n",
    "            \"euclidean\",\n",
    "            \"correlation\",\n",
    "        ]:\n",
    "            raise Exception(\n",
    "                \"Invalid distance measure used to measure similarity.\"\n",
    "            )\n",
    "\n",
    "        distance_matrix: np.array = np.zeros((df.shape[0], df.shape[0]))\n",
    "        fingerprint_df = df.loc[:, feature_names]\n",
    "        fingerprint_array = fingerprint_df.to_numpy()\n",
    "\n",
    "        if distance == \"jensenshannon\":\n",
    "            dist = lambda u,v: 1.0 * jensenshannon(u,v)\n",
    "        elif distance == \"correlation\":\n",
    "            dist = lambda u,v: 1.0 * correlation(u,v, centered=False)\n",
    "        else:\n",
    "            dist = lambda u,v: 1.0 * euclidean(u,v) \n",
    "\n",
    "        for i in range(df.shape[0]):\n",
    "            other_fingerprint = fingerprint_array[i]   \n",
    "            distance_matrix[:, i] = np.apply_along_axis(\n",
    "                 func1d=dist, axis=1, arr=fingerprint_array, v=other_fingerprint)\n",
    "\n",
    "        normalised_distance_matrix = distance_matrix / np.sum(distance_matrix)\n",
    "\n",
    "        return pd.DataFrame(\n",
    "            distance_matrix, columns=df.index, index=df.index\n",
    "        ), pd.DataFrame(\n",
    "            normalised_distance_matrix, columns=df.index, index=df.index, \n",
    "        )\n",
    "\n",
    "def numpy_matrix_correlation(A:np.array) -> np.array:\n",
    "\n",
    "    ######################################################################################\n",
    "    ### Conversion of the correlation distance from scipy.spatial.distance to pytorch. ###\n",
    "    ######################################################################################\n",
    "\n",
    "    \"\"\"\n",
    "    Compute the pairwise correlation distance between elements in a 2-D matrix.\n",
    "\n",
    "    The correlation distance between two `u` and `v` in `A`, is\n",
    "    defined as\n",
    "\n",
    "    .. math::\n",
    "\n",
    "        1 - \\\\frac{(u - \\\\bar{u}) \\\\cdot (v - \\\\bar{v})}\n",
    "                  {{\\\\|(u - \\\\bar{u})\\\\|}_2 {\\\\|(v - \\\\bar{v})\\\\|}_2}\n",
    "\n",
    "    where :math:`\\\\bar{u}` is the mean of the elements of `u`\n",
    "    and :math:`x \\\\cdot y` is the dot product of :math:`x` and :math:`y`.\n",
    "\n",
    "    Parameters\n",
    "    ----------\n",
    "    A : (N,M) array_like\n",
    "        Input array.\n",
    "\n",
    "    Returns\n",
    "    -------\n",
    "    correlation : double\n",
    "        The correlation distances in 2-D array `A`.\n",
    "    \"\"\"\n",
    "    \n",
    "    AA = np.matmul(A, A.T)\n",
    "    diag = np.diag(AA)\n",
    "    dist = 1.0 - AA / np.sqrt(diag.reshape(-1, 1) * diag.reshape(1, -1))\n",
    "    # Clip the result to avoid rounding error\n",
    "    return np.clip(dist, 0.0, 2.0)\n",
    "\n",
    "def numpy_relative_entropy(x:np.array, y:np.array) -> np.array:\n",
    "    return (x * np.log(x/y))\n",
    "\n",
    "def numpy_matrix_jensenshannon(A:np.array, epsilon:float=1e-20) -> np.array:\n",
    "\n",
    "    ########################################################################################\n",
    "    ### Conversion of the jensenshannon distance from scipy.spatial.distance to pytorch. ###\n",
    "    ########################################################################################\n",
    "\n",
    "    \"\"\"\n",
    "    Compute the pairwise Jensen-Shannon distance (metric) between\n",
    "    all entries in a matrix. This is the square root\n",
    "    of the Jensen-Shannon divergence.\n",
    "\n",
    "    The Jensen-Shannon distance between two probability\n",
    "    vectors `p` and `q` is defined as,\n",
    "\n",
    "    .. math::\n",
    "\n",
    "       \\\\sqrt{\\\\frac{D(p \\\\parallel m) + D(q \\\\parallel m)}{2}}\n",
    "\n",
    "    where :math:`m` is the pointwise mean of :math:`p` and :math:`q`\n",
    "    and :math:`D` is the Kullback-Leibler divergence.\n",
    "\n",
    "    This routine will normalize `p` and `q` if they don't sum to 1.0.\n",
    "\n",
    "    Parameters\n",
    "    ----------\n",
    "    A : (N,M) array_like\n",
    "        matrix of probability vectors\n",
    "    \n",
    "    Returns\n",
    "    -------\n",
    "    js : double or ndarray\n",
    "        The Jensen-Shannon distances along the `axis`.\n",
    "\n",
    "    \"\"\"\n",
    "    \n",
    "    clamped_A = A.clip(min = epsilon)\n",
    "    normalized_A = clamped_A / np.expand_dims(np.sum(clamped_A, axis=1), -1)\n",
    "    m_A = np.permute_dims(np.expand_dims(normalized_A, -1) + normalized_A.T, (2,0,1)) / 2.0\n",
    "    relative_entropies = numpy_relative_entropy(normalized_A, m_A) + epsilon\n",
    "    js = (relative_entropies.sum(axis = 2) + relative_entropies.sum(axis = 2).T).clip(min = epsilon)\n",
    "    return np.sqrt(js / 2.0)\n",
    "\n",
    "def calculate_pairwise_distances3(\n",
    "        df: pd.DataFrame, feature_names: List[str], distance: str,\n",
    "    ) -> Tuple[pd.DataFrame, pd.DataFrame]:\n",
    "\n",
    "        if distance not in [\n",
    "            \"jensenshannon\",\n",
    "            \"correlation\",\n",
    "        ]:\n",
    "            raise Exception(\n",
    "                \"Invalid distance measure used to measure similarity.\"\n",
    "            )\n",
    "        \n",
    "        fingerprint_df = df.loc[:, feature_names]\n",
    "        fingerprint_array = fingerprint_df.to_numpy()\n",
    "\n",
    "        if distance == \"jensenshannon\":\n",
    "            distance_matrix = numpy_matrix_jensenshannon(fingerprint_array)\n",
    "        elif distance == \"correlation\":\n",
    "            distance_matrix = numpy_matrix_correlation(fingerprint_array)\n",
    "        else:\n",
    "             raise Exception(f'Not Implemented: {distance}')\n",
    "\n",
    "\n",
    "        normalised_distance_matrix = distance_matrix / np.sum(distance_matrix)\n",
    "\n",
    "        return pd.DataFrame(\n",
    "            distance_matrix, columns=df.index, index=df.index\n",
    "        ), pd.DataFrame(\n",
    "            normalised_distance_matrix, columns=df.index, index=df.index, \n",
    "        )\n",
    "\n",
    "def calculate_pairwise_distances3c(\n",
    "        df: pd.DataFrame, feature_names: List[str], distance: str,\n",
    "    ) -> Tuple[pd.DataFrame, pd.DataFrame]:\n",
    "\n",
    "        if distance not in [\n",
    "            \"jensenshannon\",\n",
    "            \"correlation\",\n",
    "        ]:\n",
    "            raise Exception(\n",
    "                \"Invalid distance measure used to measure similarity.\"\n",
    "            )\n",
    "        \n",
    "        fingerprint_df = df.loc[:, feature_names]\n",
    "        fingerprint_array = fingerprint_df.to_numpy()\n",
    "        fingerprint_array = fingerprint_array - np.mean(fingerprint_array)\n",
    "\n",
    "        if distance == \"jensenshannon\":\n",
    "            distance_matrix = numpy_matrix_jensenshannon(fingerprint_array)\n",
    "        elif distance == \"correlation\":\n",
    "            distance_matrix = numpy_matrix_correlation(fingerprint_array)\n",
    "        else:\n",
    "             raise Exception(f'Not Implemented: {distance}')\n",
    "\n",
    "        normalised_distance_matrix = distance_matrix / np.sum(distance_matrix)\n",
    "\n",
    "        return pd.DataFrame(\n",
    "            distance_matrix, columns=df.index, index=df.index\n",
    "        ), pd.DataFrame(\n",
    "            normalised_distance_matrix, columns=df.index, index=df.index, \n",
    "        )\n",
    "\n",
    "def calculate_pairwise_distances4(\n",
    "        df: pd.DataFrame, feature_names: List[str], distance: str,\n",
    "    ) -> Tuple[pd.DataFrame, pd.DataFrame]:\n",
    "\n",
    "        if distance not in [\n",
    "            \"jensenshannon\",\n",
    "            \"euclidean\",\n",
    "            \"correlation\",\n",
    "        ]:\n",
    "            raise Exception(\n",
    "                \"Invalid distance measure used to measure similarity.\"\n",
    "            )\n",
    "\n",
    "        distance_matrix: np.array = np.zeros((df.shape[0], df.shape[0]))\n",
    "        fingerprint_df = df.loc[:, feature_names]\n",
    "        fingerprint_array = fingerprint_df.to_numpy()\n",
    "\n",
    "        if distance == \"jensenshannon\":\n",
    "            dist = lambda u,v: 1.0 * torch_jensenshannon(torch.tensor(u),torch.tensor(v)).numpy()\n",
    "        elif distance == \"correlation\":\n",
    "            dist = lambda u,v: 1.0 * torch_correlation(torch.tensor(u),torch.tensor(v), w = None, centered=False).numpy()\n",
    "        else:\n",
    "            dist = lambda u,v: 1.0 * euclidean(u,v) \n",
    "\n",
    "        for i in range(df.shape[0]):\n",
    "            other_fingerprint = fingerprint_array[i]   \n",
    "            distance_matrix[:, i] = np.apply_along_axis(\n",
    "                 func1d=dist, axis=1, arr=fingerprint_array, v=other_fingerprint)\n",
    "\n",
    "        normalised_distance_matrix = distance_matrix / np.sum(distance_matrix)\n",
    "\n",
    "        return pd.DataFrame(\n",
    "            distance_matrix, columns=df.index, index=df.index\n",
    "        ), pd.DataFrame(\n",
    "            normalised_distance_matrix, columns=df.index, index=df.index, \n",
    "        )"
   ]
  },
  {
   "cell_type": "code",
   "execution_count": 10,
   "metadata": {},
   "outputs": [],
   "source": [
    "sparsity_parameter = 0.05\n",
    "distance_measure = 'correlation'\n",
    "\n",
    "powerset_features = chain.from_iterable(\n",
    "    combinations(features, r) for r in range(2, len(features) + 1)\n",
    ")\n",
    "powerset_method_input = [\n",
    "    [\n",
    "        list(feature_set), df_explainable, df_observable_distances, sparsity_parameter, distance_measure]\n",
    "    for feature_set in powerset_features\n",
    "]\n",
    "\n",
    "dummy_input = powerset_method_input[-1]\n",
    "input_df = dummy_input[1]\n",
    "input_feature_names = dummy_input[0]\n",
    "input_distance = dummy_input[4]"
   ]
  },
  {
   "cell_type": "code",
   "execution_count": 11,
   "metadata": {},
   "outputs": [],
   "source": [
    "fingerprint_df = df.loc[:, input_feature_names]\n",
    "fingerprint_array = fingerprint_df.to_numpy()"
   ]
  },
  {
   "cell_type": "code",
   "execution_count": 12,
   "metadata": {},
   "outputs": [],
   "source": [
    "input_distance = 'correlation' # 'jensenshannon'"
   ]
  },
  {
   "cell_type": "code",
   "execution_count": 13,
   "metadata": {},
   "outputs": [],
   "source": [
    "ca, cb = calculate_pairwise_distances_c(input_df, input_feature_names, input_distance)\n",
    "a3c, b3c = calculate_pairwise_distances3c(input_df, input_feature_names, input_distance)"
   ]
  },
  {
   "cell_type": "code",
   "execution_count": 14,
   "metadata": {},
   "outputs": [],
   "source": [
    "a, b = calculate_pairwise_distances(input_df, input_feature_names, input_distance)\n",
    "a2, b2 = calculate_pairwise_distances2(input_df, input_feature_names, input_distance)\n",
    "a3, b3 = calculate_pairwise_distances3(input_df, input_feature_names, input_distance)\n",
    "a4, b4 = calculate_pairwise_distances4(input_df, input_feature_names, input_distance)"
   ]
  },
  {
   "cell_type": "code",
   "execution_count": 15,
   "metadata": {},
   "outputs": [
    {
     "data": {
      "text/plain": [
       "(np.True_, np.True_)"
      ]
     },
     "execution_count": 15,
     "metadata": {},
     "output_type": "execute_result"
    }
   ],
   "source": [
    "np.isclose(a, a2).all().all(), np.isclose(b, b2).all().all()"
   ]
  },
  {
   "cell_type": "code",
   "execution_count": 16,
   "metadata": {},
   "outputs": [
    {
     "data": {
      "text/plain": [
       "(np.True_, np.True_)"
      ]
     },
     "execution_count": 16,
     "metadata": {},
     "output_type": "execute_result"
    }
   ],
   "source": [
    "np.isclose(a, a3).all().all(), np.isclose(b, b3).all().all()"
   ]
  },
  {
   "cell_type": "code",
   "execution_count": 17,
   "metadata": {},
   "outputs": [
    {
     "data": {
      "text/plain": [
       "(np.True_, np.True_)"
      ]
     },
     "execution_count": 17,
     "metadata": {},
     "output_type": "execute_result"
    }
   ],
   "source": [
    "np.isclose(a, a4).all().all(), np.isclose(b, b4).all().all()"
   ]
  },
  {
   "cell_type": "code",
   "execution_count": 18,
   "metadata": {},
   "outputs": [
    {
     "data": {
      "text/plain": [
       "(np.True_, np.True_)"
      ]
     },
     "execution_count": 18,
     "metadata": {},
     "output_type": "execute_result"
    }
   ],
   "source": [
    "np.isclose(a3, a4).all().all(), np.isclose(b3, b4).all().all()"
   ]
  },
  {
   "cell_type": "code",
   "execution_count": 19,
   "metadata": {},
   "outputs": [
    {
     "name": "stdout",
     "output_type": "stream",
     "text": [
      "2.14 s ± 68.4 ms per loop (mean ± std. dev. of 7 runs, 1 loop each)\n"
     ]
    }
   ],
   "source": [
    "%timeit calculate_pairwise_distances_alt(input_df, input_feature_names, input_distance)"
   ]
  },
  {
   "cell_type": "code",
   "execution_count": 20,
   "metadata": {},
   "outputs": [
    {
     "name": "stdout",
     "output_type": "stream",
     "text": [
      "53 ms ± 807 µs per loop (mean ± std. dev. of 7 runs, 10 loops each)\n"
     ]
    }
   ],
   "source": [
    "%timeit calculate_pairwise_distances(input_df, input_feature_names, input_distance)"
   ]
  },
  {
   "cell_type": "code",
   "execution_count": 21,
   "metadata": {},
   "outputs": [
    {
     "name": "stdout",
     "output_type": "stream",
     "text": [
      "60.1 ms ± 1.68 ms per loop (mean ± std. dev. of 7 runs, 10 loops each)\n"
     ]
    }
   ],
   "source": [
    "%timeit calculate_pairwise_distances2(input_df, input_feature_names, input_distance)"
   ]
  },
  {
   "cell_type": "code",
   "execution_count": 22,
   "metadata": {},
   "outputs": [
    {
     "name": "stdout",
     "output_type": "stream",
     "text": [
      "223 µs ± 2.93 µs per loop (mean ± std. dev. of 7 runs, 1,000 loops each)\n"
     ]
    }
   ],
   "source": [
    "%timeit calculate_pairwise_distances3(input_df, input_feature_names, input_distance)"
   ]
  },
  {
   "cell_type": "code",
   "execution_count": 23,
   "metadata": {},
   "outputs": [
    {
     "data": {
      "application/vnd.jupyter.widget-view+json": {
       "model_id": "242a2c16134840a582ad4c515417b525",
       "version_major": 2,
       "version_minor": 0
      },
      "text/plain": [
       "  0%|          | 0/1013 [00:00<?, ?it/s]"
      ]
     },
     "metadata": {},
     "output_type": "display_data"
    }
   ],
   "source": [
    "correlation_coefficient_tuples: List[Tuple] = thread_map(\n",
    "    ClusteringApplier._get_correlation_coefficient,\n",
    "    powerset_method_input,\n",
    "    max_workers=config.MAX_NUM_THREADS,\n",
    ")\n",
    "\n",
    "correlation_coefficient_tuples = np.array(correlation_coefficient_tuples)\n",
    "correlation_coefficients = correlation_coefficient_tuples"
   ]
  },
  {
   "cell_type": "code",
   "execution_count": 32,
   "metadata": {},
   "outputs": [
    {
     "data": {
      "text/plain": [
       "True"
      ]
     },
     "execution_count": 32,
     "metadata": {},
     "output_type": "execute_result"
    }
   ],
   "source": [
    "0.2 > -np.inf"
   ]
  },
  {
   "cell_type": "code",
   "execution_count": 31,
   "metadata": {},
   "outputs": [
    {
     "data": {
      "text/plain": [
       "(1013, 2)"
      ]
     },
     "execution_count": 31,
     "metadata": {},
     "output_type": "execute_result"
    }
   ],
   "source": [
    "correlation_coefficient_tuples.shape"
   ]
  },
  {
   "cell_type": "code",
   "execution_count": 24,
   "metadata": {},
   "outputs": [],
   "source": [
    "correlation_coefficient_tuples = np.array(correlation_coefficient_tuples)\n",
    "correlation_coefficients_with_penalty = correlation_coefficient_tuples[:, 0]\n",
    "correlation_coefficients_without_penalty = correlation_coefficient_tuples[:, 1]\n",
    "\n",
    "maximum_correlation_with_penalty: float = max(correlation_coefficients_with_penalty)\n",
    "maximum_correlation_without_penalty = -np.inf\n",
    "optimal_feature_set: List[str] = features\n",
    "\n",
    "for index in range(len(correlation_coefficients_with_penalty)):\n",
    "    if correlation_coefficients_with_penalty[index] == maximum_correlation_with_penalty:\n",
    "        current_feature_set = powerset_method_input[index][0]\n",
    "        current_correlation_without_penalty = correlation_coefficients_without_penalty[index]\n",
    "        if current_correlation_without_penalty > maximum_correlation_without_penalty:\n",
    "            maximum_correlation_without_penalty = current_correlation_without_penalty\n",
    "            optimal_feature_set = current_feature_set"
   ]
  },
  {
   "cell_type": "code",
   "execution_count": 26,
   "metadata": {},
   "outputs": [
    {
     "data": {
      "text/plain": [
       "<Axes: ylabel='Count'>"
      ]
     },
     "execution_count": 26,
     "metadata": {},
     "output_type": "execute_result"
    },
    {
     "data": {
      "image/png": "[encoded data removed]",
      "text/plain": [
       "<Figure size 640x480 with 1 Axes>"
      ]
     },
     "metadata": {},
     "output_type": "display_data"
    }
   ],
   "source": [
    "sns.histplot(correlation_coefficients_with_penalty)\n",
    "sns.histplot(correlation_coefficients_without_penalty)"
   ]
  },
  {
   "cell_type": "code",
   "execution_count": 10,
   "metadata": {},
   "outputs": [],
   "source": [
    "##############\n",
    "# Heuristics #\n",
    "##############\n"
   ]
  },
  {
   "cell_type": "code",
   "execution_count": 12,
   "metadata": {},
   "outputs": [
    {
     "data": {
      "application/vnd.jupyter.widget-view+json": {
       "model_id": "b8ee2e186db641cbbb401a61c41d38c5",
       "version_major": 2,
       "version_minor": 0
      },
      "text/plain": [
       "  0%|          | 0/1023 [00:00<?, ?it/s]"
      ]
     },
     "metadata": {},
     "output_type": "display_data"
    }
   ],
   "source": [
    "sparsity_parameter = 0.07\n",
    "distance_measure = 'correlation'\n",
    "\n",
    "powerset_features = chain.from_iterable(\n",
    "    combinations(features, r) for r in range(1, len(features) + 1)\n",
    ")\n",
    "powerset_method_input = [\n",
    "    [\n",
    "        list(feature_set), df_explainable, df_observable_distances, sparsity_parameter, distance_measure]\n",
    "    for feature_set in powerset_features\n",
    "]\n",
    "correlation_coefficients: List[float] = thread_map(\n",
    "    ClusteringApplier._get_correlation_coefficient,\n",
    "    powerset_method_input,\n",
    "    max_workers=config.MAX_NUM_THREADS,\n",
    ")\n",
    "\n",
    "maximum_correlation: float = max(correlation_coefficients)\n",
    "optimal_feature_set: List[str] = features\n",
    "current_feature_size = len(features)\n",
    "\n",
    "for index in range(len(correlation_coefficients)):\n",
    "    if correlation_coefficients[index] == maximum_correlation:\n",
    "        current_feature_set = powerset_method_input[index][0]\n",
    "        if len(current_feature_set) < current_feature_size:\n",
    "            current_feature_size = len(current_feature_set)\n",
    "            optimal_feature_set = current_feature_set"
   ]
  },
  {
   "cell_type": "code",
   "execution_count": 20,
   "metadata": {},
   "outputs": [],
   "source": [
    "# ToDo: Starting Set Idee"
   ]
  },
  {
   "cell_type": "code",
   "execution_count": 32,
   "metadata": {},
   "outputs": [],
   "source": [
    "N = 3"
   ]
  },
  {
   "cell_type": "code",
   "execution_count": 33,
   "metadata": {},
   "outputs": [
    {
     "data": {
      "application/vnd.jupyter.widget-view+json": {
       "model_id": "0d9299a3b59943f88753f8ff9c2bdc71",
       "version_major": 2,
       "version_minor": 0
      },
      "text/plain": [
       "  0%|          | 0/175 [00:00<?, ?it/s]"
      ]
     },
     "metadata": {},
     "output_type": "display_data"
    },
    {
     "name": "stdout",
     "output_type": "stream",
     "text": [
      "Started with ['Age', 'Genus_ID']\n",
      "Refuted 'Weight'\n",
      "Best score: 0.207\n"
     ]
    }
   ],
   "source": [
    "subset_powerset_features = chain.from_iterable(\n",
    "    combinations(features, r) for r in range(1, N+1)\n",
    ")\n",
    "subset_powerset_method_input = [\n",
    "    [\n",
    "        list(feature_set), df_explainable, df_observable_distances, sparsity_parameter, distance_measure]\n",
    "    for feature_set in subset_powerset_features\n",
    "]\n",
    "subset_correlation_coefficient_tuples: List[Tuple] = thread_map(\n",
    "    ClusteringApplier._get_correlation_coefficient,\n",
    "    subset_powerset_method_input,\n",
    "    max_workers=config.MAX_NUM_THREADS,\n",
    ")\n",
    "\n",
    "subset_correlation_coefficient_tuples = np.array(subset_correlation_coefficient_tuples)\n",
    "subset_correlation_coefficients_with_penalty = subset_correlation_coefficient_tuples[:, 0]\n",
    "subset_correlation_coefficients_without_penalty = subset_correlation_coefficient_tuples[:, 1]\n",
    "\n",
    "feature_importances = defaultdict(lambda: 0.)\n",
    "part_to_sum_feature_importances = defaultdict(lambda: 0.)\n",
    "\n",
    "for j in range(len(features), len(subset_powerset_method_input)):\n",
    "    feature_subset = subset_powerset_method_input[j][0]\n",
    "    importance = subset_correlation_coefficients_with_penalty[j]\n",
    "    feature_importances[j] = importance\n",
    "\n",
    "cross_importance_df = pd.DataFrame(index = features, columns= features)\n",
    "\n",
    "for j in range(len(features), len(subset_powerset_method_input)):\n",
    "    feature_subset = subset_powerset_method_input[j][0]\n",
    "    importance = subset_correlation_coefficients_with_penalty[j]\n",
    "    cross_importance_df.loc[feature_subset[0], feature_subset[1]] = importance\n",
    "    cross_importance_df.loc[feature_subset[1], feature_subset[0]] = importance\n",
    "\n",
    "starting_index = np.argmax(list(feature_importances.values()))\n",
    "starting_pair = list(feature_importances.keys())[starting_index]\n",
    "starting_features = subset_powerset_method_input[starting_pair][0]\n",
    "\n",
    "selected_features = starting_features\n",
    "print(f'Started with {starting_features}')\n",
    "\n",
    "_current_score = ClusteringApplier._get_correlation_coefficient([\n",
    "    selected_features,\n",
    "    df_explainable,\n",
    "    df_observable_distances,\n",
    "    sparsity_parameter,\n",
    "    distance_measure\n",
    "])\n",
    "current_score_with_penalty = _current_score[0]\n",
    "current_score_without_penalty = _current_score[1]\n",
    "\n",
    "base_feature_importances = defaultdict(lambda: [])\n",
    "for i in range(len(features)):\n",
    "    feature = subset_powerset_method_input[i][0][0]\n",
    "    base_value = subset_correlation_coefficients_with_penalty[i]\n",
    "    base_feature_importances[feature].append(base_value)\n",
    "\n",
    "base_df = pd.DataFrame(base_feature_importances)\n",
    "best_base = base_df.T.iloc[base_df.sum(axis=0).argmax()]\n",
    "best_base_feature = best_base.name\n",
    "best_base_score = float(best_base.values[0])\n",
    "\n",
    "while True:\n",
    "    \n",
    "    remaining_indices = cross_importance_df.loc[:, selected_features].drop(selected_features).sum(axis=1)\n",
    "    if len(remaining_indices) == 0:\n",
    "        break\n",
    "\n",
    "    score_dict = {}\n",
    "    score_without_penalty_dict = {}\n",
    "    for _feature in cross_importance_df.drop(selected_features).index:\n",
    "        _score = ClusteringApplier._get_correlation_coefficient([\n",
    "            selected_features + [_feature],\n",
    "            df_explainable,\n",
    "            df_observable_distances,\n",
    "            sparsity_parameter,\n",
    "            distance_measure\n",
    "        ])\n",
    "        score_without_penalty_dict[str(selected_features + [_feature])] = _score[1]\n",
    "        score_dict[_score[0]] = _feature\n",
    " \n",
    "    next_score = max(score_dict.keys())\n",
    "    next_feature = score_dict[next_score]\n",
    "\n",
    "    if next_score > current_score_with_penalty:\n",
    "        print(f\"Added '{next_feature}'\")\n",
    "        selected_features = selected_features + [next_feature]\n",
    "        current_score_with_penalty = next_score\n",
    "        current_score_without_penalty = score_without_penalty_dict[str(selected_features)]\n",
    "    else:\n",
    "        print(f\"Refuted '{next_feature}'\")\n",
    "        break\n",
    "        \n",
    "if current_score_with_penalty <= best_base_score:\n",
    "    selected_features = [best_base_feature]\n",
    "    current_score_without_penalty = [best_base_score]\n",
    "    print(f'Override: Base feature performed best: {best_base_feature}')\n",
    "\n",
    "best_score_with_penalty = ClusteringApplier._get_correlation_coefficient([\n",
    "    selected_features,\n",
    "    df_explainable,\n",
    "    df_observable_distances,\n",
    "    sparsity_parameter,\n",
    "    distance_measure\n",
    "])[1]\n",
    "\n",
    "print(f'Best score: {best_score_with_penalty:.3f}')"
   ]
  },
  {
   "cell_type": "code",
   "execution_count": 22,
   "metadata": {},
   "outputs": [
    {
     "data": {
      "text/html": [
       "<div>\n",
       "<style scoped>\n",
       "    .dataframe tbody tr th:only-of-type {\n",
       "        vertical-align: middle;\n",
       "    }\n",
       "\n",
       "    .dataframe tbody tr th {\n",
       "        vertical-align: top;\n",
       "    }\n",
       "\n",
       "    .dataframe thead th {\n",
       "        text-align: right;\n",
       "    }\n",
       "</style>\n",
       "<table border=\"1\" class=\"dataframe\">\n",
       "  <thead>\n",
       "    <tr style=\"text-align: right;\">\n",
       "      <th></th>\n",
       "      <th>Age</th>\n",
       "      <th>Sex</th>\n",
       "      <th>Zoo</th>\n",
       "      <th>Stable</th>\n",
       "      <th>Genus_ID</th>\n",
       "      <th>Family_ID</th>\n",
       "      <th>Order_ID</th>\n",
       "      <th>SH</th>\n",
       "      <th>Weight</th>\n",
       "      <th>Habitat</th>\n",
       "    </tr>\n",
       "  </thead>\n",
       "  <tbody>\n",
       "    <tr>\n",
       "      <th>Age</th>\n",
       "      <td>NaN</td>\n",
       "      <td>-0.565851</td>\n",
       "      <td>NaN</td>\n",
       "      <td>NaN</td>\n",
       "      <td>NaN</td>\n",
       "      <td>NaN</td>\n",
       "      <td>NaN</td>\n",
       "      <td>NaN</td>\n",
       "      <td>NaN</td>\n",
       "      <td>NaN</td>\n",
       "    </tr>\n",
       "    <tr>\n",
       "      <th>Sex</th>\n",
       "      <td>-0.565851</td>\n",
       "      <td>NaN</td>\n",
       "      <td>NaN</td>\n",
       "      <td>NaN</td>\n",
       "      <td>NaN</td>\n",
       "      <td>NaN</td>\n",
       "      <td>NaN</td>\n",
       "      <td>NaN</td>\n",
       "      <td>NaN</td>\n",
       "      <td>NaN</td>\n",
       "    </tr>\n",
       "    <tr>\n",
       "      <th>Zoo</th>\n",
       "      <td>NaN</td>\n",
       "      <td>NaN</td>\n",
       "      <td>NaN</td>\n",
       "      <td>NaN</td>\n",
       "      <td>NaN</td>\n",
       "      <td>NaN</td>\n",
       "      <td>NaN</td>\n",
       "      <td>NaN</td>\n",
       "      <td>NaN</td>\n",
       "      <td>NaN</td>\n",
       "    </tr>\n",
       "    <tr>\n",
       "      <th>Stable</th>\n",
       "      <td>NaN</td>\n",
       "      <td>NaN</td>\n",
       "      <td>NaN</td>\n",
       "      <td>NaN</td>\n",
       "      <td>NaN</td>\n",
       "      <td>NaN</td>\n",
       "      <td>NaN</td>\n",
       "      <td>NaN</td>\n",
       "      <td>NaN</td>\n",
       "      <td>NaN</td>\n",
       "    </tr>\n",
       "    <tr>\n",
       "      <th>Genus_ID</th>\n",
       "      <td>NaN</td>\n",
       "      <td>NaN</td>\n",
       "      <td>NaN</td>\n",
       "      <td>NaN</td>\n",
       "      <td>NaN</td>\n",
       "      <td>NaN</td>\n",
       "      <td>NaN</td>\n",
       "      <td>NaN</td>\n",
       "      <td>NaN</td>\n",
       "      <td>NaN</td>\n",
       "    </tr>\n",
       "    <tr>\n",
       "      <th>Family_ID</th>\n",
       "      <td>NaN</td>\n",
       "      <td>NaN</td>\n",
       "      <td>NaN</td>\n",
       "      <td>NaN</td>\n",
       "      <td>NaN</td>\n",
       "      <td>NaN</td>\n",
       "      <td>NaN</td>\n",
       "      <td>NaN</td>\n",
       "      <td>NaN</td>\n",
       "      <td>NaN</td>\n",
       "    </tr>\n",
       "    <tr>\n",
       "      <th>Order_ID</th>\n",
       "      <td>NaN</td>\n",
       "      <td>NaN</td>\n",
       "      <td>NaN</td>\n",
       "      <td>NaN</td>\n",
       "      <td>NaN</td>\n",
       "      <td>NaN</td>\n",
       "      <td>NaN</td>\n",
       "      <td>NaN</td>\n",
       "      <td>NaN</td>\n",
       "      <td>NaN</td>\n",
       "    </tr>\n",
       "    <tr>\n",
       "      <th>SH</th>\n",
       "      <td>NaN</td>\n",
       "      <td>NaN</td>\n",
       "      <td>NaN</td>\n",
       "      <td>NaN</td>\n",
       "      <td>NaN</td>\n",
       "      <td>NaN</td>\n",
       "      <td>NaN</td>\n",
       "      <td>NaN</td>\n",
       "      <td>NaN</td>\n",
       "      <td>NaN</td>\n",
       "    </tr>\n",
       "    <tr>\n",
       "      <th>Weight</th>\n",
       "      <td>NaN</td>\n",
       "      <td>NaN</td>\n",
       "      <td>NaN</td>\n",
       "      <td>NaN</td>\n",
       "      <td>NaN</td>\n",
       "      <td>NaN</td>\n",
       "      <td>NaN</td>\n",
       "      <td>NaN</td>\n",
       "      <td>NaN</td>\n",
       "      <td>NaN</td>\n",
       "    </tr>\n",
       "    <tr>\n",
       "      <th>Habitat</th>\n",
       "      <td>NaN</td>\n",
       "      <td>NaN</td>\n",
       "      <td>NaN</td>\n",
       "      <td>NaN</td>\n",
       "      <td>NaN</td>\n",
       "      <td>NaN</td>\n",
       "      <td>NaN</td>\n",
       "      <td>NaN</td>\n",
       "      <td>NaN</td>\n",
       "      <td>NaN</td>\n",
       "    </tr>\n",
       "  </tbody>\n",
       "</table>\n",
       "</div>"
      ],
      "text/plain": [
       "                Age       Sex  Zoo Stable Genus_ID Family_ID Order_ID   SH  \\\n",
       "Age             NaN -0.565851  NaN    NaN      NaN       NaN      NaN  NaN   \n",
       "Sex       -0.565851       NaN  NaN    NaN      NaN       NaN      NaN  NaN   \n",
       "Zoo             NaN       NaN  NaN    NaN      NaN       NaN      NaN  NaN   \n",
       "Stable          NaN       NaN  NaN    NaN      NaN       NaN      NaN  NaN   \n",
       "Genus_ID        NaN       NaN  NaN    NaN      NaN       NaN      NaN  NaN   \n",
       "Family_ID       NaN       NaN  NaN    NaN      NaN       NaN      NaN  NaN   \n",
       "Order_ID        NaN       NaN  NaN    NaN      NaN       NaN      NaN  NaN   \n",
       "SH              NaN       NaN  NaN    NaN      NaN       NaN      NaN  NaN   \n",
       "Weight          NaN       NaN  NaN    NaN      NaN       NaN      NaN  NaN   \n",
       "Habitat         NaN       NaN  NaN    NaN      NaN       NaN      NaN  NaN   \n",
       "\n",
       "          Weight Habitat  \n",
       "Age          NaN     NaN  \n",
       "Sex          NaN     NaN  \n",
       "Zoo          NaN     NaN  \n",
       "Stable       NaN     NaN  \n",
       "Genus_ID     NaN     NaN  \n",
       "Family_ID    NaN     NaN  \n",
       "Order_ID     NaN     NaN  \n",
       "SH           NaN     NaN  \n",
       "Weight       NaN     NaN  \n",
       "Habitat      NaN     NaN  "
      ]
     },
     "execution_count": 22,
     "metadata": {},
     "output_type": "execute_result"
    }
   ],
   "source": [
    "cross_importance_df"
   ]
  },
  {
   "cell_type": "code",
   "execution_count": 23,
   "metadata": {},
   "outputs": [
    {
     "data": {
      "text/plain": [
       "['Age', 'Genus_ID']"
      ]
     },
     "execution_count": 23,
     "metadata": {},
     "output_type": "execute_result"
    }
   ],
   "source": [
    "sorted(optimal_feature_set)"
   ]
  },
  {
   "cell_type": "code",
   "execution_count": 24,
   "metadata": {},
   "outputs": [
    {
     "data": {
      "text/plain": [
       "['Sex']"
      ]
     },
     "execution_count": 24,
     "metadata": {},
     "output_type": "execute_result"
    }
   ],
   "source": [
    "sorted(selected_features)"
   ]
  },
  {
   "cell_type": "code",
   "execution_count": 43,
   "metadata": {},
   "outputs": [
    {
     "data": {
      "text/plain": [
       "Ellipsis"
      ]
     },
     "execution_count": 43,
     "metadata": {},
     "output_type": "execute_result"
    }
   ],
   "source": [
    "..."
   ]
  },
  {
   "cell_type": "code",
   "execution_count": 51,
   "metadata": {},
   "outputs": [
    {
     "data": {
      "text/plain": [
       "(['Sex',\n",
       "  'Genus_ID',\n",
       "  'Weight',\n",
       "  'Age',\n",
       "  'Family_ID',\n",
       "  'Habitat',\n",
       "  'Zoo',\n",
       "  'Order_ID'],\n",
       " 0.1871995805178427)"
      ]
     },
     "execution_count": 51,
     "metadata": {},
     "output_type": "execute_result"
    }
   ],
   "source": [
    "ClusteringApplier._feature_selection_greedy(\n",
    "    df_explainable.copy(),\n",
    "    df_observable_distances.copy(),\n",
    "    features.copy(),\n",
    "    sparsity_parameter,\n",
    "    distance_measure\n",
    ")"
   ]
  },
  {
   "cell_type": "code",
   "execution_count": 47,
   "metadata": {},
   "outputs": [
    {
     "data": {
      "text/plain": [
       "Ellipsis"
      ]
     },
     "execution_count": 47,
     "metadata": {},
     "output_type": "execute_result"
    }
   ],
   "source": [
    "..."
   ]
  },
  {
   "cell_type": "code",
   "execution_count": null,
   "metadata": {},
   "outputs": [],
   "source": []
  }
 ],
 "metadata": {
  "kernelspec": {
   "display_name": "Python 3",
   "language": "python",
   "name": "python3"
  },
  "language_info": {
   "codemirror_mode": {
    "name": "ipython",
    "version": 3
   },
   "file_extension": ".py",
   "mimetype": "text/x-python",
   "name": "python",
   "nbconvert_exporter": "python",
   "pygments_lexer": "ipython3",
   "version": "3.12.4"
  }
 },
 "nbformat": 4,
 "nbformat_minor": 2
}
