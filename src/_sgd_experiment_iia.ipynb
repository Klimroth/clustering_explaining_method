{
 "cells": [
  {
   "cell_type": "code",
   "execution_count": 3,
   "metadata": {},
   "outputs": [],
   "source": [
    "from data_preparation import DataPreparator\n",
    "from apply_clustering import ClusteringApplier"
   ]
  },
  {
   "cell_type": "code",
   "execution_count": 1,
   "metadata": {},
   "outputs": [],
   "source": [
    "import os.path\n",
    "from itertools import chain, combinations\n",
    "from typing import Dict, List, Tuple, Iterable, Any\n",
    "\n",
    "import numpy as np\n",
    "import pandas as pd\n",
    "from gapstatistics.gapstatistics import GapStatistics\n",
    "from clustering import AgglomerativeClusteringWrapper as AgglomerativeClustering\n",
    "import matplotlib.pyplot as plt\n",
    "import scipy.cluster.hierarchy as sch\n",
    "from scipy.cluster.hierarchy import dendrogram, linkage\n",
    "from scipy.spatial.distance import squareform\n",
    "from scipy.spatial.distance import jensenshannon, correlation, euclidean\n",
    "from tqdm.contrib.concurrent import thread_map\n",
    "import seaborn as sns\n",
    "\n",
    "import config"
   ]
  },
  {
   "cell_type": "code",
   "execution_count": 2,
   "metadata": {},
   "outputs": [],
   "source": [
    "import torch\n",
    "from torch.distributions import kl_divergence\n",
    "from torch.distributions.uniform import Uniform\n",
    "from torch.distributions.beta import Beta\n",
    "from torch.distributions.dirichlet import Dirichlet\n",
    "from ParameterizedModel.parameterized_model import Paremeterized_Model\n",
    "from ParameterizedModel.utils.distribution_helpers import mean_std_to_beta_params\n",
    "\n",
    "from ParameterizedModel.training import Trainer"
   ]
  },
  {
   "cell_type": "code",
   "execution_count": 3,
   "metadata": {},
   "outputs": [],
   "source": [
    "from gradient_solver import construct_distance_matrix"
   ]
  },
  {
   "cell_type": "code",
   "execution_count": 4,
   "metadata": {},
   "outputs": [],
   "source": [
    "import timeit"
   ]
  },
  {
   "cell_type": "code",
   "execution_count": 5,
   "metadata": {},
   "outputs": [],
   "source": [
    "from IPython.display import display, Math, Latex"
   ]
  },
  {
   "cell_type": "code",
   "execution_count": 6,
   "metadata": {},
   "outputs": [],
   "source": [
    "import torch\n",
    "from torch.utils.data import Dataset, DataLoader, TensorDataset"
   ]
  },
  {
   "cell_type": "code",
   "execution_count": 7,
   "metadata": {},
   "outputs": [],
   "source": [
    "from scipy.spatial.distance import correlation"
   ]
  },
  {
   "cell_type": "code",
   "execution_count": 8,
   "metadata": {},
   "outputs": [],
   "source": [
    "from gradient_solver import *"
   ]
  },
  {
   "cell_type": "code",
   "execution_count": 9,
   "metadata": {},
   "outputs": [],
   "source": [
    "mode = 0"
   ]
  },
  {
   "cell_type": "code",
   "execution_count": 10,
   "metadata": {},
   "outputs": [],
   "source": [
    "if mode == 0:\n",
    "    df_explainable = pd.read_csv('../tst/df_explainable.csv',index_col=0)\n",
    "    df_observable = pd.read_csv('../tst/df_observable.csv', index_col=0)\n",
    "    index_name = 'Messung'\n",
    "    observed_features = ['Durchfall', 'Verstopfung', 'Bauchschmerzen', 'Aufgebläht', 'Sodbrennen', 'Erschöpfung']\n",
    "\n",
    "    df_explainable.Verweildauer_Minimum = df_explainable.Verweildauer_Minimum.apply(lambda x: pd.Timedelta(x).total_seconds())\n",
    "    df_explainable.Verweildauer_Maximum = df_explainable.Verweildauer_Maximum.apply(lambda x: pd.Timedelta(x).total_seconds())\n",
    "    df_explainable = df_explainable.drop(columns = ['Expiration_Minimum','Expiration_Maximum','Datum'])\n",
    "\n",
    "    explaining_features = []\n",
    "    for column in df_explainable.columns:\n",
    "        if column == index_name or column == 'Datum':\n",
    "            continue\n",
    "        if df_explainable.loc[:, column].max() > 0:\n",
    "            explaining_features.append(column)"
   ]
  },
  {
   "cell_type": "code",
   "execution_count": 11,
   "metadata": {},
   "outputs": [],
   "source": [
    "if mode == 1:\n",
    "\n",
    "    df_observable = pd.read_excel('../data/biological_set_raw_data.xlsx')\n",
    "    df_explainable: pd.DataFrame = ClusteringApplier.read_explaining_features()\n",
    "    df_observable_distances: pd.DataFrame = pd.read_excel(\n",
    "        f\"{config.OUTPUT_FOLDER_BASE}observables/{config.DATASET_NAME}-distance-normalized-matrix-{config.DISTANCE_MEASURE_FINGERPRINT}-{config.NUMBER_OBSERVABLE_PATTERNS}.xlsx\",\n",
    "        index_col=0\n",
    "    )\n",
    "    features: List[str] = list(config.EXPLAINING_FEATURE_NAMES.keys())\n",
    "\n",
    "    # Ensure that both datasets contain the same indices\n",
    "    valid_indices = np.intersect1d(df_explainable.index, df_observable_distances.index)\n",
    "    df_explainable = df_explainable.loc[valid_indices]\n",
    "    df_observable_distances = df_observable_distances.loc[valid_indices]\n",
    "\n",
    "    index_name = config.GROUP_NAME\n",
    "    observed_features = list(config.OBSERVABLE_FEATURE_NAMES.keys())\n",
    "    explaining_features = list(config.EXPLAINING_FEATURE_NAMES.keys())"
   ]
  },
  {
   "cell_type": "code",
   "execution_count": 12,
   "metadata": {},
   "outputs": [],
   "source": [
    "##################\n",
    "# Synthetic Data #\n",
    "##################\n",
    "if mode == 2:\n",
    "    individuals = 5\n",
    "    base_size = 10\n",
    "\n",
    "    #observation_data = np.random.normal(loc=0, scale=1, size=(base_size, 6))\n",
    "    '''explanation_data = np.random.uniform(0,1, size=(individuals, 11))\n",
    "    df_explainable = pd.DataFrame(explanation_data)\n",
    "    df_explainable.loc[:, 'Individual'] = [f'Individual_{i}' for i in df_explainable.index]\n",
    "    df_explainable.set_index('Individual', inplace=True)'''\n",
    "\n",
    "    df_explainable = pd.DataFrame({\n",
    "        'Age': np.random.choice([0., 0.5, 1.], individuals),\n",
    "        'Weight': np.random.uniform(0,1, size=individuals),\n",
    "        'Is_a_Zebra': np.random.choice([0., 1.], individuals),\n",
    "        'Loves_to_sleep': np.random.uniform(0,1, size=individuals),\n",
    "        'Noise_1': np.random.uniform(0,1, size=individuals),\n",
    "        'Noise_2': np.random.uniform(0,1, size=individuals),\n",
    "        'Noise_3': np.random.uniform(0,1, size=individuals),\n",
    "        'Noise_4': np.random.uniform(0,1, size=individuals),\n",
    "        'Noise_5': np.random.uniform(0,1, size=individuals),\n",
    "        'Individual': [f'Individual_{n}' for n in range(individuals)]\n",
    "    })\n",
    "    df_explainable.set_index('Individual', inplace=True)\n",
    "\n",
    "    explaining_features = np.array(list(df_explainable.columns))\n",
    "    individual_array = np.random.choice(df_explainable.index.unique(), size=base_size)\n",
    "\n",
    "    df_observable = pd.DataFrame({\n",
    "        'Individual': individual_array,\n",
    "    })\n",
    "    df_observable.loc[:, 'unexplainable_1'] = np.random.uniform(0,1, size=base_size)\n",
    "    df_observable.loc[:, 'unexplainable_2'] = np.random.uniform(0,1, size=base_size)\n",
    "    df_observable.loc[:, 'unexplainable_3'] = np.random.uniform(0,1, size=base_size)\n",
    "    df_observable.loc[:, 'unexplainable_4'] = np.random.normal(0,1, size=base_size)\n",
    "\n",
    "    df_observable.loc[:, 'if_zebra_then_age'] = (df_explainable.loc[individual_array, 'Is_a_Zebra'].values > 0.65) * df_explainable.loc[individual_array, 'Age'].values + (df_explainable.loc[individual_array, 'Is_a_Zebra'].values <= 0.65) * np.random.uniform(0,1, size=base_size)\n",
    "    df_observable.loc[:, 'explained_by_loves_to_sleep'] = df_explainable.loc[individual_array, 'Loves_to_sleep'].values #df_explainable.loc[individual_array, [1,2,3]].mean(axis=1).values #req_1 * df_explainable.loc[individual_array, 2].values + (1-req_1) * df_explainable.loc[individual_array, 3].values\n",
    "    df_observable.loc[:, 'Age_plus_Weight'] = df_explainable.loc[individual_array, 'Age'].values + df_explainable.loc[individual_array, 'Weight'].values\n",
    "\n",
    "    df_observable.set_index('Individual', inplace=True)\n",
    "    observed_features = list(df_observable.columns)\n",
    "\n",
    "    df_observable = df_observable.apply(lambda x: (x - x.min()) / (x.max() - x.min()), axis=0)\n",
    "    df_explainable = df_explainable.apply(lambda x: (x - x.min()) / (x.max() - x.min()), axis=0)"
   ]
  },
  {
   "cell_type": "code",
   "execution_count": 13,
   "metadata": {},
   "outputs": [],
   "source": [
    "##################\n",
    "# Synthetic Data #\n",
    "##################\n",
    "\n",
    "if mode == 3:\n",
    "\n",
    "    def uniform_list(von, bis, num):\n",
    "        lis = list(Uniform(von, bis).sample([num]))\n",
    "        return [float(li) for li in lis]\n",
    "\n",
    "    N = 100\n",
    "    z_N = 10\n",
    "    z_age = [float(li) for li in (uniform_list(0.9/(z_N-1), 0.999/(z_N-1), z_N) * np.arange(z_N))]\n",
    "    _z_age = uniform_list(0.0001, 0.9999, N-z_N)\n",
    "    dummy_explainables = pd.DataFrame({\n",
    "        'Age': z_age + _z_age,\n",
    "        'Is_a_Zebra': uniform_list(0.9967, 0.9999, z_N) + uniform_list(0.0005, 0.0013, N-z_N),\n",
    "        'Noise_0': Uniform(0,1).sample([N]),\n",
    "        'Noise_1': Uniform(0,1).sample([N]),\n",
    "        'Individual': [f'Individual_{i}' for i in range(N)]\n",
    "    })\n",
    "\n",
    "    dummy_explainables.set_index('Individual', inplace=True)\n",
    "\n",
    "    K = 20\n",
    "    lis = []\n",
    "    for k in range(K):\n",
    "        lis = lis + [z+u for z,u in zip(z_age, uniform_list(0.0001, 0.0150, z_N))] + uniform_list(0.0001, 0.9999, N-z_N)\n",
    "\n",
    "    dummy_observables = pd.DataFrame({\n",
    "        'Individual': [f'Individual_{n}' for n in range(N)] * K,\n",
    "        'if_zebra_then_age': lis,\n",
    "        'unexplainable_1': Uniform(0,1).sample([N*K]),\n",
    "        'unexplainable_2': Uniform(0,1).sample([N*K]),\n",
    "    })\n",
    "\n",
    "    showcase_df = dummy_observables.copy()\n",
    "    for individual in showcase_df.Individual.unique():\n",
    "        idx = showcase_df.query(f'Individual == \"{individual}\"').index\n",
    "        showcase_df.loc[idx, 'Age'] = dummy_explainables.loc[individual].Age\n",
    "        showcase_df.loc[idx, 'Zebra'] = dummy_explainables.loc[individual].Is_a_Zebra\n",
    "        showcase_df.loc[idx, 'bool_Zebra'] = dummy_explainables.loc[individual].Is_a_Zebra > 0.5\n",
    "\n",
    "    index_name = 'Individual'\n",
    "\n",
    "    df_observable = dummy_observables\n",
    "    df_explainable = dummy_explainables\n",
    "\n",
    "    observed_features = []\n",
    "    for f in df_observable:\n",
    "        if f != index_name:\n",
    "            observed_features.append(f)\n",
    "\n",
    "    explaining_features = []\n",
    "    for f in df_explainable:\n",
    "        if f != index_name:\n",
    "            explaining_features.append(f)       "
   ]
  },
  {
   "cell_type": "code",
   "execution_count": 14,
   "metadata": {},
   "outputs": [
    {
     "data": {
      "image/png": "[encoded data removed]",
      "text/plain": [
       "<Figure size 3000x700 with 2 Axes>"
      ]
     },
     "metadata": {},
     "output_type": "display_data"
    },
    {
     "data": {
      "image/png": "[encoded data removed]",
      "text/plain": [
       "<Figure size 2000x1000 with 1 Axes>"
      ]
     },
     "metadata": {},
     "output_type": "display_data"
    },
    {
     "data": {
      "image/png": "[encoded data removed]",
      "text/plain": [
       "<Figure size 2000x1000 with 1 Axes>"
      ]
     },
     "metadata": {},
     "output_type": "display_data"
    }
   ],
   "source": [
    "#index_name = 'Individual'\n",
    "my_linkage = 'ward' #'single'\n",
    "\n",
    "from data_preparation import DataPreparator\n",
    "from apply_clustering import ClusteringApplier\n",
    "\n",
    "preparation_result = DataPreparator.prepare_data(\n",
    "    use_config=False,\n",
    "    df_observable=df_observable.reset_index(),\n",
    "    df_explainable=df_explainable.reset_index(),\n",
    "    distortion_mean=0.01,\n",
    "    distortion_std=0.001,\n",
    "    observed_features=observed_features,\n",
    "    explaining_features=explaining_features,\n",
    "    nn_imputation_k=10,\n",
    "    group_name=index_name,\n",
    ")\n",
    "optimal_number_of_clusters = ClusteringApplier.draw_gap_statistic_plot(\n",
    "    use_config=False, df_observable=preparation_result['observable_df'],\n",
    "    observed_features=observed_features,\n",
    "    gap_statistic_cluster_range=15,\n",
    "    linkage='ward'\n",
    ")\n",
    "observable_patterns_result = ClusteringApplier.calculate_observable_patterns(\n",
    "    use_config=False,\n",
    "    df_observable_data=preparation_result['observable_df'],\n",
    "    _n_clusters= optimal_number_of_clusters['n_clusters'],\n",
    "    observable_name='observable_name',\n",
    "    observable_feature_names=observed_features,\n",
    "    plot_title='Name of the fingerprint plot',\n",
    "    number_observable_patterns='auto',\n",
    "    distance_measure_fingerprint='jensenshannon',\n",
    "    group_name=index_name, \n",
    "    #spiderplot_scaling='minmax',\n",
    "    linkage=my_linkage\n",
    ")"
   ]
  },
  {
   "cell_type": "code",
   "execution_count": 15,
   "metadata": {},
   "outputs": [
    {
     "data": {
      "application/vnd.plotly.v1+json": {
       "config": {
        "plotlyServerURL": "https://plot.ly"
       },
       "data": [
        {
         "fill": "toself",
         "r": [
          0.6529844533930935,
          0.01077120603603846,
          0.42675443814334585,
          0.12040757840620314,
          0.010222055295055342,
          0.009815763503948666
         ],
         "subplot": "polar",
         "theta": [
          "Durchfall",
          "Verstopfung",
          "Bauchschmerzen",
          "Aufgebläht",
          "Sodbrennen",
          "Erschöpfung"
         ],
         "type": "scatterpolar"
        },
        {
         "fill": "toself",
         "r": [
          0.6527544783298305,
          0.44783830225994614,
          0.9264371124828887,
          0.12181566297293378,
          0.4098891515358132,
          0.009802699494882532
         ],
         "subplot": "polar2",
         "theta": [
          "Durchfall",
          "Verstopfung",
          "Bauchschmerzen",
          "Aufgebläht",
          "Sodbrennen",
          "Erschöpfung"
         ],
         "type": "scatterpolar"
        },
        {
         "fill": "toself",
         "r": [
          0.009969100361526356,
          0.5104215036405413,
          0.3426842659182887,
          0.12264218410686518,
          0.7088486160065443,
          0.010303937873641127
         ],
         "subplot": "polar3",
         "theta": [
          "Durchfall",
          "Verstopfung",
          "Bauchschmerzen",
          "Aufgebläht",
          "Sodbrennen",
          "Erschöpfung"
         ],
         "type": "scatterpolar"
        },
        {
         "fill": "toself",
         "r": [
          0.008927064289671232,
          0.3217493102954917,
          0.6768027962428402,
          0.8982542363249371,
          0.20966590077618438,
          0.19753059334931028
         ],
         "subplot": "polar4",
         "theta": [
          "Durchfall",
          "Verstopfung",
          "Bauchschmerzen",
          "Aufgebläht",
          "Sodbrennen",
          "Erschöpfung"
         ],
         "type": "scatterpolar"
        },
        {
         "fill": "toself",
         "r": [
          0.22400522087396582,
          0.26072402630009717,
          0.34364293601965157,
          0.28712798598549333,
          0.4093354906542835,
          0.9477247312426269
         ],
         "subplot": "polar5",
         "theta": [
          "Durchfall",
          "Verstopfung",
          "Bauchschmerzen",
          "Aufgebläht",
          "Sodbrennen",
          "Erschöpfung"
         ],
         "type": "scatterpolar"
        },
        {
         "fill": "toself",
         "r": [
          0.010003559439619867,
          0.633622367021036,
          0.5932126308534368,
          0.7329641164259748,
          0.7089098717295976,
          0.6349863071522353
         ],
         "subplot": "polar6",
         "theta": [
          "Durchfall",
          "Verstopfung",
          "Bauchschmerzen",
          "Aufgebläht",
          "Sodbrennen",
          "Erschöpfung"
         ],
         "type": "scatterpolar"
        },
        {
         "fill": "toself",
         "r": [
          1.011320933033896,
          0.7584291155290896,
          0.8430736724790527,
          0.6755320065829652,
          1.0121296814071803,
          0.6331580619172303
         ],
         "subplot": "polar7",
         "theta": [
          "Durchfall",
          "Verstopfung",
          "Bauchschmerzen",
          "Aufgebläht",
          "Sodbrennen",
          "Erschöpfung"
         ],
         "type": "scatterpolar"
        },
        {
         "fill": "toself",
         "r": [
          0.009257659940367919,
          0.07143723567743739,
          0.2607815620466453,
          0.0659946852246983,
          0.31074583507243425,
          0.009862376012730014
         ],
         "subplot": "polar8",
         "theta": [
          "Durchfall",
          "Verstopfung",
          "Bauchschmerzen",
          "Aufgebläht",
          "Sodbrennen",
          "Erschöpfung"
         ],
         "type": "scatterpolar"
        },
        {
         "fill": "toself",
         "r": [
          0.009588420952330961,
          0.010093042954722322,
          0.3437325303434071,
          0.009404587239340104,
          1.010522251134136,
          0.5099914951054147
         ],
         "subplot": "polar9",
         "theta": [
          "Durchfall",
          "Verstopfung",
          "Bauchschmerzen",
          "Aufgebläht",
          "Sodbrennen",
          "Erschöpfung"
         ],
         "type": "scatterpolar"
        },
        {
         "fill": "toself",
         "r": [
          0.009490306065261269,
          0.8858259350619957,
          0.3433857889047469,
          0.3997547403618976,
          0.4102711421447499,
          0.00944447429283406
         ],
         "subplot": "polar10",
         "theta": [
          "Durchfall",
          "Verstopfung",
          "Bauchschmerzen",
          "Aufgebläht",
          "Sodbrennen",
          "Erschöpfung"
         ],
         "type": "scatterpolar"
        },
        {
         "fill": "toself",
         "r": [
          0.5819858509938596,
          0.2589307329053003,
          0.6766774940200945,
          0.23124487011887906,
          1.0094791889478951,
          0.010024630531112582
         ],
         "subplot": "polar11",
         "theta": [
          "Durchfall",
          "Verstopfung",
          "Bauchschmerzen",
          "Aufgebläht",
          "Sodbrennen",
          "Erschöpfung"
         ],
         "type": "scatterpolar"
        },
        {
         "fill": "toself",
         "r": [
          0.5825338633550274,
          0.2599432655988719,
          0.3426693352133822,
          0.23096590978874745,
          0.4084679422585971,
          0.008580765682222675
         ],
         "subplot": "polar12",
         "theta": [
          "Durchfall",
          "Verstopfung",
          "Bauchschmerzen",
          "Aufgebläht",
          "Sodbrennen",
          "Erschöpfung"
         ],
         "type": "scatterpolar"
        },
        {
         "fill": "toself",
         "r": [
          0.5817951745999526,
          0.7605292323951328,
          0.6774994957036744,
          0.4530353321436557,
          0.20847152791492177,
          0.2614816479196941
         ],
         "subplot": "polar13",
         "theta": [
          "Durchfall",
          "Verstopfung",
          "Bauchschmerzen",
          "Aufgebläht",
          "Sodbrennen",
          "Erschöpfung"
         ],
         "type": "scatterpolar"
        }
       ],
       "layout": {
        "annotations": [
         {
          "font": {
           "size": 16
          },
          "showarrow": false,
          "text": "Name 1",
          "x": 0.175,
          "xanchor": "center",
          "xref": "paper",
          "y": 1,
          "yanchor": "bottom",
          "yref": "paper"
         },
         {
          "font": {
           "size": 16
          },
          "showarrow": false,
          "text": "Name 2",
          "x": 0.825,
          "xanchor": "center",
          "xref": "paper",
          "y": 1,
          "yanchor": "bottom",
          "yref": "paper"
         },
         {
          "font": {
           "size": 16
          },
          "showarrow": false,
          "text": "Name 3",
          "x": 0.175,
          "xanchor": "center",
          "xref": "paper",
          "y": 0.85,
          "yanchor": "bottom",
          "yref": "paper"
         },
         {
          "font": {
           "size": 16
          },
          "showarrow": false,
          "text": "Name 4",
          "x": 0.825,
          "xanchor": "center",
          "xref": "paper",
          "y": 0.85,
          "yanchor": "bottom",
          "yref": "paper"
         },
         {
          "font": {
           "size": 16
          },
          "showarrow": false,
          "text": "Name 5",
          "x": 0.175,
          "xanchor": "center",
          "xref": "paper",
          "y": 0.7,
          "yanchor": "bottom",
          "yref": "paper"
         },
         {
          "font": {
           "size": 16
          },
          "showarrow": false,
          "text": "Name 6",
          "x": 0.825,
          "xanchor": "center",
          "xref": "paper",
          "y": 0.7,
          "yanchor": "bottom",
          "yref": "paper"
         },
         {
          "font": {
           "size": 16
          },
          "showarrow": false,
          "text": "Name 7",
          "x": 0.175,
          "xanchor": "center",
          "xref": "paper",
          "y": 0.55,
          "yanchor": "bottom",
          "yref": "paper"
         },
         {
          "font": {
           "size": 16
          },
          "showarrow": false,
          "text": "Name 8",
          "x": 0.825,
          "xanchor": "center",
          "xref": "paper",
          "y": 0.55,
          "yanchor": "bottom",
          "yref": "paper"
         },
         {
          "font": {
           "size": 16
          },
          "showarrow": false,
          "text": "Name 9",
          "x": 0.175,
          "xanchor": "center",
          "xref": "paper",
          "y": 0.39999999999999997,
          "yanchor": "bottom",
          "yref": "paper"
         },
         {
          "font": {
           "size": 16
          },
          "showarrow": false,
          "text": "Name 10",
          "x": 0.825,
          "xanchor": "center",
          "xref": "paper",
          "y": 0.39999999999999997,
          "yanchor": "bottom",
          "yref": "paper"
         },
         {
          "font": {
           "size": 16
          },
          "showarrow": false,
          "text": "Name 11",
          "x": 0.175,
          "xanchor": "center",
          "xref": "paper",
          "y": 0.25,
          "yanchor": "bottom",
          "yref": "paper"
         },
         {
          "font": {
           "size": 16
          },
          "showarrow": false,
          "text": "Name 12",
          "x": 0.825,
          "xanchor": "center",
          "xref": "paper",
          "y": 0.25,
          "yanchor": "bottom",
          "yref": "paper"
         },
         {
          "font": {
           "size": 16
          },
          "showarrow": false,
          "text": "Name 13",
          "x": 0.175,
          "xanchor": "center",
          "xref": "paper",
          "y": 0.09999999999999999,
          "yanchor": "bottom",
          "yref": "paper"
         }
        ],
        "height": 3500,
        "paper_bgcolor": "rgba(0, 0, 0, 0)",
        "plot_bgcolor": "rgba(0, 0, 0, 0)",
        "polar": {
         "domain": {
          "x": [
           0,
           0.35
          ],
          "y": [
           0.9,
           1
          ]
         },
         "radialaxis": {
          "range": [
           0,
           1
          ],
          "showticklabels": false,
          "visible": true
         }
        },
        "polar10": {
         "domain": {
          "x": [
           0.6499999999999999,
           0.9999999999999999
          ],
          "y": [
           0.3,
           0.39999999999999997
          ]
         },
         "radialaxis": {
          "range": [
           0,
           1
          ],
          "showticklabels": false,
          "visible": true
         }
        },
        "polar11": {
         "domain": {
          "x": [
           0,
           0.35
          ],
          "y": [
           0.15,
           0.25
          ]
         },
         "radialaxis": {
          "range": [
           0,
           1
          ],
          "showticklabels": false,
          "visible": true
         }
        },
        "polar12": {
         "domain": {
          "x": [
           0.6499999999999999,
           0.9999999999999999
          ],
          "y": [
           0.15,
           0.25
          ]
         },
         "radialaxis": {
          "range": [
           0,
           1
          ],
          "showticklabels": false,
          "visible": true
         }
        },
        "polar13": {
         "domain": {
          "x": [
           0,
           0.35
          ],
          "y": [
           0,
           0.09999999999999999
          ]
         },
         "radialaxis": {
          "range": [
           0,
           1
          ],
          "showticklabels": false,
          "visible": true
         }
        },
        "polar14": {
         "domain": {
          "x": [
           0.6499999999999999,
           0.9999999999999999
          ],
          "y": [
           0,
           0.09999999999999999
          ]
         },
         "radialaxis": {
          "range": [
           0,
           1
          ],
          "showticklabels": false,
          "visible": true
         }
        },
        "polar2": {
         "domain": {
          "x": [
           0.6499999999999999,
           0.9999999999999999
          ],
          "y": [
           0.9,
           1
          ]
         },
         "radialaxis": {
          "range": [
           0,
           1
          ],
          "showticklabels": false,
          "visible": true
         }
        },
        "polar3": {
         "domain": {
          "x": [
           0,
           0.35
          ],
          "y": [
           0.75,
           0.85
          ]
         },
         "radialaxis": {
          "range": [
           0,
           1
          ],
          "showticklabels": false,
          "visible": true
         }
        },
        "polar4": {
         "domain": {
          "x": [
           0.6499999999999999,
           0.9999999999999999
          ],
          "y": [
           0.75,
           0.85
          ]
         },
         "radialaxis": {
          "range": [
           0,
           1
          ],
          "showticklabels": false,
          "visible": true
         }
        },
        "polar5": {
         "domain": {
          "x": [
           0,
           0.35
          ],
          "y": [
           0.6,
           0.7
          ]
         },
         "radialaxis": {
          "range": [
           0,
           1
          ],
          "showticklabels": false,
          "visible": true
         }
        },
        "polar6": {
         "domain": {
          "x": [
           0.6499999999999999,
           0.9999999999999999
          ],
          "y": [
           0.6,
           0.7
          ]
         },
         "radialaxis": {
          "range": [
           0,
           1
          ],
          "showticklabels": false,
          "visible": true
         }
        },
        "polar7": {
         "domain": {
          "x": [
           0,
           0.35
          ],
          "y": [
           0.45,
           0.55
          ]
         },
         "radialaxis": {
          "range": [
           0,
           1
          ],
          "showticklabels": false,
          "visible": true
         }
        },
        "polar8": {
         "domain": {
          "x": [
           0.6499999999999999,
           0.9999999999999999
          ],
          "y": [
           0.45,
           0.55
          ]
         },
         "radialaxis": {
          "range": [
           0,
           1
          ],
          "showticklabels": false,
          "visible": true
         }
        },
        "polar9": {
         "domain": {
          "x": [
           0,
           0.35
          ],
          "y": [
           0.3,
           0.39999999999999997
          ]
         },
         "radialaxis": {
          "range": [
           0,
           1
          ],
          "showticklabels": false,
          "visible": true
         }
        },
        "showlegend": false,
        "template": {
         "data": {
          "bar": [
           {
            "error_x": {
             "color": "#2a3f5f"
            },
            "error_y": {
             "color": "#2a3f5f"
            },
            "marker": {
             "line": {
              "color": "#E5ECF6",
              "width": 0.5
             },
             "pattern": {
              "fillmode": "overlay",
              "size": 10,
              "solidity": 0.2
             }
            },
            "type": "bar"
           }
          ],
          "barpolar": [
           {
            "marker": {
             "line": {
              "color": "#E5ECF6",
              "width": 0.5
             },
             "pattern": {
              "fillmode": "overlay",
              "size": 10,
              "solidity": 0.2
             }
            },
            "type": "barpolar"
           }
          ],
          "carpet": [
           {
            "aaxis": {
             "endlinecolor": "#2a3f5f",
             "gridcolor": "white",
             "linecolor": "white",
             "minorgridcolor": "white",
             "startlinecolor": "#2a3f5f"
            },
            "baxis": {
             "endlinecolor": "#2a3f5f",
             "gridcolor": "white",
             "linecolor": "white",
             "minorgridcolor": "white",
             "startlinecolor": "#2a3f5f"
            },
            "type": "carpet"
           }
          ],
          "choropleth": [
           {
            "colorbar": {
             "outlinewidth": 0,
             "ticks": ""
            },
            "type": "choropleth"
           }
          ],
          "contour": [
           {
            "colorbar": {
             "outlinewidth": 0,
             "ticks": ""
            },
            "colorscale": [
             [
              0,
              "#0d0887"
             ],
             [
              0.1111111111111111,
              "#46039f"
             ],
             [
              0.2222222222222222,
              "#7201a8"
             ],
             [
              0.3333333333333333,
              "#9c179e"
             ],
             [
              0.4444444444444444,
              "#bd3786"
             ],
             [
              0.5555555555555556,
              "#d8576b"
             ],
             [
              0.6666666666666666,
              "#ed7953"
             ],
             [
              0.7777777777777778,
              "#fb9f3a"
             ],
             [
              0.8888888888888888,
              "#fdca26"
             ],
             [
              1,
              "#f0f921"
             ]
            ],
            "type": "contour"
           }
          ],
          "contourcarpet": [
           {
            "colorbar": {
             "outlinewidth": 0,
             "ticks": ""
            },
            "type": "contourcarpet"
           }
          ],
          "heatmap": [
           {
            "colorbar": {
             "outlinewidth": 0,
             "ticks": ""
            },
            "colorscale": [
             [
              0,
              "#0d0887"
             ],
             [
              0.1111111111111111,
              "#46039f"
             ],
             [
              0.2222222222222222,
              "#7201a8"
             ],
             [
              0.3333333333333333,
              "#9c179e"
             ],
             [
              0.4444444444444444,
              "#bd3786"
             ],
             [
              0.5555555555555556,
              "#d8576b"
             ],
             [
              0.6666666666666666,
              "#ed7953"
             ],
             [
              0.7777777777777778,
              "#fb9f3a"
             ],
             [
              0.8888888888888888,
              "#fdca26"
             ],
             [
              1,
              "#f0f921"
             ]
            ],
            "type": "heatmap"
           }
          ],
          "heatmapgl": [
           {
            "colorbar": {
             "outlinewidth": 0,
             "ticks": ""
            },
            "colorscale": [
             [
              0,
              "#0d0887"
             ],
             [
              0.1111111111111111,
              "#46039f"
             ],
             [
              0.2222222222222222,
              "#7201a8"
             ],
             [
              0.3333333333333333,
              "#9c179e"
             ],
             [
              0.4444444444444444,
              "#bd3786"
             ],
             [
              0.5555555555555556,
              "#d8576b"
             ],
             [
              0.6666666666666666,
              "#ed7953"
             ],
             [
              0.7777777777777778,
              "#fb9f3a"
             ],
             [
              0.8888888888888888,
              "#fdca26"
             ],
             [
              1,
              "#f0f921"
             ]
            ],
            "type": "heatmapgl"
           }
          ],
          "histogram": [
           {
            "marker": {
             "pattern": {
              "fillmode": "overlay",
              "size": 10,
              "solidity": 0.2
             }
            },
            "type": "histogram"
           }
          ],
          "histogram2d": [
           {
            "colorbar": {
             "outlinewidth": 0,
             "ticks": ""
            },
            "colorscale": [
             [
              0,
              "#0d0887"
             ],
             [
              0.1111111111111111,
              "#46039f"
             ],
             [
              0.2222222222222222,
              "#7201a8"
             ],
             [
              0.3333333333333333,
              "#9c179e"
             ],
             [
              0.4444444444444444,
              "#bd3786"
             ],
             [
              0.5555555555555556,
              "#d8576b"
             ],
             [
              0.6666666666666666,
              "#ed7953"
             ],
             [
              0.7777777777777778,
              "#fb9f3a"
             ],
             [
              0.8888888888888888,
              "#fdca26"
             ],
             [
              1,
              "#f0f921"
             ]
            ],
            "type": "histogram2d"
           }
          ],
          "histogram2dcontour": [
           {
            "colorbar": {
             "outlinewidth": 0,
             "ticks": ""
            },
            "colorscale": [
             [
              0,
              "#0d0887"
             ],
             [
              0.1111111111111111,
              "#46039f"
             ],
             [
              0.2222222222222222,
              "#7201a8"
             ],
             [
              0.3333333333333333,
              "#9c179e"
             ],
             [
              0.4444444444444444,
              "#bd3786"
             ],
             [
              0.5555555555555556,
              "#d8576b"
             ],
             [
              0.6666666666666666,
              "#ed7953"
             ],
             [
              0.7777777777777778,
              "#fb9f3a"
             ],
             [
              0.8888888888888888,
              "#fdca26"
             ],
             [
              1,
              "#f0f921"
             ]
            ],
            "type": "histogram2dcontour"
           }
          ],
          "mesh3d": [
           {
            "colorbar": {
             "outlinewidth": 0,
             "ticks": ""
            },
            "type": "mesh3d"
           }
          ],
          "parcoords": [
           {
            "line": {
             "colorbar": {
              "outlinewidth": 0,
              "ticks": ""
             }
            },
            "type": "parcoords"
           }
          ],
          "pie": [
           {
            "automargin": true,
            "type": "pie"
           }
          ],
          "scatter": [
           {
            "fillpattern": {
             "fillmode": "overlay",
             "size": 10,
             "solidity": 0.2
            },
            "type": "scatter"
           }
          ],
          "scatter3d": [
           {
            "line": {
             "colorbar": {
              "outlinewidth": 0,
              "ticks": ""
             }
            },
            "marker": {
             "colorbar": {
              "outlinewidth": 0,
              "ticks": ""
             }
            },
            "type": "scatter3d"
           }
          ],
          "scattercarpet": [
           {
            "marker": {
             "colorbar": {
              "outlinewidth": 0,
              "ticks": ""
             }
            },
            "type": "scattercarpet"
           }
          ],
          "scattergeo": [
           {
            "marker": {
             "colorbar": {
              "outlinewidth": 0,
              "ticks": ""
             }
            },
            "type": "scattergeo"
           }
          ],
          "scattergl": [
           {
            "marker": {
             "colorbar": {
              "outlinewidth": 0,
              "ticks": ""
             }
            },
            "type": "scattergl"
           }
          ],
          "scattermapbox": [
           {
            "marker": {
             "colorbar": {
              "outlinewidth": 0,
              "ticks": ""
             }
            },
            "type": "scattermapbox"
           }
          ],
          "scatterpolar": [
           {
            "marker": {
             "colorbar": {
              "outlinewidth": 0,
              "ticks": ""
             }
            },
            "type": "scatterpolar"
           }
          ],
          "scatterpolargl": [
           {
            "marker": {
             "colorbar": {
              "outlinewidth": 0,
              "ticks": ""
             }
            },
            "type": "scatterpolargl"
           }
          ],
          "scatterternary": [
           {
            "marker": {
             "colorbar": {
              "outlinewidth": 0,
              "ticks": ""
             }
            },
            "type": "scatterternary"
           }
          ],
          "surface": [
           {
            "colorbar": {
             "outlinewidth": 0,
             "ticks": ""
            },
            "colorscale": [
             [
              0,
              "#0d0887"
             ],
             [
              0.1111111111111111,
              "#46039f"
             ],
             [
              0.2222222222222222,
              "#7201a8"
             ],
             [
              0.3333333333333333,
              "#9c179e"
             ],
             [
              0.4444444444444444,
              "#bd3786"
             ],
             [
              0.5555555555555556,
              "#d8576b"
             ],
             [
              0.6666666666666666,
              "#ed7953"
             ],
             [
              0.7777777777777778,
              "#fb9f3a"
             ],
             [
              0.8888888888888888,
              "#fdca26"
             ],
             [
              1,
              "#f0f921"
             ]
            ],
            "type": "surface"
           }
          ],
          "table": [
           {
            "cells": {
             "fill": {
              "color": "#EBF0F8"
             },
             "line": {
              "color": "white"
             }
            },
            "header": {
             "fill": {
              "color": "#C8D4E3"
             },
             "line": {
              "color": "white"
             }
            },
            "type": "table"
           }
          ]
         },
         "layout": {
          "annotationdefaults": {
           "arrowcolor": "#2a3f5f",
           "arrowhead": 0,
           "arrowwidth": 1
          },
          "autotypenumbers": "strict",
          "coloraxis": {
           "colorbar": {
            "outlinewidth": 0,
            "ticks": ""
           }
          },
          "colorscale": {
           "diverging": [
            [
             0,
             "#8e0152"
            ],
            [
             0.1,
             "#c51b7d"
            ],
            [
             0.2,
             "#de77ae"
            ],
            [
             0.3,
             "#f1b6da"
            ],
            [
             0.4,
             "#fde0ef"
            ],
            [
             0.5,
             "#f7f7f7"
            ],
            [
             0.6,
             "#e6f5d0"
            ],
            [
             0.7,
             "#b8e186"
            ],
            [
             0.8,
             "#7fbc41"
            ],
            [
             0.9,
             "#4d9221"
            ],
            [
             1,
             "#276419"
            ]
           ],
           "sequential": [
            [
             0,
             "#0d0887"
            ],
            [
             0.1111111111111111,
             "#46039f"
            ],
            [
             0.2222222222222222,
             "#7201a8"
            ],
            [
             0.3333333333333333,
             "#9c179e"
            ],
            [
             0.4444444444444444,
             "#bd3786"
            ],
            [
             0.5555555555555556,
             "#d8576b"
            ],
            [
             0.6666666666666666,
             "#ed7953"
            ],
            [
             0.7777777777777778,
             "#fb9f3a"
            ],
            [
             0.8888888888888888,
             "#fdca26"
            ],
            [
             1,
             "#f0f921"
            ]
           ],
           "sequentialminus": [
            [
             0,
             "#0d0887"
            ],
            [
             0.1111111111111111,
             "#46039f"
            ],
            [
             0.2222222222222222,
             "#7201a8"
            ],
            [
             0.3333333333333333,
             "#9c179e"
            ],
            [
             0.4444444444444444,
             "#bd3786"
            ],
            [
             0.5555555555555556,
             "#d8576b"
            ],
            [
             0.6666666666666666,
             "#ed7953"
            ],
            [
             0.7777777777777778,
             "#fb9f3a"
            ],
            [
             0.8888888888888888,
             "#fdca26"
            ],
            [
             1,
             "#f0f921"
            ]
           ]
          },
          "colorway": [
           "#636efa",
           "#EF553B",
           "#00cc96",
           "#ab63fa",
           "#FFA15A",
           "#19d3f3",
           "#FF6692",
           "#B6E880",
           "#FF97FF",
           "#FECB52"
          ],
          "font": {
           "color": "#2a3f5f"
          },
          "geo": {
           "bgcolor": "white",
           "lakecolor": "white",
           "landcolor": "#E5ECF6",
           "showlakes": true,
           "showland": true,
           "subunitcolor": "white"
          },
          "hoverlabel": {
           "align": "left"
          },
          "hovermode": "closest",
          "mapbox": {
           "style": "light"
          },
          "paper_bgcolor": "white",
          "plot_bgcolor": "#E5ECF6",
          "polar": {
           "angularaxis": {
            "gridcolor": "white",
            "linecolor": "white",
            "ticks": ""
           },
           "bgcolor": "#E5ECF6",
           "radialaxis": {
            "gridcolor": "white",
            "linecolor": "white",
            "ticks": ""
           }
          },
          "scene": {
           "xaxis": {
            "backgroundcolor": "#E5ECF6",
            "gridcolor": "white",
            "gridwidth": 2,
            "linecolor": "white",
            "showbackground": true,
            "ticks": "",
            "zerolinecolor": "white"
           },
           "yaxis": {
            "backgroundcolor": "#E5ECF6",
            "gridcolor": "white",
            "gridwidth": 2,
            "linecolor": "white",
            "showbackground": true,
            "ticks": "",
            "zerolinecolor": "white"
           },
           "zaxis": {
            "backgroundcolor": "#E5ECF6",
            "gridcolor": "white",
            "gridwidth": 2,
            "linecolor": "white",
            "showbackground": true,
            "ticks": "",
            "zerolinecolor": "white"
           }
          },
          "shapedefaults": {
           "line": {
            "color": "#2a3f5f"
           }
          },
          "ternary": {
           "aaxis": {
            "gridcolor": "white",
            "linecolor": "white",
            "ticks": ""
           },
           "baxis": {
            "gridcolor": "white",
            "linecolor": "white",
            "ticks": ""
           },
           "bgcolor": "#E5ECF6",
           "caxis": {
            "gridcolor": "white",
            "linecolor": "white",
            "ticks": ""
           }
          },
          "title": {
           "x": 0.05
          },
          "xaxis": {
           "automargin": true,
           "gridcolor": "white",
           "linecolor": "white",
           "ticks": "",
           "title": {
            "standoff": 15
           },
           "zerolinecolor": "white",
           "zerolinewidth": 2
          },
          "yaxis": {
           "automargin": true,
           "gridcolor": "white",
           "linecolor": "white",
           "ticks": "",
           "title": {
            "standoff": 15
           },
           "zerolinecolor": "white",
           "zerolinewidth": 2
          }
         }
        },
        "title": {
         "text": "Name of the fingerprint plot"
        },
        "width": 1000
       }
      }
     },
     "metadata": {},
     "output_type": "display_data"
    }
   ],
   "source": [
    "observable_patterns_result['spider_plots']"
   ]
  },
  {
   "cell_type": "code",
   "execution_count": 17,
   "metadata": {},
   "outputs": [
    {
     "data": {
      "application/vnd.jupyter.widget-view+json": {
       "model_id": "6fe15bedfc4548cdbc4de9402ef6b7c8",
       "version_major": 2,
       "version_minor": 0
      },
      "text/plain": [
       "  0%|          | 0/1023 [00:00<?, ?it/s]"
      ]
     },
     "metadata": {},
     "output_type": "display_data"
    },
    {
     "data": {
      "image/png": "[encoded data removed]",
      "text/plain": [
       "<Figure size 2000x1000 with 1 Axes>"
      ]
     },
     "metadata": {},
     "output_type": "display_data"
    }
   ],
   "source": [
    "calculate_explainable_distances_result = ClusteringApplier.calculate_explainable_distances(\n",
    "    use_config=False,\n",
    "    df_explainable=preparation_result['explainable_df'].copy(),#.loc[:, q].apply(lambda x: np.nan_to_num(x)).set_index(index_name).loc[valid_indices],\n",
    "    df_observable_distances=observable_patterns_result['pw_norm_dist'].copy(),#.loc[valid_indices, :].loc[:, valid_indices],\n",
    "    explaining_features=explaining_features,\n",
    "    method='exact',\n",
    "    distance_measure='correlation',\n",
    "    sparsity_parameter=0.01,\n",
    "    max_num_threads=12,\n",
    "    group_name=index_name\n",
    ")"
   ]
  },
  {
   "cell_type": "code",
   "execution_count": 45,
   "metadata": {},
   "outputs": [
    {
     "ename": "NameError",
     "evalue": "name 'calculate_explainable_distances_result' is not defined",
     "output_type": "error",
     "traceback": [
      "\u001b[1;31m---------------------------------------------------------------------------\u001b[0m",
      "\u001b[1;31mNameError\u001b[0m                                 Traceback (most recent call last)",
      "Cell \u001b[1;32mIn[45], line 1\u001b[0m\n\u001b[1;32m----> 1\u001b[0m \u001b[43mcalculate_explainable_distances_result\u001b[49m[\u001b[38;5;124m'\u001b[39m\u001b[38;5;124moverview_df\u001b[39m\u001b[38;5;124m'\u001b[39m]\n",
      "\u001b[1;31mNameError\u001b[0m: name 'calculate_explainable_distances_result' is not defined"
     ]
    }
   ],
   "source": [
    "calculate_explainable_distances_result['overview_df']"
   ]
  },
  {
   "cell_type": "code",
   "execution_count": 16,
   "metadata": {},
   "outputs": [],
   "source": [
    "def ward_distance(x, y):\n",
    "    # Compute the centroids of the two clusters\n",
    "    centroid_x = torch.mean(x, dim=0)\n",
    "    centroid_y = torch.mean(y, dim=0)\n",
    "\n",
    "    # Compute the variance within each cluster\n",
    "    var_x = torch.sum((x - centroid_x) ** 2) / (x.shape[0] - 1)\n",
    "    var_y = torch.sum((y - centroid_y) ** 2) / (y.shape[0] - 1)\n",
    "\n",
    "    # Compute the variance between the two clusters\n",
    "    var_between = torch.sum((centroid_x - centroid_y) ** 2)\n",
    "\n",
    "    # Compute the Ward distance\n",
    "    return var_between + var_x + var_y"
   ]
  },
  {
   "cell_type": "code",
   "execution_count": 17,
   "metadata": {},
   "outputs": [
    {
     "name": "stdout",
     "output_type": "stream",
     "text": [
      "0      True\n",
      "1      True\n",
      "2      True\n",
      "3      True\n",
      "4      True\n",
      "5      True\n",
      "6      True\n",
      "7      True\n",
      "8      True\n",
      "9      True\n",
      "10     True\n",
      "11     True\n",
      "12     True\n",
      "13     True\n",
      "14     True\n",
      "15     True\n",
      "16     True\n",
      "17     True\n",
      "18    False\n",
      "19     True\n",
      "20     True\n",
      "21     True\n",
      "22     True\n",
      "23     True\n",
      "24     True\n",
      "25     True\n",
      "26     True\n",
      "Name: pattern_type, dtype: bool\n",
      "0.9629629629629629\n",
      "[ 6  5  4  2 12  0  1  3  3  5  9  9  2 10 11 11  4  1  0  0  8  7  0]\n",
      "[ 6  5  4  2 12  0  1  3  3  5  9  9  2 10 11 11  4  1 11  0  8  7  0]\n"
     ]
    }
   ],
   "source": [
    "keystr = 'df_observable_data'\n",
    "\n",
    "x = torch.tensor(observable_patterns_result[keystr].loc[:, observed_features].to_numpy())\n",
    "y = torch.tensor(observable_patterns_result['df_cluster_median'].to_numpy())\n",
    "\n",
    "alternative = ((x.unsqueeze(1) - y.unsqueeze(0)).pow(2).clamp(min=1e-20)).sum(2).sqrt()\n",
    "\n",
    "vergleich = observable_patterns_result['df_observable_data'].pattern_type == alternative.argmin(dim=1).numpy() #torch.cdist(x, y).argmin(dim=1).numpy()\n",
    "print(vergleich)\n",
    "print(vergleich.sum() / observable_patterns_result[keystr].shape[0])\n",
    "\n",
    "print(alternative.argmin(dim=1).numpy()[:23])\n",
    "print(observable_patterns_result['df_observable_data'].pattern_type[:23].to_numpy())"
   ]
  },
  {
   "cell_type": "code",
   "execution_count": 18,
   "metadata": {},
   "outputs": [],
   "source": [
    "my_df = observable_patterns_result[keystr].copy()\n",
    "my_df = my_df[my_df[\"oversampled\"] == False]"
   ]
  },
  {
   "cell_type": "code",
   "execution_count": 19,
   "metadata": {},
   "outputs": [
    {
     "data": {
      "text/html": [
       "<div>\n",
       "<style scoped>\n",
       "    .dataframe tbody tr th:only-of-type {\n",
       "        vertical-align: middle;\n",
       "    }\n",
       "\n",
       "    .dataframe tbody tr th {\n",
       "        vertical-align: top;\n",
       "    }\n",
       "\n",
       "    .dataframe thead th {\n",
       "        text-align: right;\n",
       "    }\n",
       "</style>\n",
       "<table border=\"1\" class=\"dataframe\">\n",
       "  <thead>\n",
       "    <tr style=\"text-align: right;\">\n",
       "      <th></th>\n",
       "      <th>Messung</th>\n",
       "      <th>Durchfall</th>\n",
       "      <th>Verstopfung</th>\n",
       "      <th>Bauchschmerzen</th>\n",
       "      <th>Aufgebläht</th>\n",
       "      <th>Sodbrennen</th>\n",
       "      <th>Erschöpfung</th>\n",
       "    </tr>\n",
       "  </thead>\n",
       "  <tbody>\n",
       "    <tr>\n",
       "      <th>0</th>\n",
       "      <td>Messung_0</td>\n",
       "      <td>1.011321</td>\n",
       "      <td>0.758429</td>\n",
       "      <td>0.843074</td>\n",
       "      <td>0.675532</td>\n",
       "      <td>1.012130</td>\n",
       "      <td>0.633158</td>\n",
       "    </tr>\n",
       "    <tr>\n",
       "      <th>1</th>\n",
       "      <td>Messung_1</td>\n",
       "      <td>0.009678</td>\n",
       "      <td>0.883422</td>\n",
       "      <td>0.677972</td>\n",
       "      <td>0.676991</td>\n",
       "      <td>0.810343</td>\n",
       "      <td>0.634473</td>\n",
       "    </tr>\n",
       "    <tr>\n",
       "      <th>2</th>\n",
       "      <td>Messung_2</td>\n",
       "      <td>0.009758</td>\n",
       "      <td>0.260900</td>\n",
       "      <td>0.344141</td>\n",
       "      <td>0.341503</td>\n",
       "      <td>0.410020</td>\n",
       "      <td>0.885520</td>\n",
       "    </tr>\n",
       "    <tr>\n",
       "      <th>3</th>\n",
       "      <td>Messung_3</td>\n",
       "      <td>0.009589</td>\n",
       "      <td>0.509201</td>\n",
       "      <td>0.343151</td>\n",
       "      <td>0.342053</td>\n",
       "      <td>0.808980</td>\n",
       "      <td>0.384565</td>\n",
       "    </tr>\n",
       "    <tr>\n",
       "      <th>4</th>\n",
       "      <td>Messung_4</td>\n",
       "      <td>0.581795</td>\n",
       "      <td>0.760529</td>\n",
       "      <td>0.677499</td>\n",
       "      <td>0.453035</td>\n",
       "      <td>0.208472</td>\n",
       "      <td>0.261482</td>\n",
       "    </tr>\n",
       "    <tr>\n",
       "      <th>5</th>\n",
       "      <td>Messung_5</td>\n",
       "      <td>0.726038</td>\n",
       "      <td>0.010631</td>\n",
       "      <td>0.676487</td>\n",
       "      <td>0.232441</td>\n",
       "      <td>0.009961</td>\n",
       "      <td>0.010309</td>\n",
       "    </tr>\n",
       "    <tr>\n",
       "      <th>6</th>\n",
       "      <td>Messung_6</td>\n",
       "      <td>0.439555</td>\n",
       "      <td>0.510668</td>\n",
       "      <td>1.009428</td>\n",
       "      <td>0.010544</td>\n",
       "      <td>0.410460</td>\n",
       "      <td>0.008982</td>\n",
       "    </tr>\n",
       "    <tr>\n",
       "      <th>7</th>\n",
       "      <td>Messung_7</td>\n",
       "      <td>0.008595</td>\n",
       "      <td>0.383205</td>\n",
       "      <td>0.843816</td>\n",
       "      <td>1.010590</td>\n",
       "      <td>0.209376</td>\n",
       "      <td>0.260549</td>\n",
       "    </tr>\n",
       "    <tr>\n",
       "      <th>8</th>\n",
       "      <td>Messung_8</td>\n",
       "      <td>0.009259</td>\n",
       "      <td>0.260294</td>\n",
       "      <td>0.509790</td>\n",
       "      <td>0.785919</td>\n",
       "      <td>0.209956</td>\n",
       "      <td>0.134512</td>\n",
       "    </tr>\n",
       "    <tr>\n",
       "      <th>9</th>\n",
       "      <td>Messung_9</td>\n",
       "      <td>0.010329</td>\n",
       "      <td>0.383823</td>\n",
       "      <td>0.508453</td>\n",
       "      <td>0.788937</td>\n",
       "      <td>0.607477</td>\n",
       "      <td>0.635500</td>\n",
       "    </tr>\n",
       "    <tr>\n",
       "      <th>10</th>\n",
       "      <td>Messung_10</td>\n",
       "      <td>0.008851</td>\n",
       "      <td>1.011767</td>\n",
       "      <td>0.342852</td>\n",
       "      <td>0.232589</td>\n",
       "      <td>0.409857</td>\n",
       "      <td>0.008107</td>\n",
       "    </tr>\n",
       "    <tr>\n",
       "      <th>11</th>\n",
       "      <td>Messung_11</td>\n",
       "      <td>0.010130</td>\n",
       "      <td>0.759885</td>\n",
       "      <td>0.343920</td>\n",
       "      <td>0.566920</td>\n",
       "      <td>0.410686</td>\n",
       "      <td>0.010782</td>\n",
       "    </tr>\n",
       "    <tr>\n",
       "      <th>12</th>\n",
       "      <td>Messung_12</td>\n",
       "      <td>0.009129</td>\n",
       "      <td>0.634638</td>\n",
       "      <td>0.343412</td>\n",
       "      <td>0.233882</td>\n",
       "      <td>0.608852</td>\n",
       "      <td>0.010144</td>\n",
       "    </tr>\n",
       "    <tr>\n",
       "      <th>13</th>\n",
       "      <td>Messung_13</td>\n",
       "      <td>0.581986</td>\n",
       "      <td>0.258931</td>\n",
       "      <td>0.676677</td>\n",
       "      <td>0.231245</td>\n",
       "      <td>1.009479</td>\n",
       "      <td>0.010025</td>\n",
       "    </tr>\n",
       "    <tr>\n",
       "      <th>14</th>\n",
       "      <td>Messung_14</td>\n",
       "      <td>0.295609</td>\n",
       "      <td>0.260471</td>\n",
       "      <td>0.342669</td>\n",
       "      <td>0.453615</td>\n",
       "      <td>0.408468</td>\n",
       "      <td>0.007777</td>\n",
       "    </tr>\n",
       "    <tr>\n",
       "      <th>15</th>\n",
       "      <td>Messung_15</td>\n",
       "      <td>0.582534</td>\n",
       "      <td>0.259943</td>\n",
       "      <td>0.512425</td>\n",
       "      <td>0.230966</td>\n",
       "      <td>0.410781</td>\n",
       "      <td>0.009806</td>\n",
       "    </tr>\n",
       "    <tr>\n",
       "      <th>16</th>\n",
       "      <td>Messung_16</td>\n",
       "      <td>0.438252</td>\n",
       "      <td>0.260548</td>\n",
       "      <td>0.343145</td>\n",
       "      <td>0.232753</td>\n",
       "      <td>0.408651</td>\n",
       "      <td>1.009930</td>\n",
       "    </tr>\n",
       "    <tr>\n",
       "      <th>17</th>\n",
       "      <td>Messung_17</td>\n",
       "      <td>0.865954</td>\n",
       "      <td>0.385008</td>\n",
       "      <td>0.843447</td>\n",
       "      <td>0.233087</td>\n",
       "      <td>0.409319</td>\n",
       "      <td>0.010624</td>\n",
       "    </tr>\n",
       "    <tr>\n",
       "      <th>18</th>\n",
       "      <td>Messung_18</td>\n",
       "      <td>0.725107</td>\n",
       "      <td>0.135474</td>\n",
       "      <td>0.341270</td>\n",
       "      <td>0.121076</td>\n",
       "      <td>0.210312</td>\n",
       "      <td>0.008581</td>\n",
       "    </tr>\n",
       "    <tr>\n",
       "      <th>19</th>\n",
       "      <td>Messung_19</td>\n",
       "      <td>0.296589</td>\n",
       "      <td>0.009758</td>\n",
       "      <td>0.342467</td>\n",
       "      <td>0.009022</td>\n",
       "      <td>0.009435</td>\n",
       "      <td>0.009323</td>\n",
       "    </tr>\n",
       "    <tr>\n",
       "      <th>20</th>\n",
       "      <td>Messung_20</td>\n",
       "      <td>0.009588</td>\n",
       "      <td>0.010093</td>\n",
       "      <td>0.343733</td>\n",
       "      <td>0.009405</td>\n",
       "      <td>1.010522</td>\n",
       "      <td>0.509991</td>\n",
       "    </tr>\n",
       "    <tr>\n",
       "      <th>21</th>\n",
       "      <td>Messung_21</td>\n",
       "      <td>0.010907</td>\n",
       "      <td>0.008682</td>\n",
       "      <td>0.343142</td>\n",
       "      <td>0.122811</td>\n",
       "      <td>0.410179</td>\n",
       "      <td>0.011079</td>\n",
       "    </tr>\n",
       "    <tr>\n",
       "      <th>22</th>\n",
       "      <td>Messung_22</td>\n",
       "      <td>0.726030</td>\n",
       "      <td>0.011292</td>\n",
       "      <td>0.509725</td>\n",
       "      <td>0.231236</td>\n",
       "      <td>0.010483</td>\n",
       "      <td>0.386301</td>\n",
       "    </tr>\n",
       "    <tr>\n",
       "      <th>23</th>\n",
       "      <td>Messung_23</td>\n",
       "      <td>0.579939</td>\n",
       "      <td>0.010912</td>\n",
       "      <td>0.343784</td>\n",
       "      <td>0.009579</td>\n",
       "      <td>0.010531</td>\n",
       "      <td>0.007556</td>\n",
       "    </tr>\n",
       "    <tr>\n",
       "      <th>24</th>\n",
       "      <td>Messung_24</td>\n",
       "      <td>0.153438</td>\n",
       "      <td>0.259435</td>\n",
       "      <td>0.342218</td>\n",
       "      <td>0.010473</td>\n",
       "      <td>0.808845</td>\n",
       "      <td>0.010464</td>\n",
       "    </tr>\n",
       "    <tr>\n",
       "      <th>25</th>\n",
       "      <td>Messung_25</td>\n",
       "      <td>0.010349</td>\n",
       "      <td>0.511642</td>\n",
       "      <td>0.176053</td>\n",
       "      <td>0.011402</td>\n",
       "      <td>0.408428</td>\n",
       "      <td>0.009840</td>\n",
       "    </tr>\n",
       "    <tr>\n",
       "      <th>26</th>\n",
       "      <td>Messung_26</td>\n",
       "      <td>0.007609</td>\n",
       "      <td>0.134193</td>\n",
       "      <td>0.178421</td>\n",
       "      <td>0.009178</td>\n",
       "      <td>0.211313</td>\n",
       "      <td>0.008646</td>\n",
       "    </tr>\n",
       "  </tbody>\n",
       "</table>\n",
       "</div>"
      ],
      "text/plain": [
       "       Messung  Durchfall  Verstopfung  Bauchschmerzen  Aufgebläht  \\\n",
       "0    Messung_0   1.011321     0.758429        0.843074    0.675532   \n",
       "1    Messung_1   0.009678     0.883422        0.677972    0.676991   \n",
       "2    Messung_2   0.009758     0.260900        0.344141    0.341503   \n",
       "3    Messung_3   0.009589     0.509201        0.343151    0.342053   \n",
       "4    Messung_4   0.581795     0.760529        0.677499    0.453035   \n",
       "5    Messung_5   0.726038     0.010631        0.676487    0.232441   \n",
       "6    Messung_6   0.439555     0.510668        1.009428    0.010544   \n",
       "7    Messung_7   0.008595     0.383205        0.843816    1.010590   \n",
       "8    Messung_8   0.009259     0.260294        0.509790    0.785919   \n",
       "9    Messung_9   0.010329     0.383823        0.508453    0.788937   \n",
       "10  Messung_10   0.008851     1.011767        0.342852    0.232589   \n",
       "11  Messung_11   0.010130     0.759885        0.343920    0.566920   \n",
       "12  Messung_12   0.009129     0.634638        0.343412    0.233882   \n",
       "13  Messung_13   0.581986     0.258931        0.676677    0.231245   \n",
       "14  Messung_14   0.295609     0.260471        0.342669    0.453615   \n",
       "15  Messung_15   0.582534     0.259943        0.512425    0.230966   \n",
       "16  Messung_16   0.438252     0.260548        0.343145    0.232753   \n",
       "17  Messung_17   0.865954     0.385008        0.843447    0.233087   \n",
       "18  Messung_18   0.725107     0.135474        0.341270    0.121076   \n",
       "19  Messung_19   0.296589     0.009758        0.342467    0.009022   \n",
       "20  Messung_20   0.009588     0.010093        0.343733    0.009405   \n",
       "21  Messung_21   0.010907     0.008682        0.343142    0.122811   \n",
       "22  Messung_22   0.726030     0.011292        0.509725    0.231236   \n",
       "23  Messung_23   0.579939     0.010912        0.343784    0.009579   \n",
       "24  Messung_24   0.153438     0.259435        0.342218    0.010473   \n",
       "25  Messung_25   0.010349     0.511642        0.176053    0.011402   \n",
       "26  Messung_26   0.007609     0.134193        0.178421    0.009178   \n",
       "\n",
       "    Sodbrennen  Erschöpfung  \n",
       "0     1.012130     0.633158  \n",
       "1     0.810343     0.634473  \n",
       "2     0.410020     0.885520  \n",
       "3     0.808980     0.384565  \n",
       "4     0.208472     0.261482  \n",
       "5     0.009961     0.010309  \n",
       "6     0.410460     0.008982  \n",
       "7     0.209376     0.260549  \n",
       "8     0.209956     0.134512  \n",
       "9     0.607477     0.635500  \n",
       "10    0.409857     0.008107  \n",
       "11    0.410686     0.010782  \n",
       "12    0.608852     0.010144  \n",
       "13    1.009479     0.010025  \n",
       "14    0.408468     0.007777  \n",
       "15    0.410781     0.009806  \n",
       "16    0.408651     1.009930  \n",
       "17    0.409319     0.010624  \n",
       "18    0.210312     0.008581  \n",
       "19    0.009435     0.009323  \n",
       "20    1.010522     0.509991  \n",
       "21    0.410179     0.011079  \n",
       "22    0.010483     0.386301  \n",
       "23    0.010531     0.007556  \n",
       "24    0.808845     0.010464  \n",
       "25    0.408428     0.009840  \n",
       "26    0.211313     0.008646  "
      ]
     },
     "execution_count": 19,
     "metadata": {},
     "output_type": "execute_result"
    }
   ],
   "source": [
    "my_df.loc[:, [index_name] + observed_features]"
   ]
  },
  {
   "cell_type": "code",
   "execution_count": 20,
   "metadata": {},
   "outputs": [
    {
     "data": {
      "text/html": [
       "<div>\n",
       "<style scoped>\n",
       "    .dataframe tbody tr th:only-of-type {\n",
       "        vertical-align: middle;\n",
       "    }\n",
       "\n",
       "    .dataframe tbody tr th {\n",
       "        vertical-align: top;\n",
       "    }\n",
       "\n",
       "    .dataframe thead th {\n",
       "        text-align: right;\n",
       "    }\n",
       "</style>\n",
       "<table border=\"1\" class=\"dataframe\">\n",
       "  <thead>\n",
       "    <tr style=\"text-align: right;\">\n",
       "      <th>Messung</th>\n",
       "      <th>Messung_0</th>\n",
       "      <th>Messung_1</th>\n",
       "      <th>Messung_10</th>\n",
       "      <th>Messung_11</th>\n",
       "      <th>Messung_12</th>\n",
       "      <th>Messung_13</th>\n",
       "      <th>Messung_14</th>\n",
       "      <th>Messung_15</th>\n",
       "      <th>Messung_16</th>\n",
       "      <th>Messung_17</th>\n",
       "      <th>...</th>\n",
       "      <th>Messung_24</th>\n",
       "      <th>Messung_25</th>\n",
       "      <th>Messung_26</th>\n",
       "      <th>Messung_3</th>\n",
       "      <th>Messung_4</th>\n",
       "      <th>Messung_5</th>\n",
       "      <th>Messung_6</th>\n",
       "      <th>Messung_7</th>\n",
       "      <th>Messung_8</th>\n",
       "      <th>Messung_9</th>\n",
       "    </tr>\n",
       "    <tr>\n",
       "      <th>Messung</th>\n",
       "      <th></th>\n",
       "      <th></th>\n",
       "      <th></th>\n",
       "      <th></th>\n",
       "      <th></th>\n",
       "      <th></th>\n",
       "      <th></th>\n",
       "      <th></th>\n",
       "      <th></th>\n",
       "      <th></th>\n",
       "      <th></th>\n",
       "      <th></th>\n",
       "      <th></th>\n",
       "      <th></th>\n",
       "      <th></th>\n",
       "      <th></th>\n",
       "      <th></th>\n",
       "      <th></th>\n",
       "      <th></th>\n",
       "      <th></th>\n",
       "      <th></th>\n",
       "    </tr>\n",
       "  </thead>\n",
       "  <tbody>\n",
       "    <tr>\n",
       "      <th>Messung_0</th>\n",
       "      <td>0.000000</td>\n",
       "      <td>0.001515</td>\n",
       "      <td>0.001515</td>\n",
       "      <td>0.001515</td>\n",
       "      <td>0.001515</td>\n",
       "      <td>0.001515</td>\n",
       "      <td>0.001515</td>\n",
       "      <td>0.001515</td>\n",
       "      <td>0.001515</td>\n",
       "      <td>0.001515</td>\n",
       "      <td>...</td>\n",
       "      <td>0.001515</td>\n",
       "      <td>0.001515</td>\n",
       "      <td>0.001515</td>\n",
       "      <td>0.001515</td>\n",
       "      <td>0.001515</td>\n",
       "      <td>0.001515</td>\n",
       "      <td>0.001515</td>\n",
       "      <td>0.001515</td>\n",
       "      <td>0.001515</td>\n",
       "      <td>0.001515</td>\n",
       "    </tr>\n",
       "    <tr>\n",
       "      <th>Messung_1</th>\n",
       "      <td>0.001515</td>\n",
       "      <td>0.000000</td>\n",
       "      <td>0.001515</td>\n",
       "      <td>0.001515</td>\n",
       "      <td>0.001515</td>\n",
       "      <td>0.001515</td>\n",
       "      <td>0.001515</td>\n",
       "      <td>0.001515</td>\n",
       "      <td>0.001515</td>\n",
       "      <td>0.001515</td>\n",
       "      <td>...</td>\n",
       "      <td>0.001515</td>\n",
       "      <td>0.001515</td>\n",
       "      <td>0.001515</td>\n",
       "      <td>0.001515</td>\n",
       "      <td>0.001515</td>\n",
       "      <td>0.001515</td>\n",
       "      <td>0.001515</td>\n",
       "      <td>0.001515</td>\n",
       "      <td>0.001515</td>\n",
       "      <td>0.000000</td>\n",
       "    </tr>\n",
       "    <tr>\n",
       "      <th>Messung_10</th>\n",
       "      <td>0.001515</td>\n",
       "      <td>0.001515</td>\n",
       "      <td>0.000000</td>\n",
       "      <td>0.000000</td>\n",
       "      <td>0.001515</td>\n",
       "      <td>0.001515</td>\n",
       "      <td>0.001515</td>\n",
       "      <td>0.001515</td>\n",
       "      <td>0.001515</td>\n",
       "      <td>0.001515</td>\n",
       "      <td>...</td>\n",
       "      <td>0.001515</td>\n",
       "      <td>0.001515</td>\n",
       "      <td>0.001515</td>\n",
       "      <td>0.001515</td>\n",
       "      <td>0.001515</td>\n",
       "      <td>0.001515</td>\n",
       "      <td>0.001515</td>\n",
       "      <td>0.001515</td>\n",
       "      <td>0.001515</td>\n",
       "      <td>0.001515</td>\n",
       "    </tr>\n",
       "    <tr>\n",
       "      <th>Messung_11</th>\n",
       "      <td>0.001515</td>\n",
       "      <td>0.001515</td>\n",
       "      <td>0.000000</td>\n",
       "      <td>0.000000</td>\n",
       "      <td>0.001515</td>\n",
       "      <td>0.001515</td>\n",
       "      <td>0.001515</td>\n",
       "      <td>0.001515</td>\n",
       "      <td>0.001515</td>\n",
       "      <td>0.001515</td>\n",
       "      <td>...</td>\n",
       "      <td>0.001515</td>\n",
       "      <td>0.001515</td>\n",
       "      <td>0.001515</td>\n",
       "      <td>0.001515</td>\n",
       "      <td>0.001515</td>\n",
       "      <td>0.001515</td>\n",
       "      <td>0.001515</td>\n",
       "      <td>0.001515</td>\n",
       "      <td>0.001515</td>\n",
       "      <td>0.001515</td>\n",
       "    </tr>\n",
       "    <tr>\n",
       "      <th>Messung_12</th>\n",
       "      <td>0.001515</td>\n",
       "      <td>0.001515</td>\n",
       "      <td>0.001515</td>\n",
       "      <td>0.001515</td>\n",
       "      <td>0.000000</td>\n",
       "      <td>0.001515</td>\n",
       "      <td>0.001515</td>\n",
       "      <td>0.001515</td>\n",
       "      <td>0.001515</td>\n",
       "      <td>0.001515</td>\n",
       "      <td>...</td>\n",
       "      <td>0.000000</td>\n",
       "      <td>0.000000</td>\n",
       "      <td>0.001515</td>\n",
       "      <td>0.000000</td>\n",
       "      <td>0.001515</td>\n",
       "      <td>0.001515</td>\n",
       "      <td>0.001515</td>\n",
       "      <td>0.001515</td>\n",
       "      <td>0.001515</td>\n",
       "      <td>0.001515</td>\n",
       "    </tr>\n",
       "  </tbody>\n",
       "</table>\n",
       "<p>5 rows × 27 columns</p>\n",
       "</div>"
      ],
      "text/plain": [
       "Messung     Messung_0  Messung_1  Messung_10  Messung_11  Messung_12  \\\n",
       "Messung                                                                \n",
       "Messung_0    0.000000   0.001515    0.001515    0.001515    0.001515   \n",
       "Messung_1    0.001515   0.000000    0.001515    0.001515    0.001515   \n",
       "Messung_10   0.001515   0.001515    0.000000    0.000000    0.001515   \n",
       "Messung_11   0.001515   0.001515    0.000000    0.000000    0.001515   \n",
       "Messung_12   0.001515   0.001515    0.001515    0.001515    0.000000   \n",
       "\n",
       "Messung     Messung_13  Messung_14  Messung_15  Messung_16  Messung_17  ...  \\\n",
       "Messung                                                                 ...   \n",
       "Messung_0     0.001515    0.001515    0.001515    0.001515    0.001515  ...   \n",
       "Messung_1     0.001515    0.001515    0.001515    0.001515    0.001515  ...   \n",
       "Messung_10    0.001515    0.001515    0.001515    0.001515    0.001515  ...   \n",
       "Messung_11    0.001515    0.001515    0.001515    0.001515    0.001515  ...   \n",
       "Messung_12    0.001515    0.001515    0.001515    0.001515    0.001515  ...   \n",
       "\n",
       "Messung     Messung_24  Messung_25  Messung_26  Messung_3  Messung_4  \\\n",
       "Messung                                                                \n",
       "Messung_0     0.001515    0.001515    0.001515   0.001515   0.001515   \n",
       "Messung_1     0.001515    0.001515    0.001515   0.001515   0.001515   \n",
       "Messung_10    0.001515    0.001515    0.001515   0.001515   0.001515   \n",
       "Messung_11    0.001515    0.001515    0.001515   0.001515   0.001515   \n",
       "Messung_12    0.000000    0.000000    0.001515   0.000000   0.001515   \n",
       "\n",
       "Messung     Messung_5  Messung_6  Messung_7  Messung_8  Messung_9  \n",
       "Messung                                                            \n",
       "Messung_0    0.001515   0.001515   0.001515   0.001515   0.001515  \n",
       "Messung_1    0.001515   0.001515   0.001515   0.001515   0.000000  \n",
       "Messung_10   0.001515   0.001515   0.001515   0.001515   0.001515  \n",
       "Messung_11   0.001515   0.001515   0.001515   0.001515   0.001515  \n",
       "Messung_12   0.001515   0.001515   0.001515   0.001515   0.001515  \n",
       "\n",
       "[5 rows x 27 columns]"
      ]
     },
     "execution_count": 20,
     "metadata": {},
     "output_type": "execute_result"
    }
   ],
   "source": [
    "df_observable_distances = observable_patterns_result['pw_norm_dist']\n",
    "df_observable_distances.head()"
   ]
  },
  {
   "cell_type": "code",
   "execution_count": 21,
   "metadata": {},
   "outputs": [],
   "source": [
    "fingerprint_df = ClusteringApplier._calculate_fingerprints(\n",
    "    df = my_df,\n",
    "    group_name = index_name,\n",
    "    use_config=False,\n",
    ")"
   ]
  },
  {
   "cell_type": "code",
   "execution_count": 22,
   "metadata": {},
   "outputs": [],
   "source": [
    "fingerprint_distanzen, normierte_fingerprint_distanzen = ClusteringApplier.calculate_pairwise_fingerprint_distances(\n",
    "    df = fingerprint_df,\n",
    "    distance = 'jensenshannon'\n",
    ")"
   ]
  },
  {
   "cell_type": "code",
   "execution_count": 23,
   "metadata": {},
   "outputs": [],
   "source": [
    "@torch.jit.script\n",
    "def torch_relative_entropy(x:torch.Tensor, y:torch.Tensor) -> torch.Tensor:\n",
    "    return (x * torch.log(x/y))\n",
    "\n",
    "@torch.jit.script\n",
    "def apply_weights(A, w):\n",
    "    return w.unsqueeze(-1)*A*w\n",
    "\n",
    "@torch.jit.script\n",
    "def weighted_mean(A, w):\n",
    "    _w = w / w.sum()\n",
    "    return ((_w*A).sum(dim=1)*_w).sum()\n",
    "\n",
    "@torch.jit.script\n",
    "def weighted_pearson_corrcoef(x:torch.Tensor, y:torch.Tensor, w:torch.Tensor) -> torch.Tensor:\n",
    "    '''\n",
    "    Calculates the Person correlation coefficient.\n",
    "    PyTorch equivalent to numpy.corrcoef(x, y)[0, 1].\n",
    "    '''\n",
    "\n",
    "    A = apply_weights(x, w)\n",
    "    Am = weighted_mean(A, w)\n",
    "    vx = apply_weights(A - Am, w)\n",
    "\n",
    "    B = apply_weights(y, w)\n",
    "    Bm = weighted_mean(B, w)\n",
    "    vy = apply_weights(B - Bm, w)\n",
    "\n",
    "    return torch.sum(vx * vy) / (torch.sqrt(torch.sum(vx ** 2)) * torch.sqrt(torch.sum(vy ** 2)) + 1e-20)"
   ]
  },
  {
   "cell_type": "code",
   "execution_count": 24,
   "metadata": {},
   "outputs": [
    {
     "data": {
      "text/html": [
       "<div>\n",
       "<style scoped>\n",
       "    .dataframe tbody tr th:only-of-type {\n",
       "        vertical-align: middle;\n",
       "    }\n",
       "\n",
       "    .dataframe tbody tr th {\n",
       "        vertical-align: top;\n",
       "    }\n",
       "\n",
       "    .dataframe thead th {\n",
       "        text-align: right;\n",
       "    }\n",
       "</style>\n",
       "<table border=\"1\" class=\"dataframe\">\n",
       "  <thead>\n",
       "    <tr style=\"text-align: right;\">\n",
       "      <th>Messung</th>\n",
       "      <th>Messung_0</th>\n",
       "      <th>Messung_1</th>\n",
       "      <th>Messung_10</th>\n",
       "      <th>Messung_11</th>\n",
       "      <th>Messung_12</th>\n",
       "      <th>Messung_13</th>\n",
       "      <th>Messung_14</th>\n",
       "      <th>Messung_15</th>\n",
       "      <th>Messung_16</th>\n",
       "      <th>Messung_17</th>\n",
       "      <th>...</th>\n",
       "      <th>Messung_24</th>\n",
       "      <th>Messung_25</th>\n",
       "      <th>Messung_26</th>\n",
       "      <th>Messung_3</th>\n",
       "      <th>Messung_4</th>\n",
       "      <th>Messung_5</th>\n",
       "      <th>Messung_6</th>\n",
       "      <th>Messung_7</th>\n",
       "      <th>Messung_8</th>\n",
       "      <th>Messung_9</th>\n",
       "    </tr>\n",
       "    <tr>\n",
       "      <th>Messung</th>\n",
       "      <th></th>\n",
       "      <th></th>\n",
       "      <th></th>\n",
       "      <th></th>\n",
       "      <th></th>\n",
       "      <th></th>\n",
       "      <th></th>\n",
       "      <th></th>\n",
       "      <th></th>\n",
       "      <th></th>\n",
       "      <th></th>\n",
       "      <th></th>\n",
       "      <th></th>\n",
       "      <th></th>\n",
       "      <th></th>\n",
       "      <th></th>\n",
       "      <th></th>\n",
       "      <th></th>\n",
       "      <th></th>\n",
       "      <th></th>\n",
       "      <th></th>\n",
       "    </tr>\n",
       "  </thead>\n",
       "  <tbody>\n",
       "    <tr>\n",
       "      <th>Messung_0</th>\n",
       "      <td>0.000000</td>\n",
       "      <td>0.001515</td>\n",
       "      <td>0.001515</td>\n",
       "      <td>0.001515</td>\n",
       "      <td>0.001515</td>\n",
       "      <td>0.001515</td>\n",
       "      <td>0.001515</td>\n",
       "      <td>0.001515</td>\n",
       "      <td>0.001515</td>\n",
       "      <td>0.001515</td>\n",
       "      <td>...</td>\n",
       "      <td>0.001515</td>\n",
       "      <td>0.001515</td>\n",
       "      <td>0.001515</td>\n",
       "      <td>0.001515</td>\n",
       "      <td>0.001515</td>\n",
       "      <td>0.001515</td>\n",
       "      <td>0.001515</td>\n",
       "      <td>0.001515</td>\n",
       "      <td>0.001515</td>\n",
       "      <td>0.001515</td>\n",
       "    </tr>\n",
       "    <tr>\n",
       "      <th>Messung_1</th>\n",
       "      <td>0.001515</td>\n",
       "      <td>0.000000</td>\n",
       "      <td>0.001515</td>\n",
       "      <td>0.001515</td>\n",
       "      <td>0.001515</td>\n",
       "      <td>0.001515</td>\n",
       "      <td>0.001515</td>\n",
       "      <td>0.001515</td>\n",
       "      <td>0.001515</td>\n",
       "      <td>0.001515</td>\n",
       "      <td>...</td>\n",
       "      <td>0.001515</td>\n",
       "      <td>0.001515</td>\n",
       "      <td>0.001515</td>\n",
       "      <td>0.001515</td>\n",
       "      <td>0.001515</td>\n",
       "      <td>0.001515</td>\n",
       "      <td>0.001515</td>\n",
       "      <td>0.001515</td>\n",
       "      <td>0.001515</td>\n",
       "      <td>0.000000</td>\n",
       "    </tr>\n",
       "    <tr>\n",
       "      <th>Messung_10</th>\n",
       "      <td>0.001515</td>\n",
       "      <td>0.001515</td>\n",
       "      <td>0.000000</td>\n",
       "      <td>0.000000</td>\n",
       "      <td>0.001515</td>\n",
       "      <td>0.001515</td>\n",
       "      <td>0.001515</td>\n",
       "      <td>0.001515</td>\n",
       "      <td>0.001515</td>\n",
       "      <td>0.001515</td>\n",
       "      <td>...</td>\n",
       "      <td>0.001515</td>\n",
       "      <td>0.001515</td>\n",
       "      <td>0.001515</td>\n",
       "      <td>0.001515</td>\n",
       "      <td>0.001515</td>\n",
       "      <td>0.001515</td>\n",
       "      <td>0.001515</td>\n",
       "      <td>0.001515</td>\n",
       "      <td>0.001515</td>\n",
       "      <td>0.001515</td>\n",
       "    </tr>\n",
       "    <tr>\n",
       "      <th>Messung_11</th>\n",
       "      <td>0.001515</td>\n",
       "      <td>0.001515</td>\n",
       "      <td>0.000000</td>\n",
       "      <td>0.000000</td>\n",
       "      <td>0.001515</td>\n",
       "      <td>0.001515</td>\n",
       "      <td>0.001515</td>\n",
       "      <td>0.001515</td>\n",
       "      <td>0.001515</td>\n",
       "      <td>0.001515</td>\n",
       "      <td>...</td>\n",
       "      <td>0.001515</td>\n",
       "      <td>0.001515</td>\n",
       "      <td>0.001515</td>\n",
       "      <td>0.001515</td>\n",
       "      <td>0.001515</td>\n",
       "      <td>0.001515</td>\n",
       "      <td>0.001515</td>\n",
       "      <td>0.001515</td>\n",
       "      <td>0.001515</td>\n",
       "      <td>0.001515</td>\n",
       "    </tr>\n",
       "    <tr>\n",
       "      <th>Messung_12</th>\n",
       "      <td>0.001515</td>\n",
       "      <td>0.001515</td>\n",
       "      <td>0.001515</td>\n",
       "      <td>0.001515</td>\n",
       "      <td>0.000000</td>\n",
       "      <td>0.001515</td>\n",
       "      <td>0.001515</td>\n",
       "      <td>0.001515</td>\n",
       "      <td>0.001515</td>\n",
       "      <td>0.001515</td>\n",
       "      <td>...</td>\n",
       "      <td>0.000000</td>\n",
       "      <td>0.000000</td>\n",
       "      <td>0.001515</td>\n",
       "      <td>0.000000</td>\n",
       "      <td>0.001515</td>\n",
       "      <td>0.001515</td>\n",
       "      <td>0.001515</td>\n",
       "      <td>0.001515</td>\n",
       "      <td>0.001515</td>\n",
       "      <td>0.001515</td>\n",
       "    </tr>\n",
       "    <tr>\n",
       "      <th>Messung_13</th>\n",
       "      <td>0.001515</td>\n",
       "      <td>0.001515</td>\n",
       "      <td>0.001515</td>\n",
       "      <td>0.001515</td>\n",
       "      <td>0.001515</td>\n",
       "      <td>0.000000</td>\n",
       "      <td>0.001515</td>\n",
       "      <td>0.001515</td>\n",
       "      <td>0.001515</td>\n",
       "      <td>0.001515</td>\n",
       "      <td>...</td>\n",
       "      <td>0.001515</td>\n",
       "      <td>0.001515</td>\n",
       "      <td>0.001515</td>\n",
       "      <td>0.001515</td>\n",
       "      <td>0.001515</td>\n",
       "      <td>0.001515</td>\n",
       "      <td>0.001515</td>\n",
       "      <td>0.001515</td>\n",
       "      <td>0.001515</td>\n",
       "      <td>0.001515</td>\n",
       "    </tr>\n",
       "    <tr>\n",
       "      <th>Messung_14</th>\n",
       "      <td>0.001515</td>\n",
       "      <td>0.001515</td>\n",
       "      <td>0.001515</td>\n",
       "      <td>0.001515</td>\n",
       "      <td>0.001515</td>\n",
       "      <td>0.001515</td>\n",
       "      <td>0.000000</td>\n",
       "      <td>0.000000</td>\n",
       "      <td>0.001515</td>\n",
       "      <td>0.001515</td>\n",
       "      <td>...</td>\n",
       "      <td>0.001515</td>\n",
       "      <td>0.001515</td>\n",
       "      <td>0.001515</td>\n",
       "      <td>0.001515</td>\n",
       "      <td>0.001515</td>\n",
       "      <td>0.001515</td>\n",
       "      <td>0.001515</td>\n",
       "      <td>0.001515</td>\n",
       "      <td>0.001515</td>\n",
       "      <td>0.001515</td>\n",
       "    </tr>\n",
       "    <tr>\n",
       "      <th>Messung_15</th>\n",
       "      <td>0.001515</td>\n",
       "      <td>0.001515</td>\n",
       "      <td>0.001515</td>\n",
       "      <td>0.001515</td>\n",
       "      <td>0.001515</td>\n",
       "      <td>0.001515</td>\n",
       "      <td>0.000000</td>\n",
       "      <td>0.000000</td>\n",
       "      <td>0.001515</td>\n",
       "      <td>0.001515</td>\n",
       "      <td>...</td>\n",
       "      <td>0.001515</td>\n",
       "      <td>0.001515</td>\n",
       "      <td>0.001515</td>\n",
       "      <td>0.001515</td>\n",
       "      <td>0.001515</td>\n",
       "      <td>0.001515</td>\n",
       "      <td>0.001515</td>\n",
       "      <td>0.001515</td>\n",
       "      <td>0.001515</td>\n",
       "      <td>0.001515</td>\n",
       "    </tr>\n",
       "    <tr>\n",
       "      <th>Messung_16</th>\n",
       "      <td>0.001515</td>\n",
       "      <td>0.001515</td>\n",
       "      <td>0.001515</td>\n",
       "      <td>0.001515</td>\n",
       "      <td>0.001515</td>\n",
       "      <td>0.001515</td>\n",
       "      <td>0.001515</td>\n",
       "      <td>0.001515</td>\n",
       "      <td>0.000000</td>\n",
       "      <td>0.001515</td>\n",
       "      <td>...</td>\n",
       "      <td>0.001515</td>\n",
       "      <td>0.001515</td>\n",
       "      <td>0.001515</td>\n",
       "      <td>0.001515</td>\n",
       "      <td>0.001515</td>\n",
       "      <td>0.001515</td>\n",
       "      <td>0.001515</td>\n",
       "      <td>0.001515</td>\n",
       "      <td>0.001515</td>\n",
       "      <td>0.001515</td>\n",
       "    </tr>\n",
       "    <tr>\n",
       "      <th>Messung_17</th>\n",
       "      <td>0.001515</td>\n",
       "      <td>0.001515</td>\n",
       "      <td>0.001515</td>\n",
       "      <td>0.001515</td>\n",
       "      <td>0.001515</td>\n",
       "      <td>0.001515</td>\n",
       "      <td>0.001515</td>\n",
       "      <td>0.001515</td>\n",
       "      <td>0.001515</td>\n",
       "      <td>0.000000</td>\n",
       "      <td>...</td>\n",
       "      <td>0.001515</td>\n",
       "      <td>0.001515</td>\n",
       "      <td>0.001515</td>\n",
       "      <td>0.001515</td>\n",
       "      <td>0.001515</td>\n",
       "      <td>0.001515</td>\n",
       "      <td>0.000000</td>\n",
       "      <td>0.001515</td>\n",
       "      <td>0.001515</td>\n",
       "      <td>0.001515</td>\n",
       "    </tr>\n",
       "    <tr>\n",
       "      <th>Messung_18</th>\n",
       "      <td>0.001515</td>\n",
       "      <td>0.001515</td>\n",
       "      <td>0.001515</td>\n",
       "      <td>0.001515</td>\n",
       "      <td>0.001515</td>\n",
       "      <td>0.001515</td>\n",
       "      <td>0.000000</td>\n",
       "      <td>0.000000</td>\n",
       "      <td>0.001515</td>\n",
       "      <td>0.001515</td>\n",
       "      <td>...</td>\n",
       "      <td>0.001515</td>\n",
       "      <td>0.001515</td>\n",
       "      <td>0.001515</td>\n",
       "      <td>0.001515</td>\n",
       "      <td>0.001515</td>\n",
       "      <td>0.001515</td>\n",
       "      <td>0.001515</td>\n",
       "      <td>0.001515</td>\n",
       "      <td>0.001515</td>\n",
       "      <td>0.001515</td>\n",
       "    </tr>\n",
       "    <tr>\n",
       "      <th>Messung_19</th>\n",
       "      <td>0.001515</td>\n",
       "      <td>0.001515</td>\n",
       "      <td>0.001515</td>\n",
       "      <td>0.001515</td>\n",
       "      <td>0.001515</td>\n",
       "      <td>0.001515</td>\n",
       "      <td>0.001515</td>\n",
       "      <td>0.001515</td>\n",
       "      <td>0.001515</td>\n",
       "      <td>0.001515</td>\n",
       "      <td>...</td>\n",
       "      <td>0.001515</td>\n",
       "      <td>0.001515</td>\n",
       "      <td>0.001515</td>\n",
       "      <td>0.001515</td>\n",
       "      <td>0.001515</td>\n",
       "      <td>0.000000</td>\n",
       "      <td>0.001515</td>\n",
       "      <td>0.001515</td>\n",
       "      <td>0.001515</td>\n",
       "      <td>0.001515</td>\n",
       "    </tr>\n",
       "    <tr>\n",
       "      <th>Messung_2</th>\n",
       "      <td>0.001515</td>\n",
       "      <td>0.001515</td>\n",
       "      <td>0.001515</td>\n",
       "      <td>0.001515</td>\n",
       "      <td>0.001515</td>\n",
       "      <td>0.001515</td>\n",
       "      <td>0.001515</td>\n",
       "      <td>0.001515</td>\n",
       "      <td>0.000000</td>\n",
       "      <td>0.001515</td>\n",
       "      <td>...</td>\n",
       "      <td>0.001515</td>\n",
       "      <td>0.001515</td>\n",
       "      <td>0.001515</td>\n",
       "      <td>0.001515</td>\n",
       "      <td>0.001515</td>\n",
       "      <td>0.001515</td>\n",
       "      <td>0.001515</td>\n",
       "      <td>0.001515</td>\n",
       "      <td>0.001515</td>\n",
       "      <td>0.001515</td>\n",
       "    </tr>\n",
       "    <tr>\n",
       "      <th>Messung_20</th>\n",
       "      <td>0.001515</td>\n",
       "      <td>0.001515</td>\n",
       "      <td>0.001515</td>\n",
       "      <td>0.001515</td>\n",
       "      <td>0.001515</td>\n",
       "      <td>0.001515</td>\n",
       "      <td>0.001515</td>\n",
       "      <td>0.001515</td>\n",
       "      <td>0.001515</td>\n",
       "      <td>0.001515</td>\n",
       "      <td>...</td>\n",
       "      <td>0.001515</td>\n",
       "      <td>0.001515</td>\n",
       "      <td>0.001515</td>\n",
       "      <td>0.001515</td>\n",
       "      <td>0.001515</td>\n",
       "      <td>0.001515</td>\n",
       "      <td>0.001515</td>\n",
       "      <td>0.001515</td>\n",
       "      <td>0.001515</td>\n",
       "      <td>0.001515</td>\n",
       "    </tr>\n",
       "    <tr>\n",
       "      <th>Messung_21</th>\n",
       "      <td>0.001515</td>\n",
       "      <td>0.001515</td>\n",
       "      <td>0.001515</td>\n",
       "      <td>0.001515</td>\n",
       "      <td>0.001515</td>\n",
       "      <td>0.001515</td>\n",
       "      <td>0.001515</td>\n",
       "      <td>0.001515</td>\n",
       "      <td>0.001515</td>\n",
       "      <td>0.001515</td>\n",
       "      <td>...</td>\n",
       "      <td>0.001515</td>\n",
       "      <td>0.001515</td>\n",
       "      <td>0.000000</td>\n",
       "      <td>0.001515</td>\n",
       "      <td>0.001515</td>\n",
       "      <td>0.001515</td>\n",
       "      <td>0.001515</td>\n",
       "      <td>0.001515</td>\n",
       "      <td>0.001515</td>\n",
       "      <td>0.001515</td>\n",
       "    </tr>\n",
       "    <tr>\n",
       "      <th>Messung_22</th>\n",
       "      <td>0.001515</td>\n",
       "      <td>0.001515</td>\n",
       "      <td>0.001515</td>\n",
       "      <td>0.001515</td>\n",
       "      <td>0.001515</td>\n",
       "      <td>0.001515</td>\n",
       "      <td>0.001515</td>\n",
       "      <td>0.001515</td>\n",
       "      <td>0.001515</td>\n",
       "      <td>0.001515</td>\n",
       "      <td>...</td>\n",
       "      <td>0.001515</td>\n",
       "      <td>0.001515</td>\n",
       "      <td>0.001515</td>\n",
       "      <td>0.001515</td>\n",
       "      <td>0.001515</td>\n",
       "      <td>0.000000</td>\n",
       "      <td>0.001515</td>\n",
       "      <td>0.001515</td>\n",
       "      <td>0.001515</td>\n",
       "      <td>0.001515</td>\n",
       "    </tr>\n",
       "    <tr>\n",
       "      <th>Messung_23</th>\n",
       "      <td>0.001515</td>\n",
       "      <td>0.001515</td>\n",
       "      <td>0.001515</td>\n",
       "      <td>0.001515</td>\n",
       "      <td>0.001515</td>\n",
       "      <td>0.001515</td>\n",
       "      <td>0.001515</td>\n",
       "      <td>0.001515</td>\n",
       "      <td>0.001515</td>\n",
       "      <td>0.001515</td>\n",
       "      <td>...</td>\n",
       "      <td>0.001515</td>\n",
       "      <td>0.001515</td>\n",
       "      <td>0.001515</td>\n",
       "      <td>0.001515</td>\n",
       "      <td>0.001515</td>\n",
       "      <td>0.000000</td>\n",
       "      <td>0.001515</td>\n",
       "      <td>0.001515</td>\n",
       "      <td>0.001515</td>\n",
       "      <td>0.001515</td>\n",
       "    </tr>\n",
       "    <tr>\n",
       "      <th>Messung_24</th>\n",
       "      <td>0.001515</td>\n",
       "      <td>0.001515</td>\n",
       "      <td>0.001515</td>\n",
       "      <td>0.001515</td>\n",
       "      <td>0.000000</td>\n",
       "      <td>0.001515</td>\n",
       "      <td>0.001515</td>\n",
       "      <td>0.001515</td>\n",
       "      <td>0.001515</td>\n",
       "      <td>0.001515</td>\n",
       "      <td>...</td>\n",
       "      <td>0.000000</td>\n",
       "      <td>0.000000</td>\n",
       "      <td>0.001515</td>\n",
       "      <td>0.000000</td>\n",
       "      <td>0.001515</td>\n",
       "      <td>0.001515</td>\n",
       "      <td>0.001515</td>\n",
       "      <td>0.001515</td>\n",
       "      <td>0.001515</td>\n",
       "      <td>0.001515</td>\n",
       "    </tr>\n",
       "    <tr>\n",
       "      <th>Messung_25</th>\n",
       "      <td>0.001515</td>\n",
       "      <td>0.001515</td>\n",
       "      <td>0.001515</td>\n",
       "      <td>0.001515</td>\n",
       "      <td>0.000000</td>\n",
       "      <td>0.001515</td>\n",
       "      <td>0.001515</td>\n",
       "      <td>0.001515</td>\n",
       "      <td>0.001515</td>\n",
       "      <td>0.001515</td>\n",
       "      <td>...</td>\n",
       "      <td>0.000000</td>\n",
       "      <td>0.000000</td>\n",
       "      <td>0.001515</td>\n",
       "      <td>0.000000</td>\n",
       "      <td>0.001515</td>\n",
       "      <td>0.001515</td>\n",
       "      <td>0.001515</td>\n",
       "      <td>0.001515</td>\n",
       "      <td>0.001515</td>\n",
       "      <td>0.001515</td>\n",
       "    </tr>\n",
       "    <tr>\n",
       "      <th>Messung_26</th>\n",
       "      <td>0.001515</td>\n",
       "      <td>0.001515</td>\n",
       "      <td>0.001515</td>\n",
       "      <td>0.001515</td>\n",
       "      <td>0.001515</td>\n",
       "      <td>0.001515</td>\n",
       "      <td>0.001515</td>\n",
       "      <td>0.001515</td>\n",
       "      <td>0.001515</td>\n",
       "      <td>0.001515</td>\n",
       "      <td>...</td>\n",
       "      <td>0.001515</td>\n",
       "      <td>0.001515</td>\n",
       "      <td>0.000000</td>\n",
       "      <td>0.001515</td>\n",
       "      <td>0.001515</td>\n",
       "      <td>0.001515</td>\n",
       "      <td>0.001515</td>\n",
       "      <td>0.001515</td>\n",
       "      <td>0.001515</td>\n",
       "      <td>0.001515</td>\n",
       "    </tr>\n",
       "    <tr>\n",
       "      <th>Messung_3</th>\n",
       "      <td>0.001515</td>\n",
       "      <td>0.001515</td>\n",
       "      <td>0.001515</td>\n",
       "      <td>0.001515</td>\n",
       "      <td>0.000000</td>\n",
       "      <td>0.001515</td>\n",
       "      <td>0.001515</td>\n",
       "      <td>0.001515</td>\n",
       "      <td>0.001515</td>\n",
       "      <td>0.001515</td>\n",
       "      <td>...</td>\n",
       "      <td>0.000000</td>\n",
       "      <td>0.000000</td>\n",
       "      <td>0.001515</td>\n",
       "      <td>0.000000</td>\n",
       "      <td>0.001515</td>\n",
       "      <td>0.001515</td>\n",
       "      <td>0.001515</td>\n",
       "      <td>0.001515</td>\n",
       "      <td>0.001515</td>\n",
       "      <td>0.001515</td>\n",
       "    </tr>\n",
       "    <tr>\n",
       "      <th>Messung_4</th>\n",
       "      <td>0.001515</td>\n",
       "      <td>0.001515</td>\n",
       "      <td>0.001515</td>\n",
       "      <td>0.001515</td>\n",
       "      <td>0.001515</td>\n",
       "      <td>0.001515</td>\n",
       "      <td>0.001515</td>\n",
       "      <td>0.001515</td>\n",
       "      <td>0.001515</td>\n",
       "      <td>0.001515</td>\n",
       "      <td>...</td>\n",
       "      <td>0.001515</td>\n",
       "      <td>0.001515</td>\n",
       "      <td>0.001515</td>\n",
       "      <td>0.001515</td>\n",
       "      <td>0.000000</td>\n",
       "      <td>0.001515</td>\n",
       "      <td>0.001515</td>\n",
       "      <td>0.001515</td>\n",
       "      <td>0.001515</td>\n",
       "      <td>0.001515</td>\n",
       "    </tr>\n",
       "    <tr>\n",
       "      <th>Messung_5</th>\n",
       "      <td>0.001515</td>\n",
       "      <td>0.001515</td>\n",
       "      <td>0.001515</td>\n",
       "      <td>0.001515</td>\n",
       "      <td>0.001515</td>\n",
       "      <td>0.001515</td>\n",
       "      <td>0.001515</td>\n",
       "      <td>0.001515</td>\n",
       "      <td>0.001515</td>\n",
       "      <td>0.001515</td>\n",
       "      <td>...</td>\n",
       "      <td>0.001515</td>\n",
       "      <td>0.001515</td>\n",
       "      <td>0.001515</td>\n",
       "      <td>0.001515</td>\n",
       "      <td>0.001515</td>\n",
       "      <td>0.000000</td>\n",
       "      <td>0.001515</td>\n",
       "      <td>0.001515</td>\n",
       "      <td>0.001515</td>\n",
       "      <td>0.001515</td>\n",
       "    </tr>\n",
       "    <tr>\n",
       "      <th>Messung_6</th>\n",
       "      <td>0.001515</td>\n",
       "      <td>0.001515</td>\n",
       "      <td>0.001515</td>\n",
       "      <td>0.001515</td>\n",
       "      <td>0.001515</td>\n",
       "      <td>0.001515</td>\n",
       "      <td>0.001515</td>\n",
       "      <td>0.001515</td>\n",
       "      <td>0.001515</td>\n",
       "      <td>0.000000</td>\n",
       "      <td>...</td>\n",
       "      <td>0.001515</td>\n",
       "      <td>0.001515</td>\n",
       "      <td>0.001515</td>\n",
       "      <td>0.001515</td>\n",
       "      <td>0.001515</td>\n",
       "      <td>0.001515</td>\n",
       "      <td>0.000000</td>\n",
       "      <td>0.001515</td>\n",
       "      <td>0.001515</td>\n",
       "      <td>0.001515</td>\n",
       "    </tr>\n",
       "    <tr>\n",
       "      <th>Messung_7</th>\n",
       "      <td>0.001515</td>\n",
       "      <td>0.001515</td>\n",
       "      <td>0.001515</td>\n",
       "      <td>0.001515</td>\n",
       "      <td>0.001515</td>\n",
       "      <td>0.001515</td>\n",
       "      <td>0.001515</td>\n",
       "      <td>0.001515</td>\n",
       "      <td>0.001515</td>\n",
       "      <td>0.001515</td>\n",
       "      <td>...</td>\n",
       "      <td>0.001515</td>\n",
       "      <td>0.001515</td>\n",
       "      <td>0.001515</td>\n",
       "      <td>0.001515</td>\n",
       "      <td>0.001515</td>\n",
       "      <td>0.001515</td>\n",
       "      <td>0.001515</td>\n",
       "      <td>0.000000</td>\n",
       "      <td>0.000000</td>\n",
       "      <td>0.001515</td>\n",
       "    </tr>\n",
       "    <tr>\n",
       "      <th>Messung_8</th>\n",
       "      <td>0.001515</td>\n",
       "      <td>0.001515</td>\n",
       "      <td>0.001515</td>\n",
       "      <td>0.001515</td>\n",
       "      <td>0.001515</td>\n",
       "      <td>0.001515</td>\n",
       "      <td>0.001515</td>\n",
       "      <td>0.001515</td>\n",
       "      <td>0.001515</td>\n",
       "      <td>0.001515</td>\n",
       "      <td>...</td>\n",
       "      <td>0.001515</td>\n",
       "      <td>0.001515</td>\n",
       "      <td>0.001515</td>\n",
       "      <td>0.001515</td>\n",
       "      <td>0.001515</td>\n",
       "      <td>0.001515</td>\n",
       "      <td>0.001515</td>\n",
       "      <td>0.000000</td>\n",
       "      <td>0.000000</td>\n",
       "      <td>0.001515</td>\n",
       "    </tr>\n",
       "    <tr>\n",
       "      <th>Messung_9</th>\n",
       "      <td>0.001515</td>\n",
       "      <td>0.000000</td>\n",
       "      <td>0.001515</td>\n",
       "      <td>0.001515</td>\n",
       "      <td>0.001515</td>\n",
       "      <td>0.001515</td>\n",
       "      <td>0.001515</td>\n",
       "      <td>0.001515</td>\n",
       "      <td>0.001515</td>\n",
       "      <td>0.001515</td>\n",
       "      <td>...</td>\n",
       "      <td>0.001515</td>\n",
       "      <td>0.001515</td>\n",
       "      <td>0.001515</td>\n",
       "      <td>0.001515</td>\n",
       "      <td>0.001515</td>\n",
       "      <td>0.001515</td>\n",
       "      <td>0.001515</td>\n",
       "      <td>0.001515</td>\n",
       "      <td>0.001515</td>\n",
       "      <td>0.000000</td>\n",
       "    </tr>\n",
       "  </tbody>\n",
       "</table>\n",
       "<p>27 rows × 27 columns</p>\n",
       "</div>"
      ],
      "text/plain": [
       "Messung     Messung_0  Messung_1  Messung_10  Messung_11  Messung_12  \\\n",
       "Messung                                                                \n",
       "Messung_0    0.000000   0.001515    0.001515    0.001515    0.001515   \n",
       "Messung_1    0.001515   0.000000    0.001515    0.001515    0.001515   \n",
       "Messung_10   0.001515   0.001515    0.000000    0.000000    0.001515   \n",
       "Messung_11   0.001515   0.001515    0.000000    0.000000    0.001515   \n",
       "Messung_12   0.001515   0.001515    0.001515    0.001515    0.000000   \n",
       "Messung_13   0.001515   0.001515    0.001515    0.001515    0.001515   \n",
       "Messung_14   0.001515   0.001515    0.001515    0.001515    0.001515   \n",
       "Messung_15   0.001515   0.001515    0.001515    0.001515    0.001515   \n",
       "Messung_16   0.001515   0.001515    0.001515    0.001515    0.001515   \n",
       "Messung_17   0.001515   0.001515    0.001515    0.001515    0.001515   \n",
       "Messung_18   0.001515   0.001515    0.001515    0.001515    0.001515   \n",
       "Messung_19   0.001515   0.001515    0.001515    0.001515    0.001515   \n",
       "Messung_2    0.001515   0.001515    0.001515    0.001515    0.001515   \n",
       "Messung_20   0.001515   0.001515    0.001515    0.001515    0.001515   \n",
       "Messung_21   0.001515   0.001515    0.001515    0.001515    0.001515   \n",
       "Messung_22   0.001515   0.001515    0.001515    0.001515    0.001515   \n",
       "Messung_23   0.001515   0.001515    0.001515    0.001515    0.001515   \n",
       "Messung_24   0.001515   0.001515    0.001515    0.001515    0.000000   \n",
       "Messung_25   0.001515   0.001515    0.001515    0.001515    0.000000   \n",
       "Messung_26   0.001515   0.001515    0.001515    0.001515    0.001515   \n",
       "Messung_3    0.001515   0.001515    0.001515    0.001515    0.000000   \n",
       "Messung_4    0.001515   0.001515    0.001515    0.001515    0.001515   \n",
       "Messung_5    0.001515   0.001515    0.001515    0.001515    0.001515   \n",
       "Messung_6    0.001515   0.001515    0.001515    0.001515    0.001515   \n",
       "Messung_7    0.001515   0.001515    0.001515    0.001515    0.001515   \n",
       "Messung_8    0.001515   0.001515    0.001515    0.001515    0.001515   \n",
       "Messung_9    0.001515   0.000000    0.001515    0.001515    0.001515   \n",
       "\n",
       "Messung     Messung_13  Messung_14  Messung_15  Messung_16  Messung_17  ...  \\\n",
       "Messung                                                                 ...   \n",
       "Messung_0     0.001515    0.001515    0.001515    0.001515    0.001515  ...   \n",
       "Messung_1     0.001515    0.001515    0.001515    0.001515    0.001515  ...   \n",
       "Messung_10    0.001515    0.001515    0.001515    0.001515    0.001515  ...   \n",
       "Messung_11    0.001515    0.001515    0.001515    0.001515    0.001515  ...   \n",
       "Messung_12    0.001515    0.001515    0.001515    0.001515    0.001515  ...   \n",
       "Messung_13    0.000000    0.001515    0.001515    0.001515    0.001515  ...   \n",
       "Messung_14    0.001515    0.000000    0.000000    0.001515    0.001515  ...   \n",
       "Messung_15    0.001515    0.000000    0.000000    0.001515    0.001515  ...   \n",
       "Messung_16    0.001515    0.001515    0.001515    0.000000    0.001515  ...   \n",
       "Messung_17    0.001515    0.001515    0.001515    0.001515    0.000000  ...   \n",
       "Messung_18    0.001515    0.000000    0.000000    0.001515    0.001515  ...   \n",
       "Messung_19    0.001515    0.001515    0.001515    0.001515    0.001515  ...   \n",
       "Messung_2     0.001515    0.001515    0.001515    0.000000    0.001515  ...   \n",
       "Messung_20    0.001515    0.001515    0.001515    0.001515    0.001515  ...   \n",
       "Messung_21    0.001515    0.001515    0.001515    0.001515    0.001515  ...   \n",
       "Messung_22    0.001515    0.001515    0.001515    0.001515    0.001515  ...   \n",
       "Messung_23    0.001515    0.001515    0.001515    0.001515    0.001515  ...   \n",
       "Messung_24    0.001515    0.001515    0.001515    0.001515    0.001515  ...   \n",
       "Messung_25    0.001515    0.001515    0.001515    0.001515    0.001515  ...   \n",
       "Messung_26    0.001515    0.001515    0.001515    0.001515    0.001515  ...   \n",
       "Messung_3     0.001515    0.001515    0.001515    0.001515    0.001515  ...   \n",
       "Messung_4     0.001515    0.001515    0.001515    0.001515    0.001515  ...   \n",
       "Messung_5     0.001515    0.001515    0.001515    0.001515    0.001515  ...   \n",
       "Messung_6     0.001515    0.001515    0.001515    0.001515    0.000000  ...   \n",
       "Messung_7     0.001515    0.001515    0.001515    0.001515    0.001515  ...   \n",
       "Messung_8     0.001515    0.001515    0.001515    0.001515    0.001515  ...   \n",
       "Messung_9     0.001515    0.001515    0.001515    0.001515    0.001515  ...   \n",
       "\n",
       "Messung     Messung_24  Messung_25  Messung_26  Messung_3  Messung_4  \\\n",
       "Messung                                                                \n",
       "Messung_0     0.001515    0.001515    0.001515   0.001515   0.001515   \n",
       "Messung_1     0.001515    0.001515    0.001515   0.001515   0.001515   \n",
       "Messung_10    0.001515    0.001515    0.001515   0.001515   0.001515   \n",
       "Messung_11    0.001515    0.001515    0.001515   0.001515   0.001515   \n",
       "Messung_12    0.000000    0.000000    0.001515   0.000000   0.001515   \n",
       "Messung_13    0.001515    0.001515    0.001515   0.001515   0.001515   \n",
       "Messung_14    0.001515    0.001515    0.001515   0.001515   0.001515   \n",
       "Messung_15    0.001515    0.001515    0.001515   0.001515   0.001515   \n",
       "Messung_16    0.001515    0.001515    0.001515   0.001515   0.001515   \n",
       "Messung_17    0.001515    0.001515    0.001515   0.001515   0.001515   \n",
       "Messung_18    0.001515    0.001515    0.001515   0.001515   0.001515   \n",
       "Messung_19    0.001515    0.001515    0.001515   0.001515   0.001515   \n",
       "Messung_2     0.001515    0.001515    0.001515   0.001515   0.001515   \n",
       "Messung_20    0.001515    0.001515    0.001515   0.001515   0.001515   \n",
       "Messung_21    0.001515    0.001515    0.000000   0.001515   0.001515   \n",
       "Messung_22    0.001515    0.001515    0.001515   0.001515   0.001515   \n",
       "Messung_23    0.001515    0.001515    0.001515   0.001515   0.001515   \n",
       "Messung_24    0.000000    0.000000    0.001515   0.000000   0.001515   \n",
       "Messung_25    0.000000    0.000000    0.001515   0.000000   0.001515   \n",
       "Messung_26    0.001515    0.001515    0.000000   0.001515   0.001515   \n",
       "Messung_3     0.000000    0.000000    0.001515   0.000000   0.001515   \n",
       "Messung_4     0.001515    0.001515    0.001515   0.001515   0.000000   \n",
       "Messung_5     0.001515    0.001515    0.001515   0.001515   0.001515   \n",
       "Messung_6     0.001515    0.001515    0.001515   0.001515   0.001515   \n",
       "Messung_7     0.001515    0.001515    0.001515   0.001515   0.001515   \n",
       "Messung_8     0.001515    0.001515    0.001515   0.001515   0.001515   \n",
       "Messung_9     0.001515    0.001515    0.001515   0.001515   0.001515   \n",
       "\n",
       "Messung     Messung_5  Messung_6  Messung_7  Messung_8  Messung_9  \n",
       "Messung                                                            \n",
       "Messung_0    0.001515   0.001515   0.001515   0.001515   0.001515  \n",
       "Messung_1    0.001515   0.001515   0.001515   0.001515   0.000000  \n",
       "Messung_10   0.001515   0.001515   0.001515   0.001515   0.001515  \n",
       "Messung_11   0.001515   0.001515   0.001515   0.001515   0.001515  \n",
       "Messung_12   0.001515   0.001515   0.001515   0.001515   0.001515  \n",
       "Messung_13   0.001515   0.001515   0.001515   0.001515   0.001515  \n",
       "Messung_14   0.001515   0.001515   0.001515   0.001515   0.001515  \n",
       "Messung_15   0.001515   0.001515   0.001515   0.001515   0.001515  \n",
       "Messung_16   0.001515   0.001515   0.001515   0.001515   0.001515  \n",
       "Messung_17   0.001515   0.000000   0.001515   0.001515   0.001515  \n",
       "Messung_18   0.001515   0.001515   0.001515   0.001515   0.001515  \n",
       "Messung_19   0.000000   0.001515   0.001515   0.001515   0.001515  \n",
       "Messung_2    0.001515   0.001515   0.001515   0.001515   0.001515  \n",
       "Messung_20   0.001515   0.001515   0.001515   0.001515   0.001515  \n",
       "Messung_21   0.001515   0.001515   0.001515   0.001515   0.001515  \n",
       "Messung_22   0.000000   0.001515   0.001515   0.001515   0.001515  \n",
       "Messung_23   0.000000   0.001515   0.001515   0.001515   0.001515  \n",
       "Messung_24   0.001515   0.001515   0.001515   0.001515   0.001515  \n",
       "Messung_25   0.001515   0.001515   0.001515   0.001515   0.001515  \n",
       "Messung_26   0.001515   0.001515   0.001515   0.001515   0.001515  \n",
       "Messung_3    0.001515   0.001515   0.001515   0.001515   0.001515  \n",
       "Messung_4    0.001515   0.001515   0.001515   0.001515   0.001515  \n",
       "Messung_5    0.000000   0.001515   0.001515   0.001515   0.001515  \n",
       "Messung_6    0.001515   0.000000   0.001515   0.001515   0.001515  \n",
       "Messung_7    0.001515   0.001515   0.000000   0.000000   0.001515  \n",
       "Messung_8    0.001515   0.001515   0.000000   0.000000   0.001515  \n",
       "Messung_9    0.001515   0.001515   0.001515   0.001515   0.000000  \n",
       "\n",
       "[27 rows x 27 columns]"
      ]
     },
     "execution_count": 24,
     "metadata": {},
     "output_type": "execute_result"
    }
   ],
   "source": [
    "df_observable_distances"
   ]
  },
  {
   "cell_type": "code",
   "execution_count": 63,
   "metadata": {},
   "outputs": [],
   "source": [
    "class FeatureSelectionModel(Paremeterized_Model):\n",
    "    def __init__(self, df_explainable:pd.DataFrame, df_observable:pd.DataFrame, df_cluster:pd.DataFrame|torch.Tensor, num_virtual_features:int, index_name:str, num_samples:int=1, power:int=4, penalty=0., noise=1e-4, device='cpu', clip_value=0, dtype=torch.float64):\n",
    "        super().__init__(device, dtype)\n",
    "\n",
    "        self.df_explainable = df_explainable.copy()\n",
    "        self.df_explainable.sort_index(inplace=True)\n",
    "\n",
    "        self.df_observable = df_observable.copy()\n",
    "        self.df_observable.sort_values(index_name, inplace=True)\n",
    "        self.df_observable.reset_index(inplace=True, drop=True)\n",
    "\n",
    "        epsilon = 1e-20\n",
    "        self.tensor_explainable = torch.tensor(self.df_explainable.to_numpy(), dtype=self.dtype, device=self.device).clamp(min=epsilon, max = 1.-epsilon)\n",
    "        self.tensor_observable  = torch.tensor(self.df_observable.set_index(index_name).to_numpy(), dtype=self.dtype, device=self.device).clamp(min=epsilon, max = 1.-epsilon)\n",
    "        self.tensor_observable_distances = torch.tensor(df_observable_distances.to_numpy(), dtype=self.dtype, device=self.device)\n",
    "\n",
    "        if isinstance(df_cluster, pd.DataFrame):\n",
    "            self.cluster_positions  = torch.tensor(df_cluster.to_numpy(), dtype=self.dtype, device=self.device).clamp(min=epsilon, max = 1.-epsilon)\n",
    "        else:\n",
    "            self.cluster_positions = df_cluster.to(self.dtype).to(self.device)\n",
    "        # For debug:\n",
    "        self.starting_pos = self.cluster_positions.clone().detach()\n",
    "\n",
    "        self.unique_groups = sorted(self.df_observable.loc[:, index_name].unique())\n",
    "        self.number_of_groups = len(self.unique_groups)\n",
    "        self.number_of_observations = self.df_observable.shape[0]\n",
    "        self.mask_tensor = torch.zeros((self.number_of_observations, self.number_of_groups), device=self.device, dtype=self.dtype)\n",
    "\n",
    "        for name, i in zip(self.unique_groups, np.arange(len(self.unique_groups))):\n",
    "            _masking_list = (list(self.df_observable.query(f'{index_name} == \"{name}\"').index))\n",
    "            self.mask_tensor[_masking_list, i] = 1.\n",
    "            if name == 'Individual_0':\n",
    "                self.masking_1 = _masking_list\n",
    "\n",
    "        # Some sanity check\n",
    "        for name, i in zip(self.unique_groups, np.arange(len(self.unique_groups))):\n",
    "            lis = (self.mask_tensor.unsqueeze(2) * self.tensor_observable.unsqueeze(1))[:, i, :].nonzero()[:, 0].unique().numpy()\n",
    "            a = self.df_observable.iloc[lis].loc[:, index_name]\n",
    "            assert (a == name).all(), f'Failed sanity check for \"{name}\": {a}'\n",
    "\n",
    "        self.power = power\n",
    "        self.base_tensor = torch.tensor([1e-6], dtype=self.dtype, device=self.device)\n",
    "        self.noise = torch.tensor(noise, dtype=self.dtype, device=self.device)\n",
    "\n",
    "        self.feature_names = list(self.df_explainable.columns)\n",
    "        self.num_features = len(self.feature_names)\n",
    "\n",
    "        self.observation_names = list(df_observable.set_index(index_name).columns)\n",
    "\n",
    "        self.penalty = torch.tensor(penalty, device=self.device, dtype=self.dtype)\n",
    "        self.num_samples = num_samples\n",
    "\n",
    "        ###\n",
    "        self.virtual_features = []\n",
    "        self.num_virtual_features = num_virtual_features\n",
    "        for v_i in range(self.num_virtual_features):\n",
    "\n",
    "            epsilon = 1e-4\n",
    "\n",
    "            init_param = torch.zeros([len(self.feature_names)]) + epsilon\n",
    "            a_weights  = torch.zeros([len(self.feature_names)]) + epsilon\n",
    "            ##a_weights[v_i] = 1. - epsilon\n",
    "            #a_weights[2] = 1. - epsilon\n",
    "            c_weights = torch.zeros([len(self.feature_names)]) + epsilon\n",
    "            \n",
    "            Q = 1.\n",
    "            self.add_param(f'antecedens_positions_{v_i}', init_param.logit() / Q , lambda x: (x * Q).sigmoid())\n",
    "            self.add_param(f'consequent_positions_{v_i}', init_param.logit() / Q,  lambda x: (x * Q).sigmoid())\n",
    "            self.add_param(f'antecedens_weights_{v_i}', a_weights.logit() / Q, lambda x: (x * Q).sigmoid())\n",
    "            self.add_param(f'consequent_weights_{v_i}', c_weights.logit() / Q, lambda x: (x * Q).sigmoid())\n",
    "\n",
    "            self.add_param(f'antecedens_threshold_{v_i}', init_param.logit(), lambda x: x.sigmoid())\n",
    "            self.add_param(f'consequent_threshold_{v_i}', init_param.logit(), lambda x: x.sigmoid())\n",
    "\n",
    "            self.virtual_features.append(v_i)\n",
    "        ###\n",
    "        \n",
    "        #self._add_sigmoid_param('feature_weights', N=len(self.feature_names) + self.num_virtual_features, value=0.500, noise=0.100)\n",
    "        self._add_sigmoid_param('feature_weights', N=len(self.feature_names), value=0.500, noise=0.100)\n",
    "        self._add_sigmoid_param('observation_weights', N=len(self.observation_names), value=0.500, noise=0.250)\n",
    "        self._add_sigmoid_param('implication_weights', N = self.num_virtual_features, value=0.500, noise=0.100)\n",
    "\n",
    "        self.add_param('cluster_positions', self.cluster_positions.logit(), lambda x: x.sigmoid())\n",
    "        self.add_param('temperature', torch.tensor(0.01).logit(), lambda x: x.sigmoid())\n",
    "        \n",
    "        self.best_loss = None \n",
    "        self.best_feature_weights = None\n",
    "        self.best_observation_weights = None\n",
    "\n",
    "        self.feature_names = np.array(self.feature_names)\n",
    "\n",
    "        self.U = lambda shape: Uniform(0, 1).sample(shape)\n",
    "        self.decisive = False\n",
    "\n",
    "        if clip_value > 0:\n",
    "            for p in self.parameters.parameters():\n",
    "                print(p)\n",
    "                p.register_hook(lambda grad: torch.clamp(grad, -clip_value, clip_value))\n",
    "\n",
    "        ###\n",
    "        observables = self.tensor_observable\n",
    "        cluster_positions = self.constrained('cluster_positions').clamp(min = 1e-10, max=1e10).clone().detach()\n",
    "        observation_weights = self.constrained('observation_weights').clone().detach()\n",
    "        observation_weights = torch.ones(observation_weights.shape, dtype=self.dtype, device=self.device)\n",
    "        base_tensor = self.base_tensor #self.constrained('temperature') + 1e-10 #self.base_tensor\n",
    "        self.sampled_fingerprints, fingerprint_variance = self.sample_fingerprints(\n",
    "            observation_weights=observation_weights,\n",
    "            cluster_positions=cluster_positions,\n",
    "            observables=observables,\n",
    "            base_tensor=base_tensor\n",
    "        )\n",
    "        ###\n",
    "\n",
    "    def try_interpretation(self, v_i, thresh):\n",
    "        if type(v_i) == int:\n",
    "            return self.interpretation(v_i, thresh)\n",
    "        else:\n",
    "            return v_i\n",
    "\n",
    "    def _add_param_from_mean_std(self, param_name='', N=1, mean=0.5, std=0.05, noise=0.1):\n",
    "        alpha, beta = mean_std_to_beta_params(mean, std)\n",
    "        noise_1 = torch.rand(N)\n",
    "        noise_2 = torch.rand(N)\n",
    "        feature_alpha_init = alpha * torch.ones(N) * (1.-noise) + noise_1 * noise\n",
    "        feature_beta_init  = beta  * torch.ones(N) * (1.-noise) + noise_2 * noise\n",
    "        self.add_param(f'{param_name}_alpha', torch.log(feature_alpha_init), lambda x: x.exp())\n",
    "        self.add_param(f'{param_name}_beta',  torch.log(feature_beta_init),  lambda x: x.exp())\n",
    "\n",
    "    def _add_sigmoid_param(self, param_name='', N=1, value=None, noise=0.1):\n",
    "        noise_1 = torch.rand(N)\n",
    "        noisy_value = value * torch.ones(N) * (1.-noise) + noise_1 * noise\n",
    "        init_value = torch.logit(noisy_value)\n",
    "        self.add_param(param_name, init_value, lambda x: x.sigmoid())\n",
    "\n",
    "    def get_weights(self) -> dict:\n",
    "        w = self.best_feature_weights\n",
    "        feature_dict = {\n",
    "            feature_name:float(weight) for feature_name, weight in zip(self.feature_names, w)\n",
    "        }\n",
    "        v = self.best_observation_weights\n",
    "        observation_dict = {\n",
    "            feature_name:float(weight) for feature_name, weight in zip(self.observation_names, v)\n",
    "        }\n",
    "        return feature_dict, observation_dict\n",
    "        \n",
    "    def save_if_best_loss(self, loss, feature_weights, observation_weights, cluster_positions):\n",
    "        if self.best_loss is None:\n",
    "            self.best_loss = loss.clone().detach()\n",
    "            self.best_feature_weights = feature_weights.clone().detach()\n",
    "            self.best_observation_weights = 1.00 + 1e-6 - observation_weights.clone().detach()\n",
    "            self.best_cluster_positions = cluster_positions.clone().detach()\n",
    "        elif loss < self.best_loss:\n",
    "            self.best_loss = loss.clone().detach()\n",
    "            self.best_feature_weights = feature_weights.clone().detach()\n",
    "            self.best_observation_weights = 1.00 + 1e-6 - observation_weights.clone().detach()\n",
    "            self.best_cluster_positions = cluster_positions.clone().detach()\n",
    "    \n",
    "    def plot(self, thresh=0.05):\n",
    "\n",
    "        feature_weights = self.constrained('feature_weights').clone().detach().unsqueeze(0).numpy()\n",
    "        observation_weights = self.constrained('observation_weights').clone().detach().unsqueeze(0).numpy()\n",
    "        inv_observation_weights = 1.00 + 1e-6 - observation_weights \n",
    "\n",
    "        f = {self.feature_names[i]:feature_weights[:, i] for i in range(len(self.feature_names))}\n",
    "        for v_i in self.virtual_features:\n",
    "            interpretation = self.interpretation(v_i, thresh=thresh)\n",
    "            feature_weight = feature_weights[:, v_i + len(self.feature_names)]\n",
    "            f[interpretation] = feature_weight\n",
    "\n",
    "        feature_weight_df = pd.DataFrame(f)\n",
    "        observation_weight_df = pd.DataFrame({self.observation_names[i]:inv_observation_weights[:, i] for i in range(len(self.observation_names))})\n",
    "\n",
    "        plt.figure(figsize=(10, 5))\n",
    "        ax1 = sns.barplot(feature_weight_df)\n",
    "        ax1.axes.xaxis.set_tick_params(rotation=90)\n",
    "        ax1.set_title('Feature Weights')\n",
    "        plt.figure(figsize=(10, 5))\n",
    "        ax2 = sns.barplot(observation_weight_df)\n",
    "        ax2.axes.xaxis.set_tick_params(rotation=90)\n",
    "        ax2.set_title('Observation Weights') \n",
    "\n",
    "    def sample_fingerprints(self, observation_weights, cluster_positions, observables, base_tensor):\n",
    "        epsilon = 1e-20\n",
    "        _dist = ((observables.unsqueeze(1) - cluster_positions.unsqueeze(0)).pow(2).clamp(min=epsilon) * observation_weights).sum(2).sqrt()\n",
    "        masked_dist = (self.mask_tensor.unsqueeze(2) * _dist.unsqueeze(1))\n",
    "        fingerprint_distances = masked_dist.sum(dim=0)\n",
    "        fingerprints= base_tensor.pow(fingerprint_distances)\n",
    "        fingerprints = fingerprints / fingerprints.sum(dim=1).unsqueeze(-1)\n",
    "        var = torch.var(_dist)\n",
    "        return fingerprints, var\n",
    "    \n",
    "    def __conditional(self, v_i):\n",
    "        antecedens_positions = self.constrained(f'antecedens_positions_{v_i}')\n",
    "        consequent_positions = self.constrained(f'consequent_positions_{v_i}')\n",
    "        antecedens_weights   = self.constrained(f'antecedens_weights_{v_i}')\n",
    "        consequent_weights   = self.constrained(f'consequent_weights_{v_i}')\n",
    "\n",
    "        antecedens = (self.tensor_explainable - antecedens_positions).abs().pow(antecedens_weights).prod(dim=1)\n",
    "        consequent = (self.tensor_explainable - consequent_positions).abs().pow(consequent_weights).prod(dim=1)\n",
    "\n",
    "        return antecedens, consequent\n",
    "    \n",
    "    def conditional(self, v_i):\n",
    "        M = 1.\n",
    "        epsilon = 1e-7\n",
    "\n",
    "        antecedens_positions = self.constrained(f'antecedens_positions_{v_i}')\n",
    "        consequent_positions = self.constrained(f'consequent_positions_{v_i}')\n",
    "        antecedens_weights   = self.constrained(f'antecedens_weights_{v_i}')\n",
    "        consequent_weights   = self.constrained(f'consequent_weights_{v_i}')\n",
    "        antecedens_threshold = self.constrained(f'antecedens_threshold_{v_i}')\n",
    "        consequent_threshold = self.constrained(f'consequent_threshold_{v_i}')\n",
    "\n",
    "        antecedens_dist = (self.tensor_explainable - antecedens_positions).abs()\n",
    "        antecedens_sigmoid = ((antecedens_dist - antecedens_threshold) * M).sigmoid().clamp(min=epsilon, max=1-epsilon)\n",
    "        antecedens = (antecedens_sigmoid * antecedens_dist).pow(antecedens_weights).prod(dim=1)\n",
    "        antecedens = (antecedens_dist).pow(antecedens_weights).prod(dim=1)\n",
    "\n",
    "        #consequent_dist = (self.tensor_explainable - consequent_positions).abs()\n",
    "        #consequent_sigmoid = ((consequent_dist - consequent_threshold) * M).sigmoid().clamp(min=epsilon, max=1-epsilon)\n",
    "        consequent = 0 #(consequent_sigmoid * consequent_dist).pow(consequent_weights).prod(dim=1)\n",
    "\n",
    "        # Greater the closter the antecedens is to 0 or 1.\n",
    "        # Close to 1. if all values are close to 0 or 1, close to 0. is all values are close to 0.5.\n",
    "        # This way, we want to encourage the model to avoid using values other than 0 or 1.\n",
    "        antecedens_decisivity = ((antecedens - 0.5).abs().mean()) #+ ((antecedens_weights - 0.5).abs().mean())\n",
    "        \n",
    "        implication_loss = -antecedens_decisivity\n",
    "\n",
    "        return antecedens, consequent, implication_loss\n",
    "    \n",
    "    def interpretation(self, v_i, thresh = 0.05):\n",
    "            antecedens_positions = self.constrained(f'antecedens_positions_{v_i}').clone().detach().numpy()\n",
    "            consequent_positions = self.constrained(f'consequent_positions_{v_i}').clone().detach().numpy()\n",
    "            antecedens_weights   =  self.constrained(f'antecedens_weights_{v_i}').clone().detach().numpy()\n",
    "            consequent_weights   = self.constrained(f'consequent_weights_{v_i}').clone().detach().numpy()\n",
    "            antecedens_threshold = self.constrained(f'antecedens_threshold_{v_i}').clone().detach().numpy()\n",
    "            consequent_threshold = self.constrained(f'consequent_threshold_{v_i}').clone().detach().numpy()\n",
    "\n",
    "            antecedens_weights = antecedens_weights/antecedens_weights.sum()\n",
    "            consequent_weights = consequent_weights/consequent_weights.sum()\n",
    "\n",
    "            antecedens_string = self.logic_string_helper(antecedens_weights, antecedens_positions, antecedens_threshold, thresh)\n",
    "            consequent_string = self.logic_string_helper(consequent_weights, consequent_positions, consequent_threshold, thresh)\n",
    "            interpretation_string = f'{antecedens_string} ⇒ {consequent_string}'\n",
    "\n",
    "            return interpretation_string\n",
    "    \n",
    "    def logic_string_helper(self, _weights, positions, thresholds, thresh):\n",
    "        _features_indices = (_weights > thresh).nonzero()[0]\n",
    "        if len(_features_indices) > 0:\n",
    "            _features = self.feature_names[_features_indices]\n",
    "            _position = positions[_features_indices]\n",
    "            _threshold = thresholds[_features_indices]\n",
    "            _string = ''\n",
    "            i = 0\n",
    "            for symbol, pos, thr in zip(_features, _position, _threshold):\n",
    "                if pos < 0.5:\n",
    "                    addendum1 = f''\n",
    "                    addendum2 = f' > {thr:.2f}'\n",
    "                else:\n",
    "                    addendum1 = f'(1-'\n",
    "                    addendum2 = f') < {thr:.2f}'\n",
    "                if i == len(_features) - 1:\n",
    "                    _string += f'[{addendum1}{symbol}{addendum2}]'\n",
    "                else:\n",
    "                    _string += f'[{addendum1}{symbol}{addendum2}] ∧ '\n",
    "                i += 1\n",
    "        else:\n",
    "            _string = 'Falsum'\n",
    "        return _string\n",
    "    \n",
    "    def ___logic_string_helper(self, _weights, positions, threshold, thresh):\n",
    "        _features_indices = (_weights > thresh).nonzero()[0]\n",
    "        if len(_features_indices) > 0:\n",
    "            _features = self.feature_names[_features_indices]\n",
    "            _position = positions[_features_indices]\n",
    "            _string = ''\n",
    "            i = 0\n",
    "            for symbol, pos in zip(_features, _position):\n",
    "                if pos < 0.5:\n",
    "                    addendum = 'Higher('\n",
    "                else:\n",
    "                    addendum = 'Lower('\n",
    "                if i == len(_features) - 1:\n",
    "                    _string += f'{addendum}{symbol})'\n",
    "                else:\n",
    "                    _string += f'{addendum}{symbol}) ∧ '\n",
    "                i += 1\n",
    "        else:\n",
    "            _string = 'Falsum'\n",
    "        return _string\n",
    "    \n",
    "    def get_coef(self) -> torch.Tensor:\n",
    "        return self.loss(None, get_coef=True)\n",
    "    \n",
    "    def add_noise(self, t, e):\n",
    "        return t+Uniform(-e, e).sample(t.shape).clamp(min=0., max=1.)\n",
    "\n",
    "    def loss(self, data:torch.Tensor|None=None, get_coef:bool=False) -> torch.tensor:\n",
    "\n",
    "        # auxiliary loss\n",
    "        auxiliary_loss = 0\n",
    " \n",
    "        # feature_weights\n",
    "        feature_weights = self.constrained('feature_weights')\n",
    "        #feature_weights = self.add_noise(feature_weights, 0.10)\n",
    "        if self.decisive:\n",
    "            feature_indecisivity = 2 * (0.5 - (feature_weights - 0.5).abs())\n",
    "            auxiliary_loss += feature_indecisivity.mean() * 0.01\n",
    "\n",
    "        # observation_weights\n",
    "        #observation_weights = self.constrained('observation_weights')\n",
    "\n",
    "        # cluster positions\n",
    "        #cluster_positions = self.constrained('cluster_positions').clamp(min = 1e-10, max=1e10)\n",
    "        #observation_weights = torch.ones(observation_weights.shape, dtype=self.dtype, device=self.device)\n",
    "\n",
    "        # Detaching\n",
    "        #observation_weights = torch.ones(observation_weights.shape, dtype=self.dtype, device=self.device)#observation_weights.clone().detach()\n",
    "        #cluster_positions = cluster_positions.clone().detach()\n",
    "        #cluster_positions = self.add_noise(cluster_positions, 0.10)\n",
    "\n",
    "        # fingerprints\n",
    "        '''observables = self.tensor_observable\n",
    "        base_tensor = self.base_tensor #self.constrained('temperature') + 1e-10 #self.base_tensor\n",
    "        sampled_fingerprints, fingerprint_variance = self.sample_fingerprints(\n",
    "            observation_weights=observation_weights,\n",
    "            cluster_positions=cluster_positions,\n",
    "            observables=observables,\n",
    "            base_tensor=base_tensor\n",
    "        )'''\n",
    "\n",
    "        sampled_fingerprints = self.sampled_fingerprints\n",
    "\n",
    "        # Auxiliary loss function\n",
    "        #auxiliary_loss += -fingerprint_variance\n",
    "\n",
    "        # Construct the distance matrix for the fingerprints\n",
    "        fingerprint_distances = torch_matrix_jensenshannon(sampled_fingerprints)\n",
    "        #fingerprint_distances = self.tensor_observable_distances\n",
    "\n",
    "        # Construct the distance matrix for the features\n",
    "        #feature_weights = (feature_weights / feature_weights.sum())\n",
    "        #feature_weights = feature_weights.repeat(self.tensor_explainable.shape[0], 1)\n",
    "        explainables = self.add_noise(\n",
    "            t = self.tensor_explainable.clone(),\n",
    "            e = self.noise\n",
    "        )\n",
    "        '''for v_i in range(self.num_virtual_features):\n",
    "            antecedens, consequent, implication_loss = self.conditional(v_i)\n",
    "            #feature_weights[:, self.num_features + v_i] *= antecedens\n",
    "            explainables = torch.hstack((explainables, consequent.unsqueeze(-1)))\n",
    "            auxiliary_loss += implication_loss'''\n",
    "                    \n",
    "        feature_distances = construct_distance_matrix(\n",
    "            A=explainables, feature_weights=feature_weights, normalize=False\n",
    "        )\n",
    "        # Calculate the correlation between the distance matrix and the observable distances\n",
    "        #antecedens, consequent, implication_loss = self.conditional(0)\n",
    "        #auxiliary_loss += implication_loss\n",
    "        #L = weighted_pearson_corrcoef(feature_distances, fingerprint_distances, antecedens)\n",
    "        #R = weighted_pearson_corrcoef(feature_distances, fingerprint_distances, 1-antecedens)\n",
    "        #coef = L #(L+R)/2\n",
    "        coef = pearson_corrcoef(feature_distances, fingerprint_distances)\n",
    "        #coef = pearson_corrcoef(feature_distances, self.tensor_observable_distances)\n",
    "        \n",
    "        if get_coef:\n",
    "            return coef.clone().detach()\n",
    "\n",
    "        normalized_feature_weights = (feature_weights / feature_weights.sum())\n",
    "        k_penalty = self.penalty * (1 - self.base_tensor.pow(normalized_feature_weights)).sum() #normalized_feature_weights.var() #(normalized_feature_weights.sum() * self.penalty)\n",
    "\n",
    "        # Loss\n",
    "        loss = -coef #+ auxiliary_loss + k_penalty\n",
    "\n",
    "        #self.save_if_best_loss(loss, feature_weights, observation_weights, cluster_positions)\n",
    "\n",
    "        return loss\n"
   ]
  },
  {
   "cell_type": "code",
   "execution_count": 64,
   "metadata": {},
   "outputs": [],
   "source": [
    "def uniform_list(von, bis, num):\n",
    "    lis = list(Uniform(von, bis).sample([num]))\n",
    "    return [float(li) for li in lis]"
   ]
  },
  {
   "cell_type": "code",
   "execution_count": 27,
   "metadata": {},
   "outputs": [],
   "source": [
    "if False:\n",
    "    N = 5\n",
    "    z_N = 3\n",
    "    z_age = [float(li) for li in (uniform_list(0.9/(z_N-1), 0.999/(z_N-1), z_N) * np.arange(z_N))]\n",
    "    _z_age = uniform_list(0.0001, 0.9999, N-z_N)\n",
    "    dummy_explainables = pd.DataFrame({\n",
    "        'Age': z_age + _z_age,\n",
    "        'Weight': Uniform(0, 1).sample([N]),\n",
    "        'Is_a_Zebra': uniform_list(0.9967, 0.9999, z_N) + uniform_list(0.0005, 0.0013, N-z_N),\n",
    "        'Loves_to_sleep': Uniform(0,1).sample([N]),\n",
    "        'Noise_1': Uniform(0,1).sample([N]),\n",
    "        'Noise_2': Uniform(0,1).sample([N]),\n",
    "        'Noise_3': Uniform(0,1).sample([N]),\n",
    "        'Noise_4': Uniform(0,1).sample([N]),\n",
    "        'Noise_5': Uniform(0,1).sample([N]),\n",
    "    }, index = [f'Individual_{i}' for i in range(N)])\n",
    "\n",
    "    dummy_explainables.head()"
   ]
  },
  {
   "cell_type": "code",
   "execution_count": 28,
   "metadata": {},
   "outputs": [],
   "source": [
    "if False:\n",
    "    K = 2\n",
    "    lis = []\n",
    "    for k in range(K):\n",
    "        lis = lis + [z+u for z,u in zip(z_age, uniform_list(0.0001, 0.0150, z_N))] + uniform_list(0.0001, 0.9999, N-z_N)\n",
    "\n",
    "    dummy_observables = pd.DataFrame({\n",
    "        'Individual': [f'Individual_{n}' for n in range(N)] * K,\n",
    "        'if_zebra_then_age': lis,\n",
    "        'unexplainable_1': Uniform(0,1).sample([N*K])\n",
    "    })\n",
    "\n",
    "    dummy_observables#.head()"
   ]
  },
  {
   "cell_type": "code",
   "execution_count": 29,
   "metadata": {},
   "outputs": [],
   "source": [
    "from gradient_solver import _construct_distance_matrix"
   ]
  },
  {
   "cell_type": "code",
   "execution_count": 30,
   "metadata": {},
   "outputs": [],
   "source": [
    "X = preparation_result['explainable_df'].copy().set_index(index_name).loc[:, explaining_features]\n",
    "_df_observable = observable_patterns_result['df_observable_data'].copy().set_index(index_name).loc[:, observed_features].reset_index()"
   ]
  },
  {
   "cell_type": "code",
   "execution_count": 31,
   "metadata": {},
   "outputs": [],
   "source": [
    "idx = X.index\n",
    "y = _df_observable.set_index(index_name).loc[idx, :].reset_index()\n",
    "X.reset_index(inplace=True)\n",
    "#y = y.loc[:, 'Aufgebläht'] #['Durchfall','Verstopfung', 'Bauchschmerzen']]"
   ]
  },
  {
   "cell_type": "code",
   "execution_count": 53,
   "metadata": {},
   "outputs": [],
   "source": [
    "from sklearn.preprocessing import StandardScaler\n",
    "\n",
    "scaler = StandardScaler()\n",
    "df_scaled = scaler.fit_transform(df_explainable.loc[:, explaining_features])\n",
    "XX = pd.DataFrame(df_scaled, columns=X.drop(columns=['Messung']).columns)\n",
    "XX.loc[:, 'Messung'] = X.loc[:, 'Messung']"
   ]
  },
  {
   "cell_type": "code",
   "execution_count": 54,
   "metadata": {},
   "outputs": [],
   "source": [
    "y.drop(columns=[index_name], inplace=True)\n",
    "X.drop(columns=[index_name], inplace=True)\n",
    "XX.drop(columns=[index_name], inplace=True)"
   ]
  },
  {
   "cell_type": "code",
   "execution_count": 55,
   "metadata": {},
   "outputs": [],
   "source": [
    "New_Index = [f'{index_name}_{i}' for i in range(y.shape[0])]\n",
    "X.loc[:, index_name] = New_Index\n",
    "y.loc[:, index_name] = New_Index\n",
    "\n",
    "XX.loc[:, index_name] = New_Index\n"
   ]
  },
  {
   "cell_type": "code",
   "execution_count": 46,
   "metadata": {},
   "outputs": [
    {
     "data": {
      "image/png": "[encoded data removed]",
      "text/plain": [
       "<Figure size 3000x1000 with 1 Axes>"
      ]
     },
     "metadata": {},
     "output_type": "display_data"
    }
   ],
   "source": [
    "import pandas as pd\n",
    "from sklearn.ensemble import RandomForestRegressor\n",
    "from sklearn.preprocessing import StandardScaler\n",
    "\n",
    "# Scale/normalize features (optional)\n",
    "scaler = StandardScaler()\n",
    "df_scaled = scaler.fit_transform(X.drop(columns=['Messung']))\n",
    "\n",
    "# Train a Random Forest classifier\n",
    "rf = RandomForestRegressor(n_estimators=300, random_state=np.random.randint(1, 1000))\n",
    "rf.fit(df_scaled, y.drop(columns=['Messung']))\n",
    "\n",
    "# Access feature importance\n",
    "importances = rf.feature_importances_\n",
    "\n",
    "# Visualize feature importance\n",
    "import matplotlib.pyplot as plt\n",
    "import seaborn as sns\n",
    "fig = plt.figure(figsize=(30, 10))\n",
    "ax = sns.barplot(pd.DataFrame({e: [i] for e,i in zip(explaining_features, importances)}))\n",
    "ax.xaxis.set_tick_params(rotation=90)\n",
    "plt.xlabel('Feature Index')\n",
    "plt.ylabel('Feature Importance')\n",
    "plt.show()"
   ]
  },
  {
   "cell_type": "code",
   "execution_count": 57,
   "metadata": {},
   "outputs": [
    {
     "data": {
      "image/png": "[encoded data removed]",
      "text/plain": [
       "<Figure size 3000x1000 with 1 Axes>"
      ]
     },
     "metadata": {},
     "output_type": "display_data"
    }
   ],
   "source": [
    "import pandas as pd\n",
    "from sklearn.ensemble import RandomForestRegressor\n",
    "from sklearn.preprocessing import StandardScaler\n",
    "\n",
    "# Scale/normalize features (optional)\n",
    "scaler = StandardScaler()\n",
    "\n",
    "# Train a Random Forest classifier\n",
    "rf = RandomForestRegressor(n_estimators=300, random_state=np.random.randint(1, 1000))\n",
    "rf.fit(XX.drop(columns=['Messung']), y.drop(columns=['Messung']))\n",
    "\n",
    "# Access feature importance\n",
    "importances = rf.feature_importances_\n",
    "\n",
    "# Visualize feature importance\n",
    "import matplotlib.pyplot as plt\n",
    "import seaborn as sns\n",
    "fig = plt.figure(figsize=(30, 10))\n",
    "ax = sns.barplot(pd.DataFrame({e: [i] for e,i in zip(explaining_features, importances)}))\n",
    "ax.xaxis.set_tick_params(rotation=90)\n",
    "plt.xlabel('Feature Index')\n",
    "plt.ylabel('Feature Importance')\n",
    "plt.show()"
   ]
  },
  {
   "cell_type": "code",
   "execution_count": 66,
   "metadata": {},
   "outputs": [],
   "source": [
    "model = FeatureSelectionModel(\n",
    "    X.set_index(index_name),\n",
    "    y,\n",
    "    observable_patterns_result['df_cluster_median'],\n",
    "    num_virtual_features=1,\n",
    "    power = 4.,\n",
    "    index_name = index_name,\n",
    "    num_samples = 10,\n",
    "    dtype = torch.float64,\n",
    "    device = 'cpu',\n",
    "    penalty=0.00,\n",
    "    noise = 1e-5\n",
    ")\n",
    "model.decisive = False"
   ]
  },
  {
   "cell_type": "code",
   "execution_count": 67,
   "metadata": {},
   "outputs": [
    {
     "name": "stdout",
     "output_type": "stream",
     "text": [
      "Loss before training: -0.010000925430635124\n",
      "Correlation before training: 0.010000933457773547\n",
      "\n",
      "1/10 --- Mean Loss : -0.07720685124017083\n",
      "2/10 --- Mean Loss : -0.0837678741519033\n",
      "3/10 --- Mean Loss : -0.08483927553705044\n",
      "4/10 --- Mean Loss : -0.08586573482833716\n",
      "5/10 --- Mean Loss : -0.08643150787508658\n",
      "6/10 --- Mean Loss : -0.08644366891957828\n",
      "7/10 --- Mean Loss : -0.08644822506651788\n",
      "8/10 --- Mean Loss : -0.08645060210574744\n",
      "9/10 --- Mean Loss : -0.08645200965569545\n",
      "10/10 --- Mean Loss : -0.08645278644940319\n",
      "\n",
      "Correlation after training: 0.08645202170436907\n"
     ]
    }
   ],
   "source": [
    "_clus_pos = model.constrained('cluster_positions').clamp(min = 1e-10, max=1e10).clone().detach().numpy().round(3)\n",
    "\n",
    "# Number of epochs\n",
    "EPOCHS = 10\n",
    "\n",
    "# After this many steps, the learning rate is halved\n",
    "HALFLIFE = int(EPOCHS / 3)\n",
    "\n",
    "'''optimizer = torch.optim.RMSprop(\n",
    "    params = [\n",
    "        {'params': model.parameters['feature_weights'], 'lr': 0.1, 'momentum': 0.50},\n",
    "        {'params': model.parameters['observation_weights'], 'lr': 0.1, 'momentum': 0.50},\n",
    "        {'params': model.parameters['cluster_positions'], 'lr': 0.1, 'momentum': 0.50},\n",
    "    ],\n",
    "\n",
    ")'''\n",
    "optimizer = torch.optim.RMSprop(lr=0.10, momentum=0.50, params=model.parameters.parameters())\n",
    "\n",
    "lr_halflife = lambda epochs: 0.5**(1/epochs)\n",
    "scheduler = torch.optim.lr_scheduler.LambdaLR(optimizer, lr_lambda = lambda epoch: lr_halflife(HALFLIFE)**epoch)\n",
    "trainer = Trainer(model = model, optimizer = optimizer, scheduler = scheduler, dataloader = range(100))\n",
    "print(f'Loss before training: {model.loss().clone().detach()}')\n",
    "print(f'Correlation before training: {model.get_coef()}')\n",
    "print('')\n",
    "trainer.train(epochs = EPOCHS, timeout=60000)\n",
    "print('')\n",
    "print(f'Correlation after training: {model.get_coef()}')\n",
    "if False:\n",
    "    print('')\n",
    "    model.decisive = True\n",
    "    trainer.train(epochs = 10, timeout=60000)\n",
    "    print('')\n",
    "    print(f'Correlation after training: {model.get_coef()}')"
   ]
  },
  {
   "cell_type": "code",
   "execution_count": 68,
   "metadata": {},
   "outputs": [
    {
     "data": {
      "text/plain": [
       "array([[0.653, 0.011, 0.427, 0.12 , 0.01 , 0.01 ],\n",
       "       [0.653, 0.448, 0.926, 0.122, 0.41 , 0.01 ],\n",
       "       [0.01 , 0.51 , 0.343, 0.123, 0.709, 0.01 ],\n",
       "       [0.009, 0.322, 0.677, 0.898, 0.21 , 0.198],\n",
       "       [0.224, 0.261, 0.344, 0.287, 0.409, 0.948],\n",
       "       [0.01 , 0.634, 0.593, 0.733, 0.709, 0.635],\n",
       "       [1.   , 0.758, 0.843, 0.676, 1.   , 0.633],\n",
       "       [0.009, 0.071, 0.261, 0.066, 0.311, 0.01 ],\n",
       "       [0.01 , 0.01 , 0.344, 0.009, 1.   , 0.51 ],\n",
       "       [0.009, 0.886, 0.343, 0.4  , 0.41 , 0.009],\n",
       "       [0.582, 0.259, 0.677, 0.231, 1.   , 0.01 ],\n",
       "       [0.583, 0.26 , 0.343, 0.231, 0.408, 0.009],\n",
       "       [0.582, 0.761, 0.677, 0.453, 0.208, 0.261]])"
      ]
     },
     "execution_count": 68,
     "metadata": {},
     "output_type": "execute_result"
    }
   ],
   "source": [
    "_clus_pos2 = model.constrained('cluster_positions').clamp(min = 1e-10, max=1e10).clone().detach().numpy().round(3)\n",
    "_clus_pos2"
   ]
  },
  {
   "cell_type": "code",
   "execution_count": 69,
   "metadata": {},
   "outputs": [
    {
     "data": {
      "image/png": "[encoded data removed]",
      "text/plain": [
       "<Figure size 3000x1000 with 1 Axes>"
      ]
     },
     "metadata": {},
     "output_type": "display_data"
    }
   ],
   "source": [
    "fig = plt.figure(figsize=(30, 10))\n",
    "ax = sns.barplot(pd.DataFrame({f:[u] for f,u in zip(explaining_features, model.constrained('feature_weights').clone().detach().numpy().round(3))}))\n",
    "ax.axes.xaxis.set_tick_params(rotation=90)"
   ]
  },
  {
   "cell_type": "code",
   "execution_count": 70,
   "metadata": {},
   "outputs": [
    {
     "data": {
      "text/plain": [
       "<Axes: >"
      ]
     },
     "execution_count": 70,
     "metadata": {},
     "output_type": "execute_result"
    },
    {
     "data": {
      "image/png": "[encoded data removed]",
      "text/plain": [
       "<Figure size 640x480 with 1 Axes>"
      ]
     },
     "metadata": {},
     "output_type": "display_data"
    }
   ],
   "source": [
    "sns.barplot(pd.DataFrame({\n",
    "    f:[i] for f,i in zip(observed_features, model.constrained('observation_weights').clone().detach().numpy().round(3))\n",
    "}))"
   ]
  },
  {
   "cell_type": "code",
   "execution_count": 45,
   "metadata": {},
   "outputs": [
    {
     "data": {
      "image/png": "[encoded data removed]",
      "text/plain": [
       "<Figure size 640x480 with 1 Axes>"
      ]
     },
     "metadata": {},
     "output_type": "display_data"
    }
   ],
   "source": [
    "df_obs = df_observable.set_index('Individual')\n",
    "df_exp = df_explainable.loc[df_obs.index]\n",
    "\n",
    "import pandas as pd\n",
    "from sklearn.ensemble import RandomForestRegressor\n",
    "from sklearn.preprocessing import StandardScaler\n",
    "\n",
    "# Scale/normalize features (optional)\n",
    "scaler = StandardScaler()\n",
    "df_scaled = scaler.fit_transform(df_exp)\n",
    "\n",
    "# Train a Random Forest classifier\n",
    "rf = RandomForestRegressor(n_estimators=100, random_state=np.random.randint(1, 1000))\n",
    "rf.fit(df_scaled, df_obs)\n",
    "\n",
    "# Access feature importance\n",
    "importances = rf.feature_importances_\n",
    "\n",
    "# Visualize feature importance\n",
    "import matplotlib.pyplot as plt\n",
    "ax = sns.barplot(pd.DataFrame({e: [i] for e,i in zip(explaining_features, importances)}))\n",
    "ax.xaxis.set_tick_params(rotation=90)\n",
    "plt.xlabel('Feature Index')\n",
    "plt.ylabel('Feature Importance')\n",
    "plt.show()"
   ]
  },
  {
   "cell_type": "code",
   "execution_count": 443,
   "metadata": {},
   "outputs": [
    {
     "data": {
      "text/plain": [
       "Ellipsis"
      ]
     },
     "execution_count": 443,
     "metadata": {},
     "output_type": "execute_result"
    }
   ],
   "source": [
    "..."
   ]
  }
 ],
 "metadata": {
  "kernelspec": {
   "display_name": "Python 3",
   "language": "python",
   "name": "python3"
  },
  "language_info": {
   "codemirror_mode": {
    "name": "ipython",
    "version": 3
   },
   "file_extension": ".py",
   "mimetype": "text/x-python",
   "name": "python",
   "nbconvert_exporter": "python",
   "pygments_lexer": "ipython3",
   "version": "3.12.3"
  }
 },
 "nbformat": 4,
 "nbformat_minor": 2
}
