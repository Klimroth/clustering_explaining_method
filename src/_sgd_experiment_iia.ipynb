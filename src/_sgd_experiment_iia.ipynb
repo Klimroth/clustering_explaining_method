{
 "cells": [
  {
   "cell_type": "code",
   "execution_count": 1,
   "metadata": {},
   "outputs": [],
   "source": [
    "from data_preparation import DataPreparator\n",
    "from apply_clustering import ClusteringApplier"
   ]
  },
  {
   "cell_type": "code",
   "execution_count": 2,
   "metadata": {},
   "outputs": [],
   "source": [
    "import os.path\n",
    "from itertools import chain, combinations\n",
    "from typing import Dict, List, Tuple, Iterable, Any\n",
    "\n",
    "import numpy as np\n",
    "import pandas as pd\n",
    "from gapstatistics.gapstatistics import GapStatistics\n",
    "from clustering import AgglomerativeClusteringWrapper as AgglomerativeClustering\n",
    "import matplotlib.pyplot as plt\n",
    "import scipy.cluster.hierarchy as sch\n",
    "from scipy.cluster.hierarchy import dendrogram, linkage\n",
    "from scipy.spatial.distance import squareform\n",
    "from scipy.spatial.distance import jensenshannon, correlation, euclidean\n",
    "from tqdm.contrib.concurrent import thread_map\n",
    "import seaborn as sns\n",
    "\n",
    "import config"
   ]
  },
  {
   "cell_type": "code",
   "execution_count": 3,
   "metadata": {},
   "outputs": [],
   "source": [
    "import torch\n",
    "from torch.distributions import kl_divergence\n",
    "from torch.distributions.beta import Beta\n",
    "from torch.distributions.dirichlet import Dirichlet\n",
    "from ParameterizedModel.parameterized_model import Paremeterized_Model\n",
    "from ParameterizedModel.utils.distribution_helpers import mean_std_to_beta_params\n",
    "\n",
    "from ParameterizedModel.training import Trainer"
   ]
  },
  {
   "cell_type": "code",
   "execution_count": 4,
   "metadata": {},
   "outputs": [],
   "source": [
    "from gradient_solver import construct_distance_matrix"
   ]
  },
  {
   "cell_type": "code",
   "execution_count": 5,
   "metadata": {},
   "outputs": [],
   "source": [
    "import timeit"
   ]
  },
  {
   "cell_type": "code",
   "execution_count": 6,
   "metadata": {},
   "outputs": [],
   "source": [
    "import torch\n",
    "from torch.utils.data import Dataset, DataLoader, TensorDataset"
   ]
  },
  {
   "cell_type": "code",
   "execution_count": 7,
   "metadata": {},
   "outputs": [],
   "source": [
    "from scipy.spatial.distance import correlation"
   ]
  },
  {
   "cell_type": "code",
   "execution_count": 8,
   "metadata": {},
   "outputs": [],
   "source": [
    "from gradient_solver import *"
   ]
  },
  {
   "cell_type": "code",
   "execution_count": 9,
   "metadata": {},
   "outputs": [
    {
     "data": {
      "text/plain": [
       "'df_explainable: pd.DataFrame = ClusteringApplier.read_explaining_features()\\ndf_observable_distances: pd.DataFrame = pd.read_excel(\\n    f\"{config.OUTPUT_FOLDER_BASE}observables/{config.DATASET_NAME}-distance-normalized-matrix-{config.DISTANCE_MEASURE_FINGERPRINT}-{config.NUMBER_OBSERVABLE_PATTERNS}.xlsx\",\\n    index_col=0\\n)\\nfeatures: List[str] = list(config.EXPLAINING_FEATURE_NAMES.keys())\\n\\n# Ensure that both datasets contain the same indices\\nvalid_indices = np.intersect1d(df_explainable.index, df_observable_distances.index)\\ndf_explainable = df_explainable.loc[valid_indices]\\ndf_observable_distances = df_observable_distances.loc[valid_indices]'"
      ]
     },
     "execution_count": 9,
     "metadata": {},
     "output_type": "execute_result"
    }
   ],
   "source": [
    "'''df_explainable: pd.DataFrame = ClusteringApplier.read_explaining_features()\n",
    "df_observable_distances: pd.DataFrame = pd.read_excel(\n",
    "    f\"{config.OUTPUT_FOLDER_BASE}observables/{config.DATASET_NAME}-distance-normalized-matrix-{config.DISTANCE_MEASURE_FINGERPRINT}-{config.NUMBER_OBSERVABLE_PATTERNS}.xlsx\",\n",
    "    index_col=0\n",
    ")\n",
    "features: List[str] = list(config.EXPLAINING_FEATURE_NAMES.keys())\n",
    "\n",
    "# Ensure that both datasets contain the same indices\n",
    "valid_indices = np.intersect1d(df_explainable.index, df_observable_distances.index)\n",
    "df_explainable = df_explainable.loc[valid_indices]\n",
    "df_observable_distances = df_observable_distances.loc[valid_indices]'''"
   ]
  },
  {
   "cell_type": "code",
   "execution_count": 10,
   "metadata": {},
   "outputs": [],
   "source": [
    "##################\n",
    "# Synthetic Data #\n",
    "##################\n",
    "individuals = 100\n",
    "base_size = 10000\n",
    "\n",
    "#observation_data = np.random.normal(loc=0, scale=1, size=(base_size, 6))\n",
    "'''explanation_data = np.random.uniform(0,1, size=(individuals, 11))\n",
    "df_explainable = pd.DataFrame(explanation_data)\n",
    "df_explainable.loc[:, 'Individual'] = [f'Individual_{i}' for i in df_explainable.index]\n",
    "df_explainable.set_index('Individual', inplace=True)'''\n",
    "\n",
    "df_explainable = pd.DataFrame({\n",
    "    'Age': np.random.choice([0., 0.5, 1.], individuals),\n",
    "    'Weight': np.random.uniform(0,1, size=individuals),\n",
    "    'Is_a_Zebra': np.random.choice([0., 1.], individuals),\n",
    "    'Loves_to_sleep': np.random.uniform(0,1, size=individuals),\n",
    "    'Noise_1': np.random.uniform(0,1, size=individuals),\n",
    "    'Noise_2': np.random.uniform(0,1, size=individuals),\n",
    "    'Noise_3': np.random.uniform(0,1, size=individuals),\n",
    "    'Noise_4': np.random.uniform(0,1, size=individuals),\n",
    "    'Noise_5': np.random.uniform(0,1, size=individuals),\n",
    "    'Individual': [f'Individual_{n}' for n in range(individuals)]\n",
    "})\n",
    "df_explainable.set_index('Individual', inplace=True)\n",
    "\n",
    "explaining_features = np.array(list(df_explainable.columns))\n",
    "individual_array = np.random.choice(df_explainable.index.unique(), size=base_size)\n",
    "\n",
    "df_observable = pd.DataFrame({\n",
    "    'Individual': individual_array,\n",
    "})\n",
    "df_observable.loc[:, 'unexplainable_1'] = np.random.uniform(0,1, size=base_size)\n",
    "df_observable.loc[:, 'unexplainable_2'] = np.random.uniform(0,1, size=base_size)\n",
    "df_observable.loc[:, 'unexplainable_3'] = np.random.uniform(0,1, size=base_size)\n",
    "df_observable.loc[:, 'unexplainable_4'] = np.random.normal(0,1, size=base_size)\n",
    "\n",
    "df_observable.loc[:, 'if_zebra_then_age'] = (df_explainable.loc[individual_array, 'Is_a_Zebra'].values > 0.5) * df_explainable.loc[individual_array, 'Age'].values + (df_explainable.loc[individual_array, 'Is_a_Zebra'].values <= 0.5) * np.random.uniform(0,1, size=base_size)\n",
    "df_observable.loc[:, 'explained_by_loves_to_sleep'] = df_explainable.loc[individual_array, 'Loves_to_sleep'].values #df_explainable.loc[individual_array, [1,2,3]].mean(axis=1).values #req_1 * df_explainable.loc[individual_array, 2].values + (1-req_1) * df_explainable.loc[individual_array, 3].values\n",
    "df_observable.loc[:, 'Age_plus_Weight'] = df_explainable.loc[individual_array, 'Age'].values + df_explainable.loc[individual_array, 'Weight'].values\n",
    "\n",
    "df_observable.set_index('Individual', inplace=True)\n",
    "observed_features = list(df_observable.columns)\n",
    "\n",
    "df_observable = df_observable.apply(lambda x: (x - x.min()) / (x.max() - x.min()), axis=0)\n",
    "df_explainable = df_explainable.apply(lambda x: (x - x.min()) / (x.max() - x.min()), axis=0)"
   ]
  },
  {
   "cell_type": "code",
   "execution_count": 11,
   "metadata": {},
   "outputs": [
    {
     "data": {
      "text/html": [
       "<div>\n",
       "<style scoped>\n",
       "    .dataframe tbody tr th:only-of-type {\n",
       "        vertical-align: middle;\n",
       "    }\n",
       "\n",
       "    .dataframe tbody tr th {\n",
       "        vertical-align: top;\n",
       "    }\n",
       "\n",
       "    .dataframe thead th {\n",
       "        text-align: right;\n",
       "    }\n",
       "</style>\n",
       "<table border=\"1\" class=\"dataframe\">\n",
       "  <thead>\n",
       "    <tr style=\"text-align: right;\">\n",
       "      <th></th>\n",
       "      <th>Age</th>\n",
       "      <th>Weight</th>\n",
       "      <th>Is_a_Zebra</th>\n",
       "      <th>Loves_to_sleep</th>\n",
       "      <th>Noise_1</th>\n",
       "      <th>Noise_2</th>\n",
       "      <th>Noise_3</th>\n",
       "      <th>Noise_4</th>\n",
       "      <th>Noise_5</th>\n",
       "    </tr>\n",
       "    <tr>\n",
       "      <th>Individual</th>\n",
       "      <th></th>\n",
       "      <th></th>\n",
       "      <th></th>\n",
       "      <th></th>\n",
       "      <th></th>\n",
       "      <th></th>\n",
       "      <th></th>\n",
       "      <th></th>\n",
       "      <th></th>\n",
       "    </tr>\n",
       "  </thead>\n",
       "  <tbody>\n",
       "    <tr>\n",
       "      <th>Individual_0</th>\n",
       "      <td>1.0</td>\n",
       "      <td>0.917460</td>\n",
       "      <td>0.0</td>\n",
       "      <td>0.163682</td>\n",
       "      <td>0.913696</td>\n",
       "      <td>0.360080</td>\n",
       "      <td>0.527909</td>\n",
       "      <td>0.399460</td>\n",
       "      <td>0.866140</td>\n",
       "    </tr>\n",
       "    <tr>\n",
       "      <th>Individual_1</th>\n",
       "      <td>1.0</td>\n",
       "      <td>0.311568</td>\n",
       "      <td>0.0</td>\n",
       "      <td>0.079287</td>\n",
       "      <td>0.525384</td>\n",
       "      <td>0.836613</td>\n",
       "      <td>0.522838</td>\n",
       "      <td>0.804305</td>\n",
       "      <td>0.341387</td>\n",
       "    </tr>\n",
       "    <tr>\n",
       "      <th>Individual_2</th>\n",
       "      <td>1.0</td>\n",
       "      <td>0.894556</td>\n",
       "      <td>0.0</td>\n",
       "      <td>0.851180</td>\n",
       "      <td>0.556454</td>\n",
       "      <td>0.008587</td>\n",
       "      <td>0.782924</td>\n",
       "      <td>0.627996</td>\n",
       "      <td>0.597820</td>\n",
       "    </tr>\n",
       "    <tr>\n",
       "      <th>Individual_3</th>\n",
       "      <td>0.0</td>\n",
       "      <td>0.059170</td>\n",
       "      <td>1.0</td>\n",
       "      <td>0.644736</td>\n",
       "      <td>0.722115</td>\n",
       "      <td>0.468270</td>\n",
       "      <td>0.783222</td>\n",
       "      <td>0.909401</td>\n",
       "      <td>0.969391</td>\n",
       "    </tr>\n",
       "    <tr>\n",
       "      <th>Individual_4</th>\n",
       "      <td>0.0</td>\n",
       "      <td>0.482666</td>\n",
       "      <td>0.0</td>\n",
       "      <td>0.921185</td>\n",
       "      <td>0.573130</td>\n",
       "      <td>0.671872</td>\n",
       "      <td>0.904567</td>\n",
       "      <td>0.858077</td>\n",
       "      <td>0.529314</td>\n",
       "    </tr>\n",
       "    <tr>\n",
       "      <th>...</th>\n",
       "      <td>...</td>\n",
       "      <td>...</td>\n",
       "      <td>...</td>\n",
       "      <td>...</td>\n",
       "      <td>...</td>\n",
       "      <td>...</td>\n",
       "      <td>...</td>\n",
       "      <td>...</td>\n",
       "      <td>...</td>\n",
       "    </tr>\n",
       "    <tr>\n",
       "      <th>Individual_95</th>\n",
       "      <td>0.0</td>\n",
       "      <td>0.798910</td>\n",
       "      <td>1.0</td>\n",
       "      <td>0.774921</td>\n",
       "      <td>0.420280</td>\n",
       "      <td>0.089496</td>\n",
       "      <td>0.959353</td>\n",
       "      <td>0.489822</td>\n",
       "      <td>0.991733</td>\n",
       "    </tr>\n",
       "    <tr>\n",
       "      <th>Individual_96</th>\n",
       "      <td>0.0</td>\n",
       "      <td>0.406351</td>\n",
       "      <td>1.0</td>\n",
       "      <td>0.687618</td>\n",
       "      <td>0.065645</td>\n",
       "      <td>0.416487</td>\n",
       "      <td>0.986966</td>\n",
       "      <td>0.403535</td>\n",
       "      <td>0.783822</td>\n",
       "    </tr>\n",
       "    <tr>\n",
       "      <th>Individual_97</th>\n",
       "      <td>1.0</td>\n",
       "      <td>0.345601</td>\n",
       "      <td>1.0</td>\n",
       "      <td>0.000363</td>\n",
       "      <td>0.329413</td>\n",
       "      <td>0.804126</td>\n",
       "      <td>0.831964</td>\n",
       "      <td>0.342994</td>\n",
       "      <td>0.712494</td>\n",
       "    </tr>\n",
       "    <tr>\n",
       "      <th>Individual_98</th>\n",
       "      <td>1.0</td>\n",
       "      <td>0.629081</td>\n",
       "      <td>1.0</td>\n",
       "      <td>0.929069</td>\n",
       "      <td>0.000000</td>\n",
       "      <td>0.696026</td>\n",
       "      <td>0.226708</td>\n",
       "      <td>0.989542</td>\n",
       "      <td>0.716241</td>\n",
       "    </tr>\n",
       "    <tr>\n",
       "      <th>Individual_99</th>\n",
       "      <td>1.0</td>\n",
       "      <td>0.371982</td>\n",
       "      <td>1.0</td>\n",
       "      <td>0.572226</td>\n",
       "      <td>0.122598</td>\n",
       "      <td>0.891070</td>\n",
       "      <td>0.757143</td>\n",
       "      <td>0.872185</td>\n",
       "      <td>0.386533</td>\n",
       "    </tr>\n",
       "  </tbody>\n",
       "</table>\n",
       "<p>100 rows × 9 columns</p>\n",
       "</div>"
      ],
      "text/plain": [
       "               Age    Weight  Is_a_Zebra  Loves_to_sleep   Noise_1   Noise_2  \\\n",
       "Individual                                                                     \n",
       "Individual_0   1.0  0.917460         0.0        0.163682  0.913696  0.360080   \n",
       "Individual_1   1.0  0.311568         0.0        0.079287  0.525384  0.836613   \n",
       "Individual_2   1.0  0.894556         0.0        0.851180  0.556454  0.008587   \n",
       "Individual_3   0.0  0.059170         1.0        0.644736  0.722115  0.468270   \n",
       "Individual_4   0.0  0.482666         0.0        0.921185  0.573130  0.671872   \n",
       "...            ...       ...         ...             ...       ...       ...   \n",
       "Individual_95  0.0  0.798910         1.0        0.774921  0.420280  0.089496   \n",
       "Individual_96  0.0  0.406351         1.0        0.687618  0.065645  0.416487   \n",
       "Individual_97  1.0  0.345601         1.0        0.000363  0.329413  0.804126   \n",
       "Individual_98  1.0  0.629081         1.0        0.929069  0.000000  0.696026   \n",
       "Individual_99  1.0  0.371982         1.0        0.572226  0.122598  0.891070   \n",
       "\n",
       "                Noise_3   Noise_4   Noise_5  \n",
       "Individual                                   \n",
       "Individual_0   0.527909  0.399460  0.866140  \n",
       "Individual_1   0.522838  0.804305  0.341387  \n",
       "Individual_2   0.782924  0.627996  0.597820  \n",
       "Individual_3   0.783222  0.909401  0.969391  \n",
       "Individual_4   0.904567  0.858077  0.529314  \n",
       "...                 ...       ...       ...  \n",
       "Individual_95  0.959353  0.489822  0.991733  \n",
       "Individual_96  0.986966  0.403535  0.783822  \n",
       "Individual_97  0.831964  0.342994  0.712494  \n",
       "Individual_98  0.226708  0.989542  0.716241  \n",
       "Individual_99  0.757143  0.872185  0.386533  \n",
       "\n",
       "[100 rows x 9 columns]"
      ]
     },
     "execution_count": 11,
     "metadata": {},
     "output_type": "execute_result"
    }
   ],
   "source": [
    "df_explainable"
   ]
  },
  {
   "cell_type": "code",
   "execution_count": 12,
   "metadata": {},
   "outputs": [
    {
     "data": {
      "text/html": [
       "<div>\n",
       "<style scoped>\n",
       "    .dataframe tbody tr th:only-of-type {\n",
       "        vertical-align: middle;\n",
       "    }\n",
       "\n",
       "    .dataframe tbody tr th {\n",
       "        vertical-align: top;\n",
       "    }\n",
       "\n",
       "    .dataframe thead th {\n",
       "        text-align: right;\n",
       "    }\n",
       "</style>\n",
       "<table border=\"1\" class=\"dataframe\">\n",
       "  <thead>\n",
       "    <tr style=\"text-align: right;\">\n",
       "      <th></th>\n",
       "      <th>unexplainable_1</th>\n",
       "      <th>unexplainable_2</th>\n",
       "      <th>unexplainable_3</th>\n",
       "      <th>unexplainable_4</th>\n",
       "      <th>if_zebra_then_age</th>\n",
       "      <th>explained_by_loves_to_sleep</th>\n",
       "      <th>Age_plus_Weight</th>\n",
       "    </tr>\n",
       "    <tr>\n",
       "      <th>Individual</th>\n",
       "      <th></th>\n",
       "      <th></th>\n",
       "      <th></th>\n",
       "      <th></th>\n",
       "      <th></th>\n",
       "      <th></th>\n",
       "      <th></th>\n",
       "    </tr>\n",
       "  </thead>\n",
       "  <tbody>\n",
       "    <tr>\n",
       "      <th>Individual_90</th>\n",
       "      <td>0.850673</td>\n",
       "      <td>0.038306</td>\n",
       "      <td>0.641815</td>\n",
       "      <td>0.643843</td>\n",
       "      <td>0.812202</td>\n",
       "      <td>0.911847</td>\n",
       "      <td>0.335508</td>\n",
       "    </tr>\n",
       "    <tr>\n",
       "      <th>Individual_4</th>\n",
       "      <td>0.510223</td>\n",
       "      <td>0.815278</td>\n",
       "      <td>0.881421</td>\n",
       "      <td>0.555620</td>\n",
       "      <td>0.680400</td>\n",
       "      <td>0.921185</td>\n",
       "      <td>0.225844</td>\n",
       "    </tr>\n",
       "    <tr>\n",
       "      <th>Individual_0</th>\n",
       "      <td>0.578553</td>\n",
       "      <td>0.614229</td>\n",
       "      <td>0.357806</td>\n",
       "      <td>0.415265</td>\n",
       "      <td>0.008529</td>\n",
       "      <td>0.163682</td>\n",
       "      <td>0.958137</td>\n",
       "    </tr>\n",
       "    <tr>\n",
       "      <th>Individual_71</th>\n",
       "      <td>0.968138</td>\n",
       "      <td>0.078522</td>\n",
       "      <td>0.567045</td>\n",
       "      <td>0.335072</td>\n",
       "      <td>0.892031</td>\n",
       "      <td>0.459996</td>\n",
       "      <td>0.238296</td>\n",
       "    </tr>\n",
       "    <tr>\n",
       "      <th>Individual_61</th>\n",
       "      <td>0.565232</td>\n",
       "      <td>0.119989</td>\n",
       "      <td>0.845901</td>\n",
       "      <td>0.430107</td>\n",
       "      <td>0.522961</td>\n",
       "      <td>0.669044</td>\n",
       "      <td>0.228929</td>\n",
       "    </tr>\n",
       "    <tr>\n",
       "      <th>...</th>\n",
       "      <td>...</td>\n",
       "      <td>...</td>\n",
       "      <td>...</td>\n",
       "      <td>...</td>\n",
       "      <td>...</td>\n",
       "      <td>...</td>\n",
       "      <td>...</td>\n",
       "    </tr>\n",
       "    <tr>\n",
       "      <th>Individual_10</th>\n",
       "      <td>0.602987</td>\n",
       "      <td>0.770800</td>\n",
       "      <td>0.128555</td>\n",
       "      <td>0.308857</td>\n",
       "      <td>0.000000</td>\n",
       "      <td>0.742632</td>\n",
       "      <td>0.213084</td>\n",
       "    </tr>\n",
       "    <tr>\n",
       "      <th>Individual_51</th>\n",
       "      <td>0.736829</td>\n",
       "      <td>0.980073</td>\n",
       "      <td>0.251243</td>\n",
       "      <td>0.541729</td>\n",
       "      <td>0.643006</td>\n",
       "      <td>0.939967</td>\n",
       "      <td>0.291460</td>\n",
       "    </tr>\n",
       "    <tr>\n",
       "      <th>Individual_5</th>\n",
       "      <td>0.403869</td>\n",
       "      <td>0.951986</td>\n",
       "      <td>0.491470</td>\n",
       "      <td>0.477184</td>\n",
       "      <td>0.500000</td>\n",
       "      <td>0.413600</td>\n",
       "      <td>0.258810</td>\n",
       "    </tr>\n",
       "    <tr>\n",
       "      <th>Individual_24</th>\n",
       "      <td>0.700964</td>\n",
       "      <td>0.805143</td>\n",
       "      <td>0.377138</td>\n",
       "      <td>0.219774</td>\n",
       "      <td>1.000000</td>\n",
       "      <td>0.171236</td>\n",
       "      <td>0.512753</td>\n",
       "    </tr>\n",
       "    <tr>\n",
       "      <th>Individual_43</th>\n",
       "      <td>0.936731</td>\n",
       "      <td>0.035010</td>\n",
       "      <td>0.928945</td>\n",
       "      <td>0.210235</td>\n",
       "      <td>0.529889</td>\n",
       "      <td>0.919367</td>\n",
       "      <td>0.553936</td>\n",
       "    </tr>\n",
       "  </tbody>\n",
       "</table>\n",
       "<p>10000 rows × 7 columns</p>\n",
       "</div>"
      ],
      "text/plain": [
       "               unexplainable_1  unexplainable_2  unexplainable_3  \\\n",
       "Individual                                                         \n",
       "Individual_90         0.850673         0.038306         0.641815   \n",
       "Individual_4          0.510223         0.815278         0.881421   \n",
       "Individual_0          0.578553         0.614229         0.357806   \n",
       "Individual_71         0.968138         0.078522         0.567045   \n",
       "Individual_61         0.565232         0.119989         0.845901   \n",
       "...                        ...              ...              ...   \n",
       "Individual_10         0.602987         0.770800         0.128555   \n",
       "Individual_51         0.736829         0.980073         0.251243   \n",
       "Individual_5          0.403869         0.951986         0.491470   \n",
       "Individual_24         0.700964         0.805143         0.377138   \n",
       "Individual_43         0.936731         0.035010         0.928945   \n",
       "\n",
       "               unexplainable_4  if_zebra_then_age  \\\n",
       "Individual                                          \n",
       "Individual_90         0.643843           0.812202   \n",
       "Individual_4          0.555620           0.680400   \n",
       "Individual_0          0.415265           0.008529   \n",
       "Individual_71         0.335072           0.892031   \n",
       "Individual_61         0.430107           0.522961   \n",
       "...                        ...                ...   \n",
       "Individual_10         0.308857           0.000000   \n",
       "Individual_51         0.541729           0.643006   \n",
       "Individual_5          0.477184           0.500000   \n",
       "Individual_24         0.219774           1.000000   \n",
       "Individual_43         0.210235           0.529889   \n",
       "\n",
       "               explained_by_loves_to_sleep  Age_plus_Weight  \n",
       "Individual                                                   \n",
       "Individual_90                     0.911847         0.335508  \n",
       "Individual_4                      0.921185         0.225844  \n",
       "Individual_0                      0.163682         0.958137  \n",
       "Individual_71                     0.459996         0.238296  \n",
       "Individual_61                     0.669044         0.228929  \n",
       "...                                    ...              ...  \n",
       "Individual_10                     0.742632         0.213084  \n",
       "Individual_51                     0.939967         0.291460  \n",
       "Individual_5                      0.413600         0.258810  \n",
       "Individual_24                     0.171236         0.512753  \n",
       "Individual_43                     0.919367         0.553936  \n",
       "\n",
       "[10000 rows x 7 columns]"
      ]
     },
     "execution_count": 12,
     "metadata": {},
     "output_type": "execute_result"
    }
   ],
   "source": [
    "df_observable"
   ]
  },
  {
   "cell_type": "code",
   "execution_count": 13,
   "metadata": {},
   "outputs": [
    {
     "data": {
      "text/html": [
       "<div>\n",
       "<style scoped>\n",
       "    .dataframe tbody tr th:only-of-type {\n",
       "        vertical-align: middle;\n",
       "    }\n",
       "\n",
       "    .dataframe tbody tr th {\n",
       "        vertical-align: top;\n",
       "    }\n",
       "\n",
       "    .dataframe thead th {\n",
       "        text-align: right;\n",
       "    }\n",
       "</style>\n",
       "<table border=\"1\" class=\"dataframe\">\n",
       "  <thead>\n",
       "    <tr style=\"text-align: right;\">\n",
       "      <th></th>\n",
       "      <th>unexplainable_1</th>\n",
       "      <th>unexplainable_2</th>\n",
       "      <th>unexplainable_3</th>\n",
       "      <th>unexplainable_4</th>\n",
       "      <th>if_zebra_then_age</th>\n",
       "      <th>explained_by_loves_to_sleep</th>\n",
       "      <th>Age_plus_Weight</th>\n",
       "    </tr>\n",
       "    <tr>\n",
       "      <th>Individual</th>\n",
       "      <th></th>\n",
       "      <th></th>\n",
       "      <th></th>\n",
       "      <th></th>\n",
       "      <th></th>\n",
       "      <th></th>\n",
       "      <th></th>\n",
       "    </tr>\n",
       "  </thead>\n",
       "  <tbody>\n",
       "    <tr>\n",
       "      <th>Individual_9</th>\n",
       "      <td>0.537578</td>\n",
       "      <td>0.674671</td>\n",
       "      <td>0.426368</td>\n",
       "      <td>0.559797</td>\n",
       "      <td>0.715604</td>\n",
       "      <td>1.0</td>\n",
       "      <td>0.315046</td>\n",
       "    </tr>\n",
       "    <tr>\n",
       "      <th>Individual_9</th>\n",
       "      <td>0.150078</td>\n",
       "      <td>0.157569</td>\n",
       "      <td>0.865036</td>\n",
       "      <td>0.457120</td>\n",
       "      <td>0.614524</td>\n",
       "      <td>1.0</td>\n",
       "      <td>0.315046</td>\n",
       "    </tr>\n",
       "    <tr>\n",
       "      <th>Individual_9</th>\n",
       "      <td>0.044268</td>\n",
       "      <td>0.836054</td>\n",
       "      <td>0.753878</td>\n",
       "      <td>0.429247</td>\n",
       "      <td>0.561497</td>\n",
       "      <td>1.0</td>\n",
       "      <td>0.315046</td>\n",
       "    </tr>\n",
       "    <tr>\n",
       "      <th>Individual_9</th>\n",
       "      <td>0.623694</td>\n",
       "      <td>0.246054</td>\n",
       "      <td>0.168555</td>\n",
       "      <td>0.539567</td>\n",
       "      <td>0.396387</td>\n",
       "      <td>1.0</td>\n",
       "      <td>0.315046</td>\n",
       "    </tr>\n",
       "    <tr>\n",
       "      <th>Individual_9</th>\n",
       "      <td>0.774193</td>\n",
       "      <td>0.590516</td>\n",
       "      <td>0.371547</td>\n",
       "      <td>0.665451</td>\n",
       "      <td>0.630664</td>\n",
       "      <td>1.0</td>\n",
       "      <td>0.315046</td>\n",
       "    </tr>\n",
       "    <tr>\n",
       "      <th>...</th>\n",
       "      <td>...</td>\n",
       "      <td>...</td>\n",
       "      <td>...</td>\n",
       "      <td>...</td>\n",
       "      <td>...</td>\n",
       "      <td>...</td>\n",
       "      <td>...</td>\n",
       "    </tr>\n",
       "    <tr>\n",
       "      <th>Individual_9</th>\n",
       "      <td>0.121504</td>\n",
       "      <td>0.531580</td>\n",
       "      <td>0.562008</td>\n",
       "      <td>0.535497</td>\n",
       "      <td>0.956834</td>\n",
       "      <td>1.0</td>\n",
       "      <td>0.315046</td>\n",
       "    </tr>\n",
       "    <tr>\n",
       "      <th>Individual_9</th>\n",
       "      <td>0.379184</td>\n",
       "      <td>0.915791</td>\n",
       "      <td>0.949371</td>\n",
       "      <td>0.566596</td>\n",
       "      <td>0.947950</td>\n",
       "      <td>1.0</td>\n",
       "      <td>0.315046</td>\n",
       "    </tr>\n",
       "    <tr>\n",
       "      <th>Individual_9</th>\n",
       "      <td>0.463453</td>\n",
       "      <td>0.118228</td>\n",
       "      <td>0.154483</td>\n",
       "      <td>0.448651</td>\n",
       "      <td>0.959382</td>\n",
       "      <td>1.0</td>\n",
       "      <td>0.315046</td>\n",
       "    </tr>\n",
       "    <tr>\n",
       "      <th>Individual_9</th>\n",
       "      <td>0.625348</td>\n",
       "      <td>0.754981</td>\n",
       "      <td>0.486400</td>\n",
       "      <td>0.248920</td>\n",
       "      <td>0.143427</td>\n",
       "      <td>1.0</td>\n",
       "      <td>0.315046</td>\n",
       "    </tr>\n",
       "    <tr>\n",
       "      <th>Individual_9</th>\n",
       "      <td>0.401293</td>\n",
       "      <td>0.431539</td>\n",
       "      <td>0.418123</td>\n",
       "      <td>0.437422</td>\n",
       "      <td>0.201520</td>\n",
       "      <td>1.0</td>\n",
       "      <td>0.315046</td>\n",
       "    </tr>\n",
       "  </tbody>\n",
       "</table>\n",
       "<p>109 rows × 7 columns</p>\n",
       "</div>"
      ],
      "text/plain": [
       "              unexplainable_1  unexplainable_2  unexplainable_3  \\\n",
       "Individual                                                        \n",
       "Individual_9         0.537578         0.674671         0.426368   \n",
       "Individual_9         0.150078         0.157569         0.865036   \n",
       "Individual_9         0.044268         0.836054         0.753878   \n",
       "Individual_9         0.623694         0.246054         0.168555   \n",
       "Individual_9         0.774193         0.590516         0.371547   \n",
       "...                       ...              ...              ...   \n",
       "Individual_9         0.121504         0.531580         0.562008   \n",
       "Individual_9         0.379184         0.915791         0.949371   \n",
       "Individual_9         0.463453         0.118228         0.154483   \n",
       "Individual_9         0.625348         0.754981         0.486400   \n",
       "Individual_9         0.401293         0.431539         0.418123   \n",
       "\n",
       "              unexplainable_4  if_zebra_then_age  explained_by_loves_to_sleep  \\\n",
       "Individual                                                                      \n",
       "Individual_9         0.559797           0.715604                          1.0   \n",
       "Individual_9         0.457120           0.614524                          1.0   \n",
       "Individual_9         0.429247           0.561497                          1.0   \n",
       "Individual_9         0.539567           0.396387                          1.0   \n",
       "Individual_9         0.665451           0.630664                          1.0   \n",
       "...                       ...                ...                          ...   \n",
       "Individual_9         0.535497           0.956834                          1.0   \n",
       "Individual_9         0.566596           0.947950                          1.0   \n",
       "Individual_9         0.448651           0.959382                          1.0   \n",
       "Individual_9         0.248920           0.143427                          1.0   \n",
       "Individual_9         0.437422           0.201520                          1.0   \n",
       "\n",
       "              Age_plus_Weight  \n",
       "Individual                     \n",
       "Individual_9         0.315046  \n",
       "Individual_9         0.315046  \n",
       "Individual_9         0.315046  \n",
       "Individual_9         0.315046  \n",
       "Individual_9         0.315046  \n",
       "...                       ...  \n",
       "Individual_9         0.315046  \n",
       "Individual_9         0.315046  \n",
       "Individual_9         0.315046  \n",
       "Individual_9         0.315046  \n",
       "Individual_9         0.315046  \n",
       "\n",
       "[109 rows x 7 columns]"
      ]
     },
     "execution_count": 13,
     "metadata": {},
     "output_type": "execute_result"
    }
   ],
   "source": [
    "df_observable.loc['Individual_9']"
   ]
  },
  {
   "cell_type": "code",
   "execution_count": 14,
   "metadata": {},
   "outputs": [
    {
     "data": {
      "image/png": "[encoded data removed]",
      "text/plain": [
       "<Figure size 3000x700 with 2 Axes>"
      ]
     },
     "metadata": {},
     "output_type": "display_data"
    },
    {
     "data": {
      "image/png": "[encoded data removed]",
      "text/plain": [
       "<Figure size 2000x1000 with 1 Axes>"
      ]
     },
     "metadata": {},
     "output_type": "display_data"
    },
    {
     "data": {
      "image/png": "[encoded data removed]",
      "text/plain": [
       "<Figure size 2000x1000 with 1 Axes>"
      ]
     },
     "metadata": {},
     "output_type": "display_data"
    }
   ],
   "source": [
    "index_name = 'Individual'\n",
    "my_linkage = 'ward' #'single'\n",
    "\n",
    "from data_preparation import DataPreparator\n",
    "from apply_clustering import ClusteringApplier\n",
    "\n",
    "preparation_result = DataPreparator.prepare_data(\n",
    "    use_config=False,\n",
    "    df_observable=df_observable.reset_index(),\n",
    "    df_explainable=df_explainable.reset_index(),\n",
    "    distortion_mean=0.,\n",
    "    distortion_std=0.001,\n",
    "    observed_features=observed_features,\n",
    "    explaining_features=explaining_features,\n",
    "    nn_imputation_k=10,\n",
    "    group_name=index_name,\n",
    ")\n",
    "optimal_number_of_clusters = ClusteringApplier.draw_gap_statistic_plot(\n",
    "    use_config=False, df_observable=preparation_result['observable_df'],\n",
    "    observed_features=observed_features,\n",
    "    gap_statistic_cluster_range=15,\n",
    "    linkage='ward'\n",
    ")\n",
    "observable_patterns_result = ClusteringApplier.calculate_observable_patterns(\n",
    "    use_config=False,\n",
    "    df_observable_data=preparation_result['observable_df'],\n",
    "    _n_clusters=optimal_number_of_clusters['n_clusters'],\n",
    "    observable_name='observable_name',\n",
    "    observable_feature_names=observed_features,\n",
    "    plot_title='Name of the fingerprint plot',\n",
    "    number_observable_patterns='auto',\n",
    "    distance_measure_fingerprint='jensenshannon',\n",
    "    group_name=index_name, \n",
    "    spiderplot_scaling='minmax',\n",
    "    linkage=my_linkage\n",
    ")"
   ]
  },
  {
   "cell_type": "code",
   "execution_count": 15,
   "metadata": {},
   "outputs": [
    {
     "data": {
      "application/vnd.plotly.v1+json": {
       "config": {
        "plotlyServerURL": "https://plot.ly"
       },
       "data": [
        {
         "fill": "toself",
         "r": [
          0.07427070136434172,
          0.2513505150710198,
          0.02121015301995995,
          0.15240320577707753,
          0.1504743600249254,
          0.06973958488133498,
          0.10288558759969275
         ],
         "subplot": "polar",
         "theta": [
          "unexplainable_1",
          "unexplainable_2",
          "unexplainable_3",
          "unexplainable_4",
          "if_zebra_then_age",
          "explained_by_loves_to_sleep",
          "Age_plus_Weight"
         ],
         "type": "scatterpolar"
        },
        {
         "fill": "toself",
         "r": [
          0.14744778731396951,
          0.11255973933952092,
          0.12794772072209382,
          0.02686766380683462,
          0.2614589997354272,
          0,
          0.18843385863029827
         ],
         "subplot": "polar2",
         "theta": [
          "unexplainable_1",
          "unexplainable_2",
          "unexplainable_3",
          "unexplainable_4",
          "if_zebra_then_age",
          "explained_by_loves_to_sleep",
          "Age_plus_Weight"
         ],
         "type": "scatterpolar"
        },
        {
         "fill": "toself",
         "r": [
          0.0339687252690145,
          0.0964720575464093,
          0.3229130156956069,
          0.04578978277608496,
          0.16155024960026837,
          0.02973163265322265,
          0.13434478989219947
         ],
         "subplot": "polar3",
         "theta": [
          "unexplainable_1",
          "unexplainable_2",
          "unexplainable_3",
          "unexplainable_4",
          "if_zebra_then_age",
          "explained_by_loves_to_sleep",
          "Age_plus_Weight"
         ],
         "type": "scatterpolar"
        },
        {
         "fill": "toself",
         "r": [
          0.24351506523671854,
          0.2695736832243879,
          0.2190008980714996,
          0.07201250731399153,
          0.0001747122253739896,
          0.14835533495581996,
          0.03877270366401382
         ],
         "subplot": "polar4",
         "theta": [
          "unexplainable_1",
          "unexplainable_2",
          "unexplainable_3",
          "unexplainable_4",
          "if_zebra_then_age",
          "explained_by_loves_to_sleep",
          "Age_plus_Weight"
         ],
         "type": "scatterpolar"
        },
        {
         "fill": "toself",
         "r": [
          0.03962508052737648,
          0.02713000098352849,
          0.14238966088256785,
          0.09360901119716744,
          0.1595639644082146,
          0.2983930924849176,
          0.06018694907396456
         ],
         "subplot": "polar5",
         "theta": [
          "unexplainable_1",
          "unexplainable_2",
          "unexplainable_3",
          "unexplainable_4",
          "if_zebra_then_age",
          "explained_by_loves_to_sleep",
          "Age_plus_Weight"
         ],
         "type": "scatterpolar"
        },
        {
         "fill": "toself",
         "r": [
          0.223041905844124,
          0.022657417577196783,
          0.18316489519518256,
          0.34312035602997276,
          0.00028844054506207376,
          0.31331133711557296,
          0.012288616239028665
         ],
         "subplot": "polar6",
         "theta": [
          "unexplainable_1",
          "unexplainable_2",
          "unexplainable_3",
          "unexplainable_4",
          "if_zebra_then_age",
          "explained_by_loves_to_sleep",
          "Age_plus_Weight"
         ],
         "type": "scatterpolar"
        },
        {
         "fill": "toself",
         "r": [
          0.07050292483202489,
          0.17323691947021536,
          0.14154835760112539,
          0.12153873466485493,
          0.21262205690947875,
          0.1705151948939167,
          0.1866863219997643
         ],
         "subplot": "polar7",
         "theta": [
          "unexplainable_1",
          "unexplainable_2",
          "unexplainable_3",
          "unexplainable_4",
          "if_zebra_then_age",
          "explained_by_loves_to_sleep",
          "Age_plus_Weight"
         ],
         "type": "scatterpolar"
        },
        {
         "fill": "toself",
         "r": [
          0.1425128208419219,
          0.10778961402595082,
          0.09053777635189306,
          0.031106634230203233,
          0.06513497617109851,
          0.17662692840455269,
          0.28369446270317233
         ],
         "subplot": "polar8",
         "theta": [
          "unexplainable_1",
          "unexplainable_2",
          "unexplainable_3",
          "unexplainable_4",
          "if_zebra_then_age",
          "explained_by_loves_to_sleep",
          "Age_plus_Weight"
         ],
         "type": "scatterpolar"
        },
        {
         "fill": "toself",
         "r": [
          0.2209606339061936,
          0.0768313163684414,
          0.24764183014429283,
          0.04122436151583025,
          0.1254188485792383,
          0.21969947755934127,
          0.04148283450759912
         ],
         "subplot": "polar9",
         "theta": [
          "unexplainable_1",
          "unexplainable_2",
          "unexplainable_3",
          "unexplainable_4",
          "if_zebra_then_age",
          "explained_by_loves_to_sleep",
          "Age_plus_Weight"
         ],
         "type": "scatterpolar"
        },
        {
         "fill": "toself",
         "r": [
          0.2905414161111139,
          0.01826285653056679,
          0.21167925598956064,
          0.19120057294021875,
          0.13908448143968913,
          0.07963418992588718,
          0.09444519797883061
         ],
         "subplot": "polar10",
         "theta": [
          "unexplainable_1",
          "unexplainable_2",
          "unexplainable_3",
          "unexplainable_4",
          "if_zebra_then_age",
          "explained_by_loves_to_sleep",
          "Age_plus_Weight"
         ],
         "type": "scatterpolar"
        },
        {
         "fill": "toself",
         "r": [
          0.23134102986147428,
          0.16575854696729542,
          0,
          0.0579561217179708,
          0.13582210074530085,
          0.25989026914214,
          0.048700877833841666
         ],
         "subplot": "polar11",
         "theta": [
          "unexplainable_1",
          "unexplainable_2",
          "unexplainable_3",
          "unexplainable_4",
          "if_zebra_then_age",
          "explained_by_loves_to_sleep",
          "Age_plus_Weight"
         ],
         "type": "scatterpolar"
        },
        {
         "fill": "toself",
         "r": [
          0,
          0.17685190366572784,
          0.3455102536790376,
          0,
          0,
          0.24755852912686657,
          0
         ],
         "subplot": "polar12",
         "theta": [
          "unexplainable_1",
          "unexplainable_2",
          "unexplainable_3",
          "unexplainable_4",
          "if_zebra_then_age",
          "explained_by_loves_to_sleep",
          "Age_plus_Weight"
         ],
         "type": "scatterpolar"
        },
        {
         "fill": "toself",
         "r": [
          0.03633831692777848,
          0.25402985907707004,
          0.19486645734483077,
          0.1358487190971073,
          0.1270593281035596,
          0.25402985907707004,
          0.048438724754700874
         ],
         "subplot": "polar13",
         "theta": [
          "unexplainable_1",
          "unexplainable_2",
          "unexplainable_3",
          "unexplainable_4",
          "if_zebra_then_age",
          "explained_by_loves_to_sleep",
          "Age_plus_Weight"
         ],
         "type": "scatterpolar"
        },
        {
         "fill": "toself",
         "r": [
          0.11934833865003563,
          0,
          0.11882804236184871,
          0.14276819132262916,
          0.23645388696136999,
          0.19023704979158548,
          0.20714245024263186
         ],
         "subplot": "polar14",
         "theta": [
          "unexplainable_1",
          "unexplainable_2",
          "unexplainable_3",
          "unexplainable_4",
          "if_zebra_then_age",
          "explained_by_loves_to_sleep",
          "Age_plus_Weight"
         ],
         "type": "scatterpolar"
        }
       ],
       "layout": {
        "annotations": [
         {
          "font": {
           "size": 16
          },
          "showarrow": false,
          "text": "Fingerprint 1 (homogeneity: 0.03)",
          "x": 0.175,
          "xanchor": "center",
          "xref": "paper",
          "y": 1,
          "yanchor": "bottom",
          "yref": "paper"
         },
         {
          "font": {
           "size": 16
          },
          "showarrow": false,
          "text": "Fingerprint 2 (homogeneity: 0.06)",
          "x": 0.825,
          "xanchor": "center",
          "xref": "paper",
          "y": 1,
          "yanchor": "bottom",
          "yref": "paper"
         },
         {
          "font": {
           "size": 16
          },
          "showarrow": false,
          "text": "Fingerprint 3 (homogeneity: 0.04)",
          "x": 0.175,
          "xanchor": "center",
          "xref": "paper",
          "y": 0.85,
          "yanchor": "bottom",
          "yref": "paper"
         },
         {
          "font": {
           "size": 16
          },
          "showarrow": false,
          "text": "Fingerprint 4 (homogeneity: 0.10)",
          "x": 0.825,
          "xanchor": "center",
          "xref": "paper",
          "y": 0.85,
          "yanchor": "bottom",
          "yref": "paper"
         },
         {
          "font": {
           "size": 16
          },
          "showarrow": false,
          "text": "Fingerprint 5 (homogeneity: 0.03)",
          "x": 0.175,
          "xanchor": "center",
          "xref": "paper",
          "y": 0.7,
          "yanchor": "bottom",
          "yref": "paper"
         },
         {
          "font": {
           "size": 16
          },
          "showarrow": false,
          "text": "Fingerprint 6 (homogeneity: 0.11)",
          "x": 0.825,
          "xanchor": "center",
          "xref": "paper",
          "y": 0.7,
          "yanchor": "bottom",
          "yref": "paper"
         },
         {
          "font": {
           "size": 16
          },
          "showarrow": false,
          "text": "Fingerprint 7 (homogeneity: 0.02)",
          "x": 0.175,
          "xanchor": "center",
          "xref": "paper",
          "y": 0.55,
          "yanchor": "bottom",
          "yref": "paper"
         },
         {
          "font": {
           "size": 16
          },
          "showarrow": false,
          "text": "Fingerprint 8 (homogeneity: 0.03)",
          "x": 0.825,
          "xanchor": "center",
          "xref": "paper",
          "y": 0.55,
          "yanchor": "bottom",
          "yref": "paper"
         },
         {
          "font": {
           "size": 16
          },
          "showarrow": false,
          "text": "Fingerprint 9 (homogeneity: 0.02)",
          "x": 0.175,
          "xanchor": "center",
          "xref": "paper",
          "y": 0.39999999999999997,
          "yanchor": "bottom",
          "yref": "paper"
         },
         {
          "font": {
           "size": 16
          },
          "showarrow": false,
          "text": "Fingerprint 10 (homogeneity: 0.03)",
          "x": 0.825,
          "xanchor": "center",
          "xref": "paper",
          "y": 0.39999999999999997,
          "yanchor": "bottom",
          "yref": "paper"
         },
         {
          "font": {
           "size": 16
          },
          "showarrow": false,
          "text": "Fingerprint 11 (homogeneity: 0.04)",
          "x": 0.175,
          "xanchor": "center",
          "xref": "paper",
          "y": 0.25,
          "yanchor": "bottom",
          "yref": "paper"
         },
         {
          "font": {
           "size": 16
          },
          "showarrow": false,
          "text": "Fingerprint 12 (homogeneity: 0.13)",
          "x": 0.825,
          "xanchor": "center",
          "xref": "paper",
          "y": 0.25,
          "yanchor": "bottom",
          "yref": "paper"
         },
         {
          "font": {
           "size": 16
          },
          "showarrow": false,
          "text": "Fingerprint 13 (homogeneity: 0.03)",
          "x": 0.175,
          "xanchor": "center",
          "xref": "paper",
          "y": 0.09999999999999999,
          "yanchor": "bottom",
          "yref": "paper"
         },
         {
          "font": {
           "size": 16
          },
          "showarrow": false,
          "text": "Fingerprint 14 (homogeneity: 0.04)",
          "x": 0.825,
          "xanchor": "center",
          "xref": "paper",
          "y": 0.09999999999999999,
          "yanchor": "bottom",
          "yref": "paper"
         }
        ],
        "height": 3500,
        "paper_bgcolor": "rgba(0, 0, 0, 0)",
        "plot_bgcolor": "rgba(0, 0, 0, 0)",
        "polar": {
         "domain": {
          "x": [
           0,
           0.35
          ],
          "y": [
           0.9,
           1
          ]
         },
         "radialaxis": {
          "range": [
           0,
           1
          ],
          "showticklabels": false,
          "visible": true
         }
        },
        "polar10": {
         "domain": {
          "x": [
           0.6499999999999999,
           0.9999999999999999
          ],
          "y": [
           0.3,
           0.39999999999999997
          ]
         },
         "radialaxis": {
          "range": [
           0,
           1
          ],
          "showticklabels": false,
          "visible": true
         }
        },
        "polar11": {
         "domain": {
          "x": [
           0,
           0.35
          ],
          "y": [
           0.15,
           0.25
          ]
         },
         "radialaxis": {
          "range": [
           0,
           1
          ],
          "showticklabels": false,
          "visible": true
         }
        },
        "polar12": {
         "domain": {
          "x": [
           0.6499999999999999,
           0.9999999999999999
          ],
          "y": [
           0.15,
           0.25
          ]
         },
         "radialaxis": {
          "range": [
           0,
           1
          ],
          "showticklabels": false,
          "visible": true
         }
        },
        "polar13": {
         "domain": {
          "x": [
           0,
           0.35
          ],
          "y": [
           0,
           0.09999999999999999
          ]
         },
         "radialaxis": {
          "range": [
           0,
           1
          ],
          "showticklabels": false,
          "visible": true
         }
        },
        "polar14": {
         "domain": {
          "x": [
           0.6499999999999999,
           0.9999999999999999
          ],
          "y": [
           0,
           0.09999999999999999
          ]
         },
         "radialaxis": {
          "range": [
           0,
           1
          ],
          "showticklabels": false,
          "visible": true
         }
        },
        "polar2": {
         "domain": {
          "x": [
           0.6499999999999999,
           0.9999999999999999
          ],
          "y": [
           0.9,
           1
          ]
         },
         "radialaxis": {
          "range": [
           0,
           1
          ],
          "showticklabels": false,
          "visible": true
         }
        },
        "polar3": {
         "domain": {
          "x": [
           0,
           0.35
          ],
          "y": [
           0.75,
           0.85
          ]
         },
         "radialaxis": {
          "range": [
           0,
           1
          ],
          "showticklabels": false,
          "visible": true
         }
        },
        "polar4": {
         "domain": {
          "x": [
           0.6499999999999999,
           0.9999999999999999
          ],
          "y": [
           0.75,
           0.85
          ]
         },
         "radialaxis": {
          "range": [
           0,
           1
          ],
          "showticklabels": false,
          "visible": true
         }
        },
        "polar5": {
         "domain": {
          "x": [
           0,
           0.35
          ],
          "y": [
           0.6,
           0.7
          ]
         },
         "radialaxis": {
          "range": [
           0,
           1
          ],
          "showticklabels": false,
          "visible": true
         }
        },
        "polar6": {
         "domain": {
          "x": [
           0.6499999999999999,
           0.9999999999999999
          ],
          "y": [
           0.6,
           0.7
          ]
         },
         "radialaxis": {
          "range": [
           0,
           1
          ],
          "showticklabels": false,
          "visible": true
         }
        },
        "polar7": {
         "domain": {
          "x": [
           0,
           0.35
          ],
          "y": [
           0.45,
           0.55
          ]
         },
         "radialaxis": {
          "range": [
           0,
           1
          ],
          "showticklabels": false,
          "visible": true
         }
        },
        "polar8": {
         "domain": {
          "x": [
           0.6499999999999999,
           0.9999999999999999
          ],
          "y": [
           0.45,
           0.55
          ]
         },
         "radialaxis": {
          "range": [
           0,
           1
          ],
          "showticklabels": false,
          "visible": true
         }
        },
        "polar9": {
         "domain": {
          "x": [
           0,
           0.35
          ],
          "y": [
           0.3,
           0.39999999999999997
          ]
         },
         "radialaxis": {
          "range": [
           0,
           1
          ],
          "showticklabels": false,
          "visible": true
         }
        },
        "showlegend": false,
        "template": {
         "data": {
          "bar": [
           {
            "error_x": {
             "color": "#2a3f5f"
            },
            "error_y": {
             "color": "#2a3f5f"
            },
            "marker": {
             "line": {
              "color": "#E5ECF6",
              "width": 0.5
             },
             "pattern": {
              "fillmode": "overlay",
              "size": 10,
              "solidity": 0.2
             }
            },
            "type": "bar"
           }
          ],
          "barpolar": [
           {
            "marker": {
             "line": {
              "color": "#E5ECF6",
              "width": 0.5
             },
             "pattern": {
              "fillmode": "overlay",
              "size": 10,
              "solidity": 0.2
             }
            },
            "type": "barpolar"
           }
          ],
          "carpet": [
           {
            "aaxis": {
             "endlinecolor": "#2a3f5f",
             "gridcolor": "white",
             "linecolor": "white",
             "minorgridcolor": "white",
             "startlinecolor": "#2a3f5f"
            },
            "baxis": {
             "endlinecolor": "#2a3f5f",
             "gridcolor": "white",
             "linecolor": "white",
             "minorgridcolor": "white",
             "startlinecolor": "#2a3f5f"
            },
            "type": "carpet"
           }
          ],
          "choropleth": [
           {
            "colorbar": {
             "outlinewidth": 0,
             "ticks": ""
            },
            "type": "choropleth"
           }
          ],
          "contour": [
           {
            "colorbar": {
             "outlinewidth": 0,
             "ticks": ""
            },
            "colorscale": [
             [
              0,
              "#0d0887"
             ],
             [
              0.1111111111111111,
              "#46039f"
             ],
             [
              0.2222222222222222,
              "#7201a8"
             ],
             [
              0.3333333333333333,
              "#9c179e"
             ],
             [
              0.4444444444444444,
              "#bd3786"
             ],
             [
              0.5555555555555556,
              "#d8576b"
             ],
             [
              0.6666666666666666,
              "#ed7953"
             ],
             [
              0.7777777777777778,
              "#fb9f3a"
             ],
             [
              0.8888888888888888,
              "#fdca26"
             ],
             [
              1,
              "#f0f921"
             ]
            ],
            "type": "contour"
           }
          ],
          "contourcarpet": [
           {
            "colorbar": {
             "outlinewidth": 0,
             "ticks": ""
            },
            "type": "contourcarpet"
           }
          ],
          "heatmap": [
           {
            "colorbar": {
             "outlinewidth": 0,
             "ticks": ""
            },
            "colorscale": [
             [
              0,
              "#0d0887"
             ],
             [
              0.1111111111111111,
              "#46039f"
             ],
             [
              0.2222222222222222,
              "#7201a8"
             ],
             [
              0.3333333333333333,
              "#9c179e"
             ],
             [
              0.4444444444444444,
              "#bd3786"
             ],
             [
              0.5555555555555556,
              "#d8576b"
             ],
             [
              0.6666666666666666,
              "#ed7953"
             ],
             [
              0.7777777777777778,
              "#fb9f3a"
             ],
             [
              0.8888888888888888,
              "#fdca26"
             ],
             [
              1,
              "#f0f921"
             ]
            ],
            "type": "heatmap"
           }
          ],
          "heatmapgl": [
           {
            "colorbar": {
             "outlinewidth": 0,
             "ticks": ""
            },
            "colorscale": [
             [
              0,
              "#0d0887"
             ],
             [
              0.1111111111111111,
              "#46039f"
             ],
             [
              0.2222222222222222,
              "#7201a8"
             ],
             [
              0.3333333333333333,
              "#9c179e"
             ],
             [
              0.4444444444444444,
              "#bd3786"
             ],
             [
              0.5555555555555556,
              "#d8576b"
             ],
             [
              0.6666666666666666,
              "#ed7953"
             ],
             [
              0.7777777777777778,
              "#fb9f3a"
             ],
             [
              0.8888888888888888,
              "#fdca26"
             ],
             [
              1,
              "#f0f921"
             ]
            ],
            "type": "heatmapgl"
           }
          ],
          "histogram": [
           {
            "marker": {
             "pattern": {
              "fillmode": "overlay",
              "size": 10,
              "solidity": 0.2
             }
            },
            "type": "histogram"
           }
          ],
          "histogram2d": [
           {
            "colorbar": {
             "outlinewidth": 0,
             "ticks": ""
            },
            "colorscale": [
             [
              0,
              "#0d0887"
             ],
             [
              0.1111111111111111,
              "#46039f"
             ],
             [
              0.2222222222222222,
              "#7201a8"
             ],
             [
              0.3333333333333333,
              "#9c179e"
             ],
             [
              0.4444444444444444,
              "#bd3786"
             ],
             [
              0.5555555555555556,
              "#d8576b"
             ],
             [
              0.6666666666666666,
              "#ed7953"
             ],
             [
              0.7777777777777778,
              "#fb9f3a"
             ],
             [
              0.8888888888888888,
              "#fdca26"
             ],
             [
              1,
              "#f0f921"
             ]
            ],
            "type": "histogram2d"
           }
          ],
          "histogram2dcontour": [
           {
            "colorbar": {
             "outlinewidth": 0,
             "ticks": ""
            },
            "colorscale": [
             [
              0,
              "#0d0887"
             ],
             [
              0.1111111111111111,
              "#46039f"
             ],
             [
              0.2222222222222222,
              "#7201a8"
             ],
             [
              0.3333333333333333,
              "#9c179e"
             ],
             [
              0.4444444444444444,
              "#bd3786"
             ],
             [
              0.5555555555555556,
              "#d8576b"
             ],
             [
              0.6666666666666666,
              "#ed7953"
             ],
             [
              0.7777777777777778,
              "#fb9f3a"
             ],
             [
              0.8888888888888888,
              "#fdca26"
             ],
             [
              1,
              "#f0f921"
             ]
            ],
            "type": "histogram2dcontour"
           }
          ],
          "mesh3d": [
           {
            "colorbar": {
             "outlinewidth": 0,
             "ticks": ""
            },
            "type": "mesh3d"
           }
          ],
          "parcoords": [
           {
            "line": {
             "colorbar": {
              "outlinewidth": 0,
              "ticks": ""
             }
            },
            "type": "parcoords"
           }
          ],
          "pie": [
           {
            "automargin": true,
            "type": "pie"
           }
          ],
          "scatter": [
           {
            "fillpattern": {
             "fillmode": "overlay",
             "size": 10,
             "solidity": 0.2
            },
            "type": "scatter"
           }
          ],
          "scatter3d": [
           {
            "line": {
             "colorbar": {
              "outlinewidth": 0,
              "ticks": ""
             }
            },
            "marker": {
             "colorbar": {
              "outlinewidth": 0,
              "ticks": ""
             }
            },
            "type": "scatter3d"
           }
          ],
          "scattercarpet": [
           {
            "marker": {
             "colorbar": {
              "outlinewidth": 0,
              "ticks": ""
             }
            },
            "type": "scattercarpet"
           }
          ],
          "scattergeo": [
           {
            "marker": {
             "colorbar": {
              "outlinewidth": 0,
              "ticks": ""
             }
            },
            "type": "scattergeo"
           }
          ],
          "scattergl": [
           {
            "marker": {
             "colorbar": {
              "outlinewidth": 0,
              "ticks": ""
             }
            },
            "type": "scattergl"
           }
          ],
          "scattermapbox": [
           {
            "marker": {
             "colorbar": {
              "outlinewidth": 0,
              "ticks": ""
             }
            },
            "type": "scattermapbox"
           }
          ],
          "scatterpolar": [
           {
            "marker": {
             "colorbar": {
              "outlinewidth": 0,
              "ticks": ""
             }
            },
            "type": "scatterpolar"
           }
          ],
          "scatterpolargl": [
           {
            "marker": {
             "colorbar": {
              "outlinewidth": 0,
              "ticks": ""
             }
            },
            "type": "scatterpolargl"
           }
          ],
          "scatterternary": [
           {
            "marker": {
             "colorbar": {
              "outlinewidth": 0,
              "ticks": ""
             }
            },
            "type": "scatterternary"
           }
          ],
          "surface": [
           {
            "colorbar": {
             "outlinewidth": 0,
             "ticks": ""
            },
            "colorscale": [
             [
              0,
              "#0d0887"
             ],
             [
              0.1111111111111111,
              "#46039f"
             ],
             [
              0.2222222222222222,
              "#7201a8"
             ],
             [
              0.3333333333333333,
              "#9c179e"
             ],
             [
              0.4444444444444444,
              "#bd3786"
             ],
             [
              0.5555555555555556,
              "#d8576b"
             ],
             [
              0.6666666666666666,
              "#ed7953"
             ],
             [
              0.7777777777777778,
              "#fb9f3a"
             ],
             [
              0.8888888888888888,
              "#fdca26"
             ],
             [
              1,
              "#f0f921"
             ]
            ],
            "type": "surface"
           }
          ],
          "table": [
           {
            "cells": {
             "fill": {
              "color": "#EBF0F8"
             },
             "line": {
              "color": "white"
             }
            },
            "header": {
             "fill": {
              "color": "#C8D4E3"
             },
             "line": {
              "color": "white"
             }
            },
            "type": "table"
           }
          ]
         },
         "layout": {
          "annotationdefaults": {
           "arrowcolor": "#2a3f5f",
           "arrowhead": 0,
           "arrowwidth": 1
          },
          "autotypenumbers": "strict",
          "coloraxis": {
           "colorbar": {
            "outlinewidth": 0,
            "ticks": ""
           }
          },
          "colorscale": {
           "diverging": [
            [
             0,
             "#8e0152"
            ],
            [
             0.1,
             "#c51b7d"
            ],
            [
             0.2,
             "#de77ae"
            ],
            [
             0.3,
             "#f1b6da"
            ],
            [
             0.4,
             "#fde0ef"
            ],
            [
             0.5,
             "#f7f7f7"
            ],
            [
             0.6,
             "#e6f5d0"
            ],
            [
             0.7,
             "#b8e186"
            ],
            [
             0.8,
             "#7fbc41"
            ],
            [
             0.9,
             "#4d9221"
            ],
            [
             1,
             "#276419"
            ]
           ],
           "sequential": [
            [
             0,
             "#0d0887"
            ],
            [
             0.1111111111111111,
             "#46039f"
            ],
            [
             0.2222222222222222,
             "#7201a8"
            ],
            [
             0.3333333333333333,
             "#9c179e"
            ],
            [
             0.4444444444444444,
             "#bd3786"
            ],
            [
             0.5555555555555556,
             "#d8576b"
            ],
            [
             0.6666666666666666,
             "#ed7953"
            ],
            [
             0.7777777777777778,
             "#fb9f3a"
            ],
            [
             0.8888888888888888,
             "#fdca26"
            ],
            [
             1,
             "#f0f921"
            ]
           ],
           "sequentialminus": [
            [
             0,
             "#0d0887"
            ],
            [
             0.1111111111111111,
             "#46039f"
            ],
            [
             0.2222222222222222,
             "#7201a8"
            ],
            [
             0.3333333333333333,
             "#9c179e"
            ],
            [
             0.4444444444444444,
             "#bd3786"
            ],
            [
             0.5555555555555556,
             "#d8576b"
            ],
            [
             0.6666666666666666,
             "#ed7953"
            ],
            [
             0.7777777777777778,
             "#fb9f3a"
            ],
            [
             0.8888888888888888,
             "#fdca26"
            ],
            [
             1,
             "#f0f921"
            ]
           ]
          },
          "colorway": [
           "#636efa",
           "#EF553B",
           "#00cc96",
           "#ab63fa",
           "#FFA15A",
           "#19d3f3",
           "#FF6692",
           "#B6E880",
           "#FF97FF",
           "#FECB52"
          ],
          "font": {
           "color": "#2a3f5f"
          },
          "geo": {
           "bgcolor": "white",
           "lakecolor": "white",
           "landcolor": "#E5ECF6",
           "showlakes": true,
           "showland": true,
           "subunitcolor": "white"
          },
          "hoverlabel": {
           "align": "left"
          },
          "hovermode": "closest",
          "mapbox": {
           "style": "light"
          },
          "paper_bgcolor": "white",
          "plot_bgcolor": "#E5ECF6",
          "polar": {
           "angularaxis": {
            "gridcolor": "white",
            "linecolor": "white",
            "ticks": ""
           },
           "bgcolor": "#E5ECF6",
           "radialaxis": {
            "gridcolor": "white",
            "linecolor": "white",
            "ticks": ""
           }
          },
          "scene": {
           "xaxis": {
            "backgroundcolor": "#E5ECF6",
            "gridcolor": "white",
            "gridwidth": 2,
            "linecolor": "white",
            "showbackground": true,
            "ticks": "",
            "zerolinecolor": "white"
           },
           "yaxis": {
            "backgroundcolor": "#E5ECF6",
            "gridcolor": "white",
            "gridwidth": 2,
            "linecolor": "white",
            "showbackground": true,
            "ticks": "",
            "zerolinecolor": "white"
           },
           "zaxis": {
            "backgroundcolor": "#E5ECF6",
            "gridcolor": "white",
            "gridwidth": 2,
            "linecolor": "white",
            "showbackground": true,
            "ticks": "",
            "zerolinecolor": "white"
           }
          },
          "shapedefaults": {
           "line": {
            "color": "#2a3f5f"
           }
          },
          "ternary": {
           "aaxis": {
            "gridcolor": "white",
            "linecolor": "white",
            "ticks": ""
           },
           "baxis": {
            "gridcolor": "white",
            "linecolor": "white",
            "ticks": ""
           },
           "bgcolor": "#E5ECF6",
           "caxis": {
            "gridcolor": "white",
            "linecolor": "white",
            "ticks": ""
           }
          },
          "title": {
           "x": 0.05
          },
          "xaxis": {
           "automargin": true,
           "gridcolor": "white",
           "linecolor": "white",
           "ticks": "",
           "title": {
            "standoff": 15
           },
           "zerolinecolor": "white",
           "zerolinewidth": 2
          },
          "yaxis": {
           "automargin": true,
           "gridcolor": "white",
           "linecolor": "white",
           "ticks": "",
           "title": {
            "standoff": 15
           },
           "zerolinecolor": "white",
           "zerolinewidth": 2
          }
         }
        },
        "title": {
         "text": "Name of the fingerprint plot"
        },
        "width": 1000
       }
      }
     },
     "metadata": {},
     "output_type": "display_data"
    }
   ],
   "source": [
    "observable_patterns_result['spider_plots']"
   ]
  },
  {
   "cell_type": "code",
   "execution_count": 16,
   "metadata": {},
   "outputs": [
    {
     "data": {
      "application/vnd.jupyter.widget-view+json": {
       "model_id": "de0aa966321a4f58afbb0b25aaa15016",
       "version_major": 2,
       "version_minor": 0
      },
      "text/plain": [
       "  0%|          | 0/502 [00:00<?, ?it/s]"
      ]
     },
     "metadata": {},
     "output_type": "display_data"
    },
    {
     "data": {
      "image/png": "[encoded data removed]",
      "text/plain": [
       "<Figure size 2000x1000 with 1 Axes>"
      ]
     },
     "metadata": {},
     "output_type": "display_data"
    }
   ],
   "source": [
    "calculate_explainable_distances_result = ClusteringApplier.calculate_explainable_distances(\n",
    "    use_config=False,\n",
    "    df_explainable=preparation_result['explainable_df'].copy(),\n",
    "    df_observable_distances=observable_patterns_result['pw_norm_dist'].copy(),\n",
    "    explaining_features=explaining_features,\n",
    "    method='exact',\n",
    "    distance_measure='correlation',\n",
    "    sparsity_parameter=0.01,\n",
    "    max_num_threads=12,\n",
    "    group_name=index_name\n",
    ")"
   ]
  },
  {
   "cell_type": "code",
   "execution_count": 17,
   "metadata": {},
   "outputs": [
    {
     "data": {
      "text/html": [
       "<div>\n",
       "<style scoped>\n",
       "    .dataframe tbody tr th:only-of-type {\n",
       "        vertical-align: middle;\n",
       "    }\n",
       "\n",
       "    .dataframe tbody tr th {\n",
       "        vertical-align: top;\n",
       "    }\n",
       "\n",
       "    .dataframe thead th {\n",
       "        text-align: right;\n",
       "    }\n",
       "</style>\n",
       "<table border=\"1\" class=\"dataframe\">\n",
       "  <thead>\n",
       "    <tr style=\"text-align: right;\">\n",
       "      <th></th>\n",
       "      <th>correlation</th>\n",
       "      <th>Age</th>\n",
       "      <th>Weight</th>\n",
       "      <th>Is_a_Zebra</th>\n",
       "      <th>Loves_to_sleep</th>\n",
       "      <th>Noise_1</th>\n",
       "      <th>Noise_2</th>\n",
       "      <th>Noise_3</th>\n",
       "      <th>Noise_4</th>\n",
       "      <th>Noise_5</th>\n",
       "    </tr>\n",
       "  </thead>\n",
       "  <tbody>\n",
       "    <tr>\n",
       "      <th>0</th>\n",
       "      <td>0.363853</td>\n",
       "      <td>1</td>\n",
       "      <td>0</td>\n",
       "      <td>0</td>\n",
       "      <td>1</td>\n",
       "      <td>0</td>\n",
       "      <td>0</td>\n",
       "      <td>0</td>\n",
       "      <td>1</td>\n",
       "      <td>0</td>\n",
       "    </tr>\n",
       "  </tbody>\n",
       "</table>\n",
       "</div>"
      ],
      "text/plain": [
       "   correlation  Age  Weight  Is_a_Zebra  Loves_to_sleep  Noise_1  Noise_2  \\\n",
       "0     0.363853    1       0           0               1        0        0   \n",
       "\n",
       "   Noise_3  Noise_4  Noise_5  \n",
       "0        0        1        0  "
      ]
     },
     "execution_count": 17,
     "metadata": {},
     "output_type": "execute_result"
    }
   ],
   "source": [
    "calculate_explainable_distances_result['overview_df']"
   ]
  },
  {
   "cell_type": "code",
   "execution_count": 18,
   "metadata": {},
   "outputs": [],
   "source": [
    "def ward_distance(x, y):\n",
    "    # Compute the centroids of the two clusters\n",
    "    centroid_x = torch.mean(x, dim=0)\n",
    "    centroid_y = torch.mean(y, dim=0)\n",
    "\n",
    "    # Compute the variance within each cluster\n",
    "    var_x = torch.sum((x - centroid_x) ** 2) / (x.shape[0] - 1)\n",
    "    var_y = torch.sum((y - centroid_y) ** 2) / (y.shape[0] - 1)\n",
    "\n",
    "    # Compute the variance between the two clusters\n",
    "    var_between = torch.sum((centroid_x - centroid_y) ** 2)\n",
    "\n",
    "    # Compute the Ward distance\n",
    "    return var_between + var_x + var_y"
   ]
  },
  {
   "cell_type": "code",
   "execution_count": 19,
   "metadata": {},
   "outputs": [
    {
     "name": "stdout",
     "output_type": "stream",
     "text": [
      "0        True\n",
      "1        True\n",
      "2        True\n",
      "3       False\n",
      "4        True\n",
      "        ...  \n",
      "9995    False\n",
      "9996     True\n",
      "9997     True\n",
      "9998     True\n",
      "9999     True\n",
      "Name: pattern_type, Length: 10000, dtype: bool\n",
      "0.7223\n",
      "[ 8 12  7  9  8  9  4 13  8  9 13  2  8 10  3  5  9  6 13  8  4 11 13]\n",
      "[ 8 12  7  8  8  0  4 13  8  2 13  0  8 10  3  3  9  6  7  8  4 11 13]\n"
     ]
    }
   ],
   "source": [
    "keystr = 'df_observable_data'\n",
    "\n",
    "x = torch.tensor(observable_patterns_result[keystr].loc[:, observed_features].to_numpy())\n",
    "y = torch.tensor(observable_patterns_result['df_cluster_median'].to_numpy())\n",
    "\n",
    "alternative = ((x.unsqueeze(1) - y.unsqueeze(0)).pow(2).clamp(min=1e-20)).sum(2).sqrt()\n",
    "\n",
    "vergleich = observable_patterns_result['df_observable_data'].pattern_type == alternative.argmin(dim=1).numpy() #torch.cdist(x, y).argmin(dim=1).numpy()\n",
    "print(vergleich)\n",
    "print(vergleich.sum() / observable_patterns_result[keystr].shape[0])\n",
    "\n",
    "print(alternative.argmin(dim=1).numpy()[:23])\n",
    "print(observable_patterns_result['df_observable_data'].pattern_type[:23].to_numpy())"
   ]
  },
  {
   "cell_type": "code",
   "execution_count": 20,
   "metadata": {},
   "outputs": [],
   "source": [
    "my_df = observable_patterns_result[keystr].copy()\n",
    "my_df = my_df[my_df[\"oversampled\"] == False]"
   ]
  },
  {
   "cell_type": "code",
   "execution_count": 21,
   "metadata": {},
   "outputs": [
    {
     "data": {
      "text/html": [
       "<div>\n",
       "<style scoped>\n",
       "    .dataframe tbody tr th:only-of-type {\n",
       "        vertical-align: middle;\n",
       "    }\n",
       "\n",
       "    .dataframe tbody tr th {\n",
       "        vertical-align: top;\n",
       "    }\n",
       "\n",
       "    .dataframe thead th {\n",
       "        text-align: right;\n",
       "    }\n",
       "</style>\n",
       "<table border=\"1\" class=\"dataframe\">\n",
       "  <thead>\n",
       "    <tr style=\"text-align: right;\">\n",
       "      <th></th>\n",
       "      <th>Individual</th>\n",
       "      <th>unexplainable_1</th>\n",
       "      <th>unexplainable_2</th>\n",
       "      <th>unexplainable_3</th>\n",
       "      <th>unexplainable_4</th>\n",
       "      <th>if_zebra_then_age</th>\n",
       "      <th>explained_by_loves_to_sleep</th>\n",
       "      <th>Age_plus_Weight</th>\n",
       "    </tr>\n",
       "  </thead>\n",
       "  <tbody>\n",
       "    <tr>\n",
       "      <th>0</th>\n",
       "      <td>Individual_90</td>\n",
       "      <td>0.849980</td>\n",
       "      <td>0.037990</td>\n",
       "      <td>0.642596</td>\n",
       "      <td>0.645526</td>\n",
       "      <td>0.813390</td>\n",
       "      <td>0.911641</td>\n",
       "      <td>0.334562</td>\n",
       "    </tr>\n",
       "    <tr>\n",
       "      <th>1</th>\n",
       "      <td>Individual_4</td>\n",
       "      <td>0.510748</td>\n",
       "      <td>0.815361</td>\n",
       "      <td>0.880370</td>\n",
       "      <td>0.556667</td>\n",
       "      <td>0.680695</td>\n",
       "      <td>0.920423</td>\n",
       "      <td>0.225987</td>\n",
       "    </tr>\n",
       "    <tr>\n",
       "      <th>2</th>\n",
       "      <td>Individual_0</td>\n",
       "      <td>0.578264</td>\n",
       "      <td>0.612931</td>\n",
       "      <td>0.356424</td>\n",
       "      <td>0.414683</td>\n",
       "      <td>0.007609</td>\n",
       "      <td>0.164091</td>\n",
       "      <td>0.957486</td>\n",
       "    </tr>\n",
       "    <tr>\n",
       "      <th>3</th>\n",
       "      <td>Individual_71</td>\n",
       "      <td>0.968228</td>\n",
       "      <td>0.077142</td>\n",
       "      <td>0.566661</td>\n",
       "      <td>0.334070</td>\n",
       "      <td>0.892604</td>\n",
       "      <td>0.458679</td>\n",
       "      <td>0.238236</td>\n",
       "    </tr>\n",
       "    <tr>\n",
       "      <th>4</th>\n",
       "      <td>Individual_61</td>\n",
       "      <td>0.564998</td>\n",
       "      <td>0.121111</td>\n",
       "      <td>0.845678</td>\n",
       "      <td>0.430249</td>\n",
       "      <td>0.523643</td>\n",
       "      <td>0.668775</td>\n",
       "      <td>0.229093</td>\n",
       "    </tr>\n",
       "    <tr>\n",
       "      <th>...</th>\n",
       "      <td>...</td>\n",
       "      <td>...</td>\n",
       "      <td>...</td>\n",
       "      <td>...</td>\n",
       "      <td>...</td>\n",
       "      <td>...</td>\n",
       "      <td>...</td>\n",
       "      <td>...</td>\n",
       "    </tr>\n",
       "    <tr>\n",
       "      <th>9995</th>\n",
       "      <td>Individual_10</td>\n",
       "      <td>0.603815</td>\n",
       "      <td>0.772756</td>\n",
       "      <td>0.128789</td>\n",
       "      <td>0.309160</td>\n",
       "      <td>0.000575</td>\n",
       "      <td>0.743139</td>\n",
       "      <td>0.213859</td>\n",
       "    </tr>\n",
       "    <tr>\n",
       "      <th>9996</th>\n",
       "      <td>Individual_51</td>\n",
       "      <td>0.736761</td>\n",
       "      <td>0.979256</td>\n",
       "      <td>0.251908</td>\n",
       "      <td>0.540568</td>\n",
       "      <td>0.643396</td>\n",
       "      <td>0.940177</td>\n",
       "      <td>0.291056</td>\n",
       "    </tr>\n",
       "    <tr>\n",
       "      <th>9997</th>\n",
       "      <td>Individual_5</td>\n",
       "      <td>0.404190</td>\n",
       "      <td>0.952369</td>\n",
       "      <td>0.490944</td>\n",
       "      <td>0.477681</td>\n",
       "      <td>0.498151</td>\n",
       "      <td>0.414767</td>\n",
       "      <td>0.256661</td>\n",
       "    </tr>\n",
       "    <tr>\n",
       "      <th>9998</th>\n",
       "      <td>Individual_24</td>\n",
       "      <td>0.702300</td>\n",
       "      <td>0.807164</td>\n",
       "      <td>0.376196</td>\n",
       "      <td>0.220506</td>\n",
       "      <td>1.001628</td>\n",
       "      <td>0.169650</td>\n",
       "      <td>0.513349</td>\n",
       "    </tr>\n",
       "    <tr>\n",
       "      <th>9999</th>\n",
       "      <td>Individual_43</td>\n",
       "      <td>0.937148</td>\n",
       "      <td>0.036124</td>\n",
       "      <td>0.930773</td>\n",
       "      <td>0.210473</td>\n",
       "      <td>0.528676</td>\n",
       "      <td>0.920097</td>\n",
       "      <td>0.555276</td>\n",
       "    </tr>\n",
       "  </tbody>\n",
       "</table>\n",
       "<p>10000 rows × 8 columns</p>\n",
       "</div>"
      ],
      "text/plain": [
       "         Individual  unexplainable_1  unexplainable_2  unexplainable_3  \\\n",
       "0     Individual_90         0.849980         0.037990         0.642596   \n",
       "1      Individual_4         0.510748         0.815361         0.880370   \n",
       "2      Individual_0         0.578264         0.612931         0.356424   \n",
       "3     Individual_71         0.968228         0.077142         0.566661   \n",
       "4     Individual_61         0.564998         0.121111         0.845678   \n",
       "...             ...              ...              ...              ...   \n",
       "9995  Individual_10         0.603815         0.772756         0.128789   \n",
       "9996  Individual_51         0.736761         0.979256         0.251908   \n",
       "9997   Individual_5         0.404190         0.952369         0.490944   \n",
       "9998  Individual_24         0.702300         0.807164         0.376196   \n",
       "9999  Individual_43         0.937148         0.036124         0.930773   \n",
       "\n",
       "      unexplainable_4  if_zebra_then_age  explained_by_loves_to_sleep  \\\n",
       "0            0.645526           0.813390                     0.911641   \n",
       "1            0.556667           0.680695                     0.920423   \n",
       "2            0.414683           0.007609                     0.164091   \n",
       "3            0.334070           0.892604                     0.458679   \n",
       "4            0.430249           0.523643                     0.668775   \n",
       "...               ...                ...                          ...   \n",
       "9995         0.309160           0.000575                     0.743139   \n",
       "9996         0.540568           0.643396                     0.940177   \n",
       "9997         0.477681           0.498151                     0.414767   \n",
       "9998         0.220506           1.001628                     0.169650   \n",
       "9999         0.210473           0.528676                     0.920097   \n",
       "\n",
       "      Age_plus_Weight  \n",
       "0            0.334562  \n",
       "1            0.225987  \n",
       "2            0.957486  \n",
       "3            0.238236  \n",
       "4            0.229093  \n",
       "...               ...  \n",
       "9995         0.213859  \n",
       "9996         0.291056  \n",
       "9997         0.256661  \n",
       "9998         0.513349  \n",
       "9999         0.555276  \n",
       "\n",
       "[10000 rows x 8 columns]"
      ]
     },
     "execution_count": 21,
     "metadata": {},
     "output_type": "execute_result"
    }
   ],
   "source": [
    "my_df.loc[:, [index_name] + observed_features]"
   ]
  },
  {
   "cell_type": "code",
   "execution_count": 22,
   "metadata": {},
   "outputs": [
    {
     "data": {
      "text/html": [
       "<div>\n",
       "<style scoped>\n",
       "    .dataframe tbody tr th:only-of-type {\n",
       "        vertical-align: middle;\n",
       "    }\n",
       "\n",
       "    .dataframe tbody tr th {\n",
       "        vertical-align: top;\n",
       "    }\n",
       "\n",
       "    .dataframe thead th {\n",
       "        text-align: right;\n",
       "    }\n",
       "</style>\n",
       "<table border=\"1\" class=\"dataframe\">\n",
       "  <thead>\n",
       "    <tr style=\"text-align: right;\">\n",
       "      <th>Individual</th>\n",
       "      <th>Individual_0</th>\n",
       "      <th>Individual_1</th>\n",
       "      <th>Individual_10</th>\n",
       "      <th>Individual_11</th>\n",
       "      <th>Individual_12</th>\n",
       "      <th>Individual_13</th>\n",
       "      <th>Individual_14</th>\n",
       "      <th>Individual_15</th>\n",
       "      <th>Individual_16</th>\n",
       "      <th>Individual_17</th>\n",
       "      <th>...</th>\n",
       "      <th>Individual_90</th>\n",
       "      <th>Individual_91</th>\n",
       "      <th>Individual_92</th>\n",
       "      <th>Individual_93</th>\n",
       "      <th>Individual_94</th>\n",
       "      <th>Individual_95</th>\n",
       "      <th>Individual_96</th>\n",
       "      <th>Individual_97</th>\n",
       "      <th>Individual_98</th>\n",
       "      <th>Individual_99</th>\n",
       "    </tr>\n",
       "    <tr>\n",
       "      <th>Individual</th>\n",
       "      <th></th>\n",
       "      <th></th>\n",
       "      <th></th>\n",
       "      <th></th>\n",
       "      <th></th>\n",
       "      <th></th>\n",
       "      <th></th>\n",
       "      <th></th>\n",
       "      <th></th>\n",
       "      <th></th>\n",
       "      <th></th>\n",
       "      <th></th>\n",
       "      <th></th>\n",
       "      <th></th>\n",
       "      <th></th>\n",
       "      <th></th>\n",
       "      <th></th>\n",
       "      <th></th>\n",
       "      <th></th>\n",
       "      <th></th>\n",
       "      <th></th>\n",
       "    </tr>\n",
       "  </thead>\n",
       "  <tbody>\n",
       "    <tr>\n",
       "      <th>Individual_0</th>\n",
       "      <td>0.000000</td>\n",
       "      <td>0.000033</td>\n",
       "      <td>0.000121</td>\n",
       "      <td>0.000034</td>\n",
       "      <td>0.000065</td>\n",
       "      <td>0.000081</td>\n",
       "      <td>0.000025</td>\n",
       "      <td>0.000122</td>\n",
       "      <td>0.000032</td>\n",
       "      <td>0.000124</td>\n",
       "      <td>...</td>\n",
       "      <td>0.000125</td>\n",
       "      <td>0.000128</td>\n",
       "      <td>0.000110</td>\n",
       "      <td>0.000111</td>\n",
       "      <td>0.000108</td>\n",
       "      <td>0.000111</td>\n",
       "      <td>0.000119</td>\n",
       "      <td>0.000085</td>\n",
       "      <td>0.000122</td>\n",
       "      <td>0.000108</td>\n",
       "    </tr>\n",
       "    <tr>\n",
       "      <th>Individual_1</th>\n",
       "      <td>0.000033</td>\n",
       "      <td>0.000000</td>\n",
       "      <td>0.000115</td>\n",
       "      <td>0.000026</td>\n",
       "      <td>0.000050</td>\n",
       "      <td>0.000093</td>\n",
       "      <td>0.000031</td>\n",
       "      <td>0.000120</td>\n",
       "      <td>0.000029</td>\n",
       "      <td>0.000121</td>\n",
       "      <td>...</td>\n",
       "      <td>0.000123</td>\n",
       "      <td>0.000128</td>\n",
       "      <td>0.000097</td>\n",
       "      <td>0.000106</td>\n",
       "      <td>0.000095</td>\n",
       "      <td>0.000102</td>\n",
       "      <td>0.000112</td>\n",
       "      <td>0.000092</td>\n",
       "      <td>0.000131</td>\n",
       "      <td>0.000119</td>\n",
       "    </tr>\n",
       "    <tr>\n",
       "      <th>Individual_10</th>\n",
       "      <td>0.000121</td>\n",
       "      <td>0.000115</td>\n",
       "      <td>0.000000</td>\n",
       "      <td>0.000123</td>\n",
       "      <td>0.000113</td>\n",
       "      <td>0.000125</td>\n",
       "      <td>0.000119</td>\n",
       "      <td>0.000098</td>\n",
       "      <td>0.000116</td>\n",
       "      <td>0.000103</td>\n",
       "      <td>...</td>\n",
       "      <td>0.000093</td>\n",
       "      <td>0.000127</td>\n",
       "      <td>0.000039</td>\n",
       "      <td>0.000103</td>\n",
       "      <td>0.000047</td>\n",
       "      <td>0.000056</td>\n",
       "      <td>0.000019</td>\n",
       "      <td>0.000131</td>\n",
       "      <td>0.000131</td>\n",
       "      <td>0.000131</td>\n",
       "    </tr>\n",
       "    <tr>\n",
       "      <th>Individual_11</th>\n",
       "      <td>0.000034</td>\n",
       "      <td>0.000026</td>\n",
       "      <td>0.000123</td>\n",
       "      <td>0.000000</td>\n",
       "      <td>0.000044</td>\n",
       "      <td>0.000096</td>\n",
       "      <td>0.000029</td>\n",
       "      <td>0.000123</td>\n",
       "      <td>0.000034</td>\n",
       "      <td>0.000123</td>\n",
       "      <td>...</td>\n",
       "      <td>0.000126</td>\n",
       "      <td>0.000128</td>\n",
       "      <td>0.000106</td>\n",
       "      <td>0.000109</td>\n",
       "      <td>0.000104</td>\n",
       "      <td>0.000109</td>\n",
       "      <td>0.000121</td>\n",
       "      <td>0.000086</td>\n",
       "      <td>0.000128</td>\n",
       "      <td>0.000115</td>\n",
       "    </tr>\n",
       "    <tr>\n",
       "      <th>Individual_12</th>\n",
       "      <td>0.000065</td>\n",
       "      <td>0.000050</td>\n",
       "      <td>0.000113</td>\n",
       "      <td>0.000044</td>\n",
       "      <td>0.000000</td>\n",
       "      <td>0.000105</td>\n",
       "      <td>0.000059</td>\n",
       "      <td>0.000112</td>\n",
       "      <td>0.000056</td>\n",
       "      <td>0.000111</td>\n",
       "      <td>...</td>\n",
       "      <td>0.000114</td>\n",
       "      <td>0.000119</td>\n",
       "      <td>0.000094</td>\n",
       "      <td>0.000093</td>\n",
       "      <td>0.000093</td>\n",
       "      <td>0.000101</td>\n",
       "      <td>0.000113</td>\n",
       "      <td>0.000107</td>\n",
       "      <td>0.000131</td>\n",
       "      <td>0.000119</td>\n",
       "    </tr>\n",
       "  </tbody>\n",
       "</table>\n",
       "<p>5 rows × 100 columns</p>\n",
       "</div>"
      ],
      "text/plain": [
       "Individual     Individual_0  Individual_1  Individual_10  Individual_11  \\\n",
       "Individual                                                                \n",
       "Individual_0       0.000000      0.000033       0.000121       0.000034   \n",
       "Individual_1       0.000033      0.000000       0.000115       0.000026   \n",
       "Individual_10      0.000121      0.000115       0.000000       0.000123   \n",
       "Individual_11      0.000034      0.000026       0.000123       0.000000   \n",
       "Individual_12      0.000065      0.000050       0.000113       0.000044   \n",
       "\n",
       "Individual     Individual_12  Individual_13  Individual_14  Individual_15  \\\n",
       "Individual                                                                  \n",
       "Individual_0        0.000065       0.000081       0.000025       0.000122   \n",
       "Individual_1        0.000050       0.000093       0.000031       0.000120   \n",
       "Individual_10       0.000113       0.000125       0.000119       0.000098   \n",
       "Individual_11       0.000044       0.000096       0.000029       0.000123   \n",
       "Individual_12       0.000000       0.000105       0.000059       0.000112   \n",
       "\n",
       "Individual     Individual_16  Individual_17  ...  Individual_90  \\\n",
       "Individual                                   ...                  \n",
       "Individual_0        0.000032       0.000124  ...       0.000125   \n",
       "Individual_1        0.000029       0.000121  ...       0.000123   \n",
       "Individual_10       0.000116       0.000103  ...       0.000093   \n",
       "Individual_11       0.000034       0.000123  ...       0.000126   \n",
       "Individual_12       0.000056       0.000111  ...       0.000114   \n",
       "\n",
       "Individual     Individual_91  Individual_92  Individual_93  Individual_94  \\\n",
       "Individual                                                                  \n",
       "Individual_0        0.000128       0.000110       0.000111       0.000108   \n",
       "Individual_1        0.000128       0.000097       0.000106       0.000095   \n",
       "Individual_10       0.000127       0.000039       0.000103       0.000047   \n",
       "Individual_11       0.000128       0.000106       0.000109       0.000104   \n",
       "Individual_12       0.000119       0.000094       0.000093       0.000093   \n",
       "\n",
       "Individual     Individual_95  Individual_96  Individual_97  Individual_98  \\\n",
       "Individual                                                                  \n",
       "Individual_0        0.000111       0.000119       0.000085       0.000122   \n",
       "Individual_1        0.000102       0.000112       0.000092       0.000131   \n",
       "Individual_10       0.000056       0.000019       0.000131       0.000131   \n",
       "Individual_11       0.000109       0.000121       0.000086       0.000128   \n",
       "Individual_12       0.000101       0.000113       0.000107       0.000131   \n",
       "\n",
       "Individual     Individual_99  \n",
       "Individual                    \n",
       "Individual_0        0.000108  \n",
       "Individual_1        0.000119  \n",
       "Individual_10       0.000131  \n",
       "Individual_11       0.000115  \n",
       "Individual_12       0.000119  \n",
       "\n",
       "[5 rows x 100 columns]"
      ]
     },
     "execution_count": 22,
     "metadata": {},
     "output_type": "execute_result"
    }
   ],
   "source": [
    "df_observable_distances = observable_patterns_result['pw_norm_dist']\n",
    "df_observable_distances.head()"
   ]
  },
  {
   "cell_type": "code",
   "execution_count": 23,
   "metadata": {},
   "outputs": [],
   "source": [
    "fingerprint_df = ClusteringApplier._calculate_fingerprints(\n",
    "    df = my_df,\n",
    "    group_name = index_name,\n",
    "    use_config=False,\n",
    ")"
   ]
  },
  {
   "cell_type": "code",
   "execution_count": 24,
   "metadata": {},
   "outputs": [],
   "source": [
    "fingerprint_distanzen, normierte_fingerprint_distanzen = ClusteringApplier.calculate_pairwise_fingerprint_distances(\n",
    "    df = fingerprint_df,\n",
    "    distance = 'jensenshannon'\n",
    ")"
   ]
  },
  {
   "cell_type": "code",
   "execution_count": 25,
   "metadata": {},
   "outputs": [],
   "source": [
    "@torch.jit.script\n",
    "def torch_relative_entropy(x:torch.Tensor, y:torch.Tensor) -> torch.Tensor:\n",
    "    return (x * torch.log(x/y))"
   ]
  },
  {
   "cell_type": "code",
   "execution_count": 26,
   "metadata": {},
   "outputs": [],
   "source": [
    "@torch.jit.script\n",
    "def new_torch_matrix_jensenshannon(A:torch.Tensor) -> torch.Tensor:\n",
    "\n",
    "    ########################################################################################\n",
    "    ### Conversion of the jensenshannon distance from scipy.spatial.distance to pytorch. ###\n",
    "    ########################################################################################\n",
    "\n",
    "    \"\"\"\n",
    "    Compute the pairwise Jensen-Shannon distance (metric) between\n",
    "    all entries in a matrix. This is the square root\n",
    "    of the Jensen-Shannon divergence.\n",
    "\n",
    "    The Jensen-Shannon distance between two probability\n",
    "    vectors `p` and `q` is defined as,\n",
    "\n",
    "    .. math::\n",
    "\n",
    "       \\\\sqrt{\\\\frac{D(p \\\\parallel m) + D(q \\\\parallel m)}{2}}\n",
    "\n",
    "    where :math:`m` is the pointwise mean of :math:`p` and :math:`q`\n",
    "    and :math:`D` is the Kullback-Leibler divergence.\n",
    "\n",
    "    This routine will normalize `p` and `q` if they don't sum to 1.0.\n",
    "\n",
    "    Parameters\n",
    "    ----------\n",
    "    A : (N,M) array_like\n",
    "        matrix of probability vectors\n",
    "    \n",
    "    Returns\n",
    "    -------\n",
    "    js : double or ndarray\n",
    "        The Jensen-Shannon distances along the `axis`.\n",
    "\n",
    "    \"\"\"\n",
    "    \n",
    "    clamped_A = A.clamp(min = 1e-20)\n",
    "    normalized_A = clamped_A / torch.sum(clamped_A, dim=1).unsqueeze(-1)\n",
    "    m_A = (normalized_A.unsqueeze(-1) + normalized_A.T).permute(2,0,1) / 2.0\n",
    "    relative_entropies = torch_relative_entropy(normalized_A, m_A) + 1e-10\n",
    "    js = (relative_entropies.sum(dim = 2) + relative_entropies.sum(dim = 2).T).clamp(min = 0.)\n",
    "    return (js / 2.0).sqrt()"
   ]
  },
  {
   "cell_type": "code",
   "execution_count": 27,
   "metadata": {},
   "outputs": [],
   "source": [
    "class FeatureSelectionModel(Paremeterized_Model):\n",
    "    def __init__(self, df_explainable:pd.DataFrame, df_observable:pd.DataFrame, df_cluster:pd.DataFrame|torch.Tensor, index_name:str, num_samples:int=1, power:int=4, penalty=0., device='cpu', clip_value=0, dtype=torch.float64):\n",
    "        super().__init__(device, dtype)\n",
    "\n",
    "        self.df_explainable = df_explainable.copy()\n",
    "        self.df_explainable.sort_index(inplace=True)\n",
    "\n",
    "        self.df_observable = df_observable.copy()\n",
    "        self.df_observable.sort_values(index_name, inplace=True)\n",
    "        self.df_observable.reset_index(inplace=True, drop=True)\n",
    "\n",
    "        self.tensor_explainable = torch.tensor(self.df_explainable.to_numpy(), dtype=self.dtype, device=self.device).clamp(min=1e-20, max=1.)\n",
    "        self.tensor_observable  = torch.tensor(self.df_observable.set_index(index_name).to_numpy(), dtype=self.dtype, device=self.device).clamp(min=1e-20, max=1.)\n",
    "\n",
    "        if isinstance(df_cluster, pd.DataFrame):\n",
    "            self.cluster_positions  = torch.tensor(df_cluster.to_numpy(), dtype=self.dtype, device=self.device).clamp(min=1e-20)\n",
    "        else:\n",
    "            self.cluster_positions = df_cluster.to(self.dtype).to(self.device)\n",
    "\n",
    "        self.unique_groups = sorted(self.df_observable.loc[:, index_name].unique())\n",
    "        self.number_of_groups = len(self.unique_groups)\n",
    "        self.number_of_observations = self.df_observable.shape[0]\n",
    "        self.mask_tensor = torch.zeros((self.number_of_observations, self.number_of_groups), device=self.device, dtype=self.dtype)\n",
    "\n",
    "        for name, i in zip(self.unique_groups, np.arange(len(self.unique_groups))):\n",
    "            _masking_list = (list(self.df_observable.query(f'{index_name} == \"{name}\"').index))\n",
    "            self.mask_tensor[_masking_list, i] = 1.\n",
    "            if name == 'Individual_0':\n",
    "                self.masking_1 = _masking_list\n",
    "\n",
    "        # Some sanity check\n",
    "        for name, i in zip(self.unique_groups, np.arange(len(self.unique_groups))):\n",
    "            lis = (self.mask_tensor.unsqueeze(2) * self.tensor_observable.unsqueeze(1))[:, i, :].nonzero()[:, 0].unique().numpy()\n",
    "            a = self.df_observable.iloc[lis].loc[:, index_name]\n",
    "            assert (a == name).all(), f'Failed sanity check for \"{name}\": {a}'\n",
    "\n",
    "        self.power = power\n",
    "\n",
    "        self.feature_names = list(self.df_explainable.columns)\n",
    "        self.observation_names = list(df_observable.set_index(index_name).columns)\n",
    "\n",
    "        self.penalty = torch.tensor(penalty, device=self.device, dtype=self.dtype)\n",
    "        self.num_samples = num_samples\n",
    "        \n",
    "        self._add_sigmoid_param('feature_weights', N=len(self.feature_names), value=0.500, noise=0.100)\n",
    "        self._add_sigmoid_param('observation_weights', N=len(self.observation_names), value=0.500, noise=0.250)\n",
    "\n",
    "        self.add_param('cluster_positions', self.cluster_positions.logit(), lambda x: x.sigmoid())\n",
    "        \n",
    "        self.best_loss = None \n",
    "        self.best_feature_weights = None\n",
    "        self.best_observation_weights = None\n",
    "\n",
    "        if clip_value > 0:\n",
    "            for p in self.parameters.parameters():\n",
    "                print(p)\n",
    "                p.register_hook(lambda grad: torch.clamp(grad, -clip_value, clip_value))\n",
    " \n",
    "\n",
    "    def _add_param_from_mean_std(self, param_name='', N=1, mean=0.5, std=0.05, noise=0.1):\n",
    "        alpha, beta = mean_std_to_beta_params(mean, std)\n",
    "        \n",
    "        noise_1 = torch.rand(N)\n",
    "        noise_2 = torch.rand(N)\n",
    "\n",
    "        feature_alpha_init = alpha * torch.ones(N) * (1.-noise) + noise_1 * noise\n",
    "        feature_beta_init  = beta  * torch.ones(N) * (1.-noise) + noise_2 * noise\n",
    "\n",
    "        self.add_param(f'{param_name}_alpha', torch.log(feature_alpha_init), lambda x: x.exp())\n",
    "        self.add_param(f'{param_name}_beta',  torch.log(feature_beta_init),  lambda x: x.exp())\n",
    "\n",
    "    def _add_sigmoid_param(self, param_name='', N=1, value=None, noise=0.1):\n",
    "\n",
    "        noise_1 = torch.rand(N)\n",
    "        noisy_value = value * torch.ones(N) * (1.-noise) + noise_1 * noise\n",
    "        init_value = torch.logit(noisy_value)\n",
    "\n",
    "        self.add_param(param_name, init_value, lambda x: x.sigmoid()) # [-1., 1.] --> [0, 2]\n",
    "        #foo = lambda x: x/(1+x.abs())\n",
    "        #self.add_param(param_name, init_value, lambda x: (foo(x) + 1.)/2.)\n",
    "\n",
    "    def get_weights(self) -> dict:\n",
    "        w = self.best_feature_weights\n",
    "        feature_dict = {\n",
    "            feature_name:float(weight) for feature_name, weight in zip(self.feature_names, w)\n",
    "        }\n",
    "        v = self.best_observation_weights\n",
    "        observation_dict = {\n",
    "            feature_name:float(weight) for feature_name, weight in zip(self.observation_names, v)\n",
    "        }\n",
    "        return feature_dict, observation_dict\n",
    "        \n",
    "    def save_if_best_loss(self, loss, feature_weights, observation_weights, cluster_positions):\n",
    "        if self.best_loss is None:\n",
    "            self.best_loss = loss.clone().detach()\n",
    "            self.best_feature_weights = feature_weights.clone().detach()\n",
    "            self.best_observation_weights = 1.00 + 1e-6 - observation_weights.clone().detach()\n",
    "            self.best_cluster_positions = cluster_positions.clone().detach()\n",
    "        elif loss < self.best_loss:\n",
    "            self.best_loss = loss.clone().detach()\n",
    "            self.best_feature_weights = feature_weights.clone().detach()\n",
    "            self.best_observation_weights = 1.00 + 1e-6 - observation_weights.clone().detach()\n",
    "            self.best_cluster_positions = cluster_positions.clone().detach()\n",
    "    \n",
    "    def plot(self):\n",
    "\n",
    "        feature_weights = self.constrained('feature_weights').clone().detach().unsqueeze(0).numpy()\n",
    "        observation_weights = self.constrained('observation_weights').clone().detach().unsqueeze(0).numpy()\n",
    "        inv_observation_weights = 1.00 + 1e-6 - observation_weights \n",
    "\n",
    "        feature_weight_df = pd.DataFrame({self.feature_names[i]:feature_weights[:, i] for i in range(len(self.feature_names))})\n",
    "        observation_weight_df = pd.DataFrame({self.observation_names[i]:inv_observation_weights[:, i] for i in range(len(self.observation_names))})\n",
    "\n",
    "        plt.figure(figsize=(10, 5))\n",
    "        ax1 = sns.barplot(feature_weight_df)\n",
    "        ax1.axes.xaxis.set_tick_params(rotation=90)\n",
    "        ax1.set_title('Feature Weights')\n",
    "        plt.figure(figsize=(10, 5))\n",
    "        ax2 = sns.barplot(observation_weight_df)\n",
    "        ax2.axes.xaxis.set_tick_params(rotation=90)\n",
    "        ax2.set_title('Observation Weights') \n",
    "\n",
    "    def sample_fingerprints(self, inv_observation_weights, cluster_positions):\n",
    "        epsilon = 1e-20\n",
    "        _dist = ((self.tensor_observable.unsqueeze(1) - cluster_positions.unsqueeze(0)).pow(2).clamp(min=epsilon) * inv_observation_weights).sum(2).sqrt()\n",
    "        norm_dist = (_dist / _dist.sum(dim=1).unsqueeze(-1))\n",
    "        masked_norm_dist = (self.mask_tensor.unsqueeze(2) * norm_dist.unsqueeze(1))\n",
    "        accumulated_norm_dist = masked_norm_dist.sum(dim=0)\n",
    "        fingerprint_distances = accumulated_norm_dist / accumulated_norm_dist.sum(dim=1).unsqueeze(-1)\n",
    "        pow_fingerprints = ((fingerprint_distances.clamp(min=epsilon))**-1).pow(self.power) \n",
    "        sampled_fingerprints = Dirichlet(pow_fingerprints).rsample([self.num_samples]).mean(dim=0)\n",
    "        return sampled_fingerprints\n",
    "\n",
    "    def loss(self, data:torch.Tensor|None=None) -> torch.tensor:\n",
    "\n",
    "        # feature_weights\n",
    "        feature_weights = self.constrained('feature_weights')\n",
    "\n",
    "        # observation_weights\n",
    "        observation_weights = self.constrained('observation_weights')\n",
    "        inv_observation_weights = 1.00 + 1e-6 - observation_weights \n",
    "\n",
    "        # cluster positions\n",
    "        cluster_positions = self.constrained('cluster_positions').clamp(min = 1e-10, max=1e10)\n",
    "\n",
    "        # fingerprints\n",
    "        sampled_fingerprints = self.sample_fingerprints(inv_observation_weights, cluster_positions)\n",
    "\n",
    "        # Construct the distance matrix for the fingerprints\n",
    "        fingerprint_distances = new_torch_matrix_jensenshannon(sampled_fingerprints)\n",
    "\n",
    "        # Construct the distance matrix for the features\n",
    "        feature_distances = construct_distance_matrix(A=self.tensor_explainable, feature_weights=feature_weights)\n",
    "\n",
    "        # Calculate the correlation between the distance matrix and the observable distances\n",
    "        coef = pearson_corrcoef(feature_distances, fingerprint_distances)\n",
    "\n",
    "        #k_penalty = (feature_weights.sum() * self.penalty)\n",
    "\n",
    "        # Loss\n",
    "        loss = -coef #+ k_penalty\n",
    "\n",
    "        self.save_if_best_loss(loss, feature_weights, observation_weights, cluster_positions)\n",
    "\n",
    "        return loss\n"
   ]
  },
  {
   "cell_type": "code",
   "execution_count": 45,
   "metadata": {},
   "outputs": [],
   "source": [
    "model = next_model"
   ]
  },
  {
   "cell_type": "code",
   "execution_count": 59,
   "metadata": {},
   "outputs": [
    {
     "data": {
      "text/plain": [
       "({'Age': 0.9740008552022131,\n",
       "  'Weight': 3.085709689557403e-06,\n",
       "  'Is_a_Zebra': 0.0004493483367509366,\n",
       "  'Noise_1': 1.195693145906195e-05,\n",
       "  'Noise_2': 7.860534239871767e-07,\n",
       "  'Noise_3': 0.047069959545380166,\n",
       "  'Noise_4': 0.00421150519014505,\n",
       "  'Noise_5': 0.04381621533527433},\n",
       " {'unexplainable_1': 1.6364396232537715e-05,\n",
       "  'unexplainable_2': 4.587268915390297e-06,\n",
       "  'unexplainable_3': 7.328757041347167e-06,\n",
       "  'unexplainable_4': 0.39225915914171217,\n",
       "  'if_zebra_then_age': 0.9869823759462077,\n",
       "  'Age_plus_Weight': 0.4797250982136394})"
      ]
     },
     "execution_count": 59,
     "metadata": {},
     "output_type": "execute_result"
    }
   ],
   "source": [
    "f, e = model.get_weights()\n",
    "f, e"
   ]
  },
  {
   "cell_type": "code",
   "execution_count": 87,
   "metadata": {},
   "outputs": [],
   "source": [
    "f_l = list(f.keys())\n",
    "f_w = torch.rand(len(f_l))\n",
    "f_p = torch.rand(len(f_l))"
   ]
  },
  {
   "cell_type": "code",
   "execution_count": 88,
   "metadata": {},
   "outputs": [
    {
     "data": {
      "text/plain": [
       "{'virtual_feature_components': ['Age',\n",
       "  'Weight',\n",
       "  'Is_a_Zebra',\n",
       "  'Noise_1',\n",
       "  'Noise_2',\n",
       "  'Noise_3',\n",
       "  'Noise_4',\n",
       "  'Noise_5'],\n",
       " 'virtual_feature_weights': tensor([0.1991, 0.7992, 0.1898, 0.6935, 0.2644, 0.7504, 0.9604, 0.3925]),\n",
       " 'virtual_feature_positions': tensor([0.2573, 0.6202, 0.3706, 0.3607, 0.1147, 0.1130, 0.0082, 0.2682])}"
      ]
     },
     "execution_count": 88,
     "metadata": {},
     "output_type": "execute_result"
    }
   ],
   "source": [
    "virtual_feature = {\n",
    "    'virtual_feature_components': f_l,\n",
    "    'virtual_feature_weights': f_w,\n",
    "    'virtual_feature_positions': f_p\n",
    "}\n",
    "\n",
    "virtual_feature"
   ]
  },
  {
   "cell_type": "code",
   "execution_count": 89,
   "metadata": {},
   "outputs": [
    {
     "data": {
      "text/plain": [
       "tensor([9.9864e-01, 9.1590e-01, 1.0000e-20, 9.1550e-01, 3.6080e-01, 5.2798e-01,\n",
       "        4.0048e-01, 8.6623e-01], dtype=torch.float64)"
      ]
     },
     "execution_count": 89,
     "metadata": {},
     "output_type": "execute_result"
    }
   ],
   "source": [
    "i1 = model.tensor_explainable[0]\n",
    "i1"
   ]
  },
  {
   "cell_type": "code",
   "execution_count": 133,
   "metadata": {},
   "outputs": [
    {
     "data": {
      "text/plain": [
       "tensor(1.)"
      ]
     },
     "execution_count": 133,
     "metadata": {},
     "output_type": "execute_result"
    }
   ],
   "source": [
    "torch.tensor(0.266)**1e-15"
   ]
  },
  {
   "cell_type": "code",
   "execution_count": 131,
   "metadata": {},
   "outputs": [
    {
     "data": {
      "text/plain": [
       "<Axes: xlabel='None', ylabel='None'>"
      ]
     },
     "execution_count": 131,
     "metadata": {},
     "output_type": "execute_result"
    },
    {
     "data": {
      "image/png": "[encoded data removed]",
      "text/plain": [
       "<Figure size 640x480 with 1 Axes>"
      ]
     },
     "metadata": {},
     "output_type": "display_data"
    }
   ],
   "source": [
    "X = torch.arange(100.) / 100.\n",
    "Y = lambda y: torch.ones(100) * y\n",
    "sns.lineplot(\n",
    "    x = X,\n",
    "    y = Y(0.5)**(X),\n",
    ")\n",
    "sns.lineplot(\n",
    "    x = X,\n",
    "    y = Y(0.75)**(X),\n",
    ")\n",
    "sns.lineplot(\n",
    "    x = X,\n",
    "    y = Y(0.05)**(X),\n",
    ")"
   ]
  },
  {
   "cell_type": "code",
   "execution_count": 125,
   "metadata": {},
   "outputs": [
    {
     "data": {
      "text/plain": [
       "tensor([0.1991, 0.7992, 0.1898, 0.6935, 0.2644, 0.7504, 0.9604, 0.3925])"
      ]
     },
     "execution_count": 125,
     "metadata": {},
     "output_type": "execute_result"
    }
   ],
   "source": [
    "virtual_feature['virtual_feature_weights']"
   ]
  },
  {
   "cell_type": "code",
   "execution_count": 126,
   "metadata": {},
   "outputs": [
    {
     "data": {
      "text/plain": [
       "tensor([0.2573, 0.6202, 0.3706, 0.3607, 0.1147, 0.1130, 0.0082, 0.2682])"
      ]
     },
     "execution_count": 126,
     "metadata": {},
     "output_type": "execute_result"
    }
   ],
   "source": [
    "virtual_feature['virtual_feature_positions']"
   ]
  },
  {
   "cell_type": "code",
   "execution_count": 141,
   "metadata": {},
   "outputs": [
    {
     "data": {
      "text/plain": [
       "tensor(0.0232, dtype=torch.float64)"
      ]
     },
     "execution_count": 141,
     "metadata": {},
     "output_type": "execute_result"
    }
   ],
   "source": [
    "(i1 - virtual_feature['virtual_feature_positions']).abs().pow(virtual_feature['virtual_feature_weights']).prod()"
   ]
  },
  {
   "cell_type": "code",
   "execution_count": 307,
   "metadata": {},
   "outputs": [
    {
     "data": {
      "text/plain": [
       "array([0.35, 0.55, 0.76, 0.  , 0.  , 0.17], dtype=float32)"
      ]
     },
     "execution_count": 307,
     "metadata": {},
     "output_type": "execute_result"
    }
   ],
   "source": [
    "from torch.distributions.uniform import Uniform\n",
    "U = lambda shape: Uniform(0, 1).sample(shape)\n",
    "\n",
    "observations = torch.tensor([\n",
    "    [0.9997, 0.35, 0.45],\n",
    "    [0.9934, 0.56, 0.65],\n",
    "    [0.9789, 0.78, 0.54],\n",
    "    [0.0034, 0.45, 0.74],\n",
    "    [0.0015, 0.98, 0.47],\n",
    "    [0.4500, 0.39, 0.32]\n",
    "])\n",
    "\n",
    "targets = torch.tensor([\n",
    "    [0.35],\n",
    "    [0.56],\n",
    "    [0.78],\n",
    "    [0.72],\n",
    "    [0.64],\n",
    "    [0.42]\n",
    "])\n",
    "\n",
    "antecedens_weights = torch.tensor([0.999, 0.001, 0.001])\n",
    "consequent_weights = torch.tensor([0.001, 0.999, 0.002])\n",
    "virtual_feature_postions = torch.tensor([0.001, 0.003, 0.002])\n",
    "virtual_feature_weights  = torch.tensor([0.999, 0.999, 0.001])\n",
    "\n",
    "virtual_observation = (observations - virtual_feature_postions).abs().pow(virtual_feature_weights).prod(dim=1)\n",
    "virtual_observation.numpy().round(2)"
   ]
  },
  {
   "cell_type": "code",
   "execution_count": 308,
   "metadata": {},
   "outputs": [
    {
     "data": {
      "text/plain": [
       "tensor([9.9684e-01, 9.9140e-01, 9.7707e-01, 2.4118e-03, 5.0342e-04, 4.4842e-01])"
      ]
     },
     "execution_count": 308,
     "metadata": {},
     "output_type": "execute_result"
    }
   ],
   "source": [
    "antecedens = (observations - virtual_feature_postions).abs().pow(antecedens_weights).prod(dim=1)\n",
    "antecedens"
   ]
  },
  {
   "cell_type": "code",
   "execution_count": 309,
   "metadata": {},
   "outputs": [
    {
     "data": {
      "text/plain": [
       "tensor([0.3468, 0.5568, 0.7762, 0.4444, 0.9682, 0.3862])"
      ]
     },
     "execution_count": 309,
     "metadata": {},
     "output_type": "execute_result"
    }
   ],
   "source": [
    "consequent = (observations - virtual_feature_postions).abs().pow(consequent_weights).prod(dim=1)\n",
    "consequent"
   ]
  },
  {
   "cell_type": "code",
   "execution_count": 317,
   "metadata": {},
   "outputs": [
    {
     "data": {
      "text/plain": [
       "tensor([0.3474, 0.5583, 0.7802, 0.3861, 0.7491, 0.3137])"
      ]
     },
     "execution_count": 317,
     "metadata": {},
     "output_type": "execute_result"
    }
   ],
   "source": [
    "(antecedens*consequent) + ((1. - antecedens)*U(consequent.shape))"
   ]
  },
  {
   "cell_type": "code",
   "execution_count": 277,
   "metadata": {},
   "outputs": [],
   "source": []
  },
  {
   "cell_type": "code",
   "execution_count": 261,
   "metadata": {},
   "outputs": [],
   "source": [
    "U = Uniform(0,1).sample(observations.shape)"
   ]
  },
  {
   "cell_type": "code",
   "execution_count": 265,
   "metadata": {},
   "outputs": [
    {
     "data": {
      "text/plain": [
       "tensor([9.9870e-01, 9.9240e-01, 9.7790e-01, 2.4000e-03, 5.0000e-04, 4.4900e-01])"
      ]
     },
     "execution_count": 265,
     "metadata": {},
     "output_type": "execute_result"
    }
   ],
   "source": [
    "(observations - virtual_feature_postions).abs()[:, 0]"
   ]
  },
  {
   "cell_type": "code",
   "execution_count": 267,
   "metadata": {},
   "outputs": [
    {
     "data": {
      "text/plain": [
       "tensor([9.9870e-01, 9.9241e-01, 9.7792e-01, 2.4145e-03, 5.0381e-04, 4.4936e-01])"
      ]
     },
     "execution_count": 267,
     "metadata": {},
     "output_type": "execute_result"
    }
   ],
   "source": [
    "(observations - virtual_feature_postions).abs().pow(virtual_feature_weights)[:, 0]"
   ]
  },
  {
   "cell_type": "code",
   "execution_count": 262,
   "metadata": {},
   "outputs": [
    {
     "data": {
      "text/plain": [
       "tensor([[9.9870e-01, 3.4700e-01, 4.4800e-01],\n",
       "        [9.9240e-01, 5.5700e-01, 6.4800e-01],\n",
       "        [9.7790e-01, 7.7700e-01, 5.3800e-01],\n",
       "        [2.4000e-03, 4.4700e-01, 7.3800e-01],\n",
       "        [5.0000e-04, 9.7700e-01, 4.6800e-01],\n",
       "        [4.4900e-01, 3.8700e-01, 3.1800e-01]])"
      ]
     },
     "execution_count": 262,
     "metadata": {},
     "output_type": "execute_result"
    }
   ],
   "source": [
    "(observations - virtual_feature_postions).abs()"
   ]
  },
  {
   "cell_type": "code",
   "execution_count": null,
   "metadata": {},
   "outputs": [],
   "source": [
    "# Subjunktion\n",
    "# A -> B\n",
    "# A*B + (1-A)*U"
   ]
  },
  {
   "cell_type": "code",
   "execution_count": null,
   "metadata": {},
   "outputs": [],
   "source": [
    "[0.35, 0.55, 0.76, U, U, (0.17)+(0.83*U)]"
   ]
  },
  {
   "cell_type": "code",
   "execution_count": 256,
   "metadata": {},
   "outputs": [
    {
     "data": {
      "text/plain": [
       "tensor([[9.9870e-01, 3.4737e-01, 9.9920e-01],\n",
       "        [9.9241e-01, 5.5733e-01, 9.9957e-01],\n",
       "        [9.7792e-01, 7.7720e-01, 9.9938e-01],\n",
       "        [2.4145e-03, 4.4736e-01, 9.9970e-01],\n",
       "        [5.0381e-04, 9.7702e-01, 9.9924e-01],\n",
       "        [1.2053e-02, 3.8737e-01, 9.9885e-01]])"
      ]
     },
     "execution_count": 256,
     "metadata": {},
     "output_type": "execute_result"
    }
   ],
   "source": [
    "(observations - virtual_feature_postions).abs().pow(virtual_feature_weights)"
   ]
  },
  {
   "cell_type": "code",
   "execution_count": null,
   "metadata": {},
   "outputs": [],
   "source": [
    "'''\n",
    "Haben:\n",
    "Konjunktion, Negation\n",
    "\n",
    "De Morgansche Gesetze:\n",
    "~(a and b) = ~a or ~b\n",
    "a or b = ~((~a) and (~b))\n",
    "\n",
    "\n",
    "\n",
    "\n",
    "'''"
   ]
  },
  {
   "cell_type": "code",
   "execution_count": 128,
   "metadata": {},
   "outputs": [
    {
     "data": {
      "text/plain": [
       "tensor([1.6364e-05, 4.5873e-06, 7.3288e-06, 3.9226e-01, 9.8698e-01, 4.7973e-01],\n",
       "       dtype=torch.float64)"
      ]
     },
     "execution_count": 128,
     "metadata": {},
     "output_type": "execute_result"
    }
   ],
   "source": [
    "model.best_observation_weights"
   ]
  },
  {
   "cell_type": "code",
   "execution_count": 129,
   "metadata": {},
   "outputs": [],
   "source": [
    "my_feature_weights = model.best_feature_weights"
   ]
  },
  {
   "cell_type": "code",
   "execution_count": 130,
   "metadata": {},
   "outputs": [],
   "source": [
    "my_feature_weights\n",
    "my_feature_weights = torch.tensor([0.999, 1e-7, 0.999, 1e-7, 1e-7, 1e-7, 1e-7, 1e-7])"
   ]
  },
  {
   "cell_type": "code",
   "execution_count": 50,
   "metadata": {},
   "outputs": [],
   "source": [
    "model.best_observation_weights\n",
    "my_observation_weights = torch.tensor([1e-7, 1e-7, 1e-7, 1e-7, 0.999, 1e-7])#model.best_observation_weights"
   ]
  },
  {
   "cell_type": "code",
   "execution_count": 51,
   "metadata": {},
   "outputs": [],
   "source": [
    "my_observation_weights = model.best_observation_weights"
   ]
  },
  {
   "cell_type": "code",
   "execution_count": 52,
   "metadata": {},
   "outputs": [
    {
     "data": {
      "text/plain": [
       "torch.Size([100, 100])"
      ]
     },
     "execution_count": 52,
     "metadata": {},
     "output_type": "execute_result"
    }
   ],
   "source": [
    "sampled_fingerprints = model.sample_fingerprints(model.best_observation_weights, model.best_cluster_positions)\n",
    "fingerprint_distances = new_torch_matrix_jensenshannon(sampled_fingerprints)\n",
    "fingerprint_distances.shape"
   ]
  },
  {
   "cell_type": "code",
   "execution_count": 53,
   "metadata": {},
   "outputs": [],
   "source": [
    "fdm1 = construct_distance_matrix(A=model.tensor_explainable, feature_weights=my_feature_weights)"
   ]
  },
  {
   "cell_type": "code",
   "execution_count": 54,
   "metadata": {},
   "outputs": [],
   "source": [
    "fdm2 = construct_distance_matrix(A=model.tensor_explainable * my_feature_weights, feature_weights=torch.tensor(1.))"
   ]
  },
  {
   "cell_type": "code",
   "execution_count": 55,
   "metadata": {},
   "outputs": [
    {
     "data": {
      "text/plain": [
       "tensor(0.3438, dtype=torch.float64)"
      ]
     },
     "execution_count": 55,
     "metadata": {},
     "output_type": "execute_result"
    }
   ],
   "source": [
    "pearson_corrcoef(fdm1, fingerprint_distances)"
   ]
  },
  {
   "cell_type": "code",
   "execution_count": 56,
   "metadata": {},
   "outputs": [
    {
     "data": {
      "text/plain": [
       "tensor(0.2741, dtype=torch.float64)"
      ]
     },
     "execution_count": 56,
     "metadata": {},
     "output_type": "execute_result"
    }
   ],
   "source": [
    "pearson_corrcoef(fdm2, fingerprint_distances)"
   ]
  },
  {
   "cell_type": "code",
   "execution_count": 57,
   "metadata": {},
   "outputs": [
    {
     "data": {
      "text/plain": [
       "Age           0.500882\n",
       "Weight        0.539986\n",
       "Is_a_Zebra    1.000167\n",
       "Noise_1       0.332540\n",
       "Noise_2       0.835651\n",
       "Noise_3       0.103162\n",
       "Noise_4       0.303421\n",
       "Noise_5       0.398485\n",
       "Name: Individual_87, dtype: float64"
      ]
     },
     "execution_count": 57,
     "metadata": {},
     "output_type": "execute_result"
    }
   ],
   "source": [
    "model.df_explainable.iloc[86]"
   ]
  },
  {
   "cell_type": "code",
   "execution_count": 1128,
   "metadata": {},
   "outputs": [
    {
     "data": {
      "text/html": [
       "<div>\n",
       "<style scoped>\n",
       "    .dataframe tbody tr th:only-of-type {\n",
       "        vertical-align: middle;\n",
       "    }\n",
       "\n",
       "    .dataframe tbody tr th {\n",
       "        vertical-align: top;\n",
       "    }\n",
       "\n",
       "    .dataframe thead th {\n",
       "        text-align: right;\n",
       "    }\n",
       "</style>\n",
       "<table border=\"1\" class=\"dataframe\">\n",
       "  <thead>\n",
       "    <tr style=\"text-align: right;\">\n",
       "      <th></th>\n",
       "      <th>Age</th>\n",
       "      <th>Weight</th>\n",
       "      <th>Is_a_Zebra</th>\n",
       "      <th>Noise_1</th>\n",
       "      <th>Noise_2</th>\n",
       "      <th>Noise_3</th>\n",
       "      <th>Noise_4</th>\n",
       "      <th>Noise_5</th>\n",
       "    </tr>\n",
       "    <tr>\n",
       "      <th>Individual</th>\n",
       "      <th></th>\n",
       "      <th></th>\n",
       "      <th></th>\n",
       "      <th></th>\n",
       "      <th></th>\n",
       "      <th></th>\n",
       "      <th></th>\n",
       "      <th></th>\n",
       "    </tr>\n",
       "  </thead>\n",
       "  <tbody>\n",
       "    <tr>\n",
       "      <th>Individual_25</th>\n",
       "      <td>-0.001811</td>\n",
       "      <td>0.802471</td>\n",
       "      <td>0.999542</td>\n",
       "      <td>0.00027</td>\n",
       "      <td>0.530347</td>\n",
       "      <td>0.311026</td>\n",
       "      <td>0.31275</td>\n",
       "      <td>0.941873</td>\n",
       "    </tr>\n",
       "  </tbody>\n",
       "</table>\n",
       "</div>"
      ],
      "text/plain": [
       "                    Age    Weight  Is_a_Zebra  Noise_1   Noise_2   Noise_3  \\\n",
       "Individual                                                                   \n",
       "Individual_25 -0.001811  0.802471    0.999542  0.00027  0.530347  0.311026   \n",
       "\n",
       "               Noise_4   Noise_5  \n",
       "Individual                        \n",
       "Individual_25  0.31275  0.941873  "
      ]
     },
     "execution_count": 1128,
     "metadata": {},
     "output_type": "execute_result"
    }
   ],
   "source": [
    "#mi = model.df_explainable.Loves_to_sleep.min()\n",
    "#p = model.df_explainable.query(f'Loves_to_sleep == {mi}')\n",
    "mi = model.df_explainable.Age.min()\n",
    "p = model.df_explainable.query(f'Age == {mi}')\n",
    "p"
   ]
  },
  {
   "cell_type": "code",
   "execution_count": 1129,
   "metadata": {},
   "outputs": [
    {
     "data": {
      "text/html": [
       "<div>\n",
       "<style scoped>\n",
       "    .dataframe tbody tr th:only-of-type {\n",
       "        vertical-align: middle;\n",
       "    }\n",
       "\n",
       "    .dataframe tbody tr th {\n",
       "        vertical-align: top;\n",
       "    }\n",
       "\n",
       "    .dataframe thead th {\n",
       "        text-align: right;\n",
       "    }\n",
       "</style>\n",
       "<table border=\"1\" class=\"dataframe\">\n",
       "  <thead>\n",
       "    <tr style=\"text-align: right;\">\n",
       "      <th></th>\n",
       "      <th>Age</th>\n",
       "      <th>Weight</th>\n",
       "      <th>Is_a_Zebra</th>\n",
       "      <th>Noise_1</th>\n",
       "      <th>Noise_2</th>\n",
       "      <th>Noise_3</th>\n",
       "      <th>Noise_4</th>\n",
       "      <th>Noise_5</th>\n",
       "    </tr>\n",
       "    <tr>\n",
       "      <th>Individual</th>\n",
       "      <th></th>\n",
       "      <th></th>\n",
       "      <th></th>\n",
       "      <th></th>\n",
       "      <th></th>\n",
       "      <th></th>\n",
       "      <th></th>\n",
       "      <th></th>\n",
       "    </tr>\n",
       "  </thead>\n",
       "  <tbody>\n",
       "    <tr>\n",
       "      <th>Individual_63</th>\n",
       "      <td>1.002025</td>\n",
       "      <td>0.097236</td>\n",
       "      <td>0.999748</td>\n",
       "      <td>0.934427</td>\n",
       "      <td>0.810331</td>\n",
       "      <td>0.688965</td>\n",
       "      <td>0.633527</td>\n",
       "      <td>0.261519</td>\n",
       "    </tr>\n",
       "  </tbody>\n",
       "</table>\n",
       "</div>"
      ],
      "text/plain": [
       "                    Age    Weight  Is_a_Zebra   Noise_1   Noise_2   Noise_3  \\\n",
       "Individual                                                                    \n",
       "Individual_63  1.002025  0.097236    0.999748  0.934427  0.810331  0.688965   \n",
       "\n",
       "                Noise_4   Noise_5  \n",
       "Individual                         \n",
       "Individual_63  0.633527  0.261519  "
      ]
     },
     "execution_count": 1129,
     "metadata": {},
     "output_type": "execute_result"
    }
   ],
   "source": [
    "#ma = model.df_explainable.Loves_to_sleep.max()\n",
    "#q = model.df_explainable.query(f'Loves_to_sleep == {ma}')\n",
    "ma = model.df_explainable.Age.max()\n",
    "q = model.df_explainable.query(f'Age == {ma}')\n",
    "q"
   ]
  },
  {
   "cell_type": "code",
   "execution_count": 1130,
   "metadata": {},
   "outputs": [],
   "source": [
    "lowest_value_index = model.df_explainable.reset_index().query(f'Individual == \"{p.iloc[0].name}\"').index[0]\n",
    "highest_value_index = model.df_explainable.reset_index().query(f'Individual == \"{q.iloc[0].name}\"').index[0]"
   ]
  },
  {
   "cell_type": "code",
   "execution_count": 1131,
   "metadata": {},
   "outputs": [],
   "source": [
    "rndm = np.random.randint(0, 99)"
   ]
  },
  {
   "cell_type": "code",
   "execution_count": 1132,
   "metadata": {},
   "outputs": [
    {
     "data": {
      "text/plain": [
       "(np.float64(0.0), np.float64(6.0))"
      ]
     },
     "execution_count": 1132,
     "metadata": {},
     "output_type": "execute_result"
    }
   ],
   "source": [
    "# low->low, low->high\n",
    "(fdm1[lowest_value_index][lowest_value_index].numpy() * 100000).round(0), (fdm1[lowest_value_index][highest_value_index].numpy() * 100000).round(0)"
   ]
  },
  {
   "cell_type": "code",
   "execution_count": 1133,
   "metadata": {},
   "outputs": [
    {
     "data": {
      "text/plain": [
       "(np.float64(6.0), np.float64(0.0))"
      ]
     },
     "execution_count": 1133,
     "metadata": {},
     "output_type": "execute_result"
    }
   ],
   "source": [
    "# high->low, high->high\n",
    "(fdm1[highest_value_index][lowest_value_index].numpy() * 100000).round(0), (fdm1[highest_value_index][highest_value_index].numpy() * 100000).round(0)"
   ]
  },
  {
   "cell_type": "code",
   "execution_count": 1134,
   "metadata": {},
   "outputs": [
    {
     "data": {
      "text/plain": [
       "(np.float64(21.0), np.float64(6.0))"
      ]
     },
     "execution_count": 1134,
     "metadata": {},
     "output_type": "execute_result"
    }
   ],
   "source": [
    "# rndm->low, rndm->high\n",
    "(fdm1[rndm][lowest_value_index].numpy() * 100000).round(0), (fdm1[rndm][highest_value_index].numpy() * 100000).round(0)"
   ]
  },
  {
   "cell_type": "code",
   "execution_count": 1135,
   "metadata": {},
   "outputs": [
    {
     "data": {
      "text/plain": [
       "(np.float64(22.0), np.float64(6.0))"
      ]
     },
     "execution_count": 1135,
     "metadata": {},
     "output_type": "execute_result"
    }
   ],
   "source": [
    "(fdm2[rndm][lowest_value_index].numpy() * 100000).round(0), (fdm2[rndm][highest_value_index].numpy() * 100000).round(0)"
   ]
  },
  {
   "cell_type": "code",
   "execution_count": 1136,
   "metadata": {},
   "outputs": [
    {
     "data": {
      "text/plain": [
       "(np.float64(742.0), np.float64(37.0))"
      ]
     },
     "execution_count": 1136,
     "metadata": {},
     "output_type": "execute_result"
    }
   ],
   "source": [
    "(fingerprint_distances[rndm][lowest_value_index].numpy() * 1000).round(0), (fingerprint_distances[rndm][highest_value_index].numpy() * 1000).round(0)"
   ]
  },
  {
   "cell_type": "code",
   "execution_count": 1145,
   "metadata": {},
   "outputs": [
    {
     "data": {
      "text/plain": [
       "array([ 0., 21.,  6., 13., 11.,  6., 11., 11., 11., 11., 21.,  0.,  6.,\n",
       "        6., 21., 11., 21.,  0., 21., 21., 21., 10., 21.,  0., 21.,  0.,\n",
       "       11.,  0.,  0.,  0., 21., 21., 11., 21., 11.,  0., 21., 21., 11.,\n",
       "       11., 11.,  0., 11.,  0.,  0.,  0., 21.,  0., 11.,  0., 21., 21.,\n",
       "       11., 21.,  0.,  6., 11., 21.,  0.,  0.,  6.,  0.,  0.,  0., 21.,\n",
       "        6.,  0., 18., 21., 21., 11., 21.,  6., 21., 21.,  0.,  0.,  0.,\n",
       "        5.,  0., 21., 20., 21., 21., 10.,  0., 11.,  0.,  5.,  6.,  0.,\n",
       "        0.,  0.,  0.,  0.,  2.,  0.,  0., 21., 21.])"
      ]
     },
     "execution_count": 1145,
     "metadata": {},
     "output_type": "execute_result"
    }
   ],
   "source": [
    "rndm = np.random.randint(0, 99)\n",
    "(fdm1[rndm].numpy() * 100000).round(0)"
   ]
  },
  {
   "cell_type": "code",
   "execution_count": 1146,
   "metadata": {},
   "outputs": [
    {
     "data": {
      "text/plain": [
       "array([ 93., 730., 148., 611., 207., 116., 152., 205., 308., 192., 699.,\n",
       "       111., 116., 137., 114., 209., 758.,  85., 695., 714., 355., 301.,\n",
       "       451.,  70., 681., 101., 141.,  43.,  48.,  85., 754., 730., 112.,\n",
       "       328., 171.,   0., 372., 739., 204., 207.,  91.,  98., 209.,  10.,\n",
       "       253.,  96., 686.,  24., 313.,  47., 699., 196., 137., 636., 127.,\n",
       "       131., 208., 742.,  72.,  19., 125., 255., 136.,  47., 756., 129.,\n",
       "        42.,  50., 731., 595., 137., 608., 115., 332., 207.,  27., 136.,\n",
       "       285., 298.,  77., 432., 595., 762., 757., 592.,  87.,  87.,  27.,\n",
       "       352., 140.,  51., 109.,  92.,  54.,  33., 621., 216.,   8., 664.,\n",
       "       715.])"
      ]
     },
     "execution_count": 1146,
     "metadata": {},
     "output_type": "execute_result"
    }
   ],
   "source": [
    "(fingerprint_distances[rndm].numpy() * 1000).round(0)"
   ]
  },
  {
   "cell_type": "code",
   "execution_count": 1147,
   "metadata": {},
   "outputs": [
    {
     "data": {
      "text/plain": [
       "array([[1.        , 0.77614862],\n",
       "       [0.77614862, 1.        ]])"
      ]
     },
     "execution_count": 1147,
     "metadata": {},
     "output_type": "execute_result"
    }
   ],
   "source": [
    "np.corrcoef(fdm1[rndm], fingerprint_distances[rndm].numpy())"
   ]
  },
  {
   "cell_type": "code",
   "execution_count": 1140,
   "metadata": {},
   "outputs": [
    {
     "data": {
      "text/plain": [
       "array([[1.        , 0.40309883],\n",
       "       [0.40309883, 1.        ]])"
      ]
     },
     "execution_count": 1140,
     "metadata": {},
     "output_type": "execute_result"
    }
   ],
   "source": [
    "np.corrcoef(fdm1.flatten(), fingerprint_distances.numpy().flatten())"
   ]
  },
  {
   "cell_type": "code",
   "execution_count": 1141,
   "metadata": {},
   "outputs": [
    {
     "data": {
      "text/plain": [
       "array([[ 1.        , -0.50606463],\n",
       "       [-0.50606463,  1.        ]])"
      ]
     },
     "execution_count": 1141,
     "metadata": {},
     "output_type": "execute_result"
    }
   ],
   "source": [
    "np.corrcoef(fdm2[rndm], fingerprint_distances[rndm].numpy())"
   ]
  },
  {
   "cell_type": "code",
   "execution_count": 659,
   "metadata": {},
   "outputs": [
    {
     "data": {
      "text/plain": [
       "[np.float64(1.0),\n",
       " np.float64(0.29289321881345254),\n",
       " np.float64(0.29289321881345254)]"
      ]
     },
     "execution_count": 659,
     "metadata": {},
     "output_type": "execute_result"
    }
   ],
   "source": [
    "Tier_0 = np.array([0.5, 0.0]) # Alter: Mittel, KEIN Zebra\n",
    "Tier_1 = np.array([0.0, 1.0]) # Alter: Jung,   Zebra\n",
    "Tier_2 = np.array([1.0, 1.0]) # Alter: Alt,    Zebra\n",
    "\n",
    "[\n",
    "    correlation(Tier_0, Tier_1, centered=False),\n",
    "    correlation(Tier_0, Tier_2, centered=False),\n",
    "    correlation(Tier_1, Tier_2, centered=False),\n",
    "]"
   ]
  },
  {
   "cell_type": "code",
   "execution_count": 660,
   "metadata": {},
   "outputs": [
    {
     "data": {
      "text/plain": [
       "tensor([[0.0000e+00, 1.0000e+00, 5.0000e-11],\n",
       "        [1.0000e+00, 0.0000e+00, 9.9999e-01],\n",
       "        [5.0000e-11, 9.9999e-01, 0.0000e+00]], dtype=torch.float64)"
      ]
     },
     "execution_count": 660,
     "metadata": {},
     "output_type": "execute_result"
    }
   ],
   "source": [
    "torch_matrix_correlation(\n",
    "    torch.tensor([\n",
    "        Tier_0,\n",
    "        Tier_1,\n",
    "        Tier_2\n",
    "    ]),\n",
    "    w = torch.tensor([1., 1e-10])\n",
    ")"
   ]
  },
  {
   "cell_type": "code",
   "execution_count": 132,
   "metadata": {},
   "outputs": [
    {
     "data": {
      "text/plain": [
       "tensor([[0.0000, 1.0000, 0.2929],\n",
       "        [1.0000, 0.0000, 0.2929],\n",
       "        [0.2929, 0.2929, 0.0000]], dtype=torch.float64)"
      ]
     },
     "execution_count": 132,
     "metadata": {},
     "output_type": "execute_result"
    }
   ],
   "source": [
    "torch_matrix_correlation(\n",
    "    torch.tensor([\n",
    "        Tier_0,\n",
    "        Tier_1,\n",
    "        Tier_2\n",
    "    ]),\n",
    "    w = torch.tensor([1., 1])\n",
    ")"
   ]
  },
  {
   "cell_type": "code",
   "execution_count": 129,
   "metadata": {},
   "outputs": [
    {
     "data": {
      "text/plain": [
       "tensor([[0.5000, 0.0000],\n",
       "        [0.0000, 1.0000],\n",
       "        [1.0000, 1.0000]], dtype=torch.float64)"
      ]
     },
     "execution_count": 129,
     "metadata": {},
     "output_type": "execute_result"
    }
   ],
   "source": [
    "torch.tensor([\n",
    "        Tier_0,\n",
    "        Tier_1,\n",
    "        Tier_2\n",
    "    ])"
   ]
  },
  {
   "cell_type": "code",
   "execution_count": 44,
   "metadata": {},
   "outputs": [
    {
     "ename": "NameError",
     "evalue": "name 'Tier_0' is not defined",
     "output_type": "error",
     "traceback": [
      "\u001b[1;31m---------------------------------------------------------------------------\u001b[0m",
      "\u001b[1;31mNameError\u001b[0m                                 Traceback (most recent call last)",
      "Cell \u001b[1;32mIn[44], line 4\u001b[0m\n\u001b[0;32m      1\u001b[0m w \u001b[38;5;241m=\u001b[39m torch\u001b[38;5;241m.\u001b[39mtensor([\u001b[38;5;241m1.\u001b[39m, \u001b[38;5;241m1e-10\u001b[39m])\n\u001b[0;32m      2\u001b[0m w \u001b[38;5;241m=\u001b[39m w \u001b[38;5;241m/\u001b[39m w\u001b[38;5;241m.\u001b[39msum()\n\u001b[0;32m      3\u001b[0m torch\u001b[38;5;241m.\u001b[39mtensor([\n\u001b[1;32m----> 4\u001b[0m     \u001b[43mTier_0\u001b[49m,\n\u001b[0;32m      5\u001b[0m     Tier_1,\n\u001b[0;32m      6\u001b[0m     Tier_2\n\u001b[0;32m      7\u001b[0m ]) \u001b[38;5;241m*\u001b[39m w\n",
      "\u001b[1;31mNameError\u001b[0m: name 'Tier_0' is not defined"
     ]
    }
   ],
   "source": [
    "w = torch.tensor([1., 1e-10])\n",
    "w = w / w.sum()\n",
    "torch.tensor([\n",
    "    Tier_0,\n",
    "    Tier_1,\n",
    "    Tier_2\n",
    "]) * w"
   ]
  },
  {
   "cell_type": "code",
   "execution_count": 148,
   "metadata": {},
   "outputs": [
    {
     "data": {
      "text/plain": [
       "(array([0.5, 0. ]), array([1., 1.]))"
      ]
     },
     "execution_count": 148,
     "metadata": {},
     "output_type": "execute_result"
    }
   ],
   "source": [
    "Tier_0, Tier_2"
   ]
  },
  {
   "cell_type": "code",
   "execution_count": 149,
   "metadata": {},
   "outputs": [
    {
     "data": {
      "text/plain": [
       "np.float64(0.29289321881345254)"
      ]
     },
     "execution_count": 149,
     "metadata": {},
     "output_type": "execute_result"
    }
   ],
   "source": [
    "correlation([0.5, 0., 0.], [1., 1., 0.], centered=False, w=[1., 1., 1.])"
   ]
  },
  {
   "cell_type": "code",
   "execution_count": 153,
   "metadata": {},
   "outputs": [
    {
     "data": {
      "text/plain": [
       "np.float64(5.000000413701855e-11)"
      ]
     },
     "execution_count": 153,
     "metadata": {},
     "output_type": "execute_result"
    }
   ],
   "source": [
    "correlation([0.5, 0., 0.], [1., 1., 0.], centered=False, w=[1., 1e-10, 1.])"
   ]
  },
  {
   "cell_type": "code",
   "execution_count": 137,
   "metadata": {},
   "outputs": [
    {
     "data": {
      "text/plain": [
       "np.float64(0.29289321881345254)"
      ]
     },
     "execution_count": 137,
     "metadata": {},
     "output_type": "execute_result"
    }
   ],
   "source": [
    "correlation(Tier_0, Tier_2, centered=False, w=[1., 1.])"
   ]
  },
  {
   "cell_type": "code",
   "execution_count": 138,
   "metadata": {},
   "outputs": [
    {
     "data": {
      "text/plain": [
       "np.float64(5.000000413701855e-11)"
      ]
     },
     "execution_count": 138,
     "metadata": {},
     "output_type": "execute_result"
    }
   ],
   "source": [
    "correlation(Tier_0, Tier_2, centered=False, w=[1., 1e-10])"
   ]
  },
  {
   "cell_type": "code",
   "execution_count": 157,
   "metadata": {},
   "outputs": [
    {
     "data": {
      "text/plain": [
       "np.float64(0.005955107656836156)"
      ]
     },
     "execution_count": 157,
     "metadata": {},
     "output_type": "execute_result"
    }
   ],
   "source": [
    "correlation(\n",
    "    np.array([0.028, 0.999]),\n",
    "    np.array([1.000, 1.000]),\n",
    "    centered=False,\n",
    "    w=[1,0.00001]\n",
    ")"
   ]
  },
  {
   "cell_type": "code",
   "execution_count": 88,
   "metadata": {},
   "outputs": [
    {
     "data": {
      "text/plain": [
       "np.float64(0.292740206450986)"
      ]
     },
     "execution_count": 88,
     "metadata": {},
     "output_type": "execute_result"
    }
   ],
   "source": [
    "correlation(df_explainable.loc['Individual_1', ['Age', 'Is_a_Zebra']].to_numpy().clip(min=0), df_explainable.loc['Individual_2', ['Age', 'Is_a_Zebra']].to_numpy().clip(min=0), centered=False)"
   ]
  },
  {
   "cell_type": "code",
   "execution_count": null,
   "metadata": {},
   "outputs": [
    {
     "data": {
      "text/plain": [
       "np.float64(0.9975204890409671)"
      ]
     },
     "execution_count": 87,
     "metadata": {},
     "output_type": "execute_result"
    }
   ],
   "source": [
    "correlation(df_explainable.loc['Individual_0', ['Age', 'Is_a_Zebra']].to_numpy().clip(min=0), df_explainable.loc['Individual_1', ['Age', 'Is_a_Zebra']].to_numpy().clip(min=0), centered=False)"
   ]
  },
  {
   "cell_type": "code",
   "execution_count": null,
   "metadata": {},
   "outputs": [
    {
     "data": {
      "text/plain": [
       "np.float64(1.0)"
      ]
     },
     "execution_count": 92,
     "metadata": {},
     "output_type": "execute_result"
    }
   ],
   "source": [
    "correlation([0.5, 0.], [0., 1.], centered=False) # "
   ]
  },
  {
   "cell_type": "code",
   "execution_count": 29,
   "metadata": {},
   "outputs": [],
   "source": [
    "from gradient_solver import _construct_distance_matrix"
   ]
  },
  {
   "cell_type": "code",
   "execution_count": 30,
   "metadata": {},
   "outputs": [],
   "source": [
    "df_explainable = preparation_result['explainable_df'].copy().set_index(index_name)\n",
    "df_observable = observable_patterns_result['df_observable_data'].copy().set_index(index_name).loc[:, observed_features].reset_index()"
   ]
  },
  {
   "cell_type": "code",
   "execution_count": 31,
   "metadata": {},
   "outputs": [
    {
     "name": "stdout",
     "output_type": "stream",
     "text": [
      "Loss before training: -0.2402482670188497\n",
      "1/10 --- Mean Loss : -0.9450397488663858\n",
      "2/10 --- Mean Loss : -0.9866583421496515\n",
      "3/10 --- Mean Loss : -0.9948335531375683\n",
      "4/10 --- Mean Loss : -0.9971081727914691\n",
      "5/10 --- Mean Loss : -0.9977949515959404\n",
      "6/10 --- Mean Loss : -0.9983226614825543\n",
      "7/10 --- Mean Loss : -0.9986375227883308\n",
      "8/10 --- Mean Loss : -0.999008538614623\n",
      "9/10 --- Mean Loss : -0.9992354289653294\n",
      "10/10 --- Mean Loss : -0.9992565640044511\n"
     ]
    }
   ],
   "source": [
    "model = FeatureSelectionModel(\n",
    "    df_explainable,\n",
    "    df_observable,\n",
    "    observable_patterns_result['df_cluster_median'],\n",
    "    power = 2,\n",
    "    index_name = 'Individual',\n",
    "    num_samples = 4,\n",
    "    dtype = torch.float64,\n",
    "    device = 'cpu',\n",
    "    penalty=0\n",
    ")\n",
    "\n",
    "# After this many steps, the learning rate is halved\n",
    "HALFLIFE = 30\n",
    "\n",
    "optimizer = torch.optim.RMSprop(\n",
    "    params = [\n",
    "        {'params': model.parameters['feature_weights'], 'lr': 0.1, 'momentum': 0.50},\n",
    "        {'params': model.parameters['observation_weights'], 'lr': 0.1, 'momentum': 0.50},\n",
    "        {'params': model.parameters['cluster_positions'], 'lr': 0.1, 'momentum': 0.50},\n",
    "    ],\n",
    "\n",
    ")\n",
    "\n",
    "lr_halflife = lambda epochs: 0.5**(1/epochs)\n",
    "scheduler = torch.optim.lr_scheduler.LambdaLR(optimizer, lr_lambda = lambda epoch: lr_halflife(HALFLIFE)**epoch)\n",
    "trainer = Trainer(model = model, optimizer = optimizer, scheduler = scheduler, dataloader = range(100))\n",
    "print(f'Loss before training: {model.loss().clone().detach()}')\n",
    "trainer.train(epochs = 10, timeout=60000)"
   ]
  },
  {
   "cell_type": "code",
   "execution_count": 32,
   "metadata": {},
   "outputs": [
    {
     "data": {
      "image/png": "[encoded data removed]",
      "text/plain": [
       "<Figure size 1000x500 with 1 Axes>"
      ]
     },
     "metadata": {},
     "output_type": "display_data"
    },
    {
     "data": {
      "image/png": "[encoded data removed]",
      "text/plain": [
       "<Figure size 1000x500 with 1 Axes>"
      ]
     },
     "metadata": {},
     "output_type": "display_data"
    }
   ],
   "source": [
    "model.plot()"
   ]
  },
  {
   "cell_type": "code",
   "execution_count": 33,
   "metadata": {},
   "outputs": [],
   "source": [
    "feature_dict, observation_dict = model.get_weights()\n",
    "\n",
    "remaining_features = []\n",
    "for k,v in feature_dict.items():\n",
    "    if v < 0.500:\n",
    "        remaining_features.append(k)\n",
    "\n",
    "i = 0\n",
    "remaining_observations = [index_name]\n",
    "remaining_observation_indices = []\n",
    "for k,v in observation_dict.items():\n",
    "    if v < 0.500:\n",
    "        remaining_observations.append(k)\n",
    "        remaining_observation_indices.append(i)\n",
    "    i += 1"
   ]
  },
  {
   "cell_type": "code",
   "execution_count": 34,
   "metadata": {},
   "outputs": [
    {
     "data": {
      "text/plain": [
       "(['Age',\n",
       "  'Weight',\n",
       "  'Is_a_Zebra',\n",
       "  'Noise_1',\n",
       "  'Noise_2',\n",
       "  'Noise_3',\n",
       "  'Noise_4',\n",
       "  'Noise_5'],\n",
       " ['Individual',\n",
       "  'unexplainable_1',\n",
       "  'unexplainable_2',\n",
       "  'unexplainable_3',\n",
       "  'unexplainable_4',\n",
       "  'if_zebra_then_age',\n",
       "  'Age_plus_Weight'])"
      ]
     },
     "execution_count": 34,
     "metadata": {},
     "output_type": "execute_result"
    }
   ],
   "source": [
    "remaining_features, remaining_observations"
   ]
  },
  {
   "cell_type": "code",
   "execution_count": 35,
   "metadata": {},
   "outputs": [
    {
     "name": "stdout",
     "output_type": "stream",
     "text": [
      "Loss before training: -0.18437438554024\n",
      "1/10 --- Mean Loss : -0.7335775033032934\n",
      "2/10 --- Mean Loss : -0.7658767019687115\n",
      "3/10 --- Mean Loss : -0.7663229709133603\n",
      "4/10 --- Mean Loss : -0.766493230573964\n",
      "5/10 --- Mean Loss : -0.7665870406386681\n",
      "6/10 --- Mean Loss : -0.766656425287316\n",
      "7/10 --- Mean Loss : -0.7666939794678356\n",
      "8/10 --- Mean Loss : -0.7667223421065557\n",
      "9/10 --- Mean Loss : -0.7667611183246354\n",
      "10/10 --- Mean Loss : -0.7668012410740601\n"
     ]
    }
   ],
   "source": [
    "next_model = FeatureSelectionModel(\n",
    "    df_explainable.loc[:, remaining_features],\n",
    "    df_observable.loc[:, remaining_observations],\n",
    "    model.best_cluster_positions[:, remaining_observation_indices],\n",
    "    power = 4,\n",
    "    index_name = 'Individual',\n",
    "    num_samples = 4,\n",
    "    dtype = torch.float64,\n",
    "    device = 'cpu',\n",
    "    penalty=0\n",
    ")\n",
    "\n",
    "# After this many steps, the learning rate is halved\n",
    "HALFLIFE = 50\n",
    "\n",
    "optimizer = torch.optim.RMSprop(\n",
    "    params = [\n",
    "        {'params': next_model.parameters['feature_weights'], 'lr': 0.1, 'momentum': 0.50},\n",
    "        {'params': next_model.parameters['observation_weights'], 'lr': 0.1, 'momentum': 0.50},\n",
    "        {'params': next_model.parameters['cluster_positions'], 'lr': 0.1, 'momentum': 0.50},\n",
    "    ],\n",
    "\n",
    ")\n",
    "\n",
    "lr_halflife = lambda epochs: 0.5**(1/epochs)\n",
    "scheduler = torch.optim.lr_scheduler.LambdaLR(optimizer, lr_lambda = lambda epoch: lr_halflife(HALFLIFE)**epoch)\n",
    "trainer = Trainer(model = next_model, optimizer = optimizer, scheduler = scheduler, dataloader = range(100))\n",
    "print(f'Loss before training: {next_model.loss().clone().detach()}')\n",
    "trainer.train(epochs = 10, timeout=60000)"
   ]
  },
  {
   "cell_type": "code",
   "execution_count": 36,
   "metadata": {},
   "outputs": [
    {
     "data": {
      "image/png": "[encoded data removed]",
      "text/plain": [
       "<Figure size 1000x500 with 1 Axes>"
      ]
     },
     "metadata": {},
     "output_type": "display_data"
    },
    {
     "data": {
      "image/png": "[encoded data removed]",
      "text/plain": [
       "<Figure size 1000x500 with 1 Axes>"
      ]
     },
     "metadata": {},
     "output_type": "display_data"
    }
   ],
   "source": [
    "next_model.plot()"
   ]
  },
  {
   "cell_type": "code",
   "execution_count": 37,
   "metadata": {},
   "outputs": [
    {
     "data": {
      "text/plain": [
       "(['Weight',\n",
       "  'Is_a_Zebra',\n",
       "  'Noise_1',\n",
       "  'Noise_2',\n",
       "  'Noise_3',\n",
       "  'Noise_4',\n",
       "  'Noise_5'],\n",
       " ['Individual',\n",
       "  'unexplainable_1',\n",
       "  'unexplainable_2',\n",
       "  'unexplainable_3',\n",
       "  'unexplainable_4',\n",
       "  'Age_plus_Weight'])"
      ]
     },
     "execution_count": 37,
     "metadata": {},
     "output_type": "execute_result"
    }
   ],
   "source": [
    "feature_dict, observation_dict = next_model.get_weights()\n",
    "\n",
    "remaining_features = []\n",
    "for k,v in feature_dict.items():\n",
    "    if v < 0.500:\n",
    "        remaining_features.append(k)\n",
    "\n",
    "i = 0\n",
    "remaining_observations = [index_name]\n",
    "remaining_observation_indices = []\n",
    "for k,v in observation_dict.items():\n",
    "    if v < 0.500:\n",
    "        remaining_observations.append(k)\n",
    "        remaining_observation_indices.append(i)\n",
    "    i += 1\n",
    "\n",
    "remaining_features, remaining_observations"
   ]
  },
  {
   "cell_type": "code",
   "execution_count": 38,
   "metadata": {},
   "outputs": [
    {
     "name": "stdout",
     "output_type": "stream",
     "text": [
      "Loss before training: -0.09448573854780432\n",
      "1/10 --- Mean Loss : -0.27803924625795035\n",
      "2/10 --- Mean Loss : -0.32173400554503023\n",
      "3/10 --- Mean Loss : -0.3420414633358865\n",
      "4/10 --- Mean Loss : -0.3684916091795158\n",
      "5/10 --- Mean Loss : -0.40670472240492234\n",
      "6/10 --- Mean Loss : -0.4430751086539664\n",
      "7/10 --- Mean Loss : -0.45669980054745535\n",
      "8/10 --- Mean Loss : -0.46200064418725617\n",
      "9/10 --- Mean Loss : -0.46288694787962575\n",
      "10/10 --- Mean Loss : -0.46372955243797315\n"
     ]
    }
   ],
   "source": [
    "next2_model = FeatureSelectionModel(\n",
    "    df_explainable.loc[:, remaining_features],\n",
    "    df_observable.loc[:, remaining_observations],\n",
    "    model.best_cluster_positions[:, remaining_observation_indices],\n",
    "    power = 4,\n",
    "    index_name = 'Individual',\n",
    "    num_samples = 4,\n",
    "    dtype = torch.float64,\n",
    "    device = 'cpu',\n",
    "    penalty=0\n",
    ")\n",
    "\n",
    "my_model = next2_model\n",
    "\n",
    "# After this many steps, the learning rate is halved\n",
    "HALFLIFE = 30\n",
    "\n",
    "optimizer = torch.optim.RMSprop(\n",
    "    params = [\n",
    "        {'params': my_model.parameters['feature_weights'], 'lr': 0.1, 'momentum': 0.50},\n",
    "        {'params': my_model.parameters['observation_weights'], 'lr': 0.1, 'momentum': 0.50},\n",
    "        {'params': my_model.parameters['cluster_positions'], 'lr': 0.1, 'momentum': 0.50},\n",
    "    ],\n",
    "\n",
    ")\n",
    "\n",
    "lr_halflife = lambda epochs: 0.5**(1/epochs)\n",
    "scheduler = torch.optim.lr_scheduler.LambdaLR(optimizer, lr_lambda = lambda epoch: lr_halflife(HALFLIFE)**epoch)\n",
    "trainer = Trainer(model = my_model, optimizer = optimizer, scheduler = scheduler, dataloader = range(100))\n",
    "print(f'Loss before training: {my_model.loss().clone().detach()}')\n",
    "trainer.train(epochs = 10, timeout=60000)"
   ]
  },
  {
   "cell_type": "code",
   "execution_count": 39,
   "metadata": {},
   "outputs": [
    {
     "data": {
      "image/png": "[encoded data removed]",
      "text/plain": [
       "<Figure size 1000x500 with 1 Axes>"
      ]
     },
     "metadata": {},
     "output_type": "display_data"
    },
    {
     "data": {
      "image/png": "[encoded data removed]",
      "text/plain": [
       "<Figure size 1000x500 with 1 Axes>"
      ]
     },
     "metadata": {},
     "output_type": "display_data"
    }
   ],
   "source": [
    "next2_model.plot()"
   ]
  },
  {
   "cell_type": "code",
   "execution_count": 40,
   "metadata": {},
   "outputs": [
    {
     "data": {
      "text/plain": [
       "(['Is_a_Zebra', 'Noise_1', 'Noise_2', 'Noise_3', 'Noise_4', 'Noise_5'],\n",
       " ['Individual',\n",
       "  'unexplainable_1',\n",
       "  'unexplainable_3',\n",
       "  'unexplainable_4',\n",
       "  'Age_plus_Weight'])"
      ]
     },
     "execution_count": 40,
     "metadata": {},
     "output_type": "execute_result"
    }
   ],
   "source": [
    "feature_dict, observation_dict = next2_model.get_weights()\n",
    "\n",
    "remaining_features = []\n",
    "for k,v in feature_dict.items():\n",
    "    if v < 0.500:\n",
    "        remaining_features.append(k)\n",
    "\n",
    "i = 0\n",
    "remaining_observations = [index_name]\n",
    "remaining_observation_indices = []\n",
    "for k,v in observation_dict.items():\n",
    "    if v < 0.500:\n",
    "        remaining_observations.append(k)\n",
    "        remaining_observation_indices.append(i)\n",
    "    i += 1\n",
    "\n",
    "remaining_features, remaining_observations"
   ]
  },
  {
   "cell_type": "code",
   "execution_count": 41,
   "metadata": {},
   "outputs": [
    {
     "name": "stdout",
     "output_type": "stream",
     "text": [
      "Loss before training: -0.025800811961319656\n",
      "1/10 --- Mean Loss : -0.19489734858538463\n",
      "2/10 --- Mean Loss : -0.3039297338324828\n",
      "3/10 --- Mean Loss : -0.31474773742549716\n",
      "4/10 --- Mean Loss : -0.32010635955589734\n",
      "5/10 --- Mean Loss : -0.32072339910619063\n",
      "6/10 --- Mean Loss : -0.32084315020486687\n",
      "7/10 --- Mean Loss : -0.3208739004679591\n",
      "8/10 --- Mean Loss : -0.3206689445387365\n",
      "9/10 --- Mean Loss : -0.32218971938639224\n",
      "10/10 --- Mean Loss : -0.32267942453654425\n"
     ]
    }
   ],
   "source": [
    "next3_model = FeatureSelectionModel(\n",
    "    df_explainable.loc[:, remaining_features],\n",
    "    df_observable.loc[:, remaining_observations],\n",
    "    model.best_cluster_positions[:, remaining_observation_indices],\n",
    "    power = 4,\n",
    "    index_name = 'Individual',\n",
    "    num_samples = 4,\n",
    "    dtype = torch.float64,\n",
    "    device = 'cpu',\n",
    "    penalty=0\n",
    ")\n",
    "\n",
    "my_model = next3_model\n",
    "\n",
    "# After this many steps, the learning rate is halved\n",
    "HALFLIFE = 30\n",
    "\n",
    "optimizer = torch.optim.RMSprop(\n",
    "    params = [\n",
    "        {'params': my_model.parameters['feature_weights'], 'lr': 0.1, 'momentum': 0.50},\n",
    "        {'params': my_model.parameters['observation_weights'], 'lr': 0.1, 'momentum': 0.50},\n",
    "        {'params': my_model.parameters['cluster_positions'], 'lr': 0.1, 'momentum': 0.50},\n",
    "    ],\n",
    "\n",
    ")\n",
    "\n",
    "lr_halflife = lambda epochs: 0.5**(1/epochs)\n",
    "scheduler = torch.optim.lr_scheduler.LambdaLR(optimizer, lr_lambda = lambda epoch: lr_halflife(HALFLIFE)**epoch)\n",
    "trainer = Trainer(model = my_model, optimizer = optimizer, scheduler = scheduler, dataloader = range(100))\n",
    "print(f'Loss before training: {my_model.loss().clone().detach()}')\n",
    "trainer.train(epochs = 10, timeout=60000)"
   ]
  },
  {
   "cell_type": "code",
   "execution_count": 42,
   "metadata": {},
   "outputs": [
    {
     "data": {
      "image/png": "[encoded data removed]",
      "text/plain": [
       "<Figure size 1000x500 with 1 Axes>"
      ]
     },
     "metadata": {},
     "output_type": "display_data"
    },
    {
     "data": {
      "image/png": "[encoded data removed]",
      "text/plain": [
       "<Figure size 1000x500 with 1 Axes>"
      ]
     },
     "metadata": {},
     "output_type": "display_data"
    }
   ],
   "source": [
    "next3_model.plot()"
   ]
  },
  {
   "cell_type": "code",
   "execution_count": 43,
   "metadata": {},
   "outputs": [
    {
     "data": {
      "text/plain": [
       "Ellipsis"
      ]
     },
     "execution_count": 43,
     "metadata": {},
     "output_type": "execute_result"
    }
   ],
   "source": [
    "..."
   ]
  },
  {
   "cell_type": "code",
   "execution_count": null,
   "metadata": {},
   "outputs": [],
   "source": []
  }
 ],
 "metadata": {
  "kernelspec": {
   "display_name": "Python 3",
   "language": "python",
   "name": "python3"
  },
  "language_info": {
   "codemirror_mode": {
    "name": "ipython",
    "version": 3
   },
   "file_extension": ".py",
   "mimetype": "text/x-python",
   "name": "python",
   "nbconvert_exporter": "python",
   "pygments_lexer": "ipython3",
   "version": "3.12.4"
  }
 },
 "nbformat": 4,
 "nbformat_minor": 2
}
