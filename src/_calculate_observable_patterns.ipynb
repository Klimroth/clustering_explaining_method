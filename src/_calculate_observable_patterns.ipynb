{
 "cells": [
  {
   "cell_type": "code",
   "execution_count": 1,
   "metadata": {},
   "outputs": [],
   "source": [
    "from data_preparation import DataPreparator\n",
    "from apply_clustering import ClusteringApplier\n",
    "\n",
    "from sklearn.cluster import AgglomerativeClustering\n",
    "from scipy.spatial.distance import jensenshannon, correlation, euclidean"
   ]
  },
  {
   "cell_type": "code",
   "execution_count": 2,
   "metadata": {},
   "outputs": [],
   "source": [
    "import pandas as pd\n",
    "import numpy as np\n",
    "import config\n",
    "\n",
    "import os"
   ]
  },
  {
   "cell_type": "code",
   "execution_count": 3,
   "metadata": {},
   "outputs": [],
   "source": [
    "from typing import Dict, List, Tuple\n",
    "import matplotlib.pyplot as plt\n",
    "import scipy.cluster.hierarchy as sch"
   ]
  },
  {
   "cell_type": "code",
   "execution_count": 4,
   "metadata": {},
   "outputs": [],
   "source": [
    "ClusteringApplier.calculate_observable_patterns()"
   ]
  },
  {
   "cell_type": "code",
   "execution_count": 5,
   "metadata": {},
   "outputs": [],
   "source": [
    "df: pd.DataFrame = ClusteringApplier._read_observable_data(\n",
    "    read_only_feature_col=False\n",
    ")\n",
    "try:\n",
    "    clustering_data = df[\n",
    "        list(config.OBSERVABLE_FEATURE_NAMES.keys())\n",
    "    ]#.to_numpy()\n",
    "except:\n",
    "    print(f\"Error. Invalid input.\")\n",
    "    #return None"
   ]
  },
  {
   "cell_type": "code",
   "execution_count": 6,
   "metadata": {},
   "outputs": [
    {
     "data": {
      "text/html": [
       "<div>\n",
       "<style scoped>\n",
       "    .dataframe tbody tr th:only-of-type {\n",
       "        vertical-align: middle;\n",
       "    }\n",
       "\n",
       "    .dataframe tbody tr th {\n",
       "        vertical-align: top;\n",
       "    }\n",
       "\n",
       "    .dataframe thead th {\n",
       "        text-align: right;\n",
       "    }\n",
       "</style>\n",
       "<table border=\"1\" class=\"dataframe\">\n",
       "  <thead>\n",
       "    <tr style=\"text-align: right;\">\n",
       "      <th></th>\n",
       "      <th>Individual</th>\n",
       "      <th>num_lhd</th>\n",
       "      <th>num_lying</th>\n",
       "      <th>perc_lhd</th>\n",
       "      <th>perc_lying</th>\n",
       "      <th>oversampled</th>\n",
       "    </tr>\n",
       "  </thead>\n",
       "  <tbody>\n",
       "    <tr>\n",
       "      <th>0</th>\n",
       "      <td>A.nas_01</td>\n",
       "      <td>1.000571</td>\n",
       "      <td>0.250403</td>\n",
       "      <td>0.014091</td>\n",
       "      <td>0.056742</td>\n",
       "      <td>False</td>\n",
       "    </tr>\n",
       "    <tr>\n",
       "      <th>1</th>\n",
       "      <td>A.nas_01</td>\n",
       "      <td>1.002405</td>\n",
       "      <td>0.398789</td>\n",
       "      <td>0.017853</td>\n",
       "      <td>0.054594</td>\n",
       "      <td>False</td>\n",
       "    </tr>\n",
       "    <tr>\n",
       "      <th>2</th>\n",
       "      <td>A.nas_01</td>\n",
       "      <td>0.999462</td>\n",
       "      <td>0.172592</td>\n",
       "      <td>0.007344</td>\n",
       "      <td>0.030000</td>\n",
       "      <td>False</td>\n",
       "    </tr>\n",
       "    <tr>\n",
       "      <th>3</th>\n",
       "      <td>A.nas_01</td>\n",
       "      <td>0.999443</td>\n",
       "      <td>0.426562</td>\n",
       "      <td>0.008964</td>\n",
       "      <td>0.054072</td>\n",
       "      <td>False</td>\n",
       "    </tr>\n",
       "    <tr>\n",
       "      <th>4</th>\n",
       "      <td>A.nas_01</td>\n",
       "      <td>0.999517</td>\n",
       "      <td>0.415520</td>\n",
       "      <td>0.010314</td>\n",
       "      <td>0.067722</td>\n",
       "      <td>False</td>\n",
       "    </tr>\n",
       "  </tbody>\n",
       "</table>\n",
       "</div>"
      ],
      "text/plain": [
       "  Individual   num_lhd  num_lying  perc_lhd  perc_lying  oversampled\n",
       "0   A.nas_01  1.000571   0.250403  0.014091    0.056742        False\n",
       "1   A.nas_01  1.002405   0.398789  0.017853    0.054594        False\n",
       "2   A.nas_01  0.999462   0.172592  0.007344    0.030000        False\n",
       "3   A.nas_01  0.999443   0.426562  0.008964    0.054072        False\n",
       "4   A.nas_01  0.999517   0.415520  0.010314    0.067722        False"
      ]
     },
     "execution_count": 6,
     "metadata": {},
     "output_type": "execute_result"
    }
   ],
   "source": [
    "df.head()"
   ]
  },
  {
   "cell_type": "code",
   "execution_count": 7,
   "metadata": {},
   "outputs": [
    {
     "data": {
      "text/html": [
       "<div>\n",
       "<style scoped>\n",
       "    .dataframe tbody tr th:only-of-type {\n",
       "        vertical-align: middle;\n",
       "    }\n",
       "\n",
       "    .dataframe tbody tr th {\n",
       "        vertical-align: top;\n",
       "    }\n",
       "\n",
       "    .dataframe thead th {\n",
       "        text-align: right;\n",
       "    }\n",
       "</style>\n",
       "<table border=\"1\" class=\"dataframe\">\n",
       "  <thead>\n",
       "    <tr style=\"text-align: right;\">\n",
       "      <th></th>\n",
       "      <th>num_lhd</th>\n",
       "      <th>num_lying</th>\n",
       "      <th>perc_lhd</th>\n",
       "      <th>perc_lying</th>\n",
       "    </tr>\n",
       "  </thead>\n",
       "  <tbody>\n",
       "    <tr>\n",
       "      <th>0</th>\n",
       "      <td>1.000571</td>\n",
       "      <td>0.250403</td>\n",
       "      <td>0.014091</td>\n",
       "      <td>0.056742</td>\n",
       "    </tr>\n",
       "    <tr>\n",
       "      <th>1</th>\n",
       "      <td>1.002405</td>\n",
       "      <td>0.398789</td>\n",
       "      <td>0.017853</td>\n",
       "      <td>0.054594</td>\n",
       "    </tr>\n",
       "    <tr>\n",
       "      <th>2</th>\n",
       "      <td>0.999462</td>\n",
       "      <td>0.172592</td>\n",
       "      <td>0.007344</td>\n",
       "      <td>0.030000</td>\n",
       "    </tr>\n",
       "    <tr>\n",
       "      <th>3</th>\n",
       "      <td>0.999443</td>\n",
       "      <td>0.426562</td>\n",
       "      <td>0.008964</td>\n",
       "      <td>0.054072</td>\n",
       "    </tr>\n",
       "    <tr>\n",
       "      <th>4</th>\n",
       "      <td>0.999517</td>\n",
       "      <td>0.415520</td>\n",
       "      <td>0.010314</td>\n",
       "      <td>0.067722</td>\n",
       "    </tr>\n",
       "    <tr>\n",
       "      <th>...</th>\n",
       "      <td>...</td>\n",
       "      <td>...</td>\n",
       "      <td>...</td>\n",
       "      <td>...</td>\n",
       "    </tr>\n",
       "    <tr>\n",
       "      <th>13723</th>\n",
       "      <td>1.000496</td>\n",
       "      <td>0.374905</td>\n",
       "      <td>0.007175</td>\n",
       "      <td>0.037034</td>\n",
       "    </tr>\n",
       "    <tr>\n",
       "      <th>13724</th>\n",
       "      <td>1.001463</td>\n",
       "      <td>0.999097</td>\n",
       "      <td>0.008324</td>\n",
       "      <td>0.106720</td>\n",
       "    </tr>\n",
       "    <tr>\n",
       "      <th>13725</th>\n",
       "      <td>0.999115</td>\n",
       "      <td>0.376318</td>\n",
       "      <td>0.004291</td>\n",
       "      <td>0.039456</td>\n",
       "    </tr>\n",
       "    <tr>\n",
       "      <th>13726</th>\n",
       "      <td>0.602126</td>\n",
       "      <td>0.999529</td>\n",
       "      <td>0.004062</td>\n",
       "      <td>0.063561</td>\n",
       "    </tr>\n",
       "    <tr>\n",
       "      <th>13727</th>\n",
       "      <td>0.800195</td>\n",
       "      <td>1.001830</td>\n",
       "      <td>0.005343</td>\n",
       "      <td>0.082126</td>\n",
       "    </tr>\n",
       "  </tbody>\n",
       "</table>\n",
       "<p>13728 rows × 4 columns</p>\n",
       "</div>"
      ],
      "text/plain": [
       "        num_lhd  num_lying  perc_lhd  perc_lying\n",
       "0      1.000571   0.250403  0.014091    0.056742\n",
       "1      1.002405   0.398789  0.017853    0.054594\n",
       "2      0.999462   0.172592  0.007344    0.030000\n",
       "3      0.999443   0.426562  0.008964    0.054072\n",
       "4      0.999517   0.415520  0.010314    0.067722\n",
       "...         ...        ...       ...         ...\n",
       "13723  1.000496   0.374905  0.007175    0.037034\n",
       "13724  1.001463   0.999097  0.008324    0.106720\n",
       "13725  0.999115   0.376318  0.004291    0.039456\n",
       "13726  0.602126   0.999529  0.004062    0.063561\n",
       "13727  0.800195   1.001830  0.005343    0.082126\n",
       "\n",
       "[13728 rows x 4 columns]"
      ]
     },
     "execution_count": 7,
     "metadata": {},
     "output_type": "execute_result"
    }
   ],
   "source": [
    "clustering_data"
   ]
  },
  {
   "cell_type": "code",
   "execution_count": 8,
   "metadata": {},
   "outputs": [],
   "source": [
    "# ClusteringApplier._plot_dendrogram(\n",
    "#    df=df, x_label=config.OBSERVABLE_NAME, title=\"\"\n",
    "#)\n",
    "\n",
    "x_label = config.OBSERVABLE_NAME\n",
    "title = ''\n",
    "y_label = \"Ward's distance measure\""
   ]
  },
  {
   "cell_type": "code",
   "execution_count": 9,
   "metadata": {},
   "outputs": [],
   "source": [
    "from visualization.dendogram import fancy_dendrogram, plot_dendrogram"
   ]
  },
  {
   "cell_type": "code",
   "execution_count": 10,
   "metadata": {},
   "outputs": [],
   "source": [
    "clustering_data = df.loc[:, list(config.OBSERVABLE_FEATURE_NAMES.keys())]"
   ]
  },
  {
   "cell_type": "code",
   "execution_count": 11,
   "metadata": {},
   "outputs": [],
   "source": [
    "_df = clustering_data.copy(deep=True)"
   ]
  },
  {
   "cell_type": "code",
   "execution_count": 12,
   "metadata": {},
   "outputs": [],
   "source": [
    "Z = sch.linkage(_df.to_numpy(), method=\"ward\")"
   ]
  },
  {
   "cell_type": "code",
   "execution_count": 13,
   "metadata": {},
   "outputs": [
    {
     "data": {
      "text/plain": [
       "Text(0, 0.5, \"Ward's distance measure\")"
      ]
     },
     "execution_count": 13,
     "metadata": {},
     "output_type": "execute_result"
    },
    {
     "data": {
      "image/png": "[encoded data removed]",
      "text/plain": [
       "<Figure size 640x480 with 1 Axes>"
      ]
     },
     "metadata": {},
     "output_type": "display_data"
    }
   ],
   "source": [
    "with plt.rc_context({\"lines.linewidth\": 0.25}):\n",
    "    sch.dendrogram(\n",
    "        Z,\n",
    "        labels=df.index,\n",
    "        no_labels=True,\n",
    "        color_threshold=0,\n",
    "        above_threshold_color=\"k\",\n",
    "        leaf_rotation=90.0,\n",
    "    )\n",
    "\n",
    "plt.title(title)\n",
    "plt.xlabel(x_label)\n",
    "plt.ylabel(y_label)"
   ]
  },
  {
   "cell_type": "code",
   "execution_count": 14,
   "metadata": {},
   "outputs": [
    {
     "data": {
      "image/png": "[encoded data removed]",
      "text/plain": [
       "<Figure size 640x480 with 1 Axes>"
      ]
     },
     "metadata": {},
     "output_type": "display_data"
    }
   ],
   "source": [
    "n_cols = len(_df.columns)\n",
    "p = 16\n",
    "\n",
    "cm = plt.get_cmap(\"gist_rainbow\")\n",
    "color_dict = {i: cm(1.0 * i / n_cols) for i in range(n_cols)}\n",
    "link_color_func = lambda k: f'C{int(k)}'\n",
    "\n",
    "fancy_dendrogram(\n",
    "    Z,\n",
    "    truncate_mode='lastp',\n",
    "    p=p,\n",
    "    leaf_rotation=90.,\n",
    "    leaf_font_size=12.,\n",
    "    show_contracted=True,\n",
    "    link_color_func = link_color_func,\n",
    "    annotate_above=10,  # useful in small plots so annotations don't overlap\n",
    ")\n",
    "\n",
    "plt.title(title + f'[Truncated to {p} leaves]')\n",
    "plt.xlabel(x_label)\n",
    "plt.ylabel(y_label)\n",
    "plt.show()"
   ]
  },
  {
   "cell_type": "code",
   "execution_count": 15,
   "metadata": {},
   "outputs": [],
   "source": [
    "# clustering\n",
    "clusterer = AgglomerativeClustering(\n",
    "    n_clusters=config.NUMBER_OBSERVABLE_PATTERNS, linkage=\"ward\"\n",
    ")"
   ]
  },
  {
   "cell_type": "code",
   "execution_count": 16,
   "metadata": {},
   "outputs": [
    {
     "data": {
      "text/plain": [
       "array([2, 2, 2, ..., 2, 3, 1])"
      ]
     },
     "execution_count": 16,
     "metadata": {},
     "output_type": "execute_result"
    }
   ],
   "source": [
    "clusterer = AgglomerativeClustering(n_clusters=config.NUMBER_OBSERVABLE_PATTERNS, linkage='ward', compute_distances=True)\n",
    "clusterer.fit_predict(clustering_data)"
   ]
  },
  {
   "cell_type": "code",
   "execution_count": 17,
   "metadata": {},
   "outputs": [],
   "source": [
    "clusterer_labels = clusterer.labels_\n",
    "df['pattern_type'] = clusterer_labels"
   ]
  },
  {
   "cell_type": "code",
   "execution_count": 18,
   "metadata": {},
   "outputs": [
    {
     "data": {
      "text/html": [
       "<div>\n",
       "<style scoped>\n",
       "    .dataframe tbody tr th:only-of-type {\n",
       "        vertical-align: middle;\n",
       "    }\n",
       "\n",
       "    .dataframe tbody tr th {\n",
       "        vertical-align: top;\n",
       "    }\n",
       "\n",
       "    .dataframe thead th {\n",
       "        text-align: right;\n",
       "    }\n",
       "</style>\n",
       "<table border=\"1\" class=\"dataframe\">\n",
       "  <thead>\n",
       "    <tr style=\"text-align: right;\">\n",
       "      <th></th>\n",
       "      <th>num_lhd</th>\n",
       "      <th>num_lying</th>\n",
       "      <th>perc_lhd</th>\n",
       "      <th>perc_lying</th>\n",
       "    </tr>\n",
       "    <tr>\n",
       "      <th>pattern_type</th>\n",
       "      <th></th>\n",
       "      <th></th>\n",
       "      <th></th>\n",
       "      <th></th>\n",
       "    </tr>\n",
       "  </thead>\n",
       "  <tbody>\n",
       "    <tr>\n",
       "      <th>0</th>\n",
       "      <td>1.000005</td>\n",
       "      <td>0.625143</td>\n",
       "      <td>0.008053</td>\n",
       "      <td>0.076285</td>\n",
       "    </tr>\n",
       "    <tr>\n",
       "      <th>1</th>\n",
       "      <td>0.875462</td>\n",
       "      <td>1.000015</td>\n",
       "      <td>0.006735</td>\n",
       "      <td>0.097272</td>\n",
       "    </tr>\n",
       "    <tr>\n",
       "      <th>2</th>\n",
       "      <td>1.000003</td>\n",
       "      <td>0.333075</td>\n",
       "      <td>0.007785</td>\n",
       "      <td>0.048804</td>\n",
       "    </tr>\n",
       "    <tr>\n",
       "      <th>3</th>\n",
       "      <td>0.428967</td>\n",
       "      <td>1.000014</td>\n",
       "      <td>0.002308</td>\n",
       "      <td>0.069098</td>\n",
       "    </tr>\n",
       "    <tr>\n",
       "      <th>4</th>\n",
       "      <td>0.000028</td>\n",
       "      <td>1.000016</td>\n",
       "      <td>-0.000003</td>\n",
       "      <td>0.037245</td>\n",
       "    </tr>\n",
       "  </tbody>\n",
       "</table>\n",
       "</div>"
      ],
      "text/plain": [
       "               num_lhd  num_lying  perc_lhd  perc_lying\n",
       "pattern_type                                           \n",
       "0             1.000005   0.625143  0.008053    0.076285\n",
       "1             0.875462   1.000015  0.006735    0.097272\n",
       "2             1.000003   0.333075  0.007785    0.048804\n",
       "3             0.428967   1.000014  0.002308    0.069098\n",
       "4             0.000028   1.000016 -0.000003    0.037245"
      ]
     },
     "execution_count": 18,
     "metadata": {},
     "output_type": "execute_result"
    }
   ],
   "source": [
    "df_cluster_median: pd.DataFrame = (\n",
    "    df.copy()[list(config.OBSERVABLE_FEATURE_NAMES.keys()) + [\"pattern_type\"]]\n",
    "    .groupby(\"pattern_type\")\n",
    "    .median()\n",
    ")\n",
    "df_cluster_median"
   ]
  },
  {
   "cell_type": "code",
   "execution_count": 19,
   "metadata": {},
   "outputs": [],
   "source": [
    "# fingerprints\n",
    "df_observable_data = df[df['oversampled']== False] # from 'is False'"
   ]
  },
  {
   "cell_type": "code",
   "execution_count": 20,
   "metadata": {},
   "outputs": [
    {
     "data": {
      "text/plain": [
       "132"
      ]
     },
     "execution_count": 20,
     "metadata": {},
     "output_type": "execute_result"
    }
   ],
   "source": [
    "len(df_observable_data.Individual.unique())"
   ]
  },
  {
   "cell_type": "code",
   "execution_count": 21,
   "metadata": {},
   "outputs": [],
   "source": [
    "# Replaces:\n",
    "# ClusteringApplier._calculate_fingerprints(df_observable_data)\n",
    "\n",
    "def _calculate_fingerprints(df: pd.DataFrame) -> pd.DataFrame:\n",
    "\n",
    "    group_names: List[str] = list(set(df[config.GROUP_NAME].to_list()))\n",
    "    num_clusters: int = max(df[\"pattern_type\"].to_list()) + 1\n",
    "    group_stat: Dict[str, Dict[int, int]] = {\n",
    "        grp_name: {j: 0 for j in range(1, num_clusters + 1)}\n",
    "        for grp_name in group_names\n",
    "    }\n",
    "\n",
    "    ret = {j: [] for j in range(1, num_clusters + 1)}\n",
    "    ret[config.GROUP_NAME] = []\n",
    "\n",
    "    for row in df.index:\n",
    "        group_stat[df.loc[row, config.GROUP_NAME]][\n",
    "            int(df.loc[row, \"pattern_type\"]) + 1\n",
    "        ] += 1\n",
    "\n",
    "    for grp_name in group_stat.keys():\n",
    "        quantities = group_stat[grp_name]\n",
    "        N: int = np.sum(list(quantities.values()))\n",
    "        for j in quantities.keys():\n",
    "            ret[j].append(quantities[j] / N)\n",
    "        ret[config.GROUP_NAME].append(grp_name)\n",
    "\n",
    "    return pd.DataFrame(ret).set_index(config.GROUP_NAME)\n",
    "\n",
    "# Inkongruent mit Repsonse Types"
   ]
  },
  {
   "cell_type": "code",
   "execution_count": 22,
   "metadata": {},
   "outputs": [],
   "source": [
    "df_fingerprint = _calculate_fingerprints(df_observable_data)\n",
    "# Columns enthalten die Pattern types 1-N"
   ]
  },
  {
   "cell_type": "code",
   "execution_count": 23,
   "metadata": {},
   "outputs": [
    {
     "data": {
      "text/html": [
       "<div>\n",
       "<style scoped>\n",
       "    .dataframe tbody tr th:only-of-type {\n",
       "        vertical-align: middle;\n",
       "    }\n",
       "\n",
       "    .dataframe tbody tr th {\n",
       "        vertical-align: top;\n",
       "    }\n",
       "\n",
       "    .dataframe thead th {\n",
       "        text-align: right;\n",
       "    }\n",
       "</style>\n",
       "<table border=\"1\" class=\"dataframe\">\n",
       "  <thead>\n",
       "    <tr style=\"text-align: right;\">\n",
       "      <th></th>\n",
       "      <th>1</th>\n",
       "      <th>2</th>\n",
       "      <th>3</th>\n",
       "      <th>4</th>\n",
       "      <th>5</th>\n",
       "    </tr>\n",
       "    <tr>\n",
       "      <th>Individual</th>\n",
       "      <th></th>\n",
       "      <th></th>\n",
       "      <th></th>\n",
       "      <th></th>\n",
       "      <th></th>\n",
       "    </tr>\n",
       "  </thead>\n",
       "  <tbody>\n",
       "    <tr>\n",
       "      <th>T.eur_02</th>\n",
       "      <td>0.060606</td>\n",
       "      <td>0.000000</td>\n",
       "      <td>0.939394</td>\n",
       "      <td>0.000000</td>\n",
       "      <td>0.0</td>\n",
       "    </tr>\n",
       "    <tr>\n",
       "      <th>T.str_01</th>\n",
       "      <td>0.674419</td>\n",
       "      <td>0.290698</td>\n",
       "      <td>0.023256</td>\n",
       "      <td>0.011628</td>\n",
       "      <td>0.0</td>\n",
       "    </tr>\n",
       "    <tr>\n",
       "      <th>A.nas_06</th>\n",
       "      <td>0.742857</td>\n",
       "      <td>0.171429</td>\n",
       "      <td>0.085714</td>\n",
       "      <td>0.000000</td>\n",
       "      <td>0.0</td>\n",
       "    </tr>\n",
       "    <tr>\n",
       "      <th>O.dam_01</th>\n",
       "      <td>0.352941</td>\n",
       "      <td>0.000000</td>\n",
       "      <td>0.647059</td>\n",
       "      <td>0.000000</td>\n",
       "      <td>0.0</td>\n",
       "    </tr>\n",
       "    <tr>\n",
       "      <th>T.eur_09</th>\n",
       "      <td>0.436364</td>\n",
       "      <td>0.018182</td>\n",
       "      <td>0.527273</td>\n",
       "      <td>0.018182</td>\n",
       "      <td>0.0</td>\n",
       "    </tr>\n",
       "  </tbody>\n",
       "</table>\n",
       "</div>"
      ],
      "text/plain": [
       "                   1         2         3         4    5\n",
       "Individual                                             \n",
       "T.eur_02    0.060606  0.000000  0.939394  0.000000  0.0\n",
       "T.str_01    0.674419  0.290698  0.023256  0.011628  0.0\n",
       "A.nas_06    0.742857  0.171429  0.085714  0.000000  0.0\n",
       "O.dam_01    0.352941  0.000000  0.647059  0.000000  0.0\n",
       "T.eur_09    0.436364  0.018182  0.527273  0.018182  0.0"
      ]
     },
     "execution_count": 23,
     "metadata": {},
     "output_type": "execute_result"
    }
   ],
   "source": [
    "df_fingerprint.head()"
   ]
  },
  {
   "cell_type": "code",
   "execution_count": 24,
   "metadata": {},
   "outputs": [],
   "source": [
    "# Sanity Check:\n",
    "assert df_fingerprint.sum(axis = 1).apply(lambda x: np.isclose(x, 1)).all(), df_fingerprint.sum(axis = 1)\n",
    "## -!-> True"
   ]
  },
  {
   "cell_type": "code",
   "execution_count": 25,
   "metadata": {},
   "outputs": [],
   "source": [
    "# Replaces\n",
    "# pw_dist, pw_norm_dist = ClusteringApplier.calculate_pairwise_distances(\n",
    "#    df_fingerprint, list(config.OBSERVABLE_FEATURE_NAMES.keys()), config.DISTANCE_MEASURE_FINGERPRINT\n",
    "#)"
   ]
  },
  {
   "cell_type": "code",
   "execution_count": 26,
   "metadata": {},
   "outputs": [
    {
     "data": {
      "text/plain": [
       "['num_lhd', 'num_lying', 'perc_lhd', 'perc_lying']"
      ]
     },
     "execution_count": 26,
     "metadata": {},
     "output_type": "execute_result"
    }
   ],
   "source": [
    "feature_names = list(config.OBSERVABLE_FEATURE_NAMES.keys())\n",
    "feature_names"
   ]
  },
  {
   "cell_type": "code",
   "execution_count": 27,
   "metadata": {},
   "outputs": [
    {
     "data": {
      "text/html": [
       "<div>\n",
       "<style scoped>\n",
       "    .dataframe tbody tr th:only-of-type {\n",
       "        vertical-align: middle;\n",
       "    }\n",
       "\n",
       "    .dataframe tbody tr th {\n",
       "        vertical-align: top;\n",
       "    }\n",
       "\n",
       "    .dataframe thead th {\n",
       "        text-align: right;\n",
       "    }\n",
       "</style>\n",
       "<table border=\"1\" class=\"dataframe\">\n",
       "  <thead>\n",
       "    <tr style=\"text-align: right;\">\n",
       "      <th></th>\n",
       "      <th>1</th>\n",
       "      <th>2</th>\n",
       "      <th>3</th>\n",
       "      <th>4</th>\n",
       "      <th>5</th>\n",
       "    </tr>\n",
       "    <tr>\n",
       "      <th>Individual</th>\n",
       "      <th></th>\n",
       "      <th></th>\n",
       "      <th></th>\n",
       "      <th></th>\n",
       "      <th></th>\n",
       "    </tr>\n",
       "  </thead>\n",
       "  <tbody>\n",
       "    <tr>\n",
       "      <th>T.eur_02</th>\n",
       "      <td>0.060606</td>\n",
       "      <td>0.000000</td>\n",
       "      <td>0.939394</td>\n",
       "      <td>0.000000</td>\n",
       "      <td>0.000000</td>\n",
       "    </tr>\n",
       "    <tr>\n",
       "      <th>T.str_01</th>\n",
       "      <td>0.674419</td>\n",
       "      <td>0.290698</td>\n",
       "      <td>0.023256</td>\n",
       "      <td>0.011628</td>\n",
       "      <td>0.000000</td>\n",
       "    </tr>\n",
       "    <tr>\n",
       "      <th>A.nas_06</th>\n",
       "      <td>0.742857</td>\n",
       "      <td>0.171429</td>\n",
       "      <td>0.085714</td>\n",
       "      <td>0.000000</td>\n",
       "      <td>0.000000</td>\n",
       "    </tr>\n",
       "    <tr>\n",
       "      <th>O.dam_01</th>\n",
       "      <td>0.352941</td>\n",
       "      <td>0.000000</td>\n",
       "      <td>0.647059</td>\n",
       "      <td>0.000000</td>\n",
       "      <td>0.000000</td>\n",
       "    </tr>\n",
       "    <tr>\n",
       "      <th>T.eur_09</th>\n",
       "      <td>0.436364</td>\n",
       "      <td>0.018182</td>\n",
       "      <td>0.527273</td>\n",
       "      <td>0.018182</td>\n",
       "      <td>0.000000</td>\n",
       "    </tr>\n",
       "    <tr>\n",
       "      <th>...</th>\n",
       "      <td>...</td>\n",
       "      <td>...</td>\n",
       "      <td>...</td>\n",
       "      <td>...</td>\n",
       "      <td>...</td>\n",
       "    </tr>\n",
       "    <tr>\n",
       "      <th>C.tau_03</th>\n",
       "      <td>0.214286</td>\n",
       "      <td>0.625000</td>\n",
       "      <td>0.017857</td>\n",
       "      <td>0.142857</td>\n",
       "      <td>0.000000</td>\n",
       "    </tr>\n",
       "    <tr>\n",
       "      <th>E.gre_07</th>\n",
       "      <td>0.066667</td>\n",
       "      <td>0.000000</td>\n",
       "      <td>0.000000</td>\n",
       "      <td>0.066667</td>\n",
       "      <td>0.866667</td>\n",
       "    </tr>\n",
       "    <tr>\n",
       "      <th>E.qua_24</th>\n",
       "      <td>0.352941</td>\n",
       "      <td>0.147059</td>\n",
       "      <td>0.058824</td>\n",
       "      <td>0.205882</td>\n",
       "      <td>0.235294</td>\n",
       "    </tr>\n",
       "    <tr>\n",
       "      <th>A.nas_02</th>\n",
       "      <td>0.564516</td>\n",
       "      <td>0.032258</td>\n",
       "      <td>0.370968</td>\n",
       "      <td>0.032258</td>\n",
       "      <td>0.000000</td>\n",
       "    </tr>\n",
       "    <tr>\n",
       "      <th>T.ory_14</th>\n",
       "      <td>0.314286</td>\n",
       "      <td>0.514286</td>\n",
       "      <td>0.000000</td>\n",
       "      <td>0.171429</td>\n",
       "      <td>0.000000</td>\n",
       "    </tr>\n",
       "  </tbody>\n",
       "</table>\n",
       "<p>132 rows × 5 columns</p>\n",
       "</div>"
      ],
      "text/plain": [
       "                   1         2         3         4         5\n",
       "Individual                                                  \n",
       "T.eur_02    0.060606  0.000000  0.939394  0.000000  0.000000\n",
       "T.str_01    0.674419  0.290698  0.023256  0.011628  0.000000\n",
       "A.nas_06    0.742857  0.171429  0.085714  0.000000  0.000000\n",
       "O.dam_01    0.352941  0.000000  0.647059  0.000000  0.000000\n",
       "T.eur_09    0.436364  0.018182  0.527273  0.018182  0.000000\n",
       "...              ...       ...       ...       ...       ...\n",
       "C.tau_03    0.214286  0.625000  0.017857  0.142857  0.000000\n",
       "E.gre_07    0.066667  0.000000  0.000000  0.066667  0.866667\n",
       "E.qua_24    0.352941  0.147059  0.058824  0.205882  0.235294\n",
       "A.nas_02    0.564516  0.032258  0.370968  0.032258  0.000000\n",
       "T.ory_14    0.314286  0.514286  0.000000  0.171429  0.000000\n",
       "\n",
       "[132 rows x 5 columns]"
      ]
     },
     "execution_count": 27,
     "metadata": {},
     "output_type": "execute_result"
    }
   ],
   "source": [
    "df_fingerprint"
   ]
  },
  {
   "cell_type": "code",
   "execution_count": 28,
   "metadata": {},
   "outputs": [],
   "source": [
    "def calculate_pairwise_distances(\n",
    "        df: pd.DataFrame, distance: str\n",
    "    ) -> Tuple[pd.DataFrame, pd.DataFrame]:\n",
    "\n",
    "    if distance not in [\n",
    "        \"jensenshannon\",\n",
    "        \"euclidean\",\n",
    "        \"correlation\",\n",
    "    ]:\n",
    "        raise Exception(\n",
    "            \"Invalid distance measure used to measure similarity.\"\n",
    "        )\n",
    "    \n",
    "    distance_matrix: np.array = np.zeros((df.shape[0], df.shape[0]))\n",
    "\n",
    "    for grp_i in range(df.shape[0]): #zip(group_names, range(len(group_names))):\n",
    "        for grp_j in range(df.shape[0]): #zip(group_names, range(len(group_names))):        \n",
    "            fingerprint_1 = df.iloc[grp_i].to_numpy()\n",
    "            fingerprint_2 = df.iloc[grp_j].to_numpy()\n",
    "            # config.DISTANCE_MEASURE_FINGERPRINT --> distance\n",
    "            if distance == \"jensenshannon\":\n",
    "                dist: float = 1.0 * jensenshannon(fingerprint_1, fingerprint_2)\n",
    "            elif distance == \"correlation\":\n",
    "                dist = 1.0 * correlation(fingerprint_1, fingerprint_2)\n",
    "            else:\n",
    "                dist = 1.0 * euclidean(fingerprint_1, fingerprint_2)\n",
    "            distance_matrix[grp_i, grp_j] = dist\n",
    "\n",
    "    normalised_distance_matrix = distance_matrix / np.sum(distance_matrix)\n",
    "\n",
    "    return pd.DataFrame(\n",
    "        distance_matrix, columns=df.index, index=df.index\n",
    "    ), pd.DataFrame(\n",
    "        normalised_distance_matrix, columns=df.index, index=df.index, \n",
    "    )"
   ]
  },
  {
   "cell_type": "code",
   "execution_count": 29,
   "metadata": {},
   "outputs": [
    {
     "data": {
      "text/html": [
       "<div>\n",
       "<style scoped>\n",
       "    .dataframe tbody tr th:only-of-type {\n",
       "        vertical-align: middle;\n",
       "    }\n",
       "\n",
       "    .dataframe tbody tr th {\n",
       "        vertical-align: top;\n",
       "    }\n",
       "\n",
       "    .dataframe thead th {\n",
       "        text-align: right;\n",
       "    }\n",
       "</style>\n",
       "<table border=\"1\" class=\"dataframe\">\n",
       "  <thead>\n",
       "    <tr style=\"text-align: right;\">\n",
       "      <th></th>\n",
       "      <th>1</th>\n",
       "      <th>2</th>\n",
       "      <th>3</th>\n",
       "      <th>4</th>\n",
       "      <th>5</th>\n",
       "    </tr>\n",
       "    <tr>\n",
       "      <th>Individual</th>\n",
       "      <th></th>\n",
       "      <th></th>\n",
       "      <th></th>\n",
       "      <th></th>\n",
       "      <th></th>\n",
       "    </tr>\n",
       "  </thead>\n",
       "  <tbody>\n",
       "    <tr>\n",
       "      <th>T.eur_02</th>\n",
       "      <td>0.060606</td>\n",
       "      <td>0.000000</td>\n",
       "      <td>0.939394</td>\n",
       "      <td>0.000000</td>\n",
       "      <td>0.0</td>\n",
       "    </tr>\n",
       "    <tr>\n",
       "      <th>T.str_01</th>\n",
       "      <td>0.674419</td>\n",
       "      <td>0.290698</td>\n",
       "      <td>0.023256</td>\n",
       "      <td>0.011628</td>\n",
       "      <td>0.0</td>\n",
       "    </tr>\n",
       "    <tr>\n",
       "      <th>A.nas_06</th>\n",
       "      <td>0.742857</td>\n",
       "      <td>0.171429</td>\n",
       "      <td>0.085714</td>\n",
       "      <td>0.000000</td>\n",
       "      <td>0.0</td>\n",
       "    </tr>\n",
       "    <tr>\n",
       "      <th>O.dam_01</th>\n",
       "      <td>0.352941</td>\n",
       "      <td>0.000000</td>\n",
       "      <td>0.647059</td>\n",
       "      <td>0.000000</td>\n",
       "      <td>0.0</td>\n",
       "    </tr>\n",
       "    <tr>\n",
       "      <th>T.eur_09</th>\n",
       "      <td>0.436364</td>\n",
       "      <td>0.018182</td>\n",
       "      <td>0.527273</td>\n",
       "      <td>0.018182</td>\n",
       "      <td>0.0</td>\n",
       "    </tr>\n",
       "  </tbody>\n",
       "</table>\n",
       "</div>"
      ],
      "text/plain": [
       "                   1         2         3         4    5\n",
       "Individual                                             \n",
       "T.eur_02    0.060606  0.000000  0.939394  0.000000  0.0\n",
       "T.str_01    0.674419  0.290698  0.023256  0.011628  0.0\n",
       "A.nas_06    0.742857  0.171429  0.085714  0.000000  0.0\n",
       "O.dam_01    0.352941  0.000000  0.647059  0.000000  0.0\n",
       "T.eur_09    0.436364  0.018182  0.527273  0.018182  0.0"
      ]
     },
     "execution_count": 29,
     "metadata": {},
     "output_type": "execute_result"
    }
   ],
   "source": [
    "df_fingerprint.head()"
   ]
  },
  {
   "cell_type": "code",
   "execution_count": 30,
   "metadata": {},
   "outputs": [
    {
     "data": {
      "text/plain": [
       "['num_lhd', 'num_lying', 'perc_lhd', 'perc_lying']"
      ]
     },
     "execution_count": 30,
     "metadata": {},
     "output_type": "execute_result"
    }
   ],
   "source": [
    "list(config.OBSERVABLE_FEATURE_NAMES.keys())"
   ]
  },
  {
   "cell_type": "code",
   "execution_count": 31,
   "metadata": {},
   "outputs": [],
   "source": [
    "pw_dist, pw_norm_dist = calculate_pairwise_distances(\n",
    "    df_fingerprint, config.DISTANCE_MEASURE_FINGERPRINT, \n",
    ")"
   ]
  },
  {
   "cell_type": "code",
   "execution_count": 32,
   "metadata": {},
   "outputs": [],
   "source": [
    "# Simple Sanity Check: All self-distances stored in the diagonal must be zero\n",
    "assert np.isclose(np.diag(pw_norm_dist.to_numpy()), 0.).all(), f'Not all self-distances are zero: {np.diag(pw_norm_dist.to_numpy())}'"
   ]
  },
  {
   "cell_type": "code",
   "execution_count": 33,
   "metadata": {},
   "outputs": [
    {
     "data": {
      "text/html": [
       "<div>\n",
       "<style scoped>\n",
       "    .dataframe tbody tr th:only-of-type {\n",
       "        vertical-align: middle;\n",
       "    }\n",
       "\n",
       "    .dataframe tbody tr th {\n",
       "        vertical-align: top;\n",
       "    }\n",
       "\n",
       "    .dataframe thead th {\n",
       "        text-align: right;\n",
       "    }\n",
       "</style>\n",
       "<table border=\"1\" class=\"dataframe\">\n",
       "  <thead>\n",
       "    <tr style=\"text-align: right;\">\n",
       "      <th>Individual</th>\n",
       "      <th>T.eur_02</th>\n",
       "      <th>T.str_01</th>\n",
       "      <th>A.nas_06</th>\n",
       "      <th>O.dam_01</th>\n",
       "      <th>T.eur_09</th>\n",
       "      <th>C.tau_02</th>\n",
       "      <th>R.ful_01</th>\n",
       "      <th>D.pyg_12</th>\n",
       "      <th>C.sim_4</th>\n",
       "      <th>H.equ_02</th>\n",
       "      <th>...</th>\n",
       "      <th>E.zeb_02</th>\n",
       "      <th>C.tau_17</th>\n",
       "      <th>K.ell_01</th>\n",
       "      <th>K.ell_16</th>\n",
       "      <th>E.qua_10</th>\n",
       "      <th>C.tau_03</th>\n",
       "      <th>E.gre_07</th>\n",
       "      <th>E.qua_24</th>\n",
       "      <th>A.nas_02</th>\n",
       "      <th>T.ory_14</th>\n",
       "    </tr>\n",
       "    <tr>\n",
       "      <th>Individual</th>\n",
       "      <th></th>\n",
       "      <th></th>\n",
       "      <th></th>\n",
       "      <th></th>\n",
       "      <th></th>\n",
       "      <th></th>\n",
       "      <th></th>\n",
       "      <th></th>\n",
       "      <th></th>\n",
       "      <th></th>\n",
       "      <th></th>\n",
       "      <th></th>\n",
       "      <th></th>\n",
       "      <th></th>\n",
       "      <th></th>\n",
       "      <th></th>\n",
       "      <th></th>\n",
       "      <th></th>\n",
       "      <th></th>\n",
       "      <th></th>\n",
       "      <th></th>\n",
       "    </tr>\n",
       "  </thead>\n",
       "  <tbody>\n",
       "    <tr>\n",
       "      <th>T.eur_02</th>\n",
       "      <td>0.000000</td>\n",
       "      <td>0.000103</td>\n",
       "      <td>0.000093</td>\n",
       "      <td>0.000037</td>\n",
       "      <td>0.000049</td>\n",
       "      <td>0.000020</td>\n",
       "      <td>0.000080</td>\n",
       "      <td>0.000066</td>\n",
       "      <td>0.000028</td>\n",
       "      <td>0.000005</td>\n",
       "      <td>...</td>\n",
       "      <td>0.000062</td>\n",
       "      <td>0.000021</td>\n",
       "      <td>0.000052</td>\n",
       "      <td>0.000013</td>\n",
       "      <td>0.000039</td>\n",
       "      <td>0.000107</td>\n",
       "      <td>0.000113</td>\n",
       "      <td>0.000099</td>\n",
       "      <td>0.000064</td>\n",
       "      <td>0.000110</td>\n",
       "    </tr>\n",
       "    <tr>\n",
       "      <th>T.str_01</th>\n",
       "      <td>0.000103</td>\n",
       "      <td>0.000000</td>\n",
       "      <td>0.000021</td>\n",
       "      <td>0.000079</td>\n",
       "      <td>0.000067</td>\n",
       "      <td>0.000089</td>\n",
       "      <td>0.000043</td>\n",
       "      <td>0.000047</td>\n",
       "      <td>0.000097</td>\n",
       "      <td>0.000106</td>\n",
       "      <td>...</td>\n",
       "      <td>0.000052</td>\n",
       "      <td>0.000090</td>\n",
       "      <td>0.000061</td>\n",
       "      <td>0.000101</td>\n",
       "      <td>0.000074</td>\n",
       "      <td>0.000050</td>\n",
       "      <td>0.000106</td>\n",
       "      <td>0.000059</td>\n",
       "      <td>0.000056</td>\n",
       "      <td>0.000044</td>\n",
       "    </tr>\n",
       "    <tr>\n",
       "      <th>A.nas_06</th>\n",
       "      <td>0.000093</td>\n",
       "      <td>0.000021</td>\n",
       "      <td>0.000000</td>\n",
       "      <td>0.000066</td>\n",
       "      <td>0.000055</td>\n",
       "      <td>0.000078</td>\n",
       "      <td>0.000041</td>\n",
       "      <td>0.000032</td>\n",
       "      <td>0.000089</td>\n",
       "      <td>0.000096</td>\n",
       "      <td>...</td>\n",
       "      <td>0.000037</td>\n",
       "      <td>0.000078</td>\n",
       "      <td>0.000048</td>\n",
       "      <td>0.000092</td>\n",
       "      <td>0.000061</td>\n",
       "      <td>0.000064</td>\n",
       "      <td>0.000107</td>\n",
       "      <td>0.000061</td>\n",
       "      <td>0.000043</td>\n",
       "      <td>0.000060</td>\n",
       "    </tr>\n",
       "    <tr>\n",
       "      <th>O.dam_01</th>\n",
       "      <td>0.000037</td>\n",
       "      <td>0.000079</td>\n",
       "      <td>0.000066</td>\n",
       "      <td>0.000000</td>\n",
       "      <td>0.000019</td>\n",
       "      <td>0.000025</td>\n",
       "      <td>0.000060</td>\n",
       "      <td>0.000038</td>\n",
       "      <td>0.000039</td>\n",
       "      <td>0.000042</td>\n",
       "      <td>...</td>\n",
       "      <td>0.000034</td>\n",
       "      <td>0.000017</td>\n",
       "      <td>0.000024</td>\n",
       "      <td>0.000042</td>\n",
       "      <td>0.000014</td>\n",
       "      <td>0.000096</td>\n",
       "      <td>0.000109</td>\n",
       "      <td>0.000083</td>\n",
       "      <td>0.000033</td>\n",
       "      <td>0.000096</td>\n",
       "    </tr>\n",
       "    <tr>\n",
       "      <th>T.eur_09</th>\n",
       "      <td>0.000049</td>\n",
       "      <td>0.000067</td>\n",
       "      <td>0.000055</td>\n",
       "      <td>0.000019</td>\n",
       "      <td>0.000000</td>\n",
       "      <td>0.000033</td>\n",
       "      <td>0.000047</td>\n",
       "      <td>0.000028</td>\n",
       "      <td>0.000043</td>\n",
       "      <td>0.000053</td>\n",
       "      <td>...</td>\n",
       "      <td>0.000023</td>\n",
       "      <td>0.000031</td>\n",
       "      <td>0.000016</td>\n",
       "      <td>0.000050</td>\n",
       "      <td>0.000015</td>\n",
       "      <td>0.000087</td>\n",
       "      <td>0.000107</td>\n",
       "      <td>0.000073</td>\n",
       "      <td>0.000016</td>\n",
       "      <td>0.000085</td>\n",
       "    </tr>\n",
       "  </tbody>\n",
       "</table>\n",
       "<p>5 rows × 132 columns</p>\n",
       "</div>"
      ],
      "text/plain": [
       "Individual  T.eur_02  T.str_01  A.nas_06  O.dam_01  T.eur_09  C.tau_02  \\\n",
       "Individual                                                               \n",
       "T.eur_02    0.000000  0.000103  0.000093  0.000037  0.000049  0.000020   \n",
       "T.str_01    0.000103  0.000000  0.000021  0.000079  0.000067  0.000089   \n",
       "A.nas_06    0.000093  0.000021  0.000000  0.000066  0.000055  0.000078   \n",
       "O.dam_01    0.000037  0.000079  0.000066  0.000000  0.000019  0.000025   \n",
       "T.eur_09    0.000049  0.000067  0.000055  0.000019  0.000000  0.000033   \n",
       "\n",
       "Individual  R.ful_01  D.pyg_12   C.sim_4  H.equ_02  ...  E.zeb_02  C.tau_17  \\\n",
       "Individual                                          ...                       \n",
       "T.eur_02    0.000080  0.000066  0.000028  0.000005  ...  0.000062  0.000021   \n",
       "T.str_01    0.000043  0.000047  0.000097  0.000106  ...  0.000052  0.000090   \n",
       "A.nas_06    0.000041  0.000032  0.000089  0.000096  ...  0.000037  0.000078   \n",
       "O.dam_01    0.000060  0.000038  0.000039  0.000042  ...  0.000034  0.000017   \n",
       "T.eur_09    0.000047  0.000028  0.000043  0.000053  ...  0.000023  0.000031   \n",
       "\n",
       "Individual  K.ell_01  K.ell_16  E.qua_10  C.tau_03  E.gre_07  E.qua_24  \\\n",
       "Individual                                                               \n",
       "T.eur_02    0.000052  0.000013  0.000039  0.000107  0.000113  0.000099   \n",
       "T.str_01    0.000061  0.000101  0.000074  0.000050  0.000106  0.000059   \n",
       "A.nas_06    0.000048  0.000092  0.000061  0.000064  0.000107  0.000061   \n",
       "O.dam_01    0.000024  0.000042  0.000014  0.000096  0.000109  0.000083   \n",
       "T.eur_09    0.000016  0.000050  0.000015  0.000087  0.000107  0.000073   \n",
       "\n",
       "Individual  A.nas_02  T.ory_14  \n",
       "Individual                      \n",
       "T.eur_02    0.000064  0.000110  \n",
       "T.str_01    0.000056  0.000044  \n",
       "A.nas_06    0.000043  0.000060  \n",
       "O.dam_01    0.000033  0.000096  \n",
       "T.eur_09    0.000016  0.000085  \n",
       "\n",
       "[5 rows x 132 columns]"
      ]
     },
     "execution_count": 33,
     "metadata": {},
     "output_type": "execute_result"
    }
   ],
   "source": [
    "pw_norm_dist.head()"
   ]
  },
  {
   "cell_type": "code",
   "execution_count": 34,
   "metadata": {},
   "outputs": [],
   "source": [
    "ClusteringApplier._plot_dendrogram_by_distance_matrix(\n",
    "    pw_norm_dist.to_numpy(),\n",
    "    labels=pw_norm_dist.columns,\n",
    "    x_label=config.GROUP_NAME,\n",
    "    y_label=\"Distance of fingerprints\",\n",
    "    title=\"\",\n",
    ")"
   ]
  },
  {
   "cell_type": "code",
   "execution_count": 35,
   "metadata": {},
   "outputs": [],
   "source": [
    "# write output\n",
    "output_path = f\"{config.OUTPUT_FOLDER_BASE}observables/\"\n",
    "if not os.path.exists(output_path):\n",
    "    os.makedirs(output_path)\n",
    "\n",
    "df_cluster_median.to_excel(\n",
    "    f\"{output_path}{config.DATASET_NAME}-observable-patterns-{config.NUMBER_OBSERVABLE_PATTERNS}.xlsx\",\n",
    "    index_label=\"pattern_type\",\n",
    ")\n",
    "df_observable_data.to_excel(\n",
    "    f\"{output_path}{config.DATASET_NAME}-cluster_assignment-{config.NUMBER_OBSERVABLE_PATTERNS}.xlsx\",\n",
    "    index=True # ?\n",
    ")\n",
    "df_fingerprint.to_excel(\n",
    "    f\"{output_path}{config.DATASET_NAME}-fingerprint-observables-{config.NUMBER_OBSERVABLE_PATTERNS}.xlsx\",\n",
    "    index=True # ?\n",
    ")\n",
    "pw_dist.to_excel(\n",
    "    f\"{output_path}{config.DATASET_NAME}-distance-matrix-{config.DISTANCE_MEASURE_FINGERPRINT}-{config.NUMBER_OBSERVABLE_PATTERNS}.xlsx\"\n",
    ")\n",
    "pw_norm_dist.to_excel(\n",
    "    f\"{output_path}{config.DATASET_NAME}-distance-normalized-matrix-{config.DISTANCE_MEASURE_FINGERPRINT}-{config.NUMBER_OBSERVABLE_PATTERNS}.xlsx\",\n",
    "    index=True\n",
    ")"
   ]
  },
  {
   "cell_type": "code",
   "execution_count": 36,
   "metadata": {},
   "outputs": [
    {
     "data": {
      "text/plain": [
       "'ResultVisualizer.plot_simple_radar_chart(\\n    observable_patterns=[\\n        df_cluster_median.loc[row, :].to_list()\\n        for row in sorted(df_cluster_median.index)\\n    ],\\n    observable_labels=list(config.OBSERVABLE_FEATURE_NAMES.keys()),\\n)'"
      ]
     },
     "execution_count": 36,
     "metadata": {},
     "output_type": "execute_result"
    }
   ],
   "source": [
    "from visualize_result import ResultVisualizer\n",
    "\n",
    "'''ResultVisualizer.plot_simple_radar_chart(\n",
    "    observable_patterns=[\n",
    "        df_cluster_median.loc[row, :].to_list()\n",
    "        for row in sorted(df_cluster_median.index)\n",
    "    ],\n",
    "    observable_labels=list(config.OBSERVABLE_FEATURE_NAMES.keys()),\n",
    ")'''"
   ]
  },
  {
   "cell_type": "code",
   "execution_count": 37,
   "metadata": {},
   "outputs": [
    {
     "data": {
      "text/plain": [
       "['num_lhd', 'num_lying', 'perc_lhd', 'perc_lying']"
      ]
     },
     "execution_count": 37,
     "metadata": {},
     "output_type": "execute_result"
    }
   ],
   "source": [
    "#tst = [[1,0,0,0], [0,1,0,0], [0,0,0,1], [0,0,1,0]]\n",
    "tst = np.array([\n",
    "        df_cluster_median.loc[row, :].to_list()\n",
    "        for row in sorted(df_cluster_median.index)\n",
    "    ])\n",
    "observable_labels=list(config.OBSERVABLE_FEATURE_NAMES.keys())\n",
    "observable_labels"
   ]
  },
  {
   "cell_type": "code",
   "execution_count": 38,
   "metadata": {},
   "outputs": [],
   "source": [
    "# Vorher nochmal jedes Feature \n",
    "observable_patterns = tst / tst.sum(axis=0)\n"
   ]
  },
  {
   "cell_type": "code",
   "execution_count": 39,
   "metadata": {},
   "outputs": [],
   "source": [
    "import matplotlib.pyplot as plt\n",
    "import plotly.express as px\n",
    "import plotly.graph_objects as go\n",
    "from plotly.subplots import make_subplots\n",
    "\n",
    "max_fingerprints_per_col = 3\n",
    "\n",
    "num_rows = int(np.ceil(len(observable_patterns)/max_fingerprints_per_col))\n",
    "num_cols = min(len(observable_patterns), max_fingerprints_per_col)\n",
    "\n",
    "fig = make_subplots(rows=num_rows, cols=num_cols, specs=[[{'type': 'polar'}]*num_cols]*num_rows, horizontal_spacing=0.2, vertical_spacing=0.0)\n",
    "\n",
    "for j in range(len(observable_patterns)):\n",
    "    row = j // max_fingerprints_per_col + 1\n",
    "    col = j % num_cols + 1\n",
    "    current_pattern: np.array = np.array(observable_patterns[j]) / np.sum(\n",
    "        np.array(observable_patterns[j])\n",
    "    )\n",
    "    fig.add_scatterpolar(r=current_pattern, theta=observable_labels, fill=\"toself\", row=row, col=col)\n",
    "\n",
    "fig.update_layout(\n",
    "    showlegend=False,\n",
    "    plot_bgcolor=\"rgba(0, 0, 0, 0)\",\n",
    "    paper_bgcolor=\"rgba(0, 0, 0, 0)\",\n",
    "    title=config.OBSERVABLE_PATTERN_NAME_PLURAL,\n",
    ")\n",
    "\n",
    "fig.update_polars(dict(radialaxis=dict(visible=True, range=[0,1], showticklabels=False)))\n",
    " # range = [0, 1] !\n",
    "fig.update_layout(height=800, width=800)\n",
    "\n",
    "fig.write_image('tst.png', engine='kaleido')\n"
   ]
  },
  {
   "cell_type": "code",
   "execution_count": 40,
   "metadata": {},
   "outputs": [
    {
     "data": {
      "text/plain": [
       "Ellipsis"
      ]
     },
     "execution_count": 40,
     "metadata": {},
     "output_type": "execute_result"
    }
   ],
   "source": [
    "..."
   ]
  },
  {
   "cell_type": "code",
   "execution_count": 41,
   "metadata": {},
   "outputs": [
    {
     "data": {
      "text/plain": [
       "True"
      ]
     },
     "execution_count": 41,
     "metadata": {},
     "output_type": "execute_result"
    }
   ],
   "source": [
    "import warnings\n",
    "\n",
    "try:\n",
    "    import kaleido\n",
    "except:\n",
    "    warnings.warn('kaleido not found, try pip install --upgrade \"kaleido==0.1.*\"')\n",
    "\n",
    "if kaleido.__version__ != '0.1.0.post1':\n",
    "    warnings.warn(f'kaleido version {kaleido.__version__} may not be able to save the resulting plots, if you encounter problems try using version 0.1.0.post1 instead')\n"
   ]
  },
  {
   "cell_type": "code",
   "execution_count": 42,
   "metadata": {},
   "outputs": [],
   "source": []
  },
  {
   "cell_type": "code",
   "execution_count": null,
   "metadata": {},
   "outputs": [],
   "source": []
  }
 ],
 "metadata": {
  "kernelspec": {
   "display_name": "Python 3",
   "language": "python",
   "name": "python3"
  },
  "language_info": {
   "codemirror_mode": {
    "name": "ipython",
    "version": 3
   },
   "file_extension": ".py",
   "mimetype": "text/x-python",
   "name": "python",
   "nbconvert_exporter": "python",
   "pygments_lexer": "ipython3",
   "version": "3.12.3"
  }
 },
 "nbformat": 4,
 "nbformat_minor": 2
}
